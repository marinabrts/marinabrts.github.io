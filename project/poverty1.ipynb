{
  "nbformat": 4,
  "nbformat_minor": 0,
  "metadata": {
    "colab": {
      "name": "poverty1.ipynb",
      "provenance": [],
      "authorship_tag": "ABX9TyMjs50mA7N/mISwi5AgYILp",
      "include_colab_link": true
    },
    "kernelspec": {
      "name": "python3",
      "display_name": "Python 3"
    },
    "language_info": {
      "name": "python"
    }
  },
  "cells": [
    {
      "cell_type": "markdown",
      "metadata": {
        "id": "view-in-github",
        "colab_type": "text"
      },
      "source": [
        "<a href=\"https://colab.research.google.com/github/marinabrts/marinabrts.github.io/blob/project/poverty1.ipynb\" target=\"_parent\"><img src=\"https://colab.research.google.com/assets/colab-badge.svg\" alt=\"Open In Colab\"/></a>"
      ]
    },
    {
      "cell_type": "code",
      "metadata": {
        "id": "nqLwvZsSWvag"
      },
      "source": [
        "import pandas as pd"
      ],
      "execution_count": 1,
      "outputs": []
    },
    {
      "cell_type": "code",
      "metadata": {
        "id": "8THmtIiOWxs0"
      },
      "source": [
        "table=pd.read_html('https://en.wikipedia.org/wiki/List_of_countries_by_percentage_of_population_living_in_poverty')"
      ],
      "execution_count": 2,
      "outputs": []
    },
    {
      "cell_type": "code",
      "metadata": {
        "id": "qt6uJsFCW58S"
      },
      "source": [
        "df=table[0]"
      ],
      "execution_count": 3,
      "outputs": []
    },
    {
      "cell_type": "code",
      "metadata": {
        "colab": {
          "base_uri": "https://localhost:8080/",
          "height": 204
        },
        "id": "zINKPP_DXMBu",
        "outputId": "2ef4edd3-7bf2-4f30-fbd3-4b82d4df58f0"
      },
      "source": [
        "df.head(5)"
      ],
      "execution_count": 4,
      "outputs": [
        {
          "output_type": "execute_result",
          "data": {
            "text/html": [
              "<div>\n",
              "<style scoped>\n",
              "    .dataframe tbody tr th:only-of-type {\n",
              "        vertical-align: middle;\n",
              "    }\n",
              "\n",
              "    .dataframe tbody tr th {\n",
              "        vertical-align: top;\n",
              "    }\n",
              "\n",
              "    .dataframe thead th {\n",
              "        text-align: right;\n",
              "    }\n",
              "</style>\n",
              "<table border=\"1\" class=\"dataframe\">\n",
              "  <thead>\n",
              "    <tr style=\"text-align: right;\">\n",
              "      <th></th>\n",
              "      <th>Country</th>\n",
              "      <th>&lt; $1.90[8][1]</th>\n",
              "      <th>&lt; $3.20[6]</th>\n",
              "      <th>&lt; $5.50[7]</th>\n",
              "      <th>Year</th>\n",
              "      <th>Continent</th>\n",
              "    </tr>\n",
              "  </thead>\n",
              "  <tbody>\n",
              "    <tr>\n",
              "      <th>0</th>\n",
              "      <td>Albania</td>\n",
              "      <td>1.3%</td>\n",
              "      <td>8.2%</td>\n",
              "      <td>33.8%</td>\n",
              "      <td>2017</td>\n",
              "      <td>Europe</td>\n",
              "    </tr>\n",
              "    <tr>\n",
              "      <th>1</th>\n",
              "      <td>Algeria</td>\n",
              "      <td>0.4%</td>\n",
              "      <td>3.7%</td>\n",
              "      <td>28.6%</td>\n",
              "      <td>2011</td>\n",
              "      <td>Africa</td>\n",
              "    </tr>\n",
              "    <tr>\n",
              "      <th>2</th>\n",
              "      <td>Angola</td>\n",
              "      <td>49.9%</td>\n",
              "      <td>72.0%</td>\n",
              "      <td>89.3%</td>\n",
              "      <td>2018</td>\n",
              "      <td>Africa</td>\n",
              "    </tr>\n",
              "    <tr>\n",
              "      <th>3</th>\n",
              "      <td>Argentina</td>\n",
              "      <td>1.5%</td>\n",
              "      <td>5.0%</td>\n",
              "      <td>14.0%</td>\n",
              "      <td>2019</td>\n",
              "      <td>South America</td>\n",
              "    </tr>\n",
              "    <tr>\n",
              "      <th>4</th>\n",
              "      <td>Armenia</td>\n",
              "      <td>1.1%</td>\n",
              "      <td>10.0%</td>\n",
              "      <td>44.0%</td>\n",
              "      <td>2019</td>\n",
              "      <td>Asia</td>\n",
              "    </tr>\n",
              "  </tbody>\n",
              "</table>\n",
              "</div>"
            ],
            "text/plain": [
              "     Country < $1.90[8][1] < $3.20[6] < $5.50[7]  Year      Continent\n",
              "0    Albania          1.3%       8.2%      33.8%  2017         Europe\n",
              "1    Algeria          0.4%       3.7%      28.6%  2011         Africa\n",
              "2     Angola         49.9%      72.0%      89.3%  2018         Africa\n",
              "3  Argentina          1.5%       5.0%      14.0%  2019  South America\n",
              "4    Armenia          1.1%      10.0%      44.0%  2019           Asia"
            ]
          },
          "metadata": {},
          "execution_count": 4
        }
      ]
    },
    {
      "cell_type": "code",
      "metadata": {
        "id": "_RQ-YUFdW8xY"
      },
      "source": [
        "df.columns=['Country','< $1.90','< $3.20','< $5.50','Year','Continent']"
      ],
      "execution_count": 5,
      "outputs": []
    },
    {
      "cell_type": "code",
      "metadata": {
        "colab": {
          "base_uri": "https://localhost:8080/",
          "height": 419
        },
        "id": "PAyVvu5HXoEW",
        "outputId": "85941e5e-05e3-41cc-cada-9dafcd4978a9"
      },
      "source": [
        "df"
      ],
      "execution_count": 6,
      "outputs": [
        {
          "output_type": "execute_result",
          "data": {
            "text/html": [
              "<div>\n",
              "<style scoped>\n",
              "    .dataframe tbody tr th:only-of-type {\n",
              "        vertical-align: middle;\n",
              "    }\n",
              "\n",
              "    .dataframe tbody tr th {\n",
              "        vertical-align: top;\n",
              "    }\n",
              "\n",
              "    .dataframe thead th {\n",
              "        text-align: right;\n",
              "    }\n",
              "</style>\n",
              "<table border=\"1\" class=\"dataframe\">\n",
              "  <thead>\n",
              "    <tr style=\"text-align: right;\">\n",
              "      <th></th>\n",
              "      <th>Country</th>\n",
              "      <th>&lt; $1.90</th>\n",
              "      <th>&lt; $3.20</th>\n",
              "      <th>&lt; $5.50</th>\n",
              "      <th>Year</th>\n",
              "      <th>Continent</th>\n",
              "    </tr>\n",
              "  </thead>\n",
              "  <tbody>\n",
              "    <tr>\n",
              "      <th>0</th>\n",
              "      <td>Albania</td>\n",
              "      <td>1.3%</td>\n",
              "      <td>8.2%</td>\n",
              "      <td>33.8%</td>\n",
              "      <td>2017</td>\n",
              "      <td>Europe</td>\n",
              "    </tr>\n",
              "    <tr>\n",
              "      <th>1</th>\n",
              "      <td>Algeria</td>\n",
              "      <td>0.4%</td>\n",
              "      <td>3.7%</td>\n",
              "      <td>28.6%</td>\n",
              "      <td>2011</td>\n",
              "      <td>Africa</td>\n",
              "    </tr>\n",
              "    <tr>\n",
              "      <th>2</th>\n",
              "      <td>Angola</td>\n",
              "      <td>49.9%</td>\n",
              "      <td>72.0%</td>\n",
              "      <td>89.3%</td>\n",
              "      <td>2018</td>\n",
              "      <td>Africa</td>\n",
              "    </tr>\n",
              "    <tr>\n",
              "      <th>3</th>\n",
              "      <td>Argentina</td>\n",
              "      <td>1.5%</td>\n",
              "      <td>5.0%</td>\n",
              "      <td>14.0%</td>\n",
              "      <td>2019</td>\n",
              "      <td>South America</td>\n",
              "    </tr>\n",
              "    <tr>\n",
              "      <th>4</th>\n",
              "      <td>Armenia</td>\n",
              "      <td>1.1%</td>\n",
              "      <td>10.0%</td>\n",
              "      <td>44.0%</td>\n",
              "      <td>2019</td>\n",
              "      <td>Asia</td>\n",
              "    </tr>\n",
              "    <tr>\n",
              "      <th>...</th>\n",
              "      <td>...</td>\n",
              "      <td>...</td>\n",
              "      <td>...</td>\n",
              "      <td>...</td>\n",
              "      <td>...</td>\n",
              "      <td>...</td>\n",
              "    </tr>\n",
              "    <tr>\n",
              "      <th>159</th>\n",
              "      <td>Venezuela</td>\n",
              "      <td>6.7%</td>\n",
              "      <td>14.0%</td>\n",
              "      <td>33.0%</td>\n",
              "      <td>2006</td>\n",
              "      <td>South America</td>\n",
              "    </tr>\n",
              "    <tr>\n",
              "      <th>160</th>\n",
              "      <td>Vietnam</td>\n",
              "      <td>1.8%</td>\n",
              "      <td>7.0%</td>\n",
              "      <td>22.0%</td>\n",
              "      <td>2018</td>\n",
              "      <td>Asia</td>\n",
              "    </tr>\n",
              "    <tr>\n",
              "      <th>161</th>\n",
              "      <td>Yemen</td>\n",
              "      <td>18.3%</td>\n",
              "      <td>51.0%</td>\n",
              "      <td>81.6%</td>\n",
              "      <td>2014</td>\n",
              "      <td>Asia</td>\n",
              "    </tr>\n",
              "    <tr>\n",
              "      <th>162</th>\n",
              "      <td>Zambia</td>\n",
              "      <td>58.7%</td>\n",
              "      <td>75.0%</td>\n",
              "      <td>88.0%</td>\n",
              "      <td>2015</td>\n",
              "      <td>Africa</td>\n",
              "    </tr>\n",
              "    <tr>\n",
              "      <th>163</th>\n",
              "      <td>Zimbabwe</td>\n",
              "      <td>39.5%</td>\n",
              "      <td>64.0%</td>\n",
              "      <td>83.0%</td>\n",
              "      <td>2019</td>\n",
              "      <td>Africa</td>\n",
              "    </tr>\n",
              "  </tbody>\n",
              "</table>\n",
              "<p>164 rows × 6 columns</p>\n",
              "</div>"
            ],
            "text/plain": [
              "       Country < $1.90 < $3.20 < $5.50  Year      Continent\n",
              "0      Albania    1.3%    8.2%   33.8%  2017         Europe\n",
              "1      Algeria    0.4%    3.7%   28.6%  2011         Africa\n",
              "2       Angola   49.9%   72.0%   89.3%  2018         Africa\n",
              "3    Argentina    1.5%    5.0%   14.0%  2019  South America\n",
              "4      Armenia    1.1%   10.0%   44.0%  2019           Asia\n",
              "..         ...     ...     ...     ...   ...            ...\n",
              "159  Venezuela    6.7%   14.0%   33.0%  2006  South America\n",
              "160    Vietnam    1.8%    7.0%   22.0%  2018           Asia\n",
              "161      Yemen   18.3%   51.0%   81.6%  2014           Asia\n",
              "162     Zambia   58.7%   75.0%   88.0%  2015         Africa\n",
              "163   Zimbabwe   39.5%   64.0%   83.0%  2019         Africa\n",
              "\n",
              "[164 rows x 6 columns]"
            ]
          },
          "metadata": {},
          "execution_count": 6
        }
      ]
    },
    {
      "cell_type": "code",
      "metadata": {
        "id": "Pa-E-GHYZCGO"
      },
      "source": [
        "data=df[[\"Country\",\"< $5.50\", \"Continent\"]]"
      ],
      "execution_count": 7,
      "outputs": []
    },
    {
      "cell_type": "code",
      "metadata": {
        "colab": {
          "base_uri": "https://localhost:8080/",
          "height": 419
        },
        "id": "BV0vg_EsZ0S0",
        "outputId": "f79dd626-6413-4442-90e9-6e02402915da"
      },
      "source": [
        "data"
      ],
      "execution_count": 8,
      "outputs": [
        {
          "output_type": "execute_result",
          "data": {
            "text/html": [
              "<div>\n",
              "<style scoped>\n",
              "    .dataframe tbody tr th:only-of-type {\n",
              "        vertical-align: middle;\n",
              "    }\n",
              "\n",
              "    .dataframe tbody tr th {\n",
              "        vertical-align: top;\n",
              "    }\n",
              "\n",
              "    .dataframe thead th {\n",
              "        text-align: right;\n",
              "    }\n",
              "</style>\n",
              "<table border=\"1\" class=\"dataframe\">\n",
              "  <thead>\n",
              "    <tr style=\"text-align: right;\">\n",
              "      <th></th>\n",
              "      <th>Country</th>\n",
              "      <th>&lt; $5.50</th>\n",
              "      <th>Continent</th>\n",
              "    </tr>\n",
              "  </thead>\n",
              "  <tbody>\n",
              "    <tr>\n",
              "      <th>0</th>\n",
              "      <td>Albania</td>\n",
              "      <td>33.8%</td>\n",
              "      <td>Europe</td>\n",
              "    </tr>\n",
              "    <tr>\n",
              "      <th>1</th>\n",
              "      <td>Algeria</td>\n",
              "      <td>28.6%</td>\n",
              "      <td>Africa</td>\n",
              "    </tr>\n",
              "    <tr>\n",
              "      <th>2</th>\n",
              "      <td>Angola</td>\n",
              "      <td>89.3%</td>\n",
              "      <td>Africa</td>\n",
              "    </tr>\n",
              "    <tr>\n",
              "      <th>3</th>\n",
              "      <td>Argentina</td>\n",
              "      <td>14.0%</td>\n",
              "      <td>South America</td>\n",
              "    </tr>\n",
              "    <tr>\n",
              "      <th>4</th>\n",
              "      <td>Armenia</td>\n",
              "      <td>44.0%</td>\n",
              "      <td>Asia</td>\n",
              "    </tr>\n",
              "    <tr>\n",
              "      <th>...</th>\n",
              "      <td>...</td>\n",
              "      <td>...</td>\n",
              "      <td>...</td>\n",
              "    </tr>\n",
              "    <tr>\n",
              "      <th>159</th>\n",
              "      <td>Venezuela</td>\n",
              "      <td>33.0%</td>\n",
              "      <td>South America</td>\n",
              "    </tr>\n",
              "    <tr>\n",
              "      <th>160</th>\n",
              "      <td>Vietnam</td>\n",
              "      <td>22.0%</td>\n",
              "      <td>Asia</td>\n",
              "    </tr>\n",
              "    <tr>\n",
              "      <th>161</th>\n",
              "      <td>Yemen</td>\n",
              "      <td>81.6%</td>\n",
              "      <td>Asia</td>\n",
              "    </tr>\n",
              "    <tr>\n",
              "      <th>162</th>\n",
              "      <td>Zambia</td>\n",
              "      <td>88.0%</td>\n",
              "      <td>Africa</td>\n",
              "    </tr>\n",
              "    <tr>\n",
              "      <th>163</th>\n",
              "      <td>Zimbabwe</td>\n",
              "      <td>83.0%</td>\n",
              "      <td>Africa</td>\n",
              "    </tr>\n",
              "  </tbody>\n",
              "</table>\n",
              "<p>164 rows × 3 columns</p>\n",
              "</div>"
            ],
            "text/plain": [
              "       Country < $5.50      Continent\n",
              "0      Albania   33.8%         Europe\n",
              "1      Algeria   28.6%         Africa\n",
              "2       Angola   89.3%         Africa\n",
              "3    Argentina   14.0%  South America\n",
              "4      Armenia   44.0%           Asia\n",
              "..         ...     ...            ...\n",
              "159  Venezuela   33.0%  South America\n",
              "160    Vietnam   22.0%           Asia\n",
              "161      Yemen   81.6%           Asia\n",
              "162     Zambia   88.0%         Africa\n",
              "163   Zimbabwe   83.0%         Africa\n",
              "\n",
              "[164 rows x 3 columns]"
            ]
          },
          "metadata": {},
          "execution_count": 8
        }
      ]
    },
    {
      "cell_type": "code",
      "metadata": {
        "id": "LXE7cYDFaV9B"
      },
      "source": [
        "data.to_csv(\"poverty1_csv\")"
      ],
      "execution_count": 11,
      "outputs": []
    },
    {
      "cell_type": "code",
      "metadata": {
        "id": "C82SR5CebNzm"
      },
      "source": [
        "from google.colab import files"
      ],
      "execution_count": 10,
      "outputs": []
    },
    {
      "cell_type": "code",
      "metadata": {
        "colab": {
          "base_uri": "https://localhost:8080/",
          "height": 17
        },
        "id": "iTN8kFK6bZOp",
        "outputId": "c5f60bad-bc80-472e-918c-cd755dc30e19"
      },
      "source": [
        "files.download(\"poverty1_csv\")"
      ],
      "execution_count": 12,
      "outputs": [
        {
          "output_type": "display_data",
          "data": {
            "application/javascript": [
              "\n",
              "    async function download(id, filename, size) {\n",
              "      if (!google.colab.kernel.accessAllowed) {\n",
              "        return;\n",
              "      }\n",
              "      const div = document.createElement('div');\n",
              "      const label = document.createElement('label');\n",
              "      label.textContent = `Downloading \"${filename}\": `;\n",
              "      div.appendChild(label);\n",
              "      const progress = document.createElement('progress');\n",
              "      progress.max = size;\n",
              "      div.appendChild(progress);\n",
              "      document.body.appendChild(div);\n",
              "\n",
              "      const buffers = [];\n",
              "      let downloaded = 0;\n",
              "\n",
              "      const channel = await google.colab.kernel.comms.open(id);\n",
              "      // Send a message to notify the kernel that we're ready.\n",
              "      channel.send({})\n",
              "\n",
              "      for await (const message of channel.messages) {\n",
              "        // Send a message to notify the kernel that we're ready.\n",
              "        channel.send({})\n",
              "        if (message.buffers) {\n",
              "          for (const buffer of message.buffers) {\n",
              "            buffers.push(buffer);\n",
              "            downloaded += buffer.byteLength;\n",
              "            progress.value = downloaded;\n",
              "          }\n",
              "        }\n",
              "      }\n",
              "      const blob = new Blob(buffers, {type: 'application/binary'});\n",
              "      const a = document.createElement('a');\n",
              "      a.href = window.URL.createObjectURL(blob);\n",
              "      a.download = filename;\n",
              "      div.appendChild(a);\n",
              "      a.click();\n",
              "      div.remove();\n",
              "    }\n",
              "  "
            ],
            "text/plain": [
              "<IPython.core.display.Javascript object>"
            ]
          },
          "metadata": {}
        },
        {
          "output_type": "display_data",
          "data": {
            "application/javascript": [
              "download(\"download_28f256ef-6f1b-469f-adcc-cafe556ae65f\", \"poverty1_csv\", 4348)"
            ],
            "text/plain": [
              "<IPython.core.display.Javascript object>"
            ]
          },
          "metadata": {}
        }
      ]
    }
  ]
}
