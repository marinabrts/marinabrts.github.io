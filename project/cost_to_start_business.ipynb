{
  "nbformat": 4,
  "nbformat_minor": 0,
  "metadata": {
    "colab": {
      "name": "cost to start business.ipynb",
      "provenance": [],
      "collapsed_sections": [],
      "authorship_tag": "ABX9TyNcRGNXOROTkLp8qFaU+Ijq",
      "include_colab_link": true
    },
    "kernelspec": {
      "name": "python3",
      "display_name": "Python 3"
    },
    "language_info": {
      "name": "python"
    }
  },
  "cells": [
    {
      "cell_type": "markdown",
      "metadata": {
        "id": "view-in-github",
        "colab_type": "text"
      },
      "source": [
        "<a href=\"https://colab.research.google.com/github/marinabrts/marinabrts.github.io/blob/main/cost_to_start_business.ipynb\" target=\"_parent\"><img src=\"https://colab.research.google.com/assets/colab-badge.svg\" alt=\"Open In Colab\"/></a>"
      ]
    },
    {
      "cell_type": "code",
      "metadata": {
        "id": "E3MjZ1ULnS2j"
      },
      "source": [
        "import requests, pandas as pd"
      ],
      "execution_count": null,
      "outputs": []
    },
    {
      "cell_type": "code",
      "metadata": {
        "id": "e_ZShPNdnVxk"
      },
      "source": [
        "url =\"http://api.worldbank.org/v2/country/{}/indicator/IC.REG.COST.PC.ZS?date=2019&format=json\"\n",
        "\n",
        "#\n",
        "country = [\"CAN\",\"USA\",\"RUS\",\"CHN\",\"AUS\",\"BRA\",\"ISR\",\"BOL\",\"VEN\",\"EGY\",\n",
        "           \"NGA\",\"TCD\",\"ZAF\",\"GBR\",\"DNK\",\"DEU\",\"ESP\",\"EST\",\"ARE\",\"IRN\",\"IND\",\n",
        "           \"KAZ\",\"SGP\",\"THA\",\"IDN\"]\n",
        "html={}\n",
        "for i in country:\n",
        "  url_one = url.format(i)\n",
        "  html[i] = requests.get(url_one).json()\n",
        "\n"
      ],
      "execution_count": null,
      "outputs": []
    },
    {
      "cell_type": "code",
      "metadata": {
        "id": "PJ25s34s07hJ"
      },
      "source": [
        "my_values=[]\n",
        "for i in country:\n",
        "\n",
        "  value=html[i][1][0]['value']\n",
        "  my_values.append(value)"
      ],
      "execution_count": null,
      "outputs": []
    },
    {
      "cell_type": "code",
      "metadata": {
        "id": "TKJCQYio15Ke"
      },
      "source": [
        "my_names=[]\n",
        "for i in country:\n",
        "  name=html[i][1][0]['country']['value']\n",
        "  my_names.append(name)"
      ],
      "execution_count": null,
      "outputs": []
    },
    {
      "cell_type": "code",
      "metadata": {
        "colab": {
          "base_uri": "https://localhost:8080/"
        },
        "id": "4CceZkuk18GO",
        "outputId": "876b75b6-0c17-44d0-d253-6cc2082c5148"
      },
      "source": [
        "my_names"
      ],
      "execution_count": null,
      "outputs": [
        {
          "output_type": "execute_result",
          "data": {
            "text/plain": [
              "['Canada',\n",
              " 'United States',\n",
              " 'Russian Federation',\n",
              " 'China',\n",
              " 'Australia',\n",
              " 'Brazil',\n",
              " 'Israel',\n",
              " 'Bolivia',\n",
              " 'Venezuela, RB',\n",
              " 'Egypt, Arab Rep.',\n",
              " 'Nigeria',\n",
              " 'Chad',\n",
              " 'South Africa',\n",
              " 'United Kingdom',\n",
              " 'Denmark',\n",
              " 'Germany',\n",
              " 'Spain',\n",
              " 'Estonia',\n",
              " 'United Arab Emirates',\n",
              " 'Iran, Islamic Rep.',\n",
              " 'India',\n",
              " 'Kazakhstan',\n",
              " 'Singapore',\n",
              " 'Thailand',\n",
              " 'Indonesia']"
            ]
          },
          "metadata": {},
          "execution_count": 51
        }
      ]
    },
    {
      "cell_type": "code",
      "metadata": {
        "id": "XIyQHnMJ4FeE"
      },
      "source": [
        "df = pd.DataFrame(my_values, my_names)"
      ],
      "execution_count": null,
      "outputs": []
    },
    {
      "cell_type": "code",
      "metadata": {
        "id": "1tDElmf54UCt"
      },
      "source": [
        "df.columns=['Cost']"
      ],
      "execution_count": null,
      "outputs": []
    },
    {
      "cell_type": "code",
      "metadata": {
        "colab": {
          "base_uri": "https://localhost:8080/",
          "height": 824
        },
        "id": "PAlbsK_d5nPG",
        "outputId": "c5e15186-11a6-4b55-f935-e01039743c5e"
      },
      "source": [
        "df"
      ],
      "execution_count": null,
      "outputs": [
        {
          "output_type": "execute_result",
          "data": {
            "text/html": [
              "<div>\n",
              "<style scoped>\n",
              "    .dataframe tbody tr th:only-of-type {\n",
              "        vertical-align: middle;\n",
              "    }\n",
              "\n",
              "    .dataframe tbody tr th {\n",
              "        vertical-align: top;\n",
              "    }\n",
              "\n",
              "    .dataframe thead th {\n",
              "        text-align: right;\n",
              "    }\n",
              "</style>\n",
              "<table border=\"1\" class=\"dataframe\">\n",
              "  <thead>\n",
              "    <tr style=\"text-align: right;\">\n",
              "      <th></th>\n",
              "      <th>Cost</th>\n",
              "    </tr>\n",
              "  </thead>\n",
              "  <tbody>\n",
              "    <tr>\n",
              "      <th>Canada</th>\n",
              "      <td>0.3</td>\n",
              "    </tr>\n",
              "    <tr>\n",
              "      <th>United States</th>\n",
              "      <td>1.0</td>\n",
              "    </tr>\n",
              "    <tr>\n",
              "      <th>Russian Federation</th>\n",
              "      <td>1.0</td>\n",
              "    </tr>\n",
              "    <tr>\n",
              "      <th>China</th>\n",
              "      <td>1.1</td>\n",
              "    </tr>\n",
              "    <tr>\n",
              "      <th>Australia</th>\n",
              "      <td>0.7</td>\n",
              "    </tr>\n",
              "    <tr>\n",
              "      <th>Brazil</th>\n",
              "      <td>4.2</td>\n",
              "    </tr>\n",
              "    <tr>\n",
              "      <th>Israel</th>\n",
              "      <td>2.7</td>\n",
              "    </tr>\n",
              "    <tr>\n",
              "      <th>Bolivia</th>\n",
              "      <td>37.3</td>\n",
              "    </tr>\n",
              "    <tr>\n",
              "      <th>Venezuela, RB</th>\n",
              "      <td>211.8</td>\n",
              "    </tr>\n",
              "    <tr>\n",
              "      <th>Egypt, Arab Rep.</th>\n",
              "      <td>20.3</td>\n",
              "    </tr>\n",
              "    <tr>\n",
              "      <th>Nigeria</th>\n",
              "      <td>26.1</td>\n",
              "    </tr>\n",
              "    <tr>\n",
              "      <th>Chad</th>\n",
              "      <td>169.3</td>\n",
              "    </tr>\n",
              "    <tr>\n",
              "      <th>South Africa</th>\n",
              "      <td>0.2</td>\n",
              "    </tr>\n",
              "    <tr>\n",
              "      <th>United Kingdom</th>\n",
              "      <td>0.0</td>\n",
              "    </tr>\n",
              "    <tr>\n",
              "      <th>Denmark</th>\n",
              "      <td>0.2</td>\n",
              "    </tr>\n",
              "    <tr>\n",
              "      <th>Germany</th>\n",
              "      <td>6.5</td>\n",
              "    </tr>\n",
              "    <tr>\n",
              "      <th>Spain</th>\n",
              "      <td>3.9</td>\n",
              "    </tr>\n",
              "    <tr>\n",
              "      <th>Estonia</th>\n",
              "      <td>1.0</td>\n",
              "    </tr>\n",
              "    <tr>\n",
              "      <th>United Arab Emirates</th>\n",
              "      <td>17.2</td>\n",
              "    </tr>\n",
              "    <tr>\n",
              "      <th>Iran, Islamic Rep.</th>\n",
              "      <td>1.1</td>\n",
              "    </tr>\n",
              "    <tr>\n",
              "      <th>India</th>\n",
              "      <td>7.2</td>\n",
              "    </tr>\n",
              "    <tr>\n",
              "      <th>Kazakhstan</th>\n",
              "      <td>0.2</td>\n",
              "    </tr>\n",
              "    <tr>\n",
              "      <th>Singapore</th>\n",
              "      <td>0.4</td>\n",
              "    </tr>\n",
              "    <tr>\n",
              "      <th>Thailand</th>\n",
              "      <td>3.0</td>\n",
              "    </tr>\n",
              "    <tr>\n",
              "      <th>Indonesia</th>\n",
              "      <td>5.7</td>\n",
              "    </tr>\n",
              "  </tbody>\n",
              "</table>\n",
              "</div>"
            ],
            "text/plain": [
              "                       Cost\n",
              "Canada                  0.3\n",
              "United States           1.0\n",
              "Russian Federation      1.0\n",
              "China                   1.1\n",
              "Australia               0.7\n",
              "Brazil                  4.2\n",
              "Israel                  2.7\n",
              "Bolivia                37.3\n",
              "Venezuela, RB         211.8\n",
              "Egypt, Arab Rep.       20.3\n",
              "Nigeria                26.1\n",
              "Chad                  169.3\n",
              "South Africa            0.2\n",
              "United Kingdom          0.0\n",
              "Denmark                 0.2\n",
              "Germany                 6.5\n",
              "Spain                   3.9\n",
              "Estonia                 1.0\n",
              "United Arab Emirates   17.2\n",
              "Iran, Islamic Rep.      1.1\n",
              "India                   7.2\n",
              "Kazakhstan              0.2\n",
              "Singapore               0.4\n",
              "Thailand                3.0\n",
              "Indonesia               5.7"
            ]
          },
          "metadata": {},
          "execution_count": 72
        }
      ]
    },
    {
      "cell_type": "code",
      "metadata": {
        "id": "XLlyheoQ8fru"
      },
      "source": [
        "df.to_csv(\"cost_csv\")"
      ],
      "execution_count": null,
      "outputs": []
    },
    {
      "cell_type": "code",
      "metadata": {
        "colab": {
          "base_uri": "https://localhost:8080/",
          "height": 17
        },
        "id": "kywpqWCM8h2h",
        "outputId": "fb438ba4-6836-4635-e067-0169495686ac"
      },
      "source": [
        "from google.colab import files\n",
        "files.download(\"cost_csv\")"
      ],
      "execution_count": null,
      "outputs": [
        {
          "output_type": "display_data",
          "data": {
            "application/javascript": [
              "\n",
              "    async function download(id, filename, size) {\n",
              "      if (!google.colab.kernel.accessAllowed) {\n",
              "        return;\n",
              "      }\n",
              "      const div = document.createElement('div');\n",
              "      const label = document.createElement('label');\n",
              "      label.textContent = `Downloading \"${filename}\": `;\n",
              "      div.appendChild(label);\n",
              "      const progress = document.createElement('progress');\n",
              "      progress.max = size;\n",
              "      div.appendChild(progress);\n",
              "      document.body.appendChild(div);\n",
              "\n",
              "      const buffers = [];\n",
              "      let downloaded = 0;\n",
              "\n",
              "      const channel = await google.colab.kernel.comms.open(id);\n",
              "      // Send a message to notify the kernel that we're ready.\n",
              "      channel.send({})\n",
              "\n",
              "      for await (const message of channel.messages) {\n",
              "        // Send a message to notify the kernel that we're ready.\n",
              "        channel.send({})\n",
              "        if (message.buffers) {\n",
              "          for (const buffer of message.buffers) {\n",
              "            buffers.push(buffer);\n",
              "            downloaded += buffer.byteLength;\n",
              "            progress.value = downloaded;\n",
              "          }\n",
              "        }\n",
              "      }\n",
              "      const blob = new Blob(buffers, {type: 'application/binary'});\n",
              "      const a = document.createElement('a');\n",
              "      a.href = window.URL.createObjectURL(blob);\n",
              "      a.download = filename;\n",
              "      div.appendChild(a);\n",
              "      a.click();\n",
              "      div.remove();\n",
              "    }\n",
              "  "
            ],
            "text/plain": [
              "<IPython.core.display.Javascript object>"
            ]
          },
          "metadata": {}
        },
        {
          "output_type": "display_data",
          "data": {
            "application/javascript": [
              "download(\"download_9b93822f-3aa6-4d60-baa5-0c3c6c3bff09\", \"cost_csv\", 386)"
            ],
            "text/plain": [
              "<IPython.core.display.Javascript object>"
            ]
          },
          "metadata": {}
        }
      ]
    }
  ]
}
