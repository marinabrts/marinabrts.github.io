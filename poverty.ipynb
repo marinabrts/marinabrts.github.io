{
  "nbformat": 4,
  "nbformat_minor": 0,
  "metadata": {
    "colab": {
      "name": "poverty.ipynb",
      "provenance": [],
      "authorship_tag": "ABX9TyOltkz0U9zCWDPXO3f2aiYL",
      "include_colab_link": true
    },
    "kernelspec": {
      "name": "python3",
      "display_name": "Python 3"
    },
    "language_info": {
      "name": "python"
    }
  },
  "cells": [
    {
      "cell_type": "markdown",
      "metadata": {
        "id": "view-in-github",
        "colab_type": "text"
      },
      "source": [
        "<a href=\"https://colab.research.google.com/github/marinabrts/marinabrts.github.io/blob/main/poverty.ipynb\" target=\"_parent\"><img src=\"https://colab.research.google.com/assets/colab-badge.svg\" alt=\"Open In Colab\"/></a>"
      ]
    },
    {
      "cell_type": "code",
      "metadata": {
        "id": "nqLwvZsSWvag"
      },
      "source": [
        "import pandas as pd"
      ],
      "execution_count": 1,
      "outputs": []
    },
    {
      "cell_type": "code",
      "metadata": {
        "id": "8THmtIiOWxs0"
      },
      "source": [
        "table=pd.read_html('https://en.wikipedia.org/wiki/List_of_countries_by_percentage_of_population_living_in_poverty')"
      ],
      "execution_count": 2,
      "outputs": []
    },
    {
      "cell_type": "code",
      "metadata": {
        "id": "qt6uJsFCW58S"
      },
      "source": [
        "df=table[0]"
      ],
      "execution_count": 7,
      "outputs": []
    },
    {
      "cell_type": "code",
      "metadata": {
        "colab": {
          "base_uri": "https://localhost:8080/",
          "height": 204
        },
        "id": "zINKPP_DXMBu",
        "outputId": "7c7a17fc-61e3-401a-ae39-144b1c641536"
      },
      "source": [
        "df.head(5)"
      ],
      "execution_count": 11,
      "outputs": [
        {
          "output_type": "execute_result",
          "data": {
            "text/html": [
              "<div>\n",
              "<style scoped>\n",
              "    .dataframe tbody tr th:only-of-type {\n",
              "        vertical-align: middle;\n",
              "    }\n",
              "\n",
              "    .dataframe tbody tr th {\n",
              "        vertical-align: top;\n",
              "    }\n",
              "\n",
              "    .dataframe thead th {\n",
              "        text-align: right;\n",
              "    }\n",
              "</style>\n",
              "<table border=\"1\" class=\"dataframe\">\n",
              "  <thead>\n",
              "    <tr style=\"text-align: right;\">\n",
              "      <th></th>\n",
              "      <th>Country</th>\n",
              "      <th>&lt; $1.90[8][1]</th>\n",
              "      <th>&lt; $3.20[6]</th>\n",
              "      <th>&lt; $5.50[7]</th>\n",
              "      <th>Year</th>\n",
              "      <th>Continent</th>\n",
              "    </tr>\n",
              "  </thead>\n",
              "  <tbody>\n",
              "    <tr>\n",
              "      <th>0</th>\n",
              "      <td>Albania</td>\n",
              "      <td>1.3%</td>\n",
              "      <td>8.2%</td>\n",
              "      <td>33.8%</td>\n",
              "      <td>2017</td>\n",
              "      <td>Europe</td>\n",
              "    </tr>\n",
              "    <tr>\n",
              "      <th>1</th>\n",
              "      <td>Algeria</td>\n",
              "      <td>0.4%</td>\n",
              "      <td>3.7%</td>\n",
              "      <td>28.6%</td>\n",
              "      <td>2011</td>\n",
              "      <td>Africa</td>\n",
              "    </tr>\n",
              "    <tr>\n",
              "      <th>2</th>\n",
              "      <td>Angola</td>\n",
              "      <td>49.9%</td>\n",
              "      <td>72.0%</td>\n",
              "      <td>89.3%</td>\n",
              "      <td>2018</td>\n",
              "      <td>Africa</td>\n",
              "    </tr>\n",
              "    <tr>\n",
              "      <th>3</th>\n",
              "      <td>Argentina</td>\n",
              "      <td>1.5%</td>\n",
              "      <td>5.0%</td>\n",
              "      <td>14.0%</td>\n",
              "      <td>2019</td>\n",
              "      <td>South America</td>\n",
              "    </tr>\n",
              "    <tr>\n",
              "      <th>4</th>\n",
              "      <td>Armenia</td>\n",
              "      <td>1.1%</td>\n",
              "      <td>10.0%</td>\n",
              "      <td>44.0%</td>\n",
              "      <td>2019</td>\n",
              "      <td>Asia</td>\n",
              "    </tr>\n",
              "  </tbody>\n",
              "</table>\n",
              "</div>"
            ],
            "text/plain": [
              "     Country < $1.90[8][1] < $3.20[6] < $5.50[7]  Year      Continent\n",
              "0    Albania          1.3%       8.2%      33.8%  2017         Europe\n",
              "1    Algeria          0.4%       3.7%      28.6%  2011         Africa\n",
              "2     Angola         49.9%      72.0%      89.3%  2018         Africa\n",
              "3  Argentina          1.5%       5.0%      14.0%  2019  South America\n",
              "4    Armenia          1.1%      10.0%      44.0%  2019           Asia"
            ]
          },
          "metadata": {},
          "execution_count": 11
        }
      ]
    },
    {
      "cell_type": "code",
      "metadata": {
        "id": "_RQ-YUFdW8xY"
      },
      "source": [
        "df.columns=['Country','< $1.90','< $3.20','< $5.50','Year','Continent']"
      ],
      "execution_count": 19,
      "outputs": []
    },
    {
      "cell_type": "code",
      "metadata": {
        "colab": {
          "base_uri": "https://localhost:8080/",
          "height": 419
        },
        "id": "PAyVvu5HXoEW",
        "outputId": "7a0d7500-0b70-4a2b-a2b2-a41e37fd8961"
      },
      "source": [
        "df"
      ],
      "execution_count": 20,
      "outputs": [
        {
          "output_type": "execute_result",
          "data": {
            "text/html": [
              "<div>\n",
              "<style scoped>\n",
              "    .dataframe tbody tr th:only-of-type {\n",
              "        vertical-align: middle;\n",
              "    }\n",
              "\n",
              "    .dataframe tbody tr th {\n",
              "        vertical-align: top;\n",
              "    }\n",
              "\n",
              "    .dataframe thead th {\n",
              "        text-align: right;\n",
              "    }\n",
              "</style>\n",
              "<table border=\"1\" class=\"dataframe\">\n",
              "  <thead>\n",
              "    <tr style=\"text-align: right;\">\n",
              "      <th></th>\n",
              "      <th>Country</th>\n",
              "      <th>&lt; $1.90</th>\n",
              "      <th>&lt; $3.20</th>\n",
              "      <th>&lt; $5.50</th>\n",
              "      <th>Year</th>\n",
              "      <th>Continent</th>\n",
              "    </tr>\n",
              "  </thead>\n",
              "  <tbody>\n",
              "    <tr>\n",
              "      <th>0</th>\n",
              "      <td>Albania</td>\n",
              "      <td>1.3%</td>\n",
              "      <td>8.2%</td>\n",
              "      <td>33.8%</td>\n",
              "      <td>2017</td>\n",
              "      <td>Europe</td>\n",
              "    </tr>\n",
              "    <tr>\n",
              "      <th>1</th>\n",
              "      <td>Algeria</td>\n",
              "      <td>0.4%</td>\n",
              "      <td>3.7%</td>\n",
              "      <td>28.6%</td>\n",
              "      <td>2011</td>\n",
              "      <td>Africa</td>\n",
              "    </tr>\n",
              "    <tr>\n",
              "      <th>2</th>\n",
              "      <td>Angola</td>\n",
              "      <td>49.9%</td>\n",
              "      <td>72.0%</td>\n",
              "      <td>89.3%</td>\n",
              "      <td>2018</td>\n",
              "      <td>Africa</td>\n",
              "    </tr>\n",
              "    <tr>\n",
              "      <th>3</th>\n",
              "      <td>Argentina</td>\n",
              "      <td>1.5%</td>\n",
              "      <td>5.0%</td>\n",
              "      <td>14.0%</td>\n",
              "      <td>2019</td>\n",
              "      <td>South America</td>\n",
              "    </tr>\n",
              "    <tr>\n",
              "      <th>4</th>\n",
              "      <td>Armenia</td>\n",
              "      <td>1.1%</td>\n",
              "      <td>10.0%</td>\n",
              "      <td>44.0%</td>\n",
              "      <td>2019</td>\n",
              "      <td>Asia</td>\n",
              "    </tr>\n",
              "    <tr>\n",
              "      <th>...</th>\n",
              "      <td>...</td>\n",
              "      <td>...</td>\n",
              "      <td>...</td>\n",
              "      <td>...</td>\n",
              "      <td>...</td>\n",
              "      <td>...</td>\n",
              "    </tr>\n",
              "    <tr>\n",
              "      <th>159</th>\n",
              "      <td>Venezuela</td>\n",
              "      <td>6.7%</td>\n",
              "      <td>14.0%</td>\n",
              "      <td>33.0%</td>\n",
              "      <td>2006</td>\n",
              "      <td>South America</td>\n",
              "    </tr>\n",
              "    <tr>\n",
              "      <th>160</th>\n",
              "      <td>Vietnam</td>\n",
              "      <td>1.8%</td>\n",
              "      <td>7.0%</td>\n",
              "      <td>22.0%</td>\n",
              "      <td>2018</td>\n",
              "      <td>Asia</td>\n",
              "    </tr>\n",
              "    <tr>\n",
              "      <th>161</th>\n",
              "      <td>Yemen</td>\n",
              "      <td>18.3%</td>\n",
              "      <td>51.0%</td>\n",
              "      <td>81.6%</td>\n",
              "      <td>2014</td>\n",
              "      <td>Asia</td>\n",
              "    </tr>\n",
              "    <tr>\n",
              "      <th>162</th>\n",
              "      <td>Zambia</td>\n",
              "      <td>58.7%</td>\n",
              "      <td>75.0%</td>\n",
              "      <td>88.0%</td>\n",
              "      <td>2015</td>\n",
              "      <td>Africa</td>\n",
              "    </tr>\n",
              "    <tr>\n",
              "      <th>163</th>\n",
              "      <td>Zimbabwe</td>\n",
              "      <td>39.5%</td>\n",
              "      <td>64.0%</td>\n",
              "      <td>83.0%</td>\n",
              "      <td>2019</td>\n",
              "      <td>Africa</td>\n",
              "    </tr>\n",
              "  </tbody>\n",
              "</table>\n",
              "<p>164 rows × 6 columns</p>\n",
              "</div>"
            ],
            "text/plain": [
              "       Country < $1.90 < $3.20 < $5.50  Year      Continent\n",
              "0      Albania    1.3%    8.2%   33.8%  2017         Europe\n",
              "1      Algeria    0.4%    3.7%   28.6%  2011         Africa\n",
              "2       Angola   49.9%   72.0%   89.3%  2018         Africa\n",
              "3    Argentina    1.5%    5.0%   14.0%  2019  South America\n",
              "4      Armenia    1.1%   10.0%   44.0%  2019           Asia\n",
              "..         ...     ...     ...     ...   ...            ...\n",
              "159  Venezuela    6.7%   14.0%   33.0%  2006  South America\n",
              "160    Vietnam    1.8%    7.0%   22.0%  2018           Asia\n",
              "161      Yemen   18.3%   51.0%   81.6%  2014           Asia\n",
              "162     Zambia   58.7%   75.0%   88.0%  2015         Africa\n",
              "163   Zimbabwe   39.5%   64.0%   83.0%  2019         Africa\n",
              "\n",
              "[164 rows x 6 columns]"
            ]
          },
          "metadata": {},
          "execution_count": 20
        }
      ]
    },
    {
      "cell_type": "code",
      "metadata": {
        "id": "Pa-E-GHYZCGO"
      },
      "source": [
        "data=df[[\"Country\",\"< $5.50\"]]"
      ],
      "execution_count": 21,
      "outputs": []
    },
    {
      "cell_type": "code",
      "metadata": {
        "colab": {
          "base_uri": "https://localhost:8080/"
        },
        "id": "BV0vg_EsZ0S0",
        "outputId": "06c5cbc7-3930-4209-db21-5a3a99a8db5a"
      },
      "source": [
        ""
      ],
      "execution_count": 22,
      "outputs": [
        {
          "output_type": "execute_result",
          "data": {
            "text/plain": [
              "<bound method NDFrame.head of        Country < $5.50\n",
              "0      Albania   33.8%\n",
              "1      Algeria   28.6%\n",
              "2       Angola   89.3%\n",
              "3    Argentina   14.0%\n",
              "4      Armenia   44.0%\n",
              "..         ...     ...\n",
              "159  Venezuela   33.0%\n",
              "160    Vietnam   22.0%\n",
              "161      Yemen   81.6%\n",
              "162     Zambia   88.0%\n",
              "163   Zimbabwe   83.0%\n",
              "\n",
              "[164 rows x 2 columns]>"
            ]
          },
          "metadata": {},
          "execution_count": 22
        }
      ]
    },
    {
      "cell_type": "code",
      "metadata": {
        "id": "LXE7cYDFaV9B"
      },
      "source": [
        "data.to_csv(\"poverty_csv\")"
      ],
      "execution_count": 29,
      "outputs": []
    },
    {
      "cell_type": "code",
      "metadata": {
        "id": "C82SR5CebNzm"
      },
      "source": [
        "from google.colab import files"
      ],
      "execution_count": 31,
      "outputs": []
    },
    {
      "cell_type": "code",
      "metadata": {
        "colab": {
          "base_uri": "https://localhost:8080/",
          "height": 17
        },
        "id": "iTN8kFK6bZOp",
        "outputId": "86d6e24b-6c14-4e1a-a7b4-9551a3db6041"
      },
      "source": [
        "files.download(\"poverty_csv\")"
      ],
      "execution_count": 32,
      "outputs": [
        {
          "output_type": "display_data",
          "data": {
            "application/javascript": [
              "\n",
              "    async function download(id, filename, size) {\n",
              "      if (!google.colab.kernel.accessAllowed) {\n",
              "        return;\n",
              "      }\n",
              "      const div = document.createElement('div');\n",
              "      const label = document.createElement('label');\n",
              "      label.textContent = `Downloading \"${filename}\": `;\n",
              "      div.appendChild(label);\n",
              "      const progress = document.createElement('progress');\n",
              "      progress.max = size;\n",
              "      div.appendChild(progress);\n",
              "      document.body.appendChild(div);\n",
              "\n",
              "      const buffers = [];\n",
              "      let downloaded = 0;\n",
              "\n",
              "      const channel = await google.colab.kernel.comms.open(id);\n",
              "      // Send a message to notify the kernel that we're ready.\n",
              "      channel.send({})\n",
              "\n",
              "      for await (const message of channel.messages) {\n",
              "        // Send a message to notify the kernel that we're ready.\n",
              "        channel.send({})\n",
              "        if (message.buffers) {\n",
              "          for (const buffer of message.buffers) {\n",
              "            buffers.push(buffer);\n",
              "            downloaded += buffer.byteLength;\n",
              "            progress.value = downloaded;\n",
              "          }\n",
              "        }\n",
              "      }\n",
              "      const blob = new Blob(buffers, {type: 'application/binary'});\n",
              "      const a = document.createElement('a');\n",
              "      a.href = window.URL.createObjectURL(blob);\n",
              "      a.download = filename;\n",
              "      div.appendChild(a);\n",
              "      a.click();\n",
              "      div.remove();\n",
              "    }\n",
              "  "
            ],
            "text/plain": [
              "<IPython.core.display.Javascript object>"
            ]
          },
          "metadata": {}
        },
        {
          "output_type": "display_data",
          "data": {
            "application/javascript": [
              "download(\"download_ff43bc45-2427-45a9-8e5c-645042c212a0\", \"poverty_csv\", 3046)"
            ],
            "text/plain": [
              "<IPython.core.display.Javascript object>"
            ]
          },
          "metadata": {}
        }
      ]
    }
  ]
}