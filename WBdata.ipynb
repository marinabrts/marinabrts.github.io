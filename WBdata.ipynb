{
  "nbformat": 4,
  "nbformat_minor": 0,
  "metadata": {
    "colab": {
      "name": "WBdata.ipynb",
      "provenance": [],
      "authorship_tag": "ABX9TyP1PXgKCnqXy+VHTIC3tAMC",
      "include_colab_link": true
    },
    "kernelspec": {
      "name": "python3",
      "display_name": "Python 3"
    },
    "language_info": {
      "name": "python"
    }
  },
  "cells": [
    {
      "cell_type": "markdown",
      "metadata": {
        "id": "view-in-github",
        "colab_type": "text"
      },
      "source": [
        "<a href=\"https://colab.research.google.com/github/marinabrts/marinabrts.github.io/blob/main/WBdata.ipynb\" target=\"_parent\"><img src=\"https://colab.research.google.com/assets/colab-badge.svg\" alt=\"Open In Colab\"/></a>"
      ]
    },
    {
      "cell_type": "code",
      "metadata": {
        "id": "ES8-GwZJOCTX"
      },
      "source": [
        "import requests\n",
        "\n",
        "# // OS. Sometimes need this for finding working directory:\n",
        "import os\n",
        "\n",
        "# // JSON. This helps us make JSON look prettier and easier to read\n",
        "import json\n",
        "\n",
        "# /// Files.  This is part of Collab - allows you to upload and download files\n",
        "from google.colab import files"
      ],
      "execution_count": 1,
      "outputs": []
    },
    {
      "cell_type": "markdown",
      "metadata": {
        "id": "4nhUXc-8U1GH"
      },
      "source": [
        "<h3> How many days it takes to open a business </h3>"
      ]
    },
    {
      "cell_type": "code",
      "metadata": {
        "id": "DQ6DwPDUOJ9G"
      },
      "source": [
        "url_base_one = \"http://api.worldbank.org/v2/country/{}/indicator/IC.REG.DURS?format=json\"\n",
        "\n",
        "\n",
        "country = ['CAN','USA','RUS','CHN','AUS','BRA','ISR','BOL','VEN','EGY',\n",
        "           'NGA','TCD']\n",
        "\n",
        "file_base_one = \"WB_data_{}.json\""
      ],
      "execution_count": 15,
      "outputs": []
    },
    {
      "cell_type": "code",
      "metadata": {
        "colab": {
          "base_uri": "https://localhost:8080/",
          "height": 853
        },
        "id": "VSWZ17QgPQ1Q",
        "outputId": "ac4cfcfd-de2b-47b7-d8de-e55e449b3ec2"
      },
      "source": [
        "for i in country:\n",
        "  print(i)\n",
        "\n",
        "  URLone = url_base_one.format(i)\n",
        "\n",
        "  print(URLone)\n",
        "\n",
        "  data_one = requests.get(URLone).json()\n",
        "\n",
        "  print(data_one)\n",
        "\n",
        "  fileName_one = file_base_one.format(i)\n",
        "  print(fileName_one)\n",
        "\n",
        "  with open(fileName_one, 'w', encoding='utf-8') as f:\n",
        "     json.dump(data_one, f, ensure_ascii=False, indent=4)\n",
        "\n",
        "  files.download(fileName_one)"
      ],
      "execution_count": 16,
      "outputs": [
        {
          "output_type": "stream",
          "name": "stdout",
          "text": [
            "CAN\n",
            "http://api.worldbank.org/v2/country/CAN/indicator/IC.REG.DURS?format=json\n",
            "[{'page': 1, 'pages': 2, 'per_page': 50, 'total': 61, 'sourceid': '2', 'sourcename': 'World Development Indicators', 'lastupdated': '2021-10-28'}, [{'indicator': {'id': 'IC.REG.DURS', 'value': 'Time required to start a business (days)'}, 'country': {'id': 'CA', 'value': 'Canada'}, 'countryiso3code': 'CAN', 'date': '2020', 'value': None, 'unit': '', 'obs_status': '', 'decimal': 0}, {'indicator': {'id': 'IC.REG.DURS', 'value': 'Time required to start a business (days)'}, 'country': {'id': 'CA', 'value': 'Canada'}, 'countryiso3code': 'CAN', 'date': '2019', 'value': 1.5, 'unit': '', 'obs_status': '', 'decimal': 0}, {'indicator': {'id': 'IC.REG.DURS', 'value': 'Time required to start a business (days)'}, 'country': {'id': 'CA', 'value': 'Canada'}, 'countryiso3code': 'CAN', 'date': '2018', 'value': 1.5, 'unit': '', 'obs_status': '', 'decimal': 0}, {'indicator': {'id': 'IC.REG.DURS', 'value': 'Time required to start a business (days)'}, 'country': {'id': 'CA', 'value': 'Canada'}, 'countryiso3code': 'CAN', 'date': '2017', 'value': 1.5, 'unit': '', 'obs_status': '', 'decimal': 0}, {'indicator': {'id': 'IC.REG.DURS', 'value': 'Time required to start a business (days)'}, 'country': {'id': 'CA', 'value': 'Canada'}, 'countryiso3code': 'CAN', 'date': '2016', 'value': 1.5, 'unit': '', 'obs_status': '', 'decimal': 0}, {'indicator': {'id': 'IC.REG.DURS', 'value': 'Time required to start a business (days)'}, 'country': {'id': 'CA', 'value': 'Canada'}, 'countryiso3code': 'CAN', 'date': '2015', 'value': 1.5, 'unit': '', 'obs_status': '', 'decimal': 0}, {'indicator': {'id': 'IC.REG.DURS', 'value': 'Time required to start a business (days)'}, 'country': {'id': 'CA', 'value': 'Canada'}, 'countryiso3code': 'CAN', 'date': '2014', 'value': 5.5, 'unit': '', 'obs_status': '', 'decimal': 0}, {'indicator': {'id': 'IC.REG.DURS', 'value': 'Time required to start a business (days)'}, 'country': {'id': 'CA', 'value': 'Canada'}, 'countryiso3code': 'CAN', 'date': '2013', 'value': 5.5, 'unit': '', 'obs_status': '', 'decimal': 0}, {'indicator': {'id': 'IC.REG.DURS', 'value': 'Time required to start a business (days)'}, 'country': {'id': 'CA', 'value': 'Canada'}, 'countryiso3code': 'CAN', 'date': '2012', 'value': 5.5, 'unit': '', 'obs_status': '', 'decimal': 0}, {'indicator': {'id': 'IC.REG.DURS', 'value': 'Time required to start a business (days)'}, 'country': {'id': 'CA', 'value': 'Canada'}, 'countryiso3code': 'CAN', 'date': '2011', 'value': 5.5, 'unit': '', 'obs_status': '', 'decimal': 0}, {'indicator': {'id': 'IC.REG.DURS', 'value': 'Time required to start a business (days)'}, 'country': {'id': 'CA', 'value': 'Canada'}, 'countryiso3code': 'CAN', 'date': '2010', 'value': 5.5, 'unit': '', 'obs_status': '', 'decimal': 0}, {'indicator': {'id': 'IC.REG.DURS', 'value': 'Time required to start a business (days)'}, 'country': {'id': 'CA', 'value': 'Canada'}, 'countryiso3code': 'CAN', 'date': '2009', 'value': 5.5, 'unit': '', 'obs_status': '', 'decimal': 0}, {'indicator': {'id': 'IC.REG.DURS', 'value': 'Time required to start a business (days)'}, 'country': {'id': 'CA', 'value': 'Canada'}, 'countryiso3code': 'CAN', 'date': '2008', 'value': 5.5, 'unit': '', 'obs_status': '', 'decimal': 0}, {'indicator': {'id': 'IC.REG.DURS', 'value': 'Time required to start a business (days)'}, 'country': {'id': 'CA', 'value': 'Canada'}, 'countryiso3code': 'CAN', 'date': '2007', 'value': 3.5, 'unit': '', 'obs_status': '', 'decimal': 0}, {'indicator': {'id': 'IC.REG.DURS', 'value': 'Time required to start a business (days)'}, 'country': {'id': 'CA', 'value': 'Canada'}, 'countryiso3code': 'CAN', 'date': '2006', 'value': 3.5, 'unit': '', 'obs_status': '', 'decimal': 0}, {'indicator': {'id': 'IC.REG.DURS', 'value': 'Time required to start a business (days)'}, 'country': {'id': 'CA', 'value': 'Canada'}, 'countryiso3code': 'CAN', 'date': '2005', 'value': 3.5, 'unit': '', 'obs_status': '', 'decimal': 0}, {'indicator': {'id': 'IC.REG.DURS', 'value': 'Time required to start a business (days)'}, 'country': {'id': 'CA', 'value': 'Canada'}, 'countryiso3code': 'CAN', 'date': '2004', 'value': 3.5, 'unit': '', 'obs_status': '', 'decimal': 0}, {'indicator': {'id': 'IC.REG.DURS', 'value': 'Time required to start a business (days)'}, 'country': {'id': 'CA', 'value': 'Canada'}, 'countryiso3code': 'CAN', 'date': '2003', 'value': 3.5, 'unit': '', 'obs_status': '', 'decimal': 0}, {'indicator': {'id': 'IC.REG.DURS', 'value': 'Time required to start a business (days)'}, 'country': {'id': 'CA', 'value': 'Canada'}, 'countryiso3code': 'CAN', 'date': '2002', 'value': None, 'unit': '', 'obs_status': '', 'decimal': 0}, {'indicator': {'id': 'IC.REG.DURS', 'value': 'Time required to start a business (days)'}, 'country': {'id': 'CA', 'value': 'Canada'}, 'countryiso3code': 'CAN', 'date': '2001', 'value': None, 'unit': '', 'obs_status': '', 'decimal': 0}, {'indicator': {'id': 'IC.REG.DURS', 'value': 'Time required to start a business (days)'}, 'country': {'id': 'CA', 'value': 'Canada'}, 'countryiso3code': 'CAN', 'date': '2000', 'value': None, 'unit': '', 'obs_status': '', 'decimal': 0}, {'indicator': {'id': 'IC.REG.DURS', 'value': 'Time required to start a business (days)'}, 'country': {'id': 'CA', 'value': 'Canada'}, 'countryiso3code': 'CAN', 'date': '1999', 'value': None, 'unit': '', 'obs_status': '', 'decimal': 0}, {'indicator': {'id': 'IC.REG.DURS', 'value': 'Time required to start a business (days)'}, 'country': {'id': 'CA', 'value': 'Canada'}, 'countryiso3code': 'CAN', 'date': '1998', 'value': None, 'unit': '', 'obs_status': '', 'decimal': 0}, {'indicator': {'id': 'IC.REG.DURS', 'value': 'Time required to start a business (days)'}, 'country': {'id': 'CA', 'value': 'Canada'}, 'countryiso3code': 'CAN', 'date': '1997', 'value': None, 'unit': '', 'obs_status': '', 'decimal': 0}, {'indicator': {'id': 'IC.REG.DURS', 'value': 'Time required to start a business (days)'}, 'country': {'id': 'CA', 'value': 'Canada'}, 'countryiso3code': 'CAN', 'date': '1996', 'value': None, 'unit': '', 'obs_status': '', 'decimal': 0}, {'indicator': {'id': 'IC.REG.DURS', 'value': 'Time required to start a business (days)'}, 'country': {'id': 'CA', 'value': 'Canada'}, 'countryiso3code': 'CAN', 'date': '1995', 'value': None, 'unit': '', 'obs_status': '', 'decimal': 0}, {'indicator': {'id': 'IC.REG.DURS', 'value': 'Time required to start a business (days)'}, 'country': {'id': 'CA', 'value': 'Canada'}, 'countryiso3code': 'CAN', 'date': '1994', 'value': None, 'unit': '', 'obs_status': '', 'decimal': 0}, {'indicator': {'id': 'IC.REG.DURS', 'value': 'Time required to start a business (days)'}, 'country': {'id': 'CA', 'value': 'Canada'}, 'countryiso3code': 'CAN', 'date': '1993', 'value': None, 'unit': '', 'obs_status': '', 'decimal': 0}, {'indicator': {'id': 'IC.REG.DURS', 'value': 'Time required to start a business (days)'}, 'country': {'id': 'CA', 'value': 'Canada'}, 'countryiso3code': 'CAN', 'date': '1992', 'value': None, 'unit': '', 'obs_status': '', 'decimal': 0}, {'indicator': {'id': 'IC.REG.DURS', 'value': 'Time required to start a business (days)'}, 'country': {'id': 'CA', 'value': 'Canada'}, 'countryiso3code': 'CAN', 'date': '1991', 'value': None, 'unit': '', 'obs_status': '', 'decimal': 0}, {'indicator': {'id': 'IC.REG.DURS', 'value': 'Time required to start a business (days)'}, 'country': {'id': 'CA', 'value': 'Canada'}, 'countryiso3code': 'CAN', 'date': '1990', 'value': None, 'unit': '', 'obs_status': '', 'decimal': 0}, {'indicator': {'id': 'IC.REG.DURS', 'value': 'Time required to start a business (days)'}, 'country': {'id': 'CA', 'value': 'Canada'}, 'countryiso3code': 'CAN', 'date': '1989', 'value': None, 'unit': '', 'obs_status': '', 'decimal': 0}, {'indicator': {'id': 'IC.REG.DURS', 'value': 'Time required to start a business (days)'}, 'country': {'id': 'CA', 'value': 'Canada'}, 'countryiso3code': 'CAN', 'date': '1988', 'value': None, 'unit': '', 'obs_status': '', 'decimal': 0}, {'indicator': {'id': 'IC.REG.DURS', 'value': 'Time required to start a business (days)'}, 'country': {'id': 'CA', 'value': 'Canada'}, 'countryiso3code': 'CAN', 'date': '1987', 'value': None, 'unit': '', 'obs_status': '', 'decimal': 0}, {'indicator': {'id': 'IC.REG.DURS', 'value': 'Time required to start a business (days)'}, 'country': {'id': 'CA', 'value': 'Canada'}, 'countryiso3code': 'CAN', 'date': '1986', 'value': None, 'unit': '', 'obs_status': '', 'decimal': 0}, {'indicator': {'id': 'IC.REG.DURS', 'value': 'Time required to start a business (days)'}, 'country': {'id': 'CA', 'value': 'Canada'}, 'countryiso3code': 'CAN', 'date': '1985', 'value': None, 'unit': '', 'obs_status': '', 'decimal': 0}, {'indicator': {'id': 'IC.REG.DURS', 'value': 'Time required to start a business (days)'}, 'country': {'id': 'CA', 'value': 'Canada'}, 'countryiso3code': 'CAN', 'date': '1984', 'value': None, 'unit': '', 'obs_status': '', 'decimal': 0}, {'indicator': {'id': 'IC.REG.DURS', 'value': 'Time required to start a business (days)'}, 'country': {'id': 'CA', 'value': 'Canada'}, 'countryiso3code': 'CAN', 'date': '1983', 'value': None, 'unit': '', 'obs_status': '', 'decimal': 0}, {'indicator': {'id': 'IC.REG.DURS', 'value': 'Time required to start a business (days)'}, 'country': {'id': 'CA', 'value': 'Canada'}, 'countryiso3code': 'CAN', 'date': '1982', 'value': None, 'unit': '', 'obs_status': '', 'decimal': 0}, {'indicator': {'id': 'IC.REG.DURS', 'value': 'Time required to start a business (days)'}, 'country': {'id': 'CA', 'value': 'Canada'}, 'countryiso3code': 'CAN', 'date': '1981', 'value': None, 'unit': '', 'obs_status': '', 'decimal': 0}, {'indicator': {'id': 'IC.REG.DURS', 'value': 'Time required to start a business (days)'}, 'country': {'id': 'CA', 'value': 'Canada'}, 'countryiso3code': 'CAN', 'date': '1980', 'value': None, 'unit': '', 'obs_status': '', 'decimal': 0}, {'indicator': {'id': 'IC.REG.DURS', 'value': 'Time required to start a business (days)'}, 'country': {'id': 'CA', 'value': 'Canada'}, 'countryiso3code': 'CAN', 'date': '1979', 'value': None, 'unit': '', 'obs_status': '', 'decimal': 0}, {'indicator': {'id': 'IC.REG.DURS', 'value': 'Time required to start a business (days)'}, 'country': {'id': 'CA', 'value': 'Canada'}, 'countryiso3code': 'CAN', 'date': '1978', 'value': None, 'unit': '', 'obs_status': '', 'decimal': 0}, {'indicator': {'id': 'IC.REG.DURS', 'value': 'Time required to start a business (days)'}, 'country': {'id': 'CA', 'value': 'Canada'}, 'countryiso3code': 'CAN', 'date': '1977', 'value': None, 'unit': '', 'obs_status': '', 'decimal': 0}, {'indicator': {'id': 'IC.REG.DURS', 'value': 'Time required to start a business (days)'}, 'country': {'id': 'CA', 'value': 'Canada'}, 'countryiso3code': 'CAN', 'date': '1976', 'value': None, 'unit': '', 'obs_status': '', 'decimal': 0}, {'indicator': {'id': 'IC.REG.DURS', 'value': 'Time required to start a business (days)'}, 'country': {'id': 'CA', 'value': 'Canada'}, 'countryiso3code': 'CAN', 'date': '1975', 'value': None, 'unit': '', 'obs_status': '', 'decimal': 0}, {'indicator': {'id': 'IC.REG.DURS', 'value': 'Time required to start a business (days)'}, 'country': {'id': 'CA', 'value': 'Canada'}, 'countryiso3code': 'CAN', 'date': '1974', 'value': None, 'unit': '', 'obs_status': '', 'decimal': 0}, {'indicator': {'id': 'IC.REG.DURS', 'value': 'Time required to start a business (days)'}, 'country': {'id': 'CA', 'value': 'Canada'}, 'countryiso3code': 'CAN', 'date': '1973', 'value': None, 'unit': '', 'obs_status': '', 'decimal': 0}, {'indicator': {'id': 'IC.REG.DURS', 'value': 'Time required to start a business (days)'}, 'country': {'id': 'CA', 'value': 'Canada'}, 'countryiso3code': 'CAN', 'date': '1972', 'value': None, 'unit': '', 'obs_status': '', 'decimal': 0}, {'indicator': {'id': 'IC.REG.DURS', 'value': 'Time required to start a business (days)'}, 'country': {'id': 'CA', 'value': 'Canada'}, 'countryiso3code': 'CAN', 'date': '1971', 'value': None, 'unit': '', 'obs_status': '', 'decimal': 0}]]\n",
            "WB_data_CAN.json\n"
          ]
        },
        {
          "output_type": "display_data",
          "data": {
            "application/javascript": [
              "\n",
              "    async function download(id, filename, size) {\n",
              "      if (!google.colab.kernel.accessAllowed) {\n",
              "        return;\n",
              "      }\n",
              "      const div = document.createElement('div');\n",
              "      const label = document.createElement('label');\n",
              "      label.textContent = `Downloading \"${filename}\": `;\n",
              "      div.appendChild(label);\n",
              "      const progress = document.createElement('progress');\n",
              "      progress.max = size;\n",
              "      div.appendChild(progress);\n",
              "      document.body.appendChild(div);\n",
              "\n",
              "      const buffers = [];\n",
              "      let downloaded = 0;\n",
              "\n",
              "      const channel = await google.colab.kernel.comms.open(id);\n",
              "      // Send a message to notify the kernel that we're ready.\n",
              "      channel.send({})\n",
              "\n",
              "      for await (const message of channel.messages) {\n",
              "        // Send a message to notify the kernel that we're ready.\n",
              "        channel.send({})\n",
              "        if (message.buffers) {\n",
              "          for (const buffer of message.buffers) {\n",
              "            buffers.push(buffer);\n",
              "            downloaded += buffer.byteLength;\n",
              "            progress.value = downloaded;\n",
              "          }\n",
              "        }\n",
              "      }\n",
              "      const blob = new Blob(buffers, {type: 'application/binary'});\n",
              "      const a = document.createElement('a');\n",
              "      a.href = window.URL.createObjectURL(blob);\n",
              "      a.download = filename;\n",
              "      div.appendChild(a);\n",
              "      a.click();\n",
              "      div.remove();\n",
              "    }\n",
              "  "
            ],
            "text/plain": [
              "<IPython.core.display.Javascript object>"
            ]
          },
          "metadata": {}
        },
        {
          "output_type": "display_data",
          "data": {
            "application/javascript": [
              "download(\"download_77d08c0a-96a8-4621-8880-5032eb52123f\", \"WB_data_CAN.json\", 22309)"
            ],
            "text/plain": [
              "<IPython.core.display.Javascript object>"
            ]
          },
          "metadata": {}
        },
        {
          "output_type": "stream",
          "name": "stdout",
          "text": [
            "USA\n",
            "http://api.worldbank.org/v2/country/USA/indicator/IC.REG.DURS?format=json\n",
            "[{'page': 1, 'pages': 2, 'per_page': 50, 'total': 61, 'sourceid': '2', 'sourcename': 'World Development Indicators', 'lastupdated': '2021-10-28'}, [{'indicator': {'id': 'IC.REG.DURS', 'value': 'Time required to start a business (days)'}, 'country': {'id': 'US', 'value': 'United States'}, 'countryiso3code': 'USA', 'date': '2020', 'value': None, 'unit': '', 'obs_status': '', 'decimal': 0}, {'indicator': {'id': 'IC.REG.DURS', 'value': 'Time required to start a business (days)'}, 'country': {'id': 'US', 'value': 'United States'}, 'countryiso3code': 'USA', 'date': '2019', 'value': 4.2, 'unit': '', 'obs_status': '', 'decimal': 0}, {'indicator': {'id': 'IC.REG.DURS', 'value': 'Time required to start a business (days)'}, 'country': {'id': 'US', 'value': 'United States'}, 'countryiso3code': 'USA', 'date': '2018', 'value': 5.6, 'unit': '', 'obs_status': '', 'decimal': 0}, {'indicator': {'id': 'IC.REG.DURS', 'value': 'Time required to start a business (days)'}, 'country': {'id': 'US', 'value': 'United States'}, 'countryiso3code': 'USA', 'date': '2017', 'value': 5.6, 'unit': '', 'obs_status': '', 'decimal': 0}, {'indicator': {'id': 'IC.REG.DURS', 'value': 'Time required to start a business (days)'}, 'country': {'id': 'US', 'value': 'United States'}, 'countryiso3code': 'USA', 'date': '2016', 'value': 5.6, 'unit': '', 'obs_status': '', 'decimal': 0}, {'indicator': {'id': 'IC.REG.DURS', 'value': 'Time required to start a business (days)'}, 'country': {'id': 'US', 'value': 'United States'}, 'countryiso3code': 'USA', 'date': '2015', 'value': 5.6, 'unit': '', 'obs_status': '', 'decimal': 0}, {'indicator': {'id': 'IC.REG.DURS', 'value': 'Time required to start a business (days)'}, 'country': {'id': 'US', 'value': 'United States'}, 'countryiso3code': 'USA', 'date': '2014', 'value': 5.6, 'unit': '', 'obs_status': '', 'decimal': 0}, {'indicator': {'id': 'IC.REG.DURS', 'value': 'Time required to start a business (days)'}, 'country': {'id': 'US', 'value': 'United States'}, 'countryiso3code': 'USA', 'date': '2013', 'value': 6.2, 'unit': '', 'obs_status': '', 'decimal': 0}, {'indicator': {'id': 'IC.REG.DURS', 'value': 'Time required to start a business (days)'}, 'country': {'id': 'US', 'value': 'United States'}, 'countryiso3code': 'USA', 'date': '2012', 'value': None, 'unit': '', 'obs_status': '', 'decimal': 0}, {'indicator': {'id': 'IC.REG.DURS', 'value': 'Time required to start a business (days)'}, 'country': {'id': 'US', 'value': 'United States'}, 'countryiso3code': 'USA', 'date': '2011', 'value': None, 'unit': '', 'obs_status': '', 'decimal': 0}, {'indicator': {'id': 'IC.REG.DURS', 'value': 'Time required to start a business (days)'}, 'country': {'id': 'US', 'value': 'United States'}, 'countryiso3code': 'USA', 'date': '2010', 'value': None, 'unit': '', 'obs_status': '', 'decimal': 0}, {'indicator': {'id': 'IC.REG.DURS', 'value': 'Time required to start a business (days)'}, 'country': {'id': 'US', 'value': 'United States'}, 'countryiso3code': 'USA', 'date': '2009', 'value': None, 'unit': '', 'obs_status': '', 'decimal': 0}, {'indicator': {'id': 'IC.REG.DURS', 'value': 'Time required to start a business (days)'}, 'country': {'id': 'US', 'value': 'United States'}, 'countryiso3code': 'USA', 'date': '2008', 'value': None, 'unit': '', 'obs_status': '', 'decimal': 0}, {'indicator': {'id': 'IC.REG.DURS', 'value': 'Time required to start a business (days)'}, 'country': {'id': 'US', 'value': 'United States'}, 'countryiso3code': 'USA', 'date': '2007', 'value': None, 'unit': '', 'obs_status': '', 'decimal': 0}, {'indicator': {'id': 'IC.REG.DURS', 'value': 'Time required to start a business (days)'}, 'country': {'id': 'US', 'value': 'United States'}, 'countryiso3code': 'USA', 'date': '2006', 'value': None, 'unit': '', 'obs_status': '', 'decimal': 0}, {'indicator': {'id': 'IC.REG.DURS', 'value': 'Time required to start a business (days)'}, 'country': {'id': 'US', 'value': 'United States'}, 'countryiso3code': 'USA', 'date': '2005', 'value': None, 'unit': '', 'obs_status': '', 'decimal': 0}, {'indicator': {'id': 'IC.REG.DURS', 'value': 'Time required to start a business (days)'}, 'country': {'id': 'US', 'value': 'United States'}, 'countryiso3code': 'USA', 'date': '2004', 'value': None, 'unit': '', 'obs_status': '', 'decimal': 0}, {'indicator': {'id': 'IC.REG.DURS', 'value': 'Time required to start a business (days)'}, 'country': {'id': 'US', 'value': 'United States'}, 'countryiso3code': 'USA', 'date': '2003', 'value': None, 'unit': '', 'obs_status': '', 'decimal': 0}, {'indicator': {'id': 'IC.REG.DURS', 'value': 'Time required to start a business (days)'}, 'country': {'id': 'US', 'value': 'United States'}, 'countryiso3code': 'USA', 'date': '2002', 'value': None, 'unit': '', 'obs_status': '', 'decimal': 0}, {'indicator': {'id': 'IC.REG.DURS', 'value': 'Time required to start a business (days)'}, 'country': {'id': 'US', 'value': 'United States'}, 'countryiso3code': 'USA', 'date': '2001', 'value': None, 'unit': '', 'obs_status': '', 'decimal': 0}, {'indicator': {'id': 'IC.REG.DURS', 'value': 'Time required to start a business (days)'}, 'country': {'id': 'US', 'value': 'United States'}, 'countryiso3code': 'USA', 'date': '2000', 'value': None, 'unit': '', 'obs_status': '', 'decimal': 0}, {'indicator': {'id': 'IC.REG.DURS', 'value': 'Time required to start a business (days)'}, 'country': {'id': 'US', 'value': 'United States'}, 'countryiso3code': 'USA', 'date': '1999', 'value': None, 'unit': '', 'obs_status': '', 'decimal': 0}, {'indicator': {'id': 'IC.REG.DURS', 'value': 'Time required to start a business (days)'}, 'country': {'id': 'US', 'value': 'United States'}, 'countryiso3code': 'USA', 'date': '1998', 'value': None, 'unit': '', 'obs_status': '', 'decimal': 0}, {'indicator': {'id': 'IC.REG.DURS', 'value': 'Time required to start a business (days)'}, 'country': {'id': 'US', 'value': 'United States'}, 'countryiso3code': 'USA', 'date': '1997', 'value': None, 'unit': '', 'obs_status': '', 'decimal': 0}, {'indicator': {'id': 'IC.REG.DURS', 'value': 'Time required to start a business (days)'}, 'country': {'id': 'US', 'value': 'United States'}, 'countryiso3code': 'USA', 'date': '1996', 'value': None, 'unit': '', 'obs_status': '', 'decimal': 0}, {'indicator': {'id': 'IC.REG.DURS', 'value': 'Time required to start a business (days)'}, 'country': {'id': 'US', 'value': 'United States'}, 'countryiso3code': 'USA', 'date': '1995', 'value': None, 'unit': '', 'obs_status': '', 'decimal': 0}, {'indicator': {'id': 'IC.REG.DURS', 'value': 'Time required to start a business (days)'}, 'country': {'id': 'US', 'value': 'United States'}, 'countryiso3code': 'USA', 'date': '1994', 'value': None, 'unit': '', 'obs_status': '', 'decimal': 0}, {'indicator': {'id': 'IC.REG.DURS', 'value': 'Time required to start a business (days)'}, 'country': {'id': 'US', 'value': 'United States'}, 'countryiso3code': 'USA', 'date': '1993', 'value': None, 'unit': '', 'obs_status': '', 'decimal': 0}, {'indicator': {'id': 'IC.REG.DURS', 'value': 'Time required to start a business (days)'}, 'country': {'id': 'US', 'value': 'United States'}, 'countryiso3code': 'USA', 'date': '1992', 'value': None, 'unit': '', 'obs_status': '', 'decimal': 0}, {'indicator': {'id': 'IC.REG.DURS', 'value': 'Time required to start a business (days)'}, 'country': {'id': 'US', 'value': 'United States'}, 'countryiso3code': 'USA', 'date': '1991', 'value': None, 'unit': '', 'obs_status': '', 'decimal': 0}, {'indicator': {'id': 'IC.REG.DURS', 'value': 'Time required to start a business (days)'}, 'country': {'id': 'US', 'value': 'United States'}, 'countryiso3code': 'USA', 'date': '1990', 'value': None, 'unit': '', 'obs_status': '', 'decimal': 0}, {'indicator': {'id': 'IC.REG.DURS', 'value': 'Time required to start a business (days)'}, 'country': {'id': 'US', 'value': 'United States'}, 'countryiso3code': 'USA', 'date': '1989', 'value': None, 'unit': '', 'obs_status': '', 'decimal': 0}, {'indicator': {'id': 'IC.REG.DURS', 'value': 'Time required to start a business (days)'}, 'country': {'id': 'US', 'value': 'United States'}, 'countryiso3code': 'USA', 'date': '1988', 'value': None, 'unit': '', 'obs_status': '', 'decimal': 0}, {'indicator': {'id': 'IC.REG.DURS', 'value': 'Time required to start a business (days)'}, 'country': {'id': 'US', 'value': 'United States'}, 'countryiso3code': 'USA', 'date': '1987', 'value': None, 'unit': '', 'obs_status': '', 'decimal': 0}, {'indicator': {'id': 'IC.REG.DURS', 'value': 'Time required to start a business (days)'}, 'country': {'id': 'US', 'value': 'United States'}, 'countryiso3code': 'USA', 'date': '1986', 'value': None, 'unit': '', 'obs_status': '', 'decimal': 0}, {'indicator': {'id': 'IC.REG.DURS', 'value': 'Time required to start a business (days)'}, 'country': {'id': 'US', 'value': 'United States'}, 'countryiso3code': 'USA', 'date': '1985', 'value': None, 'unit': '', 'obs_status': '', 'decimal': 0}, {'indicator': {'id': 'IC.REG.DURS', 'value': 'Time required to start a business (days)'}, 'country': {'id': 'US', 'value': 'United States'}, 'countryiso3code': 'USA', 'date': '1984', 'value': None, 'unit': '', 'obs_status': '', 'decimal': 0}, {'indicator': {'id': 'IC.REG.DURS', 'value': 'Time required to start a business (days)'}, 'country': {'id': 'US', 'value': 'United States'}, 'countryiso3code': 'USA', 'date': '1983', 'value': None, 'unit': '', 'obs_status': '', 'decimal': 0}, {'indicator': {'id': 'IC.REG.DURS', 'value': 'Time required to start a business (days)'}, 'country': {'id': 'US', 'value': 'United States'}, 'countryiso3code': 'USA', 'date': '1982', 'value': None, 'unit': '', 'obs_status': '', 'decimal': 0}, {'indicator': {'id': 'IC.REG.DURS', 'value': 'Time required to start a business (days)'}, 'country': {'id': 'US', 'value': 'United States'}, 'countryiso3code': 'USA', 'date': '1981', 'value': None, 'unit': '', 'obs_status': '', 'decimal': 0}, {'indicator': {'id': 'IC.REG.DURS', 'value': 'Time required to start a business (days)'}, 'country': {'id': 'US', 'value': 'United States'}, 'countryiso3code': 'USA', 'date': '1980', 'value': None, 'unit': '', 'obs_status': '', 'decimal': 0}, {'indicator': {'id': 'IC.REG.DURS', 'value': 'Time required to start a business (days)'}, 'country': {'id': 'US', 'value': 'United States'}, 'countryiso3code': 'USA', 'date': '1979', 'value': None, 'unit': '', 'obs_status': '', 'decimal': 0}, {'indicator': {'id': 'IC.REG.DURS', 'value': 'Time required to start a business (days)'}, 'country': {'id': 'US', 'value': 'United States'}, 'countryiso3code': 'USA', 'date': '1978', 'value': None, 'unit': '', 'obs_status': '', 'decimal': 0}, {'indicator': {'id': 'IC.REG.DURS', 'value': 'Time required to start a business (days)'}, 'country': {'id': 'US', 'value': 'United States'}, 'countryiso3code': 'USA', 'date': '1977', 'value': None, 'unit': '', 'obs_status': '', 'decimal': 0}, {'indicator': {'id': 'IC.REG.DURS', 'value': 'Time required to start a business (days)'}, 'country': {'id': 'US', 'value': 'United States'}, 'countryiso3code': 'USA', 'date': '1976', 'value': None, 'unit': '', 'obs_status': '', 'decimal': 0}, {'indicator': {'id': 'IC.REG.DURS', 'value': 'Time required to start a business (days)'}, 'country': {'id': 'US', 'value': 'United States'}, 'countryiso3code': 'USA', 'date': '1975', 'value': None, 'unit': '', 'obs_status': '', 'decimal': 0}, {'indicator': {'id': 'IC.REG.DURS', 'value': 'Time required to start a business (days)'}, 'country': {'id': 'US', 'value': 'United States'}, 'countryiso3code': 'USA', 'date': '1974', 'value': None, 'unit': '', 'obs_status': '', 'decimal': 0}, {'indicator': {'id': 'IC.REG.DURS', 'value': 'Time required to start a business (days)'}, 'country': {'id': 'US', 'value': 'United States'}, 'countryiso3code': 'USA', 'date': '1973', 'value': None, 'unit': '', 'obs_status': '', 'decimal': 0}, {'indicator': {'id': 'IC.REG.DURS', 'value': 'Time required to start a business (days)'}, 'country': {'id': 'US', 'value': 'United States'}, 'countryiso3code': 'USA', 'date': '1972', 'value': None, 'unit': '', 'obs_status': '', 'decimal': 0}, {'indicator': {'id': 'IC.REG.DURS', 'value': 'Time required to start a business (days)'}, 'country': {'id': 'US', 'value': 'United States'}, 'countryiso3code': 'USA', 'date': '1971', 'value': None, 'unit': '', 'obs_status': '', 'decimal': 0}]]\n",
            "WB_data_USA.json\n"
          ]
        },
        {
          "output_type": "display_data",
          "data": {
            "application/javascript": [
              "\n",
              "    async function download(id, filename, size) {\n",
              "      if (!google.colab.kernel.accessAllowed) {\n",
              "        return;\n",
              "      }\n",
              "      const div = document.createElement('div');\n",
              "      const label = document.createElement('label');\n",
              "      label.textContent = `Downloading \"${filename}\": `;\n",
              "      div.appendChild(label);\n",
              "      const progress = document.createElement('progress');\n",
              "      progress.max = size;\n",
              "      div.appendChild(progress);\n",
              "      document.body.appendChild(div);\n",
              "\n",
              "      const buffers = [];\n",
              "      let downloaded = 0;\n",
              "\n",
              "      const channel = await google.colab.kernel.comms.open(id);\n",
              "      // Send a message to notify the kernel that we're ready.\n",
              "      channel.send({})\n",
              "\n",
              "      for await (const message of channel.messages) {\n",
              "        // Send a message to notify the kernel that we're ready.\n",
              "        channel.send({})\n",
              "        if (message.buffers) {\n",
              "          for (const buffer of message.buffers) {\n",
              "            buffers.push(buffer);\n",
              "            downloaded += buffer.byteLength;\n",
              "            progress.value = downloaded;\n",
              "          }\n",
              "        }\n",
              "      }\n",
              "      const blob = new Blob(buffers, {type: 'application/binary'});\n",
              "      const a = document.createElement('a');\n",
              "      a.href = window.URL.createObjectURL(blob);\n",
              "      a.download = filename;\n",
              "      div.appendChild(a);\n",
              "      a.click();\n",
              "      div.remove();\n",
              "    }\n",
              "  "
            ],
            "text/plain": [
              "<IPython.core.display.Javascript object>"
            ]
          },
          "metadata": {}
        },
        {
          "output_type": "display_data",
          "data": {
            "application/javascript": [
              "download(\"download_f109ed94-ea3a-43a6-9553-94d65ede8775\", \"WB_data_USA.json\", 22669)"
            ],
            "text/plain": [
              "<IPython.core.display.Javascript object>"
            ]
          },
          "metadata": {}
        },
        {
          "output_type": "stream",
          "name": "stdout",
          "text": [
            "RUS\n",
            "http://api.worldbank.org/v2/country/RUS/indicator/IC.REG.DURS?format=json\n",
            "[{'page': 1, 'pages': 2, 'per_page': 50, 'total': 61, 'sourceid': '2', 'sourcename': 'World Development Indicators', 'lastupdated': '2021-10-28'}, [{'indicator': {'id': 'IC.REG.DURS', 'value': 'Time required to start a business (days)'}, 'country': {'id': 'RU', 'value': 'Russian Federation'}, 'countryiso3code': 'RUS', 'date': '2020', 'value': None, 'unit': '', 'obs_status': '', 'decimal': 0}, {'indicator': {'id': 'IC.REG.DURS', 'value': 'Time required to start a business (days)'}, 'country': {'id': 'RU', 'value': 'Russian Federation'}, 'countryiso3code': 'RUS', 'date': '2019', 'value': 10.1, 'unit': '', 'obs_status': '', 'decimal': 0}, {'indicator': {'id': 'IC.REG.DURS', 'value': 'Time required to start a business (days)'}, 'country': {'id': 'RU', 'value': 'Russian Federation'}, 'countryiso3code': 'RUS', 'date': '2018', 'value': 10.1, 'unit': '', 'obs_status': '', 'decimal': 0}, {'indicator': {'id': 'IC.REG.DURS', 'value': 'Time required to start a business (days)'}, 'country': {'id': 'RU', 'value': 'Russian Federation'}, 'countryiso3code': 'RUS', 'date': '2017', 'value': 10.1, 'unit': '', 'obs_status': '', 'decimal': 0}, {'indicator': {'id': 'IC.REG.DURS', 'value': 'Time required to start a business (days)'}, 'country': {'id': 'RU', 'value': 'Russian Federation'}, 'countryiso3code': 'RUS', 'date': '2016', 'value': 10.1, 'unit': '', 'obs_status': '', 'decimal': 0}, {'indicator': {'id': 'IC.REG.DURS', 'value': 'Time required to start a business (days)'}, 'country': {'id': 'RU', 'value': 'Russian Federation'}, 'countryiso3code': 'RUS', 'date': '2015', 'value': 10.8, 'unit': '', 'obs_status': '', 'decimal': 0}, {'indicator': {'id': 'IC.REG.DURS', 'value': 'Time required to start a business (days)'}, 'country': {'id': 'RU', 'value': 'Russian Federation'}, 'countryiso3code': 'RUS', 'date': '2014', 'value': 11.5, 'unit': '', 'obs_status': '', 'decimal': 0}, {'indicator': {'id': 'IC.REG.DURS', 'value': 'Time required to start a business (days)'}, 'country': {'id': 'RU', 'value': 'Russian Federation'}, 'countryiso3code': 'RUS', 'date': '2013', 'value': 13.2, 'unit': '', 'obs_status': '', 'decimal': 0}, {'indicator': {'id': 'IC.REG.DURS', 'value': 'Time required to start a business (days)'}, 'country': {'id': 'RU', 'value': 'Russian Federation'}, 'countryiso3code': 'RUS', 'date': '2012', 'value': None, 'unit': '', 'obs_status': '', 'decimal': 0}, {'indicator': {'id': 'IC.REG.DURS', 'value': 'Time required to start a business (days)'}, 'country': {'id': 'RU', 'value': 'Russian Federation'}, 'countryiso3code': 'RUS', 'date': '2011', 'value': None, 'unit': '', 'obs_status': '', 'decimal': 0}, {'indicator': {'id': 'IC.REG.DURS', 'value': 'Time required to start a business (days)'}, 'country': {'id': 'RU', 'value': 'Russian Federation'}, 'countryiso3code': 'RUS', 'date': '2010', 'value': None, 'unit': '', 'obs_status': '', 'decimal': 0}, {'indicator': {'id': 'IC.REG.DURS', 'value': 'Time required to start a business (days)'}, 'country': {'id': 'RU', 'value': 'Russian Federation'}, 'countryiso3code': 'RUS', 'date': '2009', 'value': None, 'unit': '', 'obs_status': '', 'decimal': 0}, {'indicator': {'id': 'IC.REG.DURS', 'value': 'Time required to start a business (days)'}, 'country': {'id': 'RU', 'value': 'Russian Federation'}, 'countryiso3code': 'RUS', 'date': '2008', 'value': None, 'unit': '', 'obs_status': '', 'decimal': 0}, {'indicator': {'id': 'IC.REG.DURS', 'value': 'Time required to start a business (days)'}, 'country': {'id': 'RU', 'value': 'Russian Federation'}, 'countryiso3code': 'RUS', 'date': '2007', 'value': None, 'unit': '', 'obs_status': '', 'decimal': 0}, {'indicator': {'id': 'IC.REG.DURS', 'value': 'Time required to start a business (days)'}, 'country': {'id': 'RU', 'value': 'Russian Federation'}, 'countryiso3code': 'RUS', 'date': '2006', 'value': None, 'unit': '', 'obs_status': '', 'decimal': 0}, {'indicator': {'id': 'IC.REG.DURS', 'value': 'Time required to start a business (days)'}, 'country': {'id': 'RU', 'value': 'Russian Federation'}, 'countryiso3code': 'RUS', 'date': '2005', 'value': None, 'unit': '', 'obs_status': '', 'decimal': 0}, {'indicator': {'id': 'IC.REG.DURS', 'value': 'Time required to start a business (days)'}, 'country': {'id': 'RU', 'value': 'Russian Federation'}, 'countryiso3code': 'RUS', 'date': '2004', 'value': None, 'unit': '', 'obs_status': '', 'decimal': 0}, {'indicator': {'id': 'IC.REG.DURS', 'value': 'Time required to start a business (days)'}, 'country': {'id': 'RU', 'value': 'Russian Federation'}, 'countryiso3code': 'RUS', 'date': '2003', 'value': None, 'unit': '', 'obs_status': '', 'decimal': 0}, {'indicator': {'id': 'IC.REG.DURS', 'value': 'Time required to start a business (days)'}, 'country': {'id': 'RU', 'value': 'Russian Federation'}, 'countryiso3code': 'RUS', 'date': '2002', 'value': None, 'unit': '', 'obs_status': '', 'decimal': 0}, {'indicator': {'id': 'IC.REG.DURS', 'value': 'Time required to start a business (days)'}, 'country': {'id': 'RU', 'value': 'Russian Federation'}, 'countryiso3code': 'RUS', 'date': '2001', 'value': None, 'unit': '', 'obs_status': '', 'decimal': 0}, {'indicator': {'id': 'IC.REG.DURS', 'value': 'Time required to start a business (days)'}, 'country': {'id': 'RU', 'value': 'Russian Federation'}, 'countryiso3code': 'RUS', 'date': '2000', 'value': None, 'unit': '', 'obs_status': '', 'decimal': 0}, {'indicator': {'id': 'IC.REG.DURS', 'value': 'Time required to start a business (days)'}, 'country': {'id': 'RU', 'value': 'Russian Federation'}, 'countryiso3code': 'RUS', 'date': '1999', 'value': None, 'unit': '', 'obs_status': '', 'decimal': 0}, {'indicator': {'id': 'IC.REG.DURS', 'value': 'Time required to start a business (days)'}, 'country': {'id': 'RU', 'value': 'Russian Federation'}, 'countryiso3code': 'RUS', 'date': '1998', 'value': None, 'unit': '', 'obs_status': '', 'decimal': 0}, {'indicator': {'id': 'IC.REG.DURS', 'value': 'Time required to start a business (days)'}, 'country': {'id': 'RU', 'value': 'Russian Federation'}, 'countryiso3code': 'RUS', 'date': '1997', 'value': None, 'unit': '', 'obs_status': '', 'decimal': 0}, {'indicator': {'id': 'IC.REG.DURS', 'value': 'Time required to start a business (days)'}, 'country': {'id': 'RU', 'value': 'Russian Federation'}, 'countryiso3code': 'RUS', 'date': '1996', 'value': None, 'unit': '', 'obs_status': '', 'decimal': 0}, {'indicator': {'id': 'IC.REG.DURS', 'value': 'Time required to start a business (days)'}, 'country': {'id': 'RU', 'value': 'Russian Federation'}, 'countryiso3code': 'RUS', 'date': '1995', 'value': None, 'unit': '', 'obs_status': '', 'decimal': 0}, {'indicator': {'id': 'IC.REG.DURS', 'value': 'Time required to start a business (days)'}, 'country': {'id': 'RU', 'value': 'Russian Federation'}, 'countryiso3code': 'RUS', 'date': '1994', 'value': None, 'unit': '', 'obs_status': '', 'decimal': 0}, {'indicator': {'id': 'IC.REG.DURS', 'value': 'Time required to start a business (days)'}, 'country': {'id': 'RU', 'value': 'Russian Federation'}, 'countryiso3code': 'RUS', 'date': '1993', 'value': None, 'unit': '', 'obs_status': '', 'decimal': 0}, {'indicator': {'id': 'IC.REG.DURS', 'value': 'Time required to start a business (days)'}, 'country': {'id': 'RU', 'value': 'Russian Federation'}, 'countryiso3code': 'RUS', 'date': '1992', 'value': None, 'unit': '', 'obs_status': '', 'decimal': 0}, {'indicator': {'id': 'IC.REG.DURS', 'value': 'Time required to start a business (days)'}, 'country': {'id': 'RU', 'value': 'Russian Federation'}, 'countryiso3code': 'RUS', 'date': '1991', 'value': None, 'unit': '', 'obs_status': '', 'decimal': 0}, {'indicator': {'id': 'IC.REG.DURS', 'value': 'Time required to start a business (days)'}, 'country': {'id': 'RU', 'value': 'Russian Federation'}, 'countryiso3code': 'RUS', 'date': '1990', 'value': None, 'unit': '', 'obs_status': '', 'decimal': 0}, {'indicator': {'id': 'IC.REG.DURS', 'value': 'Time required to start a business (days)'}, 'country': {'id': 'RU', 'value': 'Russian Federation'}, 'countryiso3code': 'RUS', 'date': '1989', 'value': None, 'unit': '', 'obs_status': '', 'decimal': 0}, {'indicator': {'id': 'IC.REG.DURS', 'value': 'Time required to start a business (days)'}, 'country': {'id': 'RU', 'value': 'Russian Federation'}, 'countryiso3code': 'RUS', 'date': '1988', 'value': None, 'unit': '', 'obs_status': '', 'decimal': 0}, {'indicator': {'id': 'IC.REG.DURS', 'value': 'Time required to start a business (days)'}, 'country': {'id': 'RU', 'value': 'Russian Federation'}, 'countryiso3code': 'RUS', 'date': '1987', 'value': None, 'unit': '', 'obs_status': '', 'decimal': 0}, {'indicator': {'id': 'IC.REG.DURS', 'value': 'Time required to start a business (days)'}, 'country': {'id': 'RU', 'value': 'Russian Federation'}, 'countryiso3code': 'RUS', 'date': '1986', 'value': None, 'unit': '', 'obs_status': '', 'decimal': 0}, {'indicator': {'id': 'IC.REG.DURS', 'value': 'Time required to start a business (days)'}, 'country': {'id': 'RU', 'value': 'Russian Federation'}, 'countryiso3code': 'RUS', 'date': '1985', 'value': None, 'unit': '', 'obs_status': '', 'decimal': 0}, {'indicator': {'id': 'IC.REG.DURS', 'value': 'Time required to start a business (days)'}, 'country': {'id': 'RU', 'value': 'Russian Federation'}, 'countryiso3code': 'RUS', 'date': '1984', 'value': None, 'unit': '', 'obs_status': '', 'decimal': 0}, {'indicator': {'id': 'IC.REG.DURS', 'value': 'Time required to start a business (days)'}, 'country': {'id': 'RU', 'value': 'Russian Federation'}, 'countryiso3code': 'RUS', 'date': '1983', 'value': None, 'unit': '', 'obs_status': '', 'decimal': 0}, {'indicator': {'id': 'IC.REG.DURS', 'value': 'Time required to start a business (days)'}, 'country': {'id': 'RU', 'value': 'Russian Federation'}, 'countryiso3code': 'RUS', 'date': '1982', 'value': None, 'unit': '', 'obs_status': '', 'decimal': 0}, {'indicator': {'id': 'IC.REG.DURS', 'value': 'Time required to start a business (days)'}, 'country': {'id': 'RU', 'value': 'Russian Federation'}, 'countryiso3code': 'RUS', 'date': '1981', 'value': None, 'unit': '', 'obs_status': '', 'decimal': 0}, {'indicator': {'id': 'IC.REG.DURS', 'value': 'Time required to start a business (days)'}, 'country': {'id': 'RU', 'value': 'Russian Federation'}, 'countryiso3code': 'RUS', 'date': '1980', 'value': None, 'unit': '', 'obs_status': '', 'decimal': 0}, {'indicator': {'id': 'IC.REG.DURS', 'value': 'Time required to start a business (days)'}, 'country': {'id': 'RU', 'value': 'Russian Federation'}, 'countryiso3code': 'RUS', 'date': '1979', 'value': None, 'unit': '', 'obs_status': '', 'decimal': 0}, {'indicator': {'id': 'IC.REG.DURS', 'value': 'Time required to start a business (days)'}, 'country': {'id': 'RU', 'value': 'Russian Federation'}, 'countryiso3code': 'RUS', 'date': '1978', 'value': None, 'unit': '', 'obs_status': '', 'decimal': 0}, {'indicator': {'id': 'IC.REG.DURS', 'value': 'Time required to start a business (days)'}, 'country': {'id': 'RU', 'value': 'Russian Federation'}, 'countryiso3code': 'RUS', 'date': '1977', 'value': None, 'unit': '', 'obs_status': '', 'decimal': 0}, {'indicator': {'id': 'IC.REG.DURS', 'value': 'Time required to start a business (days)'}, 'country': {'id': 'RU', 'value': 'Russian Federation'}, 'countryiso3code': 'RUS', 'date': '1976', 'value': None, 'unit': '', 'obs_status': '', 'decimal': 0}, {'indicator': {'id': 'IC.REG.DURS', 'value': 'Time required to start a business (days)'}, 'country': {'id': 'RU', 'value': 'Russian Federation'}, 'countryiso3code': 'RUS', 'date': '1975', 'value': None, 'unit': '', 'obs_status': '', 'decimal': 0}, {'indicator': {'id': 'IC.REG.DURS', 'value': 'Time required to start a business (days)'}, 'country': {'id': 'RU', 'value': 'Russian Federation'}, 'countryiso3code': 'RUS', 'date': '1974', 'value': None, 'unit': '', 'obs_status': '', 'decimal': 0}, {'indicator': {'id': 'IC.REG.DURS', 'value': 'Time required to start a business (days)'}, 'country': {'id': 'RU', 'value': 'Russian Federation'}, 'countryiso3code': 'RUS', 'date': '1973', 'value': None, 'unit': '', 'obs_status': '', 'decimal': 0}, {'indicator': {'id': 'IC.REG.DURS', 'value': 'Time required to start a business (days)'}, 'country': {'id': 'RU', 'value': 'Russian Federation'}, 'countryiso3code': 'RUS', 'date': '1972', 'value': None, 'unit': '', 'obs_status': '', 'decimal': 0}, {'indicator': {'id': 'IC.REG.DURS', 'value': 'Time required to start a business (days)'}, 'country': {'id': 'RU', 'value': 'Russian Federation'}, 'countryiso3code': 'RUS', 'date': '1971', 'value': None, 'unit': '', 'obs_status': '', 'decimal': 0}]]\n",
            "WB_data_RUS.json\n"
          ]
        },
        {
          "output_type": "display_data",
          "data": {
            "application/javascript": [
              "\n",
              "    async function download(id, filename, size) {\n",
              "      if (!google.colab.kernel.accessAllowed) {\n",
              "        return;\n",
              "      }\n",
              "      const div = document.createElement('div');\n",
              "      const label = document.createElement('label');\n",
              "      label.textContent = `Downloading \"${filename}\": `;\n",
              "      div.appendChild(label);\n",
              "      const progress = document.createElement('progress');\n",
              "      progress.max = size;\n",
              "      div.appendChild(progress);\n",
              "      document.body.appendChild(div);\n",
              "\n",
              "      const buffers = [];\n",
              "      let downloaded = 0;\n",
              "\n",
              "      const channel = await google.colab.kernel.comms.open(id);\n",
              "      // Send a message to notify the kernel that we're ready.\n",
              "      channel.send({})\n",
              "\n",
              "      for await (const message of channel.messages) {\n",
              "        // Send a message to notify the kernel that we're ready.\n",
              "        channel.send({})\n",
              "        if (message.buffers) {\n",
              "          for (const buffer of message.buffers) {\n",
              "            buffers.push(buffer);\n",
              "            downloaded += buffer.byteLength;\n",
              "            progress.value = downloaded;\n",
              "          }\n",
              "        }\n",
              "      }\n",
              "      const blob = new Blob(buffers, {type: 'application/binary'});\n",
              "      const a = document.createElement('a');\n",
              "      a.href = window.URL.createObjectURL(blob);\n",
              "      a.download = filename;\n",
              "      div.appendChild(a);\n",
              "      a.click();\n",
              "      div.remove();\n",
              "    }\n",
              "  "
            ],
            "text/plain": [
              "<IPython.core.display.Javascript object>"
            ]
          },
          "metadata": {}
        },
        {
          "output_type": "display_data",
          "data": {
            "application/javascript": [
              "download(\"download_a3e6f67b-0e70-4ac5-947b-04e17578958d\", \"WB_data_RUS.json\", 22926)"
            ],
            "text/plain": [
              "<IPython.core.display.Javascript object>"
            ]
          },
          "metadata": {}
        },
        {
          "output_type": "stream",
          "name": "stdout",
          "text": [
            "CHN\n",
            "http://api.worldbank.org/v2/country/CHN/indicator/IC.REG.DURS?format=json\n",
            "[{'page': 1, 'pages': 2, 'per_page': 50, 'total': 61, 'sourceid': '2', 'sourcename': 'World Development Indicators', 'lastupdated': '2021-10-28'}, [{'indicator': {'id': 'IC.REG.DURS', 'value': 'Time required to start a business (days)'}, 'country': {'id': 'CN', 'value': 'China'}, 'countryiso3code': 'CHN', 'date': '2020', 'value': None, 'unit': '', 'obs_status': '', 'decimal': 0}, {'indicator': {'id': 'IC.REG.DURS', 'value': 'Time required to start a business (days)'}, 'country': {'id': 'CN', 'value': 'China'}, 'countryiso3code': 'CHN', 'date': '2019', 'value': 8.5, 'unit': '', 'obs_status': '', 'decimal': 0}, {'indicator': {'id': 'IC.REG.DURS', 'value': 'Time required to start a business (days)'}, 'country': {'id': 'CN', 'value': 'China'}, 'countryiso3code': 'CHN', 'date': '2018', 'value': 8.5, 'unit': '', 'obs_status': '', 'decimal': 0}, {'indicator': {'id': 'IC.REG.DURS', 'value': 'Time required to start a business (days)'}, 'country': {'id': 'CN', 'value': 'China'}, 'countryiso3code': 'CHN', 'date': '2017', 'value': 22.9, 'unit': '', 'obs_status': '', 'decimal': 0}, {'indicator': {'id': 'IC.REG.DURS', 'value': 'Time required to start a business (days)'}, 'country': {'id': 'CN', 'value': 'China'}, 'countryiso3code': 'CHN', 'date': '2016', 'value': 26.9, 'unit': '', 'obs_status': '', 'decimal': 0}, {'indicator': {'id': 'IC.REG.DURS', 'value': 'Time required to start a business (days)'}, 'country': {'id': 'CN', 'value': 'China'}, 'countryiso3code': 'CHN', 'date': '2015', 'value': 29.3, 'unit': '', 'obs_status': '', 'decimal': 0}, {'indicator': {'id': 'IC.REG.DURS', 'value': 'Time required to start a business (days)'}, 'country': {'id': 'CN', 'value': 'China'}, 'countryiso3code': 'CHN', 'date': '2014', 'value': 29.3, 'unit': '', 'obs_status': '', 'decimal': 0}, {'indicator': {'id': 'IC.REG.DURS', 'value': 'Time required to start a business (days)'}, 'country': {'id': 'CN', 'value': 'China'}, 'countryiso3code': 'CHN', 'date': '2013', 'value': 32.3, 'unit': '', 'obs_status': '', 'decimal': 0}, {'indicator': {'id': 'IC.REG.DURS', 'value': 'Time required to start a business (days)'}, 'country': {'id': 'CN', 'value': 'China'}, 'countryiso3code': 'CHN', 'date': '2012', 'value': None, 'unit': '', 'obs_status': '', 'decimal': 0}, {'indicator': {'id': 'IC.REG.DURS', 'value': 'Time required to start a business (days)'}, 'country': {'id': 'CN', 'value': 'China'}, 'countryiso3code': 'CHN', 'date': '2011', 'value': None, 'unit': '', 'obs_status': '', 'decimal': 0}, {'indicator': {'id': 'IC.REG.DURS', 'value': 'Time required to start a business (days)'}, 'country': {'id': 'CN', 'value': 'China'}, 'countryiso3code': 'CHN', 'date': '2010', 'value': None, 'unit': '', 'obs_status': '', 'decimal': 0}, {'indicator': {'id': 'IC.REG.DURS', 'value': 'Time required to start a business (days)'}, 'country': {'id': 'CN', 'value': 'China'}, 'countryiso3code': 'CHN', 'date': '2009', 'value': None, 'unit': '', 'obs_status': '', 'decimal': 0}, {'indicator': {'id': 'IC.REG.DURS', 'value': 'Time required to start a business (days)'}, 'country': {'id': 'CN', 'value': 'China'}, 'countryiso3code': 'CHN', 'date': '2008', 'value': None, 'unit': '', 'obs_status': '', 'decimal': 0}, {'indicator': {'id': 'IC.REG.DURS', 'value': 'Time required to start a business (days)'}, 'country': {'id': 'CN', 'value': 'China'}, 'countryiso3code': 'CHN', 'date': '2007', 'value': None, 'unit': '', 'obs_status': '', 'decimal': 0}, {'indicator': {'id': 'IC.REG.DURS', 'value': 'Time required to start a business (days)'}, 'country': {'id': 'CN', 'value': 'China'}, 'countryiso3code': 'CHN', 'date': '2006', 'value': None, 'unit': '', 'obs_status': '', 'decimal': 0}, {'indicator': {'id': 'IC.REG.DURS', 'value': 'Time required to start a business (days)'}, 'country': {'id': 'CN', 'value': 'China'}, 'countryiso3code': 'CHN', 'date': '2005', 'value': None, 'unit': '', 'obs_status': '', 'decimal': 0}, {'indicator': {'id': 'IC.REG.DURS', 'value': 'Time required to start a business (days)'}, 'country': {'id': 'CN', 'value': 'China'}, 'countryiso3code': 'CHN', 'date': '2004', 'value': None, 'unit': '', 'obs_status': '', 'decimal': 0}, {'indicator': {'id': 'IC.REG.DURS', 'value': 'Time required to start a business (days)'}, 'country': {'id': 'CN', 'value': 'China'}, 'countryiso3code': 'CHN', 'date': '2003', 'value': None, 'unit': '', 'obs_status': '', 'decimal': 0}, {'indicator': {'id': 'IC.REG.DURS', 'value': 'Time required to start a business (days)'}, 'country': {'id': 'CN', 'value': 'China'}, 'countryiso3code': 'CHN', 'date': '2002', 'value': None, 'unit': '', 'obs_status': '', 'decimal': 0}, {'indicator': {'id': 'IC.REG.DURS', 'value': 'Time required to start a business (days)'}, 'country': {'id': 'CN', 'value': 'China'}, 'countryiso3code': 'CHN', 'date': '2001', 'value': None, 'unit': '', 'obs_status': '', 'decimal': 0}, {'indicator': {'id': 'IC.REG.DURS', 'value': 'Time required to start a business (days)'}, 'country': {'id': 'CN', 'value': 'China'}, 'countryiso3code': 'CHN', 'date': '2000', 'value': None, 'unit': '', 'obs_status': '', 'decimal': 0}, {'indicator': {'id': 'IC.REG.DURS', 'value': 'Time required to start a business (days)'}, 'country': {'id': 'CN', 'value': 'China'}, 'countryiso3code': 'CHN', 'date': '1999', 'value': None, 'unit': '', 'obs_status': '', 'decimal': 0}, {'indicator': {'id': 'IC.REG.DURS', 'value': 'Time required to start a business (days)'}, 'country': {'id': 'CN', 'value': 'China'}, 'countryiso3code': 'CHN', 'date': '1998', 'value': None, 'unit': '', 'obs_status': '', 'decimal': 0}, {'indicator': {'id': 'IC.REG.DURS', 'value': 'Time required to start a business (days)'}, 'country': {'id': 'CN', 'value': 'China'}, 'countryiso3code': 'CHN', 'date': '1997', 'value': None, 'unit': '', 'obs_status': '', 'decimal': 0}, {'indicator': {'id': 'IC.REG.DURS', 'value': 'Time required to start a business (days)'}, 'country': {'id': 'CN', 'value': 'China'}, 'countryiso3code': 'CHN', 'date': '1996', 'value': None, 'unit': '', 'obs_status': '', 'decimal': 0}, {'indicator': {'id': 'IC.REG.DURS', 'value': 'Time required to start a business (days)'}, 'country': {'id': 'CN', 'value': 'China'}, 'countryiso3code': 'CHN', 'date': '1995', 'value': None, 'unit': '', 'obs_status': '', 'decimal': 0}, {'indicator': {'id': 'IC.REG.DURS', 'value': 'Time required to start a business (days)'}, 'country': {'id': 'CN', 'value': 'China'}, 'countryiso3code': 'CHN', 'date': '1994', 'value': None, 'unit': '', 'obs_status': '', 'decimal': 0}, {'indicator': {'id': 'IC.REG.DURS', 'value': 'Time required to start a business (days)'}, 'country': {'id': 'CN', 'value': 'China'}, 'countryiso3code': 'CHN', 'date': '1993', 'value': None, 'unit': '', 'obs_status': '', 'decimal': 0}, {'indicator': {'id': 'IC.REG.DURS', 'value': 'Time required to start a business (days)'}, 'country': {'id': 'CN', 'value': 'China'}, 'countryiso3code': 'CHN', 'date': '1992', 'value': None, 'unit': '', 'obs_status': '', 'decimal': 0}, {'indicator': {'id': 'IC.REG.DURS', 'value': 'Time required to start a business (days)'}, 'country': {'id': 'CN', 'value': 'China'}, 'countryiso3code': 'CHN', 'date': '1991', 'value': None, 'unit': '', 'obs_status': '', 'decimal': 0}, {'indicator': {'id': 'IC.REG.DURS', 'value': 'Time required to start a business (days)'}, 'country': {'id': 'CN', 'value': 'China'}, 'countryiso3code': 'CHN', 'date': '1990', 'value': None, 'unit': '', 'obs_status': '', 'decimal': 0}, {'indicator': {'id': 'IC.REG.DURS', 'value': 'Time required to start a business (days)'}, 'country': {'id': 'CN', 'value': 'China'}, 'countryiso3code': 'CHN', 'date': '1989', 'value': None, 'unit': '', 'obs_status': '', 'decimal': 0}, {'indicator': {'id': 'IC.REG.DURS', 'value': 'Time required to start a business (days)'}, 'country': {'id': 'CN', 'value': 'China'}, 'countryiso3code': 'CHN', 'date': '1988', 'value': None, 'unit': '', 'obs_status': '', 'decimal': 0}, {'indicator': {'id': 'IC.REG.DURS', 'value': 'Time required to start a business (days)'}, 'country': {'id': 'CN', 'value': 'China'}, 'countryiso3code': 'CHN', 'date': '1987', 'value': None, 'unit': '', 'obs_status': '', 'decimal': 0}, {'indicator': {'id': 'IC.REG.DURS', 'value': 'Time required to start a business (days)'}, 'country': {'id': 'CN', 'value': 'China'}, 'countryiso3code': 'CHN', 'date': '1986', 'value': None, 'unit': '', 'obs_status': '', 'decimal': 0}, {'indicator': {'id': 'IC.REG.DURS', 'value': 'Time required to start a business (days)'}, 'country': {'id': 'CN', 'value': 'China'}, 'countryiso3code': 'CHN', 'date': '1985', 'value': None, 'unit': '', 'obs_status': '', 'decimal': 0}, {'indicator': {'id': 'IC.REG.DURS', 'value': 'Time required to start a business (days)'}, 'country': {'id': 'CN', 'value': 'China'}, 'countryiso3code': 'CHN', 'date': '1984', 'value': None, 'unit': '', 'obs_status': '', 'decimal': 0}, {'indicator': {'id': 'IC.REG.DURS', 'value': 'Time required to start a business (days)'}, 'country': {'id': 'CN', 'value': 'China'}, 'countryiso3code': 'CHN', 'date': '1983', 'value': None, 'unit': '', 'obs_status': '', 'decimal': 0}, {'indicator': {'id': 'IC.REG.DURS', 'value': 'Time required to start a business (days)'}, 'country': {'id': 'CN', 'value': 'China'}, 'countryiso3code': 'CHN', 'date': '1982', 'value': None, 'unit': '', 'obs_status': '', 'decimal': 0}, {'indicator': {'id': 'IC.REG.DURS', 'value': 'Time required to start a business (days)'}, 'country': {'id': 'CN', 'value': 'China'}, 'countryiso3code': 'CHN', 'date': '1981', 'value': None, 'unit': '', 'obs_status': '', 'decimal': 0}, {'indicator': {'id': 'IC.REG.DURS', 'value': 'Time required to start a business (days)'}, 'country': {'id': 'CN', 'value': 'China'}, 'countryiso3code': 'CHN', 'date': '1980', 'value': None, 'unit': '', 'obs_status': '', 'decimal': 0}, {'indicator': {'id': 'IC.REG.DURS', 'value': 'Time required to start a business (days)'}, 'country': {'id': 'CN', 'value': 'China'}, 'countryiso3code': 'CHN', 'date': '1979', 'value': None, 'unit': '', 'obs_status': '', 'decimal': 0}, {'indicator': {'id': 'IC.REG.DURS', 'value': 'Time required to start a business (days)'}, 'country': {'id': 'CN', 'value': 'China'}, 'countryiso3code': 'CHN', 'date': '1978', 'value': None, 'unit': '', 'obs_status': '', 'decimal': 0}, {'indicator': {'id': 'IC.REG.DURS', 'value': 'Time required to start a business (days)'}, 'country': {'id': 'CN', 'value': 'China'}, 'countryiso3code': 'CHN', 'date': '1977', 'value': None, 'unit': '', 'obs_status': '', 'decimal': 0}, {'indicator': {'id': 'IC.REG.DURS', 'value': 'Time required to start a business (days)'}, 'country': {'id': 'CN', 'value': 'China'}, 'countryiso3code': 'CHN', 'date': '1976', 'value': None, 'unit': '', 'obs_status': '', 'decimal': 0}, {'indicator': {'id': 'IC.REG.DURS', 'value': 'Time required to start a business (days)'}, 'country': {'id': 'CN', 'value': 'China'}, 'countryiso3code': 'CHN', 'date': '1975', 'value': None, 'unit': '', 'obs_status': '', 'decimal': 0}, {'indicator': {'id': 'IC.REG.DURS', 'value': 'Time required to start a business (days)'}, 'country': {'id': 'CN', 'value': 'China'}, 'countryiso3code': 'CHN', 'date': '1974', 'value': None, 'unit': '', 'obs_status': '', 'decimal': 0}, {'indicator': {'id': 'IC.REG.DURS', 'value': 'Time required to start a business (days)'}, 'country': {'id': 'CN', 'value': 'China'}, 'countryiso3code': 'CHN', 'date': '1973', 'value': None, 'unit': '', 'obs_status': '', 'decimal': 0}, {'indicator': {'id': 'IC.REG.DURS', 'value': 'Time required to start a business (days)'}, 'country': {'id': 'CN', 'value': 'China'}, 'countryiso3code': 'CHN', 'date': '1972', 'value': None, 'unit': '', 'obs_status': '', 'decimal': 0}, {'indicator': {'id': 'IC.REG.DURS', 'value': 'Time required to start a business (days)'}, 'country': {'id': 'CN', 'value': 'China'}, 'countryiso3code': 'CHN', 'date': '1971', 'value': None, 'unit': '', 'obs_status': '', 'decimal': 0}]]\n",
            "WB_data_CHN.json\n"
          ]
        },
        {
          "output_type": "display_data",
          "data": {
            "application/javascript": [
              "\n",
              "    async function download(id, filename, size) {\n",
              "      if (!google.colab.kernel.accessAllowed) {\n",
              "        return;\n",
              "      }\n",
              "      const div = document.createElement('div');\n",
              "      const label = document.createElement('label');\n",
              "      label.textContent = `Downloading \"${filename}\": `;\n",
              "      div.appendChild(label);\n",
              "      const progress = document.createElement('progress');\n",
              "      progress.max = size;\n",
              "      div.appendChild(progress);\n",
              "      document.body.appendChild(div);\n",
              "\n",
              "      const buffers = [];\n",
              "      let downloaded = 0;\n",
              "\n",
              "      const channel = await google.colab.kernel.comms.open(id);\n",
              "      // Send a message to notify the kernel that we're ready.\n",
              "      channel.send({})\n",
              "\n",
              "      for await (const message of channel.messages) {\n",
              "        // Send a message to notify the kernel that we're ready.\n",
              "        channel.send({})\n",
              "        if (message.buffers) {\n",
              "          for (const buffer of message.buffers) {\n",
              "            buffers.push(buffer);\n",
              "            downloaded += buffer.byteLength;\n",
              "            progress.value = downloaded;\n",
              "          }\n",
              "        }\n",
              "      }\n",
              "      const blob = new Blob(buffers, {type: 'application/binary'});\n",
              "      const a = document.createElement('a');\n",
              "      a.href = window.URL.createObjectURL(blob);\n",
              "      a.download = filename;\n",
              "      div.appendChild(a);\n",
              "      a.click();\n",
              "      div.remove();\n",
              "    }\n",
              "  "
            ],
            "text/plain": [
              "<IPython.core.display.Javascript object>"
            ]
          },
          "metadata": {}
        },
        {
          "output_type": "display_data",
          "data": {
            "application/javascript": [
              "download(\"download_be1a44d4-364b-4224-a0c7-0d74cf9d6755\", \"WB_data_CHN.json\", 22274)"
            ],
            "text/plain": [
              "<IPython.core.display.Javascript object>"
            ]
          },
          "metadata": {}
        },
        {
          "output_type": "stream",
          "name": "stdout",
          "text": [
            "AUS\n",
            "http://api.worldbank.org/v2/country/AUS/indicator/IC.REG.DURS?format=json\n",
            "[{'page': 1, 'pages': 2, 'per_page': 50, 'total': 61, 'sourceid': '2', 'sourcename': 'World Development Indicators', 'lastupdated': '2021-10-28'}, [{'indicator': {'id': 'IC.REG.DURS', 'value': 'Time required to start a business (days)'}, 'country': {'id': 'AU', 'value': 'Australia'}, 'countryiso3code': 'AUS', 'date': '2020', 'value': None, 'unit': '', 'obs_status': '', 'decimal': 0}, {'indicator': {'id': 'IC.REG.DURS', 'value': 'Time required to start a business (days)'}, 'country': {'id': 'AU', 'value': 'Australia'}, 'countryiso3code': 'AUS', 'date': '2019', 'value': 2, 'unit': '', 'obs_status': '', 'decimal': 0}, {'indicator': {'id': 'IC.REG.DURS', 'value': 'Time required to start a business (days)'}, 'country': {'id': 'AU', 'value': 'Australia'}, 'countryiso3code': 'AUS', 'date': '2018', 'value': 2.5, 'unit': '', 'obs_status': '', 'decimal': 0}, {'indicator': {'id': 'IC.REG.DURS', 'value': 'Time required to start a business (days)'}, 'country': {'id': 'AU', 'value': 'Australia'}, 'countryiso3code': 'AUS', 'date': '2017', 'value': 2.5, 'unit': '', 'obs_status': '', 'decimal': 0}, {'indicator': {'id': 'IC.REG.DURS', 'value': 'Time required to start a business (days)'}, 'country': {'id': 'AU', 'value': 'Australia'}, 'countryiso3code': 'AUS', 'date': '2016', 'value': 2.5, 'unit': '', 'obs_status': '', 'decimal': 0}, {'indicator': {'id': 'IC.REG.DURS', 'value': 'Time required to start a business (days)'}, 'country': {'id': 'AU', 'value': 'Australia'}, 'countryiso3code': 'AUS', 'date': '2015', 'value': 2.5, 'unit': '', 'obs_status': '', 'decimal': 0}, {'indicator': {'id': 'IC.REG.DURS', 'value': 'Time required to start a business (days)'}, 'country': {'id': 'AU', 'value': 'Australia'}, 'countryiso3code': 'AUS', 'date': '2014', 'value': 2.5, 'unit': '', 'obs_status': '', 'decimal': 0}, {'indicator': {'id': 'IC.REG.DURS', 'value': 'Time required to start a business (days)'}, 'country': {'id': 'AU', 'value': 'Australia'}, 'countryiso3code': 'AUS', 'date': '2013', 'value': 2.5, 'unit': '', 'obs_status': '', 'decimal': 0}, {'indicator': {'id': 'IC.REG.DURS', 'value': 'Time required to start a business (days)'}, 'country': {'id': 'AU', 'value': 'Australia'}, 'countryiso3code': 'AUS', 'date': '2012', 'value': 2.5, 'unit': '', 'obs_status': '', 'decimal': 0}, {'indicator': {'id': 'IC.REG.DURS', 'value': 'Time required to start a business (days)'}, 'country': {'id': 'AU', 'value': 'Australia'}, 'countryiso3code': 'AUS', 'date': '2011', 'value': 2.5, 'unit': '', 'obs_status': '', 'decimal': 0}, {'indicator': {'id': 'IC.REG.DURS', 'value': 'Time required to start a business (days)'}, 'country': {'id': 'AU', 'value': 'Australia'}, 'countryiso3code': 'AUS', 'date': '2010', 'value': 2.5, 'unit': '', 'obs_status': '', 'decimal': 0}, {'indicator': {'id': 'IC.REG.DURS', 'value': 'Time required to start a business (days)'}, 'country': {'id': 'AU', 'value': 'Australia'}, 'countryiso3code': 'AUS', 'date': '2009', 'value': 2.5, 'unit': '', 'obs_status': '', 'decimal': 0}, {'indicator': {'id': 'IC.REG.DURS', 'value': 'Time required to start a business (days)'}, 'country': {'id': 'AU', 'value': 'Australia'}, 'countryiso3code': 'AUS', 'date': '2008', 'value': 2.5, 'unit': '', 'obs_status': '', 'decimal': 0}, {'indicator': {'id': 'IC.REG.DURS', 'value': 'Time required to start a business (days)'}, 'country': {'id': 'AU', 'value': 'Australia'}, 'countryiso3code': 'AUS', 'date': '2007', 'value': 3, 'unit': '', 'obs_status': '', 'decimal': 0}, {'indicator': {'id': 'IC.REG.DURS', 'value': 'Time required to start a business (days)'}, 'country': {'id': 'AU', 'value': 'Australia'}, 'countryiso3code': 'AUS', 'date': '2006', 'value': 3, 'unit': '', 'obs_status': '', 'decimal': 0}, {'indicator': {'id': 'IC.REG.DURS', 'value': 'Time required to start a business (days)'}, 'country': {'id': 'AU', 'value': 'Australia'}, 'countryiso3code': 'AUS', 'date': '2005', 'value': 3, 'unit': '', 'obs_status': '', 'decimal': 0}, {'indicator': {'id': 'IC.REG.DURS', 'value': 'Time required to start a business (days)'}, 'country': {'id': 'AU', 'value': 'Australia'}, 'countryiso3code': 'AUS', 'date': '2004', 'value': 3, 'unit': '', 'obs_status': '', 'decimal': 0}, {'indicator': {'id': 'IC.REG.DURS', 'value': 'Time required to start a business (days)'}, 'country': {'id': 'AU', 'value': 'Australia'}, 'countryiso3code': 'AUS', 'date': '2003', 'value': 3, 'unit': '', 'obs_status': '', 'decimal': 0}, {'indicator': {'id': 'IC.REG.DURS', 'value': 'Time required to start a business (days)'}, 'country': {'id': 'AU', 'value': 'Australia'}, 'countryiso3code': 'AUS', 'date': '2002', 'value': None, 'unit': '', 'obs_status': '', 'decimal': 0}, {'indicator': {'id': 'IC.REG.DURS', 'value': 'Time required to start a business (days)'}, 'country': {'id': 'AU', 'value': 'Australia'}, 'countryiso3code': 'AUS', 'date': '2001', 'value': None, 'unit': '', 'obs_status': '', 'decimal': 0}, {'indicator': {'id': 'IC.REG.DURS', 'value': 'Time required to start a business (days)'}, 'country': {'id': 'AU', 'value': 'Australia'}, 'countryiso3code': 'AUS', 'date': '2000', 'value': None, 'unit': '', 'obs_status': '', 'decimal': 0}, {'indicator': {'id': 'IC.REG.DURS', 'value': 'Time required to start a business (days)'}, 'country': {'id': 'AU', 'value': 'Australia'}, 'countryiso3code': 'AUS', 'date': '1999', 'value': None, 'unit': '', 'obs_status': '', 'decimal': 0}, {'indicator': {'id': 'IC.REG.DURS', 'value': 'Time required to start a business (days)'}, 'country': {'id': 'AU', 'value': 'Australia'}, 'countryiso3code': 'AUS', 'date': '1998', 'value': None, 'unit': '', 'obs_status': '', 'decimal': 0}, {'indicator': {'id': 'IC.REG.DURS', 'value': 'Time required to start a business (days)'}, 'country': {'id': 'AU', 'value': 'Australia'}, 'countryiso3code': 'AUS', 'date': '1997', 'value': None, 'unit': '', 'obs_status': '', 'decimal': 0}, {'indicator': {'id': 'IC.REG.DURS', 'value': 'Time required to start a business (days)'}, 'country': {'id': 'AU', 'value': 'Australia'}, 'countryiso3code': 'AUS', 'date': '1996', 'value': None, 'unit': '', 'obs_status': '', 'decimal': 0}, {'indicator': {'id': 'IC.REG.DURS', 'value': 'Time required to start a business (days)'}, 'country': {'id': 'AU', 'value': 'Australia'}, 'countryiso3code': 'AUS', 'date': '1995', 'value': None, 'unit': '', 'obs_status': '', 'decimal': 0}, {'indicator': {'id': 'IC.REG.DURS', 'value': 'Time required to start a business (days)'}, 'country': {'id': 'AU', 'value': 'Australia'}, 'countryiso3code': 'AUS', 'date': '1994', 'value': None, 'unit': '', 'obs_status': '', 'decimal': 0}, {'indicator': {'id': 'IC.REG.DURS', 'value': 'Time required to start a business (days)'}, 'country': {'id': 'AU', 'value': 'Australia'}, 'countryiso3code': 'AUS', 'date': '1993', 'value': None, 'unit': '', 'obs_status': '', 'decimal': 0}, {'indicator': {'id': 'IC.REG.DURS', 'value': 'Time required to start a business (days)'}, 'country': {'id': 'AU', 'value': 'Australia'}, 'countryiso3code': 'AUS', 'date': '1992', 'value': None, 'unit': '', 'obs_status': '', 'decimal': 0}, {'indicator': {'id': 'IC.REG.DURS', 'value': 'Time required to start a business (days)'}, 'country': {'id': 'AU', 'value': 'Australia'}, 'countryiso3code': 'AUS', 'date': '1991', 'value': None, 'unit': '', 'obs_status': '', 'decimal': 0}, {'indicator': {'id': 'IC.REG.DURS', 'value': 'Time required to start a business (days)'}, 'country': {'id': 'AU', 'value': 'Australia'}, 'countryiso3code': 'AUS', 'date': '1990', 'value': None, 'unit': '', 'obs_status': '', 'decimal': 0}, {'indicator': {'id': 'IC.REG.DURS', 'value': 'Time required to start a business (days)'}, 'country': {'id': 'AU', 'value': 'Australia'}, 'countryiso3code': 'AUS', 'date': '1989', 'value': None, 'unit': '', 'obs_status': '', 'decimal': 0}, {'indicator': {'id': 'IC.REG.DURS', 'value': 'Time required to start a business (days)'}, 'country': {'id': 'AU', 'value': 'Australia'}, 'countryiso3code': 'AUS', 'date': '1988', 'value': None, 'unit': '', 'obs_status': '', 'decimal': 0}, {'indicator': {'id': 'IC.REG.DURS', 'value': 'Time required to start a business (days)'}, 'country': {'id': 'AU', 'value': 'Australia'}, 'countryiso3code': 'AUS', 'date': '1987', 'value': None, 'unit': '', 'obs_status': '', 'decimal': 0}, {'indicator': {'id': 'IC.REG.DURS', 'value': 'Time required to start a business (days)'}, 'country': {'id': 'AU', 'value': 'Australia'}, 'countryiso3code': 'AUS', 'date': '1986', 'value': None, 'unit': '', 'obs_status': '', 'decimal': 0}, {'indicator': {'id': 'IC.REG.DURS', 'value': 'Time required to start a business (days)'}, 'country': {'id': 'AU', 'value': 'Australia'}, 'countryiso3code': 'AUS', 'date': '1985', 'value': None, 'unit': '', 'obs_status': '', 'decimal': 0}, {'indicator': {'id': 'IC.REG.DURS', 'value': 'Time required to start a business (days)'}, 'country': {'id': 'AU', 'value': 'Australia'}, 'countryiso3code': 'AUS', 'date': '1984', 'value': None, 'unit': '', 'obs_status': '', 'decimal': 0}, {'indicator': {'id': 'IC.REG.DURS', 'value': 'Time required to start a business (days)'}, 'country': {'id': 'AU', 'value': 'Australia'}, 'countryiso3code': 'AUS', 'date': '1983', 'value': None, 'unit': '', 'obs_status': '', 'decimal': 0}, {'indicator': {'id': 'IC.REG.DURS', 'value': 'Time required to start a business (days)'}, 'country': {'id': 'AU', 'value': 'Australia'}, 'countryiso3code': 'AUS', 'date': '1982', 'value': None, 'unit': '', 'obs_status': '', 'decimal': 0}, {'indicator': {'id': 'IC.REG.DURS', 'value': 'Time required to start a business (days)'}, 'country': {'id': 'AU', 'value': 'Australia'}, 'countryiso3code': 'AUS', 'date': '1981', 'value': None, 'unit': '', 'obs_status': '', 'decimal': 0}, {'indicator': {'id': 'IC.REG.DURS', 'value': 'Time required to start a business (days)'}, 'country': {'id': 'AU', 'value': 'Australia'}, 'countryiso3code': 'AUS', 'date': '1980', 'value': None, 'unit': '', 'obs_status': '', 'decimal': 0}, {'indicator': {'id': 'IC.REG.DURS', 'value': 'Time required to start a business (days)'}, 'country': {'id': 'AU', 'value': 'Australia'}, 'countryiso3code': 'AUS', 'date': '1979', 'value': None, 'unit': '', 'obs_status': '', 'decimal': 0}, {'indicator': {'id': 'IC.REG.DURS', 'value': 'Time required to start a business (days)'}, 'country': {'id': 'AU', 'value': 'Australia'}, 'countryiso3code': 'AUS', 'date': '1978', 'value': None, 'unit': '', 'obs_status': '', 'decimal': 0}, {'indicator': {'id': 'IC.REG.DURS', 'value': 'Time required to start a business (days)'}, 'country': {'id': 'AU', 'value': 'Australia'}, 'countryiso3code': 'AUS', 'date': '1977', 'value': None, 'unit': '', 'obs_status': '', 'decimal': 0}, {'indicator': {'id': 'IC.REG.DURS', 'value': 'Time required to start a business (days)'}, 'country': {'id': 'AU', 'value': 'Australia'}, 'countryiso3code': 'AUS', 'date': '1976', 'value': None, 'unit': '', 'obs_status': '', 'decimal': 0}, {'indicator': {'id': 'IC.REG.DURS', 'value': 'Time required to start a business (days)'}, 'country': {'id': 'AU', 'value': 'Australia'}, 'countryiso3code': 'AUS', 'date': '1975', 'value': None, 'unit': '', 'obs_status': '', 'decimal': 0}, {'indicator': {'id': 'IC.REG.DURS', 'value': 'Time required to start a business (days)'}, 'country': {'id': 'AU', 'value': 'Australia'}, 'countryiso3code': 'AUS', 'date': '1974', 'value': None, 'unit': '', 'obs_status': '', 'decimal': 0}, {'indicator': {'id': 'IC.REG.DURS', 'value': 'Time required to start a business (days)'}, 'country': {'id': 'AU', 'value': 'Australia'}, 'countryiso3code': 'AUS', 'date': '1973', 'value': None, 'unit': '', 'obs_status': '', 'decimal': 0}, {'indicator': {'id': 'IC.REG.DURS', 'value': 'Time required to start a business (days)'}, 'country': {'id': 'AU', 'value': 'Australia'}, 'countryiso3code': 'AUS', 'date': '1972', 'value': None, 'unit': '', 'obs_status': '', 'decimal': 0}, {'indicator': {'id': 'IC.REG.DURS', 'value': 'Time required to start a business (days)'}, 'country': {'id': 'AU', 'value': 'Australia'}, 'countryiso3code': 'AUS', 'date': '1971', 'value': None, 'unit': '', 'obs_status': '', 'decimal': 0}]]\n",
            "WB_data_AUS.json\n"
          ]
        },
        {
          "output_type": "display_data",
          "data": {
            "application/javascript": [
              "\n",
              "    async function download(id, filename, size) {\n",
              "      if (!google.colab.kernel.accessAllowed) {\n",
              "        return;\n",
              "      }\n",
              "      const div = document.createElement('div');\n",
              "      const label = document.createElement('label');\n",
              "      label.textContent = `Downloading \"${filename}\": `;\n",
              "      div.appendChild(label);\n",
              "      const progress = document.createElement('progress');\n",
              "      progress.max = size;\n",
              "      div.appendChild(progress);\n",
              "      document.body.appendChild(div);\n",
              "\n",
              "      const buffers = [];\n",
              "      let downloaded = 0;\n",
              "\n",
              "      const channel = await google.colab.kernel.comms.open(id);\n",
              "      // Send a message to notify the kernel that we're ready.\n",
              "      channel.send({})\n",
              "\n",
              "      for await (const message of channel.messages) {\n",
              "        // Send a message to notify the kernel that we're ready.\n",
              "        channel.send({})\n",
              "        if (message.buffers) {\n",
              "          for (const buffer of message.buffers) {\n",
              "            buffers.push(buffer);\n",
              "            downloaded += buffer.byteLength;\n",
              "            progress.value = downloaded;\n",
              "          }\n",
              "        }\n",
              "      }\n",
              "      const blob = new Blob(buffers, {type: 'application/binary'});\n",
              "      const a = document.createElement('a');\n",
              "      a.href = window.URL.createObjectURL(blob);\n",
              "      a.download = filename;\n",
              "      div.appendChild(a);\n",
              "      a.click();\n",
              "      div.remove();\n",
              "    }\n",
              "  "
            ],
            "text/plain": [
              "<IPython.core.display.Javascript object>"
            ]
          },
          "metadata": {}
        },
        {
          "output_type": "display_data",
          "data": {
            "application/javascript": [
              "download(\"download_3c96f3f5-3fbf-46b4-9356-150a12fbee64\", \"WB_data_AUS.json\", 22447)"
            ],
            "text/plain": [
              "<IPython.core.display.Javascript object>"
            ]
          },
          "metadata": {}
        },
        {
          "output_type": "stream",
          "name": "stdout",
          "text": [
            "BRA\n",
            "http://api.worldbank.org/v2/country/BRA/indicator/IC.REG.DURS?format=json\n",
            "[{'page': 1, 'pages': 2, 'per_page': 50, 'total': 61, 'sourceid': '2', 'sourcename': 'World Development Indicators', 'lastupdated': '2021-10-28'}, [{'indicator': {'id': 'IC.REG.DURS', 'value': 'Time required to start a business (days)'}, 'country': {'id': 'BR', 'value': 'Brazil'}, 'countryiso3code': 'BRA', 'date': '2020', 'value': None, 'unit': '', 'obs_status': '', 'decimal': 0}, {'indicator': {'id': 'IC.REG.DURS', 'value': 'Time required to start a business (days)'}, 'country': {'id': 'BR', 'value': 'Brazil'}, 'countryiso3code': 'BRA', 'date': '2019', 'value': 16.6, 'unit': '', 'obs_status': '', 'decimal': 0}, {'indicator': {'id': 'IC.REG.DURS', 'value': 'Time required to start a business (days)'}, 'country': {'id': 'BR', 'value': 'Brazil'}, 'countryiso3code': 'BRA', 'date': '2018', 'value': 20.1, 'unit': '', 'obs_status': '', 'decimal': 0}, {'indicator': {'id': 'IC.REG.DURS', 'value': 'Time required to start a business (days)'}, 'country': {'id': 'BR', 'value': 'Brazil'}, 'countryiso3code': 'BRA', 'date': '2017', 'value': 82.5, 'unit': '', 'obs_status': '', 'decimal': 0}, {'indicator': {'id': 'IC.REG.DURS', 'value': 'Time required to start a business (days)'}, 'country': {'id': 'BR', 'value': 'Brazil'}, 'countryiso3code': 'BRA', 'date': '2016', 'value': 82.5, 'unit': '', 'obs_status': '', 'decimal': 0}, {'indicator': {'id': 'IC.REG.DURS', 'value': 'Time required to start a business (days)'}, 'country': {'id': 'BR', 'value': 'Brazil'}, 'countryiso3code': 'BRA', 'date': '2015', 'value': 86, 'unit': '', 'obs_status': '', 'decimal': 0}, {'indicator': {'id': 'IC.REG.DURS', 'value': 'Time required to start a business (days)'}, 'country': {'id': 'BR', 'value': 'Brazil'}, 'countryiso3code': 'BRA', 'date': '2014', 'value': 83.6, 'unit': '', 'obs_status': '', 'decimal': 0}, {'indicator': {'id': 'IC.REG.DURS', 'value': 'Time required to start a business (days)'}, 'country': {'id': 'BR', 'value': 'Brazil'}, 'countryiso3code': 'BRA', 'date': '2013', 'value': 86.6, 'unit': '', 'obs_status': '', 'decimal': 0}, {'indicator': {'id': 'IC.REG.DURS', 'value': 'Time required to start a business (days)'}, 'country': {'id': 'BR', 'value': 'Brazil'}, 'countryiso3code': 'BRA', 'date': '2012', 'value': None, 'unit': '', 'obs_status': '', 'decimal': 0}, {'indicator': {'id': 'IC.REG.DURS', 'value': 'Time required to start a business (days)'}, 'country': {'id': 'BR', 'value': 'Brazil'}, 'countryiso3code': 'BRA', 'date': '2011', 'value': None, 'unit': '', 'obs_status': '', 'decimal': 0}, {'indicator': {'id': 'IC.REG.DURS', 'value': 'Time required to start a business (days)'}, 'country': {'id': 'BR', 'value': 'Brazil'}, 'countryiso3code': 'BRA', 'date': '2010', 'value': None, 'unit': '', 'obs_status': '', 'decimal': 0}, {'indicator': {'id': 'IC.REG.DURS', 'value': 'Time required to start a business (days)'}, 'country': {'id': 'BR', 'value': 'Brazil'}, 'countryiso3code': 'BRA', 'date': '2009', 'value': None, 'unit': '', 'obs_status': '', 'decimal': 0}, {'indicator': {'id': 'IC.REG.DURS', 'value': 'Time required to start a business (days)'}, 'country': {'id': 'BR', 'value': 'Brazil'}, 'countryiso3code': 'BRA', 'date': '2008', 'value': None, 'unit': '', 'obs_status': '', 'decimal': 0}, {'indicator': {'id': 'IC.REG.DURS', 'value': 'Time required to start a business (days)'}, 'country': {'id': 'BR', 'value': 'Brazil'}, 'countryiso3code': 'BRA', 'date': '2007', 'value': None, 'unit': '', 'obs_status': '', 'decimal': 0}, {'indicator': {'id': 'IC.REG.DURS', 'value': 'Time required to start a business (days)'}, 'country': {'id': 'BR', 'value': 'Brazil'}, 'countryiso3code': 'BRA', 'date': '2006', 'value': None, 'unit': '', 'obs_status': '', 'decimal': 0}, {'indicator': {'id': 'IC.REG.DURS', 'value': 'Time required to start a business (days)'}, 'country': {'id': 'BR', 'value': 'Brazil'}, 'countryiso3code': 'BRA', 'date': '2005', 'value': None, 'unit': '', 'obs_status': '', 'decimal': 0}, {'indicator': {'id': 'IC.REG.DURS', 'value': 'Time required to start a business (days)'}, 'country': {'id': 'BR', 'value': 'Brazil'}, 'countryiso3code': 'BRA', 'date': '2004', 'value': None, 'unit': '', 'obs_status': '', 'decimal': 0}, {'indicator': {'id': 'IC.REG.DURS', 'value': 'Time required to start a business (days)'}, 'country': {'id': 'BR', 'value': 'Brazil'}, 'countryiso3code': 'BRA', 'date': '2003', 'value': None, 'unit': '', 'obs_status': '', 'decimal': 0}, {'indicator': {'id': 'IC.REG.DURS', 'value': 'Time required to start a business (days)'}, 'country': {'id': 'BR', 'value': 'Brazil'}, 'countryiso3code': 'BRA', 'date': '2002', 'value': None, 'unit': '', 'obs_status': '', 'decimal': 0}, {'indicator': {'id': 'IC.REG.DURS', 'value': 'Time required to start a business (days)'}, 'country': {'id': 'BR', 'value': 'Brazil'}, 'countryiso3code': 'BRA', 'date': '2001', 'value': None, 'unit': '', 'obs_status': '', 'decimal': 0}, {'indicator': {'id': 'IC.REG.DURS', 'value': 'Time required to start a business (days)'}, 'country': {'id': 'BR', 'value': 'Brazil'}, 'countryiso3code': 'BRA', 'date': '2000', 'value': None, 'unit': '', 'obs_status': '', 'decimal': 0}, {'indicator': {'id': 'IC.REG.DURS', 'value': 'Time required to start a business (days)'}, 'country': {'id': 'BR', 'value': 'Brazil'}, 'countryiso3code': 'BRA', 'date': '1999', 'value': None, 'unit': '', 'obs_status': '', 'decimal': 0}, {'indicator': {'id': 'IC.REG.DURS', 'value': 'Time required to start a business (days)'}, 'country': {'id': 'BR', 'value': 'Brazil'}, 'countryiso3code': 'BRA', 'date': '1998', 'value': None, 'unit': '', 'obs_status': '', 'decimal': 0}, {'indicator': {'id': 'IC.REG.DURS', 'value': 'Time required to start a business (days)'}, 'country': {'id': 'BR', 'value': 'Brazil'}, 'countryiso3code': 'BRA', 'date': '1997', 'value': None, 'unit': '', 'obs_status': '', 'decimal': 0}, {'indicator': {'id': 'IC.REG.DURS', 'value': 'Time required to start a business (days)'}, 'country': {'id': 'BR', 'value': 'Brazil'}, 'countryiso3code': 'BRA', 'date': '1996', 'value': None, 'unit': '', 'obs_status': '', 'decimal': 0}, {'indicator': {'id': 'IC.REG.DURS', 'value': 'Time required to start a business (days)'}, 'country': {'id': 'BR', 'value': 'Brazil'}, 'countryiso3code': 'BRA', 'date': '1995', 'value': None, 'unit': '', 'obs_status': '', 'decimal': 0}, {'indicator': {'id': 'IC.REG.DURS', 'value': 'Time required to start a business (days)'}, 'country': {'id': 'BR', 'value': 'Brazil'}, 'countryiso3code': 'BRA', 'date': '1994', 'value': None, 'unit': '', 'obs_status': '', 'decimal': 0}, {'indicator': {'id': 'IC.REG.DURS', 'value': 'Time required to start a business (days)'}, 'country': {'id': 'BR', 'value': 'Brazil'}, 'countryiso3code': 'BRA', 'date': '1993', 'value': None, 'unit': '', 'obs_status': '', 'decimal': 0}, {'indicator': {'id': 'IC.REG.DURS', 'value': 'Time required to start a business (days)'}, 'country': {'id': 'BR', 'value': 'Brazil'}, 'countryiso3code': 'BRA', 'date': '1992', 'value': None, 'unit': '', 'obs_status': '', 'decimal': 0}, {'indicator': {'id': 'IC.REG.DURS', 'value': 'Time required to start a business (days)'}, 'country': {'id': 'BR', 'value': 'Brazil'}, 'countryiso3code': 'BRA', 'date': '1991', 'value': None, 'unit': '', 'obs_status': '', 'decimal': 0}, {'indicator': {'id': 'IC.REG.DURS', 'value': 'Time required to start a business (days)'}, 'country': {'id': 'BR', 'value': 'Brazil'}, 'countryiso3code': 'BRA', 'date': '1990', 'value': None, 'unit': '', 'obs_status': '', 'decimal': 0}, {'indicator': {'id': 'IC.REG.DURS', 'value': 'Time required to start a business (days)'}, 'country': {'id': 'BR', 'value': 'Brazil'}, 'countryiso3code': 'BRA', 'date': '1989', 'value': None, 'unit': '', 'obs_status': '', 'decimal': 0}, {'indicator': {'id': 'IC.REG.DURS', 'value': 'Time required to start a business (days)'}, 'country': {'id': 'BR', 'value': 'Brazil'}, 'countryiso3code': 'BRA', 'date': '1988', 'value': None, 'unit': '', 'obs_status': '', 'decimal': 0}, {'indicator': {'id': 'IC.REG.DURS', 'value': 'Time required to start a business (days)'}, 'country': {'id': 'BR', 'value': 'Brazil'}, 'countryiso3code': 'BRA', 'date': '1987', 'value': None, 'unit': '', 'obs_status': '', 'decimal': 0}, {'indicator': {'id': 'IC.REG.DURS', 'value': 'Time required to start a business (days)'}, 'country': {'id': 'BR', 'value': 'Brazil'}, 'countryiso3code': 'BRA', 'date': '1986', 'value': None, 'unit': '', 'obs_status': '', 'decimal': 0}, {'indicator': {'id': 'IC.REG.DURS', 'value': 'Time required to start a business (days)'}, 'country': {'id': 'BR', 'value': 'Brazil'}, 'countryiso3code': 'BRA', 'date': '1985', 'value': None, 'unit': '', 'obs_status': '', 'decimal': 0}, {'indicator': {'id': 'IC.REG.DURS', 'value': 'Time required to start a business (days)'}, 'country': {'id': 'BR', 'value': 'Brazil'}, 'countryiso3code': 'BRA', 'date': '1984', 'value': None, 'unit': '', 'obs_status': '', 'decimal': 0}, {'indicator': {'id': 'IC.REG.DURS', 'value': 'Time required to start a business (days)'}, 'country': {'id': 'BR', 'value': 'Brazil'}, 'countryiso3code': 'BRA', 'date': '1983', 'value': None, 'unit': '', 'obs_status': '', 'decimal': 0}, {'indicator': {'id': 'IC.REG.DURS', 'value': 'Time required to start a business (days)'}, 'country': {'id': 'BR', 'value': 'Brazil'}, 'countryiso3code': 'BRA', 'date': '1982', 'value': None, 'unit': '', 'obs_status': '', 'decimal': 0}, {'indicator': {'id': 'IC.REG.DURS', 'value': 'Time required to start a business (days)'}, 'country': {'id': 'BR', 'value': 'Brazil'}, 'countryiso3code': 'BRA', 'date': '1981', 'value': None, 'unit': '', 'obs_status': '', 'decimal': 0}, {'indicator': {'id': 'IC.REG.DURS', 'value': 'Time required to start a business (days)'}, 'country': {'id': 'BR', 'value': 'Brazil'}, 'countryiso3code': 'BRA', 'date': '1980', 'value': None, 'unit': '', 'obs_status': '', 'decimal': 0}, {'indicator': {'id': 'IC.REG.DURS', 'value': 'Time required to start a business (days)'}, 'country': {'id': 'BR', 'value': 'Brazil'}, 'countryiso3code': 'BRA', 'date': '1979', 'value': None, 'unit': '', 'obs_status': '', 'decimal': 0}, {'indicator': {'id': 'IC.REG.DURS', 'value': 'Time required to start a business (days)'}, 'country': {'id': 'BR', 'value': 'Brazil'}, 'countryiso3code': 'BRA', 'date': '1978', 'value': None, 'unit': '', 'obs_status': '', 'decimal': 0}, {'indicator': {'id': 'IC.REG.DURS', 'value': 'Time required to start a business (days)'}, 'country': {'id': 'BR', 'value': 'Brazil'}, 'countryiso3code': 'BRA', 'date': '1977', 'value': None, 'unit': '', 'obs_status': '', 'decimal': 0}, {'indicator': {'id': 'IC.REG.DURS', 'value': 'Time required to start a business (days)'}, 'country': {'id': 'BR', 'value': 'Brazil'}, 'countryiso3code': 'BRA', 'date': '1976', 'value': None, 'unit': '', 'obs_status': '', 'decimal': 0}, {'indicator': {'id': 'IC.REG.DURS', 'value': 'Time required to start a business (days)'}, 'country': {'id': 'BR', 'value': 'Brazil'}, 'countryiso3code': 'BRA', 'date': '1975', 'value': None, 'unit': '', 'obs_status': '', 'decimal': 0}, {'indicator': {'id': 'IC.REG.DURS', 'value': 'Time required to start a business (days)'}, 'country': {'id': 'BR', 'value': 'Brazil'}, 'countryiso3code': 'BRA', 'date': '1974', 'value': None, 'unit': '', 'obs_status': '', 'decimal': 0}, {'indicator': {'id': 'IC.REG.DURS', 'value': 'Time required to start a business (days)'}, 'country': {'id': 'BR', 'value': 'Brazil'}, 'countryiso3code': 'BRA', 'date': '1973', 'value': None, 'unit': '', 'obs_status': '', 'decimal': 0}, {'indicator': {'id': 'IC.REG.DURS', 'value': 'Time required to start a business (days)'}, 'country': {'id': 'BR', 'value': 'Brazil'}, 'countryiso3code': 'BRA', 'date': '1972', 'value': None, 'unit': '', 'obs_status': '', 'decimal': 0}, {'indicator': {'id': 'IC.REG.DURS', 'value': 'Time required to start a business (days)'}, 'country': {'id': 'BR', 'value': 'Brazil'}, 'countryiso3code': 'BRA', 'date': '1971', 'value': None, 'unit': '', 'obs_status': '', 'decimal': 0}]]\n",
            "WB_data_BRA.json\n"
          ]
        },
        {
          "output_type": "display_data",
          "data": {
            "application/javascript": [
              "\n",
              "    async function download(id, filename, size) {\n",
              "      if (!google.colab.kernel.accessAllowed) {\n",
              "        return;\n",
              "      }\n",
              "      const div = document.createElement('div');\n",
              "      const label = document.createElement('label');\n",
              "      label.textContent = `Downloading \"${filename}\": `;\n",
              "      div.appendChild(label);\n",
              "      const progress = document.createElement('progress');\n",
              "      progress.max = size;\n",
              "      div.appendChild(progress);\n",
              "      document.body.appendChild(div);\n",
              "\n",
              "      const buffers = [];\n",
              "      let downloaded = 0;\n",
              "\n",
              "      const channel = await google.colab.kernel.comms.open(id);\n",
              "      // Send a message to notify the kernel that we're ready.\n",
              "      channel.send({})\n",
              "\n",
              "      for await (const message of channel.messages) {\n",
              "        // Send a message to notify the kernel that we're ready.\n",
              "        channel.send({})\n",
              "        if (message.buffers) {\n",
              "          for (const buffer of message.buffers) {\n",
              "            buffers.push(buffer);\n",
              "            downloaded += buffer.byteLength;\n",
              "            progress.value = downloaded;\n",
              "          }\n",
              "        }\n",
              "      }\n",
              "      const blob = new Blob(buffers, {type: 'application/binary'});\n",
              "      const a = document.createElement('a');\n",
              "      a.href = window.URL.createObjectURL(blob);\n",
              "      a.download = filename;\n",
              "      div.appendChild(a);\n",
              "      a.click();\n",
              "      div.remove();\n",
              "    }\n",
              "  "
            ],
            "text/plain": [
              "<IPython.core.display.Javascript object>"
            ]
          },
          "metadata": {}
        },
        {
          "output_type": "display_data",
          "data": {
            "application/javascript": [
              "download(\"download_88d8c117-0769-4f8c-90dd-eafc5f897f19\", \"WB_data_BRA.json\", 22324)"
            ],
            "text/plain": [
              "<IPython.core.display.Javascript object>"
            ]
          },
          "metadata": {}
        },
        {
          "output_type": "stream",
          "name": "stdout",
          "text": [
            "ISR\n",
            "http://api.worldbank.org/v2/country/ISR/indicator/IC.REG.DURS?format=json\n",
            "[{'page': 1, 'pages': 2, 'per_page': 50, 'total': 61, 'sourceid': '2', 'sourcename': 'World Development Indicators', 'lastupdated': '2021-10-28'}, [{'indicator': {'id': 'IC.REG.DURS', 'value': 'Time required to start a business (days)'}, 'country': {'id': 'IL', 'value': 'Israel'}, 'countryiso3code': 'ISR', 'date': '2020', 'value': None, 'unit': '', 'obs_status': '', 'decimal': 0}, {'indicator': {'id': 'IC.REG.DURS', 'value': 'Time required to start a business (days)'}, 'country': {'id': 'IL', 'value': 'Israel'}, 'countryiso3code': 'ISR', 'date': '2019', 'value': 11, 'unit': '', 'obs_status': '', 'decimal': 0}, {'indicator': {'id': 'IC.REG.DURS', 'value': 'Time required to start a business (days)'}, 'country': {'id': 'IL', 'value': 'Israel'}, 'countryiso3code': 'ISR', 'date': '2018', 'value': 11, 'unit': '', 'obs_status': '', 'decimal': 0}, {'indicator': {'id': 'IC.REG.DURS', 'value': 'Time required to start a business (days)'}, 'country': {'id': 'IL', 'value': 'Israel'}, 'countryiso3code': 'ISR', 'date': '2017', 'value': 11, 'unit': '', 'obs_status': '', 'decimal': 0}, {'indicator': {'id': 'IC.REG.DURS', 'value': 'Time required to start a business (days)'}, 'country': {'id': 'IL', 'value': 'Israel'}, 'countryiso3code': 'ISR', 'date': '2016', 'value': 11, 'unit': '', 'obs_status': '', 'decimal': 0}, {'indicator': {'id': 'IC.REG.DURS', 'value': 'Time required to start a business (days)'}, 'country': {'id': 'IL', 'value': 'Israel'}, 'countryiso3code': 'ISR', 'date': '2015', 'value': 12, 'unit': '', 'obs_status': '', 'decimal': 0}, {'indicator': {'id': 'IC.REG.DURS', 'value': 'Time required to start a business (days)'}, 'country': {'id': 'IL', 'value': 'Israel'}, 'countryiso3code': 'ISR', 'date': '2014', 'value': 12, 'unit': '', 'obs_status': '', 'decimal': 0}, {'indicator': {'id': 'IC.REG.DURS', 'value': 'Time required to start a business (days)'}, 'country': {'id': 'IL', 'value': 'Israel'}, 'countryiso3code': 'ISR', 'date': '2013', 'value': 12, 'unit': '', 'obs_status': '', 'decimal': 0}, {'indicator': {'id': 'IC.REG.DURS', 'value': 'Time required to start a business (days)'}, 'country': {'id': 'IL', 'value': 'Israel'}, 'countryiso3code': 'ISR', 'date': '2012', 'value': 19, 'unit': '', 'obs_status': '', 'decimal': 0}, {'indicator': {'id': 'IC.REG.DURS', 'value': 'Time required to start a business (days)'}, 'country': {'id': 'IL', 'value': 'Israel'}, 'countryiso3code': 'ISR', 'date': '2011', 'value': 18, 'unit': '', 'obs_status': '', 'decimal': 0}, {'indicator': {'id': 'IC.REG.DURS', 'value': 'Time required to start a business (days)'}, 'country': {'id': 'IL', 'value': 'Israel'}, 'countryiso3code': 'ISR', 'date': '2010', 'value': 18, 'unit': '', 'obs_status': '', 'decimal': 0}, {'indicator': {'id': 'IC.REG.DURS', 'value': 'Time required to start a business (days)'}, 'country': {'id': 'IL', 'value': 'Israel'}, 'countryiso3code': 'ISR', 'date': '2009', 'value': 18, 'unit': '', 'obs_status': '', 'decimal': 0}, {'indicator': {'id': 'IC.REG.DURS', 'value': 'Time required to start a business (days)'}, 'country': {'id': 'IL', 'value': 'Israel'}, 'countryiso3code': 'ISR', 'date': '2008', 'value': 18, 'unit': '', 'obs_status': '', 'decimal': 0}, {'indicator': {'id': 'IC.REG.DURS', 'value': 'Time required to start a business (days)'}, 'country': {'id': 'IL', 'value': 'Israel'}, 'countryiso3code': 'ISR', 'date': '2007', 'value': 18, 'unit': '', 'obs_status': '', 'decimal': 0}, {'indicator': {'id': 'IC.REG.DURS', 'value': 'Time required to start a business (days)'}, 'country': {'id': 'IL', 'value': 'Israel'}, 'countryiso3code': 'ISR', 'date': '2006', 'value': 18, 'unit': '', 'obs_status': '', 'decimal': 0}, {'indicator': {'id': 'IC.REG.DURS', 'value': 'Time required to start a business (days)'}, 'country': {'id': 'IL', 'value': 'Israel'}, 'countryiso3code': 'ISR', 'date': '2005', 'value': 18, 'unit': '', 'obs_status': '', 'decimal': 0}, {'indicator': {'id': 'IC.REG.DURS', 'value': 'Time required to start a business (days)'}, 'country': {'id': 'IL', 'value': 'Israel'}, 'countryiso3code': 'ISR', 'date': '2004', 'value': 18, 'unit': '', 'obs_status': '', 'decimal': 0}, {'indicator': {'id': 'IC.REG.DURS', 'value': 'Time required to start a business (days)'}, 'country': {'id': 'IL', 'value': 'Israel'}, 'countryiso3code': 'ISR', 'date': '2003', 'value': 18, 'unit': '', 'obs_status': '', 'decimal': 0}, {'indicator': {'id': 'IC.REG.DURS', 'value': 'Time required to start a business (days)'}, 'country': {'id': 'IL', 'value': 'Israel'}, 'countryiso3code': 'ISR', 'date': '2002', 'value': None, 'unit': '', 'obs_status': '', 'decimal': 0}, {'indicator': {'id': 'IC.REG.DURS', 'value': 'Time required to start a business (days)'}, 'country': {'id': 'IL', 'value': 'Israel'}, 'countryiso3code': 'ISR', 'date': '2001', 'value': None, 'unit': '', 'obs_status': '', 'decimal': 0}, {'indicator': {'id': 'IC.REG.DURS', 'value': 'Time required to start a business (days)'}, 'country': {'id': 'IL', 'value': 'Israel'}, 'countryiso3code': 'ISR', 'date': '2000', 'value': None, 'unit': '', 'obs_status': '', 'decimal': 0}, {'indicator': {'id': 'IC.REG.DURS', 'value': 'Time required to start a business (days)'}, 'country': {'id': 'IL', 'value': 'Israel'}, 'countryiso3code': 'ISR', 'date': '1999', 'value': None, 'unit': '', 'obs_status': '', 'decimal': 0}, {'indicator': {'id': 'IC.REG.DURS', 'value': 'Time required to start a business (days)'}, 'country': {'id': 'IL', 'value': 'Israel'}, 'countryiso3code': 'ISR', 'date': '1998', 'value': None, 'unit': '', 'obs_status': '', 'decimal': 0}, {'indicator': {'id': 'IC.REG.DURS', 'value': 'Time required to start a business (days)'}, 'country': {'id': 'IL', 'value': 'Israel'}, 'countryiso3code': 'ISR', 'date': '1997', 'value': None, 'unit': '', 'obs_status': '', 'decimal': 0}, {'indicator': {'id': 'IC.REG.DURS', 'value': 'Time required to start a business (days)'}, 'country': {'id': 'IL', 'value': 'Israel'}, 'countryiso3code': 'ISR', 'date': '1996', 'value': None, 'unit': '', 'obs_status': '', 'decimal': 0}, {'indicator': {'id': 'IC.REG.DURS', 'value': 'Time required to start a business (days)'}, 'country': {'id': 'IL', 'value': 'Israel'}, 'countryiso3code': 'ISR', 'date': '1995', 'value': None, 'unit': '', 'obs_status': '', 'decimal': 0}, {'indicator': {'id': 'IC.REG.DURS', 'value': 'Time required to start a business (days)'}, 'country': {'id': 'IL', 'value': 'Israel'}, 'countryiso3code': 'ISR', 'date': '1994', 'value': None, 'unit': '', 'obs_status': '', 'decimal': 0}, {'indicator': {'id': 'IC.REG.DURS', 'value': 'Time required to start a business (days)'}, 'country': {'id': 'IL', 'value': 'Israel'}, 'countryiso3code': 'ISR', 'date': '1993', 'value': None, 'unit': '', 'obs_status': '', 'decimal': 0}, {'indicator': {'id': 'IC.REG.DURS', 'value': 'Time required to start a business (days)'}, 'country': {'id': 'IL', 'value': 'Israel'}, 'countryiso3code': 'ISR', 'date': '1992', 'value': None, 'unit': '', 'obs_status': '', 'decimal': 0}, {'indicator': {'id': 'IC.REG.DURS', 'value': 'Time required to start a business (days)'}, 'country': {'id': 'IL', 'value': 'Israel'}, 'countryiso3code': 'ISR', 'date': '1991', 'value': None, 'unit': '', 'obs_status': '', 'decimal': 0}, {'indicator': {'id': 'IC.REG.DURS', 'value': 'Time required to start a business (days)'}, 'country': {'id': 'IL', 'value': 'Israel'}, 'countryiso3code': 'ISR', 'date': '1990', 'value': None, 'unit': '', 'obs_status': '', 'decimal': 0}, {'indicator': {'id': 'IC.REG.DURS', 'value': 'Time required to start a business (days)'}, 'country': {'id': 'IL', 'value': 'Israel'}, 'countryiso3code': 'ISR', 'date': '1989', 'value': None, 'unit': '', 'obs_status': '', 'decimal': 0}, {'indicator': {'id': 'IC.REG.DURS', 'value': 'Time required to start a business (days)'}, 'country': {'id': 'IL', 'value': 'Israel'}, 'countryiso3code': 'ISR', 'date': '1988', 'value': None, 'unit': '', 'obs_status': '', 'decimal': 0}, {'indicator': {'id': 'IC.REG.DURS', 'value': 'Time required to start a business (days)'}, 'country': {'id': 'IL', 'value': 'Israel'}, 'countryiso3code': 'ISR', 'date': '1987', 'value': None, 'unit': '', 'obs_status': '', 'decimal': 0}, {'indicator': {'id': 'IC.REG.DURS', 'value': 'Time required to start a business (days)'}, 'country': {'id': 'IL', 'value': 'Israel'}, 'countryiso3code': 'ISR', 'date': '1986', 'value': None, 'unit': '', 'obs_status': '', 'decimal': 0}, {'indicator': {'id': 'IC.REG.DURS', 'value': 'Time required to start a business (days)'}, 'country': {'id': 'IL', 'value': 'Israel'}, 'countryiso3code': 'ISR', 'date': '1985', 'value': None, 'unit': '', 'obs_status': '', 'decimal': 0}, {'indicator': {'id': 'IC.REG.DURS', 'value': 'Time required to start a business (days)'}, 'country': {'id': 'IL', 'value': 'Israel'}, 'countryiso3code': 'ISR', 'date': '1984', 'value': None, 'unit': '', 'obs_status': '', 'decimal': 0}, {'indicator': {'id': 'IC.REG.DURS', 'value': 'Time required to start a business (days)'}, 'country': {'id': 'IL', 'value': 'Israel'}, 'countryiso3code': 'ISR', 'date': '1983', 'value': None, 'unit': '', 'obs_status': '', 'decimal': 0}, {'indicator': {'id': 'IC.REG.DURS', 'value': 'Time required to start a business (days)'}, 'country': {'id': 'IL', 'value': 'Israel'}, 'countryiso3code': 'ISR', 'date': '1982', 'value': None, 'unit': '', 'obs_status': '', 'decimal': 0}, {'indicator': {'id': 'IC.REG.DURS', 'value': 'Time required to start a business (days)'}, 'country': {'id': 'IL', 'value': 'Israel'}, 'countryiso3code': 'ISR', 'date': '1981', 'value': None, 'unit': '', 'obs_status': '', 'decimal': 0}, {'indicator': {'id': 'IC.REG.DURS', 'value': 'Time required to start a business (days)'}, 'country': {'id': 'IL', 'value': 'Israel'}, 'countryiso3code': 'ISR', 'date': '1980', 'value': None, 'unit': '', 'obs_status': '', 'decimal': 0}, {'indicator': {'id': 'IC.REG.DURS', 'value': 'Time required to start a business (days)'}, 'country': {'id': 'IL', 'value': 'Israel'}, 'countryiso3code': 'ISR', 'date': '1979', 'value': None, 'unit': '', 'obs_status': '', 'decimal': 0}, {'indicator': {'id': 'IC.REG.DURS', 'value': 'Time required to start a business (days)'}, 'country': {'id': 'IL', 'value': 'Israel'}, 'countryiso3code': 'ISR', 'date': '1978', 'value': None, 'unit': '', 'obs_status': '', 'decimal': 0}, {'indicator': {'id': 'IC.REG.DURS', 'value': 'Time required to start a business (days)'}, 'country': {'id': 'IL', 'value': 'Israel'}, 'countryiso3code': 'ISR', 'date': '1977', 'value': None, 'unit': '', 'obs_status': '', 'decimal': 0}, {'indicator': {'id': 'IC.REG.DURS', 'value': 'Time required to start a business (days)'}, 'country': {'id': 'IL', 'value': 'Israel'}, 'countryiso3code': 'ISR', 'date': '1976', 'value': None, 'unit': '', 'obs_status': '', 'decimal': 0}, {'indicator': {'id': 'IC.REG.DURS', 'value': 'Time required to start a business (days)'}, 'country': {'id': 'IL', 'value': 'Israel'}, 'countryiso3code': 'ISR', 'date': '1975', 'value': None, 'unit': '', 'obs_status': '', 'decimal': 0}, {'indicator': {'id': 'IC.REG.DURS', 'value': 'Time required to start a business (days)'}, 'country': {'id': 'IL', 'value': 'Israel'}, 'countryiso3code': 'ISR', 'date': '1974', 'value': None, 'unit': '', 'obs_status': '', 'decimal': 0}, {'indicator': {'id': 'IC.REG.DURS', 'value': 'Time required to start a business (days)'}, 'country': {'id': 'IL', 'value': 'Israel'}, 'countryiso3code': 'ISR', 'date': '1973', 'value': None, 'unit': '', 'obs_status': '', 'decimal': 0}, {'indicator': {'id': 'IC.REG.DURS', 'value': 'Time required to start a business (days)'}, 'country': {'id': 'IL', 'value': 'Israel'}, 'countryiso3code': 'ISR', 'date': '1972', 'value': None, 'unit': '', 'obs_status': '', 'decimal': 0}, {'indicator': {'id': 'IC.REG.DURS', 'value': 'Time required to start a business (days)'}, 'country': {'id': 'IL', 'value': 'Israel'}, 'countryiso3code': 'ISR', 'date': '1971', 'value': None, 'unit': '', 'obs_status': '', 'decimal': 0}]]\n",
            "WB_data_ISR.json\n"
          ]
        },
        {
          "output_type": "display_data",
          "data": {
            "application/javascript": [
              "\n",
              "    async function download(id, filename, size) {\n",
              "      if (!google.colab.kernel.accessAllowed) {\n",
              "        return;\n",
              "      }\n",
              "      const div = document.createElement('div');\n",
              "      const label = document.createElement('label');\n",
              "      label.textContent = `Downloading \"${filename}\": `;\n",
              "      div.appendChild(label);\n",
              "      const progress = document.createElement('progress');\n",
              "      progress.max = size;\n",
              "      div.appendChild(progress);\n",
              "      document.body.appendChild(div);\n",
              "\n",
              "      const buffers = [];\n",
              "      let downloaded = 0;\n",
              "\n",
              "      const channel = await google.colab.kernel.comms.open(id);\n",
              "      // Send a message to notify the kernel that we're ready.\n",
              "      channel.send({})\n",
              "\n",
              "      for await (const message of channel.messages) {\n",
              "        // Send a message to notify the kernel that we're ready.\n",
              "        channel.send({})\n",
              "        if (message.buffers) {\n",
              "          for (const buffer of message.buffers) {\n",
              "            buffers.push(buffer);\n",
              "            downloaded += buffer.byteLength;\n",
              "            progress.value = downloaded;\n",
              "          }\n",
              "        }\n",
              "      }\n",
              "      const blob = new Blob(buffers, {type: 'application/binary'});\n",
              "      const a = document.createElement('a');\n",
              "      a.href = window.URL.createObjectURL(blob);\n",
              "      a.download = filename;\n",
              "      div.appendChild(a);\n",
              "      a.click();\n",
              "      div.remove();\n",
              "    }\n",
              "  "
            ],
            "text/plain": [
              "<IPython.core.display.Javascript object>"
            ]
          },
          "metadata": {}
        },
        {
          "output_type": "display_data",
          "data": {
            "application/javascript": [
              "download(\"download_68eacc9b-123c-41f2-a1bc-7e125c84be53\", \"WB_data_ISR.json\", 22292)"
            ],
            "text/plain": [
              "<IPython.core.display.Javascript object>"
            ]
          },
          "metadata": {}
        },
        {
          "output_type": "stream",
          "name": "stdout",
          "text": [
            "BOL\n",
            "http://api.worldbank.org/v2/country/BOL/indicator/IC.REG.DURS?format=json\n",
            "[{'page': 1, 'pages': 2, 'per_page': 50, 'total': 61, 'sourceid': '2', 'sourcename': 'World Development Indicators', 'lastupdated': '2021-10-28'}, [{'indicator': {'id': 'IC.REG.DURS', 'value': 'Time required to start a business (days)'}, 'country': {'id': 'BO', 'value': 'Bolivia'}, 'countryiso3code': 'BOL', 'date': '2020', 'value': None, 'unit': '', 'obs_status': '', 'decimal': 0}, {'indicator': {'id': 'IC.REG.DURS', 'value': 'Time required to start a business (days)'}, 'country': {'id': 'BO', 'value': 'Bolivia'}, 'countryiso3code': 'BOL', 'date': '2019', 'value': 39.5, 'unit': '', 'obs_status': '', 'decimal': 0}, {'indicator': {'id': 'IC.REG.DURS', 'value': 'Time required to start a business (days)'}, 'country': {'id': 'BO', 'value': 'Bolivia'}, 'countryiso3code': 'BOL', 'date': '2018', 'value': 39.5, 'unit': '', 'obs_status': '', 'decimal': 0}, {'indicator': {'id': 'IC.REG.DURS', 'value': 'Time required to start a business (days)'}, 'country': {'id': 'BO', 'value': 'Bolivia'}, 'countryiso3code': 'BOL', 'date': '2017', 'value': 41, 'unit': '', 'obs_status': '', 'decimal': 0}, {'indicator': {'id': 'IC.REG.DURS', 'value': 'Time required to start a business (days)'}, 'country': {'id': 'BO', 'value': 'Bolivia'}, 'countryiso3code': 'BOL', 'date': '2016', 'value': 45, 'unit': '', 'obs_status': '', 'decimal': 0}, {'indicator': {'id': 'IC.REG.DURS', 'value': 'Time required to start a business (days)'}, 'country': {'id': 'BO', 'value': 'Bolivia'}, 'countryiso3code': 'BOL', 'date': '2015', 'value': 49, 'unit': '', 'obs_status': '', 'decimal': 0}, {'indicator': {'id': 'IC.REG.DURS', 'value': 'Time required to start a business (days)'}, 'country': {'id': 'BO', 'value': 'Bolivia'}, 'countryiso3code': 'BOL', 'date': '2014', 'value': 49, 'unit': '', 'obs_status': '', 'decimal': 0}, {'indicator': {'id': 'IC.REG.DURS', 'value': 'Time required to start a business (days)'}, 'country': {'id': 'BO', 'value': 'Bolivia'}, 'countryiso3code': 'BOL', 'date': '2013', 'value': 49, 'unit': '', 'obs_status': '', 'decimal': 0}, {'indicator': {'id': 'IC.REG.DURS', 'value': 'Time required to start a business (days)'}, 'country': {'id': 'BO', 'value': 'Bolivia'}, 'countryiso3code': 'BOL', 'date': '2012', 'value': 49, 'unit': '', 'obs_status': '', 'decimal': 0}, {'indicator': {'id': 'IC.REG.DURS', 'value': 'Time required to start a business (days)'}, 'country': {'id': 'BO', 'value': 'Bolivia'}, 'countryiso3code': 'BOL', 'date': '2011', 'value': 49, 'unit': '', 'obs_status': '', 'decimal': 0}, {'indicator': {'id': 'IC.REG.DURS', 'value': 'Time required to start a business (days)'}, 'country': {'id': 'BO', 'value': 'Bolivia'}, 'countryiso3code': 'BOL', 'date': '2010', 'value': 49, 'unit': '', 'obs_status': '', 'decimal': 0}, {'indicator': {'id': 'IC.REG.DURS', 'value': 'Time required to start a business (days)'}, 'country': {'id': 'BO', 'value': 'Bolivia'}, 'countryiso3code': 'BOL', 'date': '2009', 'value': 49, 'unit': '', 'obs_status': '', 'decimal': 0}, {'indicator': {'id': 'IC.REG.DURS', 'value': 'Time required to start a business (days)'}, 'country': {'id': 'BO', 'value': 'Bolivia'}, 'countryiso3code': 'BOL', 'date': '2008', 'value': 49, 'unit': '', 'obs_status': '', 'decimal': 0}, {'indicator': {'id': 'IC.REG.DURS', 'value': 'Time required to start a business (days)'}, 'country': {'id': 'BO', 'value': 'Bolivia'}, 'countryiso3code': 'BOL', 'date': '2007', 'value': 49, 'unit': '', 'obs_status': '', 'decimal': 0}, {'indicator': {'id': 'IC.REG.DURS', 'value': 'Time required to start a business (days)'}, 'country': {'id': 'BO', 'value': 'Bolivia'}, 'countryiso3code': 'BOL', 'date': '2006', 'value': 49, 'unit': '', 'obs_status': '', 'decimal': 0}, {'indicator': {'id': 'IC.REG.DURS', 'value': 'Time required to start a business (days)'}, 'country': {'id': 'BO', 'value': 'Bolivia'}, 'countryiso3code': 'BOL', 'date': '2005', 'value': 49, 'unit': '', 'obs_status': '', 'decimal': 0}, {'indicator': {'id': 'IC.REG.DURS', 'value': 'Time required to start a business (days)'}, 'country': {'id': 'BO', 'value': 'Bolivia'}, 'countryiso3code': 'BOL', 'date': '2004', 'value': 59, 'unit': '', 'obs_status': '', 'decimal': 0}, {'indicator': {'id': 'IC.REG.DURS', 'value': 'Time required to start a business (days)'}, 'country': {'id': 'BO', 'value': 'Bolivia'}, 'countryiso3code': 'BOL', 'date': '2003', 'value': 59, 'unit': '', 'obs_status': '', 'decimal': 0}, {'indicator': {'id': 'IC.REG.DURS', 'value': 'Time required to start a business (days)'}, 'country': {'id': 'BO', 'value': 'Bolivia'}, 'countryiso3code': 'BOL', 'date': '2002', 'value': None, 'unit': '', 'obs_status': '', 'decimal': 0}, {'indicator': {'id': 'IC.REG.DURS', 'value': 'Time required to start a business (days)'}, 'country': {'id': 'BO', 'value': 'Bolivia'}, 'countryiso3code': 'BOL', 'date': '2001', 'value': None, 'unit': '', 'obs_status': '', 'decimal': 0}, {'indicator': {'id': 'IC.REG.DURS', 'value': 'Time required to start a business (days)'}, 'country': {'id': 'BO', 'value': 'Bolivia'}, 'countryiso3code': 'BOL', 'date': '2000', 'value': None, 'unit': '', 'obs_status': '', 'decimal': 0}, {'indicator': {'id': 'IC.REG.DURS', 'value': 'Time required to start a business (days)'}, 'country': {'id': 'BO', 'value': 'Bolivia'}, 'countryiso3code': 'BOL', 'date': '1999', 'value': None, 'unit': '', 'obs_status': '', 'decimal': 0}, {'indicator': {'id': 'IC.REG.DURS', 'value': 'Time required to start a business (days)'}, 'country': {'id': 'BO', 'value': 'Bolivia'}, 'countryiso3code': 'BOL', 'date': '1998', 'value': None, 'unit': '', 'obs_status': '', 'decimal': 0}, {'indicator': {'id': 'IC.REG.DURS', 'value': 'Time required to start a business (days)'}, 'country': {'id': 'BO', 'value': 'Bolivia'}, 'countryiso3code': 'BOL', 'date': '1997', 'value': None, 'unit': '', 'obs_status': '', 'decimal': 0}, {'indicator': {'id': 'IC.REG.DURS', 'value': 'Time required to start a business (days)'}, 'country': {'id': 'BO', 'value': 'Bolivia'}, 'countryiso3code': 'BOL', 'date': '1996', 'value': None, 'unit': '', 'obs_status': '', 'decimal': 0}, {'indicator': {'id': 'IC.REG.DURS', 'value': 'Time required to start a business (days)'}, 'country': {'id': 'BO', 'value': 'Bolivia'}, 'countryiso3code': 'BOL', 'date': '1995', 'value': None, 'unit': '', 'obs_status': '', 'decimal': 0}, {'indicator': {'id': 'IC.REG.DURS', 'value': 'Time required to start a business (days)'}, 'country': {'id': 'BO', 'value': 'Bolivia'}, 'countryiso3code': 'BOL', 'date': '1994', 'value': None, 'unit': '', 'obs_status': '', 'decimal': 0}, {'indicator': {'id': 'IC.REG.DURS', 'value': 'Time required to start a business (days)'}, 'country': {'id': 'BO', 'value': 'Bolivia'}, 'countryiso3code': 'BOL', 'date': '1993', 'value': None, 'unit': '', 'obs_status': '', 'decimal': 0}, {'indicator': {'id': 'IC.REG.DURS', 'value': 'Time required to start a business (days)'}, 'country': {'id': 'BO', 'value': 'Bolivia'}, 'countryiso3code': 'BOL', 'date': '1992', 'value': None, 'unit': '', 'obs_status': '', 'decimal': 0}, {'indicator': {'id': 'IC.REG.DURS', 'value': 'Time required to start a business (days)'}, 'country': {'id': 'BO', 'value': 'Bolivia'}, 'countryiso3code': 'BOL', 'date': '1991', 'value': None, 'unit': '', 'obs_status': '', 'decimal': 0}, {'indicator': {'id': 'IC.REG.DURS', 'value': 'Time required to start a business (days)'}, 'country': {'id': 'BO', 'value': 'Bolivia'}, 'countryiso3code': 'BOL', 'date': '1990', 'value': None, 'unit': '', 'obs_status': '', 'decimal': 0}, {'indicator': {'id': 'IC.REG.DURS', 'value': 'Time required to start a business (days)'}, 'country': {'id': 'BO', 'value': 'Bolivia'}, 'countryiso3code': 'BOL', 'date': '1989', 'value': None, 'unit': '', 'obs_status': '', 'decimal': 0}, {'indicator': {'id': 'IC.REG.DURS', 'value': 'Time required to start a business (days)'}, 'country': {'id': 'BO', 'value': 'Bolivia'}, 'countryiso3code': 'BOL', 'date': '1988', 'value': None, 'unit': '', 'obs_status': '', 'decimal': 0}, {'indicator': {'id': 'IC.REG.DURS', 'value': 'Time required to start a business (days)'}, 'country': {'id': 'BO', 'value': 'Bolivia'}, 'countryiso3code': 'BOL', 'date': '1987', 'value': None, 'unit': '', 'obs_status': '', 'decimal': 0}, {'indicator': {'id': 'IC.REG.DURS', 'value': 'Time required to start a business (days)'}, 'country': {'id': 'BO', 'value': 'Bolivia'}, 'countryiso3code': 'BOL', 'date': '1986', 'value': None, 'unit': '', 'obs_status': '', 'decimal': 0}, {'indicator': {'id': 'IC.REG.DURS', 'value': 'Time required to start a business (days)'}, 'country': {'id': 'BO', 'value': 'Bolivia'}, 'countryiso3code': 'BOL', 'date': '1985', 'value': None, 'unit': '', 'obs_status': '', 'decimal': 0}, {'indicator': {'id': 'IC.REG.DURS', 'value': 'Time required to start a business (days)'}, 'country': {'id': 'BO', 'value': 'Bolivia'}, 'countryiso3code': 'BOL', 'date': '1984', 'value': None, 'unit': '', 'obs_status': '', 'decimal': 0}, {'indicator': {'id': 'IC.REG.DURS', 'value': 'Time required to start a business (days)'}, 'country': {'id': 'BO', 'value': 'Bolivia'}, 'countryiso3code': 'BOL', 'date': '1983', 'value': None, 'unit': '', 'obs_status': '', 'decimal': 0}, {'indicator': {'id': 'IC.REG.DURS', 'value': 'Time required to start a business (days)'}, 'country': {'id': 'BO', 'value': 'Bolivia'}, 'countryiso3code': 'BOL', 'date': '1982', 'value': None, 'unit': '', 'obs_status': '', 'decimal': 0}, {'indicator': {'id': 'IC.REG.DURS', 'value': 'Time required to start a business (days)'}, 'country': {'id': 'BO', 'value': 'Bolivia'}, 'countryiso3code': 'BOL', 'date': '1981', 'value': None, 'unit': '', 'obs_status': '', 'decimal': 0}, {'indicator': {'id': 'IC.REG.DURS', 'value': 'Time required to start a business (days)'}, 'country': {'id': 'BO', 'value': 'Bolivia'}, 'countryiso3code': 'BOL', 'date': '1980', 'value': None, 'unit': '', 'obs_status': '', 'decimal': 0}, {'indicator': {'id': 'IC.REG.DURS', 'value': 'Time required to start a business (days)'}, 'country': {'id': 'BO', 'value': 'Bolivia'}, 'countryiso3code': 'BOL', 'date': '1979', 'value': None, 'unit': '', 'obs_status': '', 'decimal': 0}, {'indicator': {'id': 'IC.REG.DURS', 'value': 'Time required to start a business (days)'}, 'country': {'id': 'BO', 'value': 'Bolivia'}, 'countryiso3code': 'BOL', 'date': '1978', 'value': None, 'unit': '', 'obs_status': '', 'decimal': 0}, {'indicator': {'id': 'IC.REG.DURS', 'value': 'Time required to start a business (days)'}, 'country': {'id': 'BO', 'value': 'Bolivia'}, 'countryiso3code': 'BOL', 'date': '1977', 'value': None, 'unit': '', 'obs_status': '', 'decimal': 0}, {'indicator': {'id': 'IC.REG.DURS', 'value': 'Time required to start a business (days)'}, 'country': {'id': 'BO', 'value': 'Bolivia'}, 'countryiso3code': 'BOL', 'date': '1976', 'value': None, 'unit': '', 'obs_status': '', 'decimal': 0}, {'indicator': {'id': 'IC.REG.DURS', 'value': 'Time required to start a business (days)'}, 'country': {'id': 'BO', 'value': 'Bolivia'}, 'countryiso3code': 'BOL', 'date': '1975', 'value': None, 'unit': '', 'obs_status': '', 'decimal': 0}, {'indicator': {'id': 'IC.REG.DURS', 'value': 'Time required to start a business (days)'}, 'country': {'id': 'BO', 'value': 'Bolivia'}, 'countryiso3code': 'BOL', 'date': '1974', 'value': None, 'unit': '', 'obs_status': '', 'decimal': 0}, {'indicator': {'id': 'IC.REG.DURS', 'value': 'Time required to start a business (days)'}, 'country': {'id': 'BO', 'value': 'Bolivia'}, 'countryiso3code': 'BOL', 'date': '1973', 'value': None, 'unit': '', 'obs_status': '', 'decimal': 0}, {'indicator': {'id': 'IC.REG.DURS', 'value': 'Time required to start a business (days)'}, 'country': {'id': 'BO', 'value': 'Bolivia'}, 'countryiso3code': 'BOL', 'date': '1972', 'value': None, 'unit': '', 'obs_status': '', 'decimal': 0}, {'indicator': {'id': 'IC.REG.DURS', 'value': 'Time required to start a business (days)'}, 'country': {'id': 'BO', 'value': 'Bolivia'}, 'countryiso3code': 'BOL', 'date': '1971', 'value': None, 'unit': '', 'obs_status': '', 'decimal': 0}]]\n",
            "WB_data_BOL.json\n"
          ]
        },
        {
          "output_type": "display_data",
          "data": {
            "application/javascript": [
              "\n",
              "    async function download(id, filename, size) {\n",
              "      if (!google.colab.kernel.accessAllowed) {\n",
              "        return;\n",
              "      }\n",
              "      const div = document.createElement('div');\n",
              "      const label = document.createElement('label');\n",
              "      label.textContent = `Downloading \"${filename}\": `;\n",
              "      div.appendChild(label);\n",
              "      const progress = document.createElement('progress');\n",
              "      progress.max = size;\n",
              "      div.appendChild(progress);\n",
              "      document.body.appendChild(div);\n",
              "\n",
              "      const buffers = [];\n",
              "      let downloaded = 0;\n",
              "\n",
              "      const channel = await google.colab.kernel.comms.open(id);\n",
              "      // Send a message to notify the kernel that we're ready.\n",
              "      channel.send({})\n",
              "\n",
              "      for await (const message of channel.messages) {\n",
              "        // Send a message to notify the kernel that we're ready.\n",
              "        channel.send({})\n",
              "        if (message.buffers) {\n",
              "          for (const buffer of message.buffers) {\n",
              "            buffers.push(buffer);\n",
              "            downloaded += buffer.byteLength;\n",
              "            progress.value = downloaded;\n",
              "          }\n",
              "        }\n",
              "      }\n",
              "      const blob = new Blob(buffers, {type: 'application/binary'});\n",
              "      const a = document.createElement('a');\n",
              "      a.href = window.URL.createObjectURL(blob);\n",
              "      a.download = filename;\n",
              "      div.appendChild(a);\n",
              "      a.click();\n",
              "      div.remove();\n",
              "    }\n",
              "  "
            ],
            "text/plain": [
              "<IPython.core.display.Javascript object>"
            ]
          },
          "metadata": {}
        },
        {
          "output_type": "display_data",
          "data": {
            "application/javascript": [
              "download(\"download_044a8528-ad82-4605-8460-d4e77183dab7\", \"WB_data_BOL.json\", 22346)"
            ],
            "text/plain": [
              "<IPython.core.display.Javascript object>"
            ]
          },
          "metadata": {}
        },
        {
          "output_type": "stream",
          "name": "stdout",
          "text": [
            "VEN\n",
            "http://api.worldbank.org/v2/country/VEN/indicator/IC.REG.DURS?format=json\n",
            "[{'page': 1, 'pages': 2, 'per_page': 50, 'total': 61, 'sourceid': '2', 'sourcename': 'World Development Indicators', 'lastupdated': '2021-10-28'}, [{'indicator': {'id': 'IC.REG.DURS', 'value': 'Time required to start a business (days)'}, 'country': {'id': 'VE', 'value': 'Venezuela, RB'}, 'countryiso3code': 'VEN', 'date': '2020', 'value': None, 'unit': '', 'obs_status': '', 'decimal': 0}, {'indicator': {'id': 'IC.REG.DURS', 'value': 'Time required to start a business (days)'}, 'country': {'id': 'VE', 'value': 'Venezuela, RB'}, 'countryiso3code': 'VEN', 'date': '2019', 'value': 230, 'unit': '', 'obs_status': '', 'decimal': 0}, {'indicator': {'id': 'IC.REG.DURS', 'value': 'Time required to start a business (days)'}, 'country': {'id': 'VE', 'value': 'Venezuela, RB'}, 'countryiso3code': 'VEN', 'date': '2018', 'value': 230, 'unit': '', 'obs_status': '', 'decimal': 0}, {'indicator': {'id': 'IC.REG.DURS', 'value': 'Time required to start a business (days)'}, 'country': {'id': 'VE', 'value': 'Venezuela, RB'}, 'countryiso3code': 'VEN', 'date': '2017', 'value': 230, 'unit': '', 'obs_status': '', 'decimal': 0}, {'indicator': {'id': 'IC.REG.DURS', 'value': 'Time required to start a business (days)'}, 'country': {'id': 'VE', 'value': 'Venezuela, RB'}, 'countryiso3code': 'VEN', 'date': '2016', 'value': 230, 'unit': '', 'obs_status': '', 'decimal': 0}, {'indicator': {'id': 'IC.REG.DURS', 'value': 'Time required to start a business (days)'}, 'country': {'id': 'VE', 'value': 'Venezuela, RB'}, 'countryiso3code': 'VEN', 'date': '2015', 'value': 186, 'unit': '', 'obs_status': '', 'decimal': 0}, {'indicator': {'id': 'IC.REG.DURS', 'value': 'Time required to start a business (days)'}, 'country': {'id': 'VE', 'value': 'Venezuela, RB'}, 'countryiso3code': 'VEN', 'date': '2014', 'value': 144, 'unit': '', 'obs_status': '', 'decimal': 0}, {'indicator': {'id': 'IC.REG.DURS', 'value': 'Time required to start a business (days)'}, 'country': {'id': 'VE', 'value': 'Venezuela, RB'}, 'countryiso3code': 'VEN', 'date': '2013', 'value': 144, 'unit': '', 'obs_status': '', 'decimal': 0}, {'indicator': {'id': 'IC.REG.DURS', 'value': 'Time required to start a business (days)'}, 'country': {'id': 'VE', 'value': 'Venezuela, RB'}, 'countryiso3code': 'VEN', 'date': '2012', 'value': 144, 'unit': '', 'obs_status': '', 'decimal': 0}, {'indicator': {'id': 'IC.REG.DURS', 'value': 'Time required to start a business (days)'}, 'country': {'id': 'VE', 'value': 'Venezuela, RB'}, 'countryiso3code': 'VEN', 'date': '2011', 'value': 141, 'unit': '', 'obs_status': '', 'decimal': 0}, {'indicator': {'id': 'IC.REG.DURS', 'value': 'Time required to start a business (days)'}, 'country': {'id': 'VE', 'value': 'Venezuela, RB'}, 'countryiso3code': 'VEN', 'date': '2010', 'value': 141, 'unit': '', 'obs_status': '', 'decimal': 0}, {'indicator': {'id': 'IC.REG.DURS', 'value': 'Time required to start a business (days)'}, 'country': {'id': 'VE', 'value': 'Venezuela, RB'}, 'countryiso3code': 'VEN', 'date': '2009', 'value': 141, 'unit': '', 'obs_status': '', 'decimal': 0}, {'indicator': {'id': 'IC.REG.DURS', 'value': 'Time required to start a business (days)'}, 'country': {'id': 'VE', 'value': 'Venezuela, RB'}, 'countryiso3code': 'VEN', 'date': '2008', 'value': 141, 'unit': '', 'obs_status': '', 'decimal': 0}, {'indicator': {'id': 'IC.REG.DURS', 'value': 'Time required to start a business (days)'}, 'country': {'id': 'VE', 'value': 'Venezuela, RB'}, 'countryiso3code': 'VEN', 'date': '2007', 'value': 142, 'unit': '', 'obs_status': '', 'decimal': 0}, {'indicator': {'id': 'IC.REG.DURS', 'value': 'Time required to start a business (days)'}, 'country': {'id': 'VE', 'value': 'Venezuela, RB'}, 'countryiso3code': 'VEN', 'date': '2006', 'value': 143, 'unit': '', 'obs_status': '', 'decimal': 0}, {'indicator': {'id': 'IC.REG.DURS', 'value': 'Time required to start a business (days)'}, 'country': {'id': 'VE', 'value': 'Venezuela, RB'}, 'countryiso3code': 'VEN', 'date': '2005', 'value': 143, 'unit': '', 'obs_status': '', 'decimal': 0}, {'indicator': {'id': 'IC.REG.DURS', 'value': 'Time required to start a business (days)'}, 'country': {'id': 'VE', 'value': 'Venezuela, RB'}, 'countryiso3code': 'VEN', 'date': '2004', 'value': 143, 'unit': '', 'obs_status': '', 'decimal': 0}, {'indicator': {'id': 'IC.REG.DURS', 'value': 'Time required to start a business (days)'}, 'country': {'id': 'VE', 'value': 'Venezuela, RB'}, 'countryiso3code': 'VEN', 'date': '2003', 'value': 143, 'unit': '', 'obs_status': '', 'decimal': 0}, {'indicator': {'id': 'IC.REG.DURS', 'value': 'Time required to start a business (days)'}, 'country': {'id': 'VE', 'value': 'Venezuela, RB'}, 'countryiso3code': 'VEN', 'date': '2002', 'value': None, 'unit': '', 'obs_status': '', 'decimal': 0}, {'indicator': {'id': 'IC.REG.DURS', 'value': 'Time required to start a business (days)'}, 'country': {'id': 'VE', 'value': 'Venezuela, RB'}, 'countryiso3code': 'VEN', 'date': '2001', 'value': None, 'unit': '', 'obs_status': '', 'decimal': 0}, {'indicator': {'id': 'IC.REG.DURS', 'value': 'Time required to start a business (days)'}, 'country': {'id': 'VE', 'value': 'Venezuela, RB'}, 'countryiso3code': 'VEN', 'date': '2000', 'value': None, 'unit': '', 'obs_status': '', 'decimal': 0}, {'indicator': {'id': 'IC.REG.DURS', 'value': 'Time required to start a business (days)'}, 'country': {'id': 'VE', 'value': 'Venezuela, RB'}, 'countryiso3code': 'VEN', 'date': '1999', 'value': None, 'unit': '', 'obs_status': '', 'decimal': 0}, {'indicator': {'id': 'IC.REG.DURS', 'value': 'Time required to start a business (days)'}, 'country': {'id': 'VE', 'value': 'Venezuela, RB'}, 'countryiso3code': 'VEN', 'date': '1998', 'value': None, 'unit': '', 'obs_status': '', 'decimal': 0}, {'indicator': {'id': 'IC.REG.DURS', 'value': 'Time required to start a business (days)'}, 'country': {'id': 'VE', 'value': 'Venezuela, RB'}, 'countryiso3code': 'VEN', 'date': '1997', 'value': None, 'unit': '', 'obs_status': '', 'decimal': 0}, {'indicator': {'id': 'IC.REG.DURS', 'value': 'Time required to start a business (days)'}, 'country': {'id': 'VE', 'value': 'Venezuela, RB'}, 'countryiso3code': 'VEN', 'date': '1996', 'value': None, 'unit': '', 'obs_status': '', 'decimal': 0}, {'indicator': {'id': 'IC.REG.DURS', 'value': 'Time required to start a business (days)'}, 'country': {'id': 'VE', 'value': 'Venezuela, RB'}, 'countryiso3code': 'VEN', 'date': '1995', 'value': None, 'unit': '', 'obs_status': '', 'decimal': 0}, {'indicator': {'id': 'IC.REG.DURS', 'value': 'Time required to start a business (days)'}, 'country': {'id': 'VE', 'value': 'Venezuela, RB'}, 'countryiso3code': 'VEN', 'date': '1994', 'value': None, 'unit': '', 'obs_status': '', 'decimal': 0}, {'indicator': {'id': 'IC.REG.DURS', 'value': 'Time required to start a business (days)'}, 'country': {'id': 'VE', 'value': 'Venezuela, RB'}, 'countryiso3code': 'VEN', 'date': '1993', 'value': None, 'unit': '', 'obs_status': '', 'decimal': 0}, {'indicator': {'id': 'IC.REG.DURS', 'value': 'Time required to start a business (days)'}, 'country': {'id': 'VE', 'value': 'Venezuela, RB'}, 'countryiso3code': 'VEN', 'date': '1992', 'value': None, 'unit': '', 'obs_status': '', 'decimal': 0}, {'indicator': {'id': 'IC.REG.DURS', 'value': 'Time required to start a business (days)'}, 'country': {'id': 'VE', 'value': 'Venezuela, RB'}, 'countryiso3code': 'VEN', 'date': '1991', 'value': None, 'unit': '', 'obs_status': '', 'decimal': 0}, {'indicator': {'id': 'IC.REG.DURS', 'value': 'Time required to start a business (days)'}, 'country': {'id': 'VE', 'value': 'Venezuela, RB'}, 'countryiso3code': 'VEN', 'date': '1990', 'value': None, 'unit': '', 'obs_status': '', 'decimal': 0}, {'indicator': {'id': 'IC.REG.DURS', 'value': 'Time required to start a business (days)'}, 'country': {'id': 'VE', 'value': 'Venezuela, RB'}, 'countryiso3code': 'VEN', 'date': '1989', 'value': None, 'unit': '', 'obs_status': '', 'decimal': 0}, {'indicator': {'id': 'IC.REG.DURS', 'value': 'Time required to start a business (days)'}, 'country': {'id': 'VE', 'value': 'Venezuela, RB'}, 'countryiso3code': 'VEN', 'date': '1988', 'value': None, 'unit': '', 'obs_status': '', 'decimal': 0}, {'indicator': {'id': 'IC.REG.DURS', 'value': 'Time required to start a business (days)'}, 'country': {'id': 'VE', 'value': 'Venezuela, RB'}, 'countryiso3code': 'VEN', 'date': '1987', 'value': None, 'unit': '', 'obs_status': '', 'decimal': 0}, {'indicator': {'id': 'IC.REG.DURS', 'value': 'Time required to start a business (days)'}, 'country': {'id': 'VE', 'value': 'Venezuela, RB'}, 'countryiso3code': 'VEN', 'date': '1986', 'value': None, 'unit': '', 'obs_status': '', 'decimal': 0}, {'indicator': {'id': 'IC.REG.DURS', 'value': 'Time required to start a business (days)'}, 'country': {'id': 'VE', 'value': 'Venezuela, RB'}, 'countryiso3code': 'VEN', 'date': '1985', 'value': None, 'unit': '', 'obs_status': '', 'decimal': 0}, {'indicator': {'id': 'IC.REG.DURS', 'value': 'Time required to start a business (days)'}, 'country': {'id': 'VE', 'value': 'Venezuela, RB'}, 'countryiso3code': 'VEN', 'date': '1984', 'value': None, 'unit': '', 'obs_status': '', 'decimal': 0}, {'indicator': {'id': 'IC.REG.DURS', 'value': 'Time required to start a business (days)'}, 'country': {'id': 'VE', 'value': 'Venezuela, RB'}, 'countryiso3code': 'VEN', 'date': '1983', 'value': None, 'unit': '', 'obs_status': '', 'decimal': 0}, {'indicator': {'id': 'IC.REG.DURS', 'value': 'Time required to start a business (days)'}, 'country': {'id': 'VE', 'value': 'Venezuela, RB'}, 'countryiso3code': 'VEN', 'date': '1982', 'value': None, 'unit': '', 'obs_status': '', 'decimal': 0}, {'indicator': {'id': 'IC.REG.DURS', 'value': 'Time required to start a business (days)'}, 'country': {'id': 'VE', 'value': 'Venezuela, RB'}, 'countryiso3code': 'VEN', 'date': '1981', 'value': None, 'unit': '', 'obs_status': '', 'decimal': 0}, {'indicator': {'id': 'IC.REG.DURS', 'value': 'Time required to start a business (days)'}, 'country': {'id': 'VE', 'value': 'Venezuela, RB'}, 'countryiso3code': 'VEN', 'date': '1980', 'value': None, 'unit': '', 'obs_status': '', 'decimal': 0}, {'indicator': {'id': 'IC.REG.DURS', 'value': 'Time required to start a business (days)'}, 'country': {'id': 'VE', 'value': 'Venezuela, RB'}, 'countryiso3code': 'VEN', 'date': '1979', 'value': None, 'unit': '', 'obs_status': '', 'decimal': 0}, {'indicator': {'id': 'IC.REG.DURS', 'value': 'Time required to start a business (days)'}, 'country': {'id': 'VE', 'value': 'Venezuela, RB'}, 'countryiso3code': 'VEN', 'date': '1978', 'value': None, 'unit': '', 'obs_status': '', 'decimal': 0}, {'indicator': {'id': 'IC.REG.DURS', 'value': 'Time required to start a business (days)'}, 'country': {'id': 'VE', 'value': 'Venezuela, RB'}, 'countryiso3code': 'VEN', 'date': '1977', 'value': None, 'unit': '', 'obs_status': '', 'decimal': 0}, {'indicator': {'id': 'IC.REG.DURS', 'value': 'Time required to start a business (days)'}, 'country': {'id': 'VE', 'value': 'Venezuela, RB'}, 'countryiso3code': 'VEN', 'date': '1976', 'value': None, 'unit': '', 'obs_status': '', 'decimal': 0}, {'indicator': {'id': 'IC.REG.DURS', 'value': 'Time required to start a business (days)'}, 'country': {'id': 'VE', 'value': 'Venezuela, RB'}, 'countryiso3code': 'VEN', 'date': '1975', 'value': None, 'unit': '', 'obs_status': '', 'decimal': 0}, {'indicator': {'id': 'IC.REG.DURS', 'value': 'Time required to start a business (days)'}, 'country': {'id': 'VE', 'value': 'Venezuela, RB'}, 'countryiso3code': 'VEN', 'date': '1974', 'value': None, 'unit': '', 'obs_status': '', 'decimal': 0}, {'indicator': {'id': 'IC.REG.DURS', 'value': 'Time required to start a business (days)'}, 'country': {'id': 'VE', 'value': 'Venezuela, RB'}, 'countryiso3code': 'VEN', 'date': '1973', 'value': None, 'unit': '', 'obs_status': '', 'decimal': 0}, {'indicator': {'id': 'IC.REG.DURS', 'value': 'Time required to start a business (days)'}, 'country': {'id': 'VE', 'value': 'Venezuela, RB'}, 'countryiso3code': 'VEN', 'date': '1972', 'value': None, 'unit': '', 'obs_status': '', 'decimal': 0}, {'indicator': {'id': 'IC.REG.DURS', 'value': 'Time required to start a business (days)'}, 'country': {'id': 'VE', 'value': 'Venezuela, RB'}, 'countryiso3code': 'VEN', 'date': '1971', 'value': None, 'unit': '', 'obs_status': '', 'decimal': 0}]]\n",
            "WB_data_VEN.json\n"
          ]
        },
        {
          "output_type": "display_data",
          "data": {
            "application/javascript": [
              "\n",
              "    async function download(id, filename, size) {\n",
              "      if (!google.colab.kernel.accessAllowed) {\n",
              "        return;\n",
              "      }\n",
              "      const div = document.createElement('div');\n",
              "      const label = document.createElement('label');\n",
              "      label.textContent = `Downloading \"${filename}\": `;\n",
              "      div.appendChild(label);\n",
              "      const progress = document.createElement('progress');\n",
              "      progress.max = size;\n",
              "      div.appendChild(progress);\n",
              "      document.body.appendChild(div);\n",
              "\n",
              "      const buffers = [];\n",
              "      let downloaded = 0;\n",
              "\n",
              "      const channel = await google.colab.kernel.comms.open(id);\n",
              "      // Send a message to notify the kernel that we're ready.\n",
              "      channel.send({})\n",
              "\n",
              "      for await (const message of channel.messages) {\n",
              "        // Send a message to notify the kernel that we're ready.\n",
              "        channel.send({})\n",
              "        if (message.buffers) {\n",
              "          for (const buffer of message.buffers) {\n",
              "            buffers.push(buffer);\n",
              "            downloaded += buffer.byteLength;\n",
              "            progress.value = downloaded;\n",
              "          }\n",
              "        }\n",
              "      }\n",
              "      const blob = new Blob(buffers, {type: 'application/binary'});\n",
              "      const a = document.createElement('a');\n",
              "      a.href = window.URL.createObjectURL(blob);\n",
              "      a.download = filename;\n",
              "      div.appendChild(a);\n",
              "      a.click();\n",
              "      div.remove();\n",
              "    }\n",
              "  "
            ],
            "text/plain": [
              "<IPython.core.display.Javascript object>"
            ]
          },
          "metadata": {}
        },
        {
          "output_type": "display_data",
          "data": {
            "application/javascript": [
              "download(\"download_7972e769-970b-4bea-9c72-57b11908a66a\", \"WB_data_VEN.json\", 22659)"
            ],
            "text/plain": [
              "<IPython.core.display.Javascript object>"
            ]
          },
          "metadata": {}
        },
        {
          "output_type": "stream",
          "name": "stdout",
          "text": [
            "EGY\n",
            "http://api.worldbank.org/v2/country/EGY/indicator/IC.REG.DURS?format=json\n",
            "[{'page': 1, 'pages': 2, 'per_page': 50, 'total': 61, 'sourceid': '2', 'sourcename': 'World Development Indicators', 'lastupdated': '2021-10-28'}, [{'indicator': {'id': 'IC.REG.DURS', 'value': 'Time required to start a business (days)'}, 'country': {'id': 'EG', 'value': 'Egypt, Arab Rep.'}, 'countryiso3code': 'EGY', 'date': '2020', 'value': None, 'unit': '', 'obs_status': '', 'decimal': 0}, {'indicator': {'id': 'IC.REG.DURS', 'value': 'Time required to start a business (days)'}, 'country': {'id': 'EG', 'value': 'Egypt, Arab Rep.'}, 'countryiso3code': 'EGY', 'date': '2019', 'value': 12.5, 'unit': '', 'obs_status': '', 'decimal': 0}, {'indicator': {'id': 'IC.REG.DURS', 'value': 'Time required to start a business (days)'}, 'country': {'id': 'EG', 'value': 'Egypt, Arab Rep.'}, 'countryiso3code': 'EGY', 'date': '2018', 'value': 11.5, 'unit': '', 'obs_status': '', 'decimal': 0}, {'indicator': {'id': 'IC.REG.DURS', 'value': 'Time required to start a business (days)'}, 'country': {'id': 'EG', 'value': 'Egypt, Arab Rep.'}, 'countryiso3code': 'EGY', 'date': '2017', 'value': 16.5, 'unit': '', 'obs_status': '', 'decimal': 0}, {'indicator': {'id': 'IC.REG.DURS', 'value': 'Time required to start a business (days)'}, 'country': {'id': 'EG', 'value': 'Egypt, Arab Rep.'}, 'countryiso3code': 'EGY', 'date': '2016', 'value': 16.5, 'unit': '', 'obs_status': '', 'decimal': 0}, {'indicator': {'id': 'IC.REG.DURS', 'value': 'Time required to start a business (days)'}, 'country': {'id': 'EG', 'value': 'Egypt, Arab Rep.'}, 'countryiso3code': 'EGY', 'date': '2015', 'value': 16.5, 'unit': '', 'obs_status': '', 'decimal': 0}, {'indicator': {'id': 'IC.REG.DURS', 'value': 'Time required to start a business (days)'}, 'country': {'id': 'EG', 'value': 'Egypt, Arab Rep.'}, 'countryiso3code': 'EGY', 'date': '2014', 'value': 12.5, 'unit': '', 'obs_status': '', 'decimal': 0}, {'indicator': {'id': 'IC.REG.DURS', 'value': 'Time required to start a business (days)'}, 'country': {'id': 'EG', 'value': 'Egypt, Arab Rep.'}, 'countryiso3code': 'EGY', 'date': '2013', 'value': 12.5, 'unit': '', 'obs_status': '', 'decimal': 0}, {'indicator': {'id': 'IC.REG.DURS', 'value': 'Time required to start a business (days)'}, 'country': {'id': 'EG', 'value': 'Egypt, Arab Rep.'}, 'countryiso3code': 'EGY', 'date': '2012', 'value': 12.5, 'unit': '', 'obs_status': '', 'decimal': 0}, {'indicator': {'id': 'IC.REG.DURS', 'value': 'Time required to start a business (days)'}, 'country': {'id': 'EG', 'value': 'Egypt, Arab Rep.'}, 'countryiso3code': 'EGY', 'date': '2011', 'value': 12.5, 'unit': '', 'obs_status': '', 'decimal': 0}, {'indicator': {'id': 'IC.REG.DURS', 'value': 'Time required to start a business (days)'}, 'country': {'id': 'EG', 'value': 'Egypt, Arab Rep.'}, 'countryiso3code': 'EGY', 'date': '2010', 'value': 12.5, 'unit': '', 'obs_status': '', 'decimal': 0}, {'indicator': {'id': 'IC.REG.DURS', 'value': 'Time required to start a business (days)'}, 'country': {'id': 'EG', 'value': 'Egypt, Arab Rep.'}, 'countryiso3code': 'EGY', 'date': '2009', 'value': 12.5, 'unit': '', 'obs_status': '', 'decimal': 0}, {'indicator': {'id': 'IC.REG.DURS', 'value': 'Time required to start a business (days)'}, 'country': {'id': 'EG', 'value': 'Egypt, Arab Rep.'}, 'countryiso3code': 'EGY', 'date': '2008', 'value': 12.5, 'unit': '', 'obs_status': '', 'decimal': 0}, {'indicator': {'id': 'IC.REG.DURS', 'value': 'Time required to start a business (days)'}, 'country': {'id': 'EG', 'value': 'Egypt, Arab Rep.'}, 'countryiso3code': 'EGY', 'date': '2007', 'value': 17.5, 'unit': '', 'obs_status': '', 'decimal': 0}, {'indicator': {'id': 'IC.REG.DURS', 'value': 'Time required to start a business (days)'}, 'country': {'id': 'EG', 'value': 'Egypt, Arab Rep.'}, 'countryiso3code': 'EGY', 'date': '2006', 'value': 23.5, 'unit': '', 'obs_status': '', 'decimal': 0}, {'indicator': {'id': 'IC.REG.DURS', 'value': 'Time required to start a business (days)'}, 'country': {'id': 'EG', 'value': 'Egypt, Arab Rep.'}, 'countryiso3code': 'EGY', 'date': '2005', 'value': 26.5, 'unit': '', 'obs_status': '', 'decimal': 0}, {'indicator': {'id': 'IC.REG.DURS', 'value': 'Time required to start a business (days)'}, 'country': {'id': 'EG', 'value': 'Egypt, Arab Rep.'}, 'countryiso3code': 'EGY', 'date': '2004', 'value': 42.5, 'unit': '', 'obs_status': '', 'decimal': 0}, {'indicator': {'id': 'IC.REG.DURS', 'value': 'Time required to start a business (days)'}, 'country': {'id': 'EG', 'value': 'Egypt, Arab Rep.'}, 'countryiso3code': 'EGY', 'date': '2003', 'value': 42.5, 'unit': '', 'obs_status': '', 'decimal': 0}, {'indicator': {'id': 'IC.REG.DURS', 'value': 'Time required to start a business (days)'}, 'country': {'id': 'EG', 'value': 'Egypt, Arab Rep.'}, 'countryiso3code': 'EGY', 'date': '2002', 'value': None, 'unit': '', 'obs_status': '', 'decimal': 0}, {'indicator': {'id': 'IC.REG.DURS', 'value': 'Time required to start a business (days)'}, 'country': {'id': 'EG', 'value': 'Egypt, Arab Rep.'}, 'countryiso3code': 'EGY', 'date': '2001', 'value': None, 'unit': '', 'obs_status': '', 'decimal': 0}, {'indicator': {'id': 'IC.REG.DURS', 'value': 'Time required to start a business (days)'}, 'country': {'id': 'EG', 'value': 'Egypt, Arab Rep.'}, 'countryiso3code': 'EGY', 'date': '2000', 'value': None, 'unit': '', 'obs_status': '', 'decimal': 0}, {'indicator': {'id': 'IC.REG.DURS', 'value': 'Time required to start a business (days)'}, 'country': {'id': 'EG', 'value': 'Egypt, Arab Rep.'}, 'countryiso3code': 'EGY', 'date': '1999', 'value': None, 'unit': '', 'obs_status': '', 'decimal': 0}, {'indicator': {'id': 'IC.REG.DURS', 'value': 'Time required to start a business (days)'}, 'country': {'id': 'EG', 'value': 'Egypt, Arab Rep.'}, 'countryiso3code': 'EGY', 'date': '1998', 'value': None, 'unit': '', 'obs_status': '', 'decimal': 0}, {'indicator': {'id': 'IC.REG.DURS', 'value': 'Time required to start a business (days)'}, 'country': {'id': 'EG', 'value': 'Egypt, Arab Rep.'}, 'countryiso3code': 'EGY', 'date': '1997', 'value': None, 'unit': '', 'obs_status': '', 'decimal': 0}, {'indicator': {'id': 'IC.REG.DURS', 'value': 'Time required to start a business (days)'}, 'country': {'id': 'EG', 'value': 'Egypt, Arab Rep.'}, 'countryiso3code': 'EGY', 'date': '1996', 'value': None, 'unit': '', 'obs_status': '', 'decimal': 0}, {'indicator': {'id': 'IC.REG.DURS', 'value': 'Time required to start a business (days)'}, 'country': {'id': 'EG', 'value': 'Egypt, Arab Rep.'}, 'countryiso3code': 'EGY', 'date': '1995', 'value': None, 'unit': '', 'obs_status': '', 'decimal': 0}, {'indicator': {'id': 'IC.REG.DURS', 'value': 'Time required to start a business (days)'}, 'country': {'id': 'EG', 'value': 'Egypt, Arab Rep.'}, 'countryiso3code': 'EGY', 'date': '1994', 'value': None, 'unit': '', 'obs_status': '', 'decimal': 0}, {'indicator': {'id': 'IC.REG.DURS', 'value': 'Time required to start a business (days)'}, 'country': {'id': 'EG', 'value': 'Egypt, Arab Rep.'}, 'countryiso3code': 'EGY', 'date': '1993', 'value': None, 'unit': '', 'obs_status': '', 'decimal': 0}, {'indicator': {'id': 'IC.REG.DURS', 'value': 'Time required to start a business (days)'}, 'country': {'id': 'EG', 'value': 'Egypt, Arab Rep.'}, 'countryiso3code': 'EGY', 'date': '1992', 'value': None, 'unit': '', 'obs_status': '', 'decimal': 0}, {'indicator': {'id': 'IC.REG.DURS', 'value': 'Time required to start a business (days)'}, 'country': {'id': 'EG', 'value': 'Egypt, Arab Rep.'}, 'countryiso3code': 'EGY', 'date': '1991', 'value': None, 'unit': '', 'obs_status': '', 'decimal': 0}, {'indicator': {'id': 'IC.REG.DURS', 'value': 'Time required to start a business (days)'}, 'country': {'id': 'EG', 'value': 'Egypt, Arab Rep.'}, 'countryiso3code': 'EGY', 'date': '1990', 'value': None, 'unit': '', 'obs_status': '', 'decimal': 0}, {'indicator': {'id': 'IC.REG.DURS', 'value': 'Time required to start a business (days)'}, 'country': {'id': 'EG', 'value': 'Egypt, Arab Rep.'}, 'countryiso3code': 'EGY', 'date': '1989', 'value': None, 'unit': '', 'obs_status': '', 'decimal': 0}, {'indicator': {'id': 'IC.REG.DURS', 'value': 'Time required to start a business (days)'}, 'country': {'id': 'EG', 'value': 'Egypt, Arab Rep.'}, 'countryiso3code': 'EGY', 'date': '1988', 'value': None, 'unit': '', 'obs_status': '', 'decimal': 0}, {'indicator': {'id': 'IC.REG.DURS', 'value': 'Time required to start a business (days)'}, 'country': {'id': 'EG', 'value': 'Egypt, Arab Rep.'}, 'countryiso3code': 'EGY', 'date': '1987', 'value': None, 'unit': '', 'obs_status': '', 'decimal': 0}, {'indicator': {'id': 'IC.REG.DURS', 'value': 'Time required to start a business (days)'}, 'country': {'id': 'EG', 'value': 'Egypt, Arab Rep.'}, 'countryiso3code': 'EGY', 'date': '1986', 'value': None, 'unit': '', 'obs_status': '', 'decimal': 0}, {'indicator': {'id': 'IC.REG.DURS', 'value': 'Time required to start a business (days)'}, 'country': {'id': 'EG', 'value': 'Egypt, Arab Rep.'}, 'countryiso3code': 'EGY', 'date': '1985', 'value': None, 'unit': '', 'obs_status': '', 'decimal': 0}, {'indicator': {'id': 'IC.REG.DURS', 'value': 'Time required to start a business (days)'}, 'country': {'id': 'EG', 'value': 'Egypt, Arab Rep.'}, 'countryiso3code': 'EGY', 'date': '1984', 'value': None, 'unit': '', 'obs_status': '', 'decimal': 0}, {'indicator': {'id': 'IC.REG.DURS', 'value': 'Time required to start a business (days)'}, 'country': {'id': 'EG', 'value': 'Egypt, Arab Rep.'}, 'countryiso3code': 'EGY', 'date': '1983', 'value': None, 'unit': '', 'obs_status': '', 'decimal': 0}, {'indicator': {'id': 'IC.REG.DURS', 'value': 'Time required to start a business (days)'}, 'country': {'id': 'EG', 'value': 'Egypt, Arab Rep.'}, 'countryiso3code': 'EGY', 'date': '1982', 'value': None, 'unit': '', 'obs_status': '', 'decimal': 0}, {'indicator': {'id': 'IC.REG.DURS', 'value': 'Time required to start a business (days)'}, 'country': {'id': 'EG', 'value': 'Egypt, Arab Rep.'}, 'countryiso3code': 'EGY', 'date': '1981', 'value': None, 'unit': '', 'obs_status': '', 'decimal': 0}, {'indicator': {'id': 'IC.REG.DURS', 'value': 'Time required to start a business (days)'}, 'country': {'id': 'EG', 'value': 'Egypt, Arab Rep.'}, 'countryiso3code': 'EGY', 'date': '1980', 'value': None, 'unit': '', 'obs_status': '', 'decimal': 0}, {'indicator': {'id': 'IC.REG.DURS', 'value': 'Time required to start a business (days)'}, 'country': {'id': 'EG', 'value': 'Egypt, Arab Rep.'}, 'countryiso3code': 'EGY', 'date': '1979', 'value': None, 'unit': '', 'obs_status': '', 'decimal': 0}, {'indicator': {'id': 'IC.REG.DURS', 'value': 'Time required to start a business (days)'}, 'country': {'id': 'EG', 'value': 'Egypt, Arab Rep.'}, 'countryiso3code': 'EGY', 'date': '1978', 'value': None, 'unit': '', 'obs_status': '', 'decimal': 0}, {'indicator': {'id': 'IC.REG.DURS', 'value': 'Time required to start a business (days)'}, 'country': {'id': 'EG', 'value': 'Egypt, Arab Rep.'}, 'countryiso3code': 'EGY', 'date': '1977', 'value': None, 'unit': '', 'obs_status': '', 'decimal': 0}, {'indicator': {'id': 'IC.REG.DURS', 'value': 'Time required to start a business (days)'}, 'country': {'id': 'EG', 'value': 'Egypt, Arab Rep.'}, 'countryiso3code': 'EGY', 'date': '1976', 'value': None, 'unit': '', 'obs_status': '', 'decimal': 0}, {'indicator': {'id': 'IC.REG.DURS', 'value': 'Time required to start a business (days)'}, 'country': {'id': 'EG', 'value': 'Egypt, Arab Rep.'}, 'countryiso3code': 'EGY', 'date': '1975', 'value': None, 'unit': '', 'obs_status': '', 'decimal': 0}, {'indicator': {'id': 'IC.REG.DURS', 'value': 'Time required to start a business (days)'}, 'country': {'id': 'EG', 'value': 'Egypt, Arab Rep.'}, 'countryiso3code': 'EGY', 'date': '1974', 'value': None, 'unit': '', 'obs_status': '', 'decimal': 0}, {'indicator': {'id': 'IC.REG.DURS', 'value': 'Time required to start a business (days)'}, 'country': {'id': 'EG', 'value': 'Egypt, Arab Rep.'}, 'countryiso3code': 'EGY', 'date': '1973', 'value': None, 'unit': '', 'obs_status': '', 'decimal': 0}, {'indicator': {'id': 'IC.REG.DURS', 'value': 'Time required to start a business (days)'}, 'country': {'id': 'EG', 'value': 'Egypt, Arab Rep.'}, 'countryiso3code': 'EGY', 'date': '1972', 'value': None, 'unit': '', 'obs_status': '', 'decimal': 0}, {'indicator': {'id': 'IC.REG.DURS', 'value': 'Time required to start a business (days)'}, 'country': {'id': 'EG', 'value': 'Egypt, Arab Rep.'}, 'countryiso3code': 'EGY', 'date': '1971', 'value': None, 'unit': '', 'obs_status': '', 'decimal': 0}]]\n",
            "WB_data_EGY.json\n"
          ]
        },
        {
          "output_type": "display_data",
          "data": {
            "application/javascript": [
              "\n",
              "    async function download(id, filename, size) {\n",
              "      if (!google.colab.kernel.accessAllowed) {\n",
              "        return;\n",
              "      }\n",
              "      const div = document.createElement('div');\n",
              "      const label = document.createElement('label');\n",
              "      label.textContent = `Downloading \"${filename}\": `;\n",
              "      div.appendChild(label);\n",
              "      const progress = document.createElement('progress');\n",
              "      progress.max = size;\n",
              "      div.appendChild(progress);\n",
              "      document.body.appendChild(div);\n",
              "\n",
              "      const buffers = [];\n",
              "      let downloaded = 0;\n",
              "\n",
              "      const channel = await google.colab.kernel.comms.open(id);\n",
              "      // Send a message to notify the kernel that we're ready.\n",
              "      channel.send({})\n",
              "\n",
              "      for await (const message of channel.messages) {\n",
              "        // Send a message to notify the kernel that we're ready.\n",
              "        channel.send({})\n",
              "        if (message.buffers) {\n",
              "          for (const buffer of message.buffers) {\n",
              "            buffers.push(buffer);\n",
              "            downloaded += buffer.byteLength;\n",
              "            progress.value = downloaded;\n",
              "          }\n",
              "        }\n",
              "      }\n",
              "      const blob = new Blob(buffers, {type: 'application/binary'});\n",
              "      const a = document.createElement('a');\n",
              "      a.href = window.URL.createObjectURL(blob);\n",
              "      a.download = filename;\n",
              "      div.appendChild(a);\n",
              "      a.click();\n",
              "      div.remove();\n",
              "    }\n",
              "  "
            ],
            "text/plain": [
              "<IPython.core.display.Javascript object>"
            ]
          },
          "metadata": {}
        },
        {
          "output_type": "display_data",
          "data": {
            "application/javascript": [
              "download(\"download_05944e04-2253-4f77-9667-efe80a935d21\", \"WB_data_EGY.json\", 22826)"
            ],
            "text/plain": [
              "<IPython.core.display.Javascript object>"
            ]
          },
          "metadata": {}
        },
        {
          "output_type": "stream",
          "name": "stdout",
          "text": [
            "NGA\n",
            "http://api.worldbank.org/v2/country/NGA/indicator/IC.REG.DURS?format=json\n",
            "[{'page': 1, 'pages': 2, 'per_page': 50, 'total': 61, 'sourceid': '2', 'sourcename': 'World Development Indicators', 'lastupdated': '2021-10-28'}, [{'indicator': {'id': 'IC.REG.DURS', 'value': 'Time required to start a business (days)'}, 'country': {'id': 'NG', 'value': 'Nigeria'}, 'countryiso3code': 'NGA', 'date': '2020', 'value': None, 'unit': '', 'obs_status': '', 'decimal': 0}, {'indicator': {'id': 'IC.REG.DURS', 'value': 'Time required to start a business (days)'}, 'country': {'id': 'NG', 'value': 'Nigeria'}, 'countryiso3code': 'NGA', 'date': '2019', 'value': 7.2, 'unit': '', 'obs_status': '', 'decimal': 0}, {'indicator': {'id': 'IC.REG.DURS', 'value': 'Time required to start a business (days)'}, 'country': {'id': 'NG', 'value': 'Nigeria'}, 'countryiso3code': 'NGA', 'date': '2018', 'value': 10.9, 'unit': '', 'obs_status': '', 'decimal': 0}, {'indicator': {'id': 'IC.REG.DURS', 'value': 'Time required to start a business (days)'}, 'country': {'id': 'NG', 'value': 'Nigeria'}, 'countryiso3code': 'NGA', 'date': '2017', 'value': 18.9, 'unit': '', 'obs_status': '', 'decimal': 0}, {'indicator': {'id': 'IC.REG.DURS', 'value': 'Time required to start a business (days)'}, 'country': {'id': 'NG', 'value': 'Nigeria'}, 'countryiso3code': 'NGA', 'date': '2016', 'value': 24.9, 'unit': '', 'obs_status': '', 'decimal': 0}, {'indicator': {'id': 'IC.REG.DURS', 'value': 'Time required to start a business (days)'}, 'country': {'id': 'NG', 'value': 'Nigeria'}, 'countryiso3code': 'NGA', 'date': '2015', 'value': 30.3, 'unit': '', 'obs_status': '', 'decimal': 0}, {'indicator': {'id': 'IC.REG.DURS', 'value': 'Time required to start a business (days)'}, 'country': {'id': 'NG', 'value': 'Nigeria'}, 'countryiso3code': 'NGA', 'date': '2014', 'value': 30.3, 'unit': '', 'obs_status': '', 'decimal': 0}, {'indicator': {'id': 'IC.REG.DURS', 'value': 'Time required to start a business (days)'}, 'country': {'id': 'NG', 'value': 'Nigeria'}, 'countryiso3code': 'NGA', 'date': '2013', 'value': 30.3, 'unit': '', 'obs_status': '', 'decimal': 0}, {'indicator': {'id': 'IC.REG.DURS', 'value': 'Time required to start a business (days)'}, 'country': {'id': 'NG', 'value': 'Nigeria'}, 'countryiso3code': 'NGA', 'date': '2012', 'value': None, 'unit': '', 'obs_status': '', 'decimal': 0}, {'indicator': {'id': 'IC.REG.DURS', 'value': 'Time required to start a business (days)'}, 'country': {'id': 'NG', 'value': 'Nigeria'}, 'countryiso3code': 'NGA', 'date': '2011', 'value': None, 'unit': '', 'obs_status': '', 'decimal': 0}, {'indicator': {'id': 'IC.REG.DURS', 'value': 'Time required to start a business (days)'}, 'country': {'id': 'NG', 'value': 'Nigeria'}, 'countryiso3code': 'NGA', 'date': '2010', 'value': None, 'unit': '', 'obs_status': '', 'decimal': 0}, {'indicator': {'id': 'IC.REG.DURS', 'value': 'Time required to start a business (days)'}, 'country': {'id': 'NG', 'value': 'Nigeria'}, 'countryiso3code': 'NGA', 'date': '2009', 'value': None, 'unit': '', 'obs_status': '', 'decimal': 0}, {'indicator': {'id': 'IC.REG.DURS', 'value': 'Time required to start a business (days)'}, 'country': {'id': 'NG', 'value': 'Nigeria'}, 'countryiso3code': 'NGA', 'date': '2008', 'value': None, 'unit': '', 'obs_status': '', 'decimal': 0}, {'indicator': {'id': 'IC.REG.DURS', 'value': 'Time required to start a business (days)'}, 'country': {'id': 'NG', 'value': 'Nigeria'}, 'countryiso3code': 'NGA', 'date': '2007', 'value': None, 'unit': '', 'obs_status': '', 'decimal': 0}, {'indicator': {'id': 'IC.REG.DURS', 'value': 'Time required to start a business (days)'}, 'country': {'id': 'NG', 'value': 'Nigeria'}, 'countryiso3code': 'NGA', 'date': '2006', 'value': None, 'unit': '', 'obs_status': '', 'decimal': 0}, {'indicator': {'id': 'IC.REG.DURS', 'value': 'Time required to start a business (days)'}, 'country': {'id': 'NG', 'value': 'Nigeria'}, 'countryiso3code': 'NGA', 'date': '2005', 'value': None, 'unit': '', 'obs_status': '', 'decimal': 0}, {'indicator': {'id': 'IC.REG.DURS', 'value': 'Time required to start a business (days)'}, 'country': {'id': 'NG', 'value': 'Nigeria'}, 'countryiso3code': 'NGA', 'date': '2004', 'value': None, 'unit': '', 'obs_status': '', 'decimal': 0}, {'indicator': {'id': 'IC.REG.DURS', 'value': 'Time required to start a business (days)'}, 'country': {'id': 'NG', 'value': 'Nigeria'}, 'countryiso3code': 'NGA', 'date': '2003', 'value': None, 'unit': '', 'obs_status': '', 'decimal': 0}, {'indicator': {'id': 'IC.REG.DURS', 'value': 'Time required to start a business (days)'}, 'country': {'id': 'NG', 'value': 'Nigeria'}, 'countryiso3code': 'NGA', 'date': '2002', 'value': None, 'unit': '', 'obs_status': '', 'decimal': 0}, {'indicator': {'id': 'IC.REG.DURS', 'value': 'Time required to start a business (days)'}, 'country': {'id': 'NG', 'value': 'Nigeria'}, 'countryiso3code': 'NGA', 'date': '2001', 'value': None, 'unit': '', 'obs_status': '', 'decimal': 0}, {'indicator': {'id': 'IC.REG.DURS', 'value': 'Time required to start a business (days)'}, 'country': {'id': 'NG', 'value': 'Nigeria'}, 'countryiso3code': 'NGA', 'date': '2000', 'value': None, 'unit': '', 'obs_status': '', 'decimal': 0}, {'indicator': {'id': 'IC.REG.DURS', 'value': 'Time required to start a business (days)'}, 'country': {'id': 'NG', 'value': 'Nigeria'}, 'countryiso3code': 'NGA', 'date': '1999', 'value': None, 'unit': '', 'obs_status': '', 'decimal': 0}, {'indicator': {'id': 'IC.REG.DURS', 'value': 'Time required to start a business (days)'}, 'country': {'id': 'NG', 'value': 'Nigeria'}, 'countryiso3code': 'NGA', 'date': '1998', 'value': None, 'unit': '', 'obs_status': '', 'decimal': 0}, {'indicator': {'id': 'IC.REG.DURS', 'value': 'Time required to start a business (days)'}, 'country': {'id': 'NG', 'value': 'Nigeria'}, 'countryiso3code': 'NGA', 'date': '1997', 'value': None, 'unit': '', 'obs_status': '', 'decimal': 0}, {'indicator': {'id': 'IC.REG.DURS', 'value': 'Time required to start a business (days)'}, 'country': {'id': 'NG', 'value': 'Nigeria'}, 'countryiso3code': 'NGA', 'date': '1996', 'value': None, 'unit': '', 'obs_status': '', 'decimal': 0}, {'indicator': {'id': 'IC.REG.DURS', 'value': 'Time required to start a business (days)'}, 'country': {'id': 'NG', 'value': 'Nigeria'}, 'countryiso3code': 'NGA', 'date': '1995', 'value': None, 'unit': '', 'obs_status': '', 'decimal': 0}, {'indicator': {'id': 'IC.REG.DURS', 'value': 'Time required to start a business (days)'}, 'country': {'id': 'NG', 'value': 'Nigeria'}, 'countryiso3code': 'NGA', 'date': '1994', 'value': None, 'unit': '', 'obs_status': '', 'decimal': 0}, {'indicator': {'id': 'IC.REG.DURS', 'value': 'Time required to start a business (days)'}, 'country': {'id': 'NG', 'value': 'Nigeria'}, 'countryiso3code': 'NGA', 'date': '1993', 'value': None, 'unit': '', 'obs_status': '', 'decimal': 0}, {'indicator': {'id': 'IC.REG.DURS', 'value': 'Time required to start a business (days)'}, 'country': {'id': 'NG', 'value': 'Nigeria'}, 'countryiso3code': 'NGA', 'date': '1992', 'value': None, 'unit': '', 'obs_status': '', 'decimal': 0}, {'indicator': {'id': 'IC.REG.DURS', 'value': 'Time required to start a business (days)'}, 'country': {'id': 'NG', 'value': 'Nigeria'}, 'countryiso3code': 'NGA', 'date': '1991', 'value': None, 'unit': '', 'obs_status': '', 'decimal': 0}, {'indicator': {'id': 'IC.REG.DURS', 'value': 'Time required to start a business (days)'}, 'country': {'id': 'NG', 'value': 'Nigeria'}, 'countryiso3code': 'NGA', 'date': '1990', 'value': None, 'unit': '', 'obs_status': '', 'decimal': 0}, {'indicator': {'id': 'IC.REG.DURS', 'value': 'Time required to start a business (days)'}, 'country': {'id': 'NG', 'value': 'Nigeria'}, 'countryiso3code': 'NGA', 'date': '1989', 'value': None, 'unit': '', 'obs_status': '', 'decimal': 0}, {'indicator': {'id': 'IC.REG.DURS', 'value': 'Time required to start a business (days)'}, 'country': {'id': 'NG', 'value': 'Nigeria'}, 'countryiso3code': 'NGA', 'date': '1988', 'value': None, 'unit': '', 'obs_status': '', 'decimal': 0}, {'indicator': {'id': 'IC.REG.DURS', 'value': 'Time required to start a business (days)'}, 'country': {'id': 'NG', 'value': 'Nigeria'}, 'countryiso3code': 'NGA', 'date': '1987', 'value': None, 'unit': '', 'obs_status': '', 'decimal': 0}, {'indicator': {'id': 'IC.REG.DURS', 'value': 'Time required to start a business (days)'}, 'country': {'id': 'NG', 'value': 'Nigeria'}, 'countryiso3code': 'NGA', 'date': '1986', 'value': None, 'unit': '', 'obs_status': '', 'decimal': 0}, {'indicator': {'id': 'IC.REG.DURS', 'value': 'Time required to start a business (days)'}, 'country': {'id': 'NG', 'value': 'Nigeria'}, 'countryiso3code': 'NGA', 'date': '1985', 'value': None, 'unit': '', 'obs_status': '', 'decimal': 0}, {'indicator': {'id': 'IC.REG.DURS', 'value': 'Time required to start a business (days)'}, 'country': {'id': 'NG', 'value': 'Nigeria'}, 'countryiso3code': 'NGA', 'date': '1984', 'value': None, 'unit': '', 'obs_status': '', 'decimal': 0}, {'indicator': {'id': 'IC.REG.DURS', 'value': 'Time required to start a business (days)'}, 'country': {'id': 'NG', 'value': 'Nigeria'}, 'countryiso3code': 'NGA', 'date': '1983', 'value': None, 'unit': '', 'obs_status': '', 'decimal': 0}, {'indicator': {'id': 'IC.REG.DURS', 'value': 'Time required to start a business (days)'}, 'country': {'id': 'NG', 'value': 'Nigeria'}, 'countryiso3code': 'NGA', 'date': '1982', 'value': None, 'unit': '', 'obs_status': '', 'decimal': 0}, {'indicator': {'id': 'IC.REG.DURS', 'value': 'Time required to start a business (days)'}, 'country': {'id': 'NG', 'value': 'Nigeria'}, 'countryiso3code': 'NGA', 'date': '1981', 'value': None, 'unit': '', 'obs_status': '', 'decimal': 0}, {'indicator': {'id': 'IC.REG.DURS', 'value': 'Time required to start a business (days)'}, 'country': {'id': 'NG', 'value': 'Nigeria'}, 'countryiso3code': 'NGA', 'date': '1980', 'value': None, 'unit': '', 'obs_status': '', 'decimal': 0}, {'indicator': {'id': 'IC.REG.DURS', 'value': 'Time required to start a business (days)'}, 'country': {'id': 'NG', 'value': 'Nigeria'}, 'countryiso3code': 'NGA', 'date': '1979', 'value': None, 'unit': '', 'obs_status': '', 'decimal': 0}, {'indicator': {'id': 'IC.REG.DURS', 'value': 'Time required to start a business (days)'}, 'country': {'id': 'NG', 'value': 'Nigeria'}, 'countryiso3code': 'NGA', 'date': '1978', 'value': None, 'unit': '', 'obs_status': '', 'decimal': 0}, {'indicator': {'id': 'IC.REG.DURS', 'value': 'Time required to start a business (days)'}, 'country': {'id': 'NG', 'value': 'Nigeria'}, 'countryiso3code': 'NGA', 'date': '1977', 'value': None, 'unit': '', 'obs_status': '', 'decimal': 0}, {'indicator': {'id': 'IC.REG.DURS', 'value': 'Time required to start a business (days)'}, 'country': {'id': 'NG', 'value': 'Nigeria'}, 'countryiso3code': 'NGA', 'date': '1976', 'value': None, 'unit': '', 'obs_status': '', 'decimal': 0}, {'indicator': {'id': 'IC.REG.DURS', 'value': 'Time required to start a business (days)'}, 'country': {'id': 'NG', 'value': 'Nigeria'}, 'countryiso3code': 'NGA', 'date': '1975', 'value': None, 'unit': '', 'obs_status': '', 'decimal': 0}, {'indicator': {'id': 'IC.REG.DURS', 'value': 'Time required to start a business (days)'}, 'country': {'id': 'NG', 'value': 'Nigeria'}, 'countryiso3code': 'NGA', 'date': '1974', 'value': None, 'unit': '', 'obs_status': '', 'decimal': 0}, {'indicator': {'id': 'IC.REG.DURS', 'value': 'Time required to start a business (days)'}, 'country': {'id': 'NG', 'value': 'Nigeria'}, 'countryiso3code': 'NGA', 'date': '1973', 'value': None, 'unit': '', 'obs_status': '', 'decimal': 0}, {'indicator': {'id': 'IC.REG.DURS', 'value': 'Time required to start a business (days)'}, 'country': {'id': 'NG', 'value': 'Nigeria'}, 'countryiso3code': 'NGA', 'date': '1972', 'value': None, 'unit': '', 'obs_status': '', 'decimal': 0}, {'indicator': {'id': 'IC.REG.DURS', 'value': 'Time required to start a business (days)'}, 'country': {'id': 'NG', 'value': 'Nigeria'}, 'countryiso3code': 'NGA', 'date': '1971', 'value': None, 'unit': '', 'obs_status': '', 'decimal': 0}]]\n",
            "WB_data_NGA.json\n"
          ]
        },
        {
          "output_type": "display_data",
          "data": {
            "application/javascript": [
              "\n",
              "    async function download(id, filename, size) {\n",
              "      if (!google.colab.kernel.accessAllowed) {\n",
              "        return;\n",
              "      }\n",
              "      const div = document.createElement('div');\n",
              "      const label = document.createElement('label');\n",
              "      label.textContent = `Downloading \"${filename}\": `;\n",
              "      div.appendChild(label);\n",
              "      const progress = document.createElement('progress');\n",
              "      progress.max = size;\n",
              "      div.appendChild(progress);\n",
              "      document.body.appendChild(div);\n",
              "\n",
              "      const buffers = [];\n",
              "      let downloaded = 0;\n",
              "\n",
              "      const channel = await google.colab.kernel.comms.open(id);\n",
              "      // Send a message to notify the kernel that we're ready.\n",
              "      channel.send({})\n",
              "\n",
              "      for await (const message of channel.messages) {\n",
              "        // Send a message to notify the kernel that we're ready.\n",
              "        channel.send({})\n",
              "        if (message.buffers) {\n",
              "          for (const buffer of message.buffers) {\n",
              "            buffers.push(buffer);\n",
              "            downloaded += buffer.byteLength;\n",
              "            progress.value = downloaded;\n",
              "          }\n",
              "        }\n",
              "      }\n",
              "      const blob = new Blob(buffers, {type: 'application/binary'});\n",
              "      const a = document.createElement('a');\n",
              "      a.href = window.URL.createObjectURL(blob);\n",
              "      a.download = filename;\n",
              "      div.appendChild(a);\n",
              "      a.click();\n",
              "      div.remove();\n",
              "    }\n",
              "  "
            ],
            "text/plain": [
              "<IPython.core.display.Javascript object>"
            ]
          },
          "metadata": {}
        },
        {
          "output_type": "display_data",
          "data": {
            "application/javascript": [
              "download(\"download_f6309db6-e1e5-4f68-8106-4668420b3fb0\", \"WB_data_NGA.json\", 22375)"
            ],
            "text/plain": [
              "<IPython.core.display.Javascript object>"
            ]
          },
          "metadata": {}
        },
        {
          "output_type": "stream",
          "name": "stdout",
          "text": [
            "TCD\n",
            "http://api.worldbank.org/v2/country/TCD/indicator/IC.REG.DURS?format=json\n",
            "[{'page': 1, 'pages': 2, 'per_page': 50, 'total': 61, 'sourceid': '2', 'sourcename': 'World Development Indicators', 'lastupdated': '2021-10-28'}, [{'indicator': {'id': 'IC.REG.DURS', 'value': 'Time required to start a business (days)'}, 'country': {'id': 'TD', 'value': 'Chad'}, 'countryiso3code': 'TCD', 'date': '2020', 'value': None, 'unit': '', 'obs_status': '', 'decimal': 0}, {'indicator': {'id': 'IC.REG.DURS', 'value': 'Time required to start a business (days)'}, 'country': {'id': 'TD', 'value': 'Chad'}, 'countryiso3code': 'TCD', 'date': '2019', 'value': 58, 'unit': '', 'obs_status': '', 'decimal': 0}, {'indicator': {'id': 'IC.REG.DURS', 'value': 'Time required to start a business (days)'}, 'country': {'id': 'TD', 'value': 'Chad'}, 'countryiso3code': 'TCD', 'date': '2018', 'value': 58, 'unit': '', 'obs_status': '', 'decimal': 0}, {'indicator': {'id': 'IC.REG.DURS', 'value': 'Time required to start a business (days)'}, 'country': {'id': 'TD', 'value': 'Chad'}, 'countryiso3code': 'TCD', 'date': '2017', 'value': 60, 'unit': '', 'obs_status': '', 'decimal': 0}, {'indicator': {'id': 'IC.REG.DURS', 'value': 'Time required to start a business (days)'}, 'country': {'id': 'TD', 'value': 'Chad'}, 'countryiso3code': 'TCD', 'date': '2016', 'value': 60, 'unit': '', 'obs_status': '', 'decimal': 0}, {'indicator': {'id': 'IC.REG.DURS', 'value': 'Time required to start a business (days)'}, 'country': {'id': 'TD', 'value': 'Chad'}, 'countryiso3code': 'TCD', 'date': '2015', 'value': 60, 'unit': '', 'obs_status': '', 'decimal': 0}, {'indicator': {'id': 'IC.REG.DURS', 'value': 'Time required to start a business (days)'}, 'country': {'id': 'TD', 'value': 'Chad'}, 'countryiso3code': 'TCD', 'date': '2014', 'value': 60, 'unit': '', 'obs_status': '', 'decimal': 0}, {'indicator': {'id': 'IC.REG.DURS', 'value': 'Time required to start a business (days)'}, 'country': {'id': 'TD', 'value': 'Chad'}, 'countryiso3code': 'TCD', 'date': '2013', 'value': 60, 'unit': '', 'obs_status': '', 'decimal': 0}, {'indicator': {'id': 'IC.REG.DURS', 'value': 'Time required to start a business (days)'}, 'country': {'id': 'TD', 'value': 'Chad'}, 'countryiso3code': 'TCD', 'date': '2012', 'value': 60, 'unit': '', 'obs_status': '', 'decimal': 0}, {'indicator': {'id': 'IC.REG.DURS', 'value': 'Time required to start a business (days)'}, 'country': {'id': 'TD', 'value': 'Chad'}, 'countryiso3code': 'TCD', 'date': '2011', 'value': 53, 'unit': '', 'obs_status': '', 'decimal': 0}, {'indicator': {'id': 'IC.REG.DURS', 'value': 'Time required to start a business (days)'}, 'country': {'id': 'TD', 'value': 'Chad'}, 'countryiso3code': 'TCD', 'date': '2010', 'value': 62, 'unit': '', 'obs_status': '', 'decimal': 0}, {'indicator': {'id': 'IC.REG.DURS', 'value': 'Time required to start a business (days)'}, 'country': {'id': 'TD', 'value': 'Chad'}, 'countryiso3code': 'TCD', 'date': '2009', 'value': 62, 'unit': '', 'obs_status': '', 'decimal': 0}, {'indicator': {'id': 'IC.REG.DURS', 'value': 'Time required to start a business (days)'}, 'country': {'id': 'TD', 'value': 'Chad'}, 'countryiso3code': 'TCD', 'date': '2008', 'value': 62, 'unit': '', 'obs_status': '', 'decimal': 0}, {'indicator': {'id': 'IC.REG.DURS', 'value': 'Time required to start a business (days)'}, 'country': {'id': 'TD', 'value': 'Chad'}, 'countryiso3code': 'TCD', 'date': '2007', 'value': 62, 'unit': '', 'obs_status': '', 'decimal': 0}, {'indicator': {'id': 'IC.REG.DURS', 'value': 'Time required to start a business (days)'}, 'country': {'id': 'TD', 'value': 'Chad'}, 'countryiso3code': 'TCD', 'date': '2006', 'value': 62, 'unit': '', 'obs_status': '', 'decimal': 0}, {'indicator': {'id': 'IC.REG.DURS', 'value': 'Time required to start a business (days)'}, 'country': {'id': 'TD', 'value': 'Chad'}, 'countryiso3code': 'TCD', 'date': '2005', 'value': 62, 'unit': '', 'obs_status': '', 'decimal': 0}, {'indicator': {'id': 'IC.REG.DURS', 'value': 'Time required to start a business (days)'}, 'country': {'id': 'TD', 'value': 'Chad'}, 'countryiso3code': 'TCD', 'date': '2004', 'value': 62, 'unit': '', 'obs_status': '', 'decimal': 0}, {'indicator': {'id': 'IC.REG.DURS', 'value': 'Time required to start a business (days)'}, 'country': {'id': 'TD', 'value': 'Chad'}, 'countryiso3code': 'TCD', 'date': '2003', 'value': 62, 'unit': '', 'obs_status': '', 'decimal': 0}, {'indicator': {'id': 'IC.REG.DURS', 'value': 'Time required to start a business (days)'}, 'country': {'id': 'TD', 'value': 'Chad'}, 'countryiso3code': 'TCD', 'date': '2002', 'value': None, 'unit': '', 'obs_status': '', 'decimal': 0}, {'indicator': {'id': 'IC.REG.DURS', 'value': 'Time required to start a business (days)'}, 'country': {'id': 'TD', 'value': 'Chad'}, 'countryiso3code': 'TCD', 'date': '2001', 'value': None, 'unit': '', 'obs_status': '', 'decimal': 0}, {'indicator': {'id': 'IC.REG.DURS', 'value': 'Time required to start a business (days)'}, 'country': {'id': 'TD', 'value': 'Chad'}, 'countryiso3code': 'TCD', 'date': '2000', 'value': None, 'unit': '', 'obs_status': '', 'decimal': 0}, {'indicator': {'id': 'IC.REG.DURS', 'value': 'Time required to start a business (days)'}, 'country': {'id': 'TD', 'value': 'Chad'}, 'countryiso3code': 'TCD', 'date': '1999', 'value': None, 'unit': '', 'obs_status': '', 'decimal': 0}, {'indicator': {'id': 'IC.REG.DURS', 'value': 'Time required to start a business (days)'}, 'country': {'id': 'TD', 'value': 'Chad'}, 'countryiso3code': 'TCD', 'date': '1998', 'value': None, 'unit': '', 'obs_status': '', 'decimal': 0}, {'indicator': {'id': 'IC.REG.DURS', 'value': 'Time required to start a business (days)'}, 'country': {'id': 'TD', 'value': 'Chad'}, 'countryiso3code': 'TCD', 'date': '1997', 'value': None, 'unit': '', 'obs_status': '', 'decimal': 0}, {'indicator': {'id': 'IC.REG.DURS', 'value': 'Time required to start a business (days)'}, 'country': {'id': 'TD', 'value': 'Chad'}, 'countryiso3code': 'TCD', 'date': '1996', 'value': None, 'unit': '', 'obs_status': '', 'decimal': 0}, {'indicator': {'id': 'IC.REG.DURS', 'value': 'Time required to start a business (days)'}, 'country': {'id': 'TD', 'value': 'Chad'}, 'countryiso3code': 'TCD', 'date': '1995', 'value': None, 'unit': '', 'obs_status': '', 'decimal': 0}, {'indicator': {'id': 'IC.REG.DURS', 'value': 'Time required to start a business (days)'}, 'country': {'id': 'TD', 'value': 'Chad'}, 'countryiso3code': 'TCD', 'date': '1994', 'value': None, 'unit': '', 'obs_status': '', 'decimal': 0}, {'indicator': {'id': 'IC.REG.DURS', 'value': 'Time required to start a business (days)'}, 'country': {'id': 'TD', 'value': 'Chad'}, 'countryiso3code': 'TCD', 'date': '1993', 'value': None, 'unit': '', 'obs_status': '', 'decimal': 0}, {'indicator': {'id': 'IC.REG.DURS', 'value': 'Time required to start a business (days)'}, 'country': {'id': 'TD', 'value': 'Chad'}, 'countryiso3code': 'TCD', 'date': '1992', 'value': None, 'unit': '', 'obs_status': '', 'decimal': 0}, {'indicator': {'id': 'IC.REG.DURS', 'value': 'Time required to start a business (days)'}, 'country': {'id': 'TD', 'value': 'Chad'}, 'countryiso3code': 'TCD', 'date': '1991', 'value': None, 'unit': '', 'obs_status': '', 'decimal': 0}, {'indicator': {'id': 'IC.REG.DURS', 'value': 'Time required to start a business (days)'}, 'country': {'id': 'TD', 'value': 'Chad'}, 'countryiso3code': 'TCD', 'date': '1990', 'value': None, 'unit': '', 'obs_status': '', 'decimal': 0}, {'indicator': {'id': 'IC.REG.DURS', 'value': 'Time required to start a business (days)'}, 'country': {'id': 'TD', 'value': 'Chad'}, 'countryiso3code': 'TCD', 'date': '1989', 'value': None, 'unit': '', 'obs_status': '', 'decimal': 0}, {'indicator': {'id': 'IC.REG.DURS', 'value': 'Time required to start a business (days)'}, 'country': {'id': 'TD', 'value': 'Chad'}, 'countryiso3code': 'TCD', 'date': '1988', 'value': None, 'unit': '', 'obs_status': '', 'decimal': 0}, {'indicator': {'id': 'IC.REG.DURS', 'value': 'Time required to start a business (days)'}, 'country': {'id': 'TD', 'value': 'Chad'}, 'countryiso3code': 'TCD', 'date': '1987', 'value': None, 'unit': '', 'obs_status': '', 'decimal': 0}, {'indicator': {'id': 'IC.REG.DURS', 'value': 'Time required to start a business (days)'}, 'country': {'id': 'TD', 'value': 'Chad'}, 'countryiso3code': 'TCD', 'date': '1986', 'value': None, 'unit': '', 'obs_status': '', 'decimal': 0}, {'indicator': {'id': 'IC.REG.DURS', 'value': 'Time required to start a business (days)'}, 'country': {'id': 'TD', 'value': 'Chad'}, 'countryiso3code': 'TCD', 'date': '1985', 'value': None, 'unit': '', 'obs_status': '', 'decimal': 0}, {'indicator': {'id': 'IC.REG.DURS', 'value': 'Time required to start a business (days)'}, 'country': {'id': 'TD', 'value': 'Chad'}, 'countryiso3code': 'TCD', 'date': '1984', 'value': None, 'unit': '', 'obs_status': '', 'decimal': 0}, {'indicator': {'id': 'IC.REG.DURS', 'value': 'Time required to start a business (days)'}, 'country': {'id': 'TD', 'value': 'Chad'}, 'countryiso3code': 'TCD', 'date': '1983', 'value': None, 'unit': '', 'obs_status': '', 'decimal': 0}, {'indicator': {'id': 'IC.REG.DURS', 'value': 'Time required to start a business (days)'}, 'country': {'id': 'TD', 'value': 'Chad'}, 'countryiso3code': 'TCD', 'date': '1982', 'value': None, 'unit': '', 'obs_status': '', 'decimal': 0}, {'indicator': {'id': 'IC.REG.DURS', 'value': 'Time required to start a business (days)'}, 'country': {'id': 'TD', 'value': 'Chad'}, 'countryiso3code': 'TCD', 'date': '1981', 'value': None, 'unit': '', 'obs_status': '', 'decimal': 0}, {'indicator': {'id': 'IC.REG.DURS', 'value': 'Time required to start a business (days)'}, 'country': {'id': 'TD', 'value': 'Chad'}, 'countryiso3code': 'TCD', 'date': '1980', 'value': None, 'unit': '', 'obs_status': '', 'decimal': 0}, {'indicator': {'id': 'IC.REG.DURS', 'value': 'Time required to start a business (days)'}, 'country': {'id': 'TD', 'value': 'Chad'}, 'countryiso3code': 'TCD', 'date': '1979', 'value': None, 'unit': '', 'obs_status': '', 'decimal': 0}, {'indicator': {'id': 'IC.REG.DURS', 'value': 'Time required to start a business (days)'}, 'country': {'id': 'TD', 'value': 'Chad'}, 'countryiso3code': 'TCD', 'date': '1978', 'value': None, 'unit': '', 'obs_status': '', 'decimal': 0}, {'indicator': {'id': 'IC.REG.DURS', 'value': 'Time required to start a business (days)'}, 'country': {'id': 'TD', 'value': 'Chad'}, 'countryiso3code': 'TCD', 'date': '1977', 'value': None, 'unit': '', 'obs_status': '', 'decimal': 0}, {'indicator': {'id': 'IC.REG.DURS', 'value': 'Time required to start a business (days)'}, 'country': {'id': 'TD', 'value': 'Chad'}, 'countryiso3code': 'TCD', 'date': '1976', 'value': None, 'unit': '', 'obs_status': '', 'decimal': 0}, {'indicator': {'id': 'IC.REG.DURS', 'value': 'Time required to start a business (days)'}, 'country': {'id': 'TD', 'value': 'Chad'}, 'countryiso3code': 'TCD', 'date': '1975', 'value': None, 'unit': '', 'obs_status': '', 'decimal': 0}, {'indicator': {'id': 'IC.REG.DURS', 'value': 'Time required to start a business (days)'}, 'country': {'id': 'TD', 'value': 'Chad'}, 'countryiso3code': 'TCD', 'date': '1974', 'value': None, 'unit': '', 'obs_status': '', 'decimal': 0}, {'indicator': {'id': 'IC.REG.DURS', 'value': 'Time required to start a business (days)'}, 'country': {'id': 'TD', 'value': 'Chad'}, 'countryiso3code': 'TCD', 'date': '1973', 'value': None, 'unit': '', 'obs_status': '', 'decimal': 0}, {'indicator': {'id': 'IC.REG.DURS', 'value': 'Time required to start a business (days)'}, 'country': {'id': 'TD', 'value': 'Chad'}, 'countryiso3code': 'TCD', 'date': '1972', 'value': None, 'unit': '', 'obs_status': '', 'decimal': 0}, {'indicator': {'id': 'IC.REG.DURS', 'value': 'Time required to start a business (days)'}, 'country': {'id': 'TD', 'value': 'Chad'}, 'countryiso3code': 'TCD', 'date': '1971', 'value': None, 'unit': '', 'obs_status': '', 'decimal': 0}]]\n",
            "WB_data_TCD.json\n"
          ]
        },
        {
          "output_type": "display_data",
          "data": {
            "application/javascript": [
              "\n",
              "    async function download(id, filename, size) {\n",
              "      if (!google.colab.kernel.accessAllowed) {\n",
              "        return;\n",
              "      }\n",
              "      const div = document.createElement('div');\n",
              "      const label = document.createElement('label');\n",
              "      label.textContent = `Downloading \"${filename}\": `;\n",
              "      div.appendChild(label);\n",
              "      const progress = document.createElement('progress');\n",
              "      progress.max = size;\n",
              "      div.appendChild(progress);\n",
              "      document.body.appendChild(div);\n",
              "\n",
              "      const buffers = [];\n",
              "      let downloaded = 0;\n",
              "\n",
              "      const channel = await google.colab.kernel.comms.open(id);\n",
              "      // Send a message to notify the kernel that we're ready.\n",
              "      channel.send({})\n",
              "\n",
              "      for await (const message of channel.messages) {\n",
              "        // Send a message to notify the kernel that we're ready.\n",
              "        channel.send({})\n",
              "        if (message.buffers) {\n",
              "          for (const buffer of message.buffers) {\n",
              "            buffers.push(buffer);\n",
              "            downloaded += buffer.byteLength;\n",
              "            progress.value = downloaded;\n",
              "          }\n",
              "        }\n",
              "      }\n",
              "      const blob = new Blob(buffers, {type: 'application/binary'});\n",
              "      const a = document.createElement('a');\n",
              "      a.href = window.URL.createObjectURL(blob);\n",
              "      a.download = filename;\n",
              "      div.appendChild(a);\n",
              "      a.click();\n",
              "      div.remove();\n",
              "    }\n",
              "  "
            ],
            "text/plain": [
              "<IPython.core.display.Javascript object>"
            ]
          },
          "metadata": {}
        },
        {
          "output_type": "display_data",
          "data": {
            "application/javascript": [
              "download(\"download_94e0c7fb-6d5e-4b1c-b030-9936ec7de0a2\", \"WB_data_TCD.json\", 22192)"
            ],
            "text/plain": [
              "<IPython.core.display.Javascript object>"
            ]
          },
          "metadata": {}
        }
      ]
    },
    {
      "cell_type": "code",
      "metadata": {
        "colab": {
          "base_uri": "https://localhost:8080/",
          "height": 921
        },
        "id": "AUrXaBSSS9R1",
        "outputId": "39839821-f072-43f0-cb33-c222d01010ef"
      },
      "source": [
        "url_base_one = \"http://api.worldbank.org/v2/country/{}/indicator/IC.REG.DURS?format=json\"\n",
        "\n",
        "country = ['ZAF','GBR','DNK','DEU','ESP','EST','ARE','IRN',\n",
        "           'IND','KAZ','SGP','THA','IDN']\n",
        "\n",
        "file_base_one = \"WB_data_{}.json\"\n",
        "\n",
        "for i in country:\n",
        "  print(i)\n",
        "\n",
        "  URLone = url_base_one.format(i)\n",
        "\n",
        "  print(URLone)\n",
        "\n",
        "  data_one = requests.get(URLone).json()\n",
        "\n",
        "  print(data_one)\n",
        "\n",
        "  fileName_one = file_base_one.format(i)\n",
        "  print(fileName_one)\n",
        "\n",
        "  with open(fileName_one, 'w', encoding='utf-8') as f:\n",
        "     json.dump(data_one, f, ensure_ascii=False, indent=4)\n",
        "\n",
        "  files.download(fileName_one)\n"
      ],
      "execution_count": 18,
      "outputs": [
        {
          "output_type": "stream",
          "name": "stdout",
          "text": [
            "ZAF\n",
            "http://api.worldbank.org/v2/country/ZAF/indicator/IC.REG.DURS?format=json\n",
            "[{'page': 1, 'pages': 2, 'per_page': 50, 'total': 61, 'sourceid': '2', 'sourcename': 'World Development Indicators', 'lastupdated': '2021-10-28'}, [{'indicator': {'id': 'IC.REG.DURS', 'value': 'Time required to start a business (days)'}, 'country': {'id': 'ZA', 'value': 'South Africa'}, 'countryiso3code': 'ZAF', 'date': '2020', 'value': None, 'unit': '', 'obs_status': '', 'decimal': 0}, {'indicator': {'id': 'IC.REG.DURS', 'value': 'Time required to start a business (days)'}, 'country': {'id': 'ZA', 'value': 'South Africa'}, 'countryiso3code': 'ZAF', 'date': '2019', 'value': 40, 'unit': '', 'obs_status': '', 'decimal': 0}, {'indicator': {'id': 'IC.REG.DURS', 'value': 'Time required to start a business (days)'}, 'country': {'id': 'ZA', 'value': 'South Africa'}, 'countryiso3code': 'ZAF', 'date': '2018', 'value': 40, 'unit': '', 'obs_status': '', 'decimal': 0}, {'indicator': {'id': 'IC.REG.DURS', 'value': 'Time required to start a business (days)'}, 'country': {'id': 'ZA', 'value': 'South Africa'}, 'countryiso3code': 'ZAF', 'date': '2017', 'value': 45, 'unit': '', 'obs_status': '', 'decimal': 0}, {'indicator': {'id': 'IC.REG.DURS', 'value': 'Time required to start a business (days)'}, 'country': {'id': 'ZA', 'value': 'South Africa'}, 'countryiso3code': 'ZAF', 'date': '2016', 'value': 45, 'unit': '', 'obs_status': '', 'decimal': 0}, {'indicator': {'id': 'IC.REG.DURS', 'value': 'Time required to start a business (days)'}, 'country': {'id': 'ZA', 'value': 'South Africa'}, 'countryiso3code': 'ZAF', 'date': '2015', 'value': 46, 'unit': '', 'obs_status': '', 'decimal': 0}, {'indicator': {'id': 'IC.REG.DURS', 'value': 'Time required to start a business (days)'}, 'country': {'id': 'ZA', 'value': 'South Africa'}, 'countryiso3code': 'ZAF', 'date': '2014', 'value': 46, 'unit': '', 'obs_status': '', 'decimal': 0}, {'indicator': {'id': 'IC.REG.DURS', 'value': 'Time required to start a business (days)'}, 'country': {'id': 'ZA', 'value': 'South Africa'}, 'countryiso3code': 'ZAF', 'date': '2013', 'value': 45, 'unit': '', 'obs_status': '', 'decimal': 0}, {'indicator': {'id': 'IC.REG.DURS', 'value': 'Time required to start a business (days)'}, 'country': {'id': 'ZA', 'value': 'South Africa'}, 'countryiso3code': 'ZAF', 'date': '2012', 'value': 45, 'unit': '', 'obs_status': '', 'decimal': 0}, {'indicator': {'id': 'IC.REG.DURS', 'value': 'Time required to start a business (days)'}, 'country': {'id': 'ZA', 'value': 'South Africa'}, 'countryiso3code': 'ZAF', 'date': '2011', 'value': 45, 'unit': '', 'obs_status': '', 'decimal': 0}, {'indicator': {'id': 'IC.REG.DURS', 'value': 'Time required to start a business (days)'}, 'country': {'id': 'ZA', 'value': 'South Africa'}, 'countryiso3code': 'ZAF', 'date': '2010', 'value': 45, 'unit': '', 'obs_status': '', 'decimal': 0}, {'indicator': {'id': 'IC.REG.DURS', 'value': 'Time required to start a business (days)'}, 'country': {'id': 'ZA', 'value': 'South Africa'}, 'countryiso3code': 'ZAF', 'date': '2009', 'value': 45, 'unit': '', 'obs_status': '', 'decimal': 0}, {'indicator': {'id': 'IC.REG.DURS', 'value': 'Time required to start a business (days)'}, 'country': {'id': 'ZA', 'value': 'South Africa'}, 'countryiso3code': 'ZAF', 'date': '2008', 'value': 45, 'unit': '', 'obs_status': '', 'decimal': 0}, {'indicator': {'id': 'IC.REG.DURS', 'value': 'Time required to start a business (days)'}, 'country': {'id': 'ZA', 'value': 'South Africa'}, 'countryiso3code': 'ZAF', 'date': '2007', 'value': 53, 'unit': '', 'obs_status': '', 'decimal': 0}, {'indicator': {'id': 'IC.REG.DURS', 'value': 'Time required to start a business (days)'}, 'country': {'id': 'ZA', 'value': 'South Africa'}, 'countryiso3code': 'ZAF', 'date': '2006', 'value': 53, 'unit': '', 'obs_status': '', 'decimal': 0}, {'indicator': {'id': 'IC.REG.DURS', 'value': 'Time required to start a business (days)'}, 'country': {'id': 'ZA', 'value': 'South Africa'}, 'countryiso3code': 'ZAF', 'date': '2005', 'value': 53, 'unit': '', 'obs_status': '', 'decimal': 0}, {'indicator': {'id': 'IC.REG.DURS', 'value': 'Time required to start a business (days)'}, 'country': {'id': 'ZA', 'value': 'South Africa'}, 'countryiso3code': 'ZAF', 'date': '2004', 'value': 56, 'unit': '', 'obs_status': '', 'decimal': 0}, {'indicator': {'id': 'IC.REG.DURS', 'value': 'Time required to start a business (days)'}, 'country': {'id': 'ZA', 'value': 'South Africa'}, 'countryiso3code': 'ZAF', 'date': '2003', 'value': 56, 'unit': '', 'obs_status': '', 'decimal': 0}, {'indicator': {'id': 'IC.REG.DURS', 'value': 'Time required to start a business (days)'}, 'country': {'id': 'ZA', 'value': 'South Africa'}, 'countryiso3code': 'ZAF', 'date': '2002', 'value': None, 'unit': '', 'obs_status': '', 'decimal': 0}, {'indicator': {'id': 'IC.REG.DURS', 'value': 'Time required to start a business (days)'}, 'country': {'id': 'ZA', 'value': 'South Africa'}, 'countryiso3code': 'ZAF', 'date': '2001', 'value': None, 'unit': '', 'obs_status': '', 'decimal': 0}, {'indicator': {'id': 'IC.REG.DURS', 'value': 'Time required to start a business (days)'}, 'country': {'id': 'ZA', 'value': 'South Africa'}, 'countryiso3code': 'ZAF', 'date': '2000', 'value': None, 'unit': '', 'obs_status': '', 'decimal': 0}, {'indicator': {'id': 'IC.REG.DURS', 'value': 'Time required to start a business (days)'}, 'country': {'id': 'ZA', 'value': 'South Africa'}, 'countryiso3code': 'ZAF', 'date': '1999', 'value': None, 'unit': '', 'obs_status': '', 'decimal': 0}, {'indicator': {'id': 'IC.REG.DURS', 'value': 'Time required to start a business (days)'}, 'country': {'id': 'ZA', 'value': 'South Africa'}, 'countryiso3code': 'ZAF', 'date': '1998', 'value': None, 'unit': '', 'obs_status': '', 'decimal': 0}, {'indicator': {'id': 'IC.REG.DURS', 'value': 'Time required to start a business (days)'}, 'country': {'id': 'ZA', 'value': 'South Africa'}, 'countryiso3code': 'ZAF', 'date': '1997', 'value': None, 'unit': '', 'obs_status': '', 'decimal': 0}, {'indicator': {'id': 'IC.REG.DURS', 'value': 'Time required to start a business (days)'}, 'country': {'id': 'ZA', 'value': 'South Africa'}, 'countryiso3code': 'ZAF', 'date': '1996', 'value': None, 'unit': '', 'obs_status': '', 'decimal': 0}, {'indicator': {'id': 'IC.REG.DURS', 'value': 'Time required to start a business (days)'}, 'country': {'id': 'ZA', 'value': 'South Africa'}, 'countryiso3code': 'ZAF', 'date': '1995', 'value': None, 'unit': '', 'obs_status': '', 'decimal': 0}, {'indicator': {'id': 'IC.REG.DURS', 'value': 'Time required to start a business (days)'}, 'country': {'id': 'ZA', 'value': 'South Africa'}, 'countryiso3code': 'ZAF', 'date': '1994', 'value': None, 'unit': '', 'obs_status': '', 'decimal': 0}, {'indicator': {'id': 'IC.REG.DURS', 'value': 'Time required to start a business (days)'}, 'country': {'id': 'ZA', 'value': 'South Africa'}, 'countryiso3code': 'ZAF', 'date': '1993', 'value': None, 'unit': '', 'obs_status': '', 'decimal': 0}, {'indicator': {'id': 'IC.REG.DURS', 'value': 'Time required to start a business (days)'}, 'country': {'id': 'ZA', 'value': 'South Africa'}, 'countryiso3code': 'ZAF', 'date': '1992', 'value': None, 'unit': '', 'obs_status': '', 'decimal': 0}, {'indicator': {'id': 'IC.REG.DURS', 'value': 'Time required to start a business (days)'}, 'country': {'id': 'ZA', 'value': 'South Africa'}, 'countryiso3code': 'ZAF', 'date': '1991', 'value': None, 'unit': '', 'obs_status': '', 'decimal': 0}, {'indicator': {'id': 'IC.REG.DURS', 'value': 'Time required to start a business (days)'}, 'country': {'id': 'ZA', 'value': 'South Africa'}, 'countryiso3code': 'ZAF', 'date': '1990', 'value': None, 'unit': '', 'obs_status': '', 'decimal': 0}, {'indicator': {'id': 'IC.REG.DURS', 'value': 'Time required to start a business (days)'}, 'country': {'id': 'ZA', 'value': 'South Africa'}, 'countryiso3code': 'ZAF', 'date': '1989', 'value': None, 'unit': '', 'obs_status': '', 'decimal': 0}, {'indicator': {'id': 'IC.REG.DURS', 'value': 'Time required to start a business (days)'}, 'country': {'id': 'ZA', 'value': 'South Africa'}, 'countryiso3code': 'ZAF', 'date': '1988', 'value': None, 'unit': '', 'obs_status': '', 'decimal': 0}, {'indicator': {'id': 'IC.REG.DURS', 'value': 'Time required to start a business (days)'}, 'country': {'id': 'ZA', 'value': 'South Africa'}, 'countryiso3code': 'ZAF', 'date': '1987', 'value': None, 'unit': '', 'obs_status': '', 'decimal': 0}, {'indicator': {'id': 'IC.REG.DURS', 'value': 'Time required to start a business (days)'}, 'country': {'id': 'ZA', 'value': 'South Africa'}, 'countryiso3code': 'ZAF', 'date': '1986', 'value': None, 'unit': '', 'obs_status': '', 'decimal': 0}, {'indicator': {'id': 'IC.REG.DURS', 'value': 'Time required to start a business (days)'}, 'country': {'id': 'ZA', 'value': 'South Africa'}, 'countryiso3code': 'ZAF', 'date': '1985', 'value': None, 'unit': '', 'obs_status': '', 'decimal': 0}, {'indicator': {'id': 'IC.REG.DURS', 'value': 'Time required to start a business (days)'}, 'country': {'id': 'ZA', 'value': 'South Africa'}, 'countryiso3code': 'ZAF', 'date': '1984', 'value': None, 'unit': '', 'obs_status': '', 'decimal': 0}, {'indicator': {'id': 'IC.REG.DURS', 'value': 'Time required to start a business (days)'}, 'country': {'id': 'ZA', 'value': 'South Africa'}, 'countryiso3code': 'ZAF', 'date': '1983', 'value': None, 'unit': '', 'obs_status': '', 'decimal': 0}, {'indicator': {'id': 'IC.REG.DURS', 'value': 'Time required to start a business (days)'}, 'country': {'id': 'ZA', 'value': 'South Africa'}, 'countryiso3code': 'ZAF', 'date': '1982', 'value': None, 'unit': '', 'obs_status': '', 'decimal': 0}, {'indicator': {'id': 'IC.REG.DURS', 'value': 'Time required to start a business (days)'}, 'country': {'id': 'ZA', 'value': 'South Africa'}, 'countryiso3code': 'ZAF', 'date': '1981', 'value': None, 'unit': '', 'obs_status': '', 'decimal': 0}, {'indicator': {'id': 'IC.REG.DURS', 'value': 'Time required to start a business (days)'}, 'country': {'id': 'ZA', 'value': 'South Africa'}, 'countryiso3code': 'ZAF', 'date': '1980', 'value': None, 'unit': '', 'obs_status': '', 'decimal': 0}, {'indicator': {'id': 'IC.REG.DURS', 'value': 'Time required to start a business (days)'}, 'country': {'id': 'ZA', 'value': 'South Africa'}, 'countryiso3code': 'ZAF', 'date': '1979', 'value': None, 'unit': '', 'obs_status': '', 'decimal': 0}, {'indicator': {'id': 'IC.REG.DURS', 'value': 'Time required to start a business (days)'}, 'country': {'id': 'ZA', 'value': 'South Africa'}, 'countryiso3code': 'ZAF', 'date': '1978', 'value': None, 'unit': '', 'obs_status': '', 'decimal': 0}, {'indicator': {'id': 'IC.REG.DURS', 'value': 'Time required to start a business (days)'}, 'country': {'id': 'ZA', 'value': 'South Africa'}, 'countryiso3code': 'ZAF', 'date': '1977', 'value': None, 'unit': '', 'obs_status': '', 'decimal': 0}, {'indicator': {'id': 'IC.REG.DURS', 'value': 'Time required to start a business (days)'}, 'country': {'id': 'ZA', 'value': 'South Africa'}, 'countryiso3code': 'ZAF', 'date': '1976', 'value': None, 'unit': '', 'obs_status': '', 'decimal': 0}, {'indicator': {'id': 'IC.REG.DURS', 'value': 'Time required to start a business (days)'}, 'country': {'id': 'ZA', 'value': 'South Africa'}, 'countryiso3code': 'ZAF', 'date': '1975', 'value': None, 'unit': '', 'obs_status': '', 'decimal': 0}, {'indicator': {'id': 'IC.REG.DURS', 'value': 'Time required to start a business (days)'}, 'country': {'id': 'ZA', 'value': 'South Africa'}, 'countryiso3code': 'ZAF', 'date': '1974', 'value': None, 'unit': '', 'obs_status': '', 'decimal': 0}, {'indicator': {'id': 'IC.REG.DURS', 'value': 'Time required to start a business (days)'}, 'country': {'id': 'ZA', 'value': 'South Africa'}, 'countryiso3code': 'ZAF', 'date': '1973', 'value': None, 'unit': '', 'obs_status': '', 'decimal': 0}, {'indicator': {'id': 'IC.REG.DURS', 'value': 'Time required to start a business (days)'}, 'country': {'id': 'ZA', 'value': 'South Africa'}, 'countryiso3code': 'ZAF', 'date': '1972', 'value': None, 'unit': '', 'obs_status': '', 'decimal': 0}, {'indicator': {'id': 'IC.REG.DURS', 'value': 'Time required to start a business (days)'}, 'country': {'id': 'ZA', 'value': 'South Africa'}, 'countryiso3code': 'ZAF', 'date': '1971', 'value': None, 'unit': '', 'obs_status': '', 'decimal': 0}]]\n",
            "WB_data_ZAF.json\n"
          ]
        },
        {
          "output_type": "display_data",
          "data": {
            "application/javascript": [
              "\n",
              "    async function download(id, filename, size) {\n",
              "      if (!google.colab.kernel.accessAllowed) {\n",
              "        return;\n",
              "      }\n",
              "      const div = document.createElement('div');\n",
              "      const label = document.createElement('label');\n",
              "      label.textContent = `Downloading \"${filename}\": `;\n",
              "      div.appendChild(label);\n",
              "      const progress = document.createElement('progress');\n",
              "      progress.max = size;\n",
              "      div.appendChild(progress);\n",
              "      document.body.appendChild(div);\n",
              "\n",
              "      const buffers = [];\n",
              "      let downloaded = 0;\n",
              "\n",
              "      const channel = await google.colab.kernel.comms.open(id);\n",
              "      // Send a message to notify the kernel that we're ready.\n",
              "      channel.send({})\n",
              "\n",
              "      for await (const message of channel.messages) {\n",
              "        // Send a message to notify the kernel that we're ready.\n",
              "        channel.send({})\n",
              "        if (message.buffers) {\n",
              "          for (const buffer of message.buffers) {\n",
              "            buffers.push(buffer);\n",
              "            downloaded += buffer.byteLength;\n",
              "            progress.value = downloaded;\n",
              "          }\n",
              "        }\n",
              "      }\n",
              "      const blob = new Blob(buffers, {type: 'application/binary'});\n",
              "      const a = document.createElement('a');\n",
              "      a.href = window.URL.createObjectURL(blob);\n",
              "      a.download = filename;\n",
              "      div.appendChild(a);\n",
              "      a.click();\n",
              "      div.remove();\n",
              "    }\n",
              "  "
            ],
            "text/plain": [
              "<IPython.core.display.Javascript object>"
            ]
          },
          "metadata": {}
        },
        {
          "output_type": "display_data",
          "data": {
            "application/javascript": [
              "download(\"download_766553f1-d34b-489d-826f-eb149396164d\", \"WB_data_ZAF.json\", 22592)"
            ],
            "text/plain": [
              "<IPython.core.display.Javascript object>"
            ]
          },
          "metadata": {}
        },
        {
          "output_type": "stream",
          "name": "stdout",
          "text": [
            "GBR\n",
            "http://api.worldbank.org/v2/country/GBR/indicator/IC.REG.DURS?format=json\n",
            "[{'page': 1, 'pages': 2, 'per_page': 50, 'total': 61, 'sourceid': '2', 'sourcename': 'World Development Indicators', 'lastupdated': '2021-10-28'}, [{'indicator': {'id': 'IC.REG.DURS', 'value': 'Time required to start a business (days)'}, 'country': {'id': 'GB', 'value': 'United Kingdom'}, 'countryiso3code': 'GBR', 'date': '2020', 'value': None, 'unit': '', 'obs_status': '', 'decimal': 0}, {'indicator': {'id': 'IC.REG.DURS', 'value': 'Time required to start a business (days)'}, 'country': {'id': 'GB', 'value': 'United Kingdom'}, 'countryiso3code': 'GBR', 'date': '2019', 'value': 4.5, 'unit': '', 'obs_status': '', 'decimal': 0}, {'indicator': {'id': 'IC.REG.DURS', 'value': 'Time required to start a business (days)'}, 'country': {'id': 'GB', 'value': 'United Kingdom'}, 'countryiso3code': 'GBR', 'date': '2018', 'value': 4.5, 'unit': '', 'obs_status': '', 'decimal': 0}, {'indicator': {'id': 'IC.REG.DURS', 'value': 'Time required to start a business (days)'}, 'country': {'id': 'GB', 'value': 'United Kingdom'}, 'countryiso3code': 'GBR', 'date': '2017', 'value': 4.5, 'unit': '', 'obs_status': '', 'decimal': 0}, {'indicator': {'id': 'IC.REG.DURS', 'value': 'Time required to start a business (days)'}, 'country': {'id': 'GB', 'value': 'United Kingdom'}, 'countryiso3code': 'GBR', 'date': '2016', 'value': 4.5, 'unit': '', 'obs_status': '', 'decimal': 0}, {'indicator': {'id': 'IC.REG.DURS', 'value': 'Time required to start a business (days)'}, 'country': {'id': 'GB', 'value': 'United Kingdom'}, 'countryiso3code': 'GBR', 'date': '2015', 'value': 4.5, 'unit': '', 'obs_status': '', 'decimal': 0}, {'indicator': {'id': 'IC.REG.DURS', 'value': 'Time required to start a business (days)'}, 'country': {'id': 'GB', 'value': 'United Kingdom'}, 'countryiso3code': 'GBR', 'date': '2014', 'value': 6, 'unit': '', 'obs_status': '', 'decimal': 0}, {'indicator': {'id': 'IC.REG.DURS', 'value': 'Time required to start a business (days)'}, 'country': {'id': 'GB', 'value': 'United Kingdom'}, 'countryiso3code': 'GBR', 'date': '2013', 'value': 11.5, 'unit': '', 'obs_status': '', 'decimal': 0}, {'indicator': {'id': 'IC.REG.DURS', 'value': 'Time required to start a business (days)'}, 'country': {'id': 'GB', 'value': 'United Kingdom'}, 'countryiso3code': 'GBR', 'date': '2012', 'value': 11.5, 'unit': '', 'obs_status': '', 'decimal': 0}, {'indicator': {'id': 'IC.REG.DURS', 'value': 'Time required to start a business (days)'}, 'country': {'id': 'GB', 'value': 'United Kingdom'}, 'countryiso3code': 'GBR', 'date': '2011', 'value': 11.5, 'unit': '', 'obs_status': '', 'decimal': 0}, {'indicator': {'id': 'IC.REG.DURS', 'value': 'Time required to start a business (days)'}, 'country': {'id': 'GB', 'value': 'United Kingdom'}, 'countryiso3code': 'GBR', 'date': '2010', 'value': 11.5, 'unit': '', 'obs_status': '', 'decimal': 0}, {'indicator': {'id': 'IC.REG.DURS', 'value': 'Time required to start a business (days)'}, 'country': {'id': 'GB', 'value': 'United Kingdom'}, 'countryiso3code': 'GBR', 'date': '2009', 'value': 11.5, 'unit': '', 'obs_status': '', 'decimal': 0}, {'indicator': {'id': 'IC.REG.DURS', 'value': 'Time required to start a business (days)'}, 'country': {'id': 'GB', 'value': 'United Kingdom'}, 'countryiso3code': 'GBR', 'date': '2008', 'value': 11.5, 'unit': '', 'obs_status': '', 'decimal': 0}, {'indicator': {'id': 'IC.REG.DURS', 'value': 'Time required to start a business (days)'}, 'country': {'id': 'GB', 'value': 'United Kingdom'}, 'countryiso3code': 'GBR', 'date': '2007', 'value': 11.5, 'unit': '', 'obs_status': '', 'decimal': 0}, {'indicator': {'id': 'IC.REG.DURS', 'value': 'Time required to start a business (days)'}, 'country': {'id': 'GB', 'value': 'United Kingdom'}, 'countryiso3code': 'GBR', 'date': '2006', 'value': 11.5, 'unit': '', 'obs_status': '', 'decimal': 0}, {'indicator': {'id': 'IC.REG.DURS', 'value': 'Time required to start a business (days)'}, 'country': {'id': 'GB', 'value': 'United Kingdom'}, 'countryiso3code': 'GBR', 'date': '2005', 'value': 11.5, 'unit': '', 'obs_status': '', 'decimal': 0}, {'indicator': {'id': 'IC.REG.DURS', 'value': 'Time required to start a business (days)'}, 'country': {'id': 'GB', 'value': 'United Kingdom'}, 'countryiso3code': 'GBR', 'date': '2004', 'value': 12, 'unit': '', 'obs_status': '', 'decimal': 0}, {'indicator': {'id': 'IC.REG.DURS', 'value': 'Time required to start a business (days)'}, 'country': {'id': 'GB', 'value': 'United Kingdom'}, 'countryiso3code': 'GBR', 'date': '2003', 'value': 12, 'unit': '', 'obs_status': '', 'decimal': 0}, {'indicator': {'id': 'IC.REG.DURS', 'value': 'Time required to start a business (days)'}, 'country': {'id': 'GB', 'value': 'United Kingdom'}, 'countryiso3code': 'GBR', 'date': '2002', 'value': None, 'unit': '', 'obs_status': '', 'decimal': 0}, {'indicator': {'id': 'IC.REG.DURS', 'value': 'Time required to start a business (days)'}, 'country': {'id': 'GB', 'value': 'United Kingdom'}, 'countryiso3code': 'GBR', 'date': '2001', 'value': None, 'unit': '', 'obs_status': '', 'decimal': 0}, {'indicator': {'id': 'IC.REG.DURS', 'value': 'Time required to start a business (days)'}, 'country': {'id': 'GB', 'value': 'United Kingdom'}, 'countryiso3code': 'GBR', 'date': '2000', 'value': None, 'unit': '', 'obs_status': '', 'decimal': 0}, {'indicator': {'id': 'IC.REG.DURS', 'value': 'Time required to start a business (days)'}, 'country': {'id': 'GB', 'value': 'United Kingdom'}, 'countryiso3code': 'GBR', 'date': '1999', 'value': None, 'unit': '', 'obs_status': '', 'decimal': 0}, {'indicator': {'id': 'IC.REG.DURS', 'value': 'Time required to start a business (days)'}, 'country': {'id': 'GB', 'value': 'United Kingdom'}, 'countryiso3code': 'GBR', 'date': '1998', 'value': None, 'unit': '', 'obs_status': '', 'decimal': 0}, {'indicator': {'id': 'IC.REG.DURS', 'value': 'Time required to start a business (days)'}, 'country': {'id': 'GB', 'value': 'United Kingdom'}, 'countryiso3code': 'GBR', 'date': '1997', 'value': None, 'unit': '', 'obs_status': '', 'decimal': 0}, {'indicator': {'id': 'IC.REG.DURS', 'value': 'Time required to start a business (days)'}, 'country': {'id': 'GB', 'value': 'United Kingdom'}, 'countryiso3code': 'GBR', 'date': '1996', 'value': None, 'unit': '', 'obs_status': '', 'decimal': 0}, {'indicator': {'id': 'IC.REG.DURS', 'value': 'Time required to start a business (days)'}, 'country': {'id': 'GB', 'value': 'United Kingdom'}, 'countryiso3code': 'GBR', 'date': '1995', 'value': None, 'unit': '', 'obs_status': '', 'decimal': 0}, {'indicator': {'id': 'IC.REG.DURS', 'value': 'Time required to start a business (days)'}, 'country': {'id': 'GB', 'value': 'United Kingdom'}, 'countryiso3code': 'GBR', 'date': '1994', 'value': None, 'unit': '', 'obs_status': '', 'decimal': 0}, {'indicator': {'id': 'IC.REG.DURS', 'value': 'Time required to start a business (days)'}, 'country': {'id': 'GB', 'value': 'United Kingdom'}, 'countryiso3code': 'GBR', 'date': '1993', 'value': None, 'unit': '', 'obs_status': '', 'decimal': 0}, {'indicator': {'id': 'IC.REG.DURS', 'value': 'Time required to start a business (days)'}, 'country': {'id': 'GB', 'value': 'United Kingdom'}, 'countryiso3code': 'GBR', 'date': '1992', 'value': None, 'unit': '', 'obs_status': '', 'decimal': 0}, {'indicator': {'id': 'IC.REG.DURS', 'value': 'Time required to start a business (days)'}, 'country': {'id': 'GB', 'value': 'United Kingdom'}, 'countryiso3code': 'GBR', 'date': '1991', 'value': None, 'unit': '', 'obs_status': '', 'decimal': 0}, {'indicator': {'id': 'IC.REG.DURS', 'value': 'Time required to start a business (days)'}, 'country': {'id': 'GB', 'value': 'United Kingdom'}, 'countryiso3code': 'GBR', 'date': '1990', 'value': None, 'unit': '', 'obs_status': '', 'decimal': 0}, {'indicator': {'id': 'IC.REG.DURS', 'value': 'Time required to start a business (days)'}, 'country': {'id': 'GB', 'value': 'United Kingdom'}, 'countryiso3code': 'GBR', 'date': '1989', 'value': None, 'unit': '', 'obs_status': '', 'decimal': 0}, {'indicator': {'id': 'IC.REG.DURS', 'value': 'Time required to start a business (days)'}, 'country': {'id': 'GB', 'value': 'United Kingdom'}, 'countryiso3code': 'GBR', 'date': '1988', 'value': None, 'unit': '', 'obs_status': '', 'decimal': 0}, {'indicator': {'id': 'IC.REG.DURS', 'value': 'Time required to start a business (days)'}, 'country': {'id': 'GB', 'value': 'United Kingdom'}, 'countryiso3code': 'GBR', 'date': '1987', 'value': None, 'unit': '', 'obs_status': '', 'decimal': 0}, {'indicator': {'id': 'IC.REG.DURS', 'value': 'Time required to start a business (days)'}, 'country': {'id': 'GB', 'value': 'United Kingdom'}, 'countryiso3code': 'GBR', 'date': '1986', 'value': None, 'unit': '', 'obs_status': '', 'decimal': 0}, {'indicator': {'id': 'IC.REG.DURS', 'value': 'Time required to start a business (days)'}, 'country': {'id': 'GB', 'value': 'United Kingdom'}, 'countryiso3code': 'GBR', 'date': '1985', 'value': None, 'unit': '', 'obs_status': '', 'decimal': 0}, {'indicator': {'id': 'IC.REG.DURS', 'value': 'Time required to start a business (days)'}, 'country': {'id': 'GB', 'value': 'United Kingdom'}, 'countryiso3code': 'GBR', 'date': '1984', 'value': None, 'unit': '', 'obs_status': '', 'decimal': 0}, {'indicator': {'id': 'IC.REG.DURS', 'value': 'Time required to start a business (days)'}, 'country': {'id': 'GB', 'value': 'United Kingdom'}, 'countryiso3code': 'GBR', 'date': '1983', 'value': None, 'unit': '', 'obs_status': '', 'decimal': 0}, {'indicator': {'id': 'IC.REG.DURS', 'value': 'Time required to start a business (days)'}, 'country': {'id': 'GB', 'value': 'United Kingdom'}, 'countryiso3code': 'GBR', 'date': '1982', 'value': None, 'unit': '', 'obs_status': '', 'decimal': 0}, {'indicator': {'id': 'IC.REG.DURS', 'value': 'Time required to start a business (days)'}, 'country': {'id': 'GB', 'value': 'United Kingdom'}, 'countryiso3code': 'GBR', 'date': '1981', 'value': None, 'unit': '', 'obs_status': '', 'decimal': 0}, {'indicator': {'id': 'IC.REG.DURS', 'value': 'Time required to start a business (days)'}, 'country': {'id': 'GB', 'value': 'United Kingdom'}, 'countryiso3code': 'GBR', 'date': '1980', 'value': None, 'unit': '', 'obs_status': '', 'decimal': 0}, {'indicator': {'id': 'IC.REG.DURS', 'value': 'Time required to start a business (days)'}, 'country': {'id': 'GB', 'value': 'United Kingdom'}, 'countryiso3code': 'GBR', 'date': '1979', 'value': None, 'unit': '', 'obs_status': '', 'decimal': 0}, {'indicator': {'id': 'IC.REG.DURS', 'value': 'Time required to start a business (days)'}, 'country': {'id': 'GB', 'value': 'United Kingdom'}, 'countryiso3code': 'GBR', 'date': '1978', 'value': None, 'unit': '', 'obs_status': '', 'decimal': 0}, {'indicator': {'id': 'IC.REG.DURS', 'value': 'Time required to start a business (days)'}, 'country': {'id': 'GB', 'value': 'United Kingdom'}, 'countryiso3code': 'GBR', 'date': '1977', 'value': None, 'unit': '', 'obs_status': '', 'decimal': 0}, {'indicator': {'id': 'IC.REG.DURS', 'value': 'Time required to start a business (days)'}, 'country': {'id': 'GB', 'value': 'United Kingdom'}, 'countryiso3code': 'GBR', 'date': '1976', 'value': None, 'unit': '', 'obs_status': '', 'decimal': 0}, {'indicator': {'id': 'IC.REG.DURS', 'value': 'Time required to start a business (days)'}, 'country': {'id': 'GB', 'value': 'United Kingdom'}, 'countryiso3code': 'GBR', 'date': '1975', 'value': None, 'unit': '', 'obs_status': '', 'decimal': 0}, {'indicator': {'id': 'IC.REG.DURS', 'value': 'Time required to start a business (days)'}, 'country': {'id': 'GB', 'value': 'United Kingdom'}, 'countryiso3code': 'GBR', 'date': '1974', 'value': None, 'unit': '', 'obs_status': '', 'decimal': 0}, {'indicator': {'id': 'IC.REG.DURS', 'value': 'Time required to start a business (days)'}, 'country': {'id': 'GB', 'value': 'United Kingdom'}, 'countryiso3code': 'GBR', 'date': '1973', 'value': None, 'unit': '', 'obs_status': '', 'decimal': 0}, {'indicator': {'id': 'IC.REG.DURS', 'value': 'Time required to start a business (days)'}, 'country': {'id': 'GB', 'value': 'United Kingdom'}, 'countryiso3code': 'GBR', 'date': '1972', 'value': None, 'unit': '', 'obs_status': '', 'decimal': 0}, {'indicator': {'id': 'IC.REG.DURS', 'value': 'Time required to start a business (days)'}, 'country': {'id': 'GB', 'value': 'United Kingdom'}, 'countryiso3code': 'GBR', 'date': '1971', 'value': None, 'unit': '', 'obs_status': '', 'decimal': 0}]]\n",
            "WB_data_GBR.json\n"
          ]
        },
        {
          "output_type": "display_data",
          "data": {
            "application/javascript": [
              "\n",
              "    async function download(id, filename, size) {\n",
              "      if (!google.colab.kernel.accessAllowed) {\n",
              "        return;\n",
              "      }\n",
              "      const div = document.createElement('div');\n",
              "      const label = document.createElement('label');\n",
              "      label.textContent = `Downloading \"${filename}\": `;\n",
              "      div.appendChild(label);\n",
              "      const progress = document.createElement('progress');\n",
              "      progress.max = size;\n",
              "      div.appendChild(progress);\n",
              "      document.body.appendChild(div);\n",
              "\n",
              "      const buffers = [];\n",
              "      let downloaded = 0;\n",
              "\n",
              "      const channel = await google.colab.kernel.comms.open(id);\n",
              "      // Send a message to notify the kernel that we're ready.\n",
              "      channel.send({})\n",
              "\n",
              "      for await (const message of channel.messages) {\n",
              "        // Send a message to notify the kernel that we're ready.\n",
              "        channel.send({})\n",
              "        if (message.buffers) {\n",
              "          for (const buffer of message.buffers) {\n",
              "            buffers.push(buffer);\n",
              "            downloaded += buffer.byteLength;\n",
              "            progress.value = downloaded;\n",
              "          }\n",
              "        }\n",
              "      }\n",
              "      const blob = new Blob(buffers, {type: 'application/binary'});\n",
              "      const a = document.createElement('a');\n",
              "      a.href = window.URL.createObjectURL(blob);\n",
              "      a.download = filename;\n",
              "      div.appendChild(a);\n",
              "      a.click();\n",
              "      div.remove();\n",
              "    }\n",
              "  "
            ],
            "text/plain": [
              "<IPython.core.display.Javascript object>"
            ]
          },
          "metadata": {}
        },
        {
          "output_type": "display_data",
          "data": {
            "application/javascript": [
              "download(\"download_d9ceced3-6534-4ec1-9ebb-93d4b7e006d1\", \"WB_data_GBR.json\", 22714)"
            ],
            "text/plain": [
              "<IPython.core.display.Javascript object>"
            ]
          },
          "metadata": {}
        },
        {
          "output_type": "stream",
          "name": "stdout",
          "text": [
            "DNK\n",
            "http://api.worldbank.org/v2/country/DNK/indicator/IC.REG.DURS?format=json\n",
            "[{'page': 1, 'pages': 2, 'per_page': 50, 'total': 61, 'sourceid': '2', 'sourcename': 'World Development Indicators', 'lastupdated': '2021-10-28'}, [{'indicator': {'id': 'IC.REG.DURS', 'value': 'Time required to start a business (days)'}, 'country': {'id': 'DK', 'value': 'Denmark'}, 'countryiso3code': 'DNK', 'date': '2020', 'value': None, 'unit': '', 'obs_status': '', 'decimal': 0}, {'indicator': {'id': 'IC.REG.DURS', 'value': 'Time required to start a business (days)'}, 'country': {'id': 'DK', 'value': 'Denmark'}, 'countryiso3code': 'DNK', 'date': '2019', 'value': 3.5, 'unit': '', 'obs_status': '', 'decimal': 0}, {'indicator': {'id': 'IC.REG.DURS', 'value': 'Time required to start a business (days)'}, 'country': {'id': 'DK', 'value': 'Denmark'}, 'countryiso3code': 'DNK', 'date': '2018', 'value': 3.5, 'unit': '', 'obs_status': '', 'decimal': 0}, {'indicator': {'id': 'IC.REG.DURS', 'value': 'Time required to start a business (days)'}, 'country': {'id': 'DK', 'value': 'Denmark'}, 'countryiso3code': 'DNK', 'date': '2017', 'value': 3.5, 'unit': '', 'obs_status': '', 'decimal': 0}, {'indicator': {'id': 'IC.REG.DURS', 'value': 'Time required to start a business (days)'}, 'country': {'id': 'DK', 'value': 'Denmark'}, 'countryiso3code': 'DNK', 'date': '2016', 'value': 3.5, 'unit': '', 'obs_status': '', 'decimal': 0}, {'indicator': {'id': 'IC.REG.DURS', 'value': 'Time required to start a business (days)'}, 'country': {'id': 'DK', 'value': 'Denmark'}, 'countryiso3code': 'DNK', 'date': '2015', 'value': 3.5, 'unit': '', 'obs_status': '', 'decimal': 0}, {'indicator': {'id': 'IC.REG.DURS', 'value': 'Time required to start a business (days)'}, 'country': {'id': 'DK', 'value': 'Denmark'}, 'countryiso3code': 'DNK', 'date': '2014', 'value': 6, 'unit': '', 'obs_status': '', 'decimal': 0}, {'indicator': {'id': 'IC.REG.DURS', 'value': 'Time required to start a business (days)'}, 'country': {'id': 'DK', 'value': 'Denmark'}, 'countryiso3code': 'DNK', 'date': '2013', 'value': 6, 'unit': '', 'obs_status': '', 'decimal': 0}, {'indicator': {'id': 'IC.REG.DURS', 'value': 'Time required to start a business (days)'}, 'country': {'id': 'DK', 'value': 'Denmark'}, 'countryiso3code': 'DNK', 'date': '2012', 'value': 6, 'unit': '', 'obs_status': '', 'decimal': 0}, {'indicator': {'id': 'IC.REG.DURS', 'value': 'Time required to start a business (days)'}, 'country': {'id': 'DK', 'value': 'Denmark'}, 'countryiso3code': 'DNK', 'date': '2011', 'value': 6, 'unit': '', 'obs_status': '', 'decimal': 0}, {'indicator': {'id': 'IC.REG.DURS', 'value': 'Time required to start a business (days)'}, 'country': {'id': 'DK', 'value': 'Denmark'}, 'countryiso3code': 'DNK', 'date': '2010', 'value': 6, 'unit': '', 'obs_status': '', 'decimal': 0}, {'indicator': {'id': 'IC.REG.DURS', 'value': 'Time required to start a business (days)'}, 'country': {'id': 'DK', 'value': 'Denmark'}, 'countryiso3code': 'DNK', 'date': '2009', 'value': 6.5, 'unit': '', 'obs_status': '', 'decimal': 0}, {'indicator': {'id': 'IC.REG.DURS', 'value': 'Time required to start a business (days)'}, 'country': {'id': 'DK', 'value': 'Denmark'}, 'countryiso3code': 'DNK', 'date': '2008', 'value': 6.5, 'unit': '', 'obs_status': '', 'decimal': 0}, {'indicator': {'id': 'IC.REG.DURS', 'value': 'Time required to start a business (days)'}, 'country': {'id': 'DK', 'value': 'Denmark'}, 'countryiso3code': 'DNK', 'date': '2007', 'value': 6.5, 'unit': '', 'obs_status': '', 'decimal': 0}, {'indicator': {'id': 'IC.REG.DURS', 'value': 'Time required to start a business (days)'}, 'country': {'id': 'DK', 'value': 'Denmark'}, 'countryiso3code': 'DNK', 'date': '2006', 'value': 6.5, 'unit': '', 'obs_status': '', 'decimal': 0}, {'indicator': {'id': 'IC.REG.DURS', 'value': 'Time required to start a business (days)'}, 'country': {'id': 'DK', 'value': 'Denmark'}, 'countryiso3code': 'DNK', 'date': '2005', 'value': 6.5, 'unit': '', 'obs_status': '', 'decimal': 0}, {'indicator': {'id': 'IC.REG.DURS', 'value': 'Time required to start a business (days)'}, 'country': {'id': 'DK', 'value': 'Denmark'}, 'countryiso3code': 'DNK', 'date': '2004', 'value': 7.5, 'unit': '', 'obs_status': '', 'decimal': 0}, {'indicator': {'id': 'IC.REG.DURS', 'value': 'Time required to start a business (days)'}, 'country': {'id': 'DK', 'value': 'Denmark'}, 'countryiso3code': 'DNK', 'date': '2003', 'value': 7.5, 'unit': '', 'obs_status': '', 'decimal': 0}, {'indicator': {'id': 'IC.REG.DURS', 'value': 'Time required to start a business (days)'}, 'country': {'id': 'DK', 'value': 'Denmark'}, 'countryiso3code': 'DNK', 'date': '2002', 'value': None, 'unit': '', 'obs_status': '', 'decimal': 0}, {'indicator': {'id': 'IC.REG.DURS', 'value': 'Time required to start a business (days)'}, 'country': {'id': 'DK', 'value': 'Denmark'}, 'countryiso3code': 'DNK', 'date': '2001', 'value': None, 'unit': '', 'obs_status': '', 'decimal': 0}, {'indicator': {'id': 'IC.REG.DURS', 'value': 'Time required to start a business (days)'}, 'country': {'id': 'DK', 'value': 'Denmark'}, 'countryiso3code': 'DNK', 'date': '2000', 'value': None, 'unit': '', 'obs_status': '', 'decimal': 0}, {'indicator': {'id': 'IC.REG.DURS', 'value': 'Time required to start a business (days)'}, 'country': {'id': 'DK', 'value': 'Denmark'}, 'countryiso3code': 'DNK', 'date': '1999', 'value': None, 'unit': '', 'obs_status': '', 'decimal': 0}, {'indicator': {'id': 'IC.REG.DURS', 'value': 'Time required to start a business (days)'}, 'country': {'id': 'DK', 'value': 'Denmark'}, 'countryiso3code': 'DNK', 'date': '1998', 'value': None, 'unit': '', 'obs_status': '', 'decimal': 0}, {'indicator': {'id': 'IC.REG.DURS', 'value': 'Time required to start a business (days)'}, 'country': {'id': 'DK', 'value': 'Denmark'}, 'countryiso3code': 'DNK', 'date': '1997', 'value': None, 'unit': '', 'obs_status': '', 'decimal': 0}, {'indicator': {'id': 'IC.REG.DURS', 'value': 'Time required to start a business (days)'}, 'country': {'id': 'DK', 'value': 'Denmark'}, 'countryiso3code': 'DNK', 'date': '1996', 'value': None, 'unit': '', 'obs_status': '', 'decimal': 0}, {'indicator': {'id': 'IC.REG.DURS', 'value': 'Time required to start a business (days)'}, 'country': {'id': 'DK', 'value': 'Denmark'}, 'countryiso3code': 'DNK', 'date': '1995', 'value': None, 'unit': '', 'obs_status': '', 'decimal': 0}, {'indicator': {'id': 'IC.REG.DURS', 'value': 'Time required to start a business (days)'}, 'country': {'id': 'DK', 'value': 'Denmark'}, 'countryiso3code': 'DNK', 'date': '1994', 'value': None, 'unit': '', 'obs_status': '', 'decimal': 0}, {'indicator': {'id': 'IC.REG.DURS', 'value': 'Time required to start a business (days)'}, 'country': {'id': 'DK', 'value': 'Denmark'}, 'countryiso3code': 'DNK', 'date': '1993', 'value': None, 'unit': '', 'obs_status': '', 'decimal': 0}, {'indicator': {'id': 'IC.REG.DURS', 'value': 'Time required to start a business (days)'}, 'country': {'id': 'DK', 'value': 'Denmark'}, 'countryiso3code': 'DNK', 'date': '1992', 'value': None, 'unit': '', 'obs_status': '', 'decimal': 0}, {'indicator': {'id': 'IC.REG.DURS', 'value': 'Time required to start a business (days)'}, 'country': {'id': 'DK', 'value': 'Denmark'}, 'countryiso3code': 'DNK', 'date': '1991', 'value': None, 'unit': '', 'obs_status': '', 'decimal': 0}, {'indicator': {'id': 'IC.REG.DURS', 'value': 'Time required to start a business (days)'}, 'country': {'id': 'DK', 'value': 'Denmark'}, 'countryiso3code': 'DNK', 'date': '1990', 'value': None, 'unit': '', 'obs_status': '', 'decimal': 0}, {'indicator': {'id': 'IC.REG.DURS', 'value': 'Time required to start a business (days)'}, 'country': {'id': 'DK', 'value': 'Denmark'}, 'countryiso3code': 'DNK', 'date': '1989', 'value': None, 'unit': '', 'obs_status': '', 'decimal': 0}, {'indicator': {'id': 'IC.REG.DURS', 'value': 'Time required to start a business (days)'}, 'country': {'id': 'DK', 'value': 'Denmark'}, 'countryiso3code': 'DNK', 'date': '1988', 'value': None, 'unit': '', 'obs_status': '', 'decimal': 0}, {'indicator': {'id': 'IC.REG.DURS', 'value': 'Time required to start a business (days)'}, 'country': {'id': 'DK', 'value': 'Denmark'}, 'countryiso3code': 'DNK', 'date': '1987', 'value': None, 'unit': '', 'obs_status': '', 'decimal': 0}, {'indicator': {'id': 'IC.REG.DURS', 'value': 'Time required to start a business (days)'}, 'country': {'id': 'DK', 'value': 'Denmark'}, 'countryiso3code': 'DNK', 'date': '1986', 'value': None, 'unit': '', 'obs_status': '', 'decimal': 0}, {'indicator': {'id': 'IC.REG.DURS', 'value': 'Time required to start a business (days)'}, 'country': {'id': 'DK', 'value': 'Denmark'}, 'countryiso3code': 'DNK', 'date': '1985', 'value': None, 'unit': '', 'obs_status': '', 'decimal': 0}, {'indicator': {'id': 'IC.REG.DURS', 'value': 'Time required to start a business (days)'}, 'country': {'id': 'DK', 'value': 'Denmark'}, 'countryiso3code': 'DNK', 'date': '1984', 'value': None, 'unit': '', 'obs_status': '', 'decimal': 0}, {'indicator': {'id': 'IC.REG.DURS', 'value': 'Time required to start a business (days)'}, 'country': {'id': 'DK', 'value': 'Denmark'}, 'countryiso3code': 'DNK', 'date': '1983', 'value': None, 'unit': '', 'obs_status': '', 'decimal': 0}, {'indicator': {'id': 'IC.REG.DURS', 'value': 'Time required to start a business (days)'}, 'country': {'id': 'DK', 'value': 'Denmark'}, 'countryiso3code': 'DNK', 'date': '1982', 'value': None, 'unit': '', 'obs_status': '', 'decimal': 0}, {'indicator': {'id': 'IC.REG.DURS', 'value': 'Time required to start a business (days)'}, 'country': {'id': 'DK', 'value': 'Denmark'}, 'countryiso3code': 'DNK', 'date': '1981', 'value': None, 'unit': '', 'obs_status': '', 'decimal': 0}, {'indicator': {'id': 'IC.REG.DURS', 'value': 'Time required to start a business (days)'}, 'country': {'id': 'DK', 'value': 'Denmark'}, 'countryiso3code': 'DNK', 'date': '1980', 'value': None, 'unit': '', 'obs_status': '', 'decimal': 0}, {'indicator': {'id': 'IC.REG.DURS', 'value': 'Time required to start a business (days)'}, 'country': {'id': 'DK', 'value': 'Denmark'}, 'countryiso3code': 'DNK', 'date': '1979', 'value': None, 'unit': '', 'obs_status': '', 'decimal': 0}, {'indicator': {'id': 'IC.REG.DURS', 'value': 'Time required to start a business (days)'}, 'country': {'id': 'DK', 'value': 'Denmark'}, 'countryiso3code': 'DNK', 'date': '1978', 'value': None, 'unit': '', 'obs_status': '', 'decimal': 0}, {'indicator': {'id': 'IC.REG.DURS', 'value': 'Time required to start a business (days)'}, 'country': {'id': 'DK', 'value': 'Denmark'}, 'countryiso3code': 'DNK', 'date': '1977', 'value': None, 'unit': '', 'obs_status': '', 'decimal': 0}, {'indicator': {'id': 'IC.REG.DURS', 'value': 'Time required to start a business (days)'}, 'country': {'id': 'DK', 'value': 'Denmark'}, 'countryiso3code': 'DNK', 'date': '1976', 'value': None, 'unit': '', 'obs_status': '', 'decimal': 0}, {'indicator': {'id': 'IC.REG.DURS', 'value': 'Time required to start a business (days)'}, 'country': {'id': 'DK', 'value': 'Denmark'}, 'countryiso3code': 'DNK', 'date': '1975', 'value': None, 'unit': '', 'obs_status': '', 'decimal': 0}, {'indicator': {'id': 'IC.REG.DURS', 'value': 'Time required to start a business (days)'}, 'country': {'id': 'DK', 'value': 'Denmark'}, 'countryiso3code': 'DNK', 'date': '1974', 'value': None, 'unit': '', 'obs_status': '', 'decimal': 0}, {'indicator': {'id': 'IC.REG.DURS', 'value': 'Time required to start a business (days)'}, 'country': {'id': 'DK', 'value': 'Denmark'}, 'countryiso3code': 'DNK', 'date': '1973', 'value': None, 'unit': '', 'obs_status': '', 'decimal': 0}, {'indicator': {'id': 'IC.REG.DURS', 'value': 'Time required to start a business (days)'}, 'country': {'id': 'DK', 'value': 'Denmark'}, 'countryiso3code': 'DNK', 'date': '1972', 'value': None, 'unit': '', 'obs_status': '', 'decimal': 0}, {'indicator': {'id': 'IC.REG.DURS', 'value': 'Time required to start a business (days)'}, 'country': {'id': 'DK', 'value': 'Denmark'}, 'countryiso3code': 'DNK', 'date': '1971', 'value': None, 'unit': '', 'obs_status': '', 'decimal': 0}]]\n",
            "WB_data_DNK.json\n"
          ]
        },
        {
          "output_type": "display_data",
          "data": {
            "application/javascript": [
              "\n",
              "    async function download(id, filename, size) {\n",
              "      if (!google.colab.kernel.accessAllowed) {\n",
              "        return;\n",
              "      }\n",
              "      const div = document.createElement('div');\n",
              "      const label = document.createElement('label');\n",
              "      label.textContent = `Downloading \"${filename}\": `;\n",
              "      div.appendChild(label);\n",
              "      const progress = document.createElement('progress');\n",
              "      progress.max = size;\n",
              "      div.appendChild(progress);\n",
              "      document.body.appendChild(div);\n",
              "\n",
              "      const buffers = [];\n",
              "      let downloaded = 0;\n",
              "\n",
              "      const channel = await google.colab.kernel.comms.open(id);\n",
              "      // Send a message to notify the kernel that we're ready.\n",
              "      channel.send({})\n",
              "\n",
              "      for await (const message of channel.messages) {\n",
              "        // Send a message to notify the kernel that we're ready.\n",
              "        channel.send({})\n",
              "        if (message.buffers) {\n",
              "          for (const buffer of message.buffers) {\n",
              "            buffers.push(buffer);\n",
              "            downloaded += buffer.byteLength;\n",
              "            progress.value = downloaded;\n",
              "          }\n",
              "        }\n",
              "      }\n",
              "      const blob = new Blob(buffers, {type: 'application/binary'});\n",
              "      const a = document.createElement('a');\n",
              "      a.href = window.URL.createObjectURL(blob);\n",
              "      a.download = filename;\n",
              "      div.appendChild(a);\n",
              "      a.click();\n",
              "      div.remove();\n",
              "    }\n",
              "  "
            ],
            "text/plain": [
              "<IPython.core.display.Javascript object>"
            ]
          },
          "metadata": {}
        },
        {
          "output_type": "display_data",
          "data": {
            "application/javascript": [
              "download(\"download_a327d9f5-7686-4b00-82ff-299d7d07c28f\", \"WB_data_DNK.json\", 22349)"
            ],
            "text/plain": [
              "<IPython.core.display.Javascript object>"
            ]
          },
          "metadata": {}
        },
        {
          "output_type": "stream",
          "name": "stdout",
          "text": [
            "DEU\n",
            "http://api.worldbank.org/v2/country/DEU/indicator/IC.REG.DURS?format=json\n",
            "[{'page': 1, 'pages': 2, 'per_page': 50, 'total': 61, 'sourceid': '2', 'sourcename': 'World Development Indicators', 'lastupdated': '2021-10-28'}, [{'indicator': {'id': 'IC.REG.DURS', 'value': 'Time required to start a business (days)'}, 'country': {'id': 'DE', 'value': 'Germany'}, 'countryiso3code': 'DEU', 'date': '2020', 'value': None, 'unit': '', 'obs_status': '', 'decimal': 0}, {'indicator': {'id': 'IC.REG.DURS', 'value': 'Time required to start a business (days)'}, 'country': {'id': 'DE', 'value': 'Germany'}, 'countryiso3code': 'DEU', 'date': '2019', 'value': 8, 'unit': '', 'obs_status': '', 'decimal': 0}, {'indicator': {'id': 'IC.REG.DURS', 'value': 'Time required to start a business (days)'}, 'country': {'id': 'DE', 'value': 'Germany'}, 'countryiso3code': 'DEU', 'date': '2018', 'value': 8, 'unit': '', 'obs_status': '', 'decimal': 0}, {'indicator': {'id': 'IC.REG.DURS', 'value': 'Time required to start a business (days)'}, 'country': {'id': 'DE', 'value': 'Germany'}, 'countryiso3code': 'DEU', 'date': '2017', 'value': 8, 'unit': '', 'obs_status': '', 'decimal': 0}, {'indicator': {'id': 'IC.REG.DURS', 'value': 'Time required to start a business (days)'}, 'country': {'id': 'DE', 'value': 'Germany'}, 'countryiso3code': 'DEU', 'date': '2016', 'value': 8, 'unit': '', 'obs_status': '', 'decimal': 0}, {'indicator': {'id': 'IC.REG.DURS', 'value': 'Time required to start a business (days)'}, 'country': {'id': 'DE', 'value': 'Germany'}, 'countryiso3code': 'DEU', 'date': '2015', 'value': 10.5, 'unit': '', 'obs_status': '', 'decimal': 0}, {'indicator': {'id': 'IC.REG.DURS', 'value': 'Time required to start a business (days)'}, 'country': {'id': 'DE', 'value': 'Germany'}, 'countryiso3code': 'DEU', 'date': '2014', 'value': 14.5, 'unit': '', 'obs_status': '', 'decimal': 0}, {'indicator': {'id': 'IC.REG.DURS', 'value': 'Time required to start a business (days)'}, 'country': {'id': 'DE', 'value': 'Germany'}, 'countryiso3code': 'DEU', 'date': '2013', 'value': 14.5, 'unit': '', 'obs_status': '', 'decimal': 0}, {'indicator': {'id': 'IC.REG.DURS', 'value': 'Time required to start a business (days)'}, 'country': {'id': 'DE', 'value': 'Germany'}, 'countryiso3code': 'DEU', 'date': '2012', 'value': 14.5, 'unit': '', 'obs_status': '', 'decimal': 0}, {'indicator': {'id': 'IC.REG.DURS', 'value': 'Time required to start a business (days)'}, 'country': {'id': 'DE', 'value': 'Germany'}, 'countryiso3code': 'DEU', 'date': '2011', 'value': 14.5, 'unit': '', 'obs_status': '', 'decimal': 0}, {'indicator': {'id': 'IC.REG.DURS', 'value': 'Time required to start a business (days)'}, 'country': {'id': 'DE', 'value': 'Germany'}, 'countryiso3code': 'DEU', 'date': '2010', 'value': 14.5, 'unit': '', 'obs_status': '', 'decimal': 0}, {'indicator': {'id': 'IC.REG.DURS', 'value': 'Time required to start a business (days)'}, 'country': {'id': 'DE', 'value': 'Germany'}, 'countryiso3code': 'DEU', 'date': '2009', 'value': 17.5, 'unit': '', 'obs_status': '', 'decimal': 0}, {'indicator': {'id': 'IC.REG.DURS', 'value': 'Time required to start a business (days)'}, 'country': {'id': 'DE', 'value': 'Germany'}, 'countryiso3code': 'DEU', 'date': '2008', 'value': 17.5, 'unit': '', 'obs_status': '', 'decimal': 0}, {'indicator': {'id': 'IC.REG.DURS', 'value': 'Time required to start a business (days)'}, 'country': {'id': 'DE', 'value': 'Germany'}, 'countryiso3code': 'DEU', 'date': '2007', 'value': 18, 'unit': '', 'obs_status': '', 'decimal': 0}, {'indicator': {'id': 'IC.REG.DURS', 'value': 'Time required to start a business (days)'}, 'country': {'id': 'DE', 'value': 'Germany'}, 'countryiso3code': 'DEU', 'date': '2006', 'value': 22, 'unit': '', 'obs_status': '', 'decimal': 0}, {'indicator': {'id': 'IC.REG.DURS', 'value': 'Time required to start a business (days)'}, 'country': {'id': 'DE', 'value': 'Germany'}, 'countryiso3code': 'DEU', 'date': '2005', 'value': 22, 'unit': '', 'obs_status': '', 'decimal': 0}, {'indicator': {'id': 'IC.REG.DURS', 'value': 'Time required to start a business (days)'}, 'country': {'id': 'DE', 'value': 'Germany'}, 'countryiso3code': 'DEU', 'date': '2004', 'value': 45, 'unit': '', 'obs_status': '', 'decimal': 0}, {'indicator': {'id': 'IC.REG.DURS', 'value': 'Time required to start a business (days)'}, 'country': {'id': 'DE', 'value': 'Germany'}, 'countryiso3code': 'DEU', 'date': '2003', 'value': 45, 'unit': '', 'obs_status': '', 'decimal': 0}, {'indicator': {'id': 'IC.REG.DURS', 'value': 'Time required to start a business (days)'}, 'country': {'id': 'DE', 'value': 'Germany'}, 'countryiso3code': 'DEU', 'date': '2002', 'value': None, 'unit': '', 'obs_status': '', 'decimal': 0}, {'indicator': {'id': 'IC.REG.DURS', 'value': 'Time required to start a business (days)'}, 'country': {'id': 'DE', 'value': 'Germany'}, 'countryiso3code': 'DEU', 'date': '2001', 'value': None, 'unit': '', 'obs_status': '', 'decimal': 0}, {'indicator': {'id': 'IC.REG.DURS', 'value': 'Time required to start a business (days)'}, 'country': {'id': 'DE', 'value': 'Germany'}, 'countryiso3code': 'DEU', 'date': '2000', 'value': None, 'unit': '', 'obs_status': '', 'decimal': 0}, {'indicator': {'id': 'IC.REG.DURS', 'value': 'Time required to start a business (days)'}, 'country': {'id': 'DE', 'value': 'Germany'}, 'countryiso3code': 'DEU', 'date': '1999', 'value': None, 'unit': '', 'obs_status': '', 'decimal': 0}, {'indicator': {'id': 'IC.REG.DURS', 'value': 'Time required to start a business (days)'}, 'country': {'id': 'DE', 'value': 'Germany'}, 'countryiso3code': 'DEU', 'date': '1998', 'value': None, 'unit': '', 'obs_status': '', 'decimal': 0}, {'indicator': {'id': 'IC.REG.DURS', 'value': 'Time required to start a business (days)'}, 'country': {'id': 'DE', 'value': 'Germany'}, 'countryiso3code': 'DEU', 'date': '1997', 'value': None, 'unit': '', 'obs_status': '', 'decimal': 0}, {'indicator': {'id': 'IC.REG.DURS', 'value': 'Time required to start a business (days)'}, 'country': {'id': 'DE', 'value': 'Germany'}, 'countryiso3code': 'DEU', 'date': '1996', 'value': None, 'unit': '', 'obs_status': '', 'decimal': 0}, {'indicator': {'id': 'IC.REG.DURS', 'value': 'Time required to start a business (days)'}, 'country': {'id': 'DE', 'value': 'Germany'}, 'countryiso3code': 'DEU', 'date': '1995', 'value': None, 'unit': '', 'obs_status': '', 'decimal': 0}, {'indicator': {'id': 'IC.REG.DURS', 'value': 'Time required to start a business (days)'}, 'country': {'id': 'DE', 'value': 'Germany'}, 'countryiso3code': 'DEU', 'date': '1994', 'value': None, 'unit': '', 'obs_status': '', 'decimal': 0}, {'indicator': {'id': 'IC.REG.DURS', 'value': 'Time required to start a business (days)'}, 'country': {'id': 'DE', 'value': 'Germany'}, 'countryiso3code': 'DEU', 'date': '1993', 'value': None, 'unit': '', 'obs_status': '', 'decimal': 0}, {'indicator': {'id': 'IC.REG.DURS', 'value': 'Time required to start a business (days)'}, 'country': {'id': 'DE', 'value': 'Germany'}, 'countryiso3code': 'DEU', 'date': '1992', 'value': None, 'unit': '', 'obs_status': '', 'decimal': 0}, {'indicator': {'id': 'IC.REG.DURS', 'value': 'Time required to start a business (days)'}, 'country': {'id': 'DE', 'value': 'Germany'}, 'countryiso3code': 'DEU', 'date': '1991', 'value': None, 'unit': '', 'obs_status': '', 'decimal': 0}, {'indicator': {'id': 'IC.REG.DURS', 'value': 'Time required to start a business (days)'}, 'country': {'id': 'DE', 'value': 'Germany'}, 'countryiso3code': 'DEU', 'date': '1990', 'value': None, 'unit': '', 'obs_status': '', 'decimal': 0}, {'indicator': {'id': 'IC.REG.DURS', 'value': 'Time required to start a business (days)'}, 'country': {'id': 'DE', 'value': 'Germany'}, 'countryiso3code': 'DEU', 'date': '1989', 'value': None, 'unit': '', 'obs_status': '', 'decimal': 0}, {'indicator': {'id': 'IC.REG.DURS', 'value': 'Time required to start a business (days)'}, 'country': {'id': 'DE', 'value': 'Germany'}, 'countryiso3code': 'DEU', 'date': '1988', 'value': None, 'unit': '', 'obs_status': '', 'decimal': 0}, {'indicator': {'id': 'IC.REG.DURS', 'value': 'Time required to start a business (days)'}, 'country': {'id': 'DE', 'value': 'Germany'}, 'countryiso3code': 'DEU', 'date': '1987', 'value': None, 'unit': '', 'obs_status': '', 'decimal': 0}, {'indicator': {'id': 'IC.REG.DURS', 'value': 'Time required to start a business (days)'}, 'country': {'id': 'DE', 'value': 'Germany'}, 'countryiso3code': 'DEU', 'date': '1986', 'value': None, 'unit': '', 'obs_status': '', 'decimal': 0}, {'indicator': {'id': 'IC.REG.DURS', 'value': 'Time required to start a business (days)'}, 'country': {'id': 'DE', 'value': 'Germany'}, 'countryiso3code': 'DEU', 'date': '1985', 'value': None, 'unit': '', 'obs_status': '', 'decimal': 0}, {'indicator': {'id': 'IC.REG.DURS', 'value': 'Time required to start a business (days)'}, 'country': {'id': 'DE', 'value': 'Germany'}, 'countryiso3code': 'DEU', 'date': '1984', 'value': None, 'unit': '', 'obs_status': '', 'decimal': 0}, {'indicator': {'id': 'IC.REG.DURS', 'value': 'Time required to start a business (days)'}, 'country': {'id': 'DE', 'value': 'Germany'}, 'countryiso3code': 'DEU', 'date': '1983', 'value': None, 'unit': '', 'obs_status': '', 'decimal': 0}, {'indicator': {'id': 'IC.REG.DURS', 'value': 'Time required to start a business (days)'}, 'country': {'id': 'DE', 'value': 'Germany'}, 'countryiso3code': 'DEU', 'date': '1982', 'value': None, 'unit': '', 'obs_status': '', 'decimal': 0}, {'indicator': {'id': 'IC.REG.DURS', 'value': 'Time required to start a business (days)'}, 'country': {'id': 'DE', 'value': 'Germany'}, 'countryiso3code': 'DEU', 'date': '1981', 'value': None, 'unit': '', 'obs_status': '', 'decimal': 0}, {'indicator': {'id': 'IC.REG.DURS', 'value': 'Time required to start a business (days)'}, 'country': {'id': 'DE', 'value': 'Germany'}, 'countryiso3code': 'DEU', 'date': '1980', 'value': None, 'unit': '', 'obs_status': '', 'decimal': 0}, {'indicator': {'id': 'IC.REG.DURS', 'value': 'Time required to start a business (days)'}, 'country': {'id': 'DE', 'value': 'Germany'}, 'countryiso3code': 'DEU', 'date': '1979', 'value': None, 'unit': '', 'obs_status': '', 'decimal': 0}, {'indicator': {'id': 'IC.REG.DURS', 'value': 'Time required to start a business (days)'}, 'country': {'id': 'DE', 'value': 'Germany'}, 'countryiso3code': 'DEU', 'date': '1978', 'value': None, 'unit': '', 'obs_status': '', 'decimal': 0}, {'indicator': {'id': 'IC.REG.DURS', 'value': 'Time required to start a business (days)'}, 'country': {'id': 'DE', 'value': 'Germany'}, 'countryiso3code': 'DEU', 'date': '1977', 'value': None, 'unit': '', 'obs_status': '', 'decimal': 0}, {'indicator': {'id': 'IC.REG.DURS', 'value': 'Time required to start a business (days)'}, 'country': {'id': 'DE', 'value': 'Germany'}, 'countryiso3code': 'DEU', 'date': '1976', 'value': None, 'unit': '', 'obs_status': '', 'decimal': 0}, {'indicator': {'id': 'IC.REG.DURS', 'value': 'Time required to start a business (days)'}, 'country': {'id': 'DE', 'value': 'Germany'}, 'countryiso3code': 'DEU', 'date': '1975', 'value': None, 'unit': '', 'obs_status': '', 'decimal': 0}, {'indicator': {'id': 'IC.REG.DURS', 'value': 'Time required to start a business (days)'}, 'country': {'id': 'DE', 'value': 'Germany'}, 'countryiso3code': 'DEU', 'date': '1974', 'value': None, 'unit': '', 'obs_status': '', 'decimal': 0}, {'indicator': {'id': 'IC.REG.DURS', 'value': 'Time required to start a business (days)'}, 'country': {'id': 'DE', 'value': 'Germany'}, 'countryiso3code': 'DEU', 'date': '1973', 'value': None, 'unit': '', 'obs_status': '', 'decimal': 0}, {'indicator': {'id': 'IC.REG.DURS', 'value': 'Time required to start a business (days)'}, 'country': {'id': 'DE', 'value': 'Germany'}, 'countryiso3code': 'DEU', 'date': '1972', 'value': None, 'unit': '', 'obs_status': '', 'decimal': 0}, {'indicator': {'id': 'IC.REG.DURS', 'value': 'Time required to start a business (days)'}, 'country': {'id': 'DE', 'value': 'Germany'}, 'countryiso3code': 'DEU', 'date': '1971', 'value': None, 'unit': '', 'obs_status': '', 'decimal': 0}]]\n",
            "WB_data_DEU.json\n"
          ]
        },
        {
          "output_type": "display_data",
          "data": {
            "application/javascript": [
              "\n",
              "    async function download(id, filename, size) {\n",
              "      if (!google.colab.kernel.accessAllowed) {\n",
              "        return;\n",
              "      }\n",
              "      const div = document.createElement('div');\n",
              "      const label = document.createElement('label');\n",
              "      label.textContent = `Downloading \"${filename}\": `;\n",
              "      div.appendChild(label);\n",
              "      const progress = document.createElement('progress');\n",
              "      progress.max = size;\n",
              "      div.appendChild(progress);\n",
              "      document.body.appendChild(div);\n",
              "\n",
              "      const buffers = [];\n",
              "      let downloaded = 0;\n",
              "\n",
              "      const channel = await google.colab.kernel.comms.open(id);\n",
              "      // Send a message to notify the kernel that we're ready.\n",
              "      channel.send({})\n",
              "\n",
              "      for await (const message of channel.messages) {\n",
              "        // Send a message to notify the kernel that we're ready.\n",
              "        channel.send({})\n",
              "        if (message.buffers) {\n",
              "          for (const buffer of message.buffers) {\n",
              "            buffers.push(buffer);\n",
              "            downloaded += buffer.byteLength;\n",
              "            progress.value = downloaded;\n",
              "          }\n",
              "        }\n",
              "      }\n",
              "      const blob = new Blob(buffers, {type: 'application/binary'});\n",
              "      const a = document.createElement('a');\n",
              "      a.href = window.URL.createObjectURL(blob);\n",
              "      a.download = filename;\n",
              "      div.appendChild(a);\n",
              "      a.click();\n",
              "      div.remove();\n",
              "    }\n",
              "  "
            ],
            "text/plain": [
              "<IPython.core.display.Javascript object>"
            ]
          },
          "metadata": {}
        },
        {
          "output_type": "display_data",
          "data": {
            "application/javascript": [
              "download(\"download_8bcb2055-e36c-4cc8-b9eb-c69ce0aafb8f\", \"WB_data_DEU.json\", 22354)"
            ],
            "text/plain": [
              "<IPython.core.display.Javascript object>"
            ]
          },
          "metadata": {}
        },
        {
          "output_type": "stream",
          "name": "stdout",
          "text": [
            "ESP\n",
            "http://api.worldbank.org/v2/country/ESP/indicator/IC.REG.DURS?format=json\n",
            "[{'page': 1, 'pages': 2, 'per_page': 50, 'total': 61, 'sourceid': '2', 'sourcename': 'World Development Indicators', 'lastupdated': '2021-10-28'}, [{'indicator': {'id': 'IC.REG.DURS', 'value': 'Time required to start a business (days)'}, 'country': {'id': 'ES', 'value': 'Spain'}, 'countryiso3code': 'ESP', 'date': '2020', 'value': None, 'unit': '', 'obs_status': '', 'decimal': 0}, {'indicator': {'id': 'IC.REG.DURS', 'value': 'Time required to start a business (days)'}, 'country': {'id': 'ES', 'value': 'Spain'}, 'countryiso3code': 'ESP', 'date': '2019', 'value': 12.5, 'unit': '', 'obs_status': '', 'decimal': 0}, {'indicator': {'id': 'IC.REG.DURS', 'value': 'Time required to start a business (days)'}, 'country': {'id': 'ES', 'value': 'Spain'}, 'countryiso3code': 'ESP', 'date': '2018', 'value': 12.5, 'unit': '', 'obs_status': '', 'decimal': 0}, {'indicator': {'id': 'IC.REG.DURS', 'value': 'Time required to start a business (days)'}, 'country': {'id': 'ES', 'value': 'Spain'}, 'countryiso3code': 'ESP', 'date': '2017', 'value': 13, 'unit': '', 'obs_status': '', 'decimal': 0}, {'indicator': {'id': 'IC.REG.DURS', 'value': 'Time required to start a business (days)'}, 'country': {'id': 'ES', 'value': 'Spain'}, 'countryiso3code': 'ESP', 'date': '2016', 'value': 13, 'unit': '', 'obs_status': '', 'decimal': 0}, {'indicator': {'id': 'IC.REG.DURS', 'value': 'Time required to start a business (days)'}, 'country': {'id': 'ES', 'value': 'Spain'}, 'countryiso3code': 'ESP', 'date': '2015', 'value': 14, 'unit': '', 'obs_status': '', 'decimal': 0}, {'indicator': {'id': 'IC.REG.DURS', 'value': 'Time required to start a business (days)'}, 'country': {'id': 'ES', 'value': 'Spain'}, 'countryiso3code': 'ESP', 'date': '2014', 'value': 14, 'unit': '', 'obs_status': '', 'decimal': 0}, {'indicator': {'id': 'IC.REG.DURS', 'value': 'Time required to start a business (days)'}, 'country': {'id': 'ES', 'value': 'Spain'}, 'countryiso3code': 'ESP', 'date': '2013', 'value': 24, 'unit': '', 'obs_status': '', 'decimal': 0}, {'indicator': {'id': 'IC.REG.DURS', 'value': 'Time required to start a business (days)'}, 'country': {'id': 'ES', 'value': 'Spain'}, 'countryiso3code': 'ESP', 'date': '2012', 'value': 30, 'unit': '', 'obs_status': '', 'decimal': 0}, {'indicator': {'id': 'IC.REG.DURS', 'value': 'Time required to start a business (days)'}, 'country': {'id': 'ES', 'value': 'Spain'}, 'countryiso3code': 'ESP', 'date': '2011', 'value': 29, 'unit': '', 'obs_status': '', 'decimal': 0}, {'indicator': {'id': 'IC.REG.DURS', 'value': 'Time required to start a business (days)'}, 'country': {'id': 'ES', 'value': 'Spain'}, 'countryiso3code': 'ESP', 'date': '2010', 'value': 52, 'unit': '', 'obs_status': '', 'decimal': 0}, {'indicator': {'id': 'IC.REG.DURS', 'value': 'Time required to start a business (days)'}, 'country': {'id': 'ES', 'value': 'Spain'}, 'countryiso3code': 'ESP', 'date': '2009', 'value': 61, 'unit': '', 'obs_status': '', 'decimal': 0}, {'indicator': {'id': 'IC.REG.DURS', 'value': 'Time required to start a business (days)'}, 'country': {'id': 'ES', 'value': 'Spain'}, 'countryiso3code': 'ESP', 'date': '2008', 'value': 61, 'unit': '', 'obs_status': '', 'decimal': 0}, {'indicator': {'id': 'IC.REG.DURS', 'value': 'Time required to start a business (days)'}, 'country': {'id': 'ES', 'value': 'Spain'}, 'countryiso3code': 'ESP', 'date': '2007', 'value': 60, 'unit': '', 'obs_status': '', 'decimal': 0}, {'indicator': {'id': 'IC.REG.DURS', 'value': 'Time required to start a business (days)'}, 'country': {'id': 'ES', 'value': 'Spain'}, 'countryiso3code': 'ESP', 'date': '2006', 'value': 60, 'unit': '', 'obs_status': '', 'decimal': 0}, {'indicator': {'id': 'IC.REG.DURS', 'value': 'Time required to start a business (days)'}, 'country': {'id': 'ES', 'value': 'Spain'}, 'countryiso3code': 'ESP', 'date': '2005', 'value': 70, 'unit': '', 'obs_status': '', 'decimal': 0}, {'indicator': {'id': 'IC.REG.DURS', 'value': 'Time required to start a business (days)'}, 'country': {'id': 'ES', 'value': 'Spain'}, 'countryiso3code': 'ESP', 'date': '2004', 'value': 137, 'unit': '', 'obs_status': '', 'decimal': 0}, {'indicator': {'id': 'IC.REG.DURS', 'value': 'Time required to start a business (days)'}, 'country': {'id': 'ES', 'value': 'Spain'}, 'countryiso3code': 'ESP', 'date': '2003', 'value': 138, 'unit': '', 'obs_status': '', 'decimal': 0}, {'indicator': {'id': 'IC.REG.DURS', 'value': 'Time required to start a business (days)'}, 'country': {'id': 'ES', 'value': 'Spain'}, 'countryiso3code': 'ESP', 'date': '2002', 'value': None, 'unit': '', 'obs_status': '', 'decimal': 0}, {'indicator': {'id': 'IC.REG.DURS', 'value': 'Time required to start a business (days)'}, 'country': {'id': 'ES', 'value': 'Spain'}, 'countryiso3code': 'ESP', 'date': '2001', 'value': None, 'unit': '', 'obs_status': '', 'decimal': 0}, {'indicator': {'id': 'IC.REG.DURS', 'value': 'Time required to start a business (days)'}, 'country': {'id': 'ES', 'value': 'Spain'}, 'countryiso3code': 'ESP', 'date': '2000', 'value': None, 'unit': '', 'obs_status': '', 'decimal': 0}, {'indicator': {'id': 'IC.REG.DURS', 'value': 'Time required to start a business (days)'}, 'country': {'id': 'ES', 'value': 'Spain'}, 'countryiso3code': 'ESP', 'date': '1999', 'value': None, 'unit': '', 'obs_status': '', 'decimal': 0}, {'indicator': {'id': 'IC.REG.DURS', 'value': 'Time required to start a business (days)'}, 'country': {'id': 'ES', 'value': 'Spain'}, 'countryiso3code': 'ESP', 'date': '1998', 'value': None, 'unit': '', 'obs_status': '', 'decimal': 0}, {'indicator': {'id': 'IC.REG.DURS', 'value': 'Time required to start a business (days)'}, 'country': {'id': 'ES', 'value': 'Spain'}, 'countryiso3code': 'ESP', 'date': '1997', 'value': None, 'unit': '', 'obs_status': '', 'decimal': 0}, {'indicator': {'id': 'IC.REG.DURS', 'value': 'Time required to start a business (days)'}, 'country': {'id': 'ES', 'value': 'Spain'}, 'countryiso3code': 'ESP', 'date': '1996', 'value': None, 'unit': '', 'obs_status': '', 'decimal': 0}, {'indicator': {'id': 'IC.REG.DURS', 'value': 'Time required to start a business (days)'}, 'country': {'id': 'ES', 'value': 'Spain'}, 'countryiso3code': 'ESP', 'date': '1995', 'value': None, 'unit': '', 'obs_status': '', 'decimal': 0}, {'indicator': {'id': 'IC.REG.DURS', 'value': 'Time required to start a business (days)'}, 'country': {'id': 'ES', 'value': 'Spain'}, 'countryiso3code': 'ESP', 'date': '1994', 'value': None, 'unit': '', 'obs_status': '', 'decimal': 0}, {'indicator': {'id': 'IC.REG.DURS', 'value': 'Time required to start a business (days)'}, 'country': {'id': 'ES', 'value': 'Spain'}, 'countryiso3code': 'ESP', 'date': '1993', 'value': None, 'unit': '', 'obs_status': '', 'decimal': 0}, {'indicator': {'id': 'IC.REG.DURS', 'value': 'Time required to start a business (days)'}, 'country': {'id': 'ES', 'value': 'Spain'}, 'countryiso3code': 'ESP', 'date': '1992', 'value': None, 'unit': '', 'obs_status': '', 'decimal': 0}, {'indicator': {'id': 'IC.REG.DURS', 'value': 'Time required to start a business (days)'}, 'country': {'id': 'ES', 'value': 'Spain'}, 'countryiso3code': 'ESP', 'date': '1991', 'value': None, 'unit': '', 'obs_status': '', 'decimal': 0}, {'indicator': {'id': 'IC.REG.DURS', 'value': 'Time required to start a business (days)'}, 'country': {'id': 'ES', 'value': 'Spain'}, 'countryiso3code': 'ESP', 'date': '1990', 'value': None, 'unit': '', 'obs_status': '', 'decimal': 0}, {'indicator': {'id': 'IC.REG.DURS', 'value': 'Time required to start a business (days)'}, 'country': {'id': 'ES', 'value': 'Spain'}, 'countryiso3code': 'ESP', 'date': '1989', 'value': None, 'unit': '', 'obs_status': '', 'decimal': 0}, {'indicator': {'id': 'IC.REG.DURS', 'value': 'Time required to start a business (days)'}, 'country': {'id': 'ES', 'value': 'Spain'}, 'countryiso3code': 'ESP', 'date': '1988', 'value': None, 'unit': '', 'obs_status': '', 'decimal': 0}, {'indicator': {'id': 'IC.REG.DURS', 'value': 'Time required to start a business (days)'}, 'country': {'id': 'ES', 'value': 'Spain'}, 'countryiso3code': 'ESP', 'date': '1987', 'value': None, 'unit': '', 'obs_status': '', 'decimal': 0}, {'indicator': {'id': 'IC.REG.DURS', 'value': 'Time required to start a business (days)'}, 'country': {'id': 'ES', 'value': 'Spain'}, 'countryiso3code': 'ESP', 'date': '1986', 'value': None, 'unit': '', 'obs_status': '', 'decimal': 0}, {'indicator': {'id': 'IC.REG.DURS', 'value': 'Time required to start a business (days)'}, 'country': {'id': 'ES', 'value': 'Spain'}, 'countryiso3code': 'ESP', 'date': '1985', 'value': None, 'unit': '', 'obs_status': '', 'decimal': 0}, {'indicator': {'id': 'IC.REG.DURS', 'value': 'Time required to start a business (days)'}, 'country': {'id': 'ES', 'value': 'Spain'}, 'countryiso3code': 'ESP', 'date': '1984', 'value': None, 'unit': '', 'obs_status': '', 'decimal': 0}, {'indicator': {'id': 'IC.REG.DURS', 'value': 'Time required to start a business (days)'}, 'country': {'id': 'ES', 'value': 'Spain'}, 'countryiso3code': 'ESP', 'date': '1983', 'value': None, 'unit': '', 'obs_status': '', 'decimal': 0}, {'indicator': {'id': 'IC.REG.DURS', 'value': 'Time required to start a business (days)'}, 'country': {'id': 'ES', 'value': 'Spain'}, 'countryiso3code': 'ESP', 'date': '1982', 'value': None, 'unit': '', 'obs_status': '', 'decimal': 0}, {'indicator': {'id': 'IC.REG.DURS', 'value': 'Time required to start a business (days)'}, 'country': {'id': 'ES', 'value': 'Spain'}, 'countryiso3code': 'ESP', 'date': '1981', 'value': None, 'unit': '', 'obs_status': '', 'decimal': 0}, {'indicator': {'id': 'IC.REG.DURS', 'value': 'Time required to start a business (days)'}, 'country': {'id': 'ES', 'value': 'Spain'}, 'countryiso3code': 'ESP', 'date': '1980', 'value': None, 'unit': '', 'obs_status': '', 'decimal': 0}, {'indicator': {'id': 'IC.REG.DURS', 'value': 'Time required to start a business (days)'}, 'country': {'id': 'ES', 'value': 'Spain'}, 'countryiso3code': 'ESP', 'date': '1979', 'value': None, 'unit': '', 'obs_status': '', 'decimal': 0}, {'indicator': {'id': 'IC.REG.DURS', 'value': 'Time required to start a business (days)'}, 'country': {'id': 'ES', 'value': 'Spain'}, 'countryiso3code': 'ESP', 'date': '1978', 'value': None, 'unit': '', 'obs_status': '', 'decimal': 0}, {'indicator': {'id': 'IC.REG.DURS', 'value': 'Time required to start a business (days)'}, 'country': {'id': 'ES', 'value': 'Spain'}, 'countryiso3code': 'ESP', 'date': '1977', 'value': None, 'unit': '', 'obs_status': '', 'decimal': 0}, {'indicator': {'id': 'IC.REG.DURS', 'value': 'Time required to start a business (days)'}, 'country': {'id': 'ES', 'value': 'Spain'}, 'countryiso3code': 'ESP', 'date': '1976', 'value': None, 'unit': '', 'obs_status': '', 'decimal': 0}, {'indicator': {'id': 'IC.REG.DURS', 'value': 'Time required to start a business (days)'}, 'country': {'id': 'ES', 'value': 'Spain'}, 'countryiso3code': 'ESP', 'date': '1975', 'value': None, 'unit': '', 'obs_status': '', 'decimal': 0}, {'indicator': {'id': 'IC.REG.DURS', 'value': 'Time required to start a business (days)'}, 'country': {'id': 'ES', 'value': 'Spain'}, 'countryiso3code': 'ESP', 'date': '1974', 'value': None, 'unit': '', 'obs_status': '', 'decimal': 0}, {'indicator': {'id': 'IC.REG.DURS', 'value': 'Time required to start a business (days)'}, 'country': {'id': 'ES', 'value': 'Spain'}, 'countryiso3code': 'ESP', 'date': '1973', 'value': None, 'unit': '', 'obs_status': '', 'decimal': 0}, {'indicator': {'id': 'IC.REG.DURS', 'value': 'Time required to start a business (days)'}, 'country': {'id': 'ES', 'value': 'Spain'}, 'countryiso3code': 'ESP', 'date': '1972', 'value': None, 'unit': '', 'obs_status': '', 'decimal': 0}, {'indicator': {'id': 'IC.REG.DURS', 'value': 'Time required to start a business (days)'}, 'country': {'id': 'ES', 'value': 'Spain'}, 'countryiso3code': 'ESP', 'date': '1971', 'value': None, 'unit': '', 'obs_status': '', 'decimal': 0}]]\n",
            "WB_data_ESP.json\n"
          ]
        },
        {
          "output_type": "display_data",
          "data": {
            "application/javascript": [
              "\n",
              "    async function download(id, filename, size) {\n",
              "      if (!google.colab.kernel.accessAllowed) {\n",
              "        return;\n",
              "      }\n",
              "      const div = document.createElement('div');\n",
              "      const label = document.createElement('label');\n",
              "      label.textContent = `Downloading \"${filename}\": `;\n",
              "      div.appendChild(label);\n",
              "      const progress = document.createElement('progress');\n",
              "      progress.max = size;\n",
              "      div.appendChild(progress);\n",
              "      document.body.appendChild(div);\n",
              "\n",
              "      const buffers = [];\n",
              "      let downloaded = 0;\n",
              "\n",
              "      const channel = await google.colab.kernel.comms.open(id);\n",
              "      // Send a message to notify the kernel that we're ready.\n",
              "      channel.send({})\n",
              "\n",
              "      for await (const message of channel.messages) {\n",
              "        // Send a message to notify the kernel that we're ready.\n",
              "        channel.send({})\n",
              "        if (message.buffers) {\n",
              "          for (const buffer of message.buffers) {\n",
              "            buffers.push(buffer);\n",
              "            downloaded += buffer.byteLength;\n",
              "            progress.value = downloaded;\n",
              "          }\n",
              "        }\n",
              "      }\n",
              "      const blob = new Blob(buffers, {type: 'application/binary'});\n",
              "      const a = document.createElement('a');\n",
              "      a.href = window.URL.createObjectURL(blob);\n",
              "      a.download = filename;\n",
              "      div.appendChild(a);\n",
              "      a.click();\n",
              "      div.remove();\n",
              "    }\n",
              "  "
            ],
            "text/plain": [
              "<IPython.core.display.Javascript object>"
            ]
          },
          "metadata": {}
        },
        {
          "output_type": "display_data",
          "data": {
            "application/javascript": [
              "download(\"download_9bc2b815-6177-4397-a9e6-000d078656e5\", \"WB_data_ESP.json\", 22248)"
            ],
            "text/plain": [
              "<IPython.core.display.Javascript object>"
            ]
          },
          "metadata": {}
        },
        {
          "output_type": "stream",
          "name": "stdout",
          "text": [
            "EST\n",
            "http://api.worldbank.org/v2/country/EST/indicator/IC.REG.DURS?format=json\n",
            "[{'page': 1, 'pages': 2, 'per_page': 50, 'total': 61, 'sourceid': '2', 'sourcename': 'World Development Indicators', 'lastupdated': '2021-10-28'}, [{'indicator': {'id': 'IC.REG.DURS', 'value': 'Time required to start a business (days)'}, 'country': {'id': 'EE', 'value': 'Estonia'}, 'countryiso3code': 'EST', 'date': '2020', 'value': None, 'unit': '', 'obs_status': '', 'decimal': 0}, {'indicator': {'id': 'IC.REG.DURS', 'value': 'Time required to start a business (days)'}, 'country': {'id': 'EE', 'value': 'Estonia'}, 'countryiso3code': 'EST', 'date': '2019', 'value': 3.5, 'unit': '', 'obs_status': '', 'decimal': 0}, {'indicator': {'id': 'IC.REG.DURS', 'value': 'Time required to start a business (days)'}, 'country': {'id': 'EE', 'value': 'Estonia'}, 'countryiso3code': 'EST', 'date': '2018', 'value': 3.5, 'unit': '', 'obs_status': '', 'decimal': 0}, {'indicator': {'id': 'IC.REG.DURS', 'value': 'Time required to start a business (days)'}, 'country': {'id': 'EE', 'value': 'Estonia'}, 'countryiso3code': 'EST', 'date': '2017', 'value': 3.5, 'unit': '', 'obs_status': '', 'decimal': 0}, {'indicator': {'id': 'IC.REG.DURS', 'value': 'Time required to start a business (days)'}, 'country': {'id': 'EE', 'value': 'Estonia'}, 'countryiso3code': 'EST', 'date': '2016', 'value': 3.5, 'unit': '', 'obs_status': '', 'decimal': 0}, {'indicator': {'id': 'IC.REG.DURS', 'value': 'Time required to start a business (days)'}, 'country': {'id': 'EE', 'value': 'Estonia'}, 'countryiso3code': 'EST', 'date': '2015', 'value': 3.5, 'unit': '', 'obs_status': '', 'decimal': 0}, {'indicator': {'id': 'IC.REG.DURS', 'value': 'Time required to start a business (days)'}, 'country': {'id': 'EE', 'value': 'Estonia'}, 'countryiso3code': 'EST', 'date': '2014', 'value': 4.5, 'unit': '', 'obs_status': '', 'decimal': 0}, {'indicator': {'id': 'IC.REG.DURS', 'value': 'Time required to start a business (days)'}, 'country': {'id': 'EE', 'value': 'Estonia'}, 'countryiso3code': 'EST', 'date': '2013', 'value': 6.5, 'unit': '', 'obs_status': '', 'decimal': 0}, {'indicator': {'id': 'IC.REG.DURS', 'value': 'Time required to start a business (days)'}, 'country': {'id': 'EE', 'value': 'Estonia'}, 'countryiso3code': 'EST', 'date': '2012', 'value': 6.5, 'unit': '', 'obs_status': '', 'decimal': 0}, {'indicator': {'id': 'IC.REG.DURS', 'value': 'Time required to start a business (days)'}, 'country': {'id': 'EE', 'value': 'Estonia'}, 'countryiso3code': 'EST', 'date': '2011', 'value': 6.5, 'unit': '', 'obs_status': '', 'decimal': 0}, {'indicator': {'id': 'IC.REG.DURS', 'value': 'Time required to start a business (days)'}, 'country': {'id': 'EE', 'value': 'Estonia'}, 'countryiso3code': 'EST', 'date': '2010', 'value': 6.5, 'unit': '', 'obs_status': '', 'decimal': 0}, {'indicator': {'id': 'IC.REG.DURS', 'value': 'Time required to start a business (days)'}, 'country': {'id': 'EE', 'value': 'Estonia'}, 'countryiso3code': 'EST', 'date': '2009', 'value': 6.5, 'unit': '', 'obs_status': '', 'decimal': 0}, {'indicator': {'id': 'IC.REG.DURS', 'value': 'Time required to start a business (days)'}, 'country': {'id': 'EE', 'value': 'Estonia'}, 'countryiso3code': 'EST', 'date': '2008', 'value': 6.5, 'unit': '', 'obs_status': '', 'decimal': 0}, {'indicator': {'id': 'IC.REG.DURS', 'value': 'Time required to start a business (days)'}, 'country': {'id': 'EE', 'value': 'Estonia'}, 'countryiso3code': 'EST', 'date': '2007', 'value': 6.5, 'unit': '', 'obs_status': '', 'decimal': 0}, {'indicator': {'id': 'IC.REG.DURS', 'value': 'Time required to start a business (days)'}, 'country': {'id': 'EE', 'value': 'Estonia'}, 'countryiso3code': 'EST', 'date': '2006', 'value': 35, 'unit': '', 'obs_status': '', 'decimal': 0}, {'indicator': {'id': 'IC.REG.DURS', 'value': 'Time required to start a business (days)'}, 'country': {'id': 'EE', 'value': 'Estonia'}, 'countryiso3code': 'EST', 'date': '2005', 'value': 35, 'unit': '', 'obs_status': '', 'decimal': 0}, {'indicator': {'id': 'IC.REG.DURS', 'value': 'Time required to start a business (days)'}, 'country': {'id': 'EE', 'value': 'Estonia'}, 'countryiso3code': 'EST', 'date': '2004', 'value': 72, 'unit': '', 'obs_status': '', 'decimal': 0}, {'indicator': {'id': 'IC.REG.DURS', 'value': 'Time required to start a business (days)'}, 'country': {'id': 'EE', 'value': 'Estonia'}, 'countryiso3code': 'EST', 'date': '2003', 'value': 72, 'unit': '', 'obs_status': '', 'decimal': 0}, {'indicator': {'id': 'IC.REG.DURS', 'value': 'Time required to start a business (days)'}, 'country': {'id': 'EE', 'value': 'Estonia'}, 'countryiso3code': 'EST', 'date': '2002', 'value': None, 'unit': '', 'obs_status': '', 'decimal': 0}, {'indicator': {'id': 'IC.REG.DURS', 'value': 'Time required to start a business (days)'}, 'country': {'id': 'EE', 'value': 'Estonia'}, 'countryiso3code': 'EST', 'date': '2001', 'value': None, 'unit': '', 'obs_status': '', 'decimal': 0}, {'indicator': {'id': 'IC.REG.DURS', 'value': 'Time required to start a business (days)'}, 'country': {'id': 'EE', 'value': 'Estonia'}, 'countryiso3code': 'EST', 'date': '2000', 'value': None, 'unit': '', 'obs_status': '', 'decimal': 0}, {'indicator': {'id': 'IC.REG.DURS', 'value': 'Time required to start a business (days)'}, 'country': {'id': 'EE', 'value': 'Estonia'}, 'countryiso3code': 'EST', 'date': '1999', 'value': None, 'unit': '', 'obs_status': '', 'decimal': 0}, {'indicator': {'id': 'IC.REG.DURS', 'value': 'Time required to start a business (days)'}, 'country': {'id': 'EE', 'value': 'Estonia'}, 'countryiso3code': 'EST', 'date': '1998', 'value': None, 'unit': '', 'obs_status': '', 'decimal': 0}, {'indicator': {'id': 'IC.REG.DURS', 'value': 'Time required to start a business (days)'}, 'country': {'id': 'EE', 'value': 'Estonia'}, 'countryiso3code': 'EST', 'date': '1997', 'value': None, 'unit': '', 'obs_status': '', 'decimal': 0}, {'indicator': {'id': 'IC.REG.DURS', 'value': 'Time required to start a business (days)'}, 'country': {'id': 'EE', 'value': 'Estonia'}, 'countryiso3code': 'EST', 'date': '1996', 'value': None, 'unit': '', 'obs_status': '', 'decimal': 0}, {'indicator': {'id': 'IC.REG.DURS', 'value': 'Time required to start a business (days)'}, 'country': {'id': 'EE', 'value': 'Estonia'}, 'countryiso3code': 'EST', 'date': '1995', 'value': None, 'unit': '', 'obs_status': '', 'decimal': 0}, {'indicator': {'id': 'IC.REG.DURS', 'value': 'Time required to start a business (days)'}, 'country': {'id': 'EE', 'value': 'Estonia'}, 'countryiso3code': 'EST', 'date': '1994', 'value': None, 'unit': '', 'obs_status': '', 'decimal': 0}, {'indicator': {'id': 'IC.REG.DURS', 'value': 'Time required to start a business (days)'}, 'country': {'id': 'EE', 'value': 'Estonia'}, 'countryiso3code': 'EST', 'date': '1993', 'value': None, 'unit': '', 'obs_status': '', 'decimal': 0}, {'indicator': {'id': 'IC.REG.DURS', 'value': 'Time required to start a business (days)'}, 'country': {'id': 'EE', 'value': 'Estonia'}, 'countryiso3code': 'EST', 'date': '1992', 'value': None, 'unit': '', 'obs_status': '', 'decimal': 0}, {'indicator': {'id': 'IC.REG.DURS', 'value': 'Time required to start a business (days)'}, 'country': {'id': 'EE', 'value': 'Estonia'}, 'countryiso3code': 'EST', 'date': '1991', 'value': None, 'unit': '', 'obs_status': '', 'decimal': 0}, {'indicator': {'id': 'IC.REG.DURS', 'value': 'Time required to start a business (days)'}, 'country': {'id': 'EE', 'value': 'Estonia'}, 'countryiso3code': 'EST', 'date': '1990', 'value': None, 'unit': '', 'obs_status': '', 'decimal': 0}, {'indicator': {'id': 'IC.REG.DURS', 'value': 'Time required to start a business (days)'}, 'country': {'id': 'EE', 'value': 'Estonia'}, 'countryiso3code': 'EST', 'date': '1989', 'value': None, 'unit': '', 'obs_status': '', 'decimal': 0}, {'indicator': {'id': 'IC.REG.DURS', 'value': 'Time required to start a business (days)'}, 'country': {'id': 'EE', 'value': 'Estonia'}, 'countryiso3code': 'EST', 'date': '1988', 'value': None, 'unit': '', 'obs_status': '', 'decimal': 0}, {'indicator': {'id': 'IC.REG.DURS', 'value': 'Time required to start a business (days)'}, 'country': {'id': 'EE', 'value': 'Estonia'}, 'countryiso3code': 'EST', 'date': '1987', 'value': None, 'unit': '', 'obs_status': '', 'decimal': 0}, {'indicator': {'id': 'IC.REG.DURS', 'value': 'Time required to start a business (days)'}, 'country': {'id': 'EE', 'value': 'Estonia'}, 'countryiso3code': 'EST', 'date': '1986', 'value': None, 'unit': '', 'obs_status': '', 'decimal': 0}, {'indicator': {'id': 'IC.REG.DURS', 'value': 'Time required to start a business (days)'}, 'country': {'id': 'EE', 'value': 'Estonia'}, 'countryiso3code': 'EST', 'date': '1985', 'value': None, 'unit': '', 'obs_status': '', 'decimal': 0}, {'indicator': {'id': 'IC.REG.DURS', 'value': 'Time required to start a business (days)'}, 'country': {'id': 'EE', 'value': 'Estonia'}, 'countryiso3code': 'EST', 'date': '1984', 'value': None, 'unit': '', 'obs_status': '', 'decimal': 0}, {'indicator': {'id': 'IC.REG.DURS', 'value': 'Time required to start a business (days)'}, 'country': {'id': 'EE', 'value': 'Estonia'}, 'countryiso3code': 'EST', 'date': '1983', 'value': None, 'unit': '', 'obs_status': '', 'decimal': 0}, {'indicator': {'id': 'IC.REG.DURS', 'value': 'Time required to start a business (days)'}, 'country': {'id': 'EE', 'value': 'Estonia'}, 'countryiso3code': 'EST', 'date': '1982', 'value': None, 'unit': '', 'obs_status': '', 'decimal': 0}, {'indicator': {'id': 'IC.REG.DURS', 'value': 'Time required to start a business (days)'}, 'country': {'id': 'EE', 'value': 'Estonia'}, 'countryiso3code': 'EST', 'date': '1981', 'value': None, 'unit': '', 'obs_status': '', 'decimal': 0}, {'indicator': {'id': 'IC.REG.DURS', 'value': 'Time required to start a business (days)'}, 'country': {'id': 'EE', 'value': 'Estonia'}, 'countryiso3code': 'EST', 'date': '1980', 'value': None, 'unit': '', 'obs_status': '', 'decimal': 0}, {'indicator': {'id': 'IC.REG.DURS', 'value': 'Time required to start a business (days)'}, 'country': {'id': 'EE', 'value': 'Estonia'}, 'countryiso3code': 'EST', 'date': '1979', 'value': None, 'unit': '', 'obs_status': '', 'decimal': 0}, {'indicator': {'id': 'IC.REG.DURS', 'value': 'Time required to start a business (days)'}, 'country': {'id': 'EE', 'value': 'Estonia'}, 'countryiso3code': 'EST', 'date': '1978', 'value': None, 'unit': '', 'obs_status': '', 'decimal': 0}, {'indicator': {'id': 'IC.REG.DURS', 'value': 'Time required to start a business (days)'}, 'country': {'id': 'EE', 'value': 'Estonia'}, 'countryiso3code': 'EST', 'date': '1977', 'value': None, 'unit': '', 'obs_status': '', 'decimal': 0}, {'indicator': {'id': 'IC.REG.DURS', 'value': 'Time required to start a business (days)'}, 'country': {'id': 'EE', 'value': 'Estonia'}, 'countryiso3code': 'EST', 'date': '1976', 'value': None, 'unit': '', 'obs_status': '', 'decimal': 0}, {'indicator': {'id': 'IC.REG.DURS', 'value': 'Time required to start a business (days)'}, 'country': {'id': 'EE', 'value': 'Estonia'}, 'countryiso3code': 'EST', 'date': '1975', 'value': None, 'unit': '', 'obs_status': '', 'decimal': 0}, {'indicator': {'id': 'IC.REG.DURS', 'value': 'Time required to start a business (days)'}, 'country': {'id': 'EE', 'value': 'Estonia'}, 'countryiso3code': 'EST', 'date': '1974', 'value': None, 'unit': '', 'obs_status': '', 'decimal': 0}, {'indicator': {'id': 'IC.REG.DURS', 'value': 'Time required to start a business (days)'}, 'country': {'id': 'EE', 'value': 'Estonia'}, 'countryiso3code': 'EST', 'date': '1973', 'value': None, 'unit': '', 'obs_status': '', 'decimal': 0}, {'indicator': {'id': 'IC.REG.DURS', 'value': 'Time required to start a business (days)'}, 'country': {'id': 'EE', 'value': 'Estonia'}, 'countryiso3code': 'EST', 'date': '1972', 'value': None, 'unit': '', 'obs_status': '', 'decimal': 0}, {'indicator': {'id': 'IC.REG.DURS', 'value': 'Time required to start a business (days)'}, 'country': {'id': 'EE', 'value': 'Estonia'}, 'countryiso3code': 'EST', 'date': '1971', 'value': None, 'unit': '', 'obs_status': '', 'decimal': 0}]]\n",
            "WB_data_EST.json\n"
          ]
        },
        {
          "output_type": "display_data",
          "data": {
            "application/javascript": [
              "\n",
              "    async function download(id, filename, size) {\n",
              "      if (!google.colab.kernel.accessAllowed) {\n",
              "        return;\n",
              "      }\n",
              "      const div = document.createElement('div');\n",
              "      const label = document.createElement('label');\n",
              "      label.textContent = `Downloading \"${filename}\": `;\n",
              "      div.appendChild(label);\n",
              "      const progress = document.createElement('progress');\n",
              "      progress.max = size;\n",
              "      div.appendChild(progress);\n",
              "      document.body.appendChild(div);\n",
              "\n",
              "      const buffers = [];\n",
              "      let downloaded = 0;\n",
              "\n",
              "      const channel = await google.colab.kernel.comms.open(id);\n",
              "      // Send a message to notify the kernel that we're ready.\n",
              "      channel.send({})\n",
              "\n",
              "      for await (const message of channel.messages) {\n",
              "        // Send a message to notify the kernel that we're ready.\n",
              "        channel.send({})\n",
              "        if (message.buffers) {\n",
              "          for (const buffer of message.buffers) {\n",
              "            buffers.push(buffer);\n",
              "            downloaded += buffer.byteLength;\n",
              "            progress.value = downloaded;\n",
              "          }\n",
              "        }\n",
              "      }\n",
              "      const blob = new Blob(buffers, {type: 'application/binary'});\n",
              "      const a = document.createElement('a');\n",
              "      a.href = window.URL.createObjectURL(blob);\n",
              "      a.download = filename;\n",
              "      div.appendChild(a);\n",
              "      a.click();\n",
              "      div.remove();\n",
              "    }\n",
              "  "
            ],
            "text/plain": [
              "<IPython.core.display.Javascript object>"
            ]
          },
          "metadata": {}
        },
        {
          "output_type": "display_data",
          "data": {
            "application/javascript": [
              "download(\"download_e833e9ad-9bac-40a9-939c-408e0b89edfe\", \"WB_data_EST.json\", 22355)"
            ],
            "text/plain": [
              "<IPython.core.display.Javascript object>"
            ]
          },
          "metadata": {}
        },
        {
          "output_type": "stream",
          "name": "stdout",
          "text": [
            "ARE\n",
            "http://api.worldbank.org/v2/country/ARE/indicator/IC.REG.DURS?format=json\n",
            "[{'page': 1, 'pages': 2, 'per_page': 50, 'total': 61, 'sourceid': '2', 'sourcename': 'World Development Indicators', 'lastupdated': '2021-10-28'}, [{'indicator': {'id': 'IC.REG.DURS', 'value': 'Time required to start a business (days)'}, 'country': {'id': 'AE', 'value': 'United Arab Emirates'}, 'countryiso3code': 'ARE', 'date': '2020', 'value': None, 'unit': '', 'obs_status': '', 'decimal': 0}, {'indicator': {'id': 'IC.REG.DURS', 'value': 'Time required to start a business (days)'}, 'country': {'id': 'AE', 'value': 'United Arab Emirates'}, 'countryiso3code': 'ARE', 'date': '2019', 'value': 3.8, 'unit': '', 'obs_status': '', 'decimal': 0}, {'indicator': {'id': 'IC.REG.DURS', 'value': 'Time required to start a business (days)'}, 'country': {'id': 'AE', 'value': 'United Arab Emirates'}, 'countryiso3code': 'ARE', 'date': '2018', 'value': 3.8, 'unit': '', 'obs_status': '', 'decimal': 0}, {'indicator': {'id': 'IC.REG.DURS', 'value': 'Time required to start a business (days)'}, 'country': {'id': 'AE', 'value': 'United Arab Emirates'}, 'countryiso3code': 'ARE', 'date': '2017', 'value': 8.3, 'unit': '', 'obs_status': '', 'decimal': 0}, {'indicator': {'id': 'IC.REG.DURS', 'value': 'Time required to start a business (days)'}, 'country': {'id': 'AE', 'value': 'United Arab Emirates'}, 'countryiso3code': 'ARE', 'date': '2016', 'value': 8.3, 'unit': '', 'obs_status': '', 'decimal': 0}, {'indicator': {'id': 'IC.REG.DURS', 'value': 'Time required to start a business (days)'}, 'country': {'id': 'AE', 'value': 'United Arab Emirates'}, 'countryiso3code': 'ARE', 'date': '2015', 'value': 8.3, 'unit': '', 'obs_status': '', 'decimal': 0}, {'indicator': {'id': 'IC.REG.DURS', 'value': 'Time required to start a business (days)'}, 'country': {'id': 'AE', 'value': 'United Arab Emirates'}, 'countryiso3code': 'ARE', 'date': '2014', 'value': 8.3, 'unit': '', 'obs_status': '', 'decimal': 0}, {'indicator': {'id': 'IC.REG.DURS', 'value': 'Time required to start a business (days)'}, 'country': {'id': 'AE', 'value': 'United Arab Emirates'}, 'countryiso3code': 'ARE', 'date': '2013', 'value': 8.2, 'unit': '', 'obs_status': '', 'decimal': 0}, {'indicator': {'id': 'IC.REG.DURS', 'value': 'Time required to start a business (days)'}, 'country': {'id': 'AE', 'value': 'United Arab Emirates'}, 'countryiso3code': 'ARE', 'date': '2012', 'value': 8.2, 'unit': '', 'obs_status': '', 'decimal': 0}, {'indicator': {'id': 'IC.REG.DURS', 'value': 'Time required to start a business (days)'}, 'country': {'id': 'AE', 'value': 'United Arab Emirates'}, 'countryiso3code': 'ARE', 'date': '2011', 'value': 13.2, 'unit': '', 'obs_status': '', 'decimal': 0}, {'indicator': {'id': 'IC.REG.DURS', 'value': 'Time required to start a business (days)'}, 'country': {'id': 'AE', 'value': 'United Arab Emirates'}, 'countryiso3code': 'ARE', 'date': '2010', 'value': 15.2, 'unit': '', 'obs_status': '', 'decimal': 0}, {'indicator': {'id': 'IC.REG.DURS', 'value': 'Time required to start a business (days)'}, 'country': {'id': 'AE', 'value': 'United Arab Emirates'}, 'countryiso3code': 'ARE', 'date': '2009', 'value': 15.2, 'unit': '', 'obs_status': '', 'decimal': 0}, {'indicator': {'id': 'IC.REG.DURS', 'value': 'Time required to start a business (days)'}, 'country': {'id': 'AE', 'value': 'United Arab Emirates'}, 'countryiso3code': 'ARE', 'date': '2008', 'value': 18.2, 'unit': '', 'obs_status': '', 'decimal': 0}, {'indicator': {'id': 'IC.REG.DURS', 'value': 'Time required to start a business (days)'}, 'country': {'id': 'AE', 'value': 'United Arab Emirates'}, 'countryiso3code': 'ARE', 'date': '2007', 'value': 18.2, 'unit': '', 'obs_status': '', 'decimal': 0}, {'indicator': {'id': 'IC.REG.DURS', 'value': 'Time required to start a business (days)'}, 'country': {'id': 'AE', 'value': 'United Arab Emirates'}, 'countryiso3code': 'ARE', 'date': '2006', 'value': 19.2, 'unit': '', 'obs_status': '', 'decimal': 0}, {'indicator': {'id': 'IC.REG.DURS', 'value': 'Time required to start a business (days)'}, 'country': {'id': 'AE', 'value': 'United Arab Emirates'}, 'countryiso3code': 'ARE', 'date': '2005', 'value': 19.3, 'unit': '', 'obs_status': '', 'decimal': 0}, {'indicator': {'id': 'IC.REG.DURS', 'value': 'Time required to start a business (days)'}, 'country': {'id': 'AE', 'value': 'United Arab Emirates'}, 'countryiso3code': 'ARE', 'date': '2004', 'value': 19.2, 'unit': '', 'obs_status': '', 'decimal': 0}, {'indicator': {'id': 'IC.REG.DURS', 'value': 'Time required to start a business (days)'}, 'country': {'id': 'AE', 'value': 'United Arab Emirates'}, 'countryiso3code': 'ARE', 'date': '2003', 'value': 19.2, 'unit': '', 'obs_status': '', 'decimal': 0}, {'indicator': {'id': 'IC.REG.DURS', 'value': 'Time required to start a business (days)'}, 'country': {'id': 'AE', 'value': 'United Arab Emirates'}, 'countryiso3code': 'ARE', 'date': '2002', 'value': None, 'unit': '', 'obs_status': '', 'decimal': 0}, {'indicator': {'id': 'IC.REG.DURS', 'value': 'Time required to start a business (days)'}, 'country': {'id': 'AE', 'value': 'United Arab Emirates'}, 'countryiso3code': 'ARE', 'date': '2001', 'value': None, 'unit': '', 'obs_status': '', 'decimal': 0}, {'indicator': {'id': 'IC.REG.DURS', 'value': 'Time required to start a business (days)'}, 'country': {'id': 'AE', 'value': 'United Arab Emirates'}, 'countryiso3code': 'ARE', 'date': '2000', 'value': None, 'unit': '', 'obs_status': '', 'decimal': 0}, {'indicator': {'id': 'IC.REG.DURS', 'value': 'Time required to start a business (days)'}, 'country': {'id': 'AE', 'value': 'United Arab Emirates'}, 'countryiso3code': 'ARE', 'date': '1999', 'value': None, 'unit': '', 'obs_status': '', 'decimal': 0}, {'indicator': {'id': 'IC.REG.DURS', 'value': 'Time required to start a business (days)'}, 'country': {'id': 'AE', 'value': 'United Arab Emirates'}, 'countryiso3code': 'ARE', 'date': '1998', 'value': None, 'unit': '', 'obs_status': '', 'decimal': 0}, {'indicator': {'id': 'IC.REG.DURS', 'value': 'Time required to start a business (days)'}, 'country': {'id': 'AE', 'value': 'United Arab Emirates'}, 'countryiso3code': 'ARE', 'date': '1997', 'value': None, 'unit': '', 'obs_status': '', 'decimal': 0}, {'indicator': {'id': 'IC.REG.DURS', 'value': 'Time required to start a business (days)'}, 'country': {'id': 'AE', 'value': 'United Arab Emirates'}, 'countryiso3code': 'ARE', 'date': '1996', 'value': None, 'unit': '', 'obs_status': '', 'decimal': 0}, {'indicator': {'id': 'IC.REG.DURS', 'value': 'Time required to start a business (days)'}, 'country': {'id': 'AE', 'value': 'United Arab Emirates'}, 'countryiso3code': 'ARE', 'date': '1995', 'value': None, 'unit': '', 'obs_status': '', 'decimal': 0}, {'indicator': {'id': 'IC.REG.DURS', 'value': 'Time required to start a business (days)'}, 'country': {'id': 'AE', 'value': 'United Arab Emirates'}, 'countryiso3code': 'ARE', 'date': '1994', 'value': None, 'unit': '', 'obs_status': '', 'decimal': 0}, {'indicator': {'id': 'IC.REG.DURS', 'value': 'Time required to start a business (days)'}, 'country': {'id': 'AE', 'value': 'United Arab Emirates'}, 'countryiso3code': 'ARE', 'date': '1993', 'value': None, 'unit': '', 'obs_status': '', 'decimal': 0}, {'indicator': {'id': 'IC.REG.DURS', 'value': 'Time required to start a business (days)'}, 'country': {'id': 'AE', 'value': 'United Arab Emirates'}, 'countryiso3code': 'ARE', 'date': '1992', 'value': None, 'unit': '', 'obs_status': '', 'decimal': 0}, {'indicator': {'id': 'IC.REG.DURS', 'value': 'Time required to start a business (days)'}, 'country': {'id': 'AE', 'value': 'United Arab Emirates'}, 'countryiso3code': 'ARE', 'date': '1991', 'value': None, 'unit': '', 'obs_status': '', 'decimal': 0}, {'indicator': {'id': 'IC.REG.DURS', 'value': 'Time required to start a business (days)'}, 'country': {'id': 'AE', 'value': 'United Arab Emirates'}, 'countryiso3code': 'ARE', 'date': '1990', 'value': None, 'unit': '', 'obs_status': '', 'decimal': 0}, {'indicator': {'id': 'IC.REG.DURS', 'value': 'Time required to start a business (days)'}, 'country': {'id': 'AE', 'value': 'United Arab Emirates'}, 'countryiso3code': 'ARE', 'date': '1989', 'value': None, 'unit': '', 'obs_status': '', 'decimal': 0}, {'indicator': {'id': 'IC.REG.DURS', 'value': 'Time required to start a business (days)'}, 'country': {'id': 'AE', 'value': 'United Arab Emirates'}, 'countryiso3code': 'ARE', 'date': '1988', 'value': None, 'unit': '', 'obs_status': '', 'decimal': 0}, {'indicator': {'id': 'IC.REG.DURS', 'value': 'Time required to start a business (days)'}, 'country': {'id': 'AE', 'value': 'United Arab Emirates'}, 'countryiso3code': 'ARE', 'date': '1987', 'value': None, 'unit': '', 'obs_status': '', 'decimal': 0}, {'indicator': {'id': 'IC.REG.DURS', 'value': 'Time required to start a business (days)'}, 'country': {'id': 'AE', 'value': 'United Arab Emirates'}, 'countryiso3code': 'ARE', 'date': '1986', 'value': None, 'unit': '', 'obs_status': '', 'decimal': 0}, {'indicator': {'id': 'IC.REG.DURS', 'value': 'Time required to start a business (days)'}, 'country': {'id': 'AE', 'value': 'United Arab Emirates'}, 'countryiso3code': 'ARE', 'date': '1985', 'value': None, 'unit': '', 'obs_status': '', 'decimal': 0}, {'indicator': {'id': 'IC.REG.DURS', 'value': 'Time required to start a business (days)'}, 'country': {'id': 'AE', 'value': 'United Arab Emirates'}, 'countryiso3code': 'ARE', 'date': '1984', 'value': None, 'unit': '', 'obs_status': '', 'decimal': 0}, {'indicator': {'id': 'IC.REG.DURS', 'value': 'Time required to start a business (days)'}, 'country': {'id': 'AE', 'value': 'United Arab Emirates'}, 'countryiso3code': 'ARE', 'date': '1983', 'value': None, 'unit': '', 'obs_status': '', 'decimal': 0}, {'indicator': {'id': 'IC.REG.DURS', 'value': 'Time required to start a business (days)'}, 'country': {'id': 'AE', 'value': 'United Arab Emirates'}, 'countryiso3code': 'ARE', 'date': '1982', 'value': None, 'unit': '', 'obs_status': '', 'decimal': 0}, {'indicator': {'id': 'IC.REG.DURS', 'value': 'Time required to start a business (days)'}, 'country': {'id': 'AE', 'value': 'United Arab Emirates'}, 'countryiso3code': 'ARE', 'date': '1981', 'value': None, 'unit': '', 'obs_status': '', 'decimal': 0}, {'indicator': {'id': 'IC.REG.DURS', 'value': 'Time required to start a business (days)'}, 'country': {'id': 'AE', 'value': 'United Arab Emirates'}, 'countryiso3code': 'ARE', 'date': '1980', 'value': None, 'unit': '', 'obs_status': '', 'decimal': 0}, {'indicator': {'id': 'IC.REG.DURS', 'value': 'Time required to start a business (days)'}, 'country': {'id': 'AE', 'value': 'United Arab Emirates'}, 'countryiso3code': 'ARE', 'date': '1979', 'value': None, 'unit': '', 'obs_status': '', 'decimal': 0}, {'indicator': {'id': 'IC.REG.DURS', 'value': 'Time required to start a business (days)'}, 'country': {'id': 'AE', 'value': 'United Arab Emirates'}, 'countryiso3code': 'ARE', 'date': '1978', 'value': None, 'unit': '', 'obs_status': '', 'decimal': 0}, {'indicator': {'id': 'IC.REG.DURS', 'value': 'Time required to start a business (days)'}, 'country': {'id': 'AE', 'value': 'United Arab Emirates'}, 'countryiso3code': 'ARE', 'date': '1977', 'value': None, 'unit': '', 'obs_status': '', 'decimal': 0}, {'indicator': {'id': 'IC.REG.DURS', 'value': 'Time required to start a business (days)'}, 'country': {'id': 'AE', 'value': 'United Arab Emirates'}, 'countryiso3code': 'ARE', 'date': '1976', 'value': None, 'unit': '', 'obs_status': '', 'decimal': 0}, {'indicator': {'id': 'IC.REG.DURS', 'value': 'Time required to start a business (days)'}, 'country': {'id': 'AE', 'value': 'United Arab Emirates'}, 'countryiso3code': 'ARE', 'date': '1975', 'value': None, 'unit': '', 'obs_status': '', 'decimal': 0}, {'indicator': {'id': 'IC.REG.DURS', 'value': 'Time required to start a business (days)'}, 'country': {'id': 'AE', 'value': 'United Arab Emirates'}, 'countryiso3code': 'ARE', 'date': '1974', 'value': None, 'unit': '', 'obs_status': '', 'decimal': 0}, {'indicator': {'id': 'IC.REG.DURS', 'value': 'Time required to start a business (days)'}, 'country': {'id': 'AE', 'value': 'United Arab Emirates'}, 'countryiso3code': 'ARE', 'date': '1973', 'value': None, 'unit': '', 'obs_status': '', 'decimal': 0}, {'indicator': {'id': 'IC.REG.DURS', 'value': 'Time required to start a business (days)'}, 'country': {'id': 'AE', 'value': 'United Arab Emirates'}, 'countryiso3code': 'ARE', 'date': '1972', 'value': None, 'unit': '', 'obs_status': '', 'decimal': 0}, {'indicator': {'id': 'IC.REG.DURS', 'value': 'Time required to start a business (days)'}, 'country': {'id': 'AE', 'value': 'United Arab Emirates'}, 'countryiso3code': 'ARE', 'date': '1971', 'value': None, 'unit': '', 'obs_status': '', 'decimal': 0}]]\n",
            "WB_data_ARE.json\n"
          ]
        },
        {
          "output_type": "display_data",
          "data": {
            "application/javascript": [
              "\n",
              "    async function download(id, filename, size) {\n",
              "      if (!google.colab.kernel.accessAllowed) {\n",
              "        return;\n",
              "      }\n",
              "      const div = document.createElement('div');\n",
              "      const label = document.createElement('label');\n",
              "      label.textContent = `Downloading \"${filename}\": `;\n",
              "      div.appendChild(label);\n",
              "      const progress = document.createElement('progress');\n",
              "      progress.max = size;\n",
              "      div.appendChild(progress);\n",
              "      document.body.appendChild(div);\n",
              "\n",
              "      const buffers = [];\n",
              "      let downloaded = 0;\n",
              "\n",
              "      const channel = await google.colab.kernel.comms.open(id);\n",
              "      // Send a message to notify the kernel that we're ready.\n",
              "      channel.send({})\n",
              "\n",
              "      for await (const message of channel.messages) {\n",
              "        // Send a message to notify the kernel that we're ready.\n",
              "        channel.send({})\n",
              "        if (message.buffers) {\n",
              "          for (const buffer of message.buffers) {\n",
              "            buffers.push(buffer);\n",
              "            downloaded += buffer.byteLength;\n",
              "            progress.value = downloaded;\n",
              "          }\n",
              "        }\n",
              "      }\n",
              "      const blob = new Blob(buffers, {type: 'application/binary'});\n",
              "      const a = document.createElement('a');\n",
              "      a.href = window.URL.createObjectURL(blob);\n",
              "      a.download = filename;\n",
              "      div.appendChild(a);\n",
              "      a.click();\n",
              "      div.remove();\n",
              "    }\n",
              "  "
            ],
            "text/plain": [
              "<IPython.core.display.Javascript object>"
            ]
          },
          "metadata": {}
        },
        {
          "output_type": "display_data",
          "data": {
            "application/javascript": [
              "download(\"download_733ca676-2aba-41a7-81d3-0b6942161681\", \"WB_data_ARE.json\", 23018)"
            ],
            "text/plain": [
              "<IPython.core.display.Javascript object>"
            ]
          },
          "metadata": {}
        },
        {
          "output_type": "stream",
          "name": "stdout",
          "text": [
            "IRN\n",
            "http://api.worldbank.org/v2/country/IRN/indicator/IC.REG.DURS?format=json\n",
            "[{'page': 1, 'pages': 2, 'per_page': 50, 'total': 61, 'sourceid': '2', 'sourcename': 'World Development Indicators', 'lastupdated': '2021-10-28'}, [{'indicator': {'id': 'IC.REG.DURS', 'value': 'Time required to start a business (days)'}, 'country': {'id': 'IR', 'value': 'Iran, Islamic Rep.'}, 'countryiso3code': 'IRN', 'date': '2020', 'value': None, 'unit': '', 'obs_status': '', 'decimal': 0}, {'indicator': {'id': 'IC.REG.DURS', 'value': 'Time required to start a business (days)'}, 'country': {'id': 'IR', 'value': 'Iran, Islamic Rep.'}, 'countryiso3code': 'IRN', 'date': '2019', 'value': 72.5, 'unit': '', 'obs_status': '', 'decimal': 0}, {'indicator': {'id': 'IC.REG.DURS', 'value': 'Time required to start a business (days)'}, 'country': {'id': 'IR', 'value': 'Iran, Islamic Rep.'}, 'countryiso3code': 'IRN', 'date': '2018', 'value': 72.5, 'unit': '', 'obs_status': '', 'decimal': 0}, {'indicator': {'id': 'IC.REG.DURS', 'value': 'Time required to start a business (days)'}, 'country': {'id': 'IR', 'value': 'Iran, Islamic Rep.'}, 'countryiso3code': 'IRN', 'date': '2017', 'value': 72.5, 'unit': '', 'obs_status': '', 'decimal': 0}, {'indicator': {'id': 'IC.REG.DURS', 'value': 'Time required to start a business (days)'}, 'country': {'id': 'IR', 'value': 'Iran, Islamic Rep.'}, 'countryiso3code': 'IRN', 'date': '2016', 'value': 72.5, 'unit': '', 'obs_status': '', 'decimal': 0}, {'indicator': {'id': 'IC.REG.DURS', 'value': 'Time required to start a business (days)'}, 'country': {'id': 'IR', 'value': 'Iran, Islamic Rep.'}, 'countryiso3code': 'IRN', 'date': '2015', 'value': 72.5, 'unit': '', 'obs_status': '', 'decimal': 0}, {'indicator': {'id': 'IC.REG.DURS', 'value': 'Time required to start a business (days)'}, 'country': {'id': 'IR', 'value': 'Iran, Islamic Rep.'}, 'countryiso3code': 'IRN', 'date': '2014', 'value': 72.5, 'unit': '', 'obs_status': '', 'decimal': 0}, {'indicator': {'id': 'IC.REG.DURS', 'value': 'Time required to start a business (days)'}, 'country': {'id': 'IR', 'value': 'Iran, Islamic Rep.'}, 'countryiso3code': 'IRN', 'date': '2013', 'value': 73.5, 'unit': '', 'obs_status': '', 'decimal': 0}, {'indicator': {'id': 'IC.REG.DURS', 'value': 'Time required to start a business (days)'}, 'country': {'id': 'IR', 'value': 'Iran, Islamic Rep.'}, 'countryiso3code': 'IRN', 'date': '2012', 'value': 73.5, 'unit': '', 'obs_status': '', 'decimal': 0}, {'indicator': {'id': 'IC.REG.DURS', 'value': 'Time required to start a business (days)'}, 'country': {'id': 'IR', 'value': 'Iran, Islamic Rep.'}, 'countryiso3code': 'IRN', 'date': '2011', 'value': 64.5, 'unit': '', 'obs_status': '', 'decimal': 0}, {'indicator': {'id': 'IC.REG.DURS', 'value': 'Time required to start a business (days)'}, 'country': {'id': 'IR', 'value': 'Iran, Islamic Rep.'}, 'countryiso3code': 'IRN', 'date': '2010', 'value': 64.5, 'unit': '', 'obs_status': '', 'decimal': 0}, {'indicator': {'id': 'IC.REG.DURS', 'value': 'Time required to start a business (days)'}, 'country': {'id': 'IR', 'value': 'Iran, Islamic Rep.'}, 'countryiso3code': 'IRN', 'date': '2009', 'value': 62.5, 'unit': '', 'obs_status': '', 'decimal': 0}, {'indicator': {'id': 'IC.REG.DURS', 'value': 'Time required to start a business (days)'}, 'country': {'id': 'IR', 'value': 'Iran, Islamic Rep.'}, 'countryiso3code': 'IRN', 'date': '2008', 'value': 80.5, 'unit': '', 'obs_status': '', 'decimal': 0}, {'indicator': {'id': 'IC.REG.DURS', 'value': 'Time required to start a business (days)'}, 'country': {'id': 'IR', 'value': 'Iran, Islamic Rep.'}, 'countryiso3code': 'IRN', 'date': '2007', 'value': 80.5, 'unit': '', 'obs_status': '', 'decimal': 0}, {'indicator': {'id': 'IC.REG.DURS', 'value': 'Time required to start a business (days)'}, 'country': {'id': 'IR', 'value': 'Iran, Islamic Rep.'}, 'countryiso3code': 'IRN', 'date': '2006', 'value': 80.5, 'unit': '', 'obs_status': '', 'decimal': 0}, {'indicator': {'id': 'IC.REG.DURS', 'value': 'Time required to start a business (days)'}, 'country': {'id': 'IR', 'value': 'Iran, Islamic Rep.'}, 'countryiso3code': 'IRN', 'date': '2005', 'value': 80.5, 'unit': '', 'obs_status': '', 'decimal': 0}, {'indicator': {'id': 'IC.REG.DURS', 'value': 'Time required to start a business (days)'}, 'country': {'id': 'IR', 'value': 'Iran, Islamic Rep.'}, 'countryiso3code': 'IRN', 'date': '2004', 'value': 81.5, 'unit': '', 'obs_status': '', 'decimal': 0}, {'indicator': {'id': 'IC.REG.DURS', 'value': 'Time required to start a business (days)'}, 'country': {'id': 'IR', 'value': 'Iran, Islamic Rep.'}, 'countryiso3code': 'IRN', 'date': '2003', 'value': 81.5, 'unit': '', 'obs_status': '', 'decimal': 0}, {'indicator': {'id': 'IC.REG.DURS', 'value': 'Time required to start a business (days)'}, 'country': {'id': 'IR', 'value': 'Iran, Islamic Rep.'}, 'countryiso3code': 'IRN', 'date': '2002', 'value': None, 'unit': '', 'obs_status': '', 'decimal': 0}, {'indicator': {'id': 'IC.REG.DURS', 'value': 'Time required to start a business (days)'}, 'country': {'id': 'IR', 'value': 'Iran, Islamic Rep.'}, 'countryiso3code': 'IRN', 'date': '2001', 'value': None, 'unit': '', 'obs_status': '', 'decimal': 0}, {'indicator': {'id': 'IC.REG.DURS', 'value': 'Time required to start a business (days)'}, 'country': {'id': 'IR', 'value': 'Iran, Islamic Rep.'}, 'countryiso3code': 'IRN', 'date': '2000', 'value': None, 'unit': '', 'obs_status': '', 'decimal': 0}, {'indicator': {'id': 'IC.REG.DURS', 'value': 'Time required to start a business (days)'}, 'country': {'id': 'IR', 'value': 'Iran, Islamic Rep.'}, 'countryiso3code': 'IRN', 'date': '1999', 'value': None, 'unit': '', 'obs_status': '', 'decimal': 0}, {'indicator': {'id': 'IC.REG.DURS', 'value': 'Time required to start a business (days)'}, 'country': {'id': 'IR', 'value': 'Iran, Islamic Rep.'}, 'countryiso3code': 'IRN', 'date': '1998', 'value': None, 'unit': '', 'obs_status': '', 'decimal': 0}, {'indicator': {'id': 'IC.REG.DURS', 'value': 'Time required to start a business (days)'}, 'country': {'id': 'IR', 'value': 'Iran, Islamic Rep.'}, 'countryiso3code': 'IRN', 'date': '1997', 'value': None, 'unit': '', 'obs_status': '', 'decimal': 0}, {'indicator': {'id': 'IC.REG.DURS', 'value': 'Time required to start a business (days)'}, 'country': {'id': 'IR', 'value': 'Iran, Islamic Rep.'}, 'countryiso3code': 'IRN', 'date': '1996', 'value': None, 'unit': '', 'obs_status': '', 'decimal': 0}, {'indicator': {'id': 'IC.REG.DURS', 'value': 'Time required to start a business (days)'}, 'country': {'id': 'IR', 'value': 'Iran, Islamic Rep.'}, 'countryiso3code': 'IRN', 'date': '1995', 'value': None, 'unit': '', 'obs_status': '', 'decimal': 0}, {'indicator': {'id': 'IC.REG.DURS', 'value': 'Time required to start a business (days)'}, 'country': {'id': 'IR', 'value': 'Iran, Islamic Rep.'}, 'countryiso3code': 'IRN', 'date': '1994', 'value': None, 'unit': '', 'obs_status': '', 'decimal': 0}, {'indicator': {'id': 'IC.REG.DURS', 'value': 'Time required to start a business (days)'}, 'country': {'id': 'IR', 'value': 'Iran, Islamic Rep.'}, 'countryiso3code': 'IRN', 'date': '1993', 'value': None, 'unit': '', 'obs_status': '', 'decimal': 0}, {'indicator': {'id': 'IC.REG.DURS', 'value': 'Time required to start a business (days)'}, 'country': {'id': 'IR', 'value': 'Iran, Islamic Rep.'}, 'countryiso3code': 'IRN', 'date': '1992', 'value': None, 'unit': '', 'obs_status': '', 'decimal': 0}, {'indicator': {'id': 'IC.REG.DURS', 'value': 'Time required to start a business (days)'}, 'country': {'id': 'IR', 'value': 'Iran, Islamic Rep.'}, 'countryiso3code': 'IRN', 'date': '1991', 'value': None, 'unit': '', 'obs_status': '', 'decimal': 0}, {'indicator': {'id': 'IC.REG.DURS', 'value': 'Time required to start a business (days)'}, 'country': {'id': 'IR', 'value': 'Iran, Islamic Rep.'}, 'countryiso3code': 'IRN', 'date': '1990', 'value': None, 'unit': '', 'obs_status': '', 'decimal': 0}, {'indicator': {'id': 'IC.REG.DURS', 'value': 'Time required to start a business (days)'}, 'country': {'id': 'IR', 'value': 'Iran, Islamic Rep.'}, 'countryiso3code': 'IRN', 'date': '1989', 'value': None, 'unit': '', 'obs_status': '', 'decimal': 0}, {'indicator': {'id': 'IC.REG.DURS', 'value': 'Time required to start a business (days)'}, 'country': {'id': 'IR', 'value': 'Iran, Islamic Rep.'}, 'countryiso3code': 'IRN', 'date': '1988', 'value': None, 'unit': '', 'obs_status': '', 'decimal': 0}, {'indicator': {'id': 'IC.REG.DURS', 'value': 'Time required to start a business (days)'}, 'country': {'id': 'IR', 'value': 'Iran, Islamic Rep.'}, 'countryiso3code': 'IRN', 'date': '1987', 'value': None, 'unit': '', 'obs_status': '', 'decimal': 0}, {'indicator': {'id': 'IC.REG.DURS', 'value': 'Time required to start a business (days)'}, 'country': {'id': 'IR', 'value': 'Iran, Islamic Rep.'}, 'countryiso3code': 'IRN', 'date': '1986', 'value': None, 'unit': '', 'obs_status': '', 'decimal': 0}, {'indicator': {'id': 'IC.REG.DURS', 'value': 'Time required to start a business (days)'}, 'country': {'id': 'IR', 'value': 'Iran, Islamic Rep.'}, 'countryiso3code': 'IRN', 'date': '1985', 'value': None, 'unit': '', 'obs_status': '', 'decimal': 0}, {'indicator': {'id': 'IC.REG.DURS', 'value': 'Time required to start a business (days)'}, 'country': {'id': 'IR', 'value': 'Iran, Islamic Rep.'}, 'countryiso3code': 'IRN', 'date': '1984', 'value': None, 'unit': '', 'obs_status': '', 'decimal': 0}, {'indicator': {'id': 'IC.REG.DURS', 'value': 'Time required to start a business (days)'}, 'country': {'id': 'IR', 'value': 'Iran, Islamic Rep.'}, 'countryiso3code': 'IRN', 'date': '1983', 'value': None, 'unit': '', 'obs_status': '', 'decimal': 0}, {'indicator': {'id': 'IC.REG.DURS', 'value': 'Time required to start a business (days)'}, 'country': {'id': 'IR', 'value': 'Iran, Islamic Rep.'}, 'countryiso3code': 'IRN', 'date': '1982', 'value': None, 'unit': '', 'obs_status': '', 'decimal': 0}, {'indicator': {'id': 'IC.REG.DURS', 'value': 'Time required to start a business (days)'}, 'country': {'id': 'IR', 'value': 'Iran, Islamic Rep.'}, 'countryiso3code': 'IRN', 'date': '1981', 'value': None, 'unit': '', 'obs_status': '', 'decimal': 0}, {'indicator': {'id': 'IC.REG.DURS', 'value': 'Time required to start a business (days)'}, 'country': {'id': 'IR', 'value': 'Iran, Islamic Rep.'}, 'countryiso3code': 'IRN', 'date': '1980', 'value': None, 'unit': '', 'obs_status': '', 'decimal': 0}, {'indicator': {'id': 'IC.REG.DURS', 'value': 'Time required to start a business (days)'}, 'country': {'id': 'IR', 'value': 'Iran, Islamic Rep.'}, 'countryiso3code': 'IRN', 'date': '1979', 'value': None, 'unit': '', 'obs_status': '', 'decimal': 0}, {'indicator': {'id': 'IC.REG.DURS', 'value': 'Time required to start a business (days)'}, 'country': {'id': 'IR', 'value': 'Iran, Islamic Rep.'}, 'countryiso3code': 'IRN', 'date': '1978', 'value': None, 'unit': '', 'obs_status': '', 'decimal': 0}, {'indicator': {'id': 'IC.REG.DURS', 'value': 'Time required to start a business (days)'}, 'country': {'id': 'IR', 'value': 'Iran, Islamic Rep.'}, 'countryiso3code': 'IRN', 'date': '1977', 'value': None, 'unit': '', 'obs_status': '', 'decimal': 0}, {'indicator': {'id': 'IC.REG.DURS', 'value': 'Time required to start a business (days)'}, 'country': {'id': 'IR', 'value': 'Iran, Islamic Rep.'}, 'countryiso3code': 'IRN', 'date': '1976', 'value': None, 'unit': '', 'obs_status': '', 'decimal': 0}, {'indicator': {'id': 'IC.REG.DURS', 'value': 'Time required to start a business (days)'}, 'country': {'id': 'IR', 'value': 'Iran, Islamic Rep.'}, 'countryiso3code': 'IRN', 'date': '1975', 'value': None, 'unit': '', 'obs_status': '', 'decimal': 0}, {'indicator': {'id': 'IC.REG.DURS', 'value': 'Time required to start a business (days)'}, 'country': {'id': 'IR', 'value': 'Iran, Islamic Rep.'}, 'countryiso3code': 'IRN', 'date': '1974', 'value': None, 'unit': '', 'obs_status': '', 'decimal': 0}, {'indicator': {'id': 'IC.REG.DURS', 'value': 'Time required to start a business (days)'}, 'country': {'id': 'IR', 'value': 'Iran, Islamic Rep.'}, 'countryiso3code': 'IRN', 'date': '1973', 'value': None, 'unit': '', 'obs_status': '', 'decimal': 0}, {'indicator': {'id': 'IC.REG.DURS', 'value': 'Time required to start a business (days)'}, 'country': {'id': 'IR', 'value': 'Iran, Islamic Rep.'}, 'countryiso3code': 'IRN', 'date': '1972', 'value': None, 'unit': '', 'obs_status': '', 'decimal': 0}, {'indicator': {'id': 'IC.REG.DURS', 'value': 'Time required to start a business (days)'}, 'country': {'id': 'IR', 'value': 'Iran, Islamic Rep.'}, 'countryiso3code': 'IRN', 'date': '1971', 'value': None, 'unit': '', 'obs_status': '', 'decimal': 0}]]\n",
            "WB_data_IRN.json\n"
          ]
        },
        {
          "output_type": "display_data",
          "data": {
            "application/javascript": [
              "\n",
              "    async function download(id, filename, size) {\n",
              "      if (!google.colab.kernel.accessAllowed) {\n",
              "        return;\n",
              "      }\n",
              "      const div = document.createElement('div');\n",
              "      const label = document.createElement('label');\n",
              "      label.textContent = `Downloading \"${filename}\": `;\n",
              "      div.appendChild(label);\n",
              "      const progress = document.createElement('progress');\n",
              "      progress.max = size;\n",
              "      div.appendChild(progress);\n",
              "      document.body.appendChild(div);\n",
              "\n",
              "      const buffers = [];\n",
              "      let downloaded = 0;\n",
              "\n",
              "      const channel = await google.colab.kernel.comms.open(id);\n",
              "      // Send a message to notify the kernel that we're ready.\n",
              "      channel.send({})\n",
              "\n",
              "      for await (const message of channel.messages) {\n",
              "        // Send a message to notify the kernel that we're ready.\n",
              "        channel.send({})\n",
              "        if (message.buffers) {\n",
              "          for (const buffer of message.buffers) {\n",
              "            buffers.push(buffer);\n",
              "            downloaded += buffer.byteLength;\n",
              "            progress.value = downloaded;\n",
              "          }\n",
              "        }\n",
              "      }\n",
              "      const blob = new Blob(buffers, {type: 'application/binary'});\n",
              "      const a = document.createElement('a');\n",
              "      a.href = window.URL.createObjectURL(blob);\n",
              "      a.download = filename;\n",
              "      div.appendChild(a);\n",
              "      a.click();\n",
              "      div.remove();\n",
              "    }\n",
              "  "
            ],
            "text/plain": [
              "<IPython.core.display.Javascript object>"
            ]
          },
          "metadata": {}
        },
        {
          "output_type": "display_data",
          "data": {
            "application/javascript": [
              "download(\"download_8a48858f-04cf-46b7-8ad3-fc533e1556ea\", \"WB_data_IRN.json\", 22926)"
            ],
            "text/plain": [
              "<IPython.core.display.Javascript object>"
            ]
          },
          "metadata": {}
        },
        {
          "output_type": "stream",
          "name": "stdout",
          "text": [
            "IND\n",
            "http://api.worldbank.org/v2/country/IND/indicator/IC.REG.DURS?format=json\n",
            "[{'page': 1, 'pages': 2, 'per_page': 50, 'total': 61, 'sourceid': '2', 'sourcename': 'World Development Indicators', 'lastupdated': '2021-10-28'}, [{'indicator': {'id': 'IC.REG.DURS', 'value': 'Time required to start a business (days)'}, 'country': {'id': 'IN', 'value': 'India'}, 'countryiso3code': 'IND', 'date': '2020', 'value': None, 'unit': '', 'obs_status': '', 'decimal': 0}, {'indicator': {'id': 'IC.REG.DURS', 'value': 'Time required to start a business (days)'}, 'country': {'id': 'IN', 'value': 'India'}, 'countryiso3code': 'IND', 'date': '2019', 'value': 17.5, 'unit': '', 'obs_status': '', 'decimal': 0}, {'indicator': {'id': 'IC.REG.DURS', 'value': 'Time required to start a business (days)'}, 'country': {'id': 'IN', 'value': 'India'}, 'countryiso3code': 'IND', 'date': '2018', 'value': 16.5, 'unit': '', 'obs_status': '', 'decimal': 0}, {'indicator': {'id': 'IC.REG.DURS', 'value': 'Time required to start a business (days)'}, 'country': {'id': 'IN', 'value': 'India'}, 'countryiso3code': 'IND', 'date': '2017', 'value': 29.8, 'unit': '', 'obs_status': '', 'decimal': 0}, {'indicator': {'id': 'IC.REG.DURS', 'value': 'Time required to start a business (days)'}, 'country': {'id': 'IN', 'value': 'India'}, 'countryiso3code': 'IND', 'date': '2016', 'value': 28.5, 'unit': '', 'obs_status': '', 'decimal': 0}, {'indicator': {'id': 'IC.REG.DURS', 'value': 'Time required to start a business (days)'}, 'country': {'id': 'IN', 'value': 'India'}, 'countryiso3code': 'IND', 'date': '2015', 'value': 30, 'unit': '', 'obs_status': '', 'decimal': 0}, {'indicator': {'id': 'IC.REG.DURS', 'value': 'Time required to start a business (days)'}, 'country': {'id': 'IN', 'value': 'India'}, 'countryiso3code': 'IND', 'date': '2014', 'value': 35, 'unit': '', 'obs_status': '', 'decimal': 0}, {'indicator': {'id': 'IC.REG.DURS', 'value': 'Time required to start a business (days)'}, 'country': {'id': 'IN', 'value': 'India'}, 'countryiso3code': 'IND', 'date': '2013', 'value': 32.7, 'unit': '', 'obs_status': '', 'decimal': 0}, {'indicator': {'id': 'IC.REG.DURS', 'value': 'Time required to start a business (days)'}, 'country': {'id': 'IN', 'value': 'India'}, 'countryiso3code': 'IND', 'date': '2012', 'value': None, 'unit': '', 'obs_status': '', 'decimal': 0}, {'indicator': {'id': 'IC.REG.DURS', 'value': 'Time required to start a business (days)'}, 'country': {'id': 'IN', 'value': 'India'}, 'countryiso3code': 'IND', 'date': '2011', 'value': None, 'unit': '', 'obs_status': '', 'decimal': 0}, {'indicator': {'id': 'IC.REG.DURS', 'value': 'Time required to start a business (days)'}, 'country': {'id': 'IN', 'value': 'India'}, 'countryiso3code': 'IND', 'date': '2010', 'value': None, 'unit': '', 'obs_status': '', 'decimal': 0}, {'indicator': {'id': 'IC.REG.DURS', 'value': 'Time required to start a business (days)'}, 'country': {'id': 'IN', 'value': 'India'}, 'countryiso3code': 'IND', 'date': '2009', 'value': None, 'unit': '', 'obs_status': '', 'decimal': 0}, {'indicator': {'id': 'IC.REG.DURS', 'value': 'Time required to start a business (days)'}, 'country': {'id': 'IN', 'value': 'India'}, 'countryiso3code': 'IND', 'date': '2008', 'value': None, 'unit': '', 'obs_status': '', 'decimal': 0}, {'indicator': {'id': 'IC.REG.DURS', 'value': 'Time required to start a business (days)'}, 'country': {'id': 'IN', 'value': 'India'}, 'countryiso3code': 'IND', 'date': '2007', 'value': None, 'unit': '', 'obs_status': '', 'decimal': 0}, {'indicator': {'id': 'IC.REG.DURS', 'value': 'Time required to start a business (days)'}, 'country': {'id': 'IN', 'value': 'India'}, 'countryiso3code': 'IND', 'date': '2006', 'value': None, 'unit': '', 'obs_status': '', 'decimal': 0}, {'indicator': {'id': 'IC.REG.DURS', 'value': 'Time required to start a business (days)'}, 'country': {'id': 'IN', 'value': 'India'}, 'countryiso3code': 'IND', 'date': '2005', 'value': None, 'unit': '', 'obs_status': '', 'decimal': 0}, {'indicator': {'id': 'IC.REG.DURS', 'value': 'Time required to start a business (days)'}, 'country': {'id': 'IN', 'value': 'India'}, 'countryiso3code': 'IND', 'date': '2004', 'value': None, 'unit': '', 'obs_status': '', 'decimal': 0}, {'indicator': {'id': 'IC.REG.DURS', 'value': 'Time required to start a business (days)'}, 'country': {'id': 'IN', 'value': 'India'}, 'countryiso3code': 'IND', 'date': '2003', 'value': None, 'unit': '', 'obs_status': '', 'decimal': 0}, {'indicator': {'id': 'IC.REG.DURS', 'value': 'Time required to start a business (days)'}, 'country': {'id': 'IN', 'value': 'India'}, 'countryiso3code': 'IND', 'date': '2002', 'value': None, 'unit': '', 'obs_status': '', 'decimal': 0}, {'indicator': {'id': 'IC.REG.DURS', 'value': 'Time required to start a business (days)'}, 'country': {'id': 'IN', 'value': 'India'}, 'countryiso3code': 'IND', 'date': '2001', 'value': None, 'unit': '', 'obs_status': '', 'decimal': 0}, {'indicator': {'id': 'IC.REG.DURS', 'value': 'Time required to start a business (days)'}, 'country': {'id': 'IN', 'value': 'India'}, 'countryiso3code': 'IND', 'date': '2000', 'value': None, 'unit': '', 'obs_status': '', 'decimal': 0}, {'indicator': {'id': 'IC.REG.DURS', 'value': 'Time required to start a business (days)'}, 'country': {'id': 'IN', 'value': 'India'}, 'countryiso3code': 'IND', 'date': '1999', 'value': None, 'unit': '', 'obs_status': '', 'decimal': 0}, {'indicator': {'id': 'IC.REG.DURS', 'value': 'Time required to start a business (days)'}, 'country': {'id': 'IN', 'value': 'India'}, 'countryiso3code': 'IND', 'date': '1998', 'value': None, 'unit': '', 'obs_status': '', 'decimal': 0}, {'indicator': {'id': 'IC.REG.DURS', 'value': 'Time required to start a business (days)'}, 'country': {'id': 'IN', 'value': 'India'}, 'countryiso3code': 'IND', 'date': '1997', 'value': None, 'unit': '', 'obs_status': '', 'decimal': 0}, {'indicator': {'id': 'IC.REG.DURS', 'value': 'Time required to start a business (days)'}, 'country': {'id': 'IN', 'value': 'India'}, 'countryiso3code': 'IND', 'date': '1996', 'value': None, 'unit': '', 'obs_status': '', 'decimal': 0}, {'indicator': {'id': 'IC.REG.DURS', 'value': 'Time required to start a business (days)'}, 'country': {'id': 'IN', 'value': 'India'}, 'countryiso3code': 'IND', 'date': '1995', 'value': None, 'unit': '', 'obs_status': '', 'decimal': 0}, {'indicator': {'id': 'IC.REG.DURS', 'value': 'Time required to start a business (days)'}, 'country': {'id': 'IN', 'value': 'India'}, 'countryiso3code': 'IND', 'date': '1994', 'value': None, 'unit': '', 'obs_status': '', 'decimal': 0}, {'indicator': {'id': 'IC.REG.DURS', 'value': 'Time required to start a business (days)'}, 'country': {'id': 'IN', 'value': 'India'}, 'countryiso3code': 'IND', 'date': '1993', 'value': None, 'unit': '', 'obs_status': '', 'decimal': 0}, {'indicator': {'id': 'IC.REG.DURS', 'value': 'Time required to start a business (days)'}, 'country': {'id': 'IN', 'value': 'India'}, 'countryiso3code': 'IND', 'date': '1992', 'value': None, 'unit': '', 'obs_status': '', 'decimal': 0}, {'indicator': {'id': 'IC.REG.DURS', 'value': 'Time required to start a business (days)'}, 'country': {'id': 'IN', 'value': 'India'}, 'countryiso3code': 'IND', 'date': '1991', 'value': None, 'unit': '', 'obs_status': '', 'decimal': 0}, {'indicator': {'id': 'IC.REG.DURS', 'value': 'Time required to start a business (days)'}, 'country': {'id': 'IN', 'value': 'India'}, 'countryiso3code': 'IND', 'date': '1990', 'value': None, 'unit': '', 'obs_status': '', 'decimal': 0}, {'indicator': {'id': 'IC.REG.DURS', 'value': 'Time required to start a business (days)'}, 'country': {'id': 'IN', 'value': 'India'}, 'countryiso3code': 'IND', 'date': '1989', 'value': None, 'unit': '', 'obs_status': '', 'decimal': 0}, {'indicator': {'id': 'IC.REG.DURS', 'value': 'Time required to start a business (days)'}, 'country': {'id': 'IN', 'value': 'India'}, 'countryiso3code': 'IND', 'date': '1988', 'value': None, 'unit': '', 'obs_status': '', 'decimal': 0}, {'indicator': {'id': 'IC.REG.DURS', 'value': 'Time required to start a business (days)'}, 'country': {'id': 'IN', 'value': 'India'}, 'countryiso3code': 'IND', 'date': '1987', 'value': None, 'unit': '', 'obs_status': '', 'decimal': 0}, {'indicator': {'id': 'IC.REG.DURS', 'value': 'Time required to start a business (days)'}, 'country': {'id': 'IN', 'value': 'India'}, 'countryiso3code': 'IND', 'date': '1986', 'value': None, 'unit': '', 'obs_status': '', 'decimal': 0}, {'indicator': {'id': 'IC.REG.DURS', 'value': 'Time required to start a business (days)'}, 'country': {'id': 'IN', 'value': 'India'}, 'countryiso3code': 'IND', 'date': '1985', 'value': None, 'unit': '', 'obs_status': '', 'decimal': 0}, {'indicator': {'id': 'IC.REG.DURS', 'value': 'Time required to start a business (days)'}, 'country': {'id': 'IN', 'value': 'India'}, 'countryiso3code': 'IND', 'date': '1984', 'value': None, 'unit': '', 'obs_status': '', 'decimal': 0}, {'indicator': {'id': 'IC.REG.DURS', 'value': 'Time required to start a business (days)'}, 'country': {'id': 'IN', 'value': 'India'}, 'countryiso3code': 'IND', 'date': '1983', 'value': None, 'unit': '', 'obs_status': '', 'decimal': 0}, {'indicator': {'id': 'IC.REG.DURS', 'value': 'Time required to start a business (days)'}, 'country': {'id': 'IN', 'value': 'India'}, 'countryiso3code': 'IND', 'date': '1982', 'value': None, 'unit': '', 'obs_status': '', 'decimal': 0}, {'indicator': {'id': 'IC.REG.DURS', 'value': 'Time required to start a business (days)'}, 'country': {'id': 'IN', 'value': 'India'}, 'countryiso3code': 'IND', 'date': '1981', 'value': None, 'unit': '', 'obs_status': '', 'decimal': 0}, {'indicator': {'id': 'IC.REG.DURS', 'value': 'Time required to start a business (days)'}, 'country': {'id': 'IN', 'value': 'India'}, 'countryiso3code': 'IND', 'date': '1980', 'value': None, 'unit': '', 'obs_status': '', 'decimal': 0}, {'indicator': {'id': 'IC.REG.DURS', 'value': 'Time required to start a business (days)'}, 'country': {'id': 'IN', 'value': 'India'}, 'countryiso3code': 'IND', 'date': '1979', 'value': None, 'unit': '', 'obs_status': '', 'decimal': 0}, {'indicator': {'id': 'IC.REG.DURS', 'value': 'Time required to start a business (days)'}, 'country': {'id': 'IN', 'value': 'India'}, 'countryiso3code': 'IND', 'date': '1978', 'value': None, 'unit': '', 'obs_status': '', 'decimal': 0}, {'indicator': {'id': 'IC.REG.DURS', 'value': 'Time required to start a business (days)'}, 'country': {'id': 'IN', 'value': 'India'}, 'countryiso3code': 'IND', 'date': '1977', 'value': None, 'unit': '', 'obs_status': '', 'decimal': 0}, {'indicator': {'id': 'IC.REG.DURS', 'value': 'Time required to start a business (days)'}, 'country': {'id': 'IN', 'value': 'India'}, 'countryiso3code': 'IND', 'date': '1976', 'value': None, 'unit': '', 'obs_status': '', 'decimal': 0}, {'indicator': {'id': 'IC.REG.DURS', 'value': 'Time required to start a business (days)'}, 'country': {'id': 'IN', 'value': 'India'}, 'countryiso3code': 'IND', 'date': '1975', 'value': None, 'unit': '', 'obs_status': '', 'decimal': 0}, {'indicator': {'id': 'IC.REG.DURS', 'value': 'Time required to start a business (days)'}, 'country': {'id': 'IN', 'value': 'India'}, 'countryiso3code': 'IND', 'date': '1974', 'value': None, 'unit': '', 'obs_status': '', 'decimal': 0}, {'indicator': {'id': 'IC.REG.DURS', 'value': 'Time required to start a business (days)'}, 'country': {'id': 'IN', 'value': 'India'}, 'countryiso3code': 'IND', 'date': '1973', 'value': None, 'unit': '', 'obs_status': '', 'decimal': 0}, {'indicator': {'id': 'IC.REG.DURS', 'value': 'Time required to start a business (days)'}, 'country': {'id': 'IN', 'value': 'India'}, 'countryiso3code': 'IND', 'date': '1972', 'value': None, 'unit': '', 'obs_status': '', 'decimal': 0}, {'indicator': {'id': 'IC.REG.DURS', 'value': 'Time required to start a business (days)'}, 'country': {'id': 'IN', 'value': 'India'}, 'countryiso3code': 'IND', 'date': '1971', 'value': None, 'unit': '', 'obs_status': '', 'decimal': 0}]]\n",
            "WB_data_IND.json\n"
          ]
        },
        {
          "output_type": "display_data",
          "data": {
            "application/javascript": [
              "\n",
              "    async function download(id, filename, size) {\n",
              "      if (!google.colab.kernel.accessAllowed) {\n",
              "        return;\n",
              "      }\n",
              "      const div = document.createElement('div');\n",
              "      const label = document.createElement('label');\n",
              "      label.textContent = `Downloading \"${filename}\": `;\n",
              "      div.appendChild(label);\n",
              "      const progress = document.createElement('progress');\n",
              "      progress.max = size;\n",
              "      div.appendChild(progress);\n",
              "      document.body.appendChild(div);\n",
              "\n",
              "      const buffers = [];\n",
              "      let downloaded = 0;\n",
              "\n",
              "      const channel = await google.colab.kernel.comms.open(id);\n",
              "      // Send a message to notify the kernel that we're ready.\n",
              "      channel.send({})\n",
              "\n",
              "      for await (const message of channel.messages) {\n",
              "        // Send a message to notify the kernel that we're ready.\n",
              "        channel.send({})\n",
              "        if (message.buffers) {\n",
              "          for (const buffer of message.buffers) {\n",
              "            buffers.push(buffer);\n",
              "            downloaded += buffer.byteLength;\n",
              "            progress.value = downloaded;\n",
              "          }\n",
              "        }\n",
              "      }\n",
              "      const blob = new Blob(buffers, {type: 'application/binary'});\n",
              "      const a = document.createElement('a');\n",
              "      a.href = window.URL.createObjectURL(blob);\n",
              "      a.download = filename;\n",
              "      div.appendChild(a);\n",
              "      a.click();\n",
              "      div.remove();\n",
              "    }\n",
              "  "
            ],
            "text/plain": [
              "<IPython.core.display.Javascript object>"
            ]
          },
          "metadata": {}
        },
        {
          "output_type": "display_data",
          "data": {
            "application/javascript": [
              "download(\"download_196837a8-6007-4dca-9dad-f4228df4890d\", \"WB_data_IND.json\", 22272)"
            ],
            "text/plain": [
              "<IPython.core.display.Javascript object>"
            ]
          },
          "metadata": {}
        },
        {
          "output_type": "stream",
          "name": "stdout",
          "text": [
            "KAZ\n",
            "http://api.worldbank.org/v2/country/KAZ/indicator/IC.REG.DURS?format=json\n",
            "[{'page': 1, 'pages': 2, 'per_page': 50, 'total': 61, 'sourceid': '2', 'sourcename': 'World Development Indicators', 'lastupdated': '2021-10-28'}, [{'indicator': {'id': 'IC.REG.DURS', 'value': 'Time required to start a business (days)'}, 'country': {'id': 'KZ', 'value': 'Kazakhstan'}, 'countryiso3code': 'KAZ', 'date': '2020', 'value': None, 'unit': '', 'obs_status': '', 'decimal': 0}, {'indicator': {'id': 'IC.REG.DURS', 'value': 'Time required to start a business (days)'}, 'country': {'id': 'KZ', 'value': 'Kazakhstan'}, 'countryiso3code': 'KAZ', 'date': '2019', 'value': 5, 'unit': '', 'obs_status': '', 'decimal': 0}, {'indicator': {'id': 'IC.REG.DURS', 'value': 'Time required to start a business (days)'}, 'country': {'id': 'KZ', 'value': 'Kazakhstan'}, 'countryiso3code': 'KAZ', 'date': '2018', 'value': 5, 'unit': '', 'obs_status': '', 'decimal': 0}, {'indicator': {'id': 'IC.REG.DURS', 'value': 'Time required to start a business (days)'}, 'country': {'id': 'KZ', 'value': 'Kazakhstan'}, 'countryiso3code': 'KAZ', 'date': '2017', 'value': 9, 'unit': '', 'obs_status': '', 'decimal': 0}, {'indicator': {'id': 'IC.REG.DURS', 'value': 'Time required to start a business (days)'}, 'country': {'id': 'KZ', 'value': 'Kazakhstan'}, 'countryiso3code': 'KAZ', 'date': '2016', 'value': 9, 'unit': '', 'obs_status': '', 'decimal': 0}, {'indicator': {'id': 'IC.REG.DURS', 'value': 'Time required to start a business (days)'}, 'country': {'id': 'KZ', 'value': 'Kazakhstan'}, 'countryiso3code': 'KAZ', 'date': '2015', 'value': 11, 'unit': '', 'obs_status': '', 'decimal': 0}, {'indicator': {'id': 'IC.REG.DURS', 'value': 'Time required to start a business (days)'}, 'country': {'id': 'KZ', 'value': 'Kazakhstan'}, 'countryiso3code': 'KAZ', 'date': '2014', 'value': 16, 'unit': '', 'obs_status': '', 'decimal': 0}, {'indicator': {'id': 'IC.REG.DURS', 'value': 'Time required to start a business (days)'}, 'country': {'id': 'KZ', 'value': 'Kazakhstan'}, 'countryiso3code': 'KAZ', 'date': '2013', 'value': 18, 'unit': '', 'obs_status': '', 'decimal': 0}, {'indicator': {'id': 'IC.REG.DURS', 'value': 'Time required to start a business (days)'}, 'country': {'id': 'KZ', 'value': 'Kazakhstan'}, 'countryiso3code': 'KAZ', 'date': '2012', 'value': 25, 'unit': '', 'obs_status': '', 'decimal': 0}, {'indicator': {'id': 'IC.REG.DURS', 'value': 'Time required to start a business (days)'}, 'country': {'id': 'KZ', 'value': 'Kazakhstan'}, 'countryiso3code': 'KAZ', 'date': '2011', 'value': 25, 'unit': '', 'obs_status': '', 'decimal': 0}, {'indicator': {'id': 'IC.REG.DURS', 'value': 'Time required to start a business (days)'}, 'country': {'id': 'KZ', 'value': 'Kazakhstan'}, 'countryiso3code': 'KAZ', 'date': '2010', 'value': 25, 'unit': '', 'obs_status': '', 'decimal': 0}, {'indicator': {'id': 'IC.REG.DURS', 'value': 'Time required to start a business (days)'}, 'country': {'id': 'KZ', 'value': 'Kazakhstan'}, 'countryiso3code': 'KAZ', 'date': '2009', 'value': 26, 'unit': '', 'obs_status': '', 'decimal': 0}, {'indicator': {'id': 'IC.REG.DURS', 'value': 'Time required to start a business (days)'}, 'country': {'id': 'KZ', 'value': 'Kazakhstan'}, 'countryiso3code': 'KAZ', 'date': '2008', 'value': 27, 'unit': '', 'obs_status': '', 'decimal': 0}, {'indicator': {'id': 'IC.REG.DURS', 'value': 'Time required to start a business (days)'}, 'country': {'id': 'KZ', 'value': 'Kazakhstan'}, 'countryiso3code': 'KAZ', 'date': '2007', 'value': 27, 'unit': '', 'obs_status': '', 'decimal': 0}, {'indicator': {'id': 'IC.REG.DURS', 'value': 'Time required to start a business (days)'}, 'country': {'id': 'KZ', 'value': 'Kazakhstan'}, 'countryiso3code': 'KAZ', 'date': '2006', 'value': 27, 'unit': '', 'obs_status': '', 'decimal': 0}, {'indicator': {'id': 'IC.REG.DURS', 'value': 'Time required to start a business (days)'}, 'country': {'id': 'KZ', 'value': 'Kazakhstan'}, 'countryiso3code': 'KAZ', 'date': '2005', 'value': 31, 'unit': '', 'obs_status': '', 'decimal': 0}, {'indicator': {'id': 'IC.REG.DURS', 'value': 'Time required to start a business (days)'}, 'country': {'id': 'KZ', 'value': 'Kazakhstan'}, 'countryiso3code': 'KAZ', 'date': '2004', 'value': 32, 'unit': '', 'obs_status': '', 'decimal': 0}, {'indicator': {'id': 'IC.REG.DURS', 'value': 'Time required to start a business (days)'}, 'country': {'id': 'KZ', 'value': 'Kazakhstan'}, 'countryiso3code': 'KAZ', 'date': '2003', 'value': 32, 'unit': '', 'obs_status': '', 'decimal': 0}, {'indicator': {'id': 'IC.REG.DURS', 'value': 'Time required to start a business (days)'}, 'country': {'id': 'KZ', 'value': 'Kazakhstan'}, 'countryiso3code': 'KAZ', 'date': '2002', 'value': None, 'unit': '', 'obs_status': '', 'decimal': 0}, {'indicator': {'id': 'IC.REG.DURS', 'value': 'Time required to start a business (days)'}, 'country': {'id': 'KZ', 'value': 'Kazakhstan'}, 'countryiso3code': 'KAZ', 'date': '2001', 'value': None, 'unit': '', 'obs_status': '', 'decimal': 0}, {'indicator': {'id': 'IC.REG.DURS', 'value': 'Time required to start a business (days)'}, 'country': {'id': 'KZ', 'value': 'Kazakhstan'}, 'countryiso3code': 'KAZ', 'date': '2000', 'value': None, 'unit': '', 'obs_status': '', 'decimal': 0}, {'indicator': {'id': 'IC.REG.DURS', 'value': 'Time required to start a business (days)'}, 'country': {'id': 'KZ', 'value': 'Kazakhstan'}, 'countryiso3code': 'KAZ', 'date': '1999', 'value': None, 'unit': '', 'obs_status': '', 'decimal': 0}, {'indicator': {'id': 'IC.REG.DURS', 'value': 'Time required to start a business (days)'}, 'country': {'id': 'KZ', 'value': 'Kazakhstan'}, 'countryiso3code': 'KAZ', 'date': '1998', 'value': None, 'unit': '', 'obs_status': '', 'decimal': 0}, {'indicator': {'id': 'IC.REG.DURS', 'value': 'Time required to start a business (days)'}, 'country': {'id': 'KZ', 'value': 'Kazakhstan'}, 'countryiso3code': 'KAZ', 'date': '1997', 'value': None, 'unit': '', 'obs_status': '', 'decimal': 0}, {'indicator': {'id': 'IC.REG.DURS', 'value': 'Time required to start a business (days)'}, 'country': {'id': 'KZ', 'value': 'Kazakhstan'}, 'countryiso3code': 'KAZ', 'date': '1996', 'value': None, 'unit': '', 'obs_status': '', 'decimal': 0}, {'indicator': {'id': 'IC.REG.DURS', 'value': 'Time required to start a business (days)'}, 'country': {'id': 'KZ', 'value': 'Kazakhstan'}, 'countryiso3code': 'KAZ', 'date': '1995', 'value': None, 'unit': '', 'obs_status': '', 'decimal': 0}, {'indicator': {'id': 'IC.REG.DURS', 'value': 'Time required to start a business (days)'}, 'country': {'id': 'KZ', 'value': 'Kazakhstan'}, 'countryiso3code': 'KAZ', 'date': '1994', 'value': None, 'unit': '', 'obs_status': '', 'decimal': 0}, {'indicator': {'id': 'IC.REG.DURS', 'value': 'Time required to start a business (days)'}, 'country': {'id': 'KZ', 'value': 'Kazakhstan'}, 'countryiso3code': 'KAZ', 'date': '1993', 'value': None, 'unit': '', 'obs_status': '', 'decimal': 0}, {'indicator': {'id': 'IC.REG.DURS', 'value': 'Time required to start a business (days)'}, 'country': {'id': 'KZ', 'value': 'Kazakhstan'}, 'countryiso3code': 'KAZ', 'date': '1992', 'value': None, 'unit': '', 'obs_status': '', 'decimal': 0}, {'indicator': {'id': 'IC.REG.DURS', 'value': 'Time required to start a business (days)'}, 'country': {'id': 'KZ', 'value': 'Kazakhstan'}, 'countryiso3code': 'KAZ', 'date': '1991', 'value': None, 'unit': '', 'obs_status': '', 'decimal': 0}, {'indicator': {'id': 'IC.REG.DURS', 'value': 'Time required to start a business (days)'}, 'country': {'id': 'KZ', 'value': 'Kazakhstan'}, 'countryiso3code': 'KAZ', 'date': '1990', 'value': None, 'unit': '', 'obs_status': '', 'decimal': 0}, {'indicator': {'id': 'IC.REG.DURS', 'value': 'Time required to start a business (days)'}, 'country': {'id': 'KZ', 'value': 'Kazakhstan'}, 'countryiso3code': 'KAZ', 'date': '1989', 'value': None, 'unit': '', 'obs_status': '', 'decimal': 0}, {'indicator': {'id': 'IC.REG.DURS', 'value': 'Time required to start a business (days)'}, 'country': {'id': 'KZ', 'value': 'Kazakhstan'}, 'countryiso3code': 'KAZ', 'date': '1988', 'value': None, 'unit': '', 'obs_status': '', 'decimal': 0}, {'indicator': {'id': 'IC.REG.DURS', 'value': 'Time required to start a business (days)'}, 'country': {'id': 'KZ', 'value': 'Kazakhstan'}, 'countryiso3code': 'KAZ', 'date': '1987', 'value': None, 'unit': '', 'obs_status': '', 'decimal': 0}, {'indicator': {'id': 'IC.REG.DURS', 'value': 'Time required to start a business (days)'}, 'country': {'id': 'KZ', 'value': 'Kazakhstan'}, 'countryiso3code': 'KAZ', 'date': '1986', 'value': None, 'unit': '', 'obs_status': '', 'decimal': 0}, {'indicator': {'id': 'IC.REG.DURS', 'value': 'Time required to start a business (days)'}, 'country': {'id': 'KZ', 'value': 'Kazakhstan'}, 'countryiso3code': 'KAZ', 'date': '1985', 'value': None, 'unit': '', 'obs_status': '', 'decimal': 0}, {'indicator': {'id': 'IC.REG.DURS', 'value': 'Time required to start a business (days)'}, 'country': {'id': 'KZ', 'value': 'Kazakhstan'}, 'countryiso3code': 'KAZ', 'date': '1984', 'value': None, 'unit': '', 'obs_status': '', 'decimal': 0}, {'indicator': {'id': 'IC.REG.DURS', 'value': 'Time required to start a business (days)'}, 'country': {'id': 'KZ', 'value': 'Kazakhstan'}, 'countryiso3code': 'KAZ', 'date': '1983', 'value': None, 'unit': '', 'obs_status': '', 'decimal': 0}, {'indicator': {'id': 'IC.REG.DURS', 'value': 'Time required to start a business (days)'}, 'country': {'id': 'KZ', 'value': 'Kazakhstan'}, 'countryiso3code': 'KAZ', 'date': '1982', 'value': None, 'unit': '', 'obs_status': '', 'decimal': 0}, {'indicator': {'id': 'IC.REG.DURS', 'value': 'Time required to start a business (days)'}, 'country': {'id': 'KZ', 'value': 'Kazakhstan'}, 'countryiso3code': 'KAZ', 'date': '1981', 'value': None, 'unit': '', 'obs_status': '', 'decimal': 0}, {'indicator': {'id': 'IC.REG.DURS', 'value': 'Time required to start a business (days)'}, 'country': {'id': 'KZ', 'value': 'Kazakhstan'}, 'countryiso3code': 'KAZ', 'date': '1980', 'value': None, 'unit': '', 'obs_status': '', 'decimal': 0}, {'indicator': {'id': 'IC.REG.DURS', 'value': 'Time required to start a business (days)'}, 'country': {'id': 'KZ', 'value': 'Kazakhstan'}, 'countryiso3code': 'KAZ', 'date': '1979', 'value': None, 'unit': '', 'obs_status': '', 'decimal': 0}, {'indicator': {'id': 'IC.REG.DURS', 'value': 'Time required to start a business (days)'}, 'country': {'id': 'KZ', 'value': 'Kazakhstan'}, 'countryiso3code': 'KAZ', 'date': '1978', 'value': None, 'unit': '', 'obs_status': '', 'decimal': 0}, {'indicator': {'id': 'IC.REG.DURS', 'value': 'Time required to start a business (days)'}, 'country': {'id': 'KZ', 'value': 'Kazakhstan'}, 'countryiso3code': 'KAZ', 'date': '1977', 'value': None, 'unit': '', 'obs_status': '', 'decimal': 0}, {'indicator': {'id': 'IC.REG.DURS', 'value': 'Time required to start a business (days)'}, 'country': {'id': 'KZ', 'value': 'Kazakhstan'}, 'countryiso3code': 'KAZ', 'date': '1976', 'value': None, 'unit': '', 'obs_status': '', 'decimal': 0}, {'indicator': {'id': 'IC.REG.DURS', 'value': 'Time required to start a business (days)'}, 'country': {'id': 'KZ', 'value': 'Kazakhstan'}, 'countryiso3code': 'KAZ', 'date': '1975', 'value': None, 'unit': '', 'obs_status': '', 'decimal': 0}, {'indicator': {'id': 'IC.REG.DURS', 'value': 'Time required to start a business (days)'}, 'country': {'id': 'KZ', 'value': 'Kazakhstan'}, 'countryiso3code': 'KAZ', 'date': '1974', 'value': None, 'unit': '', 'obs_status': '', 'decimal': 0}, {'indicator': {'id': 'IC.REG.DURS', 'value': 'Time required to start a business (days)'}, 'country': {'id': 'KZ', 'value': 'Kazakhstan'}, 'countryiso3code': 'KAZ', 'date': '1973', 'value': None, 'unit': '', 'obs_status': '', 'decimal': 0}, {'indicator': {'id': 'IC.REG.DURS', 'value': 'Time required to start a business (days)'}, 'country': {'id': 'KZ', 'value': 'Kazakhstan'}, 'countryiso3code': 'KAZ', 'date': '1972', 'value': None, 'unit': '', 'obs_status': '', 'decimal': 0}, {'indicator': {'id': 'IC.REG.DURS', 'value': 'Time required to start a business (days)'}, 'country': {'id': 'KZ', 'value': 'Kazakhstan'}, 'countryiso3code': 'KAZ', 'date': '1971', 'value': None, 'unit': '', 'obs_status': '', 'decimal': 0}]]\n",
            "WB_data_KAZ.json\n"
          ]
        },
        {
          "output_type": "display_data",
          "data": {
            "application/javascript": [
              "\n",
              "    async function download(id, filename, size) {\n",
              "      if (!google.colab.kernel.accessAllowed) {\n",
              "        return;\n",
              "      }\n",
              "      const div = document.createElement('div');\n",
              "      const label = document.createElement('label');\n",
              "      label.textContent = `Downloading \"${filename}\": `;\n",
              "      div.appendChild(label);\n",
              "      const progress = document.createElement('progress');\n",
              "      progress.max = size;\n",
              "      div.appendChild(progress);\n",
              "      document.body.appendChild(div);\n",
              "\n",
              "      const buffers = [];\n",
              "      let downloaded = 0;\n",
              "\n",
              "      const channel = await google.colab.kernel.comms.open(id);\n",
              "      // Send a message to notify the kernel that we're ready.\n",
              "      channel.send({})\n",
              "\n",
              "      for await (const message of channel.messages) {\n",
              "        // Send a message to notify the kernel that we're ready.\n",
              "        channel.send({})\n",
              "        if (message.buffers) {\n",
              "          for (const buffer of message.buffers) {\n",
              "            buffers.push(buffer);\n",
              "            downloaded += buffer.byteLength;\n",
              "            progress.value = downloaded;\n",
              "          }\n",
              "        }\n",
              "      }\n",
              "      const blob = new Blob(buffers, {type: 'application/binary'});\n",
              "      const a = document.createElement('a');\n",
              "      a.href = window.URL.createObjectURL(blob);\n",
              "      a.download = filename;\n",
              "      div.appendChild(a);\n",
              "      a.click();\n",
              "      div.remove();\n",
              "    }\n",
              "  "
            ],
            "text/plain": [
              "<IPython.core.display.Javascript object>"
            ]
          },
          "metadata": {}
        },
        {
          "output_type": "display_data",
          "data": {
            "application/javascript": [
              "download(\"download_9ae79cdb-67c6-401c-a3d5-32813d845df1\", \"WB_data_KAZ.json\", 22488)"
            ],
            "text/plain": [
              "<IPython.core.display.Javascript object>"
            ]
          },
          "metadata": {}
        },
        {
          "output_type": "stream",
          "name": "stdout",
          "text": [
            "SGP\n",
            "http://api.worldbank.org/v2/country/SGP/indicator/IC.REG.DURS?format=json\n",
            "[{'page': 1, 'pages': 2, 'per_page': 50, 'total': 61, 'sourceid': '2', 'sourcename': 'World Development Indicators', 'lastupdated': '2021-10-28'}, [{'indicator': {'id': 'IC.REG.DURS', 'value': 'Time required to start a business (days)'}, 'country': {'id': 'SG', 'value': 'Singapore'}, 'countryiso3code': 'SGP', 'date': '2020', 'value': None, 'unit': '', 'obs_status': '', 'decimal': 0}, {'indicator': {'id': 'IC.REG.DURS', 'value': 'Time required to start a business (days)'}, 'country': {'id': 'SG', 'value': 'Singapore'}, 'countryiso3code': 'SGP', 'date': '2019', 'value': 1.5, 'unit': '', 'obs_status': '', 'decimal': 0}, {'indicator': {'id': 'IC.REG.DURS', 'value': 'Time required to start a business (days)'}, 'country': {'id': 'SG', 'value': 'Singapore'}, 'countryiso3code': 'SGP', 'date': '2018', 'value': 1.5, 'unit': '', 'obs_status': '', 'decimal': 0}, {'indicator': {'id': 'IC.REG.DURS', 'value': 'Time required to start a business (days)'}, 'country': {'id': 'SG', 'value': 'Singapore'}, 'countryiso3code': 'SGP', 'date': '2017', 'value': 2.5, 'unit': '', 'obs_status': '', 'decimal': 0}, {'indicator': {'id': 'IC.REG.DURS', 'value': 'Time required to start a business (days)'}, 'country': {'id': 'SG', 'value': 'Singapore'}, 'countryiso3code': 'SGP', 'date': '2016', 'value': 2.5, 'unit': '', 'obs_status': '', 'decimal': 0}, {'indicator': {'id': 'IC.REG.DURS', 'value': 'Time required to start a business (days)'}, 'country': {'id': 'SG', 'value': 'Singapore'}, 'countryiso3code': 'SGP', 'date': '2015', 'value': 2.5, 'unit': '', 'obs_status': '', 'decimal': 0}, {'indicator': {'id': 'IC.REG.DURS', 'value': 'Time required to start a business (days)'}, 'country': {'id': 'SG', 'value': 'Singapore'}, 'countryiso3code': 'SGP', 'date': '2014', 'value': 2.5, 'unit': '', 'obs_status': '', 'decimal': 0}, {'indicator': {'id': 'IC.REG.DURS', 'value': 'Time required to start a business (days)'}, 'country': {'id': 'SG', 'value': 'Singapore'}, 'countryiso3code': 'SGP', 'date': '2013', 'value': 2.5, 'unit': '', 'obs_status': '', 'decimal': 0}, {'indicator': {'id': 'IC.REG.DURS', 'value': 'Time required to start a business (days)'}, 'country': {'id': 'SG', 'value': 'Singapore'}, 'countryiso3code': 'SGP', 'date': '2012', 'value': 2.5, 'unit': '', 'obs_status': '', 'decimal': 0}, {'indicator': {'id': 'IC.REG.DURS', 'value': 'Time required to start a business (days)'}, 'country': {'id': 'SG', 'value': 'Singapore'}, 'countryiso3code': 'SGP', 'date': '2011', 'value': 2.5, 'unit': '', 'obs_status': '', 'decimal': 0}, {'indicator': {'id': 'IC.REG.DURS', 'value': 'Time required to start a business (days)'}, 'country': {'id': 'SG', 'value': 'Singapore'}, 'countryiso3code': 'SGP', 'date': '2010', 'value': 2.5, 'unit': '', 'obs_status': '', 'decimal': 0}, {'indicator': {'id': 'IC.REG.DURS', 'value': 'Time required to start a business (days)'}, 'country': {'id': 'SG', 'value': 'Singapore'}, 'countryiso3code': 'SGP', 'date': '2009', 'value': 2.5, 'unit': '', 'obs_status': '', 'decimal': 0}, {'indicator': {'id': 'IC.REG.DURS', 'value': 'Time required to start a business (days)'}, 'country': {'id': 'SG', 'value': 'Singapore'}, 'countryiso3code': 'SGP', 'date': '2008', 'value': 3.5, 'unit': '', 'obs_status': '', 'decimal': 0}, {'indicator': {'id': 'IC.REG.DURS', 'value': 'Time required to start a business (days)'}, 'country': {'id': 'SG', 'value': 'Singapore'}, 'countryiso3code': 'SGP', 'date': '2007', 'value': 5, 'unit': '', 'obs_status': '', 'decimal': 0}, {'indicator': {'id': 'IC.REG.DURS', 'value': 'Time required to start a business (days)'}, 'country': {'id': 'SG', 'value': 'Singapore'}, 'countryiso3code': 'SGP', 'date': '2006', 'value': 6, 'unit': '', 'obs_status': '', 'decimal': 0}, {'indicator': {'id': 'IC.REG.DURS', 'value': 'Time required to start a business (days)'}, 'country': {'id': 'SG', 'value': 'Singapore'}, 'countryiso3code': 'SGP', 'date': '2005', 'value': 6, 'unit': '', 'obs_status': '', 'decimal': 0}, {'indicator': {'id': 'IC.REG.DURS', 'value': 'Time required to start a business (days)'}, 'country': {'id': 'SG', 'value': 'Singapore'}, 'countryiso3code': 'SGP', 'date': '2004', 'value': 8, 'unit': '', 'obs_status': '', 'decimal': 0}, {'indicator': {'id': 'IC.REG.DURS', 'value': 'Time required to start a business (days)'}, 'country': {'id': 'SG', 'value': 'Singapore'}, 'countryiso3code': 'SGP', 'date': '2003', 'value': 8, 'unit': '', 'obs_status': '', 'decimal': 0}, {'indicator': {'id': 'IC.REG.DURS', 'value': 'Time required to start a business (days)'}, 'country': {'id': 'SG', 'value': 'Singapore'}, 'countryiso3code': 'SGP', 'date': '2002', 'value': None, 'unit': '', 'obs_status': '', 'decimal': 0}, {'indicator': {'id': 'IC.REG.DURS', 'value': 'Time required to start a business (days)'}, 'country': {'id': 'SG', 'value': 'Singapore'}, 'countryiso3code': 'SGP', 'date': '2001', 'value': None, 'unit': '', 'obs_status': '', 'decimal': 0}, {'indicator': {'id': 'IC.REG.DURS', 'value': 'Time required to start a business (days)'}, 'country': {'id': 'SG', 'value': 'Singapore'}, 'countryiso3code': 'SGP', 'date': '2000', 'value': None, 'unit': '', 'obs_status': '', 'decimal': 0}, {'indicator': {'id': 'IC.REG.DURS', 'value': 'Time required to start a business (days)'}, 'country': {'id': 'SG', 'value': 'Singapore'}, 'countryiso3code': 'SGP', 'date': '1999', 'value': None, 'unit': '', 'obs_status': '', 'decimal': 0}, {'indicator': {'id': 'IC.REG.DURS', 'value': 'Time required to start a business (days)'}, 'country': {'id': 'SG', 'value': 'Singapore'}, 'countryiso3code': 'SGP', 'date': '1998', 'value': None, 'unit': '', 'obs_status': '', 'decimal': 0}, {'indicator': {'id': 'IC.REG.DURS', 'value': 'Time required to start a business (days)'}, 'country': {'id': 'SG', 'value': 'Singapore'}, 'countryiso3code': 'SGP', 'date': '1997', 'value': None, 'unit': '', 'obs_status': '', 'decimal': 0}, {'indicator': {'id': 'IC.REG.DURS', 'value': 'Time required to start a business (days)'}, 'country': {'id': 'SG', 'value': 'Singapore'}, 'countryiso3code': 'SGP', 'date': '1996', 'value': None, 'unit': '', 'obs_status': '', 'decimal': 0}, {'indicator': {'id': 'IC.REG.DURS', 'value': 'Time required to start a business (days)'}, 'country': {'id': 'SG', 'value': 'Singapore'}, 'countryiso3code': 'SGP', 'date': '1995', 'value': None, 'unit': '', 'obs_status': '', 'decimal': 0}, {'indicator': {'id': 'IC.REG.DURS', 'value': 'Time required to start a business (days)'}, 'country': {'id': 'SG', 'value': 'Singapore'}, 'countryiso3code': 'SGP', 'date': '1994', 'value': None, 'unit': '', 'obs_status': '', 'decimal': 0}, {'indicator': {'id': 'IC.REG.DURS', 'value': 'Time required to start a business (days)'}, 'country': {'id': 'SG', 'value': 'Singapore'}, 'countryiso3code': 'SGP', 'date': '1993', 'value': None, 'unit': '', 'obs_status': '', 'decimal': 0}, {'indicator': {'id': 'IC.REG.DURS', 'value': 'Time required to start a business (days)'}, 'country': {'id': 'SG', 'value': 'Singapore'}, 'countryiso3code': 'SGP', 'date': '1992', 'value': None, 'unit': '', 'obs_status': '', 'decimal': 0}, {'indicator': {'id': 'IC.REG.DURS', 'value': 'Time required to start a business (days)'}, 'country': {'id': 'SG', 'value': 'Singapore'}, 'countryiso3code': 'SGP', 'date': '1991', 'value': None, 'unit': '', 'obs_status': '', 'decimal': 0}, {'indicator': {'id': 'IC.REG.DURS', 'value': 'Time required to start a business (days)'}, 'country': {'id': 'SG', 'value': 'Singapore'}, 'countryiso3code': 'SGP', 'date': '1990', 'value': None, 'unit': '', 'obs_status': '', 'decimal': 0}, {'indicator': {'id': 'IC.REG.DURS', 'value': 'Time required to start a business (days)'}, 'country': {'id': 'SG', 'value': 'Singapore'}, 'countryiso3code': 'SGP', 'date': '1989', 'value': None, 'unit': '', 'obs_status': '', 'decimal': 0}, {'indicator': {'id': 'IC.REG.DURS', 'value': 'Time required to start a business (days)'}, 'country': {'id': 'SG', 'value': 'Singapore'}, 'countryiso3code': 'SGP', 'date': '1988', 'value': None, 'unit': '', 'obs_status': '', 'decimal': 0}, {'indicator': {'id': 'IC.REG.DURS', 'value': 'Time required to start a business (days)'}, 'country': {'id': 'SG', 'value': 'Singapore'}, 'countryiso3code': 'SGP', 'date': '1987', 'value': None, 'unit': '', 'obs_status': '', 'decimal': 0}, {'indicator': {'id': 'IC.REG.DURS', 'value': 'Time required to start a business (days)'}, 'country': {'id': 'SG', 'value': 'Singapore'}, 'countryiso3code': 'SGP', 'date': '1986', 'value': None, 'unit': '', 'obs_status': '', 'decimal': 0}, {'indicator': {'id': 'IC.REG.DURS', 'value': 'Time required to start a business (days)'}, 'country': {'id': 'SG', 'value': 'Singapore'}, 'countryiso3code': 'SGP', 'date': '1985', 'value': None, 'unit': '', 'obs_status': '', 'decimal': 0}, {'indicator': {'id': 'IC.REG.DURS', 'value': 'Time required to start a business (days)'}, 'country': {'id': 'SG', 'value': 'Singapore'}, 'countryiso3code': 'SGP', 'date': '1984', 'value': None, 'unit': '', 'obs_status': '', 'decimal': 0}, {'indicator': {'id': 'IC.REG.DURS', 'value': 'Time required to start a business (days)'}, 'country': {'id': 'SG', 'value': 'Singapore'}, 'countryiso3code': 'SGP', 'date': '1983', 'value': None, 'unit': '', 'obs_status': '', 'decimal': 0}, {'indicator': {'id': 'IC.REG.DURS', 'value': 'Time required to start a business (days)'}, 'country': {'id': 'SG', 'value': 'Singapore'}, 'countryiso3code': 'SGP', 'date': '1982', 'value': None, 'unit': '', 'obs_status': '', 'decimal': 0}, {'indicator': {'id': 'IC.REG.DURS', 'value': 'Time required to start a business (days)'}, 'country': {'id': 'SG', 'value': 'Singapore'}, 'countryiso3code': 'SGP', 'date': '1981', 'value': None, 'unit': '', 'obs_status': '', 'decimal': 0}, {'indicator': {'id': 'IC.REG.DURS', 'value': 'Time required to start a business (days)'}, 'country': {'id': 'SG', 'value': 'Singapore'}, 'countryiso3code': 'SGP', 'date': '1980', 'value': None, 'unit': '', 'obs_status': '', 'decimal': 0}, {'indicator': {'id': 'IC.REG.DURS', 'value': 'Time required to start a business (days)'}, 'country': {'id': 'SG', 'value': 'Singapore'}, 'countryiso3code': 'SGP', 'date': '1979', 'value': None, 'unit': '', 'obs_status': '', 'decimal': 0}, {'indicator': {'id': 'IC.REG.DURS', 'value': 'Time required to start a business (days)'}, 'country': {'id': 'SG', 'value': 'Singapore'}, 'countryiso3code': 'SGP', 'date': '1978', 'value': None, 'unit': '', 'obs_status': '', 'decimal': 0}, {'indicator': {'id': 'IC.REG.DURS', 'value': 'Time required to start a business (days)'}, 'country': {'id': 'SG', 'value': 'Singapore'}, 'countryiso3code': 'SGP', 'date': '1977', 'value': None, 'unit': '', 'obs_status': '', 'decimal': 0}, {'indicator': {'id': 'IC.REG.DURS', 'value': 'Time required to start a business (days)'}, 'country': {'id': 'SG', 'value': 'Singapore'}, 'countryiso3code': 'SGP', 'date': '1976', 'value': None, 'unit': '', 'obs_status': '', 'decimal': 0}, {'indicator': {'id': 'IC.REG.DURS', 'value': 'Time required to start a business (days)'}, 'country': {'id': 'SG', 'value': 'Singapore'}, 'countryiso3code': 'SGP', 'date': '1975', 'value': None, 'unit': '', 'obs_status': '', 'decimal': 0}, {'indicator': {'id': 'IC.REG.DURS', 'value': 'Time required to start a business (days)'}, 'country': {'id': 'SG', 'value': 'Singapore'}, 'countryiso3code': 'SGP', 'date': '1974', 'value': None, 'unit': '', 'obs_status': '', 'decimal': 0}, {'indicator': {'id': 'IC.REG.DURS', 'value': 'Time required to start a business (days)'}, 'country': {'id': 'SG', 'value': 'Singapore'}, 'countryiso3code': 'SGP', 'date': '1973', 'value': None, 'unit': '', 'obs_status': '', 'decimal': 0}, {'indicator': {'id': 'IC.REG.DURS', 'value': 'Time required to start a business (days)'}, 'country': {'id': 'SG', 'value': 'Singapore'}, 'countryiso3code': 'SGP', 'date': '1972', 'value': None, 'unit': '', 'obs_status': '', 'decimal': 0}, {'indicator': {'id': 'IC.REG.DURS', 'value': 'Time required to start a business (days)'}, 'country': {'id': 'SG', 'value': 'Singapore'}, 'countryiso3code': 'SGP', 'date': '1971', 'value': None, 'unit': '', 'obs_status': '', 'decimal': 0}]]\n",
            "WB_data_SGP.json\n"
          ]
        },
        {
          "output_type": "display_data",
          "data": {
            "application/javascript": [
              "\n",
              "    async function download(id, filename, size) {\n",
              "      if (!google.colab.kernel.accessAllowed) {\n",
              "        return;\n",
              "      }\n",
              "      const div = document.createElement('div');\n",
              "      const label = document.createElement('label');\n",
              "      label.textContent = `Downloading \"${filename}\": `;\n",
              "      div.appendChild(label);\n",
              "      const progress = document.createElement('progress');\n",
              "      progress.max = size;\n",
              "      div.appendChild(progress);\n",
              "      document.body.appendChild(div);\n",
              "\n",
              "      const buffers = [];\n",
              "      let downloaded = 0;\n",
              "\n",
              "      const channel = await google.colab.kernel.comms.open(id);\n",
              "      // Send a message to notify the kernel that we're ready.\n",
              "      channel.send({})\n",
              "\n",
              "      for await (const message of channel.messages) {\n",
              "        // Send a message to notify the kernel that we're ready.\n",
              "        channel.send({})\n",
              "        if (message.buffers) {\n",
              "          for (const buffer of message.buffers) {\n",
              "            buffers.push(buffer);\n",
              "            downloaded += buffer.byteLength;\n",
              "            progress.value = downloaded;\n",
              "          }\n",
              "        }\n",
              "      }\n",
              "      const blob = new Blob(buffers, {type: 'application/binary'});\n",
              "      const a = document.createElement('a');\n",
              "      a.href = window.URL.createObjectURL(blob);\n",
              "      a.download = filename;\n",
              "      div.appendChild(a);\n",
              "      a.click();\n",
              "      div.remove();\n",
              "    }\n",
              "  "
            ],
            "text/plain": [
              "<IPython.core.display.Javascript object>"
            ]
          },
          "metadata": {}
        },
        {
          "output_type": "display_data",
          "data": {
            "application/javascript": [
              "download(\"download_0509f0e0-bc6b-4d4b-a4f8-bd509f1affd5\", \"WB_data_SGP.json\", 22449)"
            ],
            "text/plain": [
              "<IPython.core.display.Javascript object>"
            ]
          },
          "metadata": {}
        },
        {
          "output_type": "stream",
          "name": "stdout",
          "text": [
            "THA\n",
            "http://api.worldbank.org/v2/country/THA/indicator/IC.REG.DURS?format=json\n",
            "[{'page': 1, 'pages': 2, 'per_page': 50, 'total': 61, 'sourceid': '2', 'sourcename': 'World Development Indicators', 'lastupdated': '2021-10-28'}, [{'indicator': {'id': 'IC.REG.DURS', 'value': 'Time required to start a business (days)'}, 'country': {'id': 'TH', 'value': 'Thailand'}, 'countryiso3code': 'THA', 'date': '2020', 'value': None, 'unit': '', 'obs_status': '', 'decimal': 0}, {'indicator': {'id': 'IC.REG.DURS', 'value': 'Time required to start a business (days)'}, 'country': {'id': 'TH', 'value': 'Thailand'}, 'countryiso3code': 'THA', 'date': '2019', 'value': 6, 'unit': '', 'obs_status': '', 'decimal': 0}, {'indicator': {'id': 'IC.REG.DURS', 'value': 'Time required to start a business (days)'}, 'country': {'id': 'TH', 'value': 'Thailand'}, 'countryiso3code': 'THA', 'date': '2018', 'value': 6, 'unit': '', 'obs_status': '', 'decimal': 0}, {'indicator': {'id': 'IC.REG.DURS', 'value': 'Time required to start a business (days)'}, 'country': {'id': 'TH', 'value': 'Thailand'}, 'countryiso3code': 'THA', 'date': '2017', 'value': 6, 'unit': '', 'obs_status': '', 'decimal': 0}, {'indicator': {'id': 'IC.REG.DURS', 'value': 'Time required to start a business (days)'}, 'country': {'id': 'TH', 'value': 'Thailand'}, 'countryiso3code': 'THA', 'date': '2016', 'value': 29, 'unit': '', 'obs_status': '', 'decimal': 0}, {'indicator': {'id': 'IC.REG.DURS', 'value': 'Time required to start a business (days)'}, 'country': {'id': 'TH', 'value': 'Thailand'}, 'countryiso3code': 'THA', 'date': '2015', 'value': 31, 'unit': '', 'obs_status': '', 'decimal': 0}, {'indicator': {'id': 'IC.REG.DURS', 'value': 'Time required to start a business (days)'}, 'country': {'id': 'TH', 'value': 'Thailand'}, 'countryiso3code': 'THA', 'date': '2014', 'value': 31, 'unit': '', 'obs_status': '', 'decimal': 0}, {'indicator': {'id': 'IC.REG.DURS', 'value': 'Time required to start a business (days)'}, 'country': {'id': 'TH', 'value': 'Thailand'}, 'countryiso3code': 'THA', 'date': '2013', 'value': 31, 'unit': '', 'obs_status': '', 'decimal': 0}, {'indicator': {'id': 'IC.REG.DURS', 'value': 'Time required to start a business (days)'}, 'country': {'id': 'TH', 'value': 'Thailand'}, 'countryiso3code': 'THA', 'date': '2012', 'value': 31, 'unit': '', 'obs_status': '', 'decimal': 0}, {'indicator': {'id': 'IC.REG.DURS', 'value': 'Time required to start a business (days)'}, 'country': {'id': 'TH', 'value': 'Thailand'}, 'countryiso3code': 'THA', 'date': '2011', 'value': 32, 'unit': '', 'obs_status': '', 'decimal': 0}, {'indicator': {'id': 'IC.REG.DURS', 'value': 'Time required to start a business (days)'}, 'country': {'id': 'TH', 'value': 'Thailand'}, 'countryiso3code': 'THA', 'date': '2010', 'value': 34, 'unit': '', 'obs_status': '', 'decimal': 0}, {'indicator': {'id': 'IC.REG.DURS', 'value': 'Time required to start a business (days)'}, 'country': {'id': 'TH', 'value': 'Thailand'}, 'countryiso3code': 'THA', 'date': '2009', 'value': 34, 'unit': '', 'obs_status': '', 'decimal': 0}, {'indicator': {'id': 'IC.REG.DURS', 'value': 'Time required to start a business (days)'}, 'country': {'id': 'TH', 'value': 'Thailand'}, 'countryiso3code': 'THA', 'date': '2008', 'value': 35, 'unit': '', 'obs_status': '', 'decimal': 0}, {'indicator': {'id': 'IC.REG.DURS', 'value': 'Time required to start a business (days)'}, 'country': {'id': 'TH', 'value': 'Thailand'}, 'countryiso3code': 'THA', 'date': '2007', 'value': 35, 'unit': '', 'obs_status': '', 'decimal': 0}, {'indicator': {'id': 'IC.REG.DURS', 'value': 'Time required to start a business (days)'}, 'country': {'id': 'TH', 'value': 'Thailand'}, 'countryiso3code': 'THA', 'date': '2006', 'value': 35, 'unit': '', 'obs_status': '', 'decimal': 0}, {'indicator': {'id': 'IC.REG.DURS', 'value': 'Time required to start a business (days)'}, 'country': {'id': 'TH', 'value': 'Thailand'}, 'countryiso3code': 'THA', 'date': '2005', 'value': 35, 'unit': '', 'obs_status': '', 'decimal': 0}, {'indicator': {'id': 'IC.REG.DURS', 'value': 'Time required to start a business (days)'}, 'country': {'id': 'TH', 'value': 'Thailand'}, 'countryiso3code': 'THA', 'date': '2004', 'value': 35, 'unit': '', 'obs_status': '', 'decimal': 0}, {'indicator': {'id': 'IC.REG.DURS', 'value': 'Time required to start a business (days)'}, 'country': {'id': 'TH', 'value': 'Thailand'}, 'countryiso3code': 'THA', 'date': '2003', 'value': 35, 'unit': '', 'obs_status': '', 'decimal': 0}, {'indicator': {'id': 'IC.REG.DURS', 'value': 'Time required to start a business (days)'}, 'country': {'id': 'TH', 'value': 'Thailand'}, 'countryiso3code': 'THA', 'date': '2002', 'value': None, 'unit': '', 'obs_status': '', 'decimal': 0}, {'indicator': {'id': 'IC.REG.DURS', 'value': 'Time required to start a business (days)'}, 'country': {'id': 'TH', 'value': 'Thailand'}, 'countryiso3code': 'THA', 'date': '2001', 'value': None, 'unit': '', 'obs_status': '', 'decimal': 0}, {'indicator': {'id': 'IC.REG.DURS', 'value': 'Time required to start a business (days)'}, 'country': {'id': 'TH', 'value': 'Thailand'}, 'countryiso3code': 'THA', 'date': '2000', 'value': None, 'unit': '', 'obs_status': '', 'decimal': 0}, {'indicator': {'id': 'IC.REG.DURS', 'value': 'Time required to start a business (days)'}, 'country': {'id': 'TH', 'value': 'Thailand'}, 'countryiso3code': 'THA', 'date': '1999', 'value': None, 'unit': '', 'obs_status': '', 'decimal': 0}, {'indicator': {'id': 'IC.REG.DURS', 'value': 'Time required to start a business (days)'}, 'country': {'id': 'TH', 'value': 'Thailand'}, 'countryiso3code': 'THA', 'date': '1998', 'value': None, 'unit': '', 'obs_status': '', 'decimal': 0}, {'indicator': {'id': 'IC.REG.DURS', 'value': 'Time required to start a business (days)'}, 'country': {'id': 'TH', 'value': 'Thailand'}, 'countryiso3code': 'THA', 'date': '1997', 'value': None, 'unit': '', 'obs_status': '', 'decimal': 0}, {'indicator': {'id': 'IC.REG.DURS', 'value': 'Time required to start a business (days)'}, 'country': {'id': 'TH', 'value': 'Thailand'}, 'countryiso3code': 'THA', 'date': '1996', 'value': None, 'unit': '', 'obs_status': '', 'decimal': 0}, {'indicator': {'id': 'IC.REG.DURS', 'value': 'Time required to start a business (days)'}, 'country': {'id': 'TH', 'value': 'Thailand'}, 'countryiso3code': 'THA', 'date': '1995', 'value': None, 'unit': '', 'obs_status': '', 'decimal': 0}, {'indicator': {'id': 'IC.REG.DURS', 'value': 'Time required to start a business (days)'}, 'country': {'id': 'TH', 'value': 'Thailand'}, 'countryiso3code': 'THA', 'date': '1994', 'value': None, 'unit': '', 'obs_status': '', 'decimal': 0}, {'indicator': {'id': 'IC.REG.DURS', 'value': 'Time required to start a business (days)'}, 'country': {'id': 'TH', 'value': 'Thailand'}, 'countryiso3code': 'THA', 'date': '1993', 'value': None, 'unit': '', 'obs_status': '', 'decimal': 0}, {'indicator': {'id': 'IC.REG.DURS', 'value': 'Time required to start a business (days)'}, 'country': {'id': 'TH', 'value': 'Thailand'}, 'countryiso3code': 'THA', 'date': '1992', 'value': None, 'unit': '', 'obs_status': '', 'decimal': 0}, {'indicator': {'id': 'IC.REG.DURS', 'value': 'Time required to start a business (days)'}, 'country': {'id': 'TH', 'value': 'Thailand'}, 'countryiso3code': 'THA', 'date': '1991', 'value': None, 'unit': '', 'obs_status': '', 'decimal': 0}, {'indicator': {'id': 'IC.REG.DURS', 'value': 'Time required to start a business (days)'}, 'country': {'id': 'TH', 'value': 'Thailand'}, 'countryiso3code': 'THA', 'date': '1990', 'value': None, 'unit': '', 'obs_status': '', 'decimal': 0}, {'indicator': {'id': 'IC.REG.DURS', 'value': 'Time required to start a business (days)'}, 'country': {'id': 'TH', 'value': 'Thailand'}, 'countryiso3code': 'THA', 'date': '1989', 'value': None, 'unit': '', 'obs_status': '', 'decimal': 0}, {'indicator': {'id': 'IC.REG.DURS', 'value': 'Time required to start a business (days)'}, 'country': {'id': 'TH', 'value': 'Thailand'}, 'countryiso3code': 'THA', 'date': '1988', 'value': None, 'unit': '', 'obs_status': '', 'decimal': 0}, {'indicator': {'id': 'IC.REG.DURS', 'value': 'Time required to start a business (days)'}, 'country': {'id': 'TH', 'value': 'Thailand'}, 'countryiso3code': 'THA', 'date': '1987', 'value': None, 'unit': '', 'obs_status': '', 'decimal': 0}, {'indicator': {'id': 'IC.REG.DURS', 'value': 'Time required to start a business (days)'}, 'country': {'id': 'TH', 'value': 'Thailand'}, 'countryiso3code': 'THA', 'date': '1986', 'value': None, 'unit': '', 'obs_status': '', 'decimal': 0}, {'indicator': {'id': 'IC.REG.DURS', 'value': 'Time required to start a business (days)'}, 'country': {'id': 'TH', 'value': 'Thailand'}, 'countryiso3code': 'THA', 'date': '1985', 'value': None, 'unit': '', 'obs_status': '', 'decimal': 0}, {'indicator': {'id': 'IC.REG.DURS', 'value': 'Time required to start a business (days)'}, 'country': {'id': 'TH', 'value': 'Thailand'}, 'countryiso3code': 'THA', 'date': '1984', 'value': None, 'unit': '', 'obs_status': '', 'decimal': 0}, {'indicator': {'id': 'IC.REG.DURS', 'value': 'Time required to start a business (days)'}, 'country': {'id': 'TH', 'value': 'Thailand'}, 'countryiso3code': 'THA', 'date': '1983', 'value': None, 'unit': '', 'obs_status': '', 'decimal': 0}, {'indicator': {'id': 'IC.REG.DURS', 'value': 'Time required to start a business (days)'}, 'country': {'id': 'TH', 'value': 'Thailand'}, 'countryiso3code': 'THA', 'date': '1982', 'value': None, 'unit': '', 'obs_status': '', 'decimal': 0}, {'indicator': {'id': 'IC.REG.DURS', 'value': 'Time required to start a business (days)'}, 'country': {'id': 'TH', 'value': 'Thailand'}, 'countryiso3code': 'THA', 'date': '1981', 'value': None, 'unit': '', 'obs_status': '', 'decimal': 0}, {'indicator': {'id': 'IC.REG.DURS', 'value': 'Time required to start a business (days)'}, 'country': {'id': 'TH', 'value': 'Thailand'}, 'countryiso3code': 'THA', 'date': '1980', 'value': None, 'unit': '', 'obs_status': '', 'decimal': 0}, {'indicator': {'id': 'IC.REG.DURS', 'value': 'Time required to start a business (days)'}, 'country': {'id': 'TH', 'value': 'Thailand'}, 'countryiso3code': 'THA', 'date': '1979', 'value': None, 'unit': '', 'obs_status': '', 'decimal': 0}, {'indicator': {'id': 'IC.REG.DURS', 'value': 'Time required to start a business (days)'}, 'country': {'id': 'TH', 'value': 'Thailand'}, 'countryiso3code': 'THA', 'date': '1978', 'value': None, 'unit': '', 'obs_status': '', 'decimal': 0}, {'indicator': {'id': 'IC.REG.DURS', 'value': 'Time required to start a business (days)'}, 'country': {'id': 'TH', 'value': 'Thailand'}, 'countryiso3code': 'THA', 'date': '1977', 'value': None, 'unit': '', 'obs_status': '', 'decimal': 0}, {'indicator': {'id': 'IC.REG.DURS', 'value': 'Time required to start a business (days)'}, 'country': {'id': 'TH', 'value': 'Thailand'}, 'countryiso3code': 'THA', 'date': '1976', 'value': None, 'unit': '', 'obs_status': '', 'decimal': 0}, {'indicator': {'id': 'IC.REG.DURS', 'value': 'Time required to start a business (days)'}, 'country': {'id': 'TH', 'value': 'Thailand'}, 'countryiso3code': 'THA', 'date': '1975', 'value': None, 'unit': '', 'obs_status': '', 'decimal': 0}, {'indicator': {'id': 'IC.REG.DURS', 'value': 'Time required to start a business (days)'}, 'country': {'id': 'TH', 'value': 'Thailand'}, 'countryiso3code': 'THA', 'date': '1974', 'value': None, 'unit': '', 'obs_status': '', 'decimal': 0}, {'indicator': {'id': 'IC.REG.DURS', 'value': 'Time required to start a business (days)'}, 'country': {'id': 'TH', 'value': 'Thailand'}, 'countryiso3code': 'THA', 'date': '1973', 'value': None, 'unit': '', 'obs_status': '', 'decimal': 0}, {'indicator': {'id': 'IC.REG.DURS', 'value': 'Time required to start a business (days)'}, 'country': {'id': 'TH', 'value': 'Thailand'}, 'countryiso3code': 'THA', 'date': '1972', 'value': None, 'unit': '', 'obs_status': '', 'decimal': 0}, {'indicator': {'id': 'IC.REG.DURS', 'value': 'Time required to start a business (days)'}, 'country': {'id': 'TH', 'value': 'Thailand'}, 'countryiso3code': 'THA', 'date': '1971', 'value': None, 'unit': '', 'obs_status': '', 'decimal': 0}]]\n",
            "WB_data_THA.json\n"
          ]
        },
        {
          "output_type": "display_data",
          "data": {
            "application/javascript": [
              "\n",
              "    async function download(id, filename, size) {\n",
              "      if (!google.colab.kernel.accessAllowed) {\n",
              "        return;\n",
              "      }\n",
              "      const div = document.createElement('div');\n",
              "      const label = document.createElement('label');\n",
              "      label.textContent = `Downloading \"${filename}\": `;\n",
              "      div.appendChild(label);\n",
              "      const progress = document.createElement('progress');\n",
              "      progress.max = size;\n",
              "      div.appendChild(progress);\n",
              "      document.body.appendChild(div);\n",
              "\n",
              "      const buffers = [];\n",
              "      let downloaded = 0;\n",
              "\n",
              "      const channel = await google.colab.kernel.comms.open(id);\n",
              "      // Send a message to notify the kernel that we're ready.\n",
              "      channel.send({})\n",
              "\n",
              "      for await (const message of channel.messages) {\n",
              "        // Send a message to notify the kernel that we're ready.\n",
              "        channel.send({})\n",
              "        if (message.buffers) {\n",
              "          for (const buffer of message.buffers) {\n",
              "            buffers.push(buffer);\n",
              "            downloaded += buffer.byteLength;\n",
              "            progress.value = downloaded;\n",
              "          }\n",
              "        }\n",
              "      }\n",
              "      const blob = new Blob(buffers, {type: 'application/binary'});\n",
              "      const a = document.createElement('a');\n",
              "      a.href = window.URL.createObjectURL(blob);\n",
              "      a.download = filename;\n",
              "      div.appendChild(a);\n",
              "      a.click();\n",
              "      div.remove();\n",
              "    }\n",
              "  "
            ],
            "text/plain": [
              "<IPython.core.display.Javascript object>"
            ]
          },
          "metadata": {}
        },
        {
          "output_type": "display_data",
          "data": {
            "application/javascript": [
              "download(\"download_f2c02dc1-9907-445c-9596-ec2d08726493\", \"WB_data_THA.json\", 22389)"
            ],
            "text/plain": [
              "<IPython.core.display.Javascript object>"
            ]
          },
          "metadata": {}
        },
        {
          "output_type": "stream",
          "name": "stdout",
          "text": [
            "IDN\n",
            "http://api.worldbank.org/v2/country/IDN/indicator/IC.REG.DURS?format=json\n",
            "[{'page': 1, 'pages': 2, 'per_page': 50, 'total': 61, 'sourceid': '2', 'sourcename': 'World Development Indicators', 'lastupdated': '2021-10-28'}, [{'indicator': {'id': 'IC.REG.DURS', 'value': 'Time required to start a business (days)'}, 'country': {'id': 'ID', 'value': 'Indonesia'}, 'countryiso3code': 'IDN', 'date': '2020', 'value': None, 'unit': '', 'obs_status': '', 'decimal': 0}, {'indicator': {'id': 'IC.REG.DURS', 'value': 'Time required to start a business (days)'}, 'country': {'id': 'ID', 'value': 'Indonesia'}, 'countryiso3code': 'IDN', 'date': '2019', 'value': 12.6, 'unit': '', 'obs_status': '', 'decimal': 0}, {'indicator': {'id': 'IC.REG.DURS', 'value': 'Time required to start a business (days)'}, 'country': {'id': 'ID', 'value': 'Indonesia'}, 'countryiso3code': 'IDN', 'date': '2018', 'value': 21, 'unit': '', 'obs_status': '', 'decimal': 0}, {'indicator': {'id': 'IC.REG.DURS', 'value': 'Time required to start a business (days)'}, 'country': {'id': 'ID', 'value': 'Indonesia'}, 'countryiso3code': 'IDN', 'date': '2017', 'value': 24.5, 'unit': '', 'obs_status': '', 'decimal': 0}, {'indicator': {'id': 'IC.REG.DURS', 'value': 'Time required to start a business (days)'}, 'country': {'id': 'ID', 'value': 'Indonesia'}, 'countryiso3code': 'IDN', 'date': '2016', 'value': 26.3, 'unit': '', 'obs_status': '', 'decimal': 0}, {'indicator': {'id': 'IC.REG.DURS', 'value': 'Time required to start a business (days)'}, 'country': {'id': 'ID', 'value': 'Indonesia'}, 'countryiso3code': 'IDN', 'date': '2015', 'value': 49.3, 'unit': '', 'obs_status': '', 'decimal': 0}, {'indicator': {'id': 'IC.REG.DURS', 'value': 'Time required to start a business (days)'}, 'country': {'id': 'ID', 'value': 'Indonesia'}, 'countryiso3code': 'IDN', 'date': '2014', 'value': 53.9, 'unit': '', 'obs_status': '', 'decimal': 0}, {'indicator': {'id': 'IC.REG.DURS', 'value': 'Time required to start a business (days)'}, 'country': {'id': 'ID', 'value': 'Indonesia'}, 'countryiso3code': 'IDN', 'date': '2013', 'value': 77, 'unit': '', 'obs_status': '', 'decimal': 0}, {'indicator': {'id': 'IC.REG.DURS', 'value': 'Time required to start a business (days)'}, 'country': {'id': 'ID', 'value': 'Indonesia'}, 'countryiso3code': 'IDN', 'date': '2012', 'value': None, 'unit': '', 'obs_status': '', 'decimal': 0}, {'indicator': {'id': 'IC.REG.DURS', 'value': 'Time required to start a business (days)'}, 'country': {'id': 'ID', 'value': 'Indonesia'}, 'countryiso3code': 'IDN', 'date': '2011', 'value': None, 'unit': '', 'obs_status': '', 'decimal': 0}, {'indicator': {'id': 'IC.REG.DURS', 'value': 'Time required to start a business (days)'}, 'country': {'id': 'ID', 'value': 'Indonesia'}, 'countryiso3code': 'IDN', 'date': '2010', 'value': None, 'unit': '', 'obs_status': '', 'decimal': 0}, {'indicator': {'id': 'IC.REG.DURS', 'value': 'Time required to start a business (days)'}, 'country': {'id': 'ID', 'value': 'Indonesia'}, 'countryiso3code': 'IDN', 'date': '2009', 'value': None, 'unit': '', 'obs_status': '', 'decimal': 0}, {'indicator': {'id': 'IC.REG.DURS', 'value': 'Time required to start a business (days)'}, 'country': {'id': 'ID', 'value': 'Indonesia'}, 'countryiso3code': 'IDN', 'date': '2008', 'value': None, 'unit': '', 'obs_status': '', 'decimal': 0}, {'indicator': {'id': 'IC.REG.DURS', 'value': 'Time required to start a business (days)'}, 'country': {'id': 'ID', 'value': 'Indonesia'}, 'countryiso3code': 'IDN', 'date': '2007', 'value': None, 'unit': '', 'obs_status': '', 'decimal': 0}, {'indicator': {'id': 'IC.REG.DURS', 'value': 'Time required to start a business (days)'}, 'country': {'id': 'ID', 'value': 'Indonesia'}, 'countryiso3code': 'IDN', 'date': '2006', 'value': None, 'unit': '', 'obs_status': '', 'decimal': 0}, {'indicator': {'id': 'IC.REG.DURS', 'value': 'Time required to start a business (days)'}, 'country': {'id': 'ID', 'value': 'Indonesia'}, 'countryiso3code': 'IDN', 'date': '2005', 'value': None, 'unit': '', 'obs_status': '', 'decimal': 0}, {'indicator': {'id': 'IC.REG.DURS', 'value': 'Time required to start a business (days)'}, 'country': {'id': 'ID', 'value': 'Indonesia'}, 'countryiso3code': 'IDN', 'date': '2004', 'value': None, 'unit': '', 'obs_status': '', 'decimal': 0}, {'indicator': {'id': 'IC.REG.DURS', 'value': 'Time required to start a business (days)'}, 'country': {'id': 'ID', 'value': 'Indonesia'}, 'countryiso3code': 'IDN', 'date': '2003', 'value': None, 'unit': '', 'obs_status': '', 'decimal': 0}, {'indicator': {'id': 'IC.REG.DURS', 'value': 'Time required to start a business (days)'}, 'country': {'id': 'ID', 'value': 'Indonesia'}, 'countryiso3code': 'IDN', 'date': '2002', 'value': None, 'unit': '', 'obs_status': '', 'decimal': 0}, {'indicator': {'id': 'IC.REG.DURS', 'value': 'Time required to start a business (days)'}, 'country': {'id': 'ID', 'value': 'Indonesia'}, 'countryiso3code': 'IDN', 'date': '2001', 'value': None, 'unit': '', 'obs_status': '', 'decimal': 0}, {'indicator': {'id': 'IC.REG.DURS', 'value': 'Time required to start a business (days)'}, 'country': {'id': 'ID', 'value': 'Indonesia'}, 'countryiso3code': 'IDN', 'date': '2000', 'value': None, 'unit': '', 'obs_status': '', 'decimal': 0}, {'indicator': {'id': 'IC.REG.DURS', 'value': 'Time required to start a business (days)'}, 'country': {'id': 'ID', 'value': 'Indonesia'}, 'countryiso3code': 'IDN', 'date': '1999', 'value': None, 'unit': '', 'obs_status': '', 'decimal': 0}, {'indicator': {'id': 'IC.REG.DURS', 'value': 'Time required to start a business (days)'}, 'country': {'id': 'ID', 'value': 'Indonesia'}, 'countryiso3code': 'IDN', 'date': '1998', 'value': None, 'unit': '', 'obs_status': '', 'decimal': 0}, {'indicator': {'id': 'IC.REG.DURS', 'value': 'Time required to start a business (days)'}, 'country': {'id': 'ID', 'value': 'Indonesia'}, 'countryiso3code': 'IDN', 'date': '1997', 'value': None, 'unit': '', 'obs_status': '', 'decimal': 0}, {'indicator': {'id': 'IC.REG.DURS', 'value': 'Time required to start a business (days)'}, 'country': {'id': 'ID', 'value': 'Indonesia'}, 'countryiso3code': 'IDN', 'date': '1996', 'value': None, 'unit': '', 'obs_status': '', 'decimal': 0}, {'indicator': {'id': 'IC.REG.DURS', 'value': 'Time required to start a business (days)'}, 'country': {'id': 'ID', 'value': 'Indonesia'}, 'countryiso3code': 'IDN', 'date': '1995', 'value': None, 'unit': '', 'obs_status': '', 'decimal': 0}, {'indicator': {'id': 'IC.REG.DURS', 'value': 'Time required to start a business (days)'}, 'country': {'id': 'ID', 'value': 'Indonesia'}, 'countryiso3code': 'IDN', 'date': '1994', 'value': None, 'unit': '', 'obs_status': '', 'decimal': 0}, {'indicator': {'id': 'IC.REG.DURS', 'value': 'Time required to start a business (days)'}, 'country': {'id': 'ID', 'value': 'Indonesia'}, 'countryiso3code': 'IDN', 'date': '1993', 'value': None, 'unit': '', 'obs_status': '', 'decimal': 0}, {'indicator': {'id': 'IC.REG.DURS', 'value': 'Time required to start a business (days)'}, 'country': {'id': 'ID', 'value': 'Indonesia'}, 'countryiso3code': 'IDN', 'date': '1992', 'value': None, 'unit': '', 'obs_status': '', 'decimal': 0}, {'indicator': {'id': 'IC.REG.DURS', 'value': 'Time required to start a business (days)'}, 'country': {'id': 'ID', 'value': 'Indonesia'}, 'countryiso3code': 'IDN', 'date': '1991', 'value': None, 'unit': '', 'obs_status': '', 'decimal': 0}, {'indicator': {'id': 'IC.REG.DURS', 'value': 'Time required to start a business (days)'}, 'country': {'id': 'ID', 'value': 'Indonesia'}, 'countryiso3code': 'IDN', 'date': '1990', 'value': None, 'unit': '', 'obs_status': '', 'decimal': 0}, {'indicator': {'id': 'IC.REG.DURS', 'value': 'Time required to start a business (days)'}, 'country': {'id': 'ID', 'value': 'Indonesia'}, 'countryiso3code': 'IDN', 'date': '1989', 'value': None, 'unit': '', 'obs_status': '', 'decimal': 0}, {'indicator': {'id': 'IC.REG.DURS', 'value': 'Time required to start a business (days)'}, 'country': {'id': 'ID', 'value': 'Indonesia'}, 'countryiso3code': 'IDN', 'date': '1988', 'value': None, 'unit': '', 'obs_status': '', 'decimal': 0}, {'indicator': {'id': 'IC.REG.DURS', 'value': 'Time required to start a business (days)'}, 'country': {'id': 'ID', 'value': 'Indonesia'}, 'countryiso3code': 'IDN', 'date': '1987', 'value': None, 'unit': '', 'obs_status': '', 'decimal': 0}, {'indicator': {'id': 'IC.REG.DURS', 'value': 'Time required to start a business (days)'}, 'country': {'id': 'ID', 'value': 'Indonesia'}, 'countryiso3code': 'IDN', 'date': '1986', 'value': None, 'unit': '', 'obs_status': '', 'decimal': 0}, {'indicator': {'id': 'IC.REG.DURS', 'value': 'Time required to start a business (days)'}, 'country': {'id': 'ID', 'value': 'Indonesia'}, 'countryiso3code': 'IDN', 'date': '1985', 'value': None, 'unit': '', 'obs_status': '', 'decimal': 0}, {'indicator': {'id': 'IC.REG.DURS', 'value': 'Time required to start a business (days)'}, 'country': {'id': 'ID', 'value': 'Indonesia'}, 'countryiso3code': 'IDN', 'date': '1984', 'value': None, 'unit': '', 'obs_status': '', 'decimal': 0}, {'indicator': {'id': 'IC.REG.DURS', 'value': 'Time required to start a business (days)'}, 'country': {'id': 'ID', 'value': 'Indonesia'}, 'countryiso3code': 'IDN', 'date': '1983', 'value': None, 'unit': '', 'obs_status': '', 'decimal': 0}, {'indicator': {'id': 'IC.REG.DURS', 'value': 'Time required to start a business (days)'}, 'country': {'id': 'ID', 'value': 'Indonesia'}, 'countryiso3code': 'IDN', 'date': '1982', 'value': None, 'unit': '', 'obs_status': '', 'decimal': 0}, {'indicator': {'id': 'IC.REG.DURS', 'value': 'Time required to start a business (days)'}, 'country': {'id': 'ID', 'value': 'Indonesia'}, 'countryiso3code': 'IDN', 'date': '1981', 'value': None, 'unit': '', 'obs_status': '', 'decimal': 0}, {'indicator': {'id': 'IC.REG.DURS', 'value': 'Time required to start a business (days)'}, 'country': {'id': 'ID', 'value': 'Indonesia'}, 'countryiso3code': 'IDN', 'date': '1980', 'value': None, 'unit': '', 'obs_status': '', 'decimal': 0}, {'indicator': {'id': 'IC.REG.DURS', 'value': 'Time required to start a business (days)'}, 'country': {'id': 'ID', 'value': 'Indonesia'}, 'countryiso3code': 'IDN', 'date': '1979', 'value': None, 'unit': '', 'obs_status': '', 'decimal': 0}, {'indicator': {'id': 'IC.REG.DURS', 'value': 'Time required to start a business (days)'}, 'country': {'id': 'ID', 'value': 'Indonesia'}, 'countryiso3code': 'IDN', 'date': '1978', 'value': None, 'unit': '', 'obs_status': '', 'decimal': 0}, {'indicator': {'id': 'IC.REG.DURS', 'value': 'Time required to start a business (days)'}, 'country': {'id': 'ID', 'value': 'Indonesia'}, 'countryiso3code': 'IDN', 'date': '1977', 'value': None, 'unit': '', 'obs_status': '', 'decimal': 0}, {'indicator': {'id': 'IC.REG.DURS', 'value': 'Time required to start a business (days)'}, 'country': {'id': 'ID', 'value': 'Indonesia'}, 'countryiso3code': 'IDN', 'date': '1976', 'value': None, 'unit': '', 'obs_status': '', 'decimal': 0}, {'indicator': {'id': 'IC.REG.DURS', 'value': 'Time required to start a business (days)'}, 'country': {'id': 'ID', 'value': 'Indonesia'}, 'countryiso3code': 'IDN', 'date': '1975', 'value': None, 'unit': '', 'obs_status': '', 'decimal': 0}, {'indicator': {'id': 'IC.REG.DURS', 'value': 'Time required to start a business (days)'}, 'country': {'id': 'ID', 'value': 'Indonesia'}, 'countryiso3code': 'IDN', 'date': '1974', 'value': None, 'unit': '', 'obs_status': '', 'decimal': 0}, {'indicator': {'id': 'IC.REG.DURS', 'value': 'Time required to start a business (days)'}, 'country': {'id': 'ID', 'value': 'Indonesia'}, 'countryiso3code': 'IDN', 'date': '1973', 'value': None, 'unit': '', 'obs_status': '', 'decimal': 0}, {'indicator': {'id': 'IC.REG.DURS', 'value': 'Time required to start a business (days)'}, 'country': {'id': 'ID', 'value': 'Indonesia'}, 'countryiso3code': 'IDN', 'date': '1972', 'value': None, 'unit': '', 'obs_status': '', 'decimal': 0}, {'indicator': {'id': 'IC.REG.DURS', 'value': 'Time required to start a business (days)'}, 'country': {'id': 'ID', 'value': 'Indonesia'}, 'countryiso3code': 'IDN', 'date': '1971', 'value': None, 'unit': '', 'obs_status': '', 'decimal': 0}]]\n",
            "WB_data_IDN.json\n"
          ]
        },
        {
          "output_type": "display_data",
          "data": {
            "application/javascript": [
              "\n",
              "    async function download(id, filename, size) {\n",
              "      if (!google.colab.kernel.accessAllowed) {\n",
              "        return;\n",
              "      }\n",
              "      const div = document.createElement('div');\n",
              "      const label = document.createElement('label');\n",
              "      label.textContent = `Downloading \"${filename}\": `;\n",
              "      div.appendChild(label);\n",
              "      const progress = document.createElement('progress');\n",
              "      progress.max = size;\n",
              "      div.appendChild(progress);\n",
              "      document.body.appendChild(div);\n",
              "\n",
              "      const buffers = [];\n",
              "      let downloaded = 0;\n",
              "\n",
              "      const channel = await google.colab.kernel.comms.open(id);\n",
              "      // Send a message to notify the kernel that we're ready.\n",
              "      channel.send({})\n",
              "\n",
              "      for await (const message of channel.messages) {\n",
              "        // Send a message to notify the kernel that we're ready.\n",
              "        channel.send({})\n",
              "        if (message.buffers) {\n",
              "          for (const buffer of message.buffers) {\n",
              "            buffers.push(buffer);\n",
              "            downloaded += buffer.byteLength;\n",
              "            progress.value = downloaded;\n",
              "          }\n",
              "        }\n",
              "      }\n",
              "      const blob = new Blob(buffers, {type: 'application/binary'});\n",
              "      const a = document.createElement('a');\n",
              "      a.href = window.URL.createObjectURL(blob);\n",
              "      a.download = filename;\n",
              "      div.appendChild(a);\n",
              "      a.click();\n",
              "      div.remove();\n",
              "    }\n",
              "  "
            ],
            "text/plain": [
              "<IPython.core.display.Javascript object>"
            ]
          },
          "metadata": {}
        },
        {
          "output_type": "display_data",
          "data": {
            "application/javascript": [
              "download(\"download_5f9a0fc5-fb5e-4de0-a10c-ab917a9c416a\", \"WB_data_IDN.json\", 22472)"
            ],
            "text/plain": [
              "<IPython.core.display.Javascript object>"
            ]
          },
          "metadata": {}
        }
      ]
    },
    {
      "cell_type": "markdown",
      "metadata": {
        "id": "u4uM-w1VUuIH"
      },
      "source": [
        "<h3> Cost of opening a business </h3>"
      ]
    },
    {
      "cell_type": "code",
      "metadata": {
        "colab": {
          "base_uri": "https://localhost:8080/",
          "height": 717
        },
        "id": "GSGQkZWkUyir",
        "outputId": "602a2258-c54b-4a4b-fcd0-01635e7de7b3"
      },
      "source": [
        "url_base_two = \"http://api.worldbank.org/v2/country/{}/indicator/IC.REG.COST.PC.ZS?format=json\"\n",
        "\n",
        "country = ['ZAF','GBR','DNK','DEU','ESP','EST','ARE','IRN',\n",
        "           'IND','KAZ']\n",
        "\n",
        "file_base_two = \"WB_data_cost_{}.json\"\n",
        "\n",
        "for i in country:\n",
        "  print(i)\n",
        "\n",
        "  URLtwo = url_base_two.format(i)\n",
        "\n",
        "  print(URLtwo)\n",
        "\n",
        "  data_two = requests.get(URLtwo).json()\n",
        "\n",
        "  print(data_two)\n",
        "\n",
        "  fileName_two = file_base_two.format(i)\n",
        "  print(fileName_two)\n",
        "\n",
        "  with open(fileName_two, 'w', encoding='utf-8') as f:\n",
        "     json.dump(data_two, f, ensure_ascii=False, indent=4)\n",
        "\n",
        "  files.download(fileName_two)"
      ],
      "execution_count": 23,
      "outputs": [
        {
          "output_type": "stream",
          "name": "stdout",
          "text": [
            "ZAF\n",
            "http://api.worldbank.org/v2/country/ZAF/indicator/IC.REG.COST.PC.ZS?format=json\n",
            "[{'page': 1, 'pages': 2, 'per_page': 50, 'total': 61, 'sourceid': '2', 'sourcename': 'World Development Indicators', 'lastupdated': '2021-10-28'}, [{'indicator': {'id': 'IC.REG.COST.PC.ZS', 'value': 'Cost of business start-up procedures (% of GNI per capita)'}, 'country': {'id': 'ZA', 'value': 'South Africa'}, 'countryiso3code': 'ZAF', 'date': '2020', 'value': None, 'unit': '', 'obs_status': '', 'decimal': 1}, {'indicator': {'id': 'IC.REG.COST.PC.ZS', 'value': 'Cost of business start-up procedures (% of GNI per capita)'}, 'country': {'id': 'ZA', 'value': 'South Africa'}, 'countryiso3code': 'ZAF', 'date': '2019', 'value': 0.2, 'unit': '', 'obs_status': '', 'decimal': 1}, {'indicator': {'id': 'IC.REG.COST.PC.ZS', 'value': 'Cost of business start-up procedures (% of GNI per capita)'}, 'country': {'id': 'ZA', 'value': 'South Africa'}, 'countryiso3code': 'ZAF', 'date': '2018', 'value': 0.2, 'unit': '', 'obs_status': '', 'decimal': 1}, {'indicator': {'id': 'IC.REG.COST.PC.ZS', 'value': 'Cost of business start-up procedures (% of GNI per capita)'}, 'country': {'id': 'ZA', 'value': 'South Africa'}, 'countryiso3code': 'ZAF', 'date': '2017', 'value': 0.2, 'unit': '', 'obs_status': '', 'decimal': 1}, {'indicator': {'id': 'IC.REG.COST.PC.ZS', 'value': 'Cost of business start-up procedures (% of GNI per capita)'}, 'country': {'id': 'ZA', 'value': 'South Africa'}, 'countryiso3code': 'ZAF', 'date': '2016', 'value': 0.2, 'unit': '', 'obs_status': '', 'decimal': 1}, {'indicator': {'id': 'IC.REG.COST.PC.ZS', 'value': 'Cost of business start-up procedures (% of GNI per capita)'}, 'country': {'id': 'ZA', 'value': 'South Africa'}, 'countryiso3code': 'ZAF', 'date': '2015', 'value': 0.3, 'unit': '', 'obs_status': '', 'decimal': 1}, {'indicator': {'id': 'IC.REG.COST.PC.ZS', 'value': 'Cost of business start-up procedures (% of GNI per capita)'}, 'country': {'id': 'ZA', 'value': 'South Africa'}, 'countryiso3code': 'ZAF', 'date': '2014', 'value': 0.3, 'unit': '', 'obs_status': '', 'decimal': 1}, {'indicator': {'id': 'IC.REG.COST.PC.ZS', 'value': 'Cost of business start-up procedures (% of GNI per capita)'}, 'country': {'id': 'ZA', 'value': 'South Africa'}, 'countryiso3code': 'ZAF', 'date': '2013', 'value': 0.3, 'unit': '', 'obs_status': '', 'decimal': 1}, {'indicator': {'id': 'IC.REG.COST.PC.ZS', 'value': 'Cost of business start-up procedures (% of GNI per capita)'}, 'country': {'id': 'ZA', 'value': 'South Africa'}, 'countryiso3code': 'ZAF', 'date': '2012', 'value': 0.3, 'unit': '', 'obs_status': '', 'decimal': 1}, {'indicator': {'id': 'IC.REG.COST.PC.ZS', 'value': 'Cost of business start-up procedures (% of GNI per capita)'}, 'country': {'id': 'ZA', 'value': 'South Africa'}, 'countryiso3code': 'ZAF', 'date': '2011', 'value': 0.3, 'unit': '', 'obs_status': '', 'decimal': 1}, {'indicator': {'id': 'IC.REG.COST.PC.ZS', 'value': 'Cost of business start-up procedures (% of GNI per capita)'}, 'country': {'id': 'ZA', 'value': 'South Africa'}, 'countryiso3code': 'ZAF', 'date': '2010', 'value': 6, 'unit': '', 'obs_status': '', 'decimal': 1}, {'indicator': {'id': 'IC.REG.COST.PC.ZS', 'value': 'Cost of business start-up procedures (% of GNI per capita)'}, 'country': {'id': 'ZA', 'value': 'South Africa'}, 'countryiso3code': 'ZAF', 'date': '2009', 'value': 5.9, 'unit': '', 'obs_status': '', 'decimal': 1}, {'indicator': {'id': 'IC.REG.COST.PC.ZS', 'value': 'Cost of business start-up procedures (% of GNI per capita)'}, 'country': {'id': 'ZA', 'value': 'South Africa'}, 'countryiso3code': 'ZAF', 'date': '2008', 'value': 6, 'unit': '', 'obs_status': '', 'decimal': 1}, {'indicator': {'id': 'IC.REG.COST.PC.ZS', 'value': 'Cost of business start-up procedures (% of GNI per capita)'}, 'country': {'id': 'ZA', 'value': 'South Africa'}, 'countryiso3code': 'ZAF', 'date': '2007', 'value': 7.1, 'unit': '', 'obs_status': '', 'decimal': 1}, {'indicator': {'id': 'IC.REG.COST.PC.ZS', 'value': 'Cost of business start-up procedures (% of GNI per capita)'}, 'country': {'id': 'ZA', 'value': 'South Africa'}, 'countryiso3code': 'ZAF', 'date': '2006', 'value': 6.9, 'unit': '', 'obs_status': '', 'decimal': 1}, {'indicator': {'id': 'IC.REG.COST.PC.ZS', 'value': 'Cost of business start-up procedures (% of GNI per capita)'}, 'country': {'id': 'ZA', 'value': 'South Africa'}, 'countryiso3code': 'ZAF', 'date': '2005', 'value': 8.6, 'unit': '', 'obs_status': '', 'decimal': 1}, {'indicator': {'id': 'IC.REG.COST.PC.ZS', 'value': 'Cost of business start-up procedures (% of GNI per capita)'}, 'country': {'id': 'ZA', 'value': 'South Africa'}, 'countryiso3code': 'ZAF', 'date': '2004', 'value': 9.1, 'unit': '', 'obs_status': '', 'decimal': 1}, {'indicator': {'id': 'IC.REG.COST.PC.ZS', 'value': 'Cost of business start-up procedures (% of GNI per capita)'}, 'country': {'id': 'ZA', 'value': 'South Africa'}, 'countryiso3code': 'ZAF', 'date': '2003', 'value': 9.4, 'unit': '', 'obs_status': '', 'decimal': 1}, {'indicator': {'id': 'IC.REG.COST.PC.ZS', 'value': 'Cost of business start-up procedures (% of GNI per capita)'}, 'country': {'id': 'ZA', 'value': 'South Africa'}, 'countryiso3code': 'ZAF', 'date': '2002', 'value': None, 'unit': '', 'obs_status': '', 'decimal': 1}, {'indicator': {'id': 'IC.REG.COST.PC.ZS', 'value': 'Cost of business start-up procedures (% of GNI per capita)'}, 'country': {'id': 'ZA', 'value': 'South Africa'}, 'countryiso3code': 'ZAF', 'date': '2001', 'value': None, 'unit': '', 'obs_status': '', 'decimal': 1}, {'indicator': {'id': 'IC.REG.COST.PC.ZS', 'value': 'Cost of business start-up procedures (% of GNI per capita)'}, 'country': {'id': 'ZA', 'value': 'South Africa'}, 'countryiso3code': 'ZAF', 'date': '2000', 'value': None, 'unit': '', 'obs_status': '', 'decimal': 1}, {'indicator': {'id': 'IC.REG.COST.PC.ZS', 'value': 'Cost of business start-up procedures (% of GNI per capita)'}, 'country': {'id': 'ZA', 'value': 'South Africa'}, 'countryiso3code': 'ZAF', 'date': '1999', 'value': None, 'unit': '', 'obs_status': '', 'decimal': 1}, {'indicator': {'id': 'IC.REG.COST.PC.ZS', 'value': 'Cost of business start-up procedures (% of GNI per capita)'}, 'country': {'id': 'ZA', 'value': 'South Africa'}, 'countryiso3code': 'ZAF', 'date': '1998', 'value': None, 'unit': '', 'obs_status': '', 'decimal': 1}, {'indicator': {'id': 'IC.REG.COST.PC.ZS', 'value': 'Cost of business start-up procedures (% of GNI per capita)'}, 'country': {'id': 'ZA', 'value': 'South Africa'}, 'countryiso3code': 'ZAF', 'date': '1997', 'value': None, 'unit': '', 'obs_status': '', 'decimal': 1}, {'indicator': {'id': 'IC.REG.COST.PC.ZS', 'value': 'Cost of business start-up procedures (% of GNI per capita)'}, 'country': {'id': 'ZA', 'value': 'South Africa'}, 'countryiso3code': 'ZAF', 'date': '1996', 'value': None, 'unit': '', 'obs_status': '', 'decimal': 1}, {'indicator': {'id': 'IC.REG.COST.PC.ZS', 'value': 'Cost of business start-up procedures (% of GNI per capita)'}, 'country': {'id': 'ZA', 'value': 'South Africa'}, 'countryiso3code': 'ZAF', 'date': '1995', 'value': None, 'unit': '', 'obs_status': '', 'decimal': 1}, {'indicator': {'id': 'IC.REG.COST.PC.ZS', 'value': 'Cost of business start-up procedures (% of GNI per capita)'}, 'country': {'id': 'ZA', 'value': 'South Africa'}, 'countryiso3code': 'ZAF', 'date': '1994', 'value': None, 'unit': '', 'obs_status': '', 'decimal': 1}, {'indicator': {'id': 'IC.REG.COST.PC.ZS', 'value': 'Cost of business start-up procedures (% of GNI per capita)'}, 'country': {'id': 'ZA', 'value': 'South Africa'}, 'countryiso3code': 'ZAF', 'date': '1993', 'value': None, 'unit': '', 'obs_status': '', 'decimal': 1}, {'indicator': {'id': 'IC.REG.COST.PC.ZS', 'value': 'Cost of business start-up procedures (% of GNI per capita)'}, 'country': {'id': 'ZA', 'value': 'South Africa'}, 'countryiso3code': 'ZAF', 'date': '1992', 'value': None, 'unit': '', 'obs_status': '', 'decimal': 1}, {'indicator': {'id': 'IC.REG.COST.PC.ZS', 'value': 'Cost of business start-up procedures (% of GNI per capita)'}, 'country': {'id': 'ZA', 'value': 'South Africa'}, 'countryiso3code': 'ZAF', 'date': '1991', 'value': None, 'unit': '', 'obs_status': '', 'decimal': 1}, {'indicator': {'id': 'IC.REG.COST.PC.ZS', 'value': 'Cost of business start-up procedures (% of GNI per capita)'}, 'country': {'id': 'ZA', 'value': 'South Africa'}, 'countryiso3code': 'ZAF', 'date': '1990', 'value': None, 'unit': '', 'obs_status': '', 'decimal': 1}, {'indicator': {'id': 'IC.REG.COST.PC.ZS', 'value': 'Cost of business start-up procedures (% of GNI per capita)'}, 'country': {'id': 'ZA', 'value': 'South Africa'}, 'countryiso3code': 'ZAF', 'date': '1989', 'value': None, 'unit': '', 'obs_status': '', 'decimal': 1}, {'indicator': {'id': 'IC.REG.COST.PC.ZS', 'value': 'Cost of business start-up procedures (% of GNI per capita)'}, 'country': {'id': 'ZA', 'value': 'South Africa'}, 'countryiso3code': 'ZAF', 'date': '1988', 'value': None, 'unit': '', 'obs_status': '', 'decimal': 1}, {'indicator': {'id': 'IC.REG.COST.PC.ZS', 'value': 'Cost of business start-up procedures (% of GNI per capita)'}, 'country': {'id': 'ZA', 'value': 'South Africa'}, 'countryiso3code': 'ZAF', 'date': '1987', 'value': None, 'unit': '', 'obs_status': '', 'decimal': 1}, {'indicator': {'id': 'IC.REG.COST.PC.ZS', 'value': 'Cost of business start-up procedures (% of GNI per capita)'}, 'country': {'id': 'ZA', 'value': 'South Africa'}, 'countryiso3code': 'ZAF', 'date': '1986', 'value': None, 'unit': '', 'obs_status': '', 'decimal': 1}, {'indicator': {'id': 'IC.REG.COST.PC.ZS', 'value': 'Cost of business start-up procedures (% of GNI per capita)'}, 'country': {'id': 'ZA', 'value': 'South Africa'}, 'countryiso3code': 'ZAF', 'date': '1985', 'value': None, 'unit': '', 'obs_status': '', 'decimal': 1}, {'indicator': {'id': 'IC.REG.COST.PC.ZS', 'value': 'Cost of business start-up procedures (% of GNI per capita)'}, 'country': {'id': 'ZA', 'value': 'South Africa'}, 'countryiso3code': 'ZAF', 'date': '1984', 'value': None, 'unit': '', 'obs_status': '', 'decimal': 1}, {'indicator': {'id': 'IC.REG.COST.PC.ZS', 'value': 'Cost of business start-up procedures (% of GNI per capita)'}, 'country': {'id': 'ZA', 'value': 'South Africa'}, 'countryiso3code': 'ZAF', 'date': '1983', 'value': None, 'unit': '', 'obs_status': '', 'decimal': 1}, {'indicator': {'id': 'IC.REG.COST.PC.ZS', 'value': 'Cost of business start-up procedures (% of GNI per capita)'}, 'country': {'id': 'ZA', 'value': 'South Africa'}, 'countryiso3code': 'ZAF', 'date': '1982', 'value': None, 'unit': '', 'obs_status': '', 'decimal': 1}, {'indicator': {'id': 'IC.REG.COST.PC.ZS', 'value': 'Cost of business start-up procedures (% of GNI per capita)'}, 'country': {'id': 'ZA', 'value': 'South Africa'}, 'countryiso3code': 'ZAF', 'date': '1981', 'value': None, 'unit': '', 'obs_status': '', 'decimal': 1}, {'indicator': {'id': 'IC.REG.COST.PC.ZS', 'value': 'Cost of business start-up procedures (% of GNI per capita)'}, 'country': {'id': 'ZA', 'value': 'South Africa'}, 'countryiso3code': 'ZAF', 'date': '1980', 'value': None, 'unit': '', 'obs_status': '', 'decimal': 1}, {'indicator': {'id': 'IC.REG.COST.PC.ZS', 'value': 'Cost of business start-up procedures (% of GNI per capita)'}, 'country': {'id': 'ZA', 'value': 'South Africa'}, 'countryiso3code': 'ZAF', 'date': '1979', 'value': None, 'unit': '', 'obs_status': '', 'decimal': 1}, {'indicator': {'id': 'IC.REG.COST.PC.ZS', 'value': 'Cost of business start-up procedures (% of GNI per capita)'}, 'country': {'id': 'ZA', 'value': 'South Africa'}, 'countryiso3code': 'ZAF', 'date': '1978', 'value': None, 'unit': '', 'obs_status': '', 'decimal': 1}, {'indicator': {'id': 'IC.REG.COST.PC.ZS', 'value': 'Cost of business start-up procedures (% of GNI per capita)'}, 'country': {'id': 'ZA', 'value': 'South Africa'}, 'countryiso3code': 'ZAF', 'date': '1977', 'value': None, 'unit': '', 'obs_status': '', 'decimal': 1}, {'indicator': {'id': 'IC.REG.COST.PC.ZS', 'value': 'Cost of business start-up procedures (% of GNI per capita)'}, 'country': {'id': 'ZA', 'value': 'South Africa'}, 'countryiso3code': 'ZAF', 'date': '1976', 'value': None, 'unit': '', 'obs_status': '', 'decimal': 1}, {'indicator': {'id': 'IC.REG.COST.PC.ZS', 'value': 'Cost of business start-up procedures (% of GNI per capita)'}, 'country': {'id': 'ZA', 'value': 'South Africa'}, 'countryiso3code': 'ZAF', 'date': '1975', 'value': None, 'unit': '', 'obs_status': '', 'decimal': 1}, {'indicator': {'id': 'IC.REG.COST.PC.ZS', 'value': 'Cost of business start-up procedures (% of GNI per capita)'}, 'country': {'id': 'ZA', 'value': 'South Africa'}, 'countryiso3code': 'ZAF', 'date': '1974', 'value': None, 'unit': '', 'obs_status': '', 'decimal': 1}, {'indicator': {'id': 'IC.REG.COST.PC.ZS', 'value': 'Cost of business start-up procedures (% of GNI per capita)'}, 'country': {'id': 'ZA', 'value': 'South Africa'}, 'countryiso3code': 'ZAF', 'date': '1973', 'value': None, 'unit': '', 'obs_status': '', 'decimal': 1}, {'indicator': {'id': 'IC.REG.COST.PC.ZS', 'value': 'Cost of business start-up procedures (% of GNI per capita)'}, 'country': {'id': 'ZA', 'value': 'South Africa'}, 'countryiso3code': 'ZAF', 'date': '1972', 'value': None, 'unit': '', 'obs_status': '', 'decimal': 1}, {'indicator': {'id': 'IC.REG.COST.PC.ZS', 'value': 'Cost of business start-up procedures (% of GNI per capita)'}, 'country': {'id': 'ZA', 'value': 'South Africa'}, 'countryiso3code': 'ZAF', 'date': '1971', 'value': None, 'unit': '', 'obs_status': '', 'decimal': 1}]]\n",
            "WB_data_cost_ZAF.json\n"
          ]
        },
        {
          "output_type": "display_data",
          "data": {
            "application/javascript": [
              "\n",
              "    async function download(id, filename, size) {\n",
              "      if (!google.colab.kernel.accessAllowed) {\n",
              "        return;\n",
              "      }\n",
              "      const div = document.createElement('div');\n",
              "      const label = document.createElement('label');\n",
              "      label.textContent = `Downloading \"${filename}\": `;\n",
              "      div.appendChild(label);\n",
              "      const progress = document.createElement('progress');\n",
              "      progress.max = size;\n",
              "      div.appendChild(progress);\n",
              "      document.body.appendChild(div);\n",
              "\n",
              "      const buffers = [];\n",
              "      let downloaded = 0;\n",
              "\n",
              "      const channel = await google.colab.kernel.comms.open(id);\n",
              "      // Send a message to notify the kernel that we're ready.\n",
              "      channel.send({})\n",
              "\n",
              "      for await (const message of channel.messages) {\n",
              "        // Send a message to notify the kernel that we're ready.\n",
              "        channel.send({})\n",
              "        if (message.buffers) {\n",
              "          for (const buffer of message.buffers) {\n",
              "            buffers.push(buffer);\n",
              "            downloaded += buffer.byteLength;\n",
              "            progress.value = downloaded;\n",
              "          }\n",
              "        }\n",
              "      }\n",
              "      const blob = new Blob(buffers, {type: 'application/binary'});\n",
              "      const a = document.createElement('a');\n",
              "      a.href = window.URL.createObjectURL(blob);\n",
              "      a.download = filename;\n",
              "      div.appendChild(a);\n",
              "      a.click();\n",
              "      div.remove();\n",
              "    }\n",
              "  "
            ],
            "text/plain": [
              "<IPython.core.display.Javascript object>"
            ]
          },
          "metadata": {}
        },
        {
          "output_type": "display_data",
          "data": {
            "application/javascript": [
              "download(\"download_05a9f1fa-09b2-4647-a719-665def5d4e49\", \"WB_data_cost_ZAF.json\", 23805)"
            ],
            "text/plain": [
              "<IPython.core.display.Javascript object>"
            ]
          },
          "metadata": {}
        },
        {
          "output_type": "stream",
          "name": "stdout",
          "text": [
            "GBR\n",
            "http://api.worldbank.org/v2/country/GBR/indicator/IC.REG.COST.PC.ZS?format=json\n",
            "[{'page': 1, 'pages': 2, 'per_page': 50, 'total': 61, 'sourceid': '2', 'sourcename': 'World Development Indicators', 'lastupdated': '2021-10-28'}, [{'indicator': {'id': 'IC.REG.COST.PC.ZS', 'value': 'Cost of business start-up procedures (% of GNI per capita)'}, 'country': {'id': 'GB', 'value': 'United Kingdom'}, 'countryiso3code': 'GBR', 'date': '2020', 'value': None, 'unit': '', 'obs_status': '', 'decimal': 1}, {'indicator': {'id': 'IC.REG.COST.PC.ZS', 'value': 'Cost of business start-up procedures (% of GNI per capita)'}, 'country': {'id': 'GB', 'value': 'United Kingdom'}, 'countryiso3code': 'GBR', 'date': '2019', 'value': 0, 'unit': '', 'obs_status': '', 'decimal': 1}, {'indicator': {'id': 'IC.REG.COST.PC.ZS', 'value': 'Cost of business start-up procedures (% of GNI per capita)'}, 'country': {'id': 'GB', 'value': 'United Kingdom'}, 'countryiso3code': 'GBR', 'date': '2018', 'value': 0, 'unit': '', 'obs_status': '', 'decimal': 1}, {'indicator': {'id': 'IC.REG.COST.PC.ZS', 'value': 'Cost of business start-up procedures (% of GNI per capita)'}, 'country': {'id': 'GB', 'value': 'United Kingdom'}, 'countryiso3code': 'GBR', 'date': '2017', 'value': 0, 'unit': '', 'obs_status': '', 'decimal': 1}, {'indicator': {'id': 'IC.REG.COST.PC.ZS', 'value': 'Cost of business start-up procedures (% of GNI per capita)'}, 'country': {'id': 'GB', 'value': 'United Kingdom'}, 'countryiso3code': 'GBR', 'date': '2016', 'value': 0.1, 'unit': '', 'obs_status': '', 'decimal': 1}, {'indicator': {'id': 'IC.REG.COST.PC.ZS', 'value': 'Cost of business start-up procedures (% of GNI per capita)'}, 'country': {'id': 'GB', 'value': 'United Kingdom'}, 'countryiso3code': 'GBR', 'date': '2015', 'value': 0.1, 'unit': '', 'obs_status': '', 'decimal': 1}, {'indicator': {'id': 'IC.REG.COST.PC.ZS', 'value': 'Cost of business start-up procedures (% of GNI per capita)'}, 'country': {'id': 'GB', 'value': 'United Kingdom'}, 'countryiso3code': 'GBR', 'date': '2014', 'value': 0.3, 'unit': '', 'obs_status': '', 'decimal': 1}, {'indicator': {'id': 'IC.REG.COST.PC.ZS', 'value': 'Cost of business start-up procedures (% of GNI per capita)'}, 'country': {'id': 'GB', 'value': 'United Kingdom'}, 'countryiso3code': 'GBR', 'date': '2013', 'value': 0.3, 'unit': '', 'obs_status': '', 'decimal': 1}, {'indicator': {'id': 'IC.REG.COST.PC.ZS', 'value': 'Cost of business start-up procedures (% of GNI per capita)'}, 'country': {'id': 'GB', 'value': 'United Kingdom'}, 'countryiso3code': 'GBR', 'date': '2012', 'value': 0.7, 'unit': '', 'obs_status': '', 'decimal': 1}, {'indicator': {'id': 'IC.REG.COST.PC.ZS', 'value': 'Cost of business start-up procedures (% of GNI per capita)'}, 'country': {'id': 'GB', 'value': 'United Kingdom'}, 'countryiso3code': 'GBR', 'date': '2011', 'value': 0.7, 'unit': '', 'obs_status': '', 'decimal': 1}, {'indicator': {'id': 'IC.REG.COST.PC.ZS', 'value': 'Cost of business start-up procedures (% of GNI per capita)'}, 'country': {'id': 'GB', 'value': 'United Kingdom'}, 'countryiso3code': 'GBR', 'date': '2010', 'value': 0.7, 'unit': '', 'obs_status': '', 'decimal': 1}, {'indicator': {'id': 'IC.REG.COST.PC.ZS', 'value': 'Cost of business start-up procedures (% of GNI per capita)'}, 'country': {'id': 'GB', 'value': 'United Kingdom'}, 'countryiso3code': 'GBR', 'date': '2009', 'value': 0.7, 'unit': '', 'obs_status': '', 'decimal': 1}, {'indicator': {'id': 'IC.REG.COST.PC.ZS', 'value': 'Cost of business start-up procedures (% of GNI per capita)'}, 'country': {'id': 'GB', 'value': 'United Kingdom'}, 'countryiso3code': 'GBR', 'date': '2008', 'value': 0.8, 'unit': '', 'obs_status': '', 'decimal': 1}, {'indicator': {'id': 'IC.REG.COST.PC.ZS', 'value': 'Cost of business start-up procedures (% of GNI per capita)'}, 'country': {'id': 'GB', 'value': 'United Kingdom'}, 'countryiso3code': 'GBR', 'date': '2007', 'value': 0.8, 'unit': '', 'obs_status': '', 'decimal': 1}, {'indicator': {'id': 'IC.REG.COST.PC.ZS', 'value': 'Cost of business start-up procedures (% of GNI per capita)'}, 'country': {'id': 'GB', 'value': 'United Kingdom'}, 'countryiso3code': 'GBR', 'date': '2006', 'value': 0.7, 'unit': '', 'obs_status': '', 'decimal': 1}, {'indicator': {'id': 'IC.REG.COST.PC.ZS', 'value': 'Cost of business start-up procedures (% of GNI per capita)'}, 'country': {'id': 'GB', 'value': 'United Kingdom'}, 'countryiso3code': 'GBR', 'date': '2005', 'value': 0.7, 'unit': '', 'obs_status': '', 'decimal': 1}, {'indicator': {'id': 'IC.REG.COST.PC.ZS', 'value': 'Cost of business start-up procedures (% of GNI per capita)'}, 'country': {'id': 'GB', 'value': 'United Kingdom'}, 'countryiso3code': 'GBR', 'date': '2004', 'value': 0.9, 'unit': '', 'obs_status': '', 'decimal': 1}, {'indicator': {'id': 'IC.REG.COST.PC.ZS', 'value': 'Cost of business start-up procedures (% of GNI per capita)'}, 'country': {'id': 'GB', 'value': 'United Kingdom'}, 'countryiso3code': 'GBR', 'date': '2003', 'value': 1, 'unit': '', 'obs_status': '', 'decimal': 1}, {'indicator': {'id': 'IC.REG.COST.PC.ZS', 'value': 'Cost of business start-up procedures (% of GNI per capita)'}, 'country': {'id': 'GB', 'value': 'United Kingdom'}, 'countryiso3code': 'GBR', 'date': '2002', 'value': None, 'unit': '', 'obs_status': '', 'decimal': 1}, {'indicator': {'id': 'IC.REG.COST.PC.ZS', 'value': 'Cost of business start-up procedures (% of GNI per capita)'}, 'country': {'id': 'GB', 'value': 'United Kingdom'}, 'countryiso3code': 'GBR', 'date': '2001', 'value': None, 'unit': '', 'obs_status': '', 'decimal': 1}, {'indicator': {'id': 'IC.REG.COST.PC.ZS', 'value': 'Cost of business start-up procedures (% of GNI per capita)'}, 'country': {'id': 'GB', 'value': 'United Kingdom'}, 'countryiso3code': 'GBR', 'date': '2000', 'value': None, 'unit': '', 'obs_status': '', 'decimal': 1}, {'indicator': {'id': 'IC.REG.COST.PC.ZS', 'value': 'Cost of business start-up procedures (% of GNI per capita)'}, 'country': {'id': 'GB', 'value': 'United Kingdom'}, 'countryiso3code': 'GBR', 'date': '1999', 'value': None, 'unit': '', 'obs_status': '', 'decimal': 1}, {'indicator': {'id': 'IC.REG.COST.PC.ZS', 'value': 'Cost of business start-up procedures (% of GNI per capita)'}, 'country': {'id': 'GB', 'value': 'United Kingdom'}, 'countryiso3code': 'GBR', 'date': '1998', 'value': None, 'unit': '', 'obs_status': '', 'decimal': 1}, {'indicator': {'id': 'IC.REG.COST.PC.ZS', 'value': 'Cost of business start-up procedures (% of GNI per capita)'}, 'country': {'id': 'GB', 'value': 'United Kingdom'}, 'countryiso3code': 'GBR', 'date': '1997', 'value': None, 'unit': '', 'obs_status': '', 'decimal': 1}, {'indicator': {'id': 'IC.REG.COST.PC.ZS', 'value': 'Cost of business start-up procedures (% of GNI per capita)'}, 'country': {'id': 'GB', 'value': 'United Kingdom'}, 'countryiso3code': 'GBR', 'date': '1996', 'value': None, 'unit': '', 'obs_status': '', 'decimal': 1}, {'indicator': {'id': 'IC.REG.COST.PC.ZS', 'value': 'Cost of business start-up procedures (% of GNI per capita)'}, 'country': {'id': 'GB', 'value': 'United Kingdom'}, 'countryiso3code': 'GBR', 'date': '1995', 'value': None, 'unit': '', 'obs_status': '', 'decimal': 1}, {'indicator': {'id': 'IC.REG.COST.PC.ZS', 'value': 'Cost of business start-up procedures (% of GNI per capita)'}, 'country': {'id': 'GB', 'value': 'United Kingdom'}, 'countryiso3code': 'GBR', 'date': '1994', 'value': None, 'unit': '', 'obs_status': '', 'decimal': 1}, {'indicator': {'id': 'IC.REG.COST.PC.ZS', 'value': 'Cost of business start-up procedures (% of GNI per capita)'}, 'country': {'id': 'GB', 'value': 'United Kingdom'}, 'countryiso3code': 'GBR', 'date': '1993', 'value': None, 'unit': '', 'obs_status': '', 'decimal': 1}, {'indicator': {'id': 'IC.REG.COST.PC.ZS', 'value': 'Cost of business start-up procedures (% of GNI per capita)'}, 'country': {'id': 'GB', 'value': 'United Kingdom'}, 'countryiso3code': 'GBR', 'date': '1992', 'value': None, 'unit': '', 'obs_status': '', 'decimal': 1}, {'indicator': {'id': 'IC.REG.COST.PC.ZS', 'value': 'Cost of business start-up procedures (% of GNI per capita)'}, 'country': {'id': 'GB', 'value': 'United Kingdom'}, 'countryiso3code': 'GBR', 'date': '1991', 'value': None, 'unit': '', 'obs_status': '', 'decimal': 1}, {'indicator': {'id': 'IC.REG.COST.PC.ZS', 'value': 'Cost of business start-up procedures (% of GNI per capita)'}, 'country': {'id': 'GB', 'value': 'United Kingdom'}, 'countryiso3code': 'GBR', 'date': '1990', 'value': None, 'unit': '', 'obs_status': '', 'decimal': 1}, {'indicator': {'id': 'IC.REG.COST.PC.ZS', 'value': 'Cost of business start-up procedures (% of GNI per capita)'}, 'country': {'id': 'GB', 'value': 'United Kingdom'}, 'countryiso3code': 'GBR', 'date': '1989', 'value': None, 'unit': '', 'obs_status': '', 'decimal': 1}, {'indicator': {'id': 'IC.REG.COST.PC.ZS', 'value': 'Cost of business start-up procedures (% of GNI per capita)'}, 'country': {'id': 'GB', 'value': 'United Kingdom'}, 'countryiso3code': 'GBR', 'date': '1988', 'value': None, 'unit': '', 'obs_status': '', 'decimal': 1}, {'indicator': {'id': 'IC.REG.COST.PC.ZS', 'value': 'Cost of business start-up procedures (% of GNI per capita)'}, 'country': {'id': 'GB', 'value': 'United Kingdom'}, 'countryiso3code': 'GBR', 'date': '1987', 'value': None, 'unit': '', 'obs_status': '', 'decimal': 1}, {'indicator': {'id': 'IC.REG.COST.PC.ZS', 'value': 'Cost of business start-up procedures (% of GNI per capita)'}, 'country': {'id': 'GB', 'value': 'United Kingdom'}, 'countryiso3code': 'GBR', 'date': '1986', 'value': None, 'unit': '', 'obs_status': '', 'decimal': 1}, {'indicator': {'id': 'IC.REG.COST.PC.ZS', 'value': 'Cost of business start-up procedures (% of GNI per capita)'}, 'country': {'id': 'GB', 'value': 'United Kingdom'}, 'countryiso3code': 'GBR', 'date': '1985', 'value': None, 'unit': '', 'obs_status': '', 'decimal': 1}, {'indicator': {'id': 'IC.REG.COST.PC.ZS', 'value': 'Cost of business start-up procedures (% of GNI per capita)'}, 'country': {'id': 'GB', 'value': 'United Kingdom'}, 'countryiso3code': 'GBR', 'date': '1984', 'value': None, 'unit': '', 'obs_status': '', 'decimal': 1}, {'indicator': {'id': 'IC.REG.COST.PC.ZS', 'value': 'Cost of business start-up procedures (% of GNI per capita)'}, 'country': {'id': 'GB', 'value': 'United Kingdom'}, 'countryiso3code': 'GBR', 'date': '1983', 'value': None, 'unit': '', 'obs_status': '', 'decimal': 1}, {'indicator': {'id': 'IC.REG.COST.PC.ZS', 'value': 'Cost of business start-up procedures (% of GNI per capita)'}, 'country': {'id': 'GB', 'value': 'United Kingdom'}, 'countryiso3code': 'GBR', 'date': '1982', 'value': None, 'unit': '', 'obs_status': '', 'decimal': 1}, {'indicator': {'id': 'IC.REG.COST.PC.ZS', 'value': 'Cost of business start-up procedures (% of GNI per capita)'}, 'country': {'id': 'GB', 'value': 'United Kingdom'}, 'countryiso3code': 'GBR', 'date': '1981', 'value': None, 'unit': '', 'obs_status': '', 'decimal': 1}, {'indicator': {'id': 'IC.REG.COST.PC.ZS', 'value': 'Cost of business start-up procedures (% of GNI per capita)'}, 'country': {'id': 'GB', 'value': 'United Kingdom'}, 'countryiso3code': 'GBR', 'date': '1980', 'value': None, 'unit': '', 'obs_status': '', 'decimal': 1}, {'indicator': {'id': 'IC.REG.COST.PC.ZS', 'value': 'Cost of business start-up procedures (% of GNI per capita)'}, 'country': {'id': 'GB', 'value': 'United Kingdom'}, 'countryiso3code': 'GBR', 'date': '1979', 'value': None, 'unit': '', 'obs_status': '', 'decimal': 1}, {'indicator': {'id': 'IC.REG.COST.PC.ZS', 'value': 'Cost of business start-up procedures (% of GNI per capita)'}, 'country': {'id': 'GB', 'value': 'United Kingdom'}, 'countryiso3code': 'GBR', 'date': '1978', 'value': None, 'unit': '', 'obs_status': '', 'decimal': 1}, {'indicator': {'id': 'IC.REG.COST.PC.ZS', 'value': 'Cost of business start-up procedures (% of GNI per capita)'}, 'country': {'id': 'GB', 'value': 'United Kingdom'}, 'countryiso3code': 'GBR', 'date': '1977', 'value': None, 'unit': '', 'obs_status': '', 'decimal': 1}, {'indicator': {'id': 'IC.REG.COST.PC.ZS', 'value': 'Cost of business start-up procedures (% of GNI per capita)'}, 'country': {'id': 'GB', 'value': 'United Kingdom'}, 'countryiso3code': 'GBR', 'date': '1976', 'value': None, 'unit': '', 'obs_status': '', 'decimal': 1}, {'indicator': {'id': 'IC.REG.COST.PC.ZS', 'value': 'Cost of business start-up procedures (% of GNI per capita)'}, 'country': {'id': 'GB', 'value': 'United Kingdom'}, 'countryiso3code': 'GBR', 'date': '1975', 'value': None, 'unit': '', 'obs_status': '', 'decimal': 1}, {'indicator': {'id': 'IC.REG.COST.PC.ZS', 'value': 'Cost of business start-up procedures (% of GNI per capita)'}, 'country': {'id': 'GB', 'value': 'United Kingdom'}, 'countryiso3code': 'GBR', 'date': '1974', 'value': None, 'unit': '', 'obs_status': '', 'decimal': 1}, {'indicator': {'id': 'IC.REG.COST.PC.ZS', 'value': 'Cost of business start-up procedures (% of GNI per capita)'}, 'country': {'id': 'GB', 'value': 'United Kingdom'}, 'countryiso3code': 'GBR', 'date': '1973', 'value': None, 'unit': '', 'obs_status': '', 'decimal': 1}, {'indicator': {'id': 'IC.REG.COST.PC.ZS', 'value': 'Cost of business start-up procedures (% of GNI per capita)'}, 'country': {'id': 'GB', 'value': 'United Kingdom'}, 'countryiso3code': 'GBR', 'date': '1972', 'value': None, 'unit': '', 'obs_status': '', 'decimal': 1}, {'indicator': {'id': 'IC.REG.COST.PC.ZS', 'value': 'Cost of business start-up procedures (% of GNI per capita)'}, 'country': {'id': 'GB', 'value': 'United Kingdom'}, 'countryiso3code': 'GBR', 'date': '1971', 'value': None, 'unit': '', 'obs_status': '', 'decimal': 1}]]\n",
            "WB_data_cost_GBR.json\n"
          ]
        },
        {
          "output_type": "display_data",
          "data": {
            "application/javascript": [
              "\n",
              "    async function download(id, filename, size) {\n",
              "      if (!google.colab.kernel.accessAllowed) {\n",
              "        return;\n",
              "      }\n",
              "      const div = document.createElement('div');\n",
              "      const label = document.createElement('label');\n",
              "      label.textContent = `Downloading \"${filename}\": `;\n",
              "      div.appendChild(label);\n",
              "      const progress = document.createElement('progress');\n",
              "      progress.max = size;\n",
              "      div.appendChild(progress);\n",
              "      document.body.appendChild(div);\n",
              "\n",
              "      const buffers = [];\n",
              "      let downloaded = 0;\n",
              "\n",
              "      const channel = await google.colab.kernel.comms.open(id);\n",
              "      // Send a message to notify the kernel that we're ready.\n",
              "      channel.send({})\n",
              "\n",
              "      for await (const message of channel.messages) {\n",
              "        // Send a message to notify the kernel that we're ready.\n",
              "        channel.send({})\n",
              "        if (message.buffers) {\n",
              "          for (const buffer of message.buffers) {\n",
              "            buffers.push(buffer);\n",
              "            downloaded += buffer.byteLength;\n",
              "            progress.value = downloaded;\n",
              "          }\n",
              "        }\n",
              "      }\n",
              "      const blob = new Blob(buffers, {type: 'application/binary'});\n",
              "      const a = document.createElement('a');\n",
              "      a.href = window.URL.createObjectURL(blob);\n",
              "      a.download = filename;\n",
              "      div.appendChild(a);\n",
              "      a.click();\n",
              "      div.remove();\n",
              "    }\n",
              "  "
            ],
            "text/plain": [
              "<IPython.core.display.Javascript object>"
            ]
          },
          "metadata": {}
        },
        {
          "output_type": "display_data",
          "data": {
            "application/javascript": [
              "download(\"download_6459a9ad-2e1c-4fc0-b12b-28392bca935c\", \"WB_data_cost_GBR.json\", 23901)"
            ],
            "text/plain": [
              "<IPython.core.display.Javascript object>"
            ]
          },
          "metadata": {}
        },
        {
          "output_type": "stream",
          "name": "stdout",
          "text": [
            "DNK\n",
            "http://api.worldbank.org/v2/country/DNK/indicator/IC.REG.COST.PC.ZS?format=json\n",
            "[{'page': 1, 'pages': 2, 'per_page': 50, 'total': 61, 'sourceid': '2', 'sourcename': 'World Development Indicators', 'lastupdated': '2021-10-28'}, [{'indicator': {'id': 'IC.REG.COST.PC.ZS', 'value': 'Cost of business start-up procedures (% of GNI per capita)'}, 'country': {'id': 'DK', 'value': 'Denmark'}, 'countryiso3code': 'DNK', 'date': '2020', 'value': None, 'unit': '', 'obs_status': '', 'decimal': 1}, {'indicator': {'id': 'IC.REG.COST.PC.ZS', 'value': 'Cost of business start-up procedures (% of GNI per capita)'}, 'country': {'id': 'DK', 'value': 'Denmark'}, 'countryiso3code': 'DNK', 'date': '2019', 'value': 0.2, 'unit': '', 'obs_status': '', 'decimal': 1}, {'indicator': {'id': 'IC.REG.COST.PC.ZS', 'value': 'Cost of business start-up procedures (% of GNI per capita)'}, 'country': {'id': 'DK', 'value': 'Denmark'}, 'countryiso3code': 'DNK', 'date': '2018', 'value': 0.2, 'unit': '', 'obs_status': '', 'decimal': 1}, {'indicator': {'id': 'IC.REG.COST.PC.ZS', 'value': 'Cost of business start-up procedures (% of GNI per capita)'}, 'country': {'id': 'DK', 'value': 'Denmark'}, 'countryiso3code': 'DNK', 'date': '2017', 'value': 0.2, 'unit': '', 'obs_status': '', 'decimal': 1}, {'indicator': {'id': 'IC.REG.COST.PC.ZS', 'value': 'Cost of business start-up procedures (% of GNI per capita)'}, 'country': {'id': 'DK', 'value': 'Denmark'}, 'countryiso3code': 'DNK', 'date': '2016', 'value': 0.2, 'unit': '', 'obs_status': '', 'decimal': 1}, {'indicator': {'id': 'IC.REG.COST.PC.ZS', 'value': 'Cost of business start-up procedures (% of GNI per capita)'}, 'country': {'id': 'DK', 'value': 'Denmark'}, 'countryiso3code': 'DNK', 'date': '2015', 'value': 0.2, 'unit': '', 'obs_status': '', 'decimal': 1}, {'indicator': {'id': 'IC.REG.COST.PC.ZS', 'value': 'Cost of business start-up procedures (% of GNI per capita)'}, 'country': {'id': 'DK', 'value': 'Denmark'}, 'countryiso3code': 'DNK', 'date': '2014', 'value': 0.2, 'unit': '', 'obs_status': '', 'decimal': 1}, {'indicator': {'id': 'IC.REG.COST.PC.ZS', 'value': 'Cost of business start-up procedures (% of GNI per capita)'}, 'country': {'id': 'DK', 'value': 'Denmark'}, 'countryiso3code': 'DNK', 'date': '2013', 'value': 0.2, 'unit': '', 'obs_status': '', 'decimal': 1}, {'indicator': {'id': 'IC.REG.COST.PC.ZS', 'value': 'Cost of business start-up procedures (% of GNI per capita)'}, 'country': {'id': 'DK', 'value': 'Denmark'}, 'countryiso3code': 'DNK', 'date': '2012', 'value': 0.2, 'unit': '', 'obs_status': '', 'decimal': 1}, {'indicator': {'id': 'IC.REG.COST.PC.ZS', 'value': 'Cost of business start-up procedures (% of GNI per capita)'}, 'country': {'id': 'DK', 'value': 'Denmark'}, 'countryiso3code': 'DNK', 'date': '2011', 'value': 0, 'unit': '', 'obs_status': '', 'decimal': 1}, {'indicator': {'id': 'IC.REG.COST.PC.ZS', 'value': 'Cost of business start-up procedures (% of GNI per capita)'}, 'country': {'id': 'DK', 'value': 'Denmark'}, 'countryiso3code': 'DNK', 'date': '2010', 'value': 0, 'unit': '', 'obs_status': '', 'decimal': 1}, {'indicator': {'id': 'IC.REG.COST.PC.ZS', 'value': 'Cost of business start-up procedures (% of GNI per capita)'}, 'country': {'id': 'DK', 'value': 'Denmark'}, 'countryiso3code': 'DNK', 'date': '2009', 'value': 0, 'unit': '', 'obs_status': '', 'decimal': 1}, {'indicator': {'id': 'IC.REG.COST.PC.ZS', 'value': 'Cost of business start-up procedures (% of GNI per capita)'}, 'country': {'id': 'DK', 'value': 'Denmark'}, 'countryiso3code': 'DNK', 'date': '2008', 'value': 0, 'unit': '', 'obs_status': '', 'decimal': 1}, {'indicator': {'id': 'IC.REG.COST.PC.ZS', 'value': 'Cost of business start-up procedures (% of GNI per capita)'}, 'country': {'id': 'DK', 'value': 'Denmark'}, 'countryiso3code': 'DNK', 'date': '2007', 'value': 0, 'unit': '', 'obs_status': '', 'decimal': 1}, {'indicator': {'id': 'IC.REG.COST.PC.ZS', 'value': 'Cost of business start-up procedures (% of GNI per capita)'}, 'country': {'id': 'DK', 'value': 'Denmark'}, 'countryiso3code': 'DNK', 'date': '2006', 'value': 0, 'unit': '', 'obs_status': '', 'decimal': 1}, {'indicator': {'id': 'IC.REG.COST.PC.ZS', 'value': 'Cost of business start-up procedures (% of GNI per capita)'}, 'country': {'id': 'DK', 'value': 'Denmark'}, 'countryiso3code': 'DNK', 'date': '2005', 'value': 0, 'unit': '', 'obs_status': '', 'decimal': 1}, {'indicator': {'id': 'IC.REG.COST.PC.ZS', 'value': 'Cost of business start-up procedures (% of GNI per capita)'}, 'country': {'id': 'DK', 'value': 'Denmark'}, 'countryiso3code': 'DNK', 'date': '2004', 'value': 0, 'unit': '', 'obs_status': '', 'decimal': 1}, {'indicator': {'id': 'IC.REG.COST.PC.ZS', 'value': 'Cost of business start-up procedures (% of GNI per capita)'}, 'country': {'id': 'DK', 'value': 'Denmark'}, 'countryiso3code': 'DNK', 'date': '2003', 'value': 0, 'unit': '', 'obs_status': '', 'decimal': 1}, {'indicator': {'id': 'IC.REG.COST.PC.ZS', 'value': 'Cost of business start-up procedures (% of GNI per capita)'}, 'country': {'id': 'DK', 'value': 'Denmark'}, 'countryiso3code': 'DNK', 'date': '2002', 'value': None, 'unit': '', 'obs_status': '', 'decimal': 1}, {'indicator': {'id': 'IC.REG.COST.PC.ZS', 'value': 'Cost of business start-up procedures (% of GNI per capita)'}, 'country': {'id': 'DK', 'value': 'Denmark'}, 'countryiso3code': 'DNK', 'date': '2001', 'value': None, 'unit': '', 'obs_status': '', 'decimal': 1}, {'indicator': {'id': 'IC.REG.COST.PC.ZS', 'value': 'Cost of business start-up procedures (% of GNI per capita)'}, 'country': {'id': 'DK', 'value': 'Denmark'}, 'countryiso3code': 'DNK', 'date': '2000', 'value': None, 'unit': '', 'obs_status': '', 'decimal': 1}, {'indicator': {'id': 'IC.REG.COST.PC.ZS', 'value': 'Cost of business start-up procedures (% of GNI per capita)'}, 'country': {'id': 'DK', 'value': 'Denmark'}, 'countryiso3code': 'DNK', 'date': '1999', 'value': None, 'unit': '', 'obs_status': '', 'decimal': 1}, {'indicator': {'id': 'IC.REG.COST.PC.ZS', 'value': 'Cost of business start-up procedures (% of GNI per capita)'}, 'country': {'id': 'DK', 'value': 'Denmark'}, 'countryiso3code': 'DNK', 'date': '1998', 'value': None, 'unit': '', 'obs_status': '', 'decimal': 1}, {'indicator': {'id': 'IC.REG.COST.PC.ZS', 'value': 'Cost of business start-up procedures (% of GNI per capita)'}, 'country': {'id': 'DK', 'value': 'Denmark'}, 'countryiso3code': 'DNK', 'date': '1997', 'value': None, 'unit': '', 'obs_status': '', 'decimal': 1}, {'indicator': {'id': 'IC.REG.COST.PC.ZS', 'value': 'Cost of business start-up procedures (% of GNI per capita)'}, 'country': {'id': 'DK', 'value': 'Denmark'}, 'countryiso3code': 'DNK', 'date': '1996', 'value': None, 'unit': '', 'obs_status': '', 'decimal': 1}, {'indicator': {'id': 'IC.REG.COST.PC.ZS', 'value': 'Cost of business start-up procedures (% of GNI per capita)'}, 'country': {'id': 'DK', 'value': 'Denmark'}, 'countryiso3code': 'DNK', 'date': '1995', 'value': None, 'unit': '', 'obs_status': '', 'decimal': 1}, {'indicator': {'id': 'IC.REG.COST.PC.ZS', 'value': 'Cost of business start-up procedures (% of GNI per capita)'}, 'country': {'id': 'DK', 'value': 'Denmark'}, 'countryiso3code': 'DNK', 'date': '1994', 'value': None, 'unit': '', 'obs_status': '', 'decimal': 1}, {'indicator': {'id': 'IC.REG.COST.PC.ZS', 'value': 'Cost of business start-up procedures (% of GNI per capita)'}, 'country': {'id': 'DK', 'value': 'Denmark'}, 'countryiso3code': 'DNK', 'date': '1993', 'value': None, 'unit': '', 'obs_status': '', 'decimal': 1}, {'indicator': {'id': 'IC.REG.COST.PC.ZS', 'value': 'Cost of business start-up procedures (% of GNI per capita)'}, 'country': {'id': 'DK', 'value': 'Denmark'}, 'countryiso3code': 'DNK', 'date': '1992', 'value': None, 'unit': '', 'obs_status': '', 'decimal': 1}, {'indicator': {'id': 'IC.REG.COST.PC.ZS', 'value': 'Cost of business start-up procedures (% of GNI per capita)'}, 'country': {'id': 'DK', 'value': 'Denmark'}, 'countryiso3code': 'DNK', 'date': '1991', 'value': None, 'unit': '', 'obs_status': '', 'decimal': 1}, {'indicator': {'id': 'IC.REG.COST.PC.ZS', 'value': 'Cost of business start-up procedures (% of GNI per capita)'}, 'country': {'id': 'DK', 'value': 'Denmark'}, 'countryiso3code': 'DNK', 'date': '1990', 'value': None, 'unit': '', 'obs_status': '', 'decimal': 1}, {'indicator': {'id': 'IC.REG.COST.PC.ZS', 'value': 'Cost of business start-up procedures (% of GNI per capita)'}, 'country': {'id': 'DK', 'value': 'Denmark'}, 'countryiso3code': 'DNK', 'date': '1989', 'value': None, 'unit': '', 'obs_status': '', 'decimal': 1}, {'indicator': {'id': 'IC.REG.COST.PC.ZS', 'value': 'Cost of business start-up procedures (% of GNI per capita)'}, 'country': {'id': 'DK', 'value': 'Denmark'}, 'countryiso3code': 'DNK', 'date': '1988', 'value': None, 'unit': '', 'obs_status': '', 'decimal': 1}, {'indicator': {'id': 'IC.REG.COST.PC.ZS', 'value': 'Cost of business start-up procedures (% of GNI per capita)'}, 'country': {'id': 'DK', 'value': 'Denmark'}, 'countryiso3code': 'DNK', 'date': '1987', 'value': None, 'unit': '', 'obs_status': '', 'decimal': 1}, {'indicator': {'id': 'IC.REG.COST.PC.ZS', 'value': 'Cost of business start-up procedures (% of GNI per capita)'}, 'country': {'id': 'DK', 'value': 'Denmark'}, 'countryiso3code': 'DNK', 'date': '1986', 'value': None, 'unit': '', 'obs_status': '', 'decimal': 1}, {'indicator': {'id': 'IC.REG.COST.PC.ZS', 'value': 'Cost of business start-up procedures (% of GNI per capita)'}, 'country': {'id': 'DK', 'value': 'Denmark'}, 'countryiso3code': 'DNK', 'date': '1985', 'value': None, 'unit': '', 'obs_status': '', 'decimal': 1}, {'indicator': {'id': 'IC.REG.COST.PC.ZS', 'value': 'Cost of business start-up procedures (% of GNI per capita)'}, 'country': {'id': 'DK', 'value': 'Denmark'}, 'countryiso3code': 'DNK', 'date': '1984', 'value': None, 'unit': '', 'obs_status': '', 'decimal': 1}, {'indicator': {'id': 'IC.REG.COST.PC.ZS', 'value': 'Cost of business start-up procedures (% of GNI per capita)'}, 'country': {'id': 'DK', 'value': 'Denmark'}, 'countryiso3code': 'DNK', 'date': '1983', 'value': None, 'unit': '', 'obs_status': '', 'decimal': 1}, {'indicator': {'id': 'IC.REG.COST.PC.ZS', 'value': 'Cost of business start-up procedures (% of GNI per capita)'}, 'country': {'id': 'DK', 'value': 'Denmark'}, 'countryiso3code': 'DNK', 'date': '1982', 'value': None, 'unit': '', 'obs_status': '', 'decimal': 1}, {'indicator': {'id': 'IC.REG.COST.PC.ZS', 'value': 'Cost of business start-up procedures (% of GNI per capita)'}, 'country': {'id': 'DK', 'value': 'Denmark'}, 'countryiso3code': 'DNK', 'date': '1981', 'value': None, 'unit': '', 'obs_status': '', 'decimal': 1}, {'indicator': {'id': 'IC.REG.COST.PC.ZS', 'value': 'Cost of business start-up procedures (% of GNI per capita)'}, 'country': {'id': 'DK', 'value': 'Denmark'}, 'countryiso3code': 'DNK', 'date': '1980', 'value': None, 'unit': '', 'obs_status': '', 'decimal': 1}, {'indicator': {'id': 'IC.REG.COST.PC.ZS', 'value': 'Cost of business start-up procedures (% of GNI per capita)'}, 'country': {'id': 'DK', 'value': 'Denmark'}, 'countryiso3code': 'DNK', 'date': '1979', 'value': None, 'unit': '', 'obs_status': '', 'decimal': 1}, {'indicator': {'id': 'IC.REG.COST.PC.ZS', 'value': 'Cost of business start-up procedures (% of GNI per capita)'}, 'country': {'id': 'DK', 'value': 'Denmark'}, 'countryiso3code': 'DNK', 'date': '1978', 'value': None, 'unit': '', 'obs_status': '', 'decimal': 1}, {'indicator': {'id': 'IC.REG.COST.PC.ZS', 'value': 'Cost of business start-up procedures (% of GNI per capita)'}, 'country': {'id': 'DK', 'value': 'Denmark'}, 'countryiso3code': 'DNK', 'date': '1977', 'value': None, 'unit': '', 'obs_status': '', 'decimal': 1}, {'indicator': {'id': 'IC.REG.COST.PC.ZS', 'value': 'Cost of business start-up procedures (% of GNI per capita)'}, 'country': {'id': 'DK', 'value': 'Denmark'}, 'countryiso3code': 'DNK', 'date': '1976', 'value': None, 'unit': '', 'obs_status': '', 'decimal': 1}, {'indicator': {'id': 'IC.REG.COST.PC.ZS', 'value': 'Cost of business start-up procedures (% of GNI per capita)'}, 'country': {'id': 'DK', 'value': 'Denmark'}, 'countryiso3code': 'DNK', 'date': '1975', 'value': None, 'unit': '', 'obs_status': '', 'decimal': 1}, {'indicator': {'id': 'IC.REG.COST.PC.ZS', 'value': 'Cost of business start-up procedures (% of GNI per capita)'}, 'country': {'id': 'DK', 'value': 'Denmark'}, 'countryiso3code': 'DNK', 'date': '1974', 'value': None, 'unit': '', 'obs_status': '', 'decimal': 1}, {'indicator': {'id': 'IC.REG.COST.PC.ZS', 'value': 'Cost of business start-up procedures (% of GNI per capita)'}, 'country': {'id': 'DK', 'value': 'Denmark'}, 'countryiso3code': 'DNK', 'date': '1973', 'value': None, 'unit': '', 'obs_status': '', 'decimal': 1}, {'indicator': {'id': 'IC.REG.COST.PC.ZS', 'value': 'Cost of business start-up procedures (% of GNI per capita)'}, 'country': {'id': 'DK', 'value': 'Denmark'}, 'countryiso3code': 'DNK', 'date': '1972', 'value': None, 'unit': '', 'obs_status': '', 'decimal': 1}, {'indicator': {'id': 'IC.REG.COST.PC.ZS', 'value': 'Cost of business start-up procedures (% of GNI per capita)'}, 'country': {'id': 'DK', 'value': 'Denmark'}, 'countryiso3code': 'DNK', 'date': '1971', 'value': None, 'unit': '', 'obs_status': '', 'decimal': 1}]]\n",
            "WB_data_cost_DNK.json\n"
          ]
        },
        {
          "output_type": "display_data",
          "data": {
            "application/javascript": [
              "\n",
              "    async function download(id, filename, size) {\n",
              "      if (!google.colab.kernel.accessAllowed) {\n",
              "        return;\n",
              "      }\n",
              "      const div = document.createElement('div');\n",
              "      const label = document.createElement('label');\n",
              "      label.textContent = `Downloading \"${filename}\": `;\n",
              "      div.appendChild(label);\n",
              "      const progress = document.createElement('progress');\n",
              "      progress.max = size;\n",
              "      div.appendChild(progress);\n",
              "      document.body.appendChild(div);\n",
              "\n",
              "      const buffers = [];\n",
              "      let downloaded = 0;\n",
              "\n",
              "      const channel = await google.colab.kernel.comms.open(id);\n",
              "      // Send a message to notify the kernel that we're ready.\n",
              "      channel.send({})\n",
              "\n",
              "      for await (const message of channel.messages) {\n",
              "        // Send a message to notify the kernel that we're ready.\n",
              "        channel.send({})\n",
              "        if (message.buffers) {\n",
              "          for (const buffer of message.buffers) {\n",
              "            buffers.push(buffer);\n",
              "            downloaded += buffer.byteLength;\n",
              "            progress.value = downloaded;\n",
              "          }\n",
              "        }\n",
              "      }\n",
              "      const blob = new Blob(buffers, {type: 'application/binary'});\n",
              "      const a = document.createElement('a');\n",
              "      a.href = window.URL.createObjectURL(blob);\n",
              "      a.download = filename;\n",
              "      div.appendChild(a);\n",
              "      a.click();\n",
              "      div.remove();\n",
              "    }\n",
              "  "
            ],
            "text/plain": [
              "<IPython.core.display.Javascript object>"
            ]
          },
          "metadata": {}
        },
        {
          "output_type": "display_data",
          "data": {
            "application/javascript": [
              "download(\"download_2a7ec858-2c79-42c2-b54f-3e6df60be999\", \"WB_data_cost_DNK.json\", 23541)"
            ],
            "text/plain": [
              "<IPython.core.display.Javascript object>"
            ]
          },
          "metadata": {}
        },
        {
          "output_type": "stream",
          "name": "stdout",
          "text": [
            "DEU\n",
            "http://api.worldbank.org/v2/country/DEU/indicator/IC.REG.COST.PC.ZS?format=json\n",
            "[{'page': 1, 'pages': 2, 'per_page': 50, 'total': 61, 'sourceid': '2', 'sourcename': 'World Development Indicators', 'lastupdated': '2021-10-28'}, [{'indicator': {'id': 'IC.REG.COST.PC.ZS', 'value': 'Cost of business start-up procedures (% of GNI per capita)'}, 'country': {'id': 'DE', 'value': 'Germany'}, 'countryiso3code': 'DEU', 'date': '2020', 'value': None, 'unit': '', 'obs_status': '', 'decimal': 1}, {'indicator': {'id': 'IC.REG.COST.PC.ZS', 'value': 'Cost of business start-up procedures (% of GNI per capita)'}, 'country': {'id': 'DE', 'value': 'Germany'}, 'countryiso3code': 'DEU', 'date': '2019', 'value': 6.5, 'unit': '', 'obs_status': '', 'decimal': 1}, {'indicator': {'id': 'IC.REG.COST.PC.ZS', 'value': 'Cost of business start-up procedures (% of GNI per capita)'}, 'country': {'id': 'DE', 'value': 'Germany'}, 'countryiso3code': 'DEU', 'date': '2018', 'value': 6.5, 'unit': '', 'obs_status': '', 'decimal': 1}, {'indicator': {'id': 'IC.REG.COST.PC.ZS', 'value': 'Cost of business start-up procedures (% of GNI per capita)'}, 'country': {'id': 'DE', 'value': 'Germany'}, 'countryiso3code': 'DEU', 'date': '2017', 'value': 6.8, 'unit': '', 'obs_status': '', 'decimal': 1}, {'indicator': {'id': 'IC.REG.COST.PC.ZS', 'value': 'Cost of business start-up procedures (% of GNI per capita)'}, 'country': {'id': 'DE', 'value': 'Germany'}, 'countryiso3code': 'DEU', 'date': '2016', 'value': 6.7, 'unit': '', 'obs_status': '', 'decimal': 1}, {'indicator': {'id': 'IC.REG.COST.PC.ZS', 'value': 'Cost of business start-up procedures (% of GNI per capita)'}, 'country': {'id': 'DE', 'value': 'Germany'}, 'countryiso3code': 'DEU', 'date': '2015', 'value': 6.9, 'unit': '', 'obs_status': '', 'decimal': 1}, {'indicator': {'id': 'IC.REG.COST.PC.ZS', 'value': 'Cost of business start-up procedures (% of GNI per capita)'}, 'country': {'id': 'DE', 'value': 'Germany'}, 'countryiso3code': 'DEU', 'date': '2014', 'value': 8.8, 'unit': '', 'obs_status': '', 'decimal': 1}, {'indicator': {'id': 'IC.REG.COST.PC.ZS', 'value': 'Cost of business start-up procedures (% of GNI per capita)'}, 'country': {'id': 'DE', 'value': 'Germany'}, 'countryiso3code': 'DEU', 'date': '2013', 'value': 4.8, 'unit': '', 'obs_status': '', 'decimal': 1}, {'indicator': {'id': 'IC.REG.COST.PC.ZS', 'value': 'Cost of business start-up procedures (% of GNI per capita)'}, 'country': {'id': 'DE', 'value': 'Germany'}, 'countryiso3code': 'DEU', 'date': '2012', 'value': 4.9, 'unit': '', 'obs_status': '', 'decimal': 1}, {'indicator': {'id': 'IC.REG.COST.PC.ZS', 'value': 'Cost of business start-up procedures (% of GNI per capita)'}, 'country': {'id': 'DE', 'value': 'Germany'}, 'countryiso3code': 'DEU', 'date': '2011', 'value': 4.6, 'unit': '', 'obs_status': '', 'decimal': 1}, {'indicator': {'id': 'IC.REG.COST.PC.ZS', 'value': 'Cost of business start-up procedures (% of GNI per capita)'}, 'country': {'id': 'DE', 'value': 'Germany'}, 'countryiso3code': 'DEU', 'date': '2010', 'value': 4.8, 'unit': '', 'obs_status': '', 'decimal': 1}, {'indicator': {'id': 'IC.REG.COST.PC.ZS', 'value': 'Cost of business start-up procedures (% of GNI per capita)'}, 'country': {'id': 'DE', 'value': 'Germany'}, 'countryiso3code': 'DEU', 'date': '2009', 'value': 4.7, 'unit': '', 'obs_status': '', 'decimal': 1}, {'indicator': {'id': 'IC.REG.COST.PC.ZS', 'value': 'Cost of business start-up procedures (% of GNI per capita)'}, 'country': {'id': 'DE', 'value': 'Germany'}, 'countryiso3code': 'DEU', 'date': '2008', 'value': 5.6, 'unit': '', 'obs_status': '', 'decimal': 1}, {'indicator': {'id': 'IC.REG.COST.PC.ZS', 'value': 'Cost of business start-up procedures (% of GNI per capita)'}, 'country': {'id': 'DE', 'value': 'Germany'}, 'countryiso3code': 'DEU', 'date': '2007', 'value': 5.7, 'unit': '', 'obs_status': '', 'decimal': 1}, {'indicator': {'id': 'IC.REG.COST.PC.ZS', 'value': 'Cost of business start-up procedures (% of GNI per capita)'}, 'country': {'id': 'DE', 'value': 'Germany'}, 'countryiso3code': 'DEU', 'date': '2006', 'value': 5.1, 'unit': '', 'obs_status': '', 'decimal': 1}, {'indicator': {'id': 'IC.REG.COST.PC.ZS', 'value': 'Cost of business start-up procedures (% of GNI per capita)'}, 'country': {'id': 'DE', 'value': 'Germany'}, 'countryiso3code': 'DEU', 'date': '2005', 'value': 4.7, 'unit': '', 'obs_status': '', 'decimal': 1}, {'indicator': {'id': 'IC.REG.COST.PC.ZS', 'value': 'Cost of business start-up procedures (% of GNI per capita)'}, 'country': {'id': 'DE', 'value': 'Germany'}, 'countryiso3code': 'DEU', 'date': '2004', 'value': 5.9, 'unit': '', 'obs_status': '', 'decimal': 1}, {'indicator': {'id': 'IC.REG.COST.PC.ZS', 'value': 'Cost of business start-up procedures (% of GNI per capita)'}, 'country': {'id': 'DE', 'value': 'Germany'}, 'countryiso3code': 'DEU', 'date': '2003', 'value': 5.9, 'unit': '', 'obs_status': '', 'decimal': 1}, {'indicator': {'id': 'IC.REG.COST.PC.ZS', 'value': 'Cost of business start-up procedures (% of GNI per capita)'}, 'country': {'id': 'DE', 'value': 'Germany'}, 'countryiso3code': 'DEU', 'date': '2002', 'value': None, 'unit': '', 'obs_status': '', 'decimal': 1}, {'indicator': {'id': 'IC.REG.COST.PC.ZS', 'value': 'Cost of business start-up procedures (% of GNI per capita)'}, 'country': {'id': 'DE', 'value': 'Germany'}, 'countryiso3code': 'DEU', 'date': '2001', 'value': None, 'unit': '', 'obs_status': '', 'decimal': 1}, {'indicator': {'id': 'IC.REG.COST.PC.ZS', 'value': 'Cost of business start-up procedures (% of GNI per capita)'}, 'country': {'id': 'DE', 'value': 'Germany'}, 'countryiso3code': 'DEU', 'date': '2000', 'value': None, 'unit': '', 'obs_status': '', 'decimal': 1}, {'indicator': {'id': 'IC.REG.COST.PC.ZS', 'value': 'Cost of business start-up procedures (% of GNI per capita)'}, 'country': {'id': 'DE', 'value': 'Germany'}, 'countryiso3code': 'DEU', 'date': '1999', 'value': None, 'unit': '', 'obs_status': '', 'decimal': 1}, {'indicator': {'id': 'IC.REG.COST.PC.ZS', 'value': 'Cost of business start-up procedures (% of GNI per capita)'}, 'country': {'id': 'DE', 'value': 'Germany'}, 'countryiso3code': 'DEU', 'date': '1998', 'value': None, 'unit': '', 'obs_status': '', 'decimal': 1}, {'indicator': {'id': 'IC.REG.COST.PC.ZS', 'value': 'Cost of business start-up procedures (% of GNI per capita)'}, 'country': {'id': 'DE', 'value': 'Germany'}, 'countryiso3code': 'DEU', 'date': '1997', 'value': None, 'unit': '', 'obs_status': '', 'decimal': 1}, {'indicator': {'id': 'IC.REG.COST.PC.ZS', 'value': 'Cost of business start-up procedures (% of GNI per capita)'}, 'country': {'id': 'DE', 'value': 'Germany'}, 'countryiso3code': 'DEU', 'date': '1996', 'value': None, 'unit': '', 'obs_status': '', 'decimal': 1}, {'indicator': {'id': 'IC.REG.COST.PC.ZS', 'value': 'Cost of business start-up procedures (% of GNI per capita)'}, 'country': {'id': 'DE', 'value': 'Germany'}, 'countryiso3code': 'DEU', 'date': '1995', 'value': None, 'unit': '', 'obs_status': '', 'decimal': 1}, {'indicator': {'id': 'IC.REG.COST.PC.ZS', 'value': 'Cost of business start-up procedures (% of GNI per capita)'}, 'country': {'id': 'DE', 'value': 'Germany'}, 'countryiso3code': 'DEU', 'date': '1994', 'value': None, 'unit': '', 'obs_status': '', 'decimal': 1}, {'indicator': {'id': 'IC.REG.COST.PC.ZS', 'value': 'Cost of business start-up procedures (% of GNI per capita)'}, 'country': {'id': 'DE', 'value': 'Germany'}, 'countryiso3code': 'DEU', 'date': '1993', 'value': None, 'unit': '', 'obs_status': '', 'decimal': 1}, {'indicator': {'id': 'IC.REG.COST.PC.ZS', 'value': 'Cost of business start-up procedures (% of GNI per capita)'}, 'country': {'id': 'DE', 'value': 'Germany'}, 'countryiso3code': 'DEU', 'date': '1992', 'value': None, 'unit': '', 'obs_status': '', 'decimal': 1}, {'indicator': {'id': 'IC.REG.COST.PC.ZS', 'value': 'Cost of business start-up procedures (% of GNI per capita)'}, 'country': {'id': 'DE', 'value': 'Germany'}, 'countryiso3code': 'DEU', 'date': '1991', 'value': None, 'unit': '', 'obs_status': '', 'decimal': 1}, {'indicator': {'id': 'IC.REG.COST.PC.ZS', 'value': 'Cost of business start-up procedures (% of GNI per capita)'}, 'country': {'id': 'DE', 'value': 'Germany'}, 'countryiso3code': 'DEU', 'date': '1990', 'value': None, 'unit': '', 'obs_status': '', 'decimal': 1}, {'indicator': {'id': 'IC.REG.COST.PC.ZS', 'value': 'Cost of business start-up procedures (% of GNI per capita)'}, 'country': {'id': 'DE', 'value': 'Germany'}, 'countryiso3code': 'DEU', 'date': '1989', 'value': None, 'unit': '', 'obs_status': '', 'decimal': 1}, {'indicator': {'id': 'IC.REG.COST.PC.ZS', 'value': 'Cost of business start-up procedures (% of GNI per capita)'}, 'country': {'id': 'DE', 'value': 'Germany'}, 'countryiso3code': 'DEU', 'date': '1988', 'value': None, 'unit': '', 'obs_status': '', 'decimal': 1}, {'indicator': {'id': 'IC.REG.COST.PC.ZS', 'value': 'Cost of business start-up procedures (% of GNI per capita)'}, 'country': {'id': 'DE', 'value': 'Germany'}, 'countryiso3code': 'DEU', 'date': '1987', 'value': None, 'unit': '', 'obs_status': '', 'decimal': 1}, {'indicator': {'id': 'IC.REG.COST.PC.ZS', 'value': 'Cost of business start-up procedures (% of GNI per capita)'}, 'country': {'id': 'DE', 'value': 'Germany'}, 'countryiso3code': 'DEU', 'date': '1986', 'value': None, 'unit': '', 'obs_status': '', 'decimal': 1}, {'indicator': {'id': 'IC.REG.COST.PC.ZS', 'value': 'Cost of business start-up procedures (% of GNI per capita)'}, 'country': {'id': 'DE', 'value': 'Germany'}, 'countryiso3code': 'DEU', 'date': '1985', 'value': None, 'unit': '', 'obs_status': '', 'decimal': 1}, {'indicator': {'id': 'IC.REG.COST.PC.ZS', 'value': 'Cost of business start-up procedures (% of GNI per capita)'}, 'country': {'id': 'DE', 'value': 'Germany'}, 'countryiso3code': 'DEU', 'date': '1984', 'value': None, 'unit': '', 'obs_status': '', 'decimal': 1}, {'indicator': {'id': 'IC.REG.COST.PC.ZS', 'value': 'Cost of business start-up procedures (% of GNI per capita)'}, 'country': {'id': 'DE', 'value': 'Germany'}, 'countryiso3code': 'DEU', 'date': '1983', 'value': None, 'unit': '', 'obs_status': '', 'decimal': 1}, {'indicator': {'id': 'IC.REG.COST.PC.ZS', 'value': 'Cost of business start-up procedures (% of GNI per capita)'}, 'country': {'id': 'DE', 'value': 'Germany'}, 'countryiso3code': 'DEU', 'date': '1982', 'value': None, 'unit': '', 'obs_status': '', 'decimal': 1}, {'indicator': {'id': 'IC.REG.COST.PC.ZS', 'value': 'Cost of business start-up procedures (% of GNI per capita)'}, 'country': {'id': 'DE', 'value': 'Germany'}, 'countryiso3code': 'DEU', 'date': '1981', 'value': None, 'unit': '', 'obs_status': '', 'decimal': 1}, {'indicator': {'id': 'IC.REG.COST.PC.ZS', 'value': 'Cost of business start-up procedures (% of GNI per capita)'}, 'country': {'id': 'DE', 'value': 'Germany'}, 'countryiso3code': 'DEU', 'date': '1980', 'value': None, 'unit': '', 'obs_status': '', 'decimal': 1}, {'indicator': {'id': 'IC.REG.COST.PC.ZS', 'value': 'Cost of business start-up procedures (% of GNI per capita)'}, 'country': {'id': 'DE', 'value': 'Germany'}, 'countryiso3code': 'DEU', 'date': '1979', 'value': None, 'unit': '', 'obs_status': '', 'decimal': 1}, {'indicator': {'id': 'IC.REG.COST.PC.ZS', 'value': 'Cost of business start-up procedures (% of GNI per capita)'}, 'country': {'id': 'DE', 'value': 'Germany'}, 'countryiso3code': 'DEU', 'date': '1978', 'value': None, 'unit': '', 'obs_status': '', 'decimal': 1}, {'indicator': {'id': 'IC.REG.COST.PC.ZS', 'value': 'Cost of business start-up procedures (% of GNI per capita)'}, 'country': {'id': 'DE', 'value': 'Germany'}, 'countryiso3code': 'DEU', 'date': '1977', 'value': None, 'unit': '', 'obs_status': '', 'decimal': 1}, {'indicator': {'id': 'IC.REG.COST.PC.ZS', 'value': 'Cost of business start-up procedures (% of GNI per capita)'}, 'country': {'id': 'DE', 'value': 'Germany'}, 'countryiso3code': 'DEU', 'date': '1976', 'value': None, 'unit': '', 'obs_status': '', 'decimal': 1}, {'indicator': {'id': 'IC.REG.COST.PC.ZS', 'value': 'Cost of business start-up procedures (% of GNI per capita)'}, 'country': {'id': 'DE', 'value': 'Germany'}, 'countryiso3code': 'DEU', 'date': '1975', 'value': None, 'unit': '', 'obs_status': '', 'decimal': 1}, {'indicator': {'id': 'IC.REG.COST.PC.ZS', 'value': 'Cost of business start-up procedures (% of GNI per capita)'}, 'country': {'id': 'DE', 'value': 'Germany'}, 'countryiso3code': 'DEU', 'date': '1974', 'value': None, 'unit': '', 'obs_status': '', 'decimal': 1}, {'indicator': {'id': 'IC.REG.COST.PC.ZS', 'value': 'Cost of business start-up procedures (% of GNI per capita)'}, 'country': {'id': 'DE', 'value': 'Germany'}, 'countryiso3code': 'DEU', 'date': '1973', 'value': None, 'unit': '', 'obs_status': '', 'decimal': 1}, {'indicator': {'id': 'IC.REG.COST.PC.ZS', 'value': 'Cost of business start-up procedures (% of GNI per capita)'}, 'country': {'id': 'DE', 'value': 'Germany'}, 'countryiso3code': 'DEU', 'date': '1972', 'value': None, 'unit': '', 'obs_status': '', 'decimal': 1}, {'indicator': {'id': 'IC.REG.COST.PC.ZS', 'value': 'Cost of business start-up procedures (% of GNI per capita)'}, 'country': {'id': 'DE', 'value': 'Germany'}, 'countryiso3code': 'DEU', 'date': '1971', 'value': None, 'unit': '', 'obs_status': '', 'decimal': 1}]]\n",
            "WB_data_cost_DEU.json\n"
          ]
        },
        {
          "output_type": "display_data",
          "data": {
            "application/javascript": [
              "\n",
              "    async function download(id, filename, size) {\n",
              "      if (!google.colab.kernel.accessAllowed) {\n",
              "        return;\n",
              "      }\n",
              "      const div = document.createElement('div');\n",
              "      const label = document.createElement('label');\n",
              "      label.textContent = `Downloading \"${filename}\": `;\n",
              "      div.appendChild(label);\n",
              "      const progress = document.createElement('progress');\n",
              "      progress.max = size;\n",
              "      div.appendChild(progress);\n",
              "      document.body.appendChild(div);\n",
              "\n",
              "      const buffers = [];\n",
              "      let downloaded = 0;\n",
              "\n",
              "      const channel = await google.colab.kernel.comms.open(id);\n",
              "      // Send a message to notify the kernel that we're ready.\n",
              "      channel.send({})\n",
              "\n",
              "      for await (const message of channel.messages) {\n",
              "        // Send a message to notify the kernel that we're ready.\n",
              "        channel.send({})\n",
              "        if (message.buffers) {\n",
              "          for (const buffer of message.buffers) {\n",
              "            buffers.push(buffer);\n",
              "            downloaded += buffer.byteLength;\n",
              "            progress.value = downloaded;\n",
              "          }\n",
              "        }\n",
              "      }\n",
              "      const blob = new Blob(buffers, {type: 'application/binary'});\n",
              "      const a = document.createElement('a');\n",
              "      a.href = window.URL.createObjectURL(blob);\n",
              "      a.download = filename;\n",
              "      div.appendChild(a);\n",
              "      a.click();\n",
              "      div.remove();\n",
              "    }\n",
              "  "
            ],
            "text/plain": [
              "<IPython.core.display.Javascript object>"
            ]
          },
          "metadata": {}
        },
        {
          "output_type": "display_data",
          "data": {
            "application/javascript": [
              "download(\"download_e6c11822-dcdc-4d27-8403-44967222c21a\", \"WB_data_cost_DEU.json\", 23559)"
            ],
            "text/plain": [
              "<IPython.core.display.Javascript object>"
            ]
          },
          "metadata": {}
        },
        {
          "output_type": "stream",
          "name": "stdout",
          "text": [
            "ESP\n",
            "http://api.worldbank.org/v2/country/ESP/indicator/IC.REG.COST.PC.ZS?format=json\n",
            "[{'page': 1, 'pages': 2, 'per_page': 50, 'total': 61, 'sourceid': '2', 'sourcename': 'World Development Indicators', 'lastupdated': '2021-10-28'}, [{'indicator': {'id': 'IC.REG.COST.PC.ZS', 'value': 'Cost of business start-up procedures (% of GNI per capita)'}, 'country': {'id': 'ES', 'value': 'Spain'}, 'countryiso3code': 'ESP', 'date': '2020', 'value': None, 'unit': '', 'obs_status': '', 'decimal': 1}, {'indicator': {'id': 'IC.REG.COST.PC.ZS', 'value': 'Cost of business start-up procedures (% of GNI per capita)'}, 'country': {'id': 'ES', 'value': 'Spain'}, 'countryiso3code': 'ESP', 'date': '2019', 'value': 3.9, 'unit': '', 'obs_status': '', 'decimal': 1}, {'indicator': {'id': 'IC.REG.COST.PC.ZS', 'value': 'Cost of business start-up procedures (% of GNI per capita)'}, 'country': {'id': 'ES', 'value': 'Spain'}, 'countryiso3code': 'ESP', 'date': '2018', 'value': 4, 'unit': '', 'obs_status': '', 'decimal': 1}, {'indicator': {'id': 'IC.REG.COST.PC.ZS', 'value': 'Cost of business start-up procedures (% of GNI per capita)'}, 'country': {'id': 'ES', 'value': 'Spain'}, 'countryiso3code': 'ESP', 'date': '2017', 'value': 4.1, 'unit': '', 'obs_status': '', 'decimal': 1}, {'indicator': {'id': 'IC.REG.COST.PC.ZS', 'value': 'Cost of business start-up procedures (% of GNI per capita)'}, 'country': {'id': 'ES', 'value': 'Spain'}, 'countryiso3code': 'ESP', 'date': '2016', 'value': 4.3, 'unit': '', 'obs_status': '', 'decimal': 1}, {'indicator': {'id': 'IC.REG.COST.PC.ZS', 'value': 'Cost of business start-up procedures (% of GNI per capita)'}, 'country': {'id': 'ES', 'value': 'Spain'}, 'countryiso3code': 'ESP', 'date': '2015', 'value': 4.4, 'unit': '', 'obs_status': '', 'decimal': 1}, {'indicator': {'id': 'IC.REG.COST.PC.ZS', 'value': 'Cost of business start-up procedures (% of GNI per capita)'}, 'country': {'id': 'ES', 'value': 'Spain'}, 'countryiso3code': 'ESP', 'date': '2014', 'value': 4.5, 'unit': '', 'obs_status': '', 'decimal': 1}, {'indicator': {'id': 'IC.REG.COST.PC.ZS', 'value': 'Cost of business start-up procedures (% of GNI per capita)'}, 'country': {'id': 'ES', 'value': 'Spain'}, 'countryiso3code': 'ESP', 'date': '2013', 'value': 5, 'unit': '', 'obs_status': '', 'decimal': 1}, {'indicator': {'id': 'IC.REG.COST.PC.ZS', 'value': 'Cost of business start-up procedures (% of GNI per capita)'}, 'country': {'id': 'ES', 'value': 'Spain'}, 'countryiso3code': 'ESP', 'date': '2012', 'value': 5, 'unit': '', 'obs_status': '', 'decimal': 1}, {'indicator': {'id': 'IC.REG.COST.PC.ZS', 'value': 'Cost of business start-up procedures (% of GNI per capita)'}, 'country': {'id': 'ES', 'value': 'Spain'}, 'countryiso3code': 'ESP', 'date': '2011', 'value': 4.7, 'unit': '', 'obs_status': '', 'decimal': 1}, {'indicator': {'id': 'IC.REG.COST.PC.ZS', 'value': 'Cost of business start-up procedures (% of GNI per capita)'}, 'country': {'id': 'ES', 'value': 'Spain'}, 'countryiso3code': 'ESP', 'date': '2010', 'value': 15.1, 'unit': '', 'obs_status': '', 'decimal': 1}, {'indicator': {'id': 'IC.REG.COST.PC.ZS', 'value': 'Cost of business start-up procedures (% of GNI per capita)'}, 'country': {'id': 'ES', 'value': 'Spain'}, 'countryiso3code': 'ESP', 'date': '2009', 'value': 15, 'unit': '', 'obs_status': '', 'decimal': 1}, {'indicator': {'id': 'IC.REG.COST.PC.ZS', 'value': 'Cost of business start-up procedures (% of GNI per capita)'}, 'country': {'id': 'ES', 'value': 'Spain'}, 'countryiso3code': 'ESP', 'date': '2008', 'value': 14.9, 'unit': '', 'obs_status': '', 'decimal': 1}, {'indicator': {'id': 'IC.REG.COST.PC.ZS', 'value': 'Cost of business start-up procedures (% of GNI per capita)'}, 'country': {'id': 'ES', 'value': 'Spain'}, 'countryiso3code': 'ESP', 'date': '2007', 'value': 15.1, 'unit': '', 'obs_status': '', 'decimal': 1}, {'indicator': {'id': 'IC.REG.COST.PC.ZS', 'value': 'Cost of business start-up procedures (% of GNI per capita)'}, 'country': {'id': 'ES', 'value': 'Spain'}, 'countryiso3code': 'ESP', 'date': '2006', 'value': 16.2, 'unit': '', 'obs_status': '', 'decimal': 1}, {'indicator': {'id': 'IC.REG.COST.PC.ZS', 'value': 'Cost of business start-up procedures (% of GNI per capita)'}, 'country': {'id': 'ES', 'value': 'Spain'}, 'countryiso3code': 'ESP', 'date': '2005', 'value': 16.5, 'unit': '', 'obs_status': '', 'decimal': 1}, {'indicator': {'id': 'IC.REG.COST.PC.ZS', 'value': 'Cost of business start-up procedures (% of GNI per capita)'}, 'country': {'id': 'ES', 'value': 'Spain'}, 'countryiso3code': 'ESP', 'date': '2004', 'value': 17, 'unit': '', 'obs_status': '', 'decimal': 1}, {'indicator': {'id': 'IC.REG.COST.PC.ZS', 'value': 'Cost of business start-up procedures (% of GNI per capita)'}, 'country': {'id': 'ES', 'value': 'Spain'}, 'countryiso3code': 'ESP', 'date': '2003', 'value': 16.8, 'unit': '', 'obs_status': '', 'decimal': 1}, {'indicator': {'id': 'IC.REG.COST.PC.ZS', 'value': 'Cost of business start-up procedures (% of GNI per capita)'}, 'country': {'id': 'ES', 'value': 'Spain'}, 'countryiso3code': 'ESP', 'date': '2002', 'value': None, 'unit': '', 'obs_status': '', 'decimal': 1}, {'indicator': {'id': 'IC.REG.COST.PC.ZS', 'value': 'Cost of business start-up procedures (% of GNI per capita)'}, 'country': {'id': 'ES', 'value': 'Spain'}, 'countryiso3code': 'ESP', 'date': '2001', 'value': None, 'unit': '', 'obs_status': '', 'decimal': 1}, {'indicator': {'id': 'IC.REG.COST.PC.ZS', 'value': 'Cost of business start-up procedures (% of GNI per capita)'}, 'country': {'id': 'ES', 'value': 'Spain'}, 'countryiso3code': 'ESP', 'date': '2000', 'value': None, 'unit': '', 'obs_status': '', 'decimal': 1}, {'indicator': {'id': 'IC.REG.COST.PC.ZS', 'value': 'Cost of business start-up procedures (% of GNI per capita)'}, 'country': {'id': 'ES', 'value': 'Spain'}, 'countryiso3code': 'ESP', 'date': '1999', 'value': None, 'unit': '', 'obs_status': '', 'decimal': 1}, {'indicator': {'id': 'IC.REG.COST.PC.ZS', 'value': 'Cost of business start-up procedures (% of GNI per capita)'}, 'country': {'id': 'ES', 'value': 'Spain'}, 'countryiso3code': 'ESP', 'date': '1998', 'value': None, 'unit': '', 'obs_status': '', 'decimal': 1}, {'indicator': {'id': 'IC.REG.COST.PC.ZS', 'value': 'Cost of business start-up procedures (% of GNI per capita)'}, 'country': {'id': 'ES', 'value': 'Spain'}, 'countryiso3code': 'ESP', 'date': '1997', 'value': None, 'unit': '', 'obs_status': '', 'decimal': 1}, {'indicator': {'id': 'IC.REG.COST.PC.ZS', 'value': 'Cost of business start-up procedures (% of GNI per capita)'}, 'country': {'id': 'ES', 'value': 'Spain'}, 'countryiso3code': 'ESP', 'date': '1996', 'value': None, 'unit': '', 'obs_status': '', 'decimal': 1}, {'indicator': {'id': 'IC.REG.COST.PC.ZS', 'value': 'Cost of business start-up procedures (% of GNI per capita)'}, 'country': {'id': 'ES', 'value': 'Spain'}, 'countryiso3code': 'ESP', 'date': '1995', 'value': None, 'unit': '', 'obs_status': '', 'decimal': 1}, {'indicator': {'id': 'IC.REG.COST.PC.ZS', 'value': 'Cost of business start-up procedures (% of GNI per capita)'}, 'country': {'id': 'ES', 'value': 'Spain'}, 'countryiso3code': 'ESP', 'date': '1994', 'value': None, 'unit': '', 'obs_status': '', 'decimal': 1}, {'indicator': {'id': 'IC.REG.COST.PC.ZS', 'value': 'Cost of business start-up procedures (% of GNI per capita)'}, 'country': {'id': 'ES', 'value': 'Spain'}, 'countryiso3code': 'ESP', 'date': '1993', 'value': None, 'unit': '', 'obs_status': '', 'decimal': 1}, {'indicator': {'id': 'IC.REG.COST.PC.ZS', 'value': 'Cost of business start-up procedures (% of GNI per capita)'}, 'country': {'id': 'ES', 'value': 'Spain'}, 'countryiso3code': 'ESP', 'date': '1992', 'value': None, 'unit': '', 'obs_status': '', 'decimal': 1}, {'indicator': {'id': 'IC.REG.COST.PC.ZS', 'value': 'Cost of business start-up procedures (% of GNI per capita)'}, 'country': {'id': 'ES', 'value': 'Spain'}, 'countryiso3code': 'ESP', 'date': '1991', 'value': None, 'unit': '', 'obs_status': '', 'decimal': 1}, {'indicator': {'id': 'IC.REG.COST.PC.ZS', 'value': 'Cost of business start-up procedures (% of GNI per capita)'}, 'country': {'id': 'ES', 'value': 'Spain'}, 'countryiso3code': 'ESP', 'date': '1990', 'value': None, 'unit': '', 'obs_status': '', 'decimal': 1}, {'indicator': {'id': 'IC.REG.COST.PC.ZS', 'value': 'Cost of business start-up procedures (% of GNI per capita)'}, 'country': {'id': 'ES', 'value': 'Spain'}, 'countryiso3code': 'ESP', 'date': '1989', 'value': None, 'unit': '', 'obs_status': '', 'decimal': 1}, {'indicator': {'id': 'IC.REG.COST.PC.ZS', 'value': 'Cost of business start-up procedures (% of GNI per capita)'}, 'country': {'id': 'ES', 'value': 'Spain'}, 'countryiso3code': 'ESP', 'date': '1988', 'value': None, 'unit': '', 'obs_status': '', 'decimal': 1}, {'indicator': {'id': 'IC.REG.COST.PC.ZS', 'value': 'Cost of business start-up procedures (% of GNI per capita)'}, 'country': {'id': 'ES', 'value': 'Spain'}, 'countryiso3code': 'ESP', 'date': '1987', 'value': None, 'unit': '', 'obs_status': '', 'decimal': 1}, {'indicator': {'id': 'IC.REG.COST.PC.ZS', 'value': 'Cost of business start-up procedures (% of GNI per capita)'}, 'country': {'id': 'ES', 'value': 'Spain'}, 'countryiso3code': 'ESP', 'date': '1986', 'value': None, 'unit': '', 'obs_status': '', 'decimal': 1}, {'indicator': {'id': 'IC.REG.COST.PC.ZS', 'value': 'Cost of business start-up procedures (% of GNI per capita)'}, 'country': {'id': 'ES', 'value': 'Spain'}, 'countryiso3code': 'ESP', 'date': '1985', 'value': None, 'unit': '', 'obs_status': '', 'decimal': 1}, {'indicator': {'id': 'IC.REG.COST.PC.ZS', 'value': 'Cost of business start-up procedures (% of GNI per capita)'}, 'country': {'id': 'ES', 'value': 'Spain'}, 'countryiso3code': 'ESP', 'date': '1984', 'value': None, 'unit': '', 'obs_status': '', 'decimal': 1}, {'indicator': {'id': 'IC.REG.COST.PC.ZS', 'value': 'Cost of business start-up procedures (% of GNI per capita)'}, 'country': {'id': 'ES', 'value': 'Spain'}, 'countryiso3code': 'ESP', 'date': '1983', 'value': None, 'unit': '', 'obs_status': '', 'decimal': 1}, {'indicator': {'id': 'IC.REG.COST.PC.ZS', 'value': 'Cost of business start-up procedures (% of GNI per capita)'}, 'country': {'id': 'ES', 'value': 'Spain'}, 'countryiso3code': 'ESP', 'date': '1982', 'value': None, 'unit': '', 'obs_status': '', 'decimal': 1}, {'indicator': {'id': 'IC.REG.COST.PC.ZS', 'value': 'Cost of business start-up procedures (% of GNI per capita)'}, 'country': {'id': 'ES', 'value': 'Spain'}, 'countryiso3code': 'ESP', 'date': '1981', 'value': None, 'unit': '', 'obs_status': '', 'decimal': 1}, {'indicator': {'id': 'IC.REG.COST.PC.ZS', 'value': 'Cost of business start-up procedures (% of GNI per capita)'}, 'country': {'id': 'ES', 'value': 'Spain'}, 'countryiso3code': 'ESP', 'date': '1980', 'value': None, 'unit': '', 'obs_status': '', 'decimal': 1}, {'indicator': {'id': 'IC.REG.COST.PC.ZS', 'value': 'Cost of business start-up procedures (% of GNI per capita)'}, 'country': {'id': 'ES', 'value': 'Spain'}, 'countryiso3code': 'ESP', 'date': '1979', 'value': None, 'unit': '', 'obs_status': '', 'decimal': 1}, {'indicator': {'id': 'IC.REG.COST.PC.ZS', 'value': 'Cost of business start-up procedures (% of GNI per capita)'}, 'country': {'id': 'ES', 'value': 'Spain'}, 'countryiso3code': 'ESP', 'date': '1978', 'value': None, 'unit': '', 'obs_status': '', 'decimal': 1}, {'indicator': {'id': 'IC.REG.COST.PC.ZS', 'value': 'Cost of business start-up procedures (% of GNI per capita)'}, 'country': {'id': 'ES', 'value': 'Spain'}, 'countryiso3code': 'ESP', 'date': '1977', 'value': None, 'unit': '', 'obs_status': '', 'decimal': 1}, {'indicator': {'id': 'IC.REG.COST.PC.ZS', 'value': 'Cost of business start-up procedures (% of GNI per capita)'}, 'country': {'id': 'ES', 'value': 'Spain'}, 'countryiso3code': 'ESP', 'date': '1976', 'value': None, 'unit': '', 'obs_status': '', 'decimal': 1}, {'indicator': {'id': 'IC.REG.COST.PC.ZS', 'value': 'Cost of business start-up procedures (% of GNI per capita)'}, 'country': {'id': 'ES', 'value': 'Spain'}, 'countryiso3code': 'ESP', 'date': '1975', 'value': None, 'unit': '', 'obs_status': '', 'decimal': 1}, {'indicator': {'id': 'IC.REG.COST.PC.ZS', 'value': 'Cost of business start-up procedures (% of GNI per capita)'}, 'country': {'id': 'ES', 'value': 'Spain'}, 'countryiso3code': 'ESP', 'date': '1974', 'value': None, 'unit': '', 'obs_status': '', 'decimal': 1}, {'indicator': {'id': 'IC.REG.COST.PC.ZS', 'value': 'Cost of business start-up procedures (% of GNI per capita)'}, 'country': {'id': 'ES', 'value': 'Spain'}, 'countryiso3code': 'ESP', 'date': '1973', 'value': None, 'unit': '', 'obs_status': '', 'decimal': 1}, {'indicator': {'id': 'IC.REG.COST.PC.ZS', 'value': 'Cost of business start-up procedures (% of GNI per capita)'}, 'country': {'id': 'ES', 'value': 'Spain'}, 'countryiso3code': 'ESP', 'date': '1972', 'value': None, 'unit': '', 'obs_status': '', 'decimal': 1}, {'indicator': {'id': 'IC.REG.COST.PC.ZS', 'value': 'Cost of business start-up procedures (% of GNI per capita)'}, 'country': {'id': 'ES', 'value': 'Spain'}, 'countryiso3code': 'ESP', 'date': '1971', 'value': None, 'unit': '', 'obs_status': '', 'decimal': 1}]]\n",
            "WB_data_cost_ESP.json\n"
          ]
        },
        {
          "output_type": "display_data",
          "data": {
            "application/javascript": [
              "\n",
              "    async function download(id, filename, size) {\n",
              "      if (!google.colab.kernel.accessAllowed) {\n",
              "        return;\n",
              "      }\n",
              "      const div = document.createElement('div');\n",
              "      const label = document.createElement('label');\n",
              "      label.textContent = `Downloading \"${filename}\": `;\n",
              "      div.appendChild(label);\n",
              "      const progress = document.createElement('progress');\n",
              "      progress.max = size;\n",
              "      div.appendChild(progress);\n",
              "      document.body.appendChild(div);\n",
              "\n",
              "      const buffers = [];\n",
              "      let downloaded = 0;\n",
              "\n",
              "      const channel = await google.colab.kernel.comms.open(id);\n",
              "      // Send a message to notify the kernel that we're ready.\n",
              "      channel.send({})\n",
              "\n",
              "      for await (const message of channel.messages) {\n",
              "        // Send a message to notify the kernel that we're ready.\n",
              "        channel.send({})\n",
              "        if (message.buffers) {\n",
              "          for (const buffer of message.buffers) {\n",
              "            buffers.push(buffer);\n",
              "            downloaded += buffer.byteLength;\n",
              "            progress.value = downloaded;\n",
              "          }\n",
              "        }\n",
              "      }\n",
              "      const blob = new Blob(buffers, {type: 'application/binary'});\n",
              "      const a = document.createElement('a');\n",
              "      a.href = window.URL.createObjectURL(blob);\n",
              "      a.download = filename;\n",
              "      div.appendChild(a);\n",
              "      a.click();\n",
              "      div.remove();\n",
              "    }\n",
              "  "
            ],
            "text/plain": [
              "<IPython.core.display.Javascript object>"
            ]
          },
          "metadata": {}
        },
        {
          "output_type": "display_data",
          "data": {
            "application/javascript": [
              "download(\"download_1a94744d-fbcc-4df5-bf91-70696282d3e7\", \"WB_data_cost_ESP.json\", 23457)"
            ],
            "text/plain": [
              "<IPython.core.display.Javascript object>"
            ]
          },
          "metadata": {}
        },
        {
          "output_type": "stream",
          "name": "stdout",
          "text": [
            "EST\n",
            "http://api.worldbank.org/v2/country/EST/indicator/IC.REG.COST.PC.ZS?format=json\n",
            "[{'page': 1, 'pages': 2, 'per_page': 50, 'total': 61, 'sourceid': '2', 'sourcename': 'World Development Indicators', 'lastupdated': '2021-10-28'}, [{'indicator': {'id': 'IC.REG.COST.PC.ZS', 'value': 'Cost of business start-up procedures (% of GNI per capita)'}, 'country': {'id': 'EE', 'value': 'Estonia'}, 'countryiso3code': 'EST', 'date': '2020', 'value': None, 'unit': '', 'obs_status': '', 'decimal': 1}, {'indicator': {'id': 'IC.REG.COST.PC.ZS', 'value': 'Cost of business start-up procedures (% of GNI per capita)'}, 'country': {'id': 'EE', 'value': 'Estonia'}, 'countryiso3code': 'EST', 'date': '2019', 'value': 1, 'unit': '', 'obs_status': '', 'decimal': 1}, {'indicator': {'id': 'IC.REG.COST.PC.ZS', 'value': 'Cost of business start-up procedures (% of GNI per capita)'}, 'country': {'id': 'EE', 'value': 'Estonia'}, 'countryiso3code': 'EST', 'date': '2018', 'value': 1.1, 'unit': '', 'obs_status': '', 'decimal': 1}, {'indicator': {'id': 'IC.REG.COST.PC.ZS', 'value': 'Cost of business start-up procedures (% of GNI per capita)'}, 'country': {'id': 'EE', 'value': 'Estonia'}, 'countryiso3code': 'EST', 'date': '2017', 'value': 1.2, 'unit': '', 'obs_status': '', 'decimal': 1}, {'indicator': {'id': 'IC.REG.COST.PC.ZS', 'value': 'Cost of business start-up procedures (% of GNI per capita)'}, 'country': {'id': 'EE', 'value': 'Estonia'}, 'countryiso3code': 'EST', 'date': '2016', 'value': 1.2, 'unit': '', 'obs_status': '', 'decimal': 1}, {'indicator': {'id': 'IC.REG.COST.PC.ZS', 'value': 'Cost of business start-up procedures (% of GNI per capita)'}, 'country': {'id': 'EE', 'value': 'Estonia'}, 'countryiso3code': 'EST', 'date': '2015', 'value': 1.3, 'unit': '', 'obs_status': '', 'decimal': 1}, {'indicator': {'id': 'IC.REG.COST.PC.ZS', 'value': 'Cost of business start-up procedures (% of GNI per capita)'}, 'country': {'id': 'EE', 'value': 'Estonia'}, 'countryiso3code': 'EST', 'date': '2014', 'value': 1.4, 'unit': '', 'obs_status': '', 'decimal': 1}, {'indicator': {'id': 'IC.REG.COST.PC.ZS', 'value': 'Cost of business start-up procedures (% of GNI per capita)'}, 'country': {'id': 'EE', 'value': 'Estonia'}, 'countryiso3code': 'EST', 'date': '2013', 'value': 1.5, 'unit': '', 'obs_status': '', 'decimal': 1}, {'indicator': {'id': 'IC.REG.COST.PC.ZS', 'value': 'Cost of business start-up procedures (% of GNI per capita)'}, 'country': {'id': 'EE', 'value': 'Estonia'}, 'countryiso3code': 'EST', 'date': '2012', 'value': 1.6, 'unit': '', 'obs_status': '', 'decimal': 1}, {'indicator': {'id': 'IC.REG.COST.PC.ZS', 'value': 'Cost of business start-up procedures (% of GNI per capita)'}, 'country': {'id': 'EE', 'value': 'Estonia'}, 'countryiso3code': 'EST', 'date': '2011', 'value': 1.8, 'unit': '', 'obs_status': '', 'decimal': 1}, {'indicator': {'id': 'IC.REG.COST.PC.ZS', 'value': 'Cost of business start-up procedures (% of GNI per capita)'}, 'country': {'id': 'EE', 'value': 'Estonia'}, 'countryiso3code': 'EST', 'date': '2010', 'value': 1.9, 'unit': '', 'obs_status': '', 'decimal': 1}, {'indicator': {'id': 'IC.REG.COST.PC.ZS', 'value': 'Cost of business start-up procedures (% of GNI per capita)'}, 'country': {'id': 'EE', 'value': 'Estonia'}, 'countryiso3code': 'EST', 'date': '2009', 'value': 1.7, 'unit': '', 'obs_status': '', 'decimal': 1}, {'indicator': {'id': 'IC.REG.COST.PC.ZS', 'value': 'Cost of business start-up procedures (% of GNI per capita)'}, 'country': {'id': 'EE', 'value': 'Estonia'}, 'countryiso3code': 'EST', 'date': '2008', 'value': 1.7, 'unit': '', 'obs_status': '', 'decimal': 1}, {'indicator': {'id': 'IC.REG.COST.PC.ZS', 'value': 'Cost of business start-up procedures (% of GNI per capita)'}, 'country': {'id': 'EE', 'value': 'Estonia'}, 'countryiso3code': 'EST', 'date': '2007', 'value': 2, 'unit': '', 'obs_status': '', 'decimal': 1}, {'indicator': {'id': 'IC.REG.COST.PC.ZS', 'value': 'Cost of business start-up procedures (% of GNI per capita)'}, 'country': {'id': 'EE', 'value': 'Estonia'}, 'countryiso3code': 'EST', 'date': '2006', 'value': 5.1, 'unit': '', 'obs_status': '', 'decimal': 1}, {'indicator': {'id': 'IC.REG.COST.PC.ZS', 'value': 'Cost of business start-up procedures (% of GNI per capita)'}, 'country': {'id': 'EE', 'value': 'Estonia'}, 'countryiso3code': 'EST', 'date': '2005', 'value': 6.2, 'unit': '', 'obs_status': '', 'decimal': 1}, {'indicator': {'id': 'IC.REG.COST.PC.ZS', 'value': 'Cost of business start-up procedures (% of GNI per capita)'}, 'country': {'id': 'EE', 'value': 'Estonia'}, 'countryiso3code': 'EST', 'date': '2004', 'value': 7.5, 'unit': '', 'obs_status': '', 'decimal': 1}, {'indicator': {'id': 'IC.REG.COST.PC.ZS', 'value': 'Cost of business start-up procedures (% of GNI per capita)'}, 'country': {'id': 'EE', 'value': 'Estonia'}, 'countryiso3code': 'EST', 'date': '2003', 'value': 8, 'unit': '', 'obs_status': '', 'decimal': 1}, {'indicator': {'id': 'IC.REG.COST.PC.ZS', 'value': 'Cost of business start-up procedures (% of GNI per capita)'}, 'country': {'id': 'EE', 'value': 'Estonia'}, 'countryiso3code': 'EST', 'date': '2002', 'value': None, 'unit': '', 'obs_status': '', 'decimal': 1}, {'indicator': {'id': 'IC.REG.COST.PC.ZS', 'value': 'Cost of business start-up procedures (% of GNI per capita)'}, 'country': {'id': 'EE', 'value': 'Estonia'}, 'countryiso3code': 'EST', 'date': '2001', 'value': None, 'unit': '', 'obs_status': '', 'decimal': 1}, {'indicator': {'id': 'IC.REG.COST.PC.ZS', 'value': 'Cost of business start-up procedures (% of GNI per capita)'}, 'country': {'id': 'EE', 'value': 'Estonia'}, 'countryiso3code': 'EST', 'date': '2000', 'value': None, 'unit': '', 'obs_status': '', 'decimal': 1}, {'indicator': {'id': 'IC.REG.COST.PC.ZS', 'value': 'Cost of business start-up procedures (% of GNI per capita)'}, 'country': {'id': 'EE', 'value': 'Estonia'}, 'countryiso3code': 'EST', 'date': '1999', 'value': None, 'unit': '', 'obs_status': '', 'decimal': 1}, {'indicator': {'id': 'IC.REG.COST.PC.ZS', 'value': 'Cost of business start-up procedures (% of GNI per capita)'}, 'country': {'id': 'EE', 'value': 'Estonia'}, 'countryiso3code': 'EST', 'date': '1998', 'value': None, 'unit': '', 'obs_status': '', 'decimal': 1}, {'indicator': {'id': 'IC.REG.COST.PC.ZS', 'value': 'Cost of business start-up procedures (% of GNI per capita)'}, 'country': {'id': 'EE', 'value': 'Estonia'}, 'countryiso3code': 'EST', 'date': '1997', 'value': None, 'unit': '', 'obs_status': '', 'decimal': 1}, {'indicator': {'id': 'IC.REG.COST.PC.ZS', 'value': 'Cost of business start-up procedures (% of GNI per capita)'}, 'country': {'id': 'EE', 'value': 'Estonia'}, 'countryiso3code': 'EST', 'date': '1996', 'value': None, 'unit': '', 'obs_status': '', 'decimal': 1}, {'indicator': {'id': 'IC.REG.COST.PC.ZS', 'value': 'Cost of business start-up procedures (% of GNI per capita)'}, 'country': {'id': 'EE', 'value': 'Estonia'}, 'countryiso3code': 'EST', 'date': '1995', 'value': None, 'unit': '', 'obs_status': '', 'decimal': 1}, {'indicator': {'id': 'IC.REG.COST.PC.ZS', 'value': 'Cost of business start-up procedures (% of GNI per capita)'}, 'country': {'id': 'EE', 'value': 'Estonia'}, 'countryiso3code': 'EST', 'date': '1994', 'value': None, 'unit': '', 'obs_status': '', 'decimal': 1}, {'indicator': {'id': 'IC.REG.COST.PC.ZS', 'value': 'Cost of business start-up procedures (% of GNI per capita)'}, 'country': {'id': 'EE', 'value': 'Estonia'}, 'countryiso3code': 'EST', 'date': '1993', 'value': None, 'unit': '', 'obs_status': '', 'decimal': 1}, {'indicator': {'id': 'IC.REG.COST.PC.ZS', 'value': 'Cost of business start-up procedures (% of GNI per capita)'}, 'country': {'id': 'EE', 'value': 'Estonia'}, 'countryiso3code': 'EST', 'date': '1992', 'value': None, 'unit': '', 'obs_status': '', 'decimal': 1}, {'indicator': {'id': 'IC.REG.COST.PC.ZS', 'value': 'Cost of business start-up procedures (% of GNI per capita)'}, 'country': {'id': 'EE', 'value': 'Estonia'}, 'countryiso3code': 'EST', 'date': '1991', 'value': None, 'unit': '', 'obs_status': '', 'decimal': 1}, {'indicator': {'id': 'IC.REG.COST.PC.ZS', 'value': 'Cost of business start-up procedures (% of GNI per capita)'}, 'country': {'id': 'EE', 'value': 'Estonia'}, 'countryiso3code': 'EST', 'date': '1990', 'value': None, 'unit': '', 'obs_status': '', 'decimal': 1}, {'indicator': {'id': 'IC.REG.COST.PC.ZS', 'value': 'Cost of business start-up procedures (% of GNI per capita)'}, 'country': {'id': 'EE', 'value': 'Estonia'}, 'countryiso3code': 'EST', 'date': '1989', 'value': None, 'unit': '', 'obs_status': '', 'decimal': 1}, {'indicator': {'id': 'IC.REG.COST.PC.ZS', 'value': 'Cost of business start-up procedures (% of GNI per capita)'}, 'country': {'id': 'EE', 'value': 'Estonia'}, 'countryiso3code': 'EST', 'date': '1988', 'value': None, 'unit': '', 'obs_status': '', 'decimal': 1}, {'indicator': {'id': 'IC.REG.COST.PC.ZS', 'value': 'Cost of business start-up procedures (% of GNI per capita)'}, 'country': {'id': 'EE', 'value': 'Estonia'}, 'countryiso3code': 'EST', 'date': '1987', 'value': None, 'unit': '', 'obs_status': '', 'decimal': 1}, {'indicator': {'id': 'IC.REG.COST.PC.ZS', 'value': 'Cost of business start-up procedures (% of GNI per capita)'}, 'country': {'id': 'EE', 'value': 'Estonia'}, 'countryiso3code': 'EST', 'date': '1986', 'value': None, 'unit': '', 'obs_status': '', 'decimal': 1}, {'indicator': {'id': 'IC.REG.COST.PC.ZS', 'value': 'Cost of business start-up procedures (% of GNI per capita)'}, 'country': {'id': 'EE', 'value': 'Estonia'}, 'countryiso3code': 'EST', 'date': '1985', 'value': None, 'unit': '', 'obs_status': '', 'decimal': 1}, {'indicator': {'id': 'IC.REG.COST.PC.ZS', 'value': 'Cost of business start-up procedures (% of GNI per capita)'}, 'country': {'id': 'EE', 'value': 'Estonia'}, 'countryiso3code': 'EST', 'date': '1984', 'value': None, 'unit': '', 'obs_status': '', 'decimal': 1}, {'indicator': {'id': 'IC.REG.COST.PC.ZS', 'value': 'Cost of business start-up procedures (% of GNI per capita)'}, 'country': {'id': 'EE', 'value': 'Estonia'}, 'countryiso3code': 'EST', 'date': '1983', 'value': None, 'unit': '', 'obs_status': '', 'decimal': 1}, {'indicator': {'id': 'IC.REG.COST.PC.ZS', 'value': 'Cost of business start-up procedures (% of GNI per capita)'}, 'country': {'id': 'EE', 'value': 'Estonia'}, 'countryiso3code': 'EST', 'date': '1982', 'value': None, 'unit': '', 'obs_status': '', 'decimal': 1}, {'indicator': {'id': 'IC.REG.COST.PC.ZS', 'value': 'Cost of business start-up procedures (% of GNI per capita)'}, 'country': {'id': 'EE', 'value': 'Estonia'}, 'countryiso3code': 'EST', 'date': '1981', 'value': None, 'unit': '', 'obs_status': '', 'decimal': 1}, {'indicator': {'id': 'IC.REG.COST.PC.ZS', 'value': 'Cost of business start-up procedures (% of GNI per capita)'}, 'country': {'id': 'EE', 'value': 'Estonia'}, 'countryiso3code': 'EST', 'date': '1980', 'value': None, 'unit': '', 'obs_status': '', 'decimal': 1}, {'indicator': {'id': 'IC.REG.COST.PC.ZS', 'value': 'Cost of business start-up procedures (% of GNI per capita)'}, 'country': {'id': 'EE', 'value': 'Estonia'}, 'countryiso3code': 'EST', 'date': '1979', 'value': None, 'unit': '', 'obs_status': '', 'decimal': 1}, {'indicator': {'id': 'IC.REG.COST.PC.ZS', 'value': 'Cost of business start-up procedures (% of GNI per capita)'}, 'country': {'id': 'EE', 'value': 'Estonia'}, 'countryiso3code': 'EST', 'date': '1978', 'value': None, 'unit': '', 'obs_status': '', 'decimal': 1}, {'indicator': {'id': 'IC.REG.COST.PC.ZS', 'value': 'Cost of business start-up procedures (% of GNI per capita)'}, 'country': {'id': 'EE', 'value': 'Estonia'}, 'countryiso3code': 'EST', 'date': '1977', 'value': None, 'unit': '', 'obs_status': '', 'decimal': 1}, {'indicator': {'id': 'IC.REG.COST.PC.ZS', 'value': 'Cost of business start-up procedures (% of GNI per capita)'}, 'country': {'id': 'EE', 'value': 'Estonia'}, 'countryiso3code': 'EST', 'date': '1976', 'value': None, 'unit': '', 'obs_status': '', 'decimal': 1}, {'indicator': {'id': 'IC.REG.COST.PC.ZS', 'value': 'Cost of business start-up procedures (% of GNI per capita)'}, 'country': {'id': 'EE', 'value': 'Estonia'}, 'countryiso3code': 'EST', 'date': '1975', 'value': None, 'unit': '', 'obs_status': '', 'decimal': 1}, {'indicator': {'id': 'IC.REG.COST.PC.ZS', 'value': 'Cost of business start-up procedures (% of GNI per capita)'}, 'country': {'id': 'EE', 'value': 'Estonia'}, 'countryiso3code': 'EST', 'date': '1974', 'value': None, 'unit': '', 'obs_status': '', 'decimal': 1}, {'indicator': {'id': 'IC.REG.COST.PC.ZS', 'value': 'Cost of business start-up procedures (% of GNI per capita)'}, 'country': {'id': 'EE', 'value': 'Estonia'}, 'countryiso3code': 'EST', 'date': '1973', 'value': None, 'unit': '', 'obs_status': '', 'decimal': 1}, {'indicator': {'id': 'IC.REG.COST.PC.ZS', 'value': 'Cost of business start-up procedures (% of GNI per capita)'}, 'country': {'id': 'EE', 'value': 'Estonia'}, 'countryiso3code': 'EST', 'date': '1972', 'value': None, 'unit': '', 'obs_status': '', 'decimal': 1}, {'indicator': {'id': 'IC.REG.COST.PC.ZS', 'value': 'Cost of business start-up procedures (% of GNI per capita)'}, 'country': {'id': 'EE', 'value': 'Estonia'}, 'countryiso3code': 'EST', 'date': '1971', 'value': None, 'unit': '', 'obs_status': '', 'decimal': 1}]]\n",
            "WB_data_cost_EST.json\n"
          ]
        },
        {
          "output_type": "display_data",
          "data": {
            "application/javascript": [
              "\n",
              "    async function download(id, filename, size) {\n",
              "      if (!google.colab.kernel.accessAllowed) {\n",
              "        return;\n",
              "      }\n",
              "      const div = document.createElement('div');\n",
              "      const label = document.createElement('label');\n",
              "      label.textContent = `Downloading \"${filename}\": `;\n",
              "      div.appendChild(label);\n",
              "      const progress = document.createElement('progress');\n",
              "      progress.max = size;\n",
              "      div.appendChild(progress);\n",
              "      document.body.appendChild(div);\n",
              "\n",
              "      const buffers = [];\n",
              "      let downloaded = 0;\n",
              "\n",
              "      const channel = await google.colab.kernel.comms.open(id);\n",
              "      // Send a message to notify the kernel that we're ready.\n",
              "      channel.send({})\n",
              "\n",
              "      for await (const message of channel.messages) {\n",
              "        // Send a message to notify the kernel that we're ready.\n",
              "        channel.send({})\n",
              "        if (message.buffers) {\n",
              "          for (const buffer of message.buffers) {\n",
              "            buffers.push(buffer);\n",
              "            downloaded += buffer.byteLength;\n",
              "            progress.value = downloaded;\n",
              "          }\n",
              "        }\n",
              "      }\n",
              "      const blob = new Blob(buffers, {type: 'application/binary'});\n",
              "      const a = document.createElement('a');\n",
              "      a.href = window.URL.createObjectURL(blob);\n",
              "      a.download = filename;\n",
              "      div.appendChild(a);\n",
              "      a.click();\n",
              "      div.remove();\n",
              "    }\n",
              "  "
            ],
            "text/plain": [
              "<IPython.core.display.Javascript object>"
            ]
          },
          "metadata": {}
        },
        {
          "output_type": "display_data",
          "data": {
            "application/javascript": [
              "download(\"download_33da7cd2-6745-49d0-899f-a7802449f726\", \"WB_data_cost_EST.json\", 23553)"
            ],
            "text/plain": [
              "<IPython.core.display.Javascript object>"
            ]
          },
          "metadata": {}
        },
        {
          "output_type": "stream",
          "name": "stdout",
          "text": [
            "ARE\n",
            "http://api.worldbank.org/v2/country/ARE/indicator/IC.REG.COST.PC.ZS?format=json\n",
            "[{'page': 1, 'pages': 2, 'per_page': 50, 'total': 61, 'sourceid': '2', 'sourcename': 'World Development Indicators', 'lastupdated': '2021-10-28'}, [{'indicator': {'id': 'IC.REG.COST.PC.ZS', 'value': 'Cost of business start-up procedures (% of GNI per capita)'}, 'country': {'id': 'AE', 'value': 'United Arab Emirates'}, 'countryiso3code': 'ARE', 'date': '2020', 'value': None, 'unit': '', 'obs_status': '', 'decimal': 1}, {'indicator': {'id': 'IC.REG.COST.PC.ZS', 'value': 'Cost of business start-up procedures (% of GNI per capita)'}, 'country': {'id': 'AE', 'value': 'United Arab Emirates'}, 'countryiso3code': 'ARE', 'date': '2019', 'value': 17.2, 'unit': '', 'obs_status': '', 'decimal': 1}, {'indicator': {'id': 'IC.REG.COST.PC.ZS', 'value': 'Cost of business start-up procedures (% of GNI per capita)'}, 'country': {'id': 'AE', 'value': 'United Arab Emirates'}, 'countryiso3code': 'ARE', 'date': '2018', 'value': 22.8, 'unit': '', 'obs_status': '', 'decimal': 1}, {'indicator': {'id': 'IC.REG.COST.PC.ZS', 'value': 'Cost of business start-up procedures (% of GNI per capita)'}, 'country': {'id': 'AE', 'value': 'United Arab Emirates'}, 'countryiso3code': 'ARE', 'date': '2017', 'value': 13.4, 'unit': '', 'obs_status': '', 'decimal': 1}, {'indicator': {'id': 'IC.REG.COST.PC.ZS', 'value': 'Cost of business start-up procedures (% of GNI per capita)'}, 'country': {'id': 'AE', 'value': 'United Arab Emirates'}, 'countryiso3code': 'ARE', 'date': '2016', 'value': 13, 'unit': '', 'obs_status': '', 'decimal': 1}, {'indicator': {'id': 'IC.REG.COST.PC.ZS', 'value': 'Cost of business start-up procedures (% of GNI per capita)'}, 'country': {'id': 'AE', 'value': 'United Arab Emirates'}, 'countryiso3code': 'ARE', 'date': '2015', 'value': 11.2, 'unit': '', 'obs_status': '', 'decimal': 1}, {'indicator': {'id': 'IC.REG.COST.PC.ZS', 'value': 'Cost of business start-up procedures (% of GNI per capita)'}, 'country': {'id': 'AE', 'value': 'United Arab Emirates'}, 'countryiso3code': 'ARE', 'date': '2014', 'value': 11.3, 'unit': '', 'obs_status': '', 'decimal': 1}, {'indicator': {'id': 'IC.REG.COST.PC.ZS', 'value': 'Cost of business start-up procedures (% of GNI per capita)'}, 'country': {'id': 'AE', 'value': 'United Arab Emirates'}, 'countryiso3code': 'ARE', 'date': '2013', 'value': 11.4, 'unit': '', 'obs_status': '', 'decimal': 1}, {'indicator': {'id': 'IC.REG.COST.PC.ZS', 'value': 'Cost of business start-up procedures (% of GNI per capita)'}, 'country': {'id': 'AE', 'value': 'United Arab Emirates'}, 'countryiso3code': 'ARE', 'date': '2012', 'value': 11, 'unit': '', 'obs_status': '', 'decimal': 1}, {'indicator': {'id': 'IC.REG.COST.PC.ZS', 'value': 'Cost of business start-up procedures (% of GNI per capita)'}, 'country': {'id': 'AE', 'value': 'United Arab Emirates'}, 'countryiso3code': 'ARE', 'date': '2011', 'value': 13.4, 'unit': '', 'obs_status': '', 'decimal': 1}, {'indicator': {'id': 'IC.REG.COST.PC.ZS', 'value': 'Cost of business start-up procedures (% of GNI per capita)'}, 'country': {'id': 'AE', 'value': 'United Arab Emirates'}, 'countryiso3code': 'ARE', 'date': '2010', 'value': 12.6, 'unit': '', 'obs_status': '', 'decimal': 1}, {'indicator': {'id': 'IC.REG.COST.PC.ZS', 'value': 'Cost of business start-up procedures (% of GNI per capita)'}, 'country': {'id': 'AE', 'value': 'United Arab Emirates'}, 'countryiso3code': 'ARE', 'date': '2009', 'value': 11.1, 'unit': '', 'obs_status': '', 'decimal': 1}, {'indicator': {'id': 'IC.REG.COST.PC.ZS', 'value': 'Cost of business start-up procedures (% of GNI per capita)'}, 'country': {'id': 'AE', 'value': 'United Arab Emirates'}, 'countryiso3code': 'ARE', 'date': '2008', 'value': 11.6, 'unit': '', 'obs_status': '', 'decimal': 1}, {'indicator': {'id': 'IC.REG.COST.PC.ZS', 'value': 'Cost of business start-up procedures (% of GNI per capita)'}, 'country': {'id': 'AE', 'value': 'United Arab Emirates'}, 'countryiso3code': 'ARE', 'date': '2007', 'value': 13.9, 'unit': '', 'obs_status': '', 'decimal': 1}, {'indicator': {'id': 'IC.REG.COST.PC.ZS', 'value': 'Cost of business start-up procedures (% of GNI per capita)'}, 'country': {'id': 'AE', 'value': 'United Arab Emirates'}, 'countryiso3code': 'ARE', 'date': '2006', 'value': 13, 'unit': '', 'obs_status': '', 'decimal': 1}, {'indicator': {'id': 'IC.REG.COST.PC.ZS', 'value': 'Cost of business start-up procedures (% of GNI per capita)'}, 'country': {'id': 'AE', 'value': 'United Arab Emirates'}, 'countryiso3code': 'ARE', 'date': '2005', 'value': 15.8, 'unit': '', 'obs_status': '', 'decimal': 1}, {'indicator': {'id': 'IC.REG.COST.PC.ZS', 'value': 'Cost of business start-up procedures (% of GNI per capita)'}, 'country': {'id': 'AE', 'value': 'United Arab Emirates'}, 'countryiso3code': 'ARE', 'date': '2004', 'value': 17.5, 'unit': '', 'obs_status': '', 'decimal': 1}, {'indicator': {'id': 'IC.REG.COST.PC.ZS', 'value': 'Cost of business start-up procedures (% of GNI per capita)'}, 'country': {'id': 'AE', 'value': 'United Arab Emirates'}, 'countryiso3code': 'ARE', 'date': '2003', 'value': 18.7, 'unit': '', 'obs_status': '', 'decimal': 1}, {'indicator': {'id': 'IC.REG.COST.PC.ZS', 'value': 'Cost of business start-up procedures (% of GNI per capita)'}, 'country': {'id': 'AE', 'value': 'United Arab Emirates'}, 'countryiso3code': 'ARE', 'date': '2002', 'value': None, 'unit': '', 'obs_status': '', 'decimal': 1}, {'indicator': {'id': 'IC.REG.COST.PC.ZS', 'value': 'Cost of business start-up procedures (% of GNI per capita)'}, 'country': {'id': 'AE', 'value': 'United Arab Emirates'}, 'countryiso3code': 'ARE', 'date': '2001', 'value': None, 'unit': '', 'obs_status': '', 'decimal': 1}, {'indicator': {'id': 'IC.REG.COST.PC.ZS', 'value': 'Cost of business start-up procedures (% of GNI per capita)'}, 'country': {'id': 'AE', 'value': 'United Arab Emirates'}, 'countryiso3code': 'ARE', 'date': '2000', 'value': None, 'unit': '', 'obs_status': '', 'decimal': 1}, {'indicator': {'id': 'IC.REG.COST.PC.ZS', 'value': 'Cost of business start-up procedures (% of GNI per capita)'}, 'country': {'id': 'AE', 'value': 'United Arab Emirates'}, 'countryiso3code': 'ARE', 'date': '1999', 'value': None, 'unit': '', 'obs_status': '', 'decimal': 1}, {'indicator': {'id': 'IC.REG.COST.PC.ZS', 'value': 'Cost of business start-up procedures (% of GNI per capita)'}, 'country': {'id': 'AE', 'value': 'United Arab Emirates'}, 'countryiso3code': 'ARE', 'date': '1998', 'value': None, 'unit': '', 'obs_status': '', 'decimal': 1}, {'indicator': {'id': 'IC.REG.COST.PC.ZS', 'value': 'Cost of business start-up procedures (% of GNI per capita)'}, 'country': {'id': 'AE', 'value': 'United Arab Emirates'}, 'countryiso3code': 'ARE', 'date': '1997', 'value': None, 'unit': '', 'obs_status': '', 'decimal': 1}, {'indicator': {'id': 'IC.REG.COST.PC.ZS', 'value': 'Cost of business start-up procedures (% of GNI per capita)'}, 'country': {'id': 'AE', 'value': 'United Arab Emirates'}, 'countryiso3code': 'ARE', 'date': '1996', 'value': None, 'unit': '', 'obs_status': '', 'decimal': 1}, {'indicator': {'id': 'IC.REG.COST.PC.ZS', 'value': 'Cost of business start-up procedures (% of GNI per capita)'}, 'country': {'id': 'AE', 'value': 'United Arab Emirates'}, 'countryiso3code': 'ARE', 'date': '1995', 'value': None, 'unit': '', 'obs_status': '', 'decimal': 1}, {'indicator': {'id': 'IC.REG.COST.PC.ZS', 'value': 'Cost of business start-up procedures (% of GNI per capita)'}, 'country': {'id': 'AE', 'value': 'United Arab Emirates'}, 'countryiso3code': 'ARE', 'date': '1994', 'value': None, 'unit': '', 'obs_status': '', 'decimal': 1}, {'indicator': {'id': 'IC.REG.COST.PC.ZS', 'value': 'Cost of business start-up procedures (% of GNI per capita)'}, 'country': {'id': 'AE', 'value': 'United Arab Emirates'}, 'countryiso3code': 'ARE', 'date': '1993', 'value': None, 'unit': '', 'obs_status': '', 'decimal': 1}, {'indicator': {'id': 'IC.REG.COST.PC.ZS', 'value': 'Cost of business start-up procedures (% of GNI per capita)'}, 'country': {'id': 'AE', 'value': 'United Arab Emirates'}, 'countryiso3code': 'ARE', 'date': '1992', 'value': None, 'unit': '', 'obs_status': '', 'decimal': 1}, {'indicator': {'id': 'IC.REG.COST.PC.ZS', 'value': 'Cost of business start-up procedures (% of GNI per capita)'}, 'country': {'id': 'AE', 'value': 'United Arab Emirates'}, 'countryiso3code': 'ARE', 'date': '1991', 'value': None, 'unit': '', 'obs_status': '', 'decimal': 1}, {'indicator': {'id': 'IC.REG.COST.PC.ZS', 'value': 'Cost of business start-up procedures (% of GNI per capita)'}, 'country': {'id': 'AE', 'value': 'United Arab Emirates'}, 'countryiso3code': 'ARE', 'date': '1990', 'value': None, 'unit': '', 'obs_status': '', 'decimal': 1}, {'indicator': {'id': 'IC.REG.COST.PC.ZS', 'value': 'Cost of business start-up procedures (% of GNI per capita)'}, 'country': {'id': 'AE', 'value': 'United Arab Emirates'}, 'countryiso3code': 'ARE', 'date': '1989', 'value': None, 'unit': '', 'obs_status': '', 'decimal': 1}, {'indicator': {'id': 'IC.REG.COST.PC.ZS', 'value': 'Cost of business start-up procedures (% of GNI per capita)'}, 'country': {'id': 'AE', 'value': 'United Arab Emirates'}, 'countryiso3code': 'ARE', 'date': '1988', 'value': None, 'unit': '', 'obs_status': '', 'decimal': 1}, {'indicator': {'id': 'IC.REG.COST.PC.ZS', 'value': 'Cost of business start-up procedures (% of GNI per capita)'}, 'country': {'id': 'AE', 'value': 'United Arab Emirates'}, 'countryiso3code': 'ARE', 'date': '1987', 'value': None, 'unit': '', 'obs_status': '', 'decimal': 1}, {'indicator': {'id': 'IC.REG.COST.PC.ZS', 'value': 'Cost of business start-up procedures (% of GNI per capita)'}, 'country': {'id': 'AE', 'value': 'United Arab Emirates'}, 'countryiso3code': 'ARE', 'date': '1986', 'value': None, 'unit': '', 'obs_status': '', 'decimal': 1}, {'indicator': {'id': 'IC.REG.COST.PC.ZS', 'value': 'Cost of business start-up procedures (% of GNI per capita)'}, 'country': {'id': 'AE', 'value': 'United Arab Emirates'}, 'countryiso3code': 'ARE', 'date': '1985', 'value': None, 'unit': '', 'obs_status': '', 'decimal': 1}, {'indicator': {'id': 'IC.REG.COST.PC.ZS', 'value': 'Cost of business start-up procedures (% of GNI per capita)'}, 'country': {'id': 'AE', 'value': 'United Arab Emirates'}, 'countryiso3code': 'ARE', 'date': '1984', 'value': None, 'unit': '', 'obs_status': '', 'decimal': 1}, {'indicator': {'id': 'IC.REG.COST.PC.ZS', 'value': 'Cost of business start-up procedures (% of GNI per capita)'}, 'country': {'id': 'AE', 'value': 'United Arab Emirates'}, 'countryiso3code': 'ARE', 'date': '1983', 'value': None, 'unit': '', 'obs_status': '', 'decimal': 1}, {'indicator': {'id': 'IC.REG.COST.PC.ZS', 'value': 'Cost of business start-up procedures (% of GNI per capita)'}, 'country': {'id': 'AE', 'value': 'United Arab Emirates'}, 'countryiso3code': 'ARE', 'date': '1982', 'value': None, 'unit': '', 'obs_status': '', 'decimal': 1}, {'indicator': {'id': 'IC.REG.COST.PC.ZS', 'value': 'Cost of business start-up procedures (% of GNI per capita)'}, 'country': {'id': 'AE', 'value': 'United Arab Emirates'}, 'countryiso3code': 'ARE', 'date': '1981', 'value': None, 'unit': '', 'obs_status': '', 'decimal': 1}, {'indicator': {'id': 'IC.REG.COST.PC.ZS', 'value': 'Cost of business start-up procedures (% of GNI per capita)'}, 'country': {'id': 'AE', 'value': 'United Arab Emirates'}, 'countryiso3code': 'ARE', 'date': '1980', 'value': None, 'unit': '', 'obs_status': '', 'decimal': 1}, {'indicator': {'id': 'IC.REG.COST.PC.ZS', 'value': 'Cost of business start-up procedures (% of GNI per capita)'}, 'country': {'id': 'AE', 'value': 'United Arab Emirates'}, 'countryiso3code': 'ARE', 'date': '1979', 'value': None, 'unit': '', 'obs_status': '', 'decimal': 1}, {'indicator': {'id': 'IC.REG.COST.PC.ZS', 'value': 'Cost of business start-up procedures (% of GNI per capita)'}, 'country': {'id': 'AE', 'value': 'United Arab Emirates'}, 'countryiso3code': 'ARE', 'date': '1978', 'value': None, 'unit': '', 'obs_status': '', 'decimal': 1}, {'indicator': {'id': 'IC.REG.COST.PC.ZS', 'value': 'Cost of business start-up procedures (% of GNI per capita)'}, 'country': {'id': 'AE', 'value': 'United Arab Emirates'}, 'countryiso3code': 'ARE', 'date': '1977', 'value': None, 'unit': '', 'obs_status': '', 'decimal': 1}, {'indicator': {'id': 'IC.REG.COST.PC.ZS', 'value': 'Cost of business start-up procedures (% of GNI per capita)'}, 'country': {'id': 'AE', 'value': 'United Arab Emirates'}, 'countryiso3code': 'ARE', 'date': '1976', 'value': None, 'unit': '', 'obs_status': '', 'decimal': 1}, {'indicator': {'id': 'IC.REG.COST.PC.ZS', 'value': 'Cost of business start-up procedures (% of GNI per capita)'}, 'country': {'id': 'AE', 'value': 'United Arab Emirates'}, 'countryiso3code': 'ARE', 'date': '1975', 'value': None, 'unit': '', 'obs_status': '', 'decimal': 1}, {'indicator': {'id': 'IC.REG.COST.PC.ZS', 'value': 'Cost of business start-up procedures (% of GNI per capita)'}, 'country': {'id': 'AE', 'value': 'United Arab Emirates'}, 'countryiso3code': 'ARE', 'date': '1974', 'value': None, 'unit': '', 'obs_status': '', 'decimal': 1}, {'indicator': {'id': 'IC.REG.COST.PC.ZS', 'value': 'Cost of business start-up procedures (% of GNI per capita)'}, 'country': {'id': 'AE', 'value': 'United Arab Emirates'}, 'countryiso3code': 'ARE', 'date': '1973', 'value': None, 'unit': '', 'obs_status': '', 'decimal': 1}, {'indicator': {'id': 'IC.REG.COST.PC.ZS', 'value': 'Cost of business start-up procedures (% of GNI per capita)'}, 'country': {'id': 'AE', 'value': 'United Arab Emirates'}, 'countryiso3code': 'ARE', 'date': '1972', 'value': None, 'unit': '', 'obs_status': '', 'decimal': 1}, {'indicator': {'id': 'IC.REG.COST.PC.ZS', 'value': 'Cost of business start-up procedures (% of GNI per capita)'}, 'country': {'id': 'AE', 'value': 'United Arab Emirates'}, 'countryiso3code': 'ARE', 'date': '1971', 'value': None, 'unit': '', 'obs_status': '', 'decimal': 1}]]\n",
            "WB_data_cost_ARE.json\n"
          ]
        },
        {
          "output_type": "display_data",
          "data": {
            "application/javascript": [
              "\n",
              "    async function download(id, filename, size) {\n",
              "      if (!google.colab.kernel.accessAllowed) {\n",
              "        return;\n",
              "      }\n",
              "      const div = document.createElement('div');\n",
              "      const label = document.createElement('label');\n",
              "      label.textContent = `Downloading \"${filename}\": `;\n",
              "      div.appendChild(label);\n",
              "      const progress = document.createElement('progress');\n",
              "      progress.max = size;\n",
              "      div.appendChild(progress);\n",
              "      document.body.appendChild(div);\n",
              "\n",
              "      const buffers = [];\n",
              "      let downloaded = 0;\n",
              "\n",
              "      const channel = await google.colab.kernel.comms.open(id);\n",
              "      // Send a message to notify the kernel that we're ready.\n",
              "      channel.send({})\n",
              "\n",
              "      for await (const message of channel.messages) {\n",
              "        // Send a message to notify the kernel that we're ready.\n",
              "        channel.send({})\n",
              "        if (message.buffers) {\n",
              "          for (const buffer of message.buffers) {\n",
              "            buffers.push(buffer);\n",
              "            downloaded += buffer.byteLength;\n",
              "            progress.value = downloaded;\n",
              "          }\n",
              "        }\n",
              "      }\n",
              "      const blob = new Blob(buffers, {type: 'application/binary'});\n",
              "      const a = document.createElement('a');\n",
              "      a.href = window.URL.createObjectURL(blob);\n",
              "      a.download = filename;\n",
              "      div.appendChild(a);\n",
              "      a.click();\n",
              "      div.remove();\n",
              "    }\n",
              "  "
            ],
            "text/plain": [
              "<IPython.core.display.Javascript object>"
            ]
          },
          "metadata": {}
        },
        {
          "output_type": "display_data",
          "data": {
            "application/javascript": [
              "download(\"download_a9b8132b-8d21-42b5-8663-42e2d6f37c18\", \"WB_data_cost_ARE.json\", 24220)"
            ],
            "text/plain": [
              "<IPython.core.display.Javascript object>"
            ]
          },
          "metadata": {}
        },
        {
          "output_type": "stream",
          "name": "stdout",
          "text": [
            "IRN\n",
            "http://api.worldbank.org/v2/country/IRN/indicator/IC.REG.COST.PC.ZS?format=json\n",
            "[{'page': 1, 'pages': 2, 'per_page': 50, 'total': 61, 'sourceid': '2', 'sourcename': 'World Development Indicators', 'lastupdated': '2021-10-28'}, [{'indicator': {'id': 'IC.REG.COST.PC.ZS', 'value': 'Cost of business start-up procedures (% of GNI per capita)'}, 'country': {'id': 'IR', 'value': 'Iran, Islamic Rep.'}, 'countryiso3code': 'IRN', 'date': '2020', 'value': None, 'unit': '', 'obs_status': '', 'decimal': 1}, {'indicator': {'id': 'IC.REG.COST.PC.ZS', 'value': 'Cost of business start-up procedures (% of GNI per capita)'}, 'country': {'id': 'IR', 'value': 'Iran, Islamic Rep.'}, 'countryiso3code': 'IRN', 'date': '2019', 'value': 1.1, 'unit': '', 'obs_status': '', 'decimal': 1}, {'indicator': {'id': 'IC.REG.COST.PC.ZS', 'value': 'Cost of business start-up procedures (% of GNI per capita)'}, 'country': {'id': 'IR', 'value': 'Iran, Islamic Rep.'}, 'countryiso3code': 'IRN', 'date': '2018', 'value': 1.2, 'unit': '', 'obs_status': '', 'decimal': 1}, {'indicator': {'id': 'IC.REG.COST.PC.ZS', 'value': 'Cost of business start-up procedures (% of GNI per capita)'}, 'country': {'id': 'IR', 'value': 'Iran, Islamic Rep.'}, 'countryiso3code': 'IRN', 'date': '2017', 'value': 1.4, 'unit': '', 'obs_status': '', 'decimal': 1}, {'indicator': {'id': 'IC.REG.COST.PC.ZS', 'value': 'Cost of business start-up procedures (% of GNI per capita)'}, 'country': {'id': 'IR', 'value': 'Iran, Islamic Rep.'}, 'countryiso3code': 'IRN', 'date': '2016', 'value': 1.2, 'unit': '', 'obs_status': '', 'decimal': 1}, {'indicator': {'id': 'IC.REG.COST.PC.ZS', 'value': 'Cost of business start-up procedures (% of GNI per capita)'}, 'country': {'id': 'IR', 'value': 'Iran, Islamic Rep.'}, 'countryiso3code': 'IRN', 'date': '2015', 'value': 2.8, 'unit': '', 'obs_status': '', 'decimal': 1}, {'indicator': {'id': 'IC.REG.COST.PC.ZS', 'value': 'Cost of business start-up procedures (% of GNI per capita)'}, 'country': {'id': 'IR', 'value': 'Iran, Islamic Rep.'}, 'countryiso3code': 'IRN', 'date': '2014', 'value': 3.2, 'unit': '', 'obs_status': '', 'decimal': 1}, {'indicator': {'id': 'IC.REG.COST.PC.ZS', 'value': 'Cost of business start-up procedures (% of GNI per capita)'}, 'country': {'id': 'IR', 'value': 'Iran, Islamic Rep.'}, 'countryiso3code': 'IRN', 'date': '2013', 'value': 3.3, 'unit': '', 'obs_status': '', 'decimal': 1}, {'indicator': {'id': 'IC.REG.COST.PC.ZS', 'value': 'Cost of business start-up procedures (% of GNI per capita)'}, 'country': {'id': 'IR', 'value': 'Iran, Islamic Rep.'}, 'countryiso3code': 'IRN', 'date': '2012', 'value': 3.4, 'unit': '', 'obs_status': '', 'decimal': 1}, {'indicator': {'id': 'IC.REG.COST.PC.ZS', 'value': 'Cost of business start-up procedures (% of GNI per capita)'}, 'country': {'id': 'IR', 'value': 'Iran, Islamic Rep.'}, 'countryiso3code': 'IRN', 'date': '2011', 'value': 3.9, 'unit': '', 'obs_status': '', 'decimal': 1}, {'indicator': {'id': 'IC.REG.COST.PC.ZS', 'value': 'Cost of business start-up procedures (% of GNI per capita)'}, 'country': {'id': 'IR', 'value': 'Iran, Islamic Rep.'}, 'countryiso3code': 'IRN', 'date': '2010', 'value': 4.2, 'unit': '', 'obs_status': '', 'decimal': 1}, {'indicator': {'id': 'IC.REG.COST.PC.ZS', 'value': 'Cost of business start-up procedures (% of GNI per capita)'}, 'country': {'id': 'IR', 'value': 'Iran, Islamic Rep.'}, 'countryiso3code': 'IRN', 'date': '2009', 'value': 3.9, 'unit': '', 'obs_status': '', 'decimal': 1}, {'indicator': {'id': 'IC.REG.COST.PC.ZS', 'value': 'Cost of business start-up procedures (% of GNI per capita)'}, 'country': {'id': 'IR', 'value': 'Iran, Islamic Rep.'}, 'countryiso3code': 'IRN', 'date': '2008', 'value': 4.6, 'unit': '', 'obs_status': '', 'decimal': 1}, {'indicator': {'id': 'IC.REG.COST.PC.ZS', 'value': 'Cost of business start-up procedures (% of GNI per capita)'}, 'country': {'id': 'IR', 'value': 'Iran, Islamic Rep.'}, 'countryiso3code': 'IRN', 'date': '2007', 'value': 5.3, 'unit': '', 'obs_status': '', 'decimal': 1}, {'indicator': {'id': 'IC.REG.COST.PC.ZS', 'value': 'Cost of business start-up procedures (% of GNI per capita)'}, 'country': {'id': 'IR', 'value': 'Iran, Islamic Rep.'}, 'countryiso3code': 'IRN', 'date': '2006', 'value': 5.4, 'unit': '', 'obs_status': '', 'decimal': 1}, {'indicator': {'id': 'IC.REG.COST.PC.ZS', 'value': 'Cost of business start-up procedures (% of GNI per capita)'}, 'country': {'id': 'IR', 'value': 'Iran, Islamic Rep.'}, 'countryiso3code': 'IRN', 'date': '2005', 'value': 6.3, 'unit': '', 'obs_status': '', 'decimal': 1}, {'indicator': {'id': 'IC.REG.COST.PC.ZS', 'value': 'Cost of business start-up procedures (% of GNI per capita)'}, 'country': {'id': 'IR', 'value': 'Iran, Islamic Rep.'}, 'countryiso3code': 'IRN', 'date': '2004', 'value': 7.3, 'unit': '', 'obs_status': '', 'decimal': 1}, {'indicator': {'id': 'IC.REG.COST.PC.ZS', 'value': 'Cost of business start-up procedures (% of GNI per capita)'}, 'country': {'id': 'IR', 'value': 'Iran, Islamic Rep.'}, 'countryiso3code': 'IRN', 'date': '2003', 'value': 6.5, 'unit': '', 'obs_status': '', 'decimal': 1}, {'indicator': {'id': 'IC.REG.COST.PC.ZS', 'value': 'Cost of business start-up procedures (% of GNI per capita)'}, 'country': {'id': 'IR', 'value': 'Iran, Islamic Rep.'}, 'countryiso3code': 'IRN', 'date': '2002', 'value': None, 'unit': '', 'obs_status': '', 'decimal': 1}, {'indicator': {'id': 'IC.REG.COST.PC.ZS', 'value': 'Cost of business start-up procedures (% of GNI per capita)'}, 'country': {'id': 'IR', 'value': 'Iran, Islamic Rep.'}, 'countryiso3code': 'IRN', 'date': '2001', 'value': None, 'unit': '', 'obs_status': '', 'decimal': 1}, {'indicator': {'id': 'IC.REG.COST.PC.ZS', 'value': 'Cost of business start-up procedures (% of GNI per capita)'}, 'country': {'id': 'IR', 'value': 'Iran, Islamic Rep.'}, 'countryiso3code': 'IRN', 'date': '2000', 'value': None, 'unit': '', 'obs_status': '', 'decimal': 1}, {'indicator': {'id': 'IC.REG.COST.PC.ZS', 'value': 'Cost of business start-up procedures (% of GNI per capita)'}, 'country': {'id': 'IR', 'value': 'Iran, Islamic Rep.'}, 'countryiso3code': 'IRN', 'date': '1999', 'value': None, 'unit': '', 'obs_status': '', 'decimal': 1}, {'indicator': {'id': 'IC.REG.COST.PC.ZS', 'value': 'Cost of business start-up procedures (% of GNI per capita)'}, 'country': {'id': 'IR', 'value': 'Iran, Islamic Rep.'}, 'countryiso3code': 'IRN', 'date': '1998', 'value': None, 'unit': '', 'obs_status': '', 'decimal': 1}, {'indicator': {'id': 'IC.REG.COST.PC.ZS', 'value': 'Cost of business start-up procedures (% of GNI per capita)'}, 'country': {'id': 'IR', 'value': 'Iran, Islamic Rep.'}, 'countryiso3code': 'IRN', 'date': '1997', 'value': None, 'unit': '', 'obs_status': '', 'decimal': 1}, {'indicator': {'id': 'IC.REG.COST.PC.ZS', 'value': 'Cost of business start-up procedures (% of GNI per capita)'}, 'country': {'id': 'IR', 'value': 'Iran, Islamic Rep.'}, 'countryiso3code': 'IRN', 'date': '1996', 'value': None, 'unit': '', 'obs_status': '', 'decimal': 1}, {'indicator': {'id': 'IC.REG.COST.PC.ZS', 'value': 'Cost of business start-up procedures (% of GNI per capita)'}, 'country': {'id': 'IR', 'value': 'Iran, Islamic Rep.'}, 'countryiso3code': 'IRN', 'date': '1995', 'value': None, 'unit': '', 'obs_status': '', 'decimal': 1}, {'indicator': {'id': 'IC.REG.COST.PC.ZS', 'value': 'Cost of business start-up procedures (% of GNI per capita)'}, 'country': {'id': 'IR', 'value': 'Iran, Islamic Rep.'}, 'countryiso3code': 'IRN', 'date': '1994', 'value': None, 'unit': '', 'obs_status': '', 'decimal': 1}, {'indicator': {'id': 'IC.REG.COST.PC.ZS', 'value': 'Cost of business start-up procedures (% of GNI per capita)'}, 'country': {'id': 'IR', 'value': 'Iran, Islamic Rep.'}, 'countryiso3code': 'IRN', 'date': '1993', 'value': None, 'unit': '', 'obs_status': '', 'decimal': 1}, {'indicator': {'id': 'IC.REG.COST.PC.ZS', 'value': 'Cost of business start-up procedures (% of GNI per capita)'}, 'country': {'id': 'IR', 'value': 'Iran, Islamic Rep.'}, 'countryiso3code': 'IRN', 'date': '1992', 'value': None, 'unit': '', 'obs_status': '', 'decimal': 1}, {'indicator': {'id': 'IC.REG.COST.PC.ZS', 'value': 'Cost of business start-up procedures (% of GNI per capita)'}, 'country': {'id': 'IR', 'value': 'Iran, Islamic Rep.'}, 'countryiso3code': 'IRN', 'date': '1991', 'value': None, 'unit': '', 'obs_status': '', 'decimal': 1}, {'indicator': {'id': 'IC.REG.COST.PC.ZS', 'value': 'Cost of business start-up procedures (% of GNI per capita)'}, 'country': {'id': 'IR', 'value': 'Iran, Islamic Rep.'}, 'countryiso3code': 'IRN', 'date': '1990', 'value': None, 'unit': '', 'obs_status': '', 'decimal': 1}, {'indicator': {'id': 'IC.REG.COST.PC.ZS', 'value': 'Cost of business start-up procedures (% of GNI per capita)'}, 'country': {'id': 'IR', 'value': 'Iran, Islamic Rep.'}, 'countryiso3code': 'IRN', 'date': '1989', 'value': None, 'unit': '', 'obs_status': '', 'decimal': 1}, {'indicator': {'id': 'IC.REG.COST.PC.ZS', 'value': 'Cost of business start-up procedures (% of GNI per capita)'}, 'country': {'id': 'IR', 'value': 'Iran, Islamic Rep.'}, 'countryiso3code': 'IRN', 'date': '1988', 'value': None, 'unit': '', 'obs_status': '', 'decimal': 1}, {'indicator': {'id': 'IC.REG.COST.PC.ZS', 'value': 'Cost of business start-up procedures (% of GNI per capita)'}, 'country': {'id': 'IR', 'value': 'Iran, Islamic Rep.'}, 'countryiso3code': 'IRN', 'date': '1987', 'value': None, 'unit': '', 'obs_status': '', 'decimal': 1}, {'indicator': {'id': 'IC.REG.COST.PC.ZS', 'value': 'Cost of business start-up procedures (% of GNI per capita)'}, 'country': {'id': 'IR', 'value': 'Iran, Islamic Rep.'}, 'countryiso3code': 'IRN', 'date': '1986', 'value': None, 'unit': '', 'obs_status': '', 'decimal': 1}, {'indicator': {'id': 'IC.REG.COST.PC.ZS', 'value': 'Cost of business start-up procedures (% of GNI per capita)'}, 'country': {'id': 'IR', 'value': 'Iran, Islamic Rep.'}, 'countryiso3code': 'IRN', 'date': '1985', 'value': None, 'unit': '', 'obs_status': '', 'decimal': 1}, {'indicator': {'id': 'IC.REG.COST.PC.ZS', 'value': 'Cost of business start-up procedures (% of GNI per capita)'}, 'country': {'id': 'IR', 'value': 'Iran, Islamic Rep.'}, 'countryiso3code': 'IRN', 'date': '1984', 'value': None, 'unit': '', 'obs_status': '', 'decimal': 1}, {'indicator': {'id': 'IC.REG.COST.PC.ZS', 'value': 'Cost of business start-up procedures (% of GNI per capita)'}, 'country': {'id': 'IR', 'value': 'Iran, Islamic Rep.'}, 'countryiso3code': 'IRN', 'date': '1983', 'value': None, 'unit': '', 'obs_status': '', 'decimal': 1}, {'indicator': {'id': 'IC.REG.COST.PC.ZS', 'value': 'Cost of business start-up procedures (% of GNI per capita)'}, 'country': {'id': 'IR', 'value': 'Iran, Islamic Rep.'}, 'countryiso3code': 'IRN', 'date': '1982', 'value': None, 'unit': '', 'obs_status': '', 'decimal': 1}, {'indicator': {'id': 'IC.REG.COST.PC.ZS', 'value': 'Cost of business start-up procedures (% of GNI per capita)'}, 'country': {'id': 'IR', 'value': 'Iran, Islamic Rep.'}, 'countryiso3code': 'IRN', 'date': '1981', 'value': None, 'unit': '', 'obs_status': '', 'decimal': 1}, {'indicator': {'id': 'IC.REG.COST.PC.ZS', 'value': 'Cost of business start-up procedures (% of GNI per capita)'}, 'country': {'id': 'IR', 'value': 'Iran, Islamic Rep.'}, 'countryiso3code': 'IRN', 'date': '1980', 'value': None, 'unit': '', 'obs_status': '', 'decimal': 1}, {'indicator': {'id': 'IC.REG.COST.PC.ZS', 'value': 'Cost of business start-up procedures (% of GNI per capita)'}, 'country': {'id': 'IR', 'value': 'Iran, Islamic Rep.'}, 'countryiso3code': 'IRN', 'date': '1979', 'value': None, 'unit': '', 'obs_status': '', 'decimal': 1}, {'indicator': {'id': 'IC.REG.COST.PC.ZS', 'value': 'Cost of business start-up procedures (% of GNI per capita)'}, 'country': {'id': 'IR', 'value': 'Iran, Islamic Rep.'}, 'countryiso3code': 'IRN', 'date': '1978', 'value': None, 'unit': '', 'obs_status': '', 'decimal': 1}, {'indicator': {'id': 'IC.REG.COST.PC.ZS', 'value': 'Cost of business start-up procedures (% of GNI per capita)'}, 'country': {'id': 'IR', 'value': 'Iran, Islamic Rep.'}, 'countryiso3code': 'IRN', 'date': '1977', 'value': None, 'unit': '', 'obs_status': '', 'decimal': 1}, {'indicator': {'id': 'IC.REG.COST.PC.ZS', 'value': 'Cost of business start-up procedures (% of GNI per capita)'}, 'country': {'id': 'IR', 'value': 'Iran, Islamic Rep.'}, 'countryiso3code': 'IRN', 'date': '1976', 'value': None, 'unit': '', 'obs_status': '', 'decimal': 1}, {'indicator': {'id': 'IC.REG.COST.PC.ZS', 'value': 'Cost of business start-up procedures (% of GNI per capita)'}, 'country': {'id': 'IR', 'value': 'Iran, Islamic Rep.'}, 'countryiso3code': 'IRN', 'date': '1975', 'value': None, 'unit': '', 'obs_status': '', 'decimal': 1}, {'indicator': {'id': 'IC.REG.COST.PC.ZS', 'value': 'Cost of business start-up procedures (% of GNI per capita)'}, 'country': {'id': 'IR', 'value': 'Iran, Islamic Rep.'}, 'countryiso3code': 'IRN', 'date': '1974', 'value': None, 'unit': '', 'obs_status': '', 'decimal': 1}, {'indicator': {'id': 'IC.REG.COST.PC.ZS', 'value': 'Cost of business start-up procedures (% of GNI per capita)'}, 'country': {'id': 'IR', 'value': 'Iran, Islamic Rep.'}, 'countryiso3code': 'IRN', 'date': '1973', 'value': None, 'unit': '', 'obs_status': '', 'decimal': 1}, {'indicator': {'id': 'IC.REG.COST.PC.ZS', 'value': 'Cost of business start-up procedures (% of GNI per capita)'}, 'country': {'id': 'IR', 'value': 'Iran, Islamic Rep.'}, 'countryiso3code': 'IRN', 'date': '1972', 'value': None, 'unit': '', 'obs_status': '', 'decimal': 1}, {'indicator': {'id': 'IC.REG.COST.PC.ZS', 'value': 'Cost of business start-up procedures (% of GNI per capita)'}, 'country': {'id': 'IR', 'value': 'Iran, Islamic Rep.'}, 'countryiso3code': 'IRN', 'date': '1971', 'value': None, 'unit': '', 'obs_status': '', 'decimal': 1}]]\n",
            "WB_data_cost_IRN.json\n"
          ]
        },
        {
          "output_type": "display_data",
          "data": {
            "application/javascript": [
              "\n",
              "    async function download(id, filename, size) {\n",
              "      if (!google.colab.kernel.accessAllowed) {\n",
              "        return;\n",
              "      }\n",
              "      const div = document.createElement('div');\n",
              "      const label = document.createElement('label');\n",
              "      label.textContent = `Downloading \"${filename}\": `;\n",
              "      div.appendChild(label);\n",
              "      const progress = document.createElement('progress');\n",
              "      progress.max = size;\n",
              "      div.appendChild(progress);\n",
              "      document.body.appendChild(div);\n",
              "\n",
              "      const buffers = [];\n",
              "      let downloaded = 0;\n",
              "\n",
              "      const channel = await google.colab.kernel.comms.open(id);\n",
              "      // Send a message to notify the kernel that we're ready.\n",
              "      channel.send({})\n",
              "\n",
              "      for await (const message of channel.messages) {\n",
              "        // Send a message to notify the kernel that we're ready.\n",
              "        channel.send({})\n",
              "        if (message.buffers) {\n",
              "          for (const buffer of message.buffers) {\n",
              "            buffers.push(buffer);\n",
              "            downloaded += buffer.byteLength;\n",
              "            progress.value = downloaded;\n",
              "          }\n",
              "        }\n",
              "      }\n",
              "      const blob = new Blob(buffers, {type: 'application/binary'});\n",
              "      const a = document.createElement('a');\n",
              "      a.href = window.URL.createObjectURL(blob);\n",
              "      a.download = filename;\n",
              "      div.appendChild(a);\n",
              "      a.click();\n",
              "      div.remove();\n",
              "    }\n",
              "  "
            ],
            "text/plain": [
              "<IPython.core.display.Javascript object>"
            ]
          },
          "metadata": {}
        },
        {
          "output_type": "display_data",
          "data": {
            "application/javascript": [
              "download(\"download_07d032b7-9db4-4b17-957e-1686a5db17da\", \"WB_data_cost_IRN.json\", 24109)"
            ],
            "text/plain": [
              "<IPython.core.display.Javascript object>"
            ]
          },
          "metadata": {}
        },
        {
          "output_type": "stream",
          "name": "stdout",
          "text": [
            "IND\n",
            "http://api.worldbank.org/v2/country/IND/indicator/IC.REG.COST.PC.ZS?format=json\n",
            "[{'page': 1, 'pages': 2, 'per_page': 50, 'total': 61, 'sourceid': '2', 'sourcename': 'World Development Indicators', 'lastupdated': '2021-10-28'}, [{'indicator': {'id': 'IC.REG.COST.PC.ZS', 'value': 'Cost of business start-up procedures (% of GNI per capita)'}, 'country': {'id': 'IN', 'value': 'India'}, 'countryiso3code': 'IND', 'date': '2020', 'value': None, 'unit': '', 'obs_status': '', 'decimal': 1}, {'indicator': {'id': 'IC.REG.COST.PC.ZS', 'value': 'Cost of business start-up procedures (% of GNI per capita)'}, 'country': {'id': 'IN', 'value': 'India'}, 'countryiso3code': 'IND', 'date': '2019', 'value': 7.2, 'unit': '', 'obs_status': '', 'decimal': 1}, {'indicator': {'id': 'IC.REG.COST.PC.ZS', 'value': 'Cost of business start-up procedures (% of GNI per capita)'}, 'country': {'id': 'IN', 'value': 'India'}, 'countryiso3code': 'IND', 'date': '2018', 'value': 14.4, 'unit': '', 'obs_status': '', 'decimal': 1}, {'indicator': {'id': 'IC.REG.COST.PC.ZS', 'value': 'Cost of business start-up procedures (% of GNI per capita)'}, 'country': {'id': 'IN', 'value': 'India'}, 'countryiso3code': 'IND', 'date': '2017', 'value': 15, 'unit': '', 'obs_status': '', 'decimal': 1}, {'indicator': {'id': 'IC.REG.COST.PC.ZS', 'value': 'Cost of business start-up procedures (% of GNI per capita)'}, 'country': {'id': 'IN', 'value': 'India'}, 'countryiso3code': 'IND', 'date': '2016', 'value': 14, 'unit': '', 'obs_status': '', 'decimal': 1}, {'indicator': {'id': 'IC.REG.COST.PC.ZS', 'value': 'Cost of business start-up procedures (% of GNI per capita)'}, 'country': {'id': 'IN', 'value': 'India'}, 'countryiso3code': 'IND', 'date': '2015', 'value': 14.5, 'unit': '', 'obs_status': '', 'decimal': 1}, {'indicator': {'id': 'IC.REG.COST.PC.ZS', 'value': 'Cost of business start-up procedures (% of GNI per capita)'}, 'country': {'id': 'IN', 'value': 'India'}, 'countryiso3code': 'IND', 'date': '2014', 'value': 16.4, 'unit': '', 'obs_status': '', 'decimal': 1}, {'indicator': {'id': 'IC.REG.COST.PC.ZS', 'value': 'Cost of business start-up procedures (% of GNI per capita)'}, 'country': {'id': 'IN', 'value': 'India'}, 'countryiso3code': 'IND', 'date': '2013', 'value': 41.5, 'unit': '', 'obs_status': '', 'decimal': 1}, {'indicator': {'id': 'IC.REG.COST.PC.ZS', 'value': 'Cost of business start-up procedures (% of GNI per capita)'}, 'country': {'id': 'IN', 'value': 'India'}, 'countryiso3code': 'IND', 'date': '2012', 'value': None, 'unit': '', 'obs_status': '', 'decimal': 1}, {'indicator': {'id': 'IC.REG.COST.PC.ZS', 'value': 'Cost of business start-up procedures (% of GNI per capita)'}, 'country': {'id': 'IN', 'value': 'India'}, 'countryiso3code': 'IND', 'date': '2011', 'value': None, 'unit': '', 'obs_status': '', 'decimal': 1}, {'indicator': {'id': 'IC.REG.COST.PC.ZS', 'value': 'Cost of business start-up procedures (% of GNI per capita)'}, 'country': {'id': 'IN', 'value': 'India'}, 'countryiso3code': 'IND', 'date': '2010', 'value': None, 'unit': '', 'obs_status': '', 'decimal': 1}, {'indicator': {'id': 'IC.REG.COST.PC.ZS', 'value': 'Cost of business start-up procedures (% of GNI per capita)'}, 'country': {'id': 'IN', 'value': 'India'}, 'countryiso3code': 'IND', 'date': '2009', 'value': None, 'unit': '', 'obs_status': '', 'decimal': 1}, {'indicator': {'id': 'IC.REG.COST.PC.ZS', 'value': 'Cost of business start-up procedures (% of GNI per capita)'}, 'country': {'id': 'IN', 'value': 'India'}, 'countryiso3code': 'IND', 'date': '2008', 'value': None, 'unit': '', 'obs_status': '', 'decimal': 1}, {'indicator': {'id': 'IC.REG.COST.PC.ZS', 'value': 'Cost of business start-up procedures (% of GNI per capita)'}, 'country': {'id': 'IN', 'value': 'India'}, 'countryiso3code': 'IND', 'date': '2007', 'value': None, 'unit': '', 'obs_status': '', 'decimal': 1}, {'indicator': {'id': 'IC.REG.COST.PC.ZS', 'value': 'Cost of business start-up procedures (% of GNI per capita)'}, 'country': {'id': 'IN', 'value': 'India'}, 'countryiso3code': 'IND', 'date': '2006', 'value': None, 'unit': '', 'obs_status': '', 'decimal': 1}, {'indicator': {'id': 'IC.REG.COST.PC.ZS', 'value': 'Cost of business start-up procedures (% of GNI per capita)'}, 'country': {'id': 'IN', 'value': 'India'}, 'countryiso3code': 'IND', 'date': '2005', 'value': None, 'unit': '', 'obs_status': '', 'decimal': 1}, {'indicator': {'id': 'IC.REG.COST.PC.ZS', 'value': 'Cost of business start-up procedures (% of GNI per capita)'}, 'country': {'id': 'IN', 'value': 'India'}, 'countryiso3code': 'IND', 'date': '2004', 'value': None, 'unit': '', 'obs_status': '', 'decimal': 1}, {'indicator': {'id': 'IC.REG.COST.PC.ZS', 'value': 'Cost of business start-up procedures (% of GNI per capita)'}, 'country': {'id': 'IN', 'value': 'India'}, 'countryiso3code': 'IND', 'date': '2003', 'value': None, 'unit': '', 'obs_status': '', 'decimal': 1}, {'indicator': {'id': 'IC.REG.COST.PC.ZS', 'value': 'Cost of business start-up procedures (% of GNI per capita)'}, 'country': {'id': 'IN', 'value': 'India'}, 'countryiso3code': 'IND', 'date': '2002', 'value': None, 'unit': '', 'obs_status': '', 'decimal': 1}, {'indicator': {'id': 'IC.REG.COST.PC.ZS', 'value': 'Cost of business start-up procedures (% of GNI per capita)'}, 'country': {'id': 'IN', 'value': 'India'}, 'countryiso3code': 'IND', 'date': '2001', 'value': None, 'unit': '', 'obs_status': '', 'decimal': 1}, {'indicator': {'id': 'IC.REG.COST.PC.ZS', 'value': 'Cost of business start-up procedures (% of GNI per capita)'}, 'country': {'id': 'IN', 'value': 'India'}, 'countryiso3code': 'IND', 'date': '2000', 'value': None, 'unit': '', 'obs_status': '', 'decimal': 1}, {'indicator': {'id': 'IC.REG.COST.PC.ZS', 'value': 'Cost of business start-up procedures (% of GNI per capita)'}, 'country': {'id': 'IN', 'value': 'India'}, 'countryiso3code': 'IND', 'date': '1999', 'value': None, 'unit': '', 'obs_status': '', 'decimal': 1}, {'indicator': {'id': 'IC.REG.COST.PC.ZS', 'value': 'Cost of business start-up procedures (% of GNI per capita)'}, 'country': {'id': 'IN', 'value': 'India'}, 'countryiso3code': 'IND', 'date': '1998', 'value': None, 'unit': '', 'obs_status': '', 'decimal': 1}, {'indicator': {'id': 'IC.REG.COST.PC.ZS', 'value': 'Cost of business start-up procedures (% of GNI per capita)'}, 'country': {'id': 'IN', 'value': 'India'}, 'countryiso3code': 'IND', 'date': '1997', 'value': None, 'unit': '', 'obs_status': '', 'decimal': 1}, {'indicator': {'id': 'IC.REG.COST.PC.ZS', 'value': 'Cost of business start-up procedures (% of GNI per capita)'}, 'country': {'id': 'IN', 'value': 'India'}, 'countryiso3code': 'IND', 'date': '1996', 'value': None, 'unit': '', 'obs_status': '', 'decimal': 1}, {'indicator': {'id': 'IC.REG.COST.PC.ZS', 'value': 'Cost of business start-up procedures (% of GNI per capita)'}, 'country': {'id': 'IN', 'value': 'India'}, 'countryiso3code': 'IND', 'date': '1995', 'value': None, 'unit': '', 'obs_status': '', 'decimal': 1}, {'indicator': {'id': 'IC.REG.COST.PC.ZS', 'value': 'Cost of business start-up procedures (% of GNI per capita)'}, 'country': {'id': 'IN', 'value': 'India'}, 'countryiso3code': 'IND', 'date': '1994', 'value': None, 'unit': '', 'obs_status': '', 'decimal': 1}, {'indicator': {'id': 'IC.REG.COST.PC.ZS', 'value': 'Cost of business start-up procedures (% of GNI per capita)'}, 'country': {'id': 'IN', 'value': 'India'}, 'countryiso3code': 'IND', 'date': '1993', 'value': None, 'unit': '', 'obs_status': '', 'decimal': 1}, {'indicator': {'id': 'IC.REG.COST.PC.ZS', 'value': 'Cost of business start-up procedures (% of GNI per capita)'}, 'country': {'id': 'IN', 'value': 'India'}, 'countryiso3code': 'IND', 'date': '1992', 'value': None, 'unit': '', 'obs_status': '', 'decimal': 1}, {'indicator': {'id': 'IC.REG.COST.PC.ZS', 'value': 'Cost of business start-up procedures (% of GNI per capita)'}, 'country': {'id': 'IN', 'value': 'India'}, 'countryiso3code': 'IND', 'date': '1991', 'value': None, 'unit': '', 'obs_status': '', 'decimal': 1}, {'indicator': {'id': 'IC.REG.COST.PC.ZS', 'value': 'Cost of business start-up procedures (% of GNI per capita)'}, 'country': {'id': 'IN', 'value': 'India'}, 'countryiso3code': 'IND', 'date': '1990', 'value': None, 'unit': '', 'obs_status': '', 'decimal': 1}, {'indicator': {'id': 'IC.REG.COST.PC.ZS', 'value': 'Cost of business start-up procedures (% of GNI per capita)'}, 'country': {'id': 'IN', 'value': 'India'}, 'countryiso3code': 'IND', 'date': '1989', 'value': None, 'unit': '', 'obs_status': '', 'decimal': 1}, {'indicator': {'id': 'IC.REG.COST.PC.ZS', 'value': 'Cost of business start-up procedures (% of GNI per capita)'}, 'country': {'id': 'IN', 'value': 'India'}, 'countryiso3code': 'IND', 'date': '1988', 'value': None, 'unit': '', 'obs_status': '', 'decimal': 1}, {'indicator': {'id': 'IC.REG.COST.PC.ZS', 'value': 'Cost of business start-up procedures (% of GNI per capita)'}, 'country': {'id': 'IN', 'value': 'India'}, 'countryiso3code': 'IND', 'date': '1987', 'value': None, 'unit': '', 'obs_status': '', 'decimal': 1}, {'indicator': {'id': 'IC.REG.COST.PC.ZS', 'value': 'Cost of business start-up procedures (% of GNI per capita)'}, 'country': {'id': 'IN', 'value': 'India'}, 'countryiso3code': 'IND', 'date': '1986', 'value': None, 'unit': '', 'obs_status': '', 'decimal': 1}, {'indicator': {'id': 'IC.REG.COST.PC.ZS', 'value': 'Cost of business start-up procedures (% of GNI per capita)'}, 'country': {'id': 'IN', 'value': 'India'}, 'countryiso3code': 'IND', 'date': '1985', 'value': None, 'unit': '', 'obs_status': '', 'decimal': 1}, {'indicator': {'id': 'IC.REG.COST.PC.ZS', 'value': 'Cost of business start-up procedures (% of GNI per capita)'}, 'country': {'id': 'IN', 'value': 'India'}, 'countryiso3code': 'IND', 'date': '1984', 'value': None, 'unit': '', 'obs_status': '', 'decimal': 1}, {'indicator': {'id': 'IC.REG.COST.PC.ZS', 'value': 'Cost of business start-up procedures (% of GNI per capita)'}, 'country': {'id': 'IN', 'value': 'India'}, 'countryiso3code': 'IND', 'date': '1983', 'value': None, 'unit': '', 'obs_status': '', 'decimal': 1}, {'indicator': {'id': 'IC.REG.COST.PC.ZS', 'value': 'Cost of business start-up procedures (% of GNI per capita)'}, 'country': {'id': 'IN', 'value': 'India'}, 'countryiso3code': 'IND', 'date': '1982', 'value': None, 'unit': '', 'obs_status': '', 'decimal': 1}, {'indicator': {'id': 'IC.REG.COST.PC.ZS', 'value': 'Cost of business start-up procedures (% of GNI per capita)'}, 'country': {'id': 'IN', 'value': 'India'}, 'countryiso3code': 'IND', 'date': '1981', 'value': None, 'unit': '', 'obs_status': '', 'decimal': 1}, {'indicator': {'id': 'IC.REG.COST.PC.ZS', 'value': 'Cost of business start-up procedures (% of GNI per capita)'}, 'country': {'id': 'IN', 'value': 'India'}, 'countryiso3code': 'IND', 'date': '1980', 'value': None, 'unit': '', 'obs_status': '', 'decimal': 1}, {'indicator': {'id': 'IC.REG.COST.PC.ZS', 'value': 'Cost of business start-up procedures (% of GNI per capita)'}, 'country': {'id': 'IN', 'value': 'India'}, 'countryiso3code': 'IND', 'date': '1979', 'value': None, 'unit': '', 'obs_status': '', 'decimal': 1}, {'indicator': {'id': 'IC.REG.COST.PC.ZS', 'value': 'Cost of business start-up procedures (% of GNI per capita)'}, 'country': {'id': 'IN', 'value': 'India'}, 'countryiso3code': 'IND', 'date': '1978', 'value': None, 'unit': '', 'obs_status': '', 'decimal': 1}, {'indicator': {'id': 'IC.REG.COST.PC.ZS', 'value': 'Cost of business start-up procedures (% of GNI per capita)'}, 'country': {'id': 'IN', 'value': 'India'}, 'countryiso3code': 'IND', 'date': '1977', 'value': None, 'unit': '', 'obs_status': '', 'decimal': 1}, {'indicator': {'id': 'IC.REG.COST.PC.ZS', 'value': 'Cost of business start-up procedures (% of GNI per capita)'}, 'country': {'id': 'IN', 'value': 'India'}, 'countryiso3code': 'IND', 'date': '1976', 'value': None, 'unit': '', 'obs_status': '', 'decimal': 1}, {'indicator': {'id': 'IC.REG.COST.PC.ZS', 'value': 'Cost of business start-up procedures (% of GNI per capita)'}, 'country': {'id': 'IN', 'value': 'India'}, 'countryiso3code': 'IND', 'date': '1975', 'value': None, 'unit': '', 'obs_status': '', 'decimal': 1}, {'indicator': {'id': 'IC.REG.COST.PC.ZS', 'value': 'Cost of business start-up procedures (% of GNI per capita)'}, 'country': {'id': 'IN', 'value': 'India'}, 'countryiso3code': 'IND', 'date': '1974', 'value': None, 'unit': '', 'obs_status': '', 'decimal': 1}, {'indicator': {'id': 'IC.REG.COST.PC.ZS', 'value': 'Cost of business start-up procedures (% of GNI per capita)'}, 'country': {'id': 'IN', 'value': 'India'}, 'countryiso3code': 'IND', 'date': '1973', 'value': None, 'unit': '', 'obs_status': '', 'decimal': 1}, {'indicator': {'id': 'IC.REG.COST.PC.ZS', 'value': 'Cost of business start-up procedures (% of GNI per capita)'}, 'country': {'id': 'IN', 'value': 'India'}, 'countryiso3code': 'IND', 'date': '1972', 'value': None, 'unit': '', 'obs_status': '', 'decimal': 1}, {'indicator': {'id': 'IC.REG.COST.PC.ZS', 'value': 'Cost of business start-up procedures (% of GNI per capita)'}, 'country': {'id': 'IN', 'value': 'India'}, 'countryiso3code': 'IND', 'date': '1971', 'value': None, 'unit': '', 'obs_status': '', 'decimal': 1}]]\n",
            "WB_data_cost_IND.json\n"
          ]
        },
        {
          "output_type": "display_data",
          "data": {
            "application/javascript": [
              "\n",
              "    async function download(id, filename, size) {\n",
              "      if (!google.colab.kernel.accessAllowed) {\n",
              "        return;\n",
              "      }\n",
              "      const div = document.createElement('div');\n",
              "      const label = document.createElement('label');\n",
              "      label.textContent = `Downloading \"${filename}\": `;\n",
              "      div.appendChild(label);\n",
              "      const progress = document.createElement('progress');\n",
              "      progress.max = size;\n",
              "      div.appendChild(progress);\n",
              "      document.body.appendChild(div);\n",
              "\n",
              "      const buffers = [];\n",
              "      let downloaded = 0;\n",
              "\n",
              "      const channel = await google.colab.kernel.comms.open(id);\n",
              "      // Send a message to notify the kernel that we're ready.\n",
              "      channel.send({})\n",
              "\n",
              "      for await (const message of channel.messages) {\n",
              "        // Send a message to notify the kernel that we're ready.\n",
              "        channel.send({})\n",
              "        if (message.buffers) {\n",
              "          for (const buffer of message.buffers) {\n",
              "            buffers.push(buffer);\n",
              "            downloaded += buffer.byteLength;\n",
              "            progress.value = downloaded;\n",
              "          }\n",
              "        }\n",
              "      }\n",
              "      const blob = new Blob(buffers, {type: 'application/binary'});\n",
              "      const a = document.createElement('a');\n",
              "      a.href = window.URL.createObjectURL(blob);\n",
              "      a.download = filename;\n",
              "      div.appendChild(a);\n",
              "      a.click();\n",
              "      div.remove();\n",
              "    }\n",
              "  "
            ],
            "text/plain": [
              "<IPython.core.display.Javascript object>"
            ]
          },
          "metadata": {}
        },
        {
          "output_type": "display_data",
          "data": {
            "application/javascript": [
              "download(\"download_cb34a625-dae4-4e90-b0e5-639cfa651e71\", \"WB_data_cost_IND.json\", 23471)"
            ],
            "text/plain": [
              "<IPython.core.display.Javascript object>"
            ]
          },
          "metadata": {}
        },
        {
          "output_type": "stream",
          "name": "stdout",
          "text": [
            "KAZ\n",
            "http://api.worldbank.org/v2/country/KAZ/indicator/IC.REG.COST.PC.ZS?format=json\n",
            "[{'page': 1, 'pages': 2, 'per_page': 50, 'total': 61, 'sourceid': '2', 'sourcename': 'World Development Indicators', 'lastupdated': '2021-10-28'}, [{'indicator': {'id': 'IC.REG.COST.PC.ZS', 'value': 'Cost of business start-up procedures (% of GNI per capita)'}, 'country': {'id': 'KZ', 'value': 'Kazakhstan'}, 'countryiso3code': 'KAZ', 'date': '2020', 'value': None, 'unit': '', 'obs_status': '', 'decimal': 1}, {'indicator': {'id': 'IC.REG.COST.PC.ZS', 'value': 'Cost of business start-up procedures (% of GNI per capita)'}, 'country': {'id': 'KZ', 'value': 'Kazakhstan'}, 'countryiso3code': 'KAZ', 'date': '2019', 'value': 0.2, 'unit': '', 'obs_status': '', 'decimal': 1}, {'indicator': {'id': 'IC.REG.COST.PC.ZS', 'value': 'Cost of business start-up procedures (% of GNI per capita)'}, 'country': {'id': 'KZ', 'value': 'Kazakhstan'}, 'countryiso3code': 'KAZ', 'date': '2018', 'value': 0.3, 'unit': '', 'obs_status': '', 'decimal': 1}, {'indicator': {'id': 'IC.REG.COST.PC.ZS', 'value': 'Cost of business start-up procedures (% of GNI per capita)'}, 'country': {'id': 'KZ', 'value': 'Kazakhstan'}, 'countryiso3code': 'KAZ', 'date': '2017', 'value': 0.3, 'unit': '', 'obs_status': '', 'decimal': 1}, {'indicator': {'id': 'IC.REG.COST.PC.ZS', 'value': 'Cost of business start-up procedures (% of GNI per capita)'}, 'country': {'id': 'KZ', 'value': 'Kazakhstan'}, 'countryiso3code': 'KAZ', 'date': '2016', 'value': 0.3, 'unit': '', 'obs_status': '', 'decimal': 1}, {'indicator': {'id': 'IC.REG.COST.PC.ZS', 'value': 'Cost of business start-up procedures (% of GNI per capita)'}, 'country': {'id': 'KZ', 'value': 'Kazakhstan'}, 'countryiso3code': 'KAZ', 'date': '2015', 'value': 0.5, 'unit': '', 'obs_status': '', 'decimal': 1}, {'indicator': {'id': 'IC.REG.COST.PC.ZS', 'value': 'Cost of business start-up procedures (% of GNI per capita)'}, 'country': {'id': 'KZ', 'value': 'Kazakhstan'}, 'countryiso3code': 'KAZ', 'date': '2014', 'value': 0.5, 'unit': '', 'obs_status': '', 'decimal': 1}, {'indicator': {'id': 'IC.REG.COST.PC.ZS', 'value': 'Cost of business start-up procedures (% of GNI per capita)'}, 'country': {'id': 'KZ', 'value': 'Kazakhstan'}, 'countryiso3code': 'KAZ', 'date': '2013', 'value': 0.6, 'unit': '', 'obs_status': '', 'decimal': 1}, {'indicator': {'id': 'IC.REG.COST.PC.ZS', 'value': 'Cost of business start-up procedures (% of GNI per capita)'}, 'country': {'id': 'KZ', 'value': 'Kazakhstan'}, 'countryiso3code': 'KAZ', 'date': '2012', 'value': 0.7, 'unit': '', 'obs_status': '', 'decimal': 1}, {'indicator': {'id': 'IC.REG.COST.PC.ZS', 'value': 'Cost of business start-up procedures (% of GNI per capita)'}, 'country': {'id': 'KZ', 'value': 'Kazakhstan'}, 'countryiso3code': 'KAZ', 'date': '2011', 'value': 0.8, 'unit': '', 'obs_status': '', 'decimal': 1}, {'indicator': {'id': 'IC.REG.COST.PC.ZS', 'value': 'Cost of business start-up procedures (% of GNI per capita)'}, 'country': {'id': 'KZ', 'value': 'Kazakhstan'}, 'countryiso3code': 'KAZ', 'date': '2010', 'value': 1, 'unit': '', 'obs_status': '', 'decimal': 1}, {'indicator': {'id': 'IC.REG.COST.PC.ZS', 'value': 'Cost of business start-up procedures (% of GNI per capita)'}, 'country': {'id': 'KZ', 'value': 'Kazakhstan'}, 'countryiso3code': 'KAZ', 'date': '2009', 'value': 4.8, 'unit': '', 'obs_status': '', 'decimal': 1}, {'indicator': {'id': 'IC.REG.COST.PC.ZS', 'value': 'Cost of business start-up procedures (% of GNI per capita)'}, 'country': {'id': 'KZ', 'value': 'Kazakhstan'}, 'countryiso3code': 'KAZ', 'date': '2008', 'value': 5.2, 'unit': '', 'obs_status': '', 'decimal': 1}, {'indicator': {'id': 'IC.REG.COST.PC.ZS', 'value': 'Cost of business start-up procedures (% of GNI per capita)'}, 'country': {'id': 'KZ', 'value': 'Kazakhstan'}, 'countryiso3code': 'KAZ', 'date': '2007', 'value': 7.6, 'unit': '', 'obs_status': '', 'decimal': 1}, {'indicator': {'id': 'IC.REG.COST.PC.ZS', 'value': 'Cost of business start-up procedures (% of GNI per capita)'}, 'country': {'id': 'KZ', 'value': 'Kazakhstan'}, 'countryiso3code': 'KAZ', 'date': '2006', 'value': 7, 'unit': '', 'obs_status': '', 'decimal': 1}, {'indicator': {'id': 'IC.REG.COST.PC.ZS', 'value': 'Cost of business start-up procedures (% of GNI per capita)'}, 'country': {'id': 'KZ', 'value': 'Kazakhstan'}, 'countryiso3code': 'KAZ', 'date': '2005', 'value': 9.9, 'unit': '', 'obs_status': '', 'decimal': 1}, {'indicator': {'id': 'IC.REG.COST.PC.ZS', 'value': 'Cost of business start-up procedures (% of GNI per capita)'}, 'country': {'id': 'KZ', 'value': 'Kazakhstan'}, 'countryiso3code': 'KAZ', 'date': '2004', 'value': 12.1, 'unit': '', 'obs_status': '', 'decimal': 1}, {'indicator': {'id': 'IC.REG.COST.PC.ZS', 'value': 'Cost of business start-up procedures (% of GNI per capita)'}, 'country': {'id': 'KZ', 'value': 'Kazakhstan'}, 'countryiso3code': 'KAZ', 'date': '2003', 'value': 12.9, 'unit': '', 'obs_status': '', 'decimal': 1}, {'indicator': {'id': 'IC.REG.COST.PC.ZS', 'value': 'Cost of business start-up procedures (% of GNI per capita)'}, 'country': {'id': 'KZ', 'value': 'Kazakhstan'}, 'countryiso3code': 'KAZ', 'date': '2002', 'value': None, 'unit': '', 'obs_status': '', 'decimal': 1}, {'indicator': {'id': 'IC.REG.COST.PC.ZS', 'value': 'Cost of business start-up procedures (% of GNI per capita)'}, 'country': {'id': 'KZ', 'value': 'Kazakhstan'}, 'countryiso3code': 'KAZ', 'date': '2001', 'value': None, 'unit': '', 'obs_status': '', 'decimal': 1}, {'indicator': {'id': 'IC.REG.COST.PC.ZS', 'value': 'Cost of business start-up procedures (% of GNI per capita)'}, 'country': {'id': 'KZ', 'value': 'Kazakhstan'}, 'countryiso3code': 'KAZ', 'date': '2000', 'value': None, 'unit': '', 'obs_status': '', 'decimal': 1}, {'indicator': {'id': 'IC.REG.COST.PC.ZS', 'value': 'Cost of business start-up procedures (% of GNI per capita)'}, 'country': {'id': 'KZ', 'value': 'Kazakhstan'}, 'countryiso3code': 'KAZ', 'date': '1999', 'value': None, 'unit': '', 'obs_status': '', 'decimal': 1}, {'indicator': {'id': 'IC.REG.COST.PC.ZS', 'value': 'Cost of business start-up procedures (% of GNI per capita)'}, 'country': {'id': 'KZ', 'value': 'Kazakhstan'}, 'countryiso3code': 'KAZ', 'date': '1998', 'value': None, 'unit': '', 'obs_status': '', 'decimal': 1}, {'indicator': {'id': 'IC.REG.COST.PC.ZS', 'value': 'Cost of business start-up procedures (% of GNI per capita)'}, 'country': {'id': 'KZ', 'value': 'Kazakhstan'}, 'countryiso3code': 'KAZ', 'date': '1997', 'value': None, 'unit': '', 'obs_status': '', 'decimal': 1}, {'indicator': {'id': 'IC.REG.COST.PC.ZS', 'value': 'Cost of business start-up procedures (% of GNI per capita)'}, 'country': {'id': 'KZ', 'value': 'Kazakhstan'}, 'countryiso3code': 'KAZ', 'date': '1996', 'value': None, 'unit': '', 'obs_status': '', 'decimal': 1}, {'indicator': {'id': 'IC.REG.COST.PC.ZS', 'value': 'Cost of business start-up procedures (% of GNI per capita)'}, 'country': {'id': 'KZ', 'value': 'Kazakhstan'}, 'countryiso3code': 'KAZ', 'date': '1995', 'value': None, 'unit': '', 'obs_status': '', 'decimal': 1}, {'indicator': {'id': 'IC.REG.COST.PC.ZS', 'value': 'Cost of business start-up procedures (% of GNI per capita)'}, 'country': {'id': 'KZ', 'value': 'Kazakhstan'}, 'countryiso3code': 'KAZ', 'date': '1994', 'value': None, 'unit': '', 'obs_status': '', 'decimal': 1}, {'indicator': {'id': 'IC.REG.COST.PC.ZS', 'value': 'Cost of business start-up procedures (% of GNI per capita)'}, 'country': {'id': 'KZ', 'value': 'Kazakhstan'}, 'countryiso3code': 'KAZ', 'date': '1993', 'value': None, 'unit': '', 'obs_status': '', 'decimal': 1}, {'indicator': {'id': 'IC.REG.COST.PC.ZS', 'value': 'Cost of business start-up procedures (% of GNI per capita)'}, 'country': {'id': 'KZ', 'value': 'Kazakhstan'}, 'countryiso3code': 'KAZ', 'date': '1992', 'value': None, 'unit': '', 'obs_status': '', 'decimal': 1}, {'indicator': {'id': 'IC.REG.COST.PC.ZS', 'value': 'Cost of business start-up procedures (% of GNI per capita)'}, 'country': {'id': 'KZ', 'value': 'Kazakhstan'}, 'countryiso3code': 'KAZ', 'date': '1991', 'value': None, 'unit': '', 'obs_status': '', 'decimal': 1}, {'indicator': {'id': 'IC.REG.COST.PC.ZS', 'value': 'Cost of business start-up procedures (% of GNI per capita)'}, 'country': {'id': 'KZ', 'value': 'Kazakhstan'}, 'countryiso3code': 'KAZ', 'date': '1990', 'value': None, 'unit': '', 'obs_status': '', 'decimal': 1}, {'indicator': {'id': 'IC.REG.COST.PC.ZS', 'value': 'Cost of business start-up procedures (% of GNI per capita)'}, 'country': {'id': 'KZ', 'value': 'Kazakhstan'}, 'countryiso3code': 'KAZ', 'date': '1989', 'value': None, 'unit': '', 'obs_status': '', 'decimal': 1}, {'indicator': {'id': 'IC.REG.COST.PC.ZS', 'value': 'Cost of business start-up procedures (% of GNI per capita)'}, 'country': {'id': 'KZ', 'value': 'Kazakhstan'}, 'countryiso3code': 'KAZ', 'date': '1988', 'value': None, 'unit': '', 'obs_status': '', 'decimal': 1}, {'indicator': {'id': 'IC.REG.COST.PC.ZS', 'value': 'Cost of business start-up procedures (% of GNI per capita)'}, 'country': {'id': 'KZ', 'value': 'Kazakhstan'}, 'countryiso3code': 'KAZ', 'date': '1987', 'value': None, 'unit': '', 'obs_status': '', 'decimal': 1}, {'indicator': {'id': 'IC.REG.COST.PC.ZS', 'value': 'Cost of business start-up procedures (% of GNI per capita)'}, 'country': {'id': 'KZ', 'value': 'Kazakhstan'}, 'countryiso3code': 'KAZ', 'date': '1986', 'value': None, 'unit': '', 'obs_status': '', 'decimal': 1}, {'indicator': {'id': 'IC.REG.COST.PC.ZS', 'value': 'Cost of business start-up procedures (% of GNI per capita)'}, 'country': {'id': 'KZ', 'value': 'Kazakhstan'}, 'countryiso3code': 'KAZ', 'date': '1985', 'value': None, 'unit': '', 'obs_status': '', 'decimal': 1}, {'indicator': {'id': 'IC.REG.COST.PC.ZS', 'value': 'Cost of business start-up procedures (% of GNI per capita)'}, 'country': {'id': 'KZ', 'value': 'Kazakhstan'}, 'countryiso3code': 'KAZ', 'date': '1984', 'value': None, 'unit': '', 'obs_status': '', 'decimal': 1}, {'indicator': {'id': 'IC.REG.COST.PC.ZS', 'value': 'Cost of business start-up procedures (% of GNI per capita)'}, 'country': {'id': 'KZ', 'value': 'Kazakhstan'}, 'countryiso3code': 'KAZ', 'date': '1983', 'value': None, 'unit': '', 'obs_status': '', 'decimal': 1}, {'indicator': {'id': 'IC.REG.COST.PC.ZS', 'value': 'Cost of business start-up procedures (% of GNI per capita)'}, 'country': {'id': 'KZ', 'value': 'Kazakhstan'}, 'countryiso3code': 'KAZ', 'date': '1982', 'value': None, 'unit': '', 'obs_status': '', 'decimal': 1}, {'indicator': {'id': 'IC.REG.COST.PC.ZS', 'value': 'Cost of business start-up procedures (% of GNI per capita)'}, 'country': {'id': 'KZ', 'value': 'Kazakhstan'}, 'countryiso3code': 'KAZ', 'date': '1981', 'value': None, 'unit': '', 'obs_status': '', 'decimal': 1}, {'indicator': {'id': 'IC.REG.COST.PC.ZS', 'value': 'Cost of business start-up procedures (% of GNI per capita)'}, 'country': {'id': 'KZ', 'value': 'Kazakhstan'}, 'countryiso3code': 'KAZ', 'date': '1980', 'value': None, 'unit': '', 'obs_status': '', 'decimal': 1}, {'indicator': {'id': 'IC.REG.COST.PC.ZS', 'value': 'Cost of business start-up procedures (% of GNI per capita)'}, 'country': {'id': 'KZ', 'value': 'Kazakhstan'}, 'countryiso3code': 'KAZ', 'date': '1979', 'value': None, 'unit': '', 'obs_status': '', 'decimal': 1}, {'indicator': {'id': 'IC.REG.COST.PC.ZS', 'value': 'Cost of business start-up procedures (% of GNI per capita)'}, 'country': {'id': 'KZ', 'value': 'Kazakhstan'}, 'countryiso3code': 'KAZ', 'date': '1978', 'value': None, 'unit': '', 'obs_status': '', 'decimal': 1}, {'indicator': {'id': 'IC.REG.COST.PC.ZS', 'value': 'Cost of business start-up procedures (% of GNI per capita)'}, 'country': {'id': 'KZ', 'value': 'Kazakhstan'}, 'countryiso3code': 'KAZ', 'date': '1977', 'value': None, 'unit': '', 'obs_status': '', 'decimal': 1}, {'indicator': {'id': 'IC.REG.COST.PC.ZS', 'value': 'Cost of business start-up procedures (% of GNI per capita)'}, 'country': {'id': 'KZ', 'value': 'Kazakhstan'}, 'countryiso3code': 'KAZ', 'date': '1976', 'value': None, 'unit': '', 'obs_status': '', 'decimal': 1}, {'indicator': {'id': 'IC.REG.COST.PC.ZS', 'value': 'Cost of business start-up procedures (% of GNI per capita)'}, 'country': {'id': 'KZ', 'value': 'Kazakhstan'}, 'countryiso3code': 'KAZ', 'date': '1975', 'value': None, 'unit': '', 'obs_status': '', 'decimal': 1}, {'indicator': {'id': 'IC.REG.COST.PC.ZS', 'value': 'Cost of business start-up procedures (% of GNI per capita)'}, 'country': {'id': 'KZ', 'value': 'Kazakhstan'}, 'countryiso3code': 'KAZ', 'date': '1974', 'value': None, 'unit': '', 'obs_status': '', 'decimal': 1}, {'indicator': {'id': 'IC.REG.COST.PC.ZS', 'value': 'Cost of business start-up procedures (% of GNI per capita)'}, 'country': {'id': 'KZ', 'value': 'Kazakhstan'}, 'countryiso3code': 'KAZ', 'date': '1973', 'value': None, 'unit': '', 'obs_status': '', 'decimal': 1}, {'indicator': {'id': 'IC.REG.COST.PC.ZS', 'value': 'Cost of business start-up procedures (% of GNI per capita)'}, 'country': {'id': 'KZ', 'value': 'Kazakhstan'}, 'countryiso3code': 'KAZ', 'date': '1972', 'value': None, 'unit': '', 'obs_status': '', 'decimal': 1}, {'indicator': {'id': 'IC.REG.COST.PC.ZS', 'value': 'Cost of business start-up procedures (% of GNI per capita)'}, 'country': {'id': 'KZ', 'value': 'Kazakhstan'}, 'countryiso3code': 'KAZ', 'date': '1971', 'value': None, 'unit': '', 'obs_status': '', 'decimal': 1}]]\n",
            "WB_data_cost_KAZ.json\n"
          ]
        },
        {
          "output_type": "display_data",
          "data": {
            "application/javascript": [
              "\n",
              "    async function download(id, filename, size) {\n",
              "      if (!google.colab.kernel.accessAllowed) {\n",
              "        return;\n",
              "      }\n",
              "      const div = document.createElement('div');\n",
              "      const label = document.createElement('label');\n",
              "      label.textContent = `Downloading \"${filename}\": `;\n",
              "      div.appendChild(label);\n",
              "      const progress = document.createElement('progress');\n",
              "      progress.max = size;\n",
              "      div.appendChild(progress);\n",
              "      document.body.appendChild(div);\n",
              "\n",
              "      const buffers = [];\n",
              "      let downloaded = 0;\n",
              "\n",
              "      const channel = await google.colab.kernel.comms.open(id);\n",
              "      // Send a message to notify the kernel that we're ready.\n",
              "      channel.send({})\n",
              "\n",
              "      for await (const message of channel.messages) {\n",
              "        // Send a message to notify the kernel that we're ready.\n",
              "        channel.send({})\n",
              "        if (message.buffers) {\n",
              "          for (const buffer of message.buffers) {\n",
              "            buffers.push(buffer);\n",
              "            downloaded += buffer.byteLength;\n",
              "            progress.value = downloaded;\n",
              "          }\n",
              "        }\n",
              "      }\n",
              "      const blob = new Blob(buffers, {type: 'application/binary'});\n",
              "      const a = document.createElement('a');\n",
              "      a.href = window.URL.createObjectURL(blob);\n",
              "      a.download = filename;\n",
              "      div.appendChild(a);\n",
              "      a.click();\n",
              "      div.remove();\n",
              "    }\n",
              "  "
            ],
            "text/plain": [
              "<IPython.core.display.Javascript object>"
            ]
          },
          "metadata": {}
        },
        {
          "output_type": "display_data",
          "data": {
            "application/javascript": [
              "download(\"download_ac47ec46-52a2-4154-b2d7-594103281c8c\", \"WB_data_cost_KAZ.json\", 23707)"
            ],
            "text/plain": [
              "<IPython.core.display.Javascript object>"
            ]
          },
          "metadata": {}
        }
      ]
    },
    {
      "cell_type": "code",
      "metadata": {
        "colab": {
          "base_uri": "https://localhost:8080/",
          "height": 241
        },
        "id": "_8SZvsNfWU6i",
        "outputId": "41a09f8a-d124-4305-ae1b-b3bcc550c511"
      },
      "source": [
        "url_base_two = \"http://api.worldbank.org/v2/country/{}/indicator/IC.REG.COST.PC.ZS?format=json\"\n",
        "\n",
        "country = ['SGP','THA','IDN']\n",
        "\n",
        "file_base_two = \"WB_data_cost_{}.json\"\n",
        "\n",
        "for i in country:\n",
        "  print(i)\n",
        "\n",
        "  URLtwo = url_base_two.format(i)\n",
        "\n",
        "  print(URLtwo)\n",
        "\n",
        "  data_two = requests.get(URLtwo).json()\n",
        "\n",
        "  print(data_two)\n",
        "\n",
        "  fileName_two = file_base_two.format(i)\n",
        "  print(fileName_two)\n",
        "\n",
        "  with open(fileName_two, 'w', encoding='utf-8') as f:\n",
        "     json.dump(data_two, f, ensure_ascii=False, indent=4)\n",
        "\n",
        "  files.download(fileName_two)"
      ],
      "execution_count": 24,
      "outputs": [
        {
          "output_type": "stream",
          "name": "stdout",
          "text": [
            "SGP\n",
            "http://api.worldbank.org/v2/country/SGP/indicator/IC.REG.COST.PC.ZS?format=json\n",
            "[{'page': 1, 'pages': 2, 'per_page': 50, 'total': 61, 'sourceid': '2', 'sourcename': 'World Development Indicators', 'lastupdated': '2021-10-28'}, [{'indicator': {'id': 'IC.REG.COST.PC.ZS', 'value': 'Cost of business start-up procedures (% of GNI per capita)'}, 'country': {'id': 'SG', 'value': 'Singapore'}, 'countryiso3code': 'SGP', 'date': '2020', 'value': None, 'unit': '', 'obs_status': '', 'decimal': 1}, {'indicator': {'id': 'IC.REG.COST.PC.ZS', 'value': 'Cost of business start-up procedures (% of GNI per capita)'}, 'country': {'id': 'SG', 'value': 'Singapore'}, 'countryiso3code': 'SGP', 'date': '2019', 'value': 0.4, 'unit': '', 'obs_status': '', 'decimal': 1}, {'indicator': {'id': 'IC.REG.COST.PC.ZS', 'value': 'Cost of business start-up procedures (% of GNI per capita)'}, 'country': {'id': 'SG', 'value': 'Singapore'}, 'countryiso3code': 'SGP', 'date': '2018', 'value': 0.4, 'unit': '', 'obs_status': '', 'decimal': 1}, {'indicator': {'id': 'IC.REG.COST.PC.ZS', 'value': 'Cost of business start-up procedures (% of GNI per capita)'}, 'country': {'id': 'SG', 'value': 'Singapore'}, 'countryiso3code': 'SGP', 'date': '2017', 'value': 0.5, 'unit': '', 'obs_status': '', 'decimal': 1}, {'indicator': {'id': 'IC.REG.COST.PC.ZS', 'value': 'Cost of business start-up procedures (% of GNI per capita)'}, 'country': {'id': 'SG', 'value': 'Singapore'}, 'countryiso3code': 'SGP', 'date': '2016', 'value': 0.6, 'unit': '', 'obs_status': '', 'decimal': 1}, {'indicator': {'id': 'IC.REG.COST.PC.ZS', 'value': 'Cost of business start-up procedures (% of GNI per capita)'}, 'country': {'id': 'SG', 'value': 'Singapore'}, 'countryiso3code': 'SGP', 'date': '2015', 'value': 0.6, 'unit': '', 'obs_status': '', 'decimal': 1}, {'indicator': {'id': 'IC.REG.COST.PC.ZS', 'value': 'Cost of business start-up procedures (% of GNI per capita)'}, 'country': {'id': 'SG', 'value': 'Singapore'}, 'countryiso3code': 'SGP', 'date': '2014', 'value': 0.6, 'unit': '', 'obs_status': '', 'decimal': 1}, {'indicator': {'id': 'IC.REG.COST.PC.ZS', 'value': 'Cost of business start-up procedures (% of GNI per capita)'}, 'country': {'id': 'SG', 'value': 'Singapore'}, 'countryiso3code': 'SGP', 'date': '2013', 'value': 0.6, 'unit': '', 'obs_status': '', 'decimal': 1}, {'indicator': {'id': 'IC.REG.COST.PC.ZS', 'value': 'Cost of business start-up procedures (% of GNI per capita)'}, 'country': {'id': 'SG', 'value': 'Singapore'}, 'countryiso3code': 'SGP', 'date': '2012', 'value': 0.6, 'unit': '', 'obs_status': '', 'decimal': 1}, {'indicator': {'id': 'IC.REG.COST.PC.ZS', 'value': 'Cost of business start-up procedures (% of GNI per capita)'}, 'country': {'id': 'SG', 'value': 'Singapore'}, 'countryiso3code': 'SGP', 'date': '2011', 'value': 0.7, 'unit': '', 'obs_status': '', 'decimal': 1}, {'indicator': {'id': 'IC.REG.COST.PC.ZS', 'value': 'Cost of business start-up procedures (% of GNI per capita)'}, 'country': {'id': 'SG', 'value': 'Singapore'}, 'countryiso3code': 'SGP', 'date': '2010', 'value': 0.7, 'unit': '', 'obs_status': '', 'decimal': 1}, {'indicator': {'id': 'IC.REG.COST.PC.ZS', 'value': 'Cost of business start-up procedures (% of GNI per capita)'}, 'country': {'id': 'SG', 'value': 'Singapore'}, 'countryiso3code': 'SGP', 'date': '2009', 'value': 0.7, 'unit': '', 'obs_status': '', 'decimal': 1}, {'indicator': {'id': 'IC.REG.COST.PC.ZS', 'value': 'Cost of business start-up procedures (% of GNI per capita)'}, 'country': {'id': 'SG', 'value': 'Singapore'}, 'countryiso3code': 'SGP', 'date': '2008', 'value': 0.9, 'unit': '', 'obs_status': '', 'decimal': 1}, {'indicator': {'id': 'IC.REG.COST.PC.ZS', 'value': 'Cost of business start-up procedures (% of GNI per capita)'}, 'country': {'id': 'SG', 'value': 'Singapore'}, 'countryiso3code': 'SGP', 'date': '2007', 'value': 0.8, 'unit': '', 'obs_status': '', 'decimal': 1}, {'indicator': {'id': 'IC.REG.COST.PC.ZS', 'value': 'Cost of business start-up procedures (% of GNI per capita)'}, 'country': {'id': 'SG', 'value': 'Singapore'}, 'countryiso3code': 'SGP', 'date': '2006', 'value': 0.8, 'unit': '', 'obs_status': '', 'decimal': 1}, {'indicator': {'id': 'IC.REG.COST.PC.ZS', 'value': 'Cost of business start-up procedures (% of GNI per capita)'}, 'country': {'id': 'SG', 'value': 'Singapore'}, 'countryiso3code': 'SGP', 'date': '2005', 'value': 0.9, 'unit': '', 'obs_status': '', 'decimal': 1}, {'indicator': {'id': 'IC.REG.COST.PC.ZS', 'value': 'Cost of business start-up procedures (% of GNI per capita)'}, 'country': {'id': 'SG', 'value': 'Singapore'}, 'countryiso3code': 'SGP', 'date': '2004', 'value': 1, 'unit': '', 'obs_status': '', 'decimal': 1}, {'indicator': {'id': 'IC.REG.COST.PC.ZS', 'value': 'Cost of business start-up procedures (% of GNI per capita)'}, 'country': {'id': 'SG', 'value': 'Singapore'}, 'countryiso3code': 'SGP', 'date': '2003', 'value': 1, 'unit': '', 'obs_status': '', 'decimal': 1}, {'indicator': {'id': 'IC.REG.COST.PC.ZS', 'value': 'Cost of business start-up procedures (% of GNI per capita)'}, 'country': {'id': 'SG', 'value': 'Singapore'}, 'countryiso3code': 'SGP', 'date': '2002', 'value': None, 'unit': '', 'obs_status': '', 'decimal': 1}, {'indicator': {'id': 'IC.REG.COST.PC.ZS', 'value': 'Cost of business start-up procedures (% of GNI per capita)'}, 'country': {'id': 'SG', 'value': 'Singapore'}, 'countryiso3code': 'SGP', 'date': '2001', 'value': None, 'unit': '', 'obs_status': '', 'decimal': 1}, {'indicator': {'id': 'IC.REG.COST.PC.ZS', 'value': 'Cost of business start-up procedures (% of GNI per capita)'}, 'country': {'id': 'SG', 'value': 'Singapore'}, 'countryiso3code': 'SGP', 'date': '2000', 'value': None, 'unit': '', 'obs_status': '', 'decimal': 1}, {'indicator': {'id': 'IC.REG.COST.PC.ZS', 'value': 'Cost of business start-up procedures (% of GNI per capita)'}, 'country': {'id': 'SG', 'value': 'Singapore'}, 'countryiso3code': 'SGP', 'date': '1999', 'value': None, 'unit': '', 'obs_status': '', 'decimal': 1}, {'indicator': {'id': 'IC.REG.COST.PC.ZS', 'value': 'Cost of business start-up procedures (% of GNI per capita)'}, 'country': {'id': 'SG', 'value': 'Singapore'}, 'countryiso3code': 'SGP', 'date': '1998', 'value': None, 'unit': '', 'obs_status': '', 'decimal': 1}, {'indicator': {'id': 'IC.REG.COST.PC.ZS', 'value': 'Cost of business start-up procedures (% of GNI per capita)'}, 'country': {'id': 'SG', 'value': 'Singapore'}, 'countryiso3code': 'SGP', 'date': '1997', 'value': None, 'unit': '', 'obs_status': '', 'decimal': 1}, {'indicator': {'id': 'IC.REG.COST.PC.ZS', 'value': 'Cost of business start-up procedures (% of GNI per capita)'}, 'country': {'id': 'SG', 'value': 'Singapore'}, 'countryiso3code': 'SGP', 'date': '1996', 'value': None, 'unit': '', 'obs_status': '', 'decimal': 1}, {'indicator': {'id': 'IC.REG.COST.PC.ZS', 'value': 'Cost of business start-up procedures (% of GNI per capita)'}, 'country': {'id': 'SG', 'value': 'Singapore'}, 'countryiso3code': 'SGP', 'date': '1995', 'value': None, 'unit': '', 'obs_status': '', 'decimal': 1}, {'indicator': {'id': 'IC.REG.COST.PC.ZS', 'value': 'Cost of business start-up procedures (% of GNI per capita)'}, 'country': {'id': 'SG', 'value': 'Singapore'}, 'countryiso3code': 'SGP', 'date': '1994', 'value': None, 'unit': '', 'obs_status': '', 'decimal': 1}, {'indicator': {'id': 'IC.REG.COST.PC.ZS', 'value': 'Cost of business start-up procedures (% of GNI per capita)'}, 'country': {'id': 'SG', 'value': 'Singapore'}, 'countryiso3code': 'SGP', 'date': '1993', 'value': None, 'unit': '', 'obs_status': '', 'decimal': 1}, {'indicator': {'id': 'IC.REG.COST.PC.ZS', 'value': 'Cost of business start-up procedures (% of GNI per capita)'}, 'country': {'id': 'SG', 'value': 'Singapore'}, 'countryiso3code': 'SGP', 'date': '1992', 'value': None, 'unit': '', 'obs_status': '', 'decimal': 1}, {'indicator': {'id': 'IC.REG.COST.PC.ZS', 'value': 'Cost of business start-up procedures (% of GNI per capita)'}, 'country': {'id': 'SG', 'value': 'Singapore'}, 'countryiso3code': 'SGP', 'date': '1991', 'value': None, 'unit': '', 'obs_status': '', 'decimal': 1}, {'indicator': {'id': 'IC.REG.COST.PC.ZS', 'value': 'Cost of business start-up procedures (% of GNI per capita)'}, 'country': {'id': 'SG', 'value': 'Singapore'}, 'countryiso3code': 'SGP', 'date': '1990', 'value': None, 'unit': '', 'obs_status': '', 'decimal': 1}, {'indicator': {'id': 'IC.REG.COST.PC.ZS', 'value': 'Cost of business start-up procedures (% of GNI per capita)'}, 'country': {'id': 'SG', 'value': 'Singapore'}, 'countryiso3code': 'SGP', 'date': '1989', 'value': None, 'unit': '', 'obs_status': '', 'decimal': 1}, {'indicator': {'id': 'IC.REG.COST.PC.ZS', 'value': 'Cost of business start-up procedures (% of GNI per capita)'}, 'country': {'id': 'SG', 'value': 'Singapore'}, 'countryiso3code': 'SGP', 'date': '1988', 'value': None, 'unit': '', 'obs_status': '', 'decimal': 1}, {'indicator': {'id': 'IC.REG.COST.PC.ZS', 'value': 'Cost of business start-up procedures (% of GNI per capita)'}, 'country': {'id': 'SG', 'value': 'Singapore'}, 'countryiso3code': 'SGP', 'date': '1987', 'value': None, 'unit': '', 'obs_status': '', 'decimal': 1}, {'indicator': {'id': 'IC.REG.COST.PC.ZS', 'value': 'Cost of business start-up procedures (% of GNI per capita)'}, 'country': {'id': 'SG', 'value': 'Singapore'}, 'countryiso3code': 'SGP', 'date': '1986', 'value': None, 'unit': '', 'obs_status': '', 'decimal': 1}, {'indicator': {'id': 'IC.REG.COST.PC.ZS', 'value': 'Cost of business start-up procedures (% of GNI per capita)'}, 'country': {'id': 'SG', 'value': 'Singapore'}, 'countryiso3code': 'SGP', 'date': '1985', 'value': None, 'unit': '', 'obs_status': '', 'decimal': 1}, {'indicator': {'id': 'IC.REG.COST.PC.ZS', 'value': 'Cost of business start-up procedures (% of GNI per capita)'}, 'country': {'id': 'SG', 'value': 'Singapore'}, 'countryiso3code': 'SGP', 'date': '1984', 'value': None, 'unit': '', 'obs_status': '', 'decimal': 1}, {'indicator': {'id': 'IC.REG.COST.PC.ZS', 'value': 'Cost of business start-up procedures (% of GNI per capita)'}, 'country': {'id': 'SG', 'value': 'Singapore'}, 'countryiso3code': 'SGP', 'date': '1983', 'value': None, 'unit': '', 'obs_status': '', 'decimal': 1}, {'indicator': {'id': 'IC.REG.COST.PC.ZS', 'value': 'Cost of business start-up procedures (% of GNI per capita)'}, 'country': {'id': 'SG', 'value': 'Singapore'}, 'countryiso3code': 'SGP', 'date': '1982', 'value': None, 'unit': '', 'obs_status': '', 'decimal': 1}, {'indicator': {'id': 'IC.REG.COST.PC.ZS', 'value': 'Cost of business start-up procedures (% of GNI per capita)'}, 'country': {'id': 'SG', 'value': 'Singapore'}, 'countryiso3code': 'SGP', 'date': '1981', 'value': None, 'unit': '', 'obs_status': '', 'decimal': 1}, {'indicator': {'id': 'IC.REG.COST.PC.ZS', 'value': 'Cost of business start-up procedures (% of GNI per capita)'}, 'country': {'id': 'SG', 'value': 'Singapore'}, 'countryiso3code': 'SGP', 'date': '1980', 'value': None, 'unit': '', 'obs_status': '', 'decimal': 1}, {'indicator': {'id': 'IC.REG.COST.PC.ZS', 'value': 'Cost of business start-up procedures (% of GNI per capita)'}, 'country': {'id': 'SG', 'value': 'Singapore'}, 'countryiso3code': 'SGP', 'date': '1979', 'value': None, 'unit': '', 'obs_status': '', 'decimal': 1}, {'indicator': {'id': 'IC.REG.COST.PC.ZS', 'value': 'Cost of business start-up procedures (% of GNI per capita)'}, 'country': {'id': 'SG', 'value': 'Singapore'}, 'countryiso3code': 'SGP', 'date': '1978', 'value': None, 'unit': '', 'obs_status': '', 'decimal': 1}, {'indicator': {'id': 'IC.REG.COST.PC.ZS', 'value': 'Cost of business start-up procedures (% of GNI per capita)'}, 'country': {'id': 'SG', 'value': 'Singapore'}, 'countryiso3code': 'SGP', 'date': '1977', 'value': None, 'unit': '', 'obs_status': '', 'decimal': 1}, {'indicator': {'id': 'IC.REG.COST.PC.ZS', 'value': 'Cost of business start-up procedures (% of GNI per capita)'}, 'country': {'id': 'SG', 'value': 'Singapore'}, 'countryiso3code': 'SGP', 'date': '1976', 'value': None, 'unit': '', 'obs_status': '', 'decimal': 1}, {'indicator': {'id': 'IC.REG.COST.PC.ZS', 'value': 'Cost of business start-up procedures (% of GNI per capita)'}, 'country': {'id': 'SG', 'value': 'Singapore'}, 'countryiso3code': 'SGP', 'date': '1975', 'value': None, 'unit': '', 'obs_status': '', 'decimal': 1}, {'indicator': {'id': 'IC.REG.COST.PC.ZS', 'value': 'Cost of business start-up procedures (% of GNI per capita)'}, 'country': {'id': 'SG', 'value': 'Singapore'}, 'countryiso3code': 'SGP', 'date': '1974', 'value': None, 'unit': '', 'obs_status': '', 'decimal': 1}, {'indicator': {'id': 'IC.REG.COST.PC.ZS', 'value': 'Cost of business start-up procedures (% of GNI per capita)'}, 'country': {'id': 'SG', 'value': 'Singapore'}, 'countryiso3code': 'SGP', 'date': '1973', 'value': None, 'unit': '', 'obs_status': '', 'decimal': 1}, {'indicator': {'id': 'IC.REG.COST.PC.ZS', 'value': 'Cost of business start-up procedures (% of GNI per capita)'}, 'country': {'id': 'SG', 'value': 'Singapore'}, 'countryiso3code': 'SGP', 'date': '1972', 'value': None, 'unit': '', 'obs_status': '', 'decimal': 1}, {'indicator': {'id': 'IC.REG.COST.PC.ZS', 'value': 'Cost of business start-up procedures (% of GNI per capita)'}, 'country': {'id': 'SG', 'value': 'Singapore'}, 'countryiso3code': 'SGP', 'date': '1971', 'value': None, 'unit': '', 'obs_status': '', 'decimal': 1}]]\n",
            "WB_data_cost_SGP.json\n"
          ]
        },
        {
          "output_type": "display_data",
          "data": {
            "application/javascript": [
              "\n",
              "    async function download(id, filename, size) {\n",
              "      if (!google.colab.kernel.accessAllowed) {\n",
              "        return;\n",
              "      }\n",
              "      const div = document.createElement('div');\n",
              "      const label = document.createElement('label');\n",
              "      label.textContent = `Downloading \"${filename}\": `;\n",
              "      div.appendChild(label);\n",
              "      const progress = document.createElement('progress');\n",
              "      progress.max = size;\n",
              "      div.appendChild(progress);\n",
              "      document.body.appendChild(div);\n",
              "\n",
              "      const buffers = [];\n",
              "      let downloaded = 0;\n",
              "\n",
              "      const channel = await google.colab.kernel.comms.open(id);\n",
              "      // Send a message to notify the kernel that we're ready.\n",
              "      channel.send({})\n",
              "\n",
              "      for await (const message of channel.messages) {\n",
              "        // Send a message to notify the kernel that we're ready.\n",
              "        channel.send({})\n",
              "        if (message.buffers) {\n",
              "          for (const buffer of message.buffers) {\n",
              "            buffers.push(buffer);\n",
              "            downloaded += buffer.byteLength;\n",
              "            progress.value = downloaded;\n",
              "          }\n",
              "        }\n",
              "      }\n",
              "      const blob = new Blob(buffers, {type: 'application/binary'});\n",
              "      const a = document.createElement('a');\n",
              "      a.href = window.URL.createObjectURL(blob);\n",
              "      a.download = filename;\n",
              "      div.appendChild(a);\n",
              "      a.click();\n",
              "      div.remove();\n",
              "    }\n",
              "  "
            ],
            "text/plain": [
              "<IPython.core.display.Javascript object>"
            ]
          },
          "metadata": {}
        },
        {
          "output_type": "display_data",
          "data": {
            "application/javascript": [
              "download(\"download_88e54fa9-e8dd-4109-b871-cfd9249c2c66\", \"WB_data_cost_SGP.json\", 23655)"
            ],
            "text/plain": [
              "<IPython.core.display.Javascript object>"
            ]
          },
          "metadata": {}
        },
        {
          "output_type": "stream",
          "name": "stdout",
          "text": [
            "THA\n",
            "http://api.worldbank.org/v2/country/THA/indicator/IC.REG.COST.PC.ZS?format=json\n",
            "[{'page': 1, 'pages': 2, 'per_page': 50, 'total': 61, 'sourceid': '2', 'sourcename': 'World Development Indicators', 'lastupdated': '2021-10-28'}, [{'indicator': {'id': 'IC.REG.COST.PC.ZS', 'value': 'Cost of business start-up procedures (% of GNI per capita)'}, 'country': {'id': 'TH', 'value': 'Thailand'}, 'countryiso3code': 'THA', 'date': '2020', 'value': None, 'unit': '', 'obs_status': '', 'decimal': 1}, {'indicator': {'id': 'IC.REG.COST.PC.ZS', 'value': 'Cost of business start-up procedures (% of GNI per capita)'}, 'country': {'id': 'TH', 'value': 'Thailand'}, 'countryiso3code': 'THA', 'date': '2019', 'value': 3, 'unit': '', 'obs_status': '', 'decimal': 1}, {'indicator': {'id': 'IC.REG.COST.PC.ZS', 'value': 'Cost of business start-up procedures (% of GNI per capita)'}, 'country': {'id': 'TH', 'value': 'Thailand'}, 'countryiso3code': 'THA', 'date': '2018', 'value': 3.1, 'unit': '', 'obs_status': '', 'decimal': 1}, {'indicator': {'id': 'IC.REG.COST.PC.ZS', 'value': 'Cost of business start-up procedures (% of GNI per capita)'}, 'country': {'id': 'TH', 'value': 'Thailand'}, 'countryiso3code': 'THA', 'date': '2017', 'value': 6.2, 'unit': '', 'obs_status': '', 'decimal': 1}, {'indicator': {'id': 'IC.REG.COST.PC.ZS', 'value': 'Cost of business start-up procedures (% of GNI per capita)'}, 'country': {'id': 'TH', 'value': 'Thailand'}, 'countryiso3code': 'THA', 'date': '2016', 'value': 6.6, 'unit': '', 'obs_status': '', 'decimal': 1}, {'indicator': {'id': 'IC.REG.COST.PC.ZS', 'value': 'Cost of business start-up procedures (% of GNI per capita)'}, 'country': {'id': 'TH', 'value': 'Thailand'}, 'countryiso3code': 'THA', 'date': '2015', 'value': 6.7, 'unit': '', 'obs_status': '', 'decimal': 1}, {'indicator': {'id': 'IC.REG.COST.PC.ZS', 'value': 'Cost of business start-up procedures (% of GNI per capita)'}, 'country': {'id': 'TH', 'value': 'Thailand'}, 'countryiso3code': 'THA', 'date': '2014', 'value': 6.6, 'unit': '', 'obs_status': '', 'decimal': 1}, {'indicator': {'id': 'IC.REG.COST.PC.ZS', 'value': 'Cost of business start-up procedures (% of GNI per capita)'}, 'country': {'id': 'TH', 'value': 'Thailand'}, 'countryiso3code': 'THA', 'date': '2013', 'value': 6.7, 'unit': '', 'obs_status': '', 'decimal': 1}, {'indicator': {'id': 'IC.REG.COST.PC.ZS', 'value': 'Cost of business start-up procedures (% of GNI per capita)'}, 'country': {'id': 'TH', 'value': 'Thailand'}, 'countryiso3code': 'THA', 'date': '2012', 'value': 6.7, 'unit': '', 'obs_status': '', 'decimal': 1}, {'indicator': {'id': 'IC.REG.COST.PC.ZS', 'value': 'Cost of business start-up procedures (% of GNI per capita)'}, 'country': {'id': 'TH', 'value': 'Thailand'}, 'countryiso3code': 'THA', 'date': '2011', 'value': 7, 'unit': '', 'obs_status': '', 'decimal': 1}, {'indicator': {'id': 'IC.REG.COST.PC.ZS', 'value': 'Cost of business start-up procedures (% of GNI per capita)'}, 'country': {'id': 'TH', 'value': 'Thailand'}, 'countryiso3code': 'THA', 'date': '2010', 'value': 7.7, 'unit': '', 'obs_status': '', 'decimal': 1}, {'indicator': {'id': 'IC.REG.COST.PC.ZS', 'value': 'Cost of business start-up procedures (% of GNI per capita)'}, 'country': {'id': 'TH', 'value': 'Thailand'}, 'countryiso3code': 'THA', 'date': '2009', 'value': 17.1, 'unit': '', 'obs_status': '', 'decimal': 1}, {'indicator': {'id': 'IC.REG.COST.PC.ZS', 'value': 'Cost of business start-up procedures (% of GNI per capita)'}, 'country': {'id': 'TH', 'value': 'Thailand'}, 'countryiso3code': 'THA', 'date': '2008', 'value': 14.7, 'unit': '', 'obs_status': '', 'decimal': 1}, {'indicator': {'id': 'IC.REG.COST.PC.ZS', 'value': 'Cost of business start-up procedures (% of GNI per capita)'}, 'country': {'id': 'TH', 'value': 'Thailand'}, 'countryiso3code': 'THA', 'date': '2007', 'value': 16.2, 'unit': '', 'obs_status': '', 'decimal': 1}, {'indicator': {'id': 'IC.REG.COST.PC.ZS', 'value': 'Cost of business start-up procedures (% of GNI per capita)'}, 'country': {'id': 'TH', 'value': 'Thailand'}, 'countryiso3code': 'THA', 'date': '2006', 'value': 16.3, 'unit': '', 'obs_status': '', 'decimal': 1}, {'indicator': {'id': 'IC.REG.COST.PC.ZS', 'value': 'Cost of business start-up procedures (% of GNI per capita)'}, 'country': {'id': 'TH', 'value': 'Thailand'}, 'countryiso3code': 'THA', 'date': '2005', 'value': 17.3, 'unit': '', 'obs_status': '', 'decimal': 1}, {'indicator': {'id': 'IC.REG.COST.PC.ZS', 'value': 'Cost of business start-up procedures (% of GNI per capita)'}, 'country': {'id': 'TH', 'value': 'Thailand'}, 'countryiso3code': 'THA', 'date': '2004', 'value': 18.4, 'unit': '', 'obs_status': '', 'decimal': 1}, {'indicator': {'id': 'IC.REG.COST.PC.ZS', 'value': 'Cost of business start-up procedures (% of GNI per capita)'}, 'country': {'id': 'TH', 'value': 'Thailand'}, 'countryiso3code': 'THA', 'date': '2003', 'value': 18.8, 'unit': '', 'obs_status': '', 'decimal': 1}, {'indicator': {'id': 'IC.REG.COST.PC.ZS', 'value': 'Cost of business start-up procedures (% of GNI per capita)'}, 'country': {'id': 'TH', 'value': 'Thailand'}, 'countryiso3code': 'THA', 'date': '2002', 'value': None, 'unit': '', 'obs_status': '', 'decimal': 1}, {'indicator': {'id': 'IC.REG.COST.PC.ZS', 'value': 'Cost of business start-up procedures (% of GNI per capita)'}, 'country': {'id': 'TH', 'value': 'Thailand'}, 'countryiso3code': 'THA', 'date': '2001', 'value': None, 'unit': '', 'obs_status': '', 'decimal': 1}, {'indicator': {'id': 'IC.REG.COST.PC.ZS', 'value': 'Cost of business start-up procedures (% of GNI per capita)'}, 'country': {'id': 'TH', 'value': 'Thailand'}, 'countryiso3code': 'THA', 'date': '2000', 'value': None, 'unit': '', 'obs_status': '', 'decimal': 1}, {'indicator': {'id': 'IC.REG.COST.PC.ZS', 'value': 'Cost of business start-up procedures (% of GNI per capita)'}, 'country': {'id': 'TH', 'value': 'Thailand'}, 'countryiso3code': 'THA', 'date': '1999', 'value': None, 'unit': '', 'obs_status': '', 'decimal': 1}, {'indicator': {'id': 'IC.REG.COST.PC.ZS', 'value': 'Cost of business start-up procedures (% of GNI per capita)'}, 'country': {'id': 'TH', 'value': 'Thailand'}, 'countryiso3code': 'THA', 'date': '1998', 'value': None, 'unit': '', 'obs_status': '', 'decimal': 1}, {'indicator': {'id': 'IC.REG.COST.PC.ZS', 'value': 'Cost of business start-up procedures (% of GNI per capita)'}, 'country': {'id': 'TH', 'value': 'Thailand'}, 'countryiso3code': 'THA', 'date': '1997', 'value': None, 'unit': '', 'obs_status': '', 'decimal': 1}, {'indicator': {'id': 'IC.REG.COST.PC.ZS', 'value': 'Cost of business start-up procedures (% of GNI per capita)'}, 'country': {'id': 'TH', 'value': 'Thailand'}, 'countryiso3code': 'THA', 'date': '1996', 'value': None, 'unit': '', 'obs_status': '', 'decimal': 1}, {'indicator': {'id': 'IC.REG.COST.PC.ZS', 'value': 'Cost of business start-up procedures (% of GNI per capita)'}, 'country': {'id': 'TH', 'value': 'Thailand'}, 'countryiso3code': 'THA', 'date': '1995', 'value': None, 'unit': '', 'obs_status': '', 'decimal': 1}, {'indicator': {'id': 'IC.REG.COST.PC.ZS', 'value': 'Cost of business start-up procedures (% of GNI per capita)'}, 'country': {'id': 'TH', 'value': 'Thailand'}, 'countryiso3code': 'THA', 'date': '1994', 'value': None, 'unit': '', 'obs_status': '', 'decimal': 1}, {'indicator': {'id': 'IC.REG.COST.PC.ZS', 'value': 'Cost of business start-up procedures (% of GNI per capita)'}, 'country': {'id': 'TH', 'value': 'Thailand'}, 'countryiso3code': 'THA', 'date': '1993', 'value': None, 'unit': '', 'obs_status': '', 'decimal': 1}, {'indicator': {'id': 'IC.REG.COST.PC.ZS', 'value': 'Cost of business start-up procedures (% of GNI per capita)'}, 'country': {'id': 'TH', 'value': 'Thailand'}, 'countryiso3code': 'THA', 'date': '1992', 'value': None, 'unit': '', 'obs_status': '', 'decimal': 1}, {'indicator': {'id': 'IC.REG.COST.PC.ZS', 'value': 'Cost of business start-up procedures (% of GNI per capita)'}, 'country': {'id': 'TH', 'value': 'Thailand'}, 'countryiso3code': 'THA', 'date': '1991', 'value': None, 'unit': '', 'obs_status': '', 'decimal': 1}, {'indicator': {'id': 'IC.REG.COST.PC.ZS', 'value': 'Cost of business start-up procedures (% of GNI per capita)'}, 'country': {'id': 'TH', 'value': 'Thailand'}, 'countryiso3code': 'THA', 'date': '1990', 'value': None, 'unit': '', 'obs_status': '', 'decimal': 1}, {'indicator': {'id': 'IC.REG.COST.PC.ZS', 'value': 'Cost of business start-up procedures (% of GNI per capita)'}, 'country': {'id': 'TH', 'value': 'Thailand'}, 'countryiso3code': 'THA', 'date': '1989', 'value': None, 'unit': '', 'obs_status': '', 'decimal': 1}, {'indicator': {'id': 'IC.REG.COST.PC.ZS', 'value': 'Cost of business start-up procedures (% of GNI per capita)'}, 'country': {'id': 'TH', 'value': 'Thailand'}, 'countryiso3code': 'THA', 'date': '1988', 'value': None, 'unit': '', 'obs_status': '', 'decimal': 1}, {'indicator': {'id': 'IC.REG.COST.PC.ZS', 'value': 'Cost of business start-up procedures (% of GNI per capita)'}, 'country': {'id': 'TH', 'value': 'Thailand'}, 'countryiso3code': 'THA', 'date': '1987', 'value': None, 'unit': '', 'obs_status': '', 'decimal': 1}, {'indicator': {'id': 'IC.REG.COST.PC.ZS', 'value': 'Cost of business start-up procedures (% of GNI per capita)'}, 'country': {'id': 'TH', 'value': 'Thailand'}, 'countryiso3code': 'THA', 'date': '1986', 'value': None, 'unit': '', 'obs_status': '', 'decimal': 1}, {'indicator': {'id': 'IC.REG.COST.PC.ZS', 'value': 'Cost of business start-up procedures (% of GNI per capita)'}, 'country': {'id': 'TH', 'value': 'Thailand'}, 'countryiso3code': 'THA', 'date': '1985', 'value': None, 'unit': '', 'obs_status': '', 'decimal': 1}, {'indicator': {'id': 'IC.REG.COST.PC.ZS', 'value': 'Cost of business start-up procedures (% of GNI per capita)'}, 'country': {'id': 'TH', 'value': 'Thailand'}, 'countryiso3code': 'THA', 'date': '1984', 'value': None, 'unit': '', 'obs_status': '', 'decimal': 1}, {'indicator': {'id': 'IC.REG.COST.PC.ZS', 'value': 'Cost of business start-up procedures (% of GNI per capita)'}, 'country': {'id': 'TH', 'value': 'Thailand'}, 'countryiso3code': 'THA', 'date': '1983', 'value': None, 'unit': '', 'obs_status': '', 'decimal': 1}, {'indicator': {'id': 'IC.REG.COST.PC.ZS', 'value': 'Cost of business start-up procedures (% of GNI per capita)'}, 'country': {'id': 'TH', 'value': 'Thailand'}, 'countryiso3code': 'THA', 'date': '1982', 'value': None, 'unit': '', 'obs_status': '', 'decimal': 1}, {'indicator': {'id': 'IC.REG.COST.PC.ZS', 'value': 'Cost of business start-up procedures (% of GNI per capita)'}, 'country': {'id': 'TH', 'value': 'Thailand'}, 'countryiso3code': 'THA', 'date': '1981', 'value': None, 'unit': '', 'obs_status': '', 'decimal': 1}, {'indicator': {'id': 'IC.REG.COST.PC.ZS', 'value': 'Cost of business start-up procedures (% of GNI per capita)'}, 'country': {'id': 'TH', 'value': 'Thailand'}, 'countryiso3code': 'THA', 'date': '1980', 'value': None, 'unit': '', 'obs_status': '', 'decimal': 1}, {'indicator': {'id': 'IC.REG.COST.PC.ZS', 'value': 'Cost of business start-up procedures (% of GNI per capita)'}, 'country': {'id': 'TH', 'value': 'Thailand'}, 'countryiso3code': 'THA', 'date': '1979', 'value': None, 'unit': '', 'obs_status': '', 'decimal': 1}, {'indicator': {'id': 'IC.REG.COST.PC.ZS', 'value': 'Cost of business start-up procedures (% of GNI per capita)'}, 'country': {'id': 'TH', 'value': 'Thailand'}, 'countryiso3code': 'THA', 'date': '1978', 'value': None, 'unit': '', 'obs_status': '', 'decimal': 1}, {'indicator': {'id': 'IC.REG.COST.PC.ZS', 'value': 'Cost of business start-up procedures (% of GNI per capita)'}, 'country': {'id': 'TH', 'value': 'Thailand'}, 'countryiso3code': 'THA', 'date': '1977', 'value': None, 'unit': '', 'obs_status': '', 'decimal': 1}, {'indicator': {'id': 'IC.REG.COST.PC.ZS', 'value': 'Cost of business start-up procedures (% of GNI per capita)'}, 'country': {'id': 'TH', 'value': 'Thailand'}, 'countryiso3code': 'THA', 'date': '1976', 'value': None, 'unit': '', 'obs_status': '', 'decimal': 1}, {'indicator': {'id': 'IC.REG.COST.PC.ZS', 'value': 'Cost of business start-up procedures (% of GNI per capita)'}, 'country': {'id': 'TH', 'value': 'Thailand'}, 'countryiso3code': 'THA', 'date': '1975', 'value': None, 'unit': '', 'obs_status': '', 'decimal': 1}, {'indicator': {'id': 'IC.REG.COST.PC.ZS', 'value': 'Cost of business start-up procedures (% of GNI per capita)'}, 'country': {'id': 'TH', 'value': 'Thailand'}, 'countryiso3code': 'THA', 'date': '1974', 'value': None, 'unit': '', 'obs_status': '', 'decimal': 1}, {'indicator': {'id': 'IC.REG.COST.PC.ZS', 'value': 'Cost of business start-up procedures (% of GNI per capita)'}, 'country': {'id': 'TH', 'value': 'Thailand'}, 'countryiso3code': 'THA', 'date': '1973', 'value': None, 'unit': '', 'obs_status': '', 'decimal': 1}, {'indicator': {'id': 'IC.REG.COST.PC.ZS', 'value': 'Cost of business start-up procedures (% of GNI per capita)'}, 'country': {'id': 'TH', 'value': 'Thailand'}, 'countryiso3code': 'THA', 'date': '1972', 'value': None, 'unit': '', 'obs_status': '', 'decimal': 1}, {'indicator': {'id': 'IC.REG.COST.PC.ZS', 'value': 'Cost of business start-up procedures (% of GNI per capita)'}, 'country': {'id': 'TH', 'value': 'Thailand'}, 'countryiso3code': 'THA', 'date': '1971', 'value': None, 'unit': '', 'obs_status': '', 'decimal': 1}]]\n",
            "WB_data_cost_THA.json\n"
          ]
        },
        {
          "output_type": "display_data",
          "data": {
            "application/javascript": [
              "\n",
              "    async function download(id, filename, size) {\n",
              "      if (!google.colab.kernel.accessAllowed) {\n",
              "        return;\n",
              "      }\n",
              "      const div = document.createElement('div');\n",
              "      const label = document.createElement('label');\n",
              "      label.textContent = `Downloading \"${filename}\": `;\n",
              "      div.appendChild(label);\n",
              "      const progress = document.createElement('progress');\n",
              "      progress.max = size;\n",
              "      div.appendChild(progress);\n",
              "      document.body.appendChild(div);\n",
              "\n",
              "      const buffers = [];\n",
              "      let downloaded = 0;\n",
              "\n",
              "      const channel = await google.colab.kernel.comms.open(id);\n",
              "      // Send a message to notify the kernel that we're ready.\n",
              "      channel.send({})\n",
              "\n",
              "      for await (const message of channel.messages) {\n",
              "        // Send a message to notify the kernel that we're ready.\n",
              "        channel.send({})\n",
              "        if (message.buffers) {\n",
              "          for (const buffer of message.buffers) {\n",
              "            buffers.push(buffer);\n",
              "            downloaded += buffer.byteLength;\n",
              "            progress.value = downloaded;\n",
              "          }\n",
              "        }\n",
              "      }\n",
              "      const blob = new Blob(buffers, {type: 'application/binary'});\n",
              "      const a = document.createElement('a');\n",
              "      a.href = window.URL.createObjectURL(blob);\n",
              "      a.download = filename;\n",
              "      div.appendChild(a);\n",
              "      a.click();\n",
              "      div.remove();\n",
              "    }\n",
              "  "
            ],
            "text/plain": [
              "<IPython.core.display.Javascript object>"
            ]
          },
          "metadata": {}
        },
        {
          "output_type": "display_data",
          "data": {
            "application/javascript": [
              "download(\"download_c78a8a08-104d-4d28-8ce4-d0df361e09a7\", \"WB_data_cost_THA.json\", 23612)"
            ],
            "text/plain": [
              "<IPython.core.display.Javascript object>"
            ]
          },
          "metadata": {}
        },
        {
          "output_type": "stream",
          "name": "stdout",
          "text": [
            "IDN\n",
            "http://api.worldbank.org/v2/country/IDN/indicator/IC.REG.COST.PC.ZS?format=json\n",
            "[{'page': 1, 'pages': 2, 'per_page': 50, 'total': 61, 'sourceid': '2', 'sourcename': 'World Development Indicators', 'lastupdated': '2021-10-28'}, [{'indicator': {'id': 'IC.REG.COST.PC.ZS', 'value': 'Cost of business start-up procedures (% of GNI per capita)'}, 'country': {'id': 'ID', 'value': 'Indonesia'}, 'countryiso3code': 'IDN', 'date': '2020', 'value': None, 'unit': '', 'obs_status': '', 'decimal': 1}, {'indicator': {'id': 'IC.REG.COST.PC.ZS', 'value': 'Cost of business start-up procedures (% of GNI per capita)'}, 'country': {'id': 'ID', 'value': 'Indonesia'}, 'countryiso3code': 'IDN', 'date': '2019', 'value': 5.7, 'unit': '', 'obs_status': '', 'decimal': 1}, {'indicator': {'id': 'IC.REG.COST.PC.ZS', 'value': 'Cost of business start-up procedures (% of GNI per capita)'}, 'country': {'id': 'ID', 'value': 'Indonesia'}, 'countryiso3code': 'IDN', 'date': '2018', 'value': 6.1, 'unit': '', 'obs_status': '', 'decimal': 1}, {'indicator': {'id': 'IC.REG.COST.PC.ZS', 'value': 'Cost of business start-up procedures (% of GNI per capita)'}, 'country': {'id': 'ID', 'value': 'Indonesia'}, 'countryiso3code': 'IDN', 'date': '2017', 'value': 11, 'unit': '', 'obs_status': '', 'decimal': 1}, {'indicator': {'id': 'IC.REG.COST.PC.ZS', 'value': 'Cost of business start-up procedures (% of GNI per capita)'}, 'country': {'id': 'ID', 'value': 'Indonesia'}, 'countryiso3code': 'IDN', 'date': '2016', 'value': 19.4, 'unit': '', 'obs_status': '', 'decimal': 1}, {'indicator': {'id': 'IC.REG.COST.PC.ZS', 'value': 'Cost of business start-up procedures (% of GNI per capita)'}, 'country': {'id': 'ID', 'value': 'Indonesia'}, 'countryiso3code': 'IDN', 'date': '2015', 'value': 20, 'unit': '', 'obs_status': '', 'decimal': 1}, {'indicator': {'id': 'IC.REG.COST.PC.ZS', 'value': 'Cost of business start-up procedures (% of GNI per capita)'}, 'country': {'id': 'ID', 'value': 'Indonesia'}, 'countryiso3code': 'IDN', 'date': '2014', 'value': 21.2, 'unit': '', 'obs_status': '', 'decimal': 1}, {'indicator': {'id': 'IC.REG.COST.PC.ZS', 'value': 'Cost of business start-up procedures (% of GNI per capita)'}, 'country': {'id': 'ID', 'value': 'Indonesia'}, 'countryiso3code': 'IDN', 'date': '2013', 'value': 22, 'unit': '', 'obs_status': '', 'decimal': 1}, {'indicator': {'id': 'IC.REG.COST.PC.ZS', 'value': 'Cost of business start-up procedures (% of GNI per capita)'}, 'country': {'id': 'ID', 'value': 'Indonesia'}, 'countryiso3code': 'IDN', 'date': '2012', 'value': None, 'unit': '', 'obs_status': '', 'decimal': 1}, {'indicator': {'id': 'IC.REG.COST.PC.ZS', 'value': 'Cost of business start-up procedures (% of GNI per capita)'}, 'country': {'id': 'ID', 'value': 'Indonesia'}, 'countryiso3code': 'IDN', 'date': '2011', 'value': None, 'unit': '', 'obs_status': '', 'decimal': 1}, {'indicator': {'id': 'IC.REG.COST.PC.ZS', 'value': 'Cost of business start-up procedures (% of GNI per capita)'}, 'country': {'id': 'ID', 'value': 'Indonesia'}, 'countryiso3code': 'IDN', 'date': '2010', 'value': None, 'unit': '', 'obs_status': '', 'decimal': 1}, {'indicator': {'id': 'IC.REG.COST.PC.ZS', 'value': 'Cost of business start-up procedures (% of GNI per capita)'}, 'country': {'id': 'ID', 'value': 'Indonesia'}, 'countryiso3code': 'IDN', 'date': '2009', 'value': None, 'unit': '', 'obs_status': '', 'decimal': 1}, {'indicator': {'id': 'IC.REG.COST.PC.ZS', 'value': 'Cost of business start-up procedures (% of GNI per capita)'}, 'country': {'id': 'ID', 'value': 'Indonesia'}, 'countryiso3code': 'IDN', 'date': '2008', 'value': None, 'unit': '', 'obs_status': '', 'decimal': 1}, {'indicator': {'id': 'IC.REG.COST.PC.ZS', 'value': 'Cost of business start-up procedures (% of GNI per capita)'}, 'country': {'id': 'ID', 'value': 'Indonesia'}, 'countryiso3code': 'IDN', 'date': '2007', 'value': None, 'unit': '', 'obs_status': '', 'decimal': 1}, {'indicator': {'id': 'IC.REG.COST.PC.ZS', 'value': 'Cost of business start-up procedures (% of GNI per capita)'}, 'country': {'id': 'ID', 'value': 'Indonesia'}, 'countryiso3code': 'IDN', 'date': '2006', 'value': None, 'unit': '', 'obs_status': '', 'decimal': 1}, {'indicator': {'id': 'IC.REG.COST.PC.ZS', 'value': 'Cost of business start-up procedures (% of GNI per capita)'}, 'country': {'id': 'ID', 'value': 'Indonesia'}, 'countryiso3code': 'IDN', 'date': '2005', 'value': None, 'unit': '', 'obs_status': '', 'decimal': 1}, {'indicator': {'id': 'IC.REG.COST.PC.ZS', 'value': 'Cost of business start-up procedures (% of GNI per capita)'}, 'country': {'id': 'ID', 'value': 'Indonesia'}, 'countryiso3code': 'IDN', 'date': '2004', 'value': None, 'unit': '', 'obs_status': '', 'decimal': 1}, {'indicator': {'id': 'IC.REG.COST.PC.ZS', 'value': 'Cost of business start-up procedures (% of GNI per capita)'}, 'country': {'id': 'ID', 'value': 'Indonesia'}, 'countryiso3code': 'IDN', 'date': '2003', 'value': None, 'unit': '', 'obs_status': '', 'decimal': 1}, {'indicator': {'id': 'IC.REG.COST.PC.ZS', 'value': 'Cost of business start-up procedures (% of GNI per capita)'}, 'country': {'id': 'ID', 'value': 'Indonesia'}, 'countryiso3code': 'IDN', 'date': '2002', 'value': None, 'unit': '', 'obs_status': '', 'decimal': 1}, {'indicator': {'id': 'IC.REG.COST.PC.ZS', 'value': 'Cost of business start-up procedures (% of GNI per capita)'}, 'country': {'id': 'ID', 'value': 'Indonesia'}, 'countryiso3code': 'IDN', 'date': '2001', 'value': None, 'unit': '', 'obs_status': '', 'decimal': 1}, {'indicator': {'id': 'IC.REG.COST.PC.ZS', 'value': 'Cost of business start-up procedures (% of GNI per capita)'}, 'country': {'id': 'ID', 'value': 'Indonesia'}, 'countryiso3code': 'IDN', 'date': '2000', 'value': None, 'unit': '', 'obs_status': '', 'decimal': 1}, {'indicator': {'id': 'IC.REG.COST.PC.ZS', 'value': 'Cost of business start-up procedures (% of GNI per capita)'}, 'country': {'id': 'ID', 'value': 'Indonesia'}, 'countryiso3code': 'IDN', 'date': '1999', 'value': None, 'unit': '', 'obs_status': '', 'decimal': 1}, {'indicator': {'id': 'IC.REG.COST.PC.ZS', 'value': 'Cost of business start-up procedures (% of GNI per capita)'}, 'country': {'id': 'ID', 'value': 'Indonesia'}, 'countryiso3code': 'IDN', 'date': '1998', 'value': None, 'unit': '', 'obs_status': '', 'decimal': 1}, {'indicator': {'id': 'IC.REG.COST.PC.ZS', 'value': 'Cost of business start-up procedures (% of GNI per capita)'}, 'country': {'id': 'ID', 'value': 'Indonesia'}, 'countryiso3code': 'IDN', 'date': '1997', 'value': None, 'unit': '', 'obs_status': '', 'decimal': 1}, {'indicator': {'id': 'IC.REG.COST.PC.ZS', 'value': 'Cost of business start-up procedures (% of GNI per capita)'}, 'country': {'id': 'ID', 'value': 'Indonesia'}, 'countryiso3code': 'IDN', 'date': '1996', 'value': None, 'unit': '', 'obs_status': '', 'decimal': 1}, {'indicator': {'id': 'IC.REG.COST.PC.ZS', 'value': 'Cost of business start-up procedures (% of GNI per capita)'}, 'country': {'id': 'ID', 'value': 'Indonesia'}, 'countryiso3code': 'IDN', 'date': '1995', 'value': None, 'unit': '', 'obs_status': '', 'decimal': 1}, {'indicator': {'id': 'IC.REG.COST.PC.ZS', 'value': 'Cost of business start-up procedures (% of GNI per capita)'}, 'country': {'id': 'ID', 'value': 'Indonesia'}, 'countryiso3code': 'IDN', 'date': '1994', 'value': None, 'unit': '', 'obs_status': '', 'decimal': 1}, {'indicator': {'id': 'IC.REG.COST.PC.ZS', 'value': 'Cost of business start-up procedures (% of GNI per capita)'}, 'country': {'id': 'ID', 'value': 'Indonesia'}, 'countryiso3code': 'IDN', 'date': '1993', 'value': None, 'unit': '', 'obs_status': '', 'decimal': 1}, {'indicator': {'id': 'IC.REG.COST.PC.ZS', 'value': 'Cost of business start-up procedures (% of GNI per capita)'}, 'country': {'id': 'ID', 'value': 'Indonesia'}, 'countryiso3code': 'IDN', 'date': '1992', 'value': None, 'unit': '', 'obs_status': '', 'decimal': 1}, {'indicator': {'id': 'IC.REG.COST.PC.ZS', 'value': 'Cost of business start-up procedures (% of GNI per capita)'}, 'country': {'id': 'ID', 'value': 'Indonesia'}, 'countryiso3code': 'IDN', 'date': '1991', 'value': None, 'unit': '', 'obs_status': '', 'decimal': 1}, {'indicator': {'id': 'IC.REG.COST.PC.ZS', 'value': 'Cost of business start-up procedures (% of GNI per capita)'}, 'country': {'id': 'ID', 'value': 'Indonesia'}, 'countryiso3code': 'IDN', 'date': '1990', 'value': None, 'unit': '', 'obs_status': '', 'decimal': 1}, {'indicator': {'id': 'IC.REG.COST.PC.ZS', 'value': 'Cost of business start-up procedures (% of GNI per capita)'}, 'country': {'id': 'ID', 'value': 'Indonesia'}, 'countryiso3code': 'IDN', 'date': '1989', 'value': None, 'unit': '', 'obs_status': '', 'decimal': 1}, {'indicator': {'id': 'IC.REG.COST.PC.ZS', 'value': 'Cost of business start-up procedures (% of GNI per capita)'}, 'country': {'id': 'ID', 'value': 'Indonesia'}, 'countryiso3code': 'IDN', 'date': '1988', 'value': None, 'unit': '', 'obs_status': '', 'decimal': 1}, {'indicator': {'id': 'IC.REG.COST.PC.ZS', 'value': 'Cost of business start-up procedures (% of GNI per capita)'}, 'country': {'id': 'ID', 'value': 'Indonesia'}, 'countryiso3code': 'IDN', 'date': '1987', 'value': None, 'unit': '', 'obs_status': '', 'decimal': 1}, {'indicator': {'id': 'IC.REG.COST.PC.ZS', 'value': 'Cost of business start-up procedures (% of GNI per capita)'}, 'country': {'id': 'ID', 'value': 'Indonesia'}, 'countryiso3code': 'IDN', 'date': '1986', 'value': None, 'unit': '', 'obs_status': '', 'decimal': 1}, {'indicator': {'id': 'IC.REG.COST.PC.ZS', 'value': 'Cost of business start-up procedures (% of GNI per capita)'}, 'country': {'id': 'ID', 'value': 'Indonesia'}, 'countryiso3code': 'IDN', 'date': '1985', 'value': None, 'unit': '', 'obs_status': '', 'decimal': 1}, {'indicator': {'id': 'IC.REG.COST.PC.ZS', 'value': 'Cost of business start-up procedures (% of GNI per capita)'}, 'country': {'id': 'ID', 'value': 'Indonesia'}, 'countryiso3code': 'IDN', 'date': '1984', 'value': None, 'unit': '', 'obs_status': '', 'decimal': 1}, {'indicator': {'id': 'IC.REG.COST.PC.ZS', 'value': 'Cost of business start-up procedures (% of GNI per capita)'}, 'country': {'id': 'ID', 'value': 'Indonesia'}, 'countryiso3code': 'IDN', 'date': '1983', 'value': None, 'unit': '', 'obs_status': '', 'decimal': 1}, {'indicator': {'id': 'IC.REG.COST.PC.ZS', 'value': 'Cost of business start-up procedures (% of GNI per capita)'}, 'country': {'id': 'ID', 'value': 'Indonesia'}, 'countryiso3code': 'IDN', 'date': '1982', 'value': None, 'unit': '', 'obs_status': '', 'decimal': 1}, {'indicator': {'id': 'IC.REG.COST.PC.ZS', 'value': 'Cost of business start-up procedures (% of GNI per capita)'}, 'country': {'id': 'ID', 'value': 'Indonesia'}, 'countryiso3code': 'IDN', 'date': '1981', 'value': None, 'unit': '', 'obs_status': '', 'decimal': 1}, {'indicator': {'id': 'IC.REG.COST.PC.ZS', 'value': 'Cost of business start-up procedures (% of GNI per capita)'}, 'country': {'id': 'ID', 'value': 'Indonesia'}, 'countryiso3code': 'IDN', 'date': '1980', 'value': None, 'unit': '', 'obs_status': '', 'decimal': 1}, {'indicator': {'id': 'IC.REG.COST.PC.ZS', 'value': 'Cost of business start-up procedures (% of GNI per capita)'}, 'country': {'id': 'ID', 'value': 'Indonesia'}, 'countryiso3code': 'IDN', 'date': '1979', 'value': None, 'unit': '', 'obs_status': '', 'decimal': 1}, {'indicator': {'id': 'IC.REG.COST.PC.ZS', 'value': 'Cost of business start-up procedures (% of GNI per capita)'}, 'country': {'id': 'ID', 'value': 'Indonesia'}, 'countryiso3code': 'IDN', 'date': '1978', 'value': None, 'unit': '', 'obs_status': '', 'decimal': 1}, {'indicator': {'id': 'IC.REG.COST.PC.ZS', 'value': 'Cost of business start-up procedures (% of GNI per capita)'}, 'country': {'id': 'ID', 'value': 'Indonesia'}, 'countryiso3code': 'IDN', 'date': '1977', 'value': None, 'unit': '', 'obs_status': '', 'decimal': 1}, {'indicator': {'id': 'IC.REG.COST.PC.ZS', 'value': 'Cost of business start-up procedures (% of GNI per capita)'}, 'country': {'id': 'ID', 'value': 'Indonesia'}, 'countryiso3code': 'IDN', 'date': '1976', 'value': None, 'unit': '', 'obs_status': '', 'decimal': 1}, {'indicator': {'id': 'IC.REG.COST.PC.ZS', 'value': 'Cost of business start-up procedures (% of GNI per capita)'}, 'country': {'id': 'ID', 'value': 'Indonesia'}, 'countryiso3code': 'IDN', 'date': '1975', 'value': None, 'unit': '', 'obs_status': '', 'decimal': 1}, {'indicator': {'id': 'IC.REG.COST.PC.ZS', 'value': 'Cost of business start-up procedures (% of GNI per capita)'}, 'country': {'id': 'ID', 'value': 'Indonesia'}, 'countryiso3code': 'IDN', 'date': '1974', 'value': None, 'unit': '', 'obs_status': '', 'decimal': 1}, {'indicator': {'id': 'IC.REG.COST.PC.ZS', 'value': 'Cost of business start-up procedures (% of GNI per capita)'}, 'country': {'id': 'ID', 'value': 'Indonesia'}, 'countryiso3code': 'IDN', 'date': '1973', 'value': None, 'unit': '', 'obs_status': '', 'decimal': 1}, {'indicator': {'id': 'IC.REG.COST.PC.ZS', 'value': 'Cost of business start-up procedures (% of GNI per capita)'}, 'country': {'id': 'ID', 'value': 'Indonesia'}, 'countryiso3code': 'IDN', 'date': '1972', 'value': None, 'unit': '', 'obs_status': '', 'decimal': 1}, {'indicator': {'id': 'IC.REG.COST.PC.ZS', 'value': 'Cost of business start-up procedures (% of GNI per capita)'}, 'country': {'id': 'ID', 'value': 'Indonesia'}, 'countryiso3code': 'IDN', 'date': '1971', 'value': None, 'unit': '', 'obs_status': '', 'decimal': 1}]]\n",
            "WB_data_cost_IDN.json\n"
          ]
        },
        {
          "output_type": "display_data",
          "data": {
            "application/javascript": [
              "\n",
              "    async function download(id, filename, size) {\n",
              "      if (!google.colab.kernel.accessAllowed) {\n",
              "        return;\n",
              "      }\n",
              "      const div = document.createElement('div');\n",
              "      const label = document.createElement('label');\n",
              "      label.textContent = `Downloading \"${filename}\": `;\n",
              "      div.appendChild(label);\n",
              "      const progress = document.createElement('progress');\n",
              "      progress.max = size;\n",
              "      div.appendChild(progress);\n",
              "      document.body.appendChild(div);\n",
              "\n",
              "      const buffers = [];\n",
              "      let downloaded = 0;\n",
              "\n",
              "      const channel = await google.colab.kernel.comms.open(id);\n",
              "      // Send a message to notify the kernel that we're ready.\n",
              "      channel.send({})\n",
              "\n",
              "      for await (const message of channel.messages) {\n",
              "        // Send a message to notify the kernel that we're ready.\n",
              "        channel.send({})\n",
              "        if (message.buffers) {\n",
              "          for (const buffer of message.buffers) {\n",
              "            buffers.push(buffer);\n",
              "            downloaded += buffer.byteLength;\n",
              "            progress.value = downloaded;\n",
              "          }\n",
              "        }\n",
              "      }\n",
              "      const blob = new Blob(buffers, {type: 'application/binary'});\n",
              "      const a = document.createElement('a');\n",
              "      a.href = window.URL.createObjectURL(blob);\n",
              "      a.download = filename;\n",
              "      div.appendChild(a);\n",
              "      a.click();\n",
              "      div.remove();\n",
              "    }\n",
              "  "
            ],
            "text/plain": [
              "<IPython.core.display.Javascript object>"
            ]
          },
          "metadata": {}
        },
        {
          "output_type": "display_data",
          "data": {
            "application/javascript": [
              "download(\"download_860c4e53-6756-4c7b-be69-11d6c89174e2\", \"WB_data_cost_IDN.json\", 23668)"
            ],
            "text/plain": [
              "<IPython.core.display.Javascript object>"
            ]
          },
          "metadata": {}
        }
      ]
    },
    {
      "cell_type": "code",
      "metadata": {
        "colab": {
          "base_uri": "https://localhost:8080/",
          "height": 649
        },
        "id": "h1PIcjgQWohd",
        "outputId": "9950fa46-2e4f-42c1-d61f-70243895f2d4"
      },
      "source": [
        "url_base_two = \"http://api.worldbank.org/v2/country/{}/indicator/IC.REG.COST.PC.ZS?format=json\"\n",
        "\n",
        "country = ['CAN','USA','RUS','CHN','AUS','BRA','ISR','BOL','VEN']\n",
        "\n",
        "file_base_two = \"WB_data_cost_{}.json\"\n",
        "\n",
        "for i in country:\n",
        "  print(i)\n",
        "\n",
        "  URLtwo = url_base_two.format(i)\n",
        "\n",
        "  print(URLtwo)\n",
        "\n",
        "  data_two = requests.get(URLtwo).json()\n",
        "\n",
        "  print(data_two)\n",
        "\n",
        "  fileName_two = file_base_two.format(i)\n",
        "  print(fileName_two)\n",
        "\n",
        "  with open(fileName_two, 'w', encoding='utf-8') as f:\n",
        "     json.dump(data_two, f, ensure_ascii=False, indent=4)\n",
        "\n",
        "  files.download(fileName_two)"
      ],
      "execution_count": 28,
      "outputs": [
        {
          "output_type": "stream",
          "name": "stdout",
          "text": [
            "CAN\n",
            "http://api.worldbank.org/v2/country/CAN/indicator/IC.REG.COST.PC.ZS?format=json\n",
            "[{'page': 1, 'pages': 2, 'per_page': 50, 'total': 61, 'sourceid': '2', 'sourcename': 'World Development Indicators', 'lastupdated': '2021-10-28'}, [{'indicator': {'id': 'IC.REG.COST.PC.ZS', 'value': 'Cost of business start-up procedures (% of GNI per capita)'}, 'country': {'id': 'CA', 'value': 'Canada'}, 'countryiso3code': 'CAN', 'date': '2020', 'value': None, 'unit': '', 'obs_status': '', 'decimal': 1}, {'indicator': {'id': 'IC.REG.COST.PC.ZS', 'value': 'Cost of business start-up procedures (% of GNI per capita)'}, 'country': {'id': 'CA', 'value': 'Canada'}, 'countryiso3code': 'CAN', 'date': '2019', 'value': 0.3, 'unit': '', 'obs_status': '', 'decimal': 1}, {'indicator': {'id': 'IC.REG.COST.PC.ZS', 'value': 'Cost of business start-up procedures (% of GNI per capita)'}, 'country': {'id': 'CA', 'value': 'Canada'}, 'countryiso3code': 'CAN', 'date': '2018', 'value': 0.3, 'unit': '', 'obs_status': '', 'decimal': 1}, {'indicator': {'id': 'IC.REG.COST.PC.ZS', 'value': 'Cost of business start-up procedures (% of GNI per capita)'}, 'country': {'id': 'CA', 'value': 'Canada'}, 'countryiso3code': 'CAN', 'date': '2017', 'value': 0.4, 'unit': '', 'obs_status': '', 'decimal': 1}, {'indicator': {'id': 'IC.REG.COST.PC.ZS', 'value': 'Cost of business start-up procedures (% of GNI per capita)'}, 'country': {'id': 'CA', 'value': 'Canada'}, 'countryiso3code': 'CAN', 'date': '2016', 'value': 0.4, 'unit': '', 'obs_status': '', 'decimal': 1}, {'indicator': {'id': 'IC.REG.COST.PC.ZS', 'value': 'Cost of business start-up procedures (% of GNI per capita)'}, 'country': {'id': 'CA', 'value': 'Canada'}, 'countryiso3code': 'CAN', 'date': '2015', 'value': 0.4, 'unit': '', 'obs_status': '', 'decimal': 1}, {'indicator': {'id': 'IC.REG.COST.PC.ZS', 'value': 'Cost of business start-up procedures (% of GNI per capita)'}, 'country': {'id': 'CA', 'value': 'Canada'}, 'countryiso3code': 'CAN', 'date': '2014', 'value': 0.4, 'unit': '', 'obs_status': '', 'decimal': 1}, {'indicator': {'id': 'IC.REG.COST.PC.ZS', 'value': 'Cost of business start-up procedures (% of GNI per capita)'}, 'country': {'id': 'CA', 'value': 'Canada'}, 'countryiso3code': 'CAN', 'date': '2013', 'value': 0.4, 'unit': '', 'obs_status': '', 'decimal': 1}, {'indicator': {'id': 'IC.REG.COST.PC.ZS', 'value': 'Cost of business start-up procedures (% of GNI per capita)'}, 'country': {'id': 'CA', 'value': 'Canada'}, 'countryiso3code': 'CAN', 'date': '2012', 'value': 0.4, 'unit': '', 'obs_status': '', 'decimal': 1}, {'indicator': {'id': 'IC.REG.COST.PC.ZS', 'value': 'Cost of business start-up procedures (% of GNI per capita)'}, 'country': {'id': 'CA', 'value': 'Canada'}, 'countryiso3code': 'CAN', 'date': '2011', 'value': 0.4, 'unit': '', 'obs_status': '', 'decimal': 1}, {'indicator': {'id': 'IC.REG.COST.PC.ZS', 'value': 'Cost of business start-up procedures (% of GNI per capita)'}, 'country': {'id': 'CA', 'value': 'Canada'}, 'countryiso3code': 'CAN', 'date': '2010', 'value': 0.4, 'unit': '', 'obs_status': '', 'decimal': 1}, {'indicator': {'id': 'IC.REG.COST.PC.ZS', 'value': 'Cost of business start-up procedures (% of GNI per capita)'}, 'country': {'id': 'CA', 'value': 'Canada'}, 'countryiso3code': 'CAN', 'date': '2009', 'value': 0.4, 'unit': '', 'obs_status': '', 'decimal': 1}, {'indicator': {'id': 'IC.REG.COST.PC.ZS', 'value': 'Cost of business start-up procedures (% of GNI per capita)'}, 'country': {'id': 'CA', 'value': 'Canada'}, 'countryiso3code': 'CAN', 'date': '2008', 'value': 0.4, 'unit': '', 'obs_status': '', 'decimal': 1}, {'indicator': {'id': 'IC.REG.COST.PC.ZS', 'value': 'Cost of business start-up procedures (% of GNI per capita)'}, 'country': {'id': 'CA', 'value': 'Canada'}, 'countryiso3code': 'CAN', 'date': '2007', 'value': 0.8, 'unit': '', 'obs_status': '', 'decimal': 1}, {'indicator': {'id': 'IC.REG.COST.PC.ZS', 'value': 'Cost of business start-up procedures (% of GNI per capita)'}, 'country': {'id': 'CA', 'value': 'Canada'}, 'countryiso3code': 'CAN', 'date': '2006', 'value': 0.8, 'unit': '', 'obs_status': '', 'decimal': 1}, {'indicator': {'id': 'IC.REG.COST.PC.ZS', 'value': 'Cost of business start-up procedures (% of GNI per capita)'}, 'country': {'id': 'CA', 'value': 'Canada'}, 'countryiso3code': 'CAN', 'date': '2005', 'value': 0.9, 'unit': '', 'obs_status': '', 'decimal': 1}, {'indicator': {'id': 'IC.REG.COST.PC.ZS', 'value': 'Cost of business start-up procedures (% of GNI per capita)'}, 'country': {'id': 'CA', 'value': 'Canada'}, 'countryiso3code': 'CAN', 'date': '2004', 'value': 0.9, 'unit': '', 'obs_status': '', 'decimal': 1}, {'indicator': {'id': 'IC.REG.COST.PC.ZS', 'value': 'Cost of business start-up procedures (% of GNI per capita)'}, 'country': {'id': 'CA', 'value': 'Canada'}, 'countryiso3code': 'CAN', 'date': '2003', 'value': 0.6, 'unit': '', 'obs_status': '', 'decimal': 1}, {'indicator': {'id': 'IC.REG.COST.PC.ZS', 'value': 'Cost of business start-up procedures (% of GNI per capita)'}, 'country': {'id': 'CA', 'value': 'Canada'}, 'countryiso3code': 'CAN', 'date': '2002', 'value': None, 'unit': '', 'obs_status': '', 'decimal': 1}, {'indicator': {'id': 'IC.REG.COST.PC.ZS', 'value': 'Cost of business start-up procedures (% of GNI per capita)'}, 'country': {'id': 'CA', 'value': 'Canada'}, 'countryiso3code': 'CAN', 'date': '2001', 'value': None, 'unit': '', 'obs_status': '', 'decimal': 1}, {'indicator': {'id': 'IC.REG.COST.PC.ZS', 'value': 'Cost of business start-up procedures (% of GNI per capita)'}, 'country': {'id': 'CA', 'value': 'Canada'}, 'countryiso3code': 'CAN', 'date': '2000', 'value': None, 'unit': '', 'obs_status': '', 'decimal': 1}, {'indicator': {'id': 'IC.REG.COST.PC.ZS', 'value': 'Cost of business start-up procedures (% of GNI per capita)'}, 'country': {'id': 'CA', 'value': 'Canada'}, 'countryiso3code': 'CAN', 'date': '1999', 'value': None, 'unit': '', 'obs_status': '', 'decimal': 1}, {'indicator': {'id': 'IC.REG.COST.PC.ZS', 'value': 'Cost of business start-up procedures (% of GNI per capita)'}, 'country': {'id': 'CA', 'value': 'Canada'}, 'countryiso3code': 'CAN', 'date': '1998', 'value': None, 'unit': '', 'obs_status': '', 'decimal': 1}, {'indicator': {'id': 'IC.REG.COST.PC.ZS', 'value': 'Cost of business start-up procedures (% of GNI per capita)'}, 'country': {'id': 'CA', 'value': 'Canada'}, 'countryiso3code': 'CAN', 'date': '1997', 'value': None, 'unit': '', 'obs_status': '', 'decimal': 1}, {'indicator': {'id': 'IC.REG.COST.PC.ZS', 'value': 'Cost of business start-up procedures (% of GNI per capita)'}, 'country': {'id': 'CA', 'value': 'Canada'}, 'countryiso3code': 'CAN', 'date': '1996', 'value': None, 'unit': '', 'obs_status': '', 'decimal': 1}, {'indicator': {'id': 'IC.REG.COST.PC.ZS', 'value': 'Cost of business start-up procedures (% of GNI per capita)'}, 'country': {'id': 'CA', 'value': 'Canada'}, 'countryiso3code': 'CAN', 'date': '1995', 'value': None, 'unit': '', 'obs_status': '', 'decimal': 1}, {'indicator': {'id': 'IC.REG.COST.PC.ZS', 'value': 'Cost of business start-up procedures (% of GNI per capita)'}, 'country': {'id': 'CA', 'value': 'Canada'}, 'countryiso3code': 'CAN', 'date': '1994', 'value': None, 'unit': '', 'obs_status': '', 'decimal': 1}, {'indicator': {'id': 'IC.REG.COST.PC.ZS', 'value': 'Cost of business start-up procedures (% of GNI per capita)'}, 'country': {'id': 'CA', 'value': 'Canada'}, 'countryiso3code': 'CAN', 'date': '1993', 'value': None, 'unit': '', 'obs_status': '', 'decimal': 1}, {'indicator': {'id': 'IC.REG.COST.PC.ZS', 'value': 'Cost of business start-up procedures (% of GNI per capita)'}, 'country': {'id': 'CA', 'value': 'Canada'}, 'countryiso3code': 'CAN', 'date': '1992', 'value': None, 'unit': '', 'obs_status': '', 'decimal': 1}, {'indicator': {'id': 'IC.REG.COST.PC.ZS', 'value': 'Cost of business start-up procedures (% of GNI per capita)'}, 'country': {'id': 'CA', 'value': 'Canada'}, 'countryiso3code': 'CAN', 'date': '1991', 'value': None, 'unit': '', 'obs_status': '', 'decimal': 1}, {'indicator': {'id': 'IC.REG.COST.PC.ZS', 'value': 'Cost of business start-up procedures (% of GNI per capita)'}, 'country': {'id': 'CA', 'value': 'Canada'}, 'countryiso3code': 'CAN', 'date': '1990', 'value': None, 'unit': '', 'obs_status': '', 'decimal': 1}, {'indicator': {'id': 'IC.REG.COST.PC.ZS', 'value': 'Cost of business start-up procedures (% of GNI per capita)'}, 'country': {'id': 'CA', 'value': 'Canada'}, 'countryiso3code': 'CAN', 'date': '1989', 'value': None, 'unit': '', 'obs_status': '', 'decimal': 1}, {'indicator': {'id': 'IC.REG.COST.PC.ZS', 'value': 'Cost of business start-up procedures (% of GNI per capita)'}, 'country': {'id': 'CA', 'value': 'Canada'}, 'countryiso3code': 'CAN', 'date': '1988', 'value': None, 'unit': '', 'obs_status': '', 'decimal': 1}, {'indicator': {'id': 'IC.REG.COST.PC.ZS', 'value': 'Cost of business start-up procedures (% of GNI per capita)'}, 'country': {'id': 'CA', 'value': 'Canada'}, 'countryiso3code': 'CAN', 'date': '1987', 'value': None, 'unit': '', 'obs_status': '', 'decimal': 1}, {'indicator': {'id': 'IC.REG.COST.PC.ZS', 'value': 'Cost of business start-up procedures (% of GNI per capita)'}, 'country': {'id': 'CA', 'value': 'Canada'}, 'countryiso3code': 'CAN', 'date': '1986', 'value': None, 'unit': '', 'obs_status': '', 'decimal': 1}, {'indicator': {'id': 'IC.REG.COST.PC.ZS', 'value': 'Cost of business start-up procedures (% of GNI per capita)'}, 'country': {'id': 'CA', 'value': 'Canada'}, 'countryiso3code': 'CAN', 'date': '1985', 'value': None, 'unit': '', 'obs_status': '', 'decimal': 1}, {'indicator': {'id': 'IC.REG.COST.PC.ZS', 'value': 'Cost of business start-up procedures (% of GNI per capita)'}, 'country': {'id': 'CA', 'value': 'Canada'}, 'countryiso3code': 'CAN', 'date': '1984', 'value': None, 'unit': '', 'obs_status': '', 'decimal': 1}, {'indicator': {'id': 'IC.REG.COST.PC.ZS', 'value': 'Cost of business start-up procedures (% of GNI per capita)'}, 'country': {'id': 'CA', 'value': 'Canada'}, 'countryiso3code': 'CAN', 'date': '1983', 'value': None, 'unit': '', 'obs_status': '', 'decimal': 1}, {'indicator': {'id': 'IC.REG.COST.PC.ZS', 'value': 'Cost of business start-up procedures (% of GNI per capita)'}, 'country': {'id': 'CA', 'value': 'Canada'}, 'countryiso3code': 'CAN', 'date': '1982', 'value': None, 'unit': '', 'obs_status': '', 'decimal': 1}, {'indicator': {'id': 'IC.REG.COST.PC.ZS', 'value': 'Cost of business start-up procedures (% of GNI per capita)'}, 'country': {'id': 'CA', 'value': 'Canada'}, 'countryiso3code': 'CAN', 'date': '1981', 'value': None, 'unit': '', 'obs_status': '', 'decimal': 1}, {'indicator': {'id': 'IC.REG.COST.PC.ZS', 'value': 'Cost of business start-up procedures (% of GNI per capita)'}, 'country': {'id': 'CA', 'value': 'Canada'}, 'countryiso3code': 'CAN', 'date': '1980', 'value': None, 'unit': '', 'obs_status': '', 'decimal': 1}, {'indicator': {'id': 'IC.REG.COST.PC.ZS', 'value': 'Cost of business start-up procedures (% of GNI per capita)'}, 'country': {'id': 'CA', 'value': 'Canada'}, 'countryiso3code': 'CAN', 'date': '1979', 'value': None, 'unit': '', 'obs_status': '', 'decimal': 1}, {'indicator': {'id': 'IC.REG.COST.PC.ZS', 'value': 'Cost of business start-up procedures (% of GNI per capita)'}, 'country': {'id': 'CA', 'value': 'Canada'}, 'countryiso3code': 'CAN', 'date': '1978', 'value': None, 'unit': '', 'obs_status': '', 'decimal': 1}, {'indicator': {'id': 'IC.REG.COST.PC.ZS', 'value': 'Cost of business start-up procedures (% of GNI per capita)'}, 'country': {'id': 'CA', 'value': 'Canada'}, 'countryiso3code': 'CAN', 'date': '1977', 'value': None, 'unit': '', 'obs_status': '', 'decimal': 1}, {'indicator': {'id': 'IC.REG.COST.PC.ZS', 'value': 'Cost of business start-up procedures (% of GNI per capita)'}, 'country': {'id': 'CA', 'value': 'Canada'}, 'countryiso3code': 'CAN', 'date': '1976', 'value': None, 'unit': '', 'obs_status': '', 'decimal': 1}, {'indicator': {'id': 'IC.REG.COST.PC.ZS', 'value': 'Cost of business start-up procedures (% of GNI per capita)'}, 'country': {'id': 'CA', 'value': 'Canada'}, 'countryiso3code': 'CAN', 'date': '1975', 'value': None, 'unit': '', 'obs_status': '', 'decimal': 1}, {'indicator': {'id': 'IC.REG.COST.PC.ZS', 'value': 'Cost of business start-up procedures (% of GNI per capita)'}, 'country': {'id': 'CA', 'value': 'Canada'}, 'countryiso3code': 'CAN', 'date': '1974', 'value': None, 'unit': '', 'obs_status': '', 'decimal': 1}, {'indicator': {'id': 'IC.REG.COST.PC.ZS', 'value': 'Cost of business start-up procedures (% of GNI per capita)'}, 'country': {'id': 'CA', 'value': 'Canada'}, 'countryiso3code': 'CAN', 'date': '1973', 'value': None, 'unit': '', 'obs_status': '', 'decimal': 1}, {'indicator': {'id': 'IC.REG.COST.PC.ZS', 'value': 'Cost of business start-up procedures (% of GNI per capita)'}, 'country': {'id': 'CA', 'value': 'Canada'}, 'countryiso3code': 'CAN', 'date': '1972', 'value': None, 'unit': '', 'obs_status': '', 'decimal': 1}, {'indicator': {'id': 'IC.REG.COST.PC.ZS', 'value': 'Cost of business start-up procedures (% of GNI per capita)'}, 'country': {'id': 'CA', 'value': 'Canada'}, 'countryiso3code': 'CAN', 'date': '1971', 'value': None, 'unit': '', 'obs_status': '', 'decimal': 1}]]\n",
            "WB_data_cost_CAN.json\n"
          ]
        },
        {
          "output_type": "display_data",
          "data": {
            "application/javascript": [
              "\n",
              "    async function download(id, filename, size) {\n",
              "      if (!google.colab.kernel.accessAllowed) {\n",
              "        return;\n",
              "      }\n",
              "      const div = document.createElement('div');\n",
              "      const label = document.createElement('label');\n",
              "      label.textContent = `Downloading \"${filename}\": `;\n",
              "      div.appendChild(label);\n",
              "      const progress = document.createElement('progress');\n",
              "      progress.max = size;\n",
              "      div.appendChild(progress);\n",
              "      document.body.appendChild(div);\n",
              "\n",
              "      const buffers = [];\n",
              "      let downloaded = 0;\n",
              "\n",
              "      const channel = await google.colab.kernel.comms.open(id);\n",
              "      // Send a message to notify the kernel that we're ready.\n",
              "      channel.send({})\n",
              "\n",
              "      for await (const message of channel.messages) {\n",
              "        // Send a message to notify the kernel that we're ready.\n",
              "        channel.send({})\n",
              "        if (message.buffers) {\n",
              "          for (const buffer of message.buffers) {\n",
              "            buffers.push(buffer);\n",
              "            downloaded += buffer.byteLength;\n",
              "            progress.value = downloaded;\n",
              "          }\n",
              "        }\n",
              "      }\n",
              "      const blob = new Blob(buffers, {type: 'application/binary'});\n",
              "      const a = document.createElement('a');\n",
              "      a.href = window.URL.createObjectURL(blob);\n",
              "      a.download = filename;\n",
              "      div.appendChild(a);\n",
              "      a.click();\n",
              "      div.remove();\n",
              "    }\n",
              "  "
            ],
            "text/plain": [
              "<IPython.core.display.Javascript object>"
            ]
          },
          "metadata": {}
        },
        {
          "output_type": "display_data",
          "data": {
            "application/javascript": [
              "download(\"download_6b42cd1d-dc06-48ee-b482-1887298fd15b\", \"WB_data_cost_CAN.json\", 23509)"
            ],
            "text/plain": [
              "<IPython.core.display.Javascript object>"
            ]
          },
          "metadata": {}
        },
        {
          "output_type": "stream",
          "name": "stdout",
          "text": [
            "USA\n",
            "http://api.worldbank.org/v2/country/USA/indicator/IC.REG.COST.PC.ZS?format=json\n",
            "[{'page': 1, 'pages': 2, 'per_page': 50, 'total': 61, 'sourceid': '2', 'sourcename': 'World Development Indicators', 'lastupdated': '2021-10-28'}, [{'indicator': {'id': 'IC.REG.COST.PC.ZS', 'value': 'Cost of business start-up procedures (% of GNI per capita)'}, 'country': {'id': 'US', 'value': 'United States'}, 'countryiso3code': 'USA', 'date': '2020', 'value': None, 'unit': '', 'obs_status': '', 'decimal': 1}, {'indicator': {'id': 'IC.REG.COST.PC.ZS', 'value': 'Cost of business start-up procedures (% of GNI per capita)'}, 'country': {'id': 'US', 'value': 'United States'}, 'countryiso3code': 'USA', 'date': '2019', 'value': 1, 'unit': '', 'obs_status': '', 'decimal': 1}, {'indicator': {'id': 'IC.REG.COST.PC.ZS', 'value': 'Cost of business start-up procedures (% of GNI per capita)'}, 'country': {'id': 'US', 'value': 'United States'}, 'countryiso3code': 'USA', 'date': '2018', 'value': 1, 'unit': '', 'obs_status': '', 'decimal': 1}, {'indicator': {'id': 'IC.REG.COST.PC.ZS', 'value': 'Cost of business start-up procedures (% of GNI per capita)'}, 'country': {'id': 'US', 'value': 'United States'}, 'countryiso3code': 'USA', 'date': '2017', 'value': 1.1, 'unit': '', 'obs_status': '', 'decimal': 1}, {'indicator': {'id': 'IC.REG.COST.PC.ZS', 'value': 'Cost of business start-up procedures (% of GNI per capita)'}, 'country': {'id': 'US', 'value': 'United States'}, 'countryiso3code': 'USA', 'date': '2016', 'value': 1.1, 'unit': '', 'obs_status': '', 'decimal': 1}, {'indicator': {'id': 'IC.REG.COST.PC.ZS', 'value': 'Cost of business start-up procedures (% of GNI per capita)'}, 'country': {'id': 'US', 'value': 'United States'}, 'countryiso3code': 'USA', 'date': '2015', 'value': 1.1, 'unit': '', 'obs_status': '', 'decimal': 1}, {'indicator': {'id': 'IC.REG.COST.PC.ZS', 'value': 'Cost of business start-up procedures (% of GNI per capita)'}, 'country': {'id': 'US', 'value': 'United States'}, 'countryiso3code': 'USA', 'date': '2014', 'value': 1.2, 'unit': '', 'obs_status': '', 'decimal': 1}, {'indicator': {'id': 'IC.REG.COST.PC.ZS', 'value': 'Cost of business start-up procedures (% of GNI per capita)'}, 'country': {'id': 'US', 'value': 'United States'}, 'countryiso3code': 'USA', 'date': '2013', 'value': 1.2, 'unit': '', 'obs_status': '', 'decimal': 1}, {'indicator': {'id': 'IC.REG.COST.PC.ZS', 'value': 'Cost of business start-up procedures (% of GNI per capita)'}, 'country': {'id': 'US', 'value': 'United States'}, 'countryiso3code': 'USA', 'date': '2012', 'value': None, 'unit': '', 'obs_status': '', 'decimal': 1}, {'indicator': {'id': 'IC.REG.COST.PC.ZS', 'value': 'Cost of business start-up procedures (% of GNI per capita)'}, 'country': {'id': 'US', 'value': 'United States'}, 'countryiso3code': 'USA', 'date': '2011', 'value': None, 'unit': '', 'obs_status': '', 'decimal': 1}, {'indicator': {'id': 'IC.REG.COST.PC.ZS', 'value': 'Cost of business start-up procedures (% of GNI per capita)'}, 'country': {'id': 'US', 'value': 'United States'}, 'countryiso3code': 'USA', 'date': '2010', 'value': None, 'unit': '', 'obs_status': '', 'decimal': 1}, {'indicator': {'id': 'IC.REG.COST.PC.ZS', 'value': 'Cost of business start-up procedures (% of GNI per capita)'}, 'country': {'id': 'US', 'value': 'United States'}, 'countryiso3code': 'USA', 'date': '2009', 'value': None, 'unit': '', 'obs_status': '', 'decimal': 1}, {'indicator': {'id': 'IC.REG.COST.PC.ZS', 'value': 'Cost of business start-up procedures (% of GNI per capita)'}, 'country': {'id': 'US', 'value': 'United States'}, 'countryiso3code': 'USA', 'date': '2008', 'value': None, 'unit': '', 'obs_status': '', 'decimal': 1}, {'indicator': {'id': 'IC.REG.COST.PC.ZS', 'value': 'Cost of business start-up procedures (% of GNI per capita)'}, 'country': {'id': 'US', 'value': 'United States'}, 'countryiso3code': 'USA', 'date': '2007', 'value': None, 'unit': '', 'obs_status': '', 'decimal': 1}, {'indicator': {'id': 'IC.REG.COST.PC.ZS', 'value': 'Cost of business start-up procedures (% of GNI per capita)'}, 'country': {'id': 'US', 'value': 'United States'}, 'countryiso3code': 'USA', 'date': '2006', 'value': None, 'unit': '', 'obs_status': '', 'decimal': 1}, {'indicator': {'id': 'IC.REG.COST.PC.ZS', 'value': 'Cost of business start-up procedures (% of GNI per capita)'}, 'country': {'id': 'US', 'value': 'United States'}, 'countryiso3code': 'USA', 'date': '2005', 'value': None, 'unit': '', 'obs_status': '', 'decimal': 1}, {'indicator': {'id': 'IC.REG.COST.PC.ZS', 'value': 'Cost of business start-up procedures (% of GNI per capita)'}, 'country': {'id': 'US', 'value': 'United States'}, 'countryiso3code': 'USA', 'date': '2004', 'value': None, 'unit': '', 'obs_status': '', 'decimal': 1}, {'indicator': {'id': 'IC.REG.COST.PC.ZS', 'value': 'Cost of business start-up procedures (% of GNI per capita)'}, 'country': {'id': 'US', 'value': 'United States'}, 'countryiso3code': 'USA', 'date': '2003', 'value': None, 'unit': '', 'obs_status': '', 'decimal': 1}, {'indicator': {'id': 'IC.REG.COST.PC.ZS', 'value': 'Cost of business start-up procedures (% of GNI per capita)'}, 'country': {'id': 'US', 'value': 'United States'}, 'countryiso3code': 'USA', 'date': '2002', 'value': None, 'unit': '', 'obs_status': '', 'decimal': 1}, {'indicator': {'id': 'IC.REG.COST.PC.ZS', 'value': 'Cost of business start-up procedures (% of GNI per capita)'}, 'country': {'id': 'US', 'value': 'United States'}, 'countryiso3code': 'USA', 'date': '2001', 'value': None, 'unit': '', 'obs_status': '', 'decimal': 1}, {'indicator': {'id': 'IC.REG.COST.PC.ZS', 'value': 'Cost of business start-up procedures (% of GNI per capita)'}, 'country': {'id': 'US', 'value': 'United States'}, 'countryiso3code': 'USA', 'date': '2000', 'value': None, 'unit': '', 'obs_status': '', 'decimal': 1}, {'indicator': {'id': 'IC.REG.COST.PC.ZS', 'value': 'Cost of business start-up procedures (% of GNI per capita)'}, 'country': {'id': 'US', 'value': 'United States'}, 'countryiso3code': 'USA', 'date': '1999', 'value': None, 'unit': '', 'obs_status': '', 'decimal': 1}, {'indicator': {'id': 'IC.REG.COST.PC.ZS', 'value': 'Cost of business start-up procedures (% of GNI per capita)'}, 'country': {'id': 'US', 'value': 'United States'}, 'countryiso3code': 'USA', 'date': '1998', 'value': None, 'unit': '', 'obs_status': '', 'decimal': 1}, {'indicator': {'id': 'IC.REG.COST.PC.ZS', 'value': 'Cost of business start-up procedures (% of GNI per capita)'}, 'country': {'id': 'US', 'value': 'United States'}, 'countryiso3code': 'USA', 'date': '1997', 'value': None, 'unit': '', 'obs_status': '', 'decimal': 1}, {'indicator': {'id': 'IC.REG.COST.PC.ZS', 'value': 'Cost of business start-up procedures (% of GNI per capita)'}, 'country': {'id': 'US', 'value': 'United States'}, 'countryiso3code': 'USA', 'date': '1996', 'value': None, 'unit': '', 'obs_status': '', 'decimal': 1}, {'indicator': {'id': 'IC.REG.COST.PC.ZS', 'value': 'Cost of business start-up procedures (% of GNI per capita)'}, 'country': {'id': 'US', 'value': 'United States'}, 'countryiso3code': 'USA', 'date': '1995', 'value': None, 'unit': '', 'obs_status': '', 'decimal': 1}, {'indicator': {'id': 'IC.REG.COST.PC.ZS', 'value': 'Cost of business start-up procedures (% of GNI per capita)'}, 'country': {'id': 'US', 'value': 'United States'}, 'countryiso3code': 'USA', 'date': '1994', 'value': None, 'unit': '', 'obs_status': '', 'decimal': 1}, {'indicator': {'id': 'IC.REG.COST.PC.ZS', 'value': 'Cost of business start-up procedures (% of GNI per capita)'}, 'country': {'id': 'US', 'value': 'United States'}, 'countryiso3code': 'USA', 'date': '1993', 'value': None, 'unit': '', 'obs_status': '', 'decimal': 1}, {'indicator': {'id': 'IC.REG.COST.PC.ZS', 'value': 'Cost of business start-up procedures (% of GNI per capita)'}, 'country': {'id': 'US', 'value': 'United States'}, 'countryiso3code': 'USA', 'date': '1992', 'value': None, 'unit': '', 'obs_status': '', 'decimal': 1}, {'indicator': {'id': 'IC.REG.COST.PC.ZS', 'value': 'Cost of business start-up procedures (% of GNI per capita)'}, 'country': {'id': 'US', 'value': 'United States'}, 'countryiso3code': 'USA', 'date': '1991', 'value': None, 'unit': '', 'obs_status': '', 'decimal': 1}, {'indicator': {'id': 'IC.REG.COST.PC.ZS', 'value': 'Cost of business start-up procedures (% of GNI per capita)'}, 'country': {'id': 'US', 'value': 'United States'}, 'countryiso3code': 'USA', 'date': '1990', 'value': None, 'unit': '', 'obs_status': '', 'decimal': 1}, {'indicator': {'id': 'IC.REG.COST.PC.ZS', 'value': 'Cost of business start-up procedures (% of GNI per capita)'}, 'country': {'id': 'US', 'value': 'United States'}, 'countryiso3code': 'USA', 'date': '1989', 'value': None, 'unit': '', 'obs_status': '', 'decimal': 1}, {'indicator': {'id': 'IC.REG.COST.PC.ZS', 'value': 'Cost of business start-up procedures (% of GNI per capita)'}, 'country': {'id': 'US', 'value': 'United States'}, 'countryiso3code': 'USA', 'date': '1988', 'value': None, 'unit': '', 'obs_status': '', 'decimal': 1}, {'indicator': {'id': 'IC.REG.COST.PC.ZS', 'value': 'Cost of business start-up procedures (% of GNI per capita)'}, 'country': {'id': 'US', 'value': 'United States'}, 'countryiso3code': 'USA', 'date': '1987', 'value': None, 'unit': '', 'obs_status': '', 'decimal': 1}, {'indicator': {'id': 'IC.REG.COST.PC.ZS', 'value': 'Cost of business start-up procedures (% of GNI per capita)'}, 'country': {'id': 'US', 'value': 'United States'}, 'countryiso3code': 'USA', 'date': '1986', 'value': None, 'unit': '', 'obs_status': '', 'decimal': 1}, {'indicator': {'id': 'IC.REG.COST.PC.ZS', 'value': 'Cost of business start-up procedures (% of GNI per capita)'}, 'country': {'id': 'US', 'value': 'United States'}, 'countryiso3code': 'USA', 'date': '1985', 'value': None, 'unit': '', 'obs_status': '', 'decimal': 1}, {'indicator': {'id': 'IC.REG.COST.PC.ZS', 'value': 'Cost of business start-up procedures (% of GNI per capita)'}, 'country': {'id': 'US', 'value': 'United States'}, 'countryiso3code': 'USA', 'date': '1984', 'value': None, 'unit': '', 'obs_status': '', 'decimal': 1}, {'indicator': {'id': 'IC.REG.COST.PC.ZS', 'value': 'Cost of business start-up procedures (% of GNI per capita)'}, 'country': {'id': 'US', 'value': 'United States'}, 'countryiso3code': 'USA', 'date': '1983', 'value': None, 'unit': '', 'obs_status': '', 'decimal': 1}, {'indicator': {'id': 'IC.REG.COST.PC.ZS', 'value': 'Cost of business start-up procedures (% of GNI per capita)'}, 'country': {'id': 'US', 'value': 'United States'}, 'countryiso3code': 'USA', 'date': '1982', 'value': None, 'unit': '', 'obs_status': '', 'decimal': 1}, {'indicator': {'id': 'IC.REG.COST.PC.ZS', 'value': 'Cost of business start-up procedures (% of GNI per capita)'}, 'country': {'id': 'US', 'value': 'United States'}, 'countryiso3code': 'USA', 'date': '1981', 'value': None, 'unit': '', 'obs_status': '', 'decimal': 1}, {'indicator': {'id': 'IC.REG.COST.PC.ZS', 'value': 'Cost of business start-up procedures (% of GNI per capita)'}, 'country': {'id': 'US', 'value': 'United States'}, 'countryiso3code': 'USA', 'date': '1980', 'value': None, 'unit': '', 'obs_status': '', 'decimal': 1}, {'indicator': {'id': 'IC.REG.COST.PC.ZS', 'value': 'Cost of business start-up procedures (% of GNI per capita)'}, 'country': {'id': 'US', 'value': 'United States'}, 'countryiso3code': 'USA', 'date': '1979', 'value': None, 'unit': '', 'obs_status': '', 'decimal': 1}, {'indicator': {'id': 'IC.REG.COST.PC.ZS', 'value': 'Cost of business start-up procedures (% of GNI per capita)'}, 'country': {'id': 'US', 'value': 'United States'}, 'countryiso3code': 'USA', 'date': '1978', 'value': None, 'unit': '', 'obs_status': '', 'decimal': 1}, {'indicator': {'id': 'IC.REG.COST.PC.ZS', 'value': 'Cost of business start-up procedures (% of GNI per capita)'}, 'country': {'id': 'US', 'value': 'United States'}, 'countryiso3code': 'USA', 'date': '1977', 'value': None, 'unit': '', 'obs_status': '', 'decimal': 1}, {'indicator': {'id': 'IC.REG.COST.PC.ZS', 'value': 'Cost of business start-up procedures (% of GNI per capita)'}, 'country': {'id': 'US', 'value': 'United States'}, 'countryiso3code': 'USA', 'date': '1976', 'value': None, 'unit': '', 'obs_status': '', 'decimal': 1}, {'indicator': {'id': 'IC.REG.COST.PC.ZS', 'value': 'Cost of business start-up procedures (% of GNI per capita)'}, 'country': {'id': 'US', 'value': 'United States'}, 'countryiso3code': 'USA', 'date': '1975', 'value': None, 'unit': '', 'obs_status': '', 'decimal': 1}, {'indicator': {'id': 'IC.REG.COST.PC.ZS', 'value': 'Cost of business start-up procedures (% of GNI per capita)'}, 'country': {'id': 'US', 'value': 'United States'}, 'countryiso3code': 'USA', 'date': '1974', 'value': None, 'unit': '', 'obs_status': '', 'decimal': 1}, {'indicator': {'id': 'IC.REG.COST.PC.ZS', 'value': 'Cost of business start-up procedures (% of GNI per capita)'}, 'country': {'id': 'US', 'value': 'United States'}, 'countryiso3code': 'USA', 'date': '1973', 'value': None, 'unit': '', 'obs_status': '', 'decimal': 1}, {'indicator': {'id': 'IC.REG.COST.PC.ZS', 'value': 'Cost of business start-up procedures (% of GNI per capita)'}, 'country': {'id': 'US', 'value': 'United States'}, 'countryiso3code': 'USA', 'date': '1972', 'value': None, 'unit': '', 'obs_status': '', 'decimal': 1}, {'indicator': {'id': 'IC.REG.COST.PC.ZS', 'value': 'Cost of business start-up procedures (% of GNI per capita)'}, 'country': {'id': 'US', 'value': 'United States'}, 'countryiso3code': 'USA', 'date': '1971', 'value': None, 'unit': '', 'obs_status': '', 'decimal': 1}]]\n",
            "WB_data_cost_USA.json\n"
          ]
        },
        {
          "output_type": "display_data",
          "data": {
            "application/javascript": [
              "\n",
              "    async function download(id, filename, size) {\n",
              "      if (!google.colab.kernel.accessAllowed) {\n",
              "        return;\n",
              "      }\n",
              "      const div = document.createElement('div');\n",
              "      const label = document.createElement('label');\n",
              "      label.textContent = `Downloading \"${filename}\": `;\n",
              "      div.appendChild(label);\n",
              "      const progress = document.createElement('progress');\n",
              "      progress.max = size;\n",
              "      div.appendChild(progress);\n",
              "      document.body.appendChild(div);\n",
              "\n",
              "      const buffers = [];\n",
              "      let downloaded = 0;\n",
              "\n",
              "      const channel = await google.colab.kernel.comms.open(id);\n",
              "      // Send a message to notify the kernel that we're ready.\n",
              "      channel.send({})\n",
              "\n",
              "      for await (const message of channel.messages) {\n",
              "        // Send a message to notify the kernel that we're ready.\n",
              "        channel.send({})\n",
              "        if (message.buffers) {\n",
              "          for (const buffer of message.buffers) {\n",
              "            buffers.push(buffer);\n",
              "            downloaded += buffer.byteLength;\n",
              "            progress.value = downloaded;\n",
              "          }\n",
              "        }\n",
              "      }\n",
              "      const blob = new Blob(buffers, {type: 'application/binary'});\n",
              "      const a = document.createElement('a');\n",
              "      a.href = window.URL.createObjectURL(blob);\n",
              "      a.download = filename;\n",
              "      div.appendChild(a);\n",
              "      a.click();\n",
              "      div.remove();\n",
              "    }\n",
              "  "
            ],
            "text/plain": [
              "<IPython.core.display.Javascript object>"
            ]
          },
          "metadata": {}
        },
        {
          "output_type": "display_data",
          "data": {
            "application/javascript": [
              "download(\"download_e010b0aa-897f-4e9d-86ce-20bbe64f132f\", \"WB_data_cost_USA.json\", 23865)"
            ],
            "text/plain": [
              "<IPython.core.display.Javascript object>"
            ]
          },
          "metadata": {}
        },
        {
          "output_type": "stream",
          "name": "stdout",
          "text": [
            "RUS\n",
            "http://api.worldbank.org/v2/country/RUS/indicator/IC.REG.COST.PC.ZS?format=json\n",
            "[{'page': 1, 'pages': 2, 'per_page': 50, 'total': 61, 'sourceid': '2', 'sourcename': 'World Development Indicators', 'lastupdated': '2021-10-28'}, [{'indicator': {'id': 'IC.REG.COST.PC.ZS', 'value': 'Cost of business start-up procedures (% of GNI per capita)'}, 'country': {'id': 'RU', 'value': 'Russian Federation'}, 'countryiso3code': 'RUS', 'date': '2020', 'value': None, 'unit': '', 'obs_status': '', 'decimal': 1}, {'indicator': {'id': 'IC.REG.COST.PC.ZS', 'value': 'Cost of business start-up procedures (% of GNI per capita)'}, 'country': {'id': 'RU', 'value': 'Russian Federation'}, 'countryiso3code': 'RUS', 'date': '2019', 'value': 1, 'unit': '', 'obs_status': '', 'decimal': 1}, {'indicator': {'id': 'IC.REG.COST.PC.ZS', 'value': 'Cost of business start-up procedures (% of GNI per capita)'}, 'country': {'id': 'RU', 'value': 'Russian Federation'}, 'countryiso3code': 'RUS', 'date': '2018', 'value': 1.1, 'unit': '', 'obs_status': '', 'decimal': 1}, {'indicator': {'id': 'IC.REG.COST.PC.ZS', 'value': 'Cost of business start-up procedures (% of GNI per capita)'}, 'country': {'id': 'RU', 'value': 'Russian Federation'}, 'countryiso3code': 'RUS', 'date': '2017', 'value': 1.1, 'unit': '', 'obs_status': '', 'decimal': 1}, {'indicator': {'id': 'IC.REG.COST.PC.ZS', 'value': 'Cost of business start-up procedures (% of GNI per capita)'}, 'country': {'id': 'RU', 'value': 'Russian Federation'}, 'countryiso3code': 'RUS', 'date': '2016', 'value': 1.2, 'unit': '', 'obs_status': '', 'decimal': 1}, {'indicator': {'id': 'IC.REG.COST.PC.ZS', 'value': 'Cost of business start-up procedures (% of GNI per capita)'}, 'country': {'id': 'RU', 'value': 'Russian Federation'}, 'countryiso3code': 'RUS', 'date': '2015', 'value': 1.4, 'unit': '', 'obs_status': '', 'decimal': 1}, {'indicator': {'id': 'IC.REG.COST.PC.ZS', 'value': 'Cost of business start-up procedures (% of GNI per capita)'}, 'country': {'id': 'RU', 'value': 'Russian Federation'}, 'countryiso3code': 'RUS', 'date': '2014', 'value': 1.4, 'unit': '', 'obs_status': '', 'decimal': 1}, {'indicator': {'id': 'IC.REG.COST.PC.ZS', 'value': 'Cost of business start-up procedures (% of GNI per capita)'}, 'country': {'id': 'RU', 'value': 'Russian Federation'}, 'countryiso3code': 'RUS', 'date': '2013', 'value': 1.5, 'unit': '', 'obs_status': '', 'decimal': 1}, {'indicator': {'id': 'IC.REG.COST.PC.ZS', 'value': 'Cost of business start-up procedures (% of GNI per capita)'}, 'country': {'id': 'RU', 'value': 'Russian Federation'}, 'countryiso3code': 'RUS', 'date': '2012', 'value': None, 'unit': '', 'obs_status': '', 'decimal': 1}, {'indicator': {'id': 'IC.REG.COST.PC.ZS', 'value': 'Cost of business start-up procedures (% of GNI per capita)'}, 'country': {'id': 'RU', 'value': 'Russian Federation'}, 'countryiso3code': 'RUS', 'date': '2011', 'value': None, 'unit': '', 'obs_status': '', 'decimal': 1}, {'indicator': {'id': 'IC.REG.COST.PC.ZS', 'value': 'Cost of business start-up procedures (% of GNI per capita)'}, 'country': {'id': 'RU', 'value': 'Russian Federation'}, 'countryiso3code': 'RUS', 'date': '2010', 'value': None, 'unit': '', 'obs_status': '', 'decimal': 1}, {'indicator': {'id': 'IC.REG.COST.PC.ZS', 'value': 'Cost of business start-up procedures (% of GNI per capita)'}, 'country': {'id': 'RU', 'value': 'Russian Federation'}, 'countryiso3code': 'RUS', 'date': '2009', 'value': None, 'unit': '', 'obs_status': '', 'decimal': 1}, {'indicator': {'id': 'IC.REG.COST.PC.ZS', 'value': 'Cost of business start-up procedures (% of GNI per capita)'}, 'country': {'id': 'RU', 'value': 'Russian Federation'}, 'countryiso3code': 'RUS', 'date': '2008', 'value': None, 'unit': '', 'obs_status': '', 'decimal': 1}, {'indicator': {'id': 'IC.REG.COST.PC.ZS', 'value': 'Cost of business start-up procedures (% of GNI per capita)'}, 'country': {'id': 'RU', 'value': 'Russian Federation'}, 'countryiso3code': 'RUS', 'date': '2007', 'value': None, 'unit': '', 'obs_status': '', 'decimal': 1}, {'indicator': {'id': 'IC.REG.COST.PC.ZS', 'value': 'Cost of business start-up procedures (% of GNI per capita)'}, 'country': {'id': 'RU', 'value': 'Russian Federation'}, 'countryiso3code': 'RUS', 'date': '2006', 'value': None, 'unit': '', 'obs_status': '', 'decimal': 1}, {'indicator': {'id': 'IC.REG.COST.PC.ZS', 'value': 'Cost of business start-up procedures (% of GNI per capita)'}, 'country': {'id': 'RU', 'value': 'Russian Federation'}, 'countryiso3code': 'RUS', 'date': '2005', 'value': None, 'unit': '', 'obs_status': '', 'decimal': 1}, {'indicator': {'id': 'IC.REG.COST.PC.ZS', 'value': 'Cost of business start-up procedures (% of GNI per capita)'}, 'country': {'id': 'RU', 'value': 'Russian Federation'}, 'countryiso3code': 'RUS', 'date': '2004', 'value': None, 'unit': '', 'obs_status': '', 'decimal': 1}, {'indicator': {'id': 'IC.REG.COST.PC.ZS', 'value': 'Cost of business start-up procedures (% of GNI per capita)'}, 'country': {'id': 'RU', 'value': 'Russian Federation'}, 'countryiso3code': 'RUS', 'date': '2003', 'value': None, 'unit': '', 'obs_status': '', 'decimal': 1}, {'indicator': {'id': 'IC.REG.COST.PC.ZS', 'value': 'Cost of business start-up procedures (% of GNI per capita)'}, 'country': {'id': 'RU', 'value': 'Russian Federation'}, 'countryiso3code': 'RUS', 'date': '2002', 'value': None, 'unit': '', 'obs_status': '', 'decimal': 1}, {'indicator': {'id': 'IC.REG.COST.PC.ZS', 'value': 'Cost of business start-up procedures (% of GNI per capita)'}, 'country': {'id': 'RU', 'value': 'Russian Federation'}, 'countryiso3code': 'RUS', 'date': '2001', 'value': None, 'unit': '', 'obs_status': '', 'decimal': 1}, {'indicator': {'id': 'IC.REG.COST.PC.ZS', 'value': 'Cost of business start-up procedures (% of GNI per capita)'}, 'country': {'id': 'RU', 'value': 'Russian Federation'}, 'countryiso3code': 'RUS', 'date': '2000', 'value': None, 'unit': '', 'obs_status': '', 'decimal': 1}, {'indicator': {'id': 'IC.REG.COST.PC.ZS', 'value': 'Cost of business start-up procedures (% of GNI per capita)'}, 'country': {'id': 'RU', 'value': 'Russian Federation'}, 'countryiso3code': 'RUS', 'date': '1999', 'value': None, 'unit': '', 'obs_status': '', 'decimal': 1}, {'indicator': {'id': 'IC.REG.COST.PC.ZS', 'value': 'Cost of business start-up procedures (% of GNI per capita)'}, 'country': {'id': 'RU', 'value': 'Russian Federation'}, 'countryiso3code': 'RUS', 'date': '1998', 'value': None, 'unit': '', 'obs_status': '', 'decimal': 1}, {'indicator': {'id': 'IC.REG.COST.PC.ZS', 'value': 'Cost of business start-up procedures (% of GNI per capita)'}, 'country': {'id': 'RU', 'value': 'Russian Federation'}, 'countryiso3code': 'RUS', 'date': '1997', 'value': None, 'unit': '', 'obs_status': '', 'decimal': 1}, {'indicator': {'id': 'IC.REG.COST.PC.ZS', 'value': 'Cost of business start-up procedures (% of GNI per capita)'}, 'country': {'id': 'RU', 'value': 'Russian Federation'}, 'countryiso3code': 'RUS', 'date': '1996', 'value': None, 'unit': '', 'obs_status': '', 'decimal': 1}, {'indicator': {'id': 'IC.REG.COST.PC.ZS', 'value': 'Cost of business start-up procedures (% of GNI per capita)'}, 'country': {'id': 'RU', 'value': 'Russian Federation'}, 'countryiso3code': 'RUS', 'date': '1995', 'value': None, 'unit': '', 'obs_status': '', 'decimal': 1}, {'indicator': {'id': 'IC.REG.COST.PC.ZS', 'value': 'Cost of business start-up procedures (% of GNI per capita)'}, 'country': {'id': 'RU', 'value': 'Russian Federation'}, 'countryiso3code': 'RUS', 'date': '1994', 'value': None, 'unit': '', 'obs_status': '', 'decimal': 1}, {'indicator': {'id': 'IC.REG.COST.PC.ZS', 'value': 'Cost of business start-up procedures (% of GNI per capita)'}, 'country': {'id': 'RU', 'value': 'Russian Federation'}, 'countryiso3code': 'RUS', 'date': '1993', 'value': None, 'unit': '', 'obs_status': '', 'decimal': 1}, {'indicator': {'id': 'IC.REG.COST.PC.ZS', 'value': 'Cost of business start-up procedures (% of GNI per capita)'}, 'country': {'id': 'RU', 'value': 'Russian Federation'}, 'countryiso3code': 'RUS', 'date': '1992', 'value': None, 'unit': '', 'obs_status': '', 'decimal': 1}, {'indicator': {'id': 'IC.REG.COST.PC.ZS', 'value': 'Cost of business start-up procedures (% of GNI per capita)'}, 'country': {'id': 'RU', 'value': 'Russian Federation'}, 'countryiso3code': 'RUS', 'date': '1991', 'value': None, 'unit': '', 'obs_status': '', 'decimal': 1}, {'indicator': {'id': 'IC.REG.COST.PC.ZS', 'value': 'Cost of business start-up procedures (% of GNI per capita)'}, 'country': {'id': 'RU', 'value': 'Russian Federation'}, 'countryiso3code': 'RUS', 'date': '1990', 'value': None, 'unit': '', 'obs_status': '', 'decimal': 1}, {'indicator': {'id': 'IC.REG.COST.PC.ZS', 'value': 'Cost of business start-up procedures (% of GNI per capita)'}, 'country': {'id': 'RU', 'value': 'Russian Federation'}, 'countryiso3code': 'RUS', 'date': '1989', 'value': None, 'unit': '', 'obs_status': '', 'decimal': 1}, {'indicator': {'id': 'IC.REG.COST.PC.ZS', 'value': 'Cost of business start-up procedures (% of GNI per capita)'}, 'country': {'id': 'RU', 'value': 'Russian Federation'}, 'countryiso3code': 'RUS', 'date': '1988', 'value': None, 'unit': '', 'obs_status': '', 'decimal': 1}, {'indicator': {'id': 'IC.REG.COST.PC.ZS', 'value': 'Cost of business start-up procedures (% of GNI per capita)'}, 'country': {'id': 'RU', 'value': 'Russian Federation'}, 'countryiso3code': 'RUS', 'date': '1987', 'value': None, 'unit': '', 'obs_status': '', 'decimal': 1}, {'indicator': {'id': 'IC.REG.COST.PC.ZS', 'value': 'Cost of business start-up procedures (% of GNI per capita)'}, 'country': {'id': 'RU', 'value': 'Russian Federation'}, 'countryiso3code': 'RUS', 'date': '1986', 'value': None, 'unit': '', 'obs_status': '', 'decimal': 1}, {'indicator': {'id': 'IC.REG.COST.PC.ZS', 'value': 'Cost of business start-up procedures (% of GNI per capita)'}, 'country': {'id': 'RU', 'value': 'Russian Federation'}, 'countryiso3code': 'RUS', 'date': '1985', 'value': None, 'unit': '', 'obs_status': '', 'decimal': 1}, {'indicator': {'id': 'IC.REG.COST.PC.ZS', 'value': 'Cost of business start-up procedures (% of GNI per capita)'}, 'country': {'id': 'RU', 'value': 'Russian Federation'}, 'countryiso3code': 'RUS', 'date': '1984', 'value': None, 'unit': '', 'obs_status': '', 'decimal': 1}, {'indicator': {'id': 'IC.REG.COST.PC.ZS', 'value': 'Cost of business start-up procedures (% of GNI per capita)'}, 'country': {'id': 'RU', 'value': 'Russian Federation'}, 'countryiso3code': 'RUS', 'date': '1983', 'value': None, 'unit': '', 'obs_status': '', 'decimal': 1}, {'indicator': {'id': 'IC.REG.COST.PC.ZS', 'value': 'Cost of business start-up procedures (% of GNI per capita)'}, 'country': {'id': 'RU', 'value': 'Russian Federation'}, 'countryiso3code': 'RUS', 'date': '1982', 'value': None, 'unit': '', 'obs_status': '', 'decimal': 1}, {'indicator': {'id': 'IC.REG.COST.PC.ZS', 'value': 'Cost of business start-up procedures (% of GNI per capita)'}, 'country': {'id': 'RU', 'value': 'Russian Federation'}, 'countryiso3code': 'RUS', 'date': '1981', 'value': None, 'unit': '', 'obs_status': '', 'decimal': 1}, {'indicator': {'id': 'IC.REG.COST.PC.ZS', 'value': 'Cost of business start-up procedures (% of GNI per capita)'}, 'country': {'id': 'RU', 'value': 'Russian Federation'}, 'countryiso3code': 'RUS', 'date': '1980', 'value': None, 'unit': '', 'obs_status': '', 'decimal': 1}, {'indicator': {'id': 'IC.REG.COST.PC.ZS', 'value': 'Cost of business start-up procedures (% of GNI per capita)'}, 'country': {'id': 'RU', 'value': 'Russian Federation'}, 'countryiso3code': 'RUS', 'date': '1979', 'value': None, 'unit': '', 'obs_status': '', 'decimal': 1}, {'indicator': {'id': 'IC.REG.COST.PC.ZS', 'value': 'Cost of business start-up procedures (% of GNI per capita)'}, 'country': {'id': 'RU', 'value': 'Russian Federation'}, 'countryiso3code': 'RUS', 'date': '1978', 'value': None, 'unit': '', 'obs_status': '', 'decimal': 1}, {'indicator': {'id': 'IC.REG.COST.PC.ZS', 'value': 'Cost of business start-up procedures (% of GNI per capita)'}, 'country': {'id': 'RU', 'value': 'Russian Federation'}, 'countryiso3code': 'RUS', 'date': '1977', 'value': None, 'unit': '', 'obs_status': '', 'decimal': 1}, {'indicator': {'id': 'IC.REG.COST.PC.ZS', 'value': 'Cost of business start-up procedures (% of GNI per capita)'}, 'country': {'id': 'RU', 'value': 'Russian Federation'}, 'countryiso3code': 'RUS', 'date': '1976', 'value': None, 'unit': '', 'obs_status': '', 'decimal': 1}, {'indicator': {'id': 'IC.REG.COST.PC.ZS', 'value': 'Cost of business start-up procedures (% of GNI per capita)'}, 'country': {'id': 'RU', 'value': 'Russian Federation'}, 'countryiso3code': 'RUS', 'date': '1975', 'value': None, 'unit': '', 'obs_status': '', 'decimal': 1}, {'indicator': {'id': 'IC.REG.COST.PC.ZS', 'value': 'Cost of business start-up procedures (% of GNI per capita)'}, 'country': {'id': 'RU', 'value': 'Russian Federation'}, 'countryiso3code': 'RUS', 'date': '1974', 'value': None, 'unit': '', 'obs_status': '', 'decimal': 1}, {'indicator': {'id': 'IC.REG.COST.PC.ZS', 'value': 'Cost of business start-up procedures (% of GNI per capita)'}, 'country': {'id': 'RU', 'value': 'Russian Federation'}, 'countryiso3code': 'RUS', 'date': '1973', 'value': None, 'unit': '', 'obs_status': '', 'decimal': 1}, {'indicator': {'id': 'IC.REG.COST.PC.ZS', 'value': 'Cost of business start-up procedures (% of GNI per capita)'}, 'country': {'id': 'RU', 'value': 'Russian Federation'}, 'countryiso3code': 'RUS', 'date': '1972', 'value': None, 'unit': '', 'obs_status': '', 'decimal': 1}, {'indicator': {'id': 'IC.REG.COST.PC.ZS', 'value': 'Cost of business start-up procedures (% of GNI per capita)'}, 'country': {'id': 'RU', 'value': 'Russian Federation'}, 'countryiso3code': 'RUS', 'date': '1971', 'value': None, 'unit': '', 'obs_status': '', 'decimal': 1}]]\n",
            "WB_data_cost_RUS.json\n"
          ]
        },
        {
          "output_type": "display_data",
          "data": {
            "application/javascript": [
              "\n",
              "    async function download(id, filename, size) {\n",
              "      if (!google.colab.kernel.accessAllowed) {\n",
              "        return;\n",
              "      }\n",
              "      const div = document.createElement('div');\n",
              "      const label = document.createElement('label');\n",
              "      label.textContent = `Downloading \"${filename}\": `;\n",
              "      div.appendChild(label);\n",
              "      const progress = document.createElement('progress');\n",
              "      progress.max = size;\n",
              "      div.appendChild(progress);\n",
              "      document.body.appendChild(div);\n",
              "\n",
              "      const buffers = [];\n",
              "      let downloaded = 0;\n",
              "\n",
              "      const channel = await google.colab.kernel.comms.open(id);\n",
              "      // Send a message to notify the kernel that we're ready.\n",
              "      channel.send({})\n",
              "\n",
              "      for await (const message of channel.messages) {\n",
              "        // Send a message to notify the kernel that we're ready.\n",
              "        channel.send({})\n",
              "        if (message.buffers) {\n",
              "          for (const buffer of message.buffers) {\n",
              "            buffers.push(buffer);\n",
              "            downloaded += buffer.byteLength;\n",
              "            progress.value = downloaded;\n",
              "          }\n",
              "        }\n",
              "      }\n",
              "      const blob = new Blob(buffers, {type: 'application/binary'});\n",
              "      const a = document.createElement('a');\n",
              "      a.href = window.URL.createObjectURL(blob);\n",
              "      a.download = filename;\n",
              "      div.appendChild(a);\n",
              "      a.click();\n",
              "      div.remove();\n",
              "    }\n",
              "  "
            ],
            "text/plain": [
              "<IPython.core.display.Javascript object>"
            ]
          },
          "metadata": {}
        },
        {
          "output_type": "display_data",
          "data": {
            "application/javascript": [
              "download(\"download_05ad5ee8-bc3b-4aa5-a40f-ab4821214d5e\", \"WB_data_cost_RUS.json\", 24117)"
            ],
            "text/plain": [
              "<IPython.core.display.Javascript object>"
            ]
          },
          "metadata": {}
        },
        {
          "output_type": "stream",
          "name": "stdout",
          "text": [
            "CHN\n",
            "http://api.worldbank.org/v2/country/CHN/indicator/IC.REG.COST.PC.ZS?format=json\n",
            "[{'page': 1, 'pages': 2, 'per_page': 50, 'total': 61, 'sourceid': '2', 'sourcename': 'World Development Indicators', 'lastupdated': '2021-10-28'}, [{'indicator': {'id': 'IC.REG.COST.PC.ZS', 'value': 'Cost of business start-up procedures (% of GNI per capita)'}, 'country': {'id': 'CN', 'value': 'China'}, 'countryiso3code': 'CHN', 'date': '2020', 'value': None, 'unit': '', 'obs_status': '', 'decimal': 1}, {'indicator': {'id': 'IC.REG.COST.PC.ZS', 'value': 'Cost of business start-up procedures (% of GNI per capita)'}, 'country': {'id': 'CN', 'value': 'China'}, 'countryiso3code': 'CHN', 'date': '2019', 'value': 1.1, 'unit': '', 'obs_status': '', 'decimal': 1}, {'indicator': {'id': 'IC.REG.COST.PC.ZS', 'value': 'Cost of business start-up procedures (% of GNI per capita)'}, 'country': {'id': 'CN', 'value': 'China'}, 'countryiso3code': 'CHN', 'date': '2018', 'value': 1.2, 'unit': '', 'obs_status': '', 'decimal': 1}, {'indicator': {'id': 'IC.REG.COST.PC.ZS', 'value': 'Cost of business start-up procedures (% of GNI per capita)'}, 'country': {'id': 'CN', 'value': 'China'}, 'countryiso3code': 'CHN', 'date': '2017', 'value': 1.5, 'unit': '', 'obs_status': '', 'decimal': 1}, {'indicator': {'id': 'IC.REG.COST.PC.ZS', 'value': 'Cost of business start-up procedures (% of GNI per capita)'}, 'country': {'id': 'CN', 'value': 'China'}, 'countryiso3code': 'CHN', 'date': '2016', 'value': 1.6, 'unit': '', 'obs_status': '', 'decimal': 1}, {'indicator': {'id': 'IC.REG.COST.PC.ZS', 'value': 'Cost of business start-up procedures (% of GNI per capita)'}, 'country': {'id': 'CN', 'value': 'China'}, 'countryiso3code': 'CHN', 'date': '2015', 'value': 1.7, 'unit': '', 'obs_status': '', 'decimal': 1}, {'indicator': {'id': 'IC.REG.COST.PC.ZS', 'value': 'Cost of business start-up procedures (% of GNI per capita)'}, 'country': {'id': 'CN', 'value': 'China'}, 'countryiso3code': 'CHN', 'date': '2014', 'value': 0.9, 'unit': '', 'obs_status': '', 'decimal': 1}, {'indicator': {'id': 'IC.REG.COST.PC.ZS', 'value': 'Cost of business start-up procedures (% of GNI per capita)'}, 'country': {'id': 'CN', 'value': 'China'}, 'countryiso3code': 'CHN', 'date': '2013', 'value': 1.9, 'unit': '', 'obs_status': '', 'decimal': 1}, {'indicator': {'id': 'IC.REG.COST.PC.ZS', 'value': 'Cost of business start-up procedures (% of GNI per capita)'}, 'country': {'id': 'CN', 'value': 'China'}, 'countryiso3code': 'CHN', 'date': '2012', 'value': None, 'unit': '', 'obs_status': '', 'decimal': 1}, {'indicator': {'id': 'IC.REG.COST.PC.ZS', 'value': 'Cost of business start-up procedures (% of GNI per capita)'}, 'country': {'id': 'CN', 'value': 'China'}, 'countryiso3code': 'CHN', 'date': '2011', 'value': None, 'unit': '', 'obs_status': '', 'decimal': 1}, {'indicator': {'id': 'IC.REG.COST.PC.ZS', 'value': 'Cost of business start-up procedures (% of GNI per capita)'}, 'country': {'id': 'CN', 'value': 'China'}, 'countryiso3code': 'CHN', 'date': '2010', 'value': None, 'unit': '', 'obs_status': '', 'decimal': 1}, {'indicator': {'id': 'IC.REG.COST.PC.ZS', 'value': 'Cost of business start-up procedures (% of GNI per capita)'}, 'country': {'id': 'CN', 'value': 'China'}, 'countryiso3code': 'CHN', 'date': '2009', 'value': None, 'unit': '', 'obs_status': '', 'decimal': 1}, {'indicator': {'id': 'IC.REG.COST.PC.ZS', 'value': 'Cost of business start-up procedures (% of GNI per capita)'}, 'country': {'id': 'CN', 'value': 'China'}, 'countryiso3code': 'CHN', 'date': '2008', 'value': None, 'unit': '', 'obs_status': '', 'decimal': 1}, {'indicator': {'id': 'IC.REG.COST.PC.ZS', 'value': 'Cost of business start-up procedures (% of GNI per capita)'}, 'country': {'id': 'CN', 'value': 'China'}, 'countryiso3code': 'CHN', 'date': '2007', 'value': None, 'unit': '', 'obs_status': '', 'decimal': 1}, {'indicator': {'id': 'IC.REG.COST.PC.ZS', 'value': 'Cost of business start-up procedures (% of GNI per capita)'}, 'country': {'id': 'CN', 'value': 'China'}, 'countryiso3code': 'CHN', 'date': '2006', 'value': None, 'unit': '', 'obs_status': '', 'decimal': 1}, {'indicator': {'id': 'IC.REG.COST.PC.ZS', 'value': 'Cost of business start-up procedures (% of GNI per capita)'}, 'country': {'id': 'CN', 'value': 'China'}, 'countryiso3code': 'CHN', 'date': '2005', 'value': None, 'unit': '', 'obs_status': '', 'decimal': 1}, {'indicator': {'id': 'IC.REG.COST.PC.ZS', 'value': 'Cost of business start-up procedures (% of GNI per capita)'}, 'country': {'id': 'CN', 'value': 'China'}, 'countryiso3code': 'CHN', 'date': '2004', 'value': None, 'unit': '', 'obs_status': '', 'decimal': 1}, {'indicator': {'id': 'IC.REG.COST.PC.ZS', 'value': 'Cost of business start-up procedures (% of GNI per capita)'}, 'country': {'id': 'CN', 'value': 'China'}, 'countryiso3code': 'CHN', 'date': '2003', 'value': None, 'unit': '', 'obs_status': '', 'decimal': 1}, {'indicator': {'id': 'IC.REG.COST.PC.ZS', 'value': 'Cost of business start-up procedures (% of GNI per capita)'}, 'country': {'id': 'CN', 'value': 'China'}, 'countryiso3code': 'CHN', 'date': '2002', 'value': None, 'unit': '', 'obs_status': '', 'decimal': 1}, {'indicator': {'id': 'IC.REG.COST.PC.ZS', 'value': 'Cost of business start-up procedures (% of GNI per capita)'}, 'country': {'id': 'CN', 'value': 'China'}, 'countryiso3code': 'CHN', 'date': '2001', 'value': None, 'unit': '', 'obs_status': '', 'decimal': 1}, {'indicator': {'id': 'IC.REG.COST.PC.ZS', 'value': 'Cost of business start-up procedures (% of GNI per capita)'}, 'country': {'id': 'CN', 'value': 'China'}, 'countryiso3code': 'CHN', 'date': '2000', 'value': None, 'unit': '', 'obs_status': '', 'decimal': 1}, {'indicator': {'id': 'IC.REG.COST.PC.ZS', 'value': 'Cost of business start-up procedures (% of GNI per capita)'}, 'country': {'id': 'CN', 'value': 'China'}, 'countryiso3code': 'CHN', 'date': '1999', 'value': None, 'unit': '', 'obs_status': '', 'decimal': 1}, {'indicator': {'id': 'IC.REG.COST.PC.ZS', 'value': 'Cost of business start-up procedures (% of GNI per capita)'}, 'country': {'id': 'CN', 'value': 'China'}, 'countryiso3code': 'CHN', 'date': '1998', 'value': None, 'unit': '', 'obs_status': '', 'decimal': 1}, {'indicator': {'id': 'IC.REG.COST.PC.ZS', 'value': 'Cost of business start-up procedures (% of GNI per capita)'}, 'country': {'id': 'CN', 'value': 'China'}, 'countryiso3code': 'CHN', 'date': '1997', 'value': None, 'unit': '', 'obs_status': '', 'decimal': 1}, {'indicator': {'id': 'IC.REG.COST.PC.ZS', 'value': 'Cost of business start-up procedures (% of GNI per capita)'}, 'country': {'id': 'CN', 'value': 'China'}, 'countryiso3code': 'CHN', 'date': '1996', 'value': None, 'unit': '', 'obs_status': '', 'decimal': 1}, {'indicator': {'id': 'IC.REG.COST.PC.ZS', 'value': 'Cost of business start-up procedures (% of GNI per capita)'}, 'country': {'id': 'CN', 'value': 'China'}, 'countryiso3code': 'CHN', 'date': '1995', 'value': None, 'unit': '', 'obs_status': '', 'decimal': 1}, {'indicator': {'id': 'IC.REG.COST.PC.ZS', 'value': 'Cost of business start-up procedures (% of GNI per capita)'}, 'country': {'id': 'CN', 'value': 'China'}, 'countryiso3code': 'CHN', 'date': '1994', 'value': None, 'unit': '', 'obs_status': '', 'decimal': 1}, {'indicator': {'id': 'IC.REG.COST.PC.ZS', 'value': 'Cost of business start-up procedures (% of GNI per capita)'}, 'country': {'id': 'CN', 'value': 'China'}, 'countryiso3code': 'CHN', 'date': '1993', 'value': None, 'unit': '', 'obs_status': '', 'decimal': 1}, {'indicator': {'id': 'IC.REG.COST.PC.ZS', 'value': 'Cost of business start-up procedures (% of GNI per capita)'}, 'country': {'id': 'CN', 'value': 'China'}, 'countryiso3code': 'CHN', 'date': '1992', 'value': None, 'unit': '', 'obs_status': '', 'decimal': 1}, {'indicator': {'id': 'IC.REG.COST.PC.ZS', 'value': 'Cost of business start-up procedures (% of GNI per capita)'}, 'country': {'id': 'CN', 'value': 'China'}, 'countryiso3code': 'CHN', 'date': '1991', 'value': None, 'unit': '', 'obs_status': '', 'decimal': 1}, {'indicator': {'id': 'IC.REG.COST.PC.ZS', 'value': 'Cost of business start-up procedures (% of GNI per capita)'}, 'country': {'id': 'CN', 'value': 'China'}, 'countryiso3code': 'CHN', 'date': '1990', 'value': None, 'unit': '', 'obs_status': '', 'decimal': 1}, {'indicator': {'id': 'IC.REG.COST.PC.ZS', 'value': 'Cost of business start-up procedures (% of GNI per capita)'}, 'country': {'id': 'CN', 'value': 'China'}, 'countryiso3code': 'CHN', 'date': '1989', 'value': None, 'unit': '', 'obs_status': '', 'decimal': 1}, {'indicator': {'id': 'IC.REG.COST.PC.ZS', 'value': 'Cost of business start-up procedures (% of GNI per capita)'}, 'country': {'id': 'CN', 'value': 'China'}, 'countryiso3code': 'CHN', 'date': '1988', 'value': None, 'unit': '', 'obs_status': '', 'decimal': 1}, {'indicator': {'id': 'IC.REG.COST.PC.ZS', 'value': 'Cost of business start-up procedures (% of GNI per capita)'}, 'country': {'id': 'CN', 'value': 'China'}, 'countryiso3code': 'CHN', 'date': '1987', 'value': None, 'unit': '', 'obs_status': '', 'decimal': 1}, {'indicator': {'id': 'IC.REG.COST.PC.ZS', 'value': 'Cost of business start-up procedures (% of GNI per capita)'}, 'country': {'id': 'CN', 'value': 'China'}, 'countryiso3code': 'CHN', 'date': '1986', 'value': None, 'unit': '', 'obs_status': '', 'decimal': 1}, {'indicator': {'id': 'IC.REG.COST.PC.ZS', 'value': 'Cost of business start-up procedures (% of GNI per capita)'}, 'country': {'id': 'CN', 'value': 'China'}, 'countryiso3code': 'CHN', 'date': '1985', 'value': None, 'unit': '', 'obs_status': '', 'decimal': 1}, {'indicator': {'id': 'IC.REG.COST.PC.ZS', 'value': 'Cost of business start-up procedures (% of GNI per capita)'}, 'country': {'id': 'CN', 'value': 'China'}, 'countryiso3code': 'CHN', 'date': '1984', 'value': None, 'unit': '', 'obs_status': '', 'decimal': 1}, {'indicator': {'id': 'IC.REG.COST.PC.ZS', 'value': 'Cost of business start-up procedures (% of GNI per capita)'}, 'country': {'id': 'CN', 'value': 'China'}, 'countryiso3code': 'CHN', 'date': '1983', 'value': None, 'unit': '', 'obs_status': '', 'decimal': 1}, {'indicator': {'id': 'IC.REG.COST.PC.ZS', 'value': 'Cost of business start-up procedures (% of GNI per capita)'}, 'country': {'id': 'CN', 'value': 'China'}, 'countryiso3code': 'CHN', 'date': '1982', 'value': None, 'unit': '', 'obs_status': '', 'decimal': 1}, {'indicator': {'id': 'IC.REG.COST.PC.ZS', 'value': 'Cost of business start-up procedures (% of GNI per capita)'}, 'country': {'id': 'CN', 'value': 'China'}, 'countryiso3code': 'CHN', 'date': '1981', 'value': None, 'unit': '', 'obs_status': '', 'decimal': 1}, {'indicator': {'id': 'IC.REG.COST.PC.ZS', 'value': 'Cost of business start-up procedures (% of GNI per capita)'}, 'country': {'id': 'CN', 'value': 'China'}, 'countryiso3code': 'CHN', 'date': '1980', 'value': None, 'unit': '', 'obs_status': '', 'decimal': 1}, {'indicator': {'id': 'IC.REG.COST.PC.ZS', 'value': 'Cost of business start-up procedures (% of GNI per capita)'}, 'country': {'id': 'CN', 'value': 'China'}, 'countryiso3code': 'CHN', 'date': '1979', 'value': None, 'unit': '', 'obs_status': '', 'decimal': 1}, {'indicator': {'id': 'IC.REG.COST.PC.ZS', 'value': 'Cost of business start-up procedures (% of GNI per capita)'}, 'country': {'id': 'CN', 'value': 'China'}, 'countryiso3code': 'CHN', 'date': '1978', 'value': None, 'unit': '', 'obs_status': '', 'decimal': 1}, {'indicator': {'id': 'IC.REG.COST.PC.ZS', 'value': 'Cost of business start-up procedures (% of GNI per capita)'}, 'country': {'id': 'CN', 'value': 'China'}, 'countryiso3code': 'CHN', 'date': '1977', 'value': None, 'unit': '', 'obs_status': '', 'decimal': 1}, {'indicator': {'id': 'IC.REG.COST.PC.ZS', 'value': 'Cost of business start-up procedures (% of GNI per capita)'}, 'country': {'id': 'CN', 'value': 'China'}, 'countryiso3code': 'CHN', 'date': '1976', 'value': None, 'unit': '', 'obs_status': '', 'decimal': 1}, {'indicator': {'id': 'IC.REG.COST.PC.ZS', 'value': 'Cost of business start-up procedures (% of GNI per capita)'}, 'country': {'id': 'CN', 'value': 'China'}, 'countryiso3code': 'CHN', 'date': '1975', 'value': None, 'unit': '', 'obs_status': '', 'decimal': 1}, {'indicator': {'id': 'IC.REG.COST.PC.ZS', 'value': 'Cost of business start-up procedures (% of GNI per capita)'}, 'country': {'id': 'CN', 'value': 'China'}, 'countryiso3code': 'CHN', 'date': '1974', 'value': None, 'unit': '', 'obs_status': '', 'decimal': 1}, {'indicator': {'id': 'IC.REG.COST.PC.ZS', 'value': 'Cost of business start-up procedures (% of GNI per capita)'}, 'country': {'id': 'CN', 'value': 'China'}, 'countryiso3code': 'CHN', 'date': '1973', 'value': None, 'unit': '', 'obs_status': '', 'decimal': 1}, {'indicator': {'id': 'IC.REG.COST.PC.ZS', 'value': 'Cost of business start-up procedures (% of GNI per capita)'}, 'country': {'id': 'CN', 'value': 'China'}, 'countryiso3code': 'CHN', 'date': '1972', 'value': None, 'unit': '', 'obs_status': '', 'decimal': 1}, {'indicator': {'id': 'IC.REG.COST.PC.ZS', 'value': 'Cost of business start-up procedures (% of GNI per capita)'}, 'country': {'id': 'CN', 'value': 'China'}, 'countryiso3code': 'CHN', 'date': '1971', 'value': None, 'unit': '', 'obs_status': '', 'decimal': 1}]]\n",
            "WB_data_cost_CHN.json\n"
          ]
        },
        {
          "output_type": "display_data",
          "data": {
            "application/javascript": [
              "\n",
              "    async function download(id, filename, size) {\n",
              "      if (!google.colab.kernel.accessAllowed) {\n",
              "        return;\n",
              "      }\n",
              "      const div = document.createElement('div');\n",
              "      const label = document.createElement('label');\n",
              "      label.textContent = `Downloading \"${filename}\": `;\n",
              "      div.appendChild(label);\n",
              "      const progress = document.createElement('progress');\n",
              "      progress.max = size;\n",
              "      div.appendChild(progress);\n",
              "      document.body.appendChild(div);\n",
              "\n",
              "      const buffers = [];\n",
              "      let downloaded = 0;\n",
              "\n",
              "      const channel = await google.colab.kernel.comms.open(id);\n",
              "      // Send a message to notify the kernel that we're ready.\n",
              "      channel.send({})\n",
              "\n",
              "      for await (const message of channel.messages) {\n",
              "        // Send a message to notify the kernel that we're ready.\n",
              "        channel.send({})\n",
              "        if (message.buffers) {\n",
              "          for (const buffer of message.buffers) {\n",
              "            buffers.push(buffer);\n",
              "            downloaded += buffer.byteLength;\n",
              "            progress.value = downloaded;\n",
              "          }\n",
              "        }\n",
              "      }\n",
              "      const blob = new Blob(buffers, {type: 'application/binary'});\n",
              "      const a = document.createElement('a');\n",
              "      a.href = window.URL.createObjectURL(blob);\n",
              "      a.download = filename;\n",
              "      div.appendChild(a);\n",
              "      a.click();\n",
              "      div.remove();\n",
              "    }\n",
              "  "
            ],
            "text/plain": [
              "<IPython.core.display.Javascript object>"
            ]
          },
          "metadata": {}
        },
        {
          "output_type": "display_data",
          "data": {
            "application/javascript": [
              "download(\"download_0353e6a6-e16b-4bca-9571-96d6e0484cbc\", \"WB_data_cost_CHN.json\", 23469)"
            ],
            "text/plain": [
              "<IPython.core.display.Javascript object>"
            ]
          },
          "metadata": {}
        },
        {
          "output_type": "stream",
          "name": "stdout",
          "text": [
            "AUS\n",
            "http://api.worldbank.org/v2/country/AUS/indicator/IC.REG.COST.PC.ZS?format=json\n",
            "[{'page': 1, 'pages': 2, 'per_page': 50, 'total': 61, 'sourceid': '2', 'sourcename': 'World Development Indicators', 'lastupdated': '2021-10-28'}, [{'indicator': {'id': 'IC.REG.COST.PC.ZS', 'value': 'Cost of business start-up procedures (% of GNI per capita)'}, 'country': {'id': 'AU', 'value': 'Australia'}, 'countryiso3code': 'AUS', 'date': '2020', 'value': None, 'unit': '', 'obs_status': '', 'decimal': 1}, {'indicator': {'id': 'IC.REG.COST.PC.ZS', 'value': 'Cost of business start-up procedures (% of GNI per capita)'}, 'country': {'id': 'AU', 'value': 'Australia'}, 'countryiso3code': 'AUS', 'date': '2019', 'value': 0.7, 'unit': '', 'obs_status': '', 'decimal': 1}, {'indicator': {'id': 'IC.REG.COST.PC.ZS', 'value': 'Cost of business start-up procedures (% of GNI per capita)'}, 'country': {'id': 'AU', 'value': 'Australia'}, 'countryiso3code': 'AUS', 'date': '2018', 'value': 0.7, 'unit': '', 'obs_status': '', 'decimal': 1}, {'indicator': {'id': 'IC.REG.COST.PC.ZS', 'value': 'Cost of business start-up procedures (% of GNI per capita)'}, 'country': {'id': 'AU', 'value': 'Australia'}, 'countryiso3code': 'AUS', 'date': '2017', 'value': 0.7, 'unit': '', 'obs_status': '', 'decimal': 1}, {'indicator': {'id': 'IC.REG.COST.PC.ZS', 'value': 'Cost of business start-up procedures (% of GNI per capita)'}, 'country': {'id': 'AU', 'value': 'Australia'}, 'countryiso3code': 'AUS', 'date': '2016', 'value': 0.7, 'unit': '', 'obs_status': '', 'decimal': 1}, {'indicator': {'id': 'IC.REG.COST.PC.ZS', 'value': 'Cost of business start-up procedures (% of GNI per capita)'}, 'country': {'id': 'AU', 'value': 'Australia'}, 'countryiso3code': 'AUS', 'date': '2015', 'value': 0.7, 'unit': '', 'obs_status': '', 'decimal': 1}, {'indicator': {'id': 'IC.REG.COST.PC.ZS', 'value': 'Cost of business start-up procedures (% of GNI per capita)'}, 'country': {'id': 'AU', 'value': 'Australia'}, 'countryiso3code': 'AUS', 'date': '2014', 'value': 0.7, 'unit': '', 'obs_status': '', 'decimal': 1}, {'indicator': {'id': 'IC.REG.COST.PC.ZS', 'value': 'Cost of business start-up procedures (% of GNI per capita)'}, 'country': {'id': 'AU', 'value': 'Australia'}, 'countryiso3code': 'AUS', 'date': '2013', 'value': 0.7, 'unit': '', 'obs_status': '', 'decimal': 1}, {'indicator': {'id': 'IC.REG.COST.PC.ZS', 'value': 'Cost of business start-up procedures (% of GNI per capita)'}, 'country': {'id': 'AU', 'value': 'Australia'}, 'countryiso3code': 'AUS', 'date': '2012', 'value': 0.7, 'unit': '', 'obs_status': '', 'decimal': 1}, {'indicator': {'id': 'IC.REG.COST.PC.ZS', 'value': 'Cost of business start-up procedures (% of GNI per capita)'}, 'country': {'id': 'AU', 'value': 'Australia'}, 'countryiso3code': 'AUS', 'date': '2011', 'value': 0.7, 'unit': '', 'obs_status': '', 'decimal': 1}, {'indicator': {'id': 'IC.REG.COST.PC.ZS', 'value': 'Cost of business start-up procedures (% of GNI per capita)'}, 'country': {'id': 'AU', 'value': 'Australia'}, 'countryiso3code': 'AUS', 'date': '2010', 'value': 0.7, 'unit': '', 'obs_status': '', 'decimal': 1}, {'indicator': {'id': 'IC.REG.COST.PC.ZS', 'value': 'Cost of business start-up procedures (% of GNI per capita)'}, 'country': {'id': 'AU', 'value': 'Australia'}, 'countryiso3code': 'AUS', 'date': '2009', 'value': 0.8, 'unit': '', 'obs_status': '', 'decimal': 1}, {'indicator': {'id': 'IC.REG.COST.PC.ZS', 'value': 'Cost of business start-up procedures (% of GNI per capita)'}, 'country': {'id': 'AU', 'value': 'Australia'}, 'countryiso3code': 'AUS', 'date': '2008', 'value': 0.8, 'unit': '', 'obs_status': '', 'decimal': 1}, {'indicator': {'id': 'IC.REG.COST.PC.ZS', 'value': 'Cost of business start-up procedures (% of GNI per capita)'}, 'country': {'id': 'AU', 'value': 'Australia'}, 'countryiso3code': 'AUS', 'date': '2007', 'value': 0.8, 'unit': '', 'obs_status': '', 'decimal': 1}, {'indicator': {'id': 'IC.REG.COST.PC.ZS', 'value': 'Cost of business start-up procedures (% of GNI per capita)'}, 'country': {'id': 'AU', 'value': 'Australia'}, 'countryiso3code': 'AUS', 'date': '2006', 'value': 1.8, 'unit': '', 'obs_status': '', 'decimal': 1}, {'indicator': {'id': 'IC.REG.COST.PC.ZS', 'value': 'Cost of business start-up procedures (% of GNI per capita)'}, 'country': {'id': 'AU', 'value': 'Australia'}, 'countryiso3code': 'AUS', 'date': '2005', 'value': 1.9, 'unit': '', 'obs_status': '', 'decimal': 1}, {'indicator': {'id': 'IC.REG.COST.PC.ZS', 'value': 'Cost of business start-up procedures (% of GNI per capita)'}, 'country': {'id': 'AU', 'value': 'Australia'}, 'countryiso3code': 'AUS', 'date': '2004', 'value': 2.1, 'unit': '', 'obs_status': '', 'decimal': 1}, {'indicator': {'id': 'IC.REG.COST.PC.ZS', 'value': 'Cost of business start-up procedures (% of GNI per capita)'}, 'country': {'id': 'AU', 'value': 'Australia'}, 'countryiso3code': 'AUS', 'date': '2003', 'value': 2, 'unit': '', 'obs_status': '', 'decimal': 1}, {'indicator': {'id': 'IC.REG.COST.PC.ZS', 'value': 'Cost of business start-up procedures (% of GNI per capita)'}, 'country': {'id': 'AU', 'value': 'Australia'}, 'countryiso3code': 'AUS', 'date': '2002', 'value': None, 'unit': '', 'obs_status': '', 'decimal': 1}, {'indicator': {'id': 'IC.REG.COST.PC.ZS', 'value': 'Cost of business start-up procedures (% of GNI per capita)'}, 'country': {'id': 'AU', 'value': 'Australia'}, 'countryiso3code': 'AUS', 'date': '2001', 'value': None, 'unit': '', 'obs_status': '', 'decimal': 1}, {'indicator': {'id': 'IC.REG.COST.PC.ZS', 'value': 'Cost of business start-up procedures (% of GNI per capita)'}, 'country': {'id': 'AU', 'value': 'Australia'}, 'countryiso3code': 'AUS', 'date': '2000', 'value': None, 'unit': '', 'obs_status': '', 'decimal': 1}, {'indicator': {'id': 'IC.REG.COST.PC.ZS', 'value': 'Cost of business start-up procedures (% of GNI per capita)'}, 'country': {'id': 'AU', 'value': 'Australia'}, 'countryiso3code': 'AUS', 'date': '1999', 'value': None, 'unit': '', 'obs_status': '', 'decimal': 1}, {'indicator': {'id': 'IC.REG.COST.PC.ZS', 'value': 'Cost of business start-up procedures (% of GNI per capita)'}, 'country': {'id': 'AU', 'value': 'Australia'}, 'countryiso3code': 'AUS', 'date': '1998', 'value': None, 'unit': '', 'obs_status': '', 'decimal': 1}, {'indicator': {'id': 'IC.REG.COST.PC.ZS', 'value': 'Cost of business start-up procedures (% of GNI per capita)'}, 'country': {'id': 'AU', 'value': 'Australia'}, 'countryiso3code': 'AUS', 'date': '1997', 'value': None, 'unit': '', 'obs_status': '', 'decimal': 1}, {'indicator': {'id': 'IC.REG.COST.PC.ZS', 'value': 'Cost of business start-up procedures (% of GNI per capita)'}, 'country': {'id': 'AU', 'value': 'Australia'}, 'countryiso3code': 'AUS', 'date': '1996', 'value': None, 'unit': '', 'obs_status': '', 'decimal': 1}, {'indicator': {'id': 'IC.REG.COST.PC.ZS', 'value': 'Cost of business start-up procedures (% of GNI per capita)'}, 'country': {'id': 'AU', 'value': 'Australia'}, 'countryiso3code': 'AUS', 'date': '1995', 'value': None, 'unit': '', 'obs_status': '', 'decimal': 1}, {'indicator': {'id': 'IC.REG.COST.PC.ZS', 'value': 'Cost of business start-up procedures (% of GNI per capita)'}, 'country': {'id': 'AU', 'value': 'Australia'}, 'countryiso3code': 'AUS', 'date': '1994', 'value': None, 'unit': '', 'obs_status': '', 'decimal': 1}, {'indicator': {'id': 'IC.REG.COST.PC.ZS', 'value': 'Cost of business start-up procedures (% of GNI per capita)'}, 'country': {'id': 'AU', 'value': 'Australia'}, 'countryiso3code': 'AUS', 'date': '1993', 'value': None, 'unit': '', 'obs_status': '', 'decimal': 1}, {'indicator': {'id': 'IC.REG.COST.PC.ZS', 'value': 'Cost of business start-up procedures (% of GNI per capita)'}, 'country': {'id': 'AU', 'value': 'Australia'}, 'countryiso3code': 'AUS', 'date': '1992', 'value': None, 'unit': '', 'obs_status': '', 'decimal': 1}, {'indicator': {'id': 'IC.REG.COST.PC.ZS', 'value': 'Cost of business start-up procedures (% of GNI per capita)'}, 'country': {'id': 'AU', 'value': 'Australia'}, 'countryiso3code': 'AUS', 'date': '1991', 'value': None, 'unit': '', 'obs_status': '', 'decimal': 1}, {'indicator': {'id': 'IC.REG.COST.PC.ZS', 'value': 'Cost of business start-up procedures (% of GNI per capita)'}, 'country': {'id': 'AU', 'value': 'Australia'}, 'countryiso3code': 'AUS', 'date': '1990', 'value': None, 'unit': '', 'obs_status': '', 'decimal': 1}, {'indicator': {'id': 'IC.REG.COST.PC.ZS', 'value': 'Cost of business start-up procedures (% of GNI per capita)'}, 'country': {'id': 'AU', 'value': 'Australia'}, 'countryiso3code': 'AUS', 'date': '1989', 'value': None, 'unit': '', 'obs_status': '', 'decimal': 1}, {'indicator': {'id': 'IC.REG.COST.PC.ZS', 'value': 'Cost of business start-up procedures (% of GNI per capita)'}, 'country': {'id': 'AU', 'value': 'Australia'}, 'countryiso3code': 'AUS', 'date': '1988', 'value': None, 'unit': '', 'obs_status': '', 'decimal': 1}, {'indicator': {'id': 'IC.REG.COST.PC.ZS', 'value': 'Cost of business start-up procedures (% of GNI per capita)'}, 'country': {'id': 'AU', 'value': 'Australia'}, 'countryiso3code': 'AUS', 'date': '1987', 'value': None, 'unit': '', 'obs_status': '', 'decimal': 1}, {'indicator': {'id': 'IC.REG.COST.PC.ZS', 'value': 'Cost of business start-up procedures (% of GNI per capita)'}, 'country': {'id': 'AU', 'value': 'Australia'}, 'countryiso3code': 'AUS', 'date': '1986', 'value': None, 'unit': '', 'obs_status': '', 'decimal': 1}, {'indicator': {'id': 'IC.REG.COST.PC.ZS', 'value': 'Cost of business start-up procedures (% of GNI per capita)'}, 'country': {'id': 'AU', 'value': 'Australia'}, 'countryiso3code': 'AUS', 'date': '1985', 'value': None, 'unit': '', 'obs_status': '', 'decimal': 1}, {'indicator': {'id': 'IC.REG.COST.PC.ZS', 'value': 'Cost of business start-up procedures (% of GNI per capita)'}, 'country': {'id': 'AU', 'value': 'Australia'}, 'countryiso3code': 'AUS', 'date': '1984', 'value': None, 'unit': '', 'obs_status': '', 'decimal': 1}, {'indicator': {'id': 'IC.REG.COST.PC.ZS', 'value': 'Cost of business start-up procedures (% of GNI per capita)'}, 'country': {'id': 'AU', 'value': 'Australia'}, 'countryiso3code': 'AUS', 'date': '1983', 'value': None, 'unit': '', 'obs_status': '', 'decimal': 1}, {'indicator': {'id': 'IC.REG.COST.PC.ZS', 'value': 'Cost of business start-up procedures (% of GNI per capita)'}, 'country': {'id': 'AU', 'value': 'Australia'}, 'countryiso3code': 'AUS', 'date': '1982', 'value': None, 'unit': '', 'obs_status': '', 'decimal': 1}, {'indicator': {'id': 'IC.REG.COST.PC.ZS', 'value': 'Cost of business start-up procedures (% of GNI per capita)'}, 'country': {'id': 'AU', 'value': 'Australia'}, 'countryiso3code': 'AUS', 'date': '1981', 'value': None, 'unit': '', 'obs_status': '', 'decimal': 1}, {'indicator': {'id': 'IC.REG.COST.PC.ZS', 'value': 'Cost of business start-up procedures (% of GNI per capita)'}, 'country': {'id': 'AU', 'value': 'Australia'}, 'countryiso3code': 'AUS', 'date': '1980', 'value': None, 'unit': '', 'obs_status': '', 'decimal': 1}, {'indicator': {'id': 'IC.REG.COST.PC.ZS', 'value': 'Cost of business start-up procedures (% of GNI per capita)'}, 'country': {'id': 'AU', 'value': 'Australia'}, 'countryiso3code': 'AUS', 'date': '1979', 'value': None, 'unit': '', 'obs_status': '', 'decimal': 1}, {'indicator': {'id': 'IC.REG.COST.PC.ZS', 'value': 'Cost of business start-up procedures (% of GNI per capita)'}, 'country': {'id': 'AU', 'value': 'Australia'}, 'countryiso3code': 'AUS', 'date': '1978', 'value': None, 'unit': '', 'obs_status': '', 'decimal': 1}, {'indicator': {'id': 'IC.REG.COST.PC.ZS', 'value': 'Cost of business start-up procedures (% of GNI per capita)'}, 'country': {'id': 'AU', 'value': 'Australia'}, 'countryiso3code': 'AUS', 'date': '1977', 'value': None, 'unit': '', 'obs_status': '', 'decimal': 1}, {'indicator': {'id': 'IC.REG.COST.PC.ZS', 'value': 'Cost of business start-up procedures (% of GNI per capita)'}, 'country': {'id': 'AU', 'value': 'Australia'}, 'countryiso3code': 'AUS', 'date': '1976', 'value': None, 'unit': '', 'obs_status': '', 'decimal': 1}, {'indicator': {'id': 'IC.REG.COST.PC.ZS', 'value': 'Cost of business start-up procedures (% of GNI per capita)'}, 'country': {'id': 'AU', 'value': 'Australia'}, 'countryiso3code': 'AUS', 'date': '1975', 'value': None, 'unit': '', 'obs_status': '', 'decimal': 1}, {'indicator': {'id': 'IC.REG.COST.PC.ZS', 'value': 'Cost of business start-up procedures (% of GNI per capita)'}, 'country': {'id': 'AU', 'value': 'Australia'}, 'countryiso3code': 'AUS', 'date': '1974', 'value': None, 'unit': '', 'obs_status': '', 'decimal': 1}, {'indicator': {'id': 'IC.REG.COST.PC.ZS', 'value': 'Cost of business start-up procedures (% of GNI per capita)'}, 'country': {'id': 'AU', 'value': 'Australia'}, 'countryiso3code': 'AUS', 'date': '1973', 'value': None, 'unit': '', 'obs_status': '', 'decimal': 1}, {'indicator': {'id': 'IC.REG.COST.PC.ZS', 'value': 'Cost of business start-up procedures (% of GNI per capita)'}, 'country': {'id': 'AU', 'value': 'Australia'}, 'countryiso3code': 'AUS', 'date': '1972', 'value': None, 'unit': '', 'obs_status': '', 'decimal': 1}, {'indicator': {'id': 'IC.REG.COST.PC.ZS', 'value': 'Cost of business start-up procedures (% of GNI per capita)'}, 'country': {'id': 'AU', 'value': 'Australia'}, 'countryiso3code': 'AUS', 'date': '1971', 'value': None, 'unit': '', 'obs_status': '', 'decimal': 1}]]\n",
            "WB_data_cost_AUS.json\n"
          ]
        },
        {
          "output_type": "display_data",
          "data": {
            "application/javascript": [
              "\n",
              "    async function download(id, filename, size) {\n",
              "      if (!google.colab.kernel.accessAllowed) {\n",
              "        return;\n",
              "      }\n",
              "      const div = document.createElement('div');\n",
              "      const label = document.createElement('label');\n",
              "      label.textContent = `Downloading \"${filename}\": `;\n",
              "      div.appendChild(label);\n",
              "      const progress = document.createElement('progress');\n",
              "      progress.max = size;\n",
              "      div.appendChild(progress);\n",
              "      document.body.appendChild(div);\n",
              "\n",
              "      const buffers = [];\n",
              "      let downloaded = 0;\n",
              "\n",
              "      const channel = await google.colab.kernel.comms.open(id);\n",
              "      // Send a message to notify the kernel that we're ready.\n",
              "      channel.send({})\n",
              "\n",
              "      for await (const message of channel.messages) {\n",
              "        // Send a message to notify the kernel that we're ready.\n",
              "        channel.send({})\n",
              "        if (message.buffers) {\n",
              "          for (const buffer of message.buffers) {\n",
              "            buffers.push(buffer);\n",
              "            downloaded += buffer.byteLength;\n",
              "            progress.value = downloaded;\n",
              "          }\n",
              "        }\n",
              "      }\n",
              "      const blob = new Blob(buffers, {type: 'application/binary'});\n",
              "      const a = document.createElement('a');\n",
              "      a.href = window.URL.createObjectURL(blob);\n",
              "      a.download = filename;\n",
              "      div.appendChild(a);\n",
              "      a.click();\n",
              "      div.remove();\n",
              "    }\n",
              "  "
            ],
            "text/plain": [
              "<IPython.core.display.Javascript object>"
            ]
          },
          "metadata": {}
        },
        {
          "output_type": "display_data",
          "data": {
            "application/javascript": [
              "download(\"download_54310f54-1e61-4211-b3fb-3f0beb63c4fb\", \"WB_data_cost_AUS.json\", 23657)"
            ],
            "text/plain": [
              "<IPython.core.display.Javascript object>"
            ]
          },
          "metadata": {}
        },
        {
          "output_type": "stream",
          "name": "stdout",
          "text": [
            "BRA\n",
            "http://api.worldbank.org/v2/country/BRA/indicator/IC.REG.COST.PC.ZS?format=json\n",
            "[{'page': 1, 'pages': 2, 'per_page': 50, 'total': 61, 'sourceid': '2', 'sourcename': 'World Development Indicators', 'lastupdated': '2021-10-28'}, [{'indicator': {'id': 'IC.REG.COST.PC.ZS', 'value': 'Cost of business start-up procedures (% of GNI per capita)'}, 'country': {'id': 'BR', 'value': 'Brazil'}, 'countryiso3code': 'BRA', 'date': '2020', 'value': None, 'unit': '', 'obs_status': '', 'decimal': 1}, {'indicator': {'id': 'IC.REG.COST.PC.ZS', 'value': 'Cost of business start-up procedures (% of GNI per capita)'}, 'country': {'id': 'BR', 'value': 'Brazil'}, 'countryiso3code': 'BRA', 'date': '2019', 'value': 4.2, 'unit': '', 'obs_status': '', 'decimal': 1}, {'indicator': {'id': 'IC.REG.COST.PC.ZS', 'value': 'Cost of business start-up procedures (% of GNI per capita)'}, 'country': {'id': 'BR', 'value': 'Brazil'}, 'countryiso3code': 'BRA', 'date': '2018', 'value': 4.7, 'unit': '', 'obs_status': '', 'decimal': 1}, {'indicator': {'id': 'IC.REG.COST.PC.ZS', 'value': 'Cost of business start-up procedures (% of GNI per capita)'}, 'country': {'id': 'BR', 'value': 'Brazil'}, 'countryiso3code': 'BRA', 'date': '2017', 'value': 4.8, 'unit': '', 'obs_status': '', 'decimal': 1}, {'indicator': {'id': 'IC.REG.COST.PC.ZS', 'value': 'Cost of business start-up procedures (% of GNI per capita)'}, 'country': {'id': 'BR', 'value': 'Brazil'}, 'countryiso3code': 'BRA', 'date': '2016', 'value': 5.2, 'unit': '', 'obs_status': '', 'decimal': 1}, {'indicator': {'id': 'IC.REG.COST.PC.ZS', 'value': 'Cost of business start-up procedures (% of GNI per capita)'}, 'country': {'id': 'BR', 'value': 'Brazil'}, 'countryiso3code': 'BRA', 'date': '2015', 'value': 4.8, 'unit': '', 'obs_status': '', 'decimal': 1}, {'indicator': {'id': 'IC.REG.COST.PC.ZS', 'value': 'Cost of business start-up procedures (% of GNI per capita)'}, 'country': {'id': 'BR', 'value': 'Brazil'}, 'countryiso3code': 'BRA', 'date': '2014', 'value': 5.5, 'unit': '', 'obs_status': '', 'decimal': 1}, {'indicator': {'id': 'IC.REG.COST.PC.ZS', 'value': 'Cost of business start-up procedures (% of GNI per capita)'}, 'country': {'id': 'BR', 'value': 'Brazil'}, 'countryiso3code': 'BRA', 'date': '2013', 'value': 5.9, 'unit': '', 'obs_status': '', 'decimal': 1}, {'indicator': {'id': 'IC.REG.COST.PC.ZS', 'value': 'Cost of business start-up procedures (% of GNI per capita)'}, 'country': {'id': 'BR', 'value': 'Brazil'}, 'countryiso3code': 'BRA', 'date': '2012', 'value': None, 'unit': '', 'obs_status': '', 'decimal': 1}, {'indicator': {'id': 'IC.REG.COST.PC.ZS', 'value': 'Cost of business start-up procedures (% of GNI per capita)'}, 'country': {'id': 'BR', 'value': 'Brazil'}, 'countryiso3code': 'BRA', 'date': '2011', 'value': None, 'unit': '', 'obs_status': '', 'decimal': 1}, {'indicator': {'id': 'IC.REG.COST.PC.ZS', 'value': 'Cost of business start-up procedures (% of GNI per capita)'}, 'country': {'id': 'BR', 'value': 'Brazil'}, 'countryiso3code': 'BRA', 'date': '2010', 'value': None, 'unit': '', 'obs_status': '', 'decimal': 1}, {'indicator': {'id': 'IC.REG.COST.PC.ZS', 'value': 'Cost of business start-up procedures (% of GNI per capita)'}, 'country': {'id': 'BR', 'value': 'Brazil'}, 'countryiso3code': 'BRA', 'date': '2009', 'value': None, 'unit': '', 'obs_status': '', 'decimal': 1}, {'indicator': {'id': 'IC.REG.COST.PC.ZS', 'value': 'Cost of business start-up procedures (% of GNI per capita)'}, 'country': {'id': 'BR', 'value': 'Brazil'}, 'countryiso3code': 'BRA', 'date': '2008', 'value': None, 'unit': '', 'obs_status': '', 'decimal': 1}, {'indicator': {'id': 'IC.REG.COST.PC.ZS', 'value': 'Cost of business start-up procedures (% of GNI per capita)'}, 'country': {'id': 'BR', 'value': 'Brazil'}, 'countryiso3code': 'BRA', 'date': '2007', 'value': None, 'unit': '', 'obs_status': '', 'decimal': 1}, {'indicator': {'id': 'IC.REG.COST.PC.ZS', 'value': 'Cost of business start-up procedures (% of GNI per capita)'}, 'country': {'id': 'BR', 'value': 'Brazil'}, 'countryiso3code': 'BRA', 'date': '2006', 'value': None, 'unit': '', 'obs_status': '', 'decimal': 1}, {'indicator': {'id': 'IC.REG.COST.PC.ZS', 'value': 'Cost of business start-up procedures (% of GNI per capita)'}, 'country': {'id': 'BR', 'value': 'Brazil'}, 'countryiso3code': 'BRA', 'date': '2005', 'value': None, 'unit': '', 'obs_status': '', 'decimal': 1}, {'indicator': {'id': 'IC.REG.COST.PC.ZS', 'value': 'Cost of business start-up procedures (% of GNI per capita)'}, 'country': {'id': 'BR', 'value': 'Brazil'}, 'countryiso3code': 'BRA', 'date': '2004', 'value': None, 'unit': '', 'obs_status': '', 'decimal': 1}, {'indicator': {'id': 'IC.REG.COST.PC.ZS', 'value': 'Cost of business start-up procedures (% of GNI per capita)'}, 'country': {'id': 'BR', 'value': 'Brazil'}, 'countryiso3code': 'BRA', 'date': '2003', 'value': None, 'unit': '', 'obs_status': '', 'decimal': 1}, {'indicator': {'id': 'IC.REG.COST.PC.ZS', 'value': 'Cost of business start-up procedures (% of GNI per capita)'}, 'country': {'id': 'BR', 'value': 'Brazil'}, 'countryiso3code': 'BRA', 'date': '2002', 'value': None, 'unit': '', 'obs_status': '', 'decimal': 1}, {'indicator': {'id': 'IC.REG.COST.PC.ZS', 'value': 'Cost of business start-up procedures (% of GNI per capita)'}, 'country': {'id': 'BR', 'value': 'Brazil'}, 'countryiso3code': 'BRA', 'date': '2001', 'value': None, 'unit': '', 'obs_status': '', 'decimal': 1}, {'indicator': {'id': 'IC.REG.COST.PC.ZS', 'value': 'Cost of business start-up procedures (% of GNI per capita)'}, 'country': {'id': 'BR', 'value': 'Brazil'}, 'countryiso3code': 'BRA', 'date': '2000', 'value': None, 'unit': '', 'obs_status': '', 'decimal': 1}, {'indicator': {'id': 'IC.REG.COST.PC.ZS', 'value': 'Cost of business start-up procedures (% of GNI per capita)'}, 'country': {'id': 'BR', 'value': 'Brazil'}, 'countryiso3code': 'BRA', 'date': '1999', 'value': None, 'unit': '', 'obs_status': '', 'decimal': 1}, {'indicator': {'id': 'IC.REG.COST.PC.ZS', 'value': 'Cost of business start-up procedures (% of GNI per capita)'}, 'country': {'id': 'BR', 'value': 'Brazil'}, 'countryiso3code': 'BRA', 'date': '1998', 'value': None, 'unit': '', 'obs_status': '', 'decimal': 1}, {'indicator': {'id': 'IC.REG.COST.PC.ZS', 'value': 'Cost of business start-up procedures (% of GNI per capita)'}, 'country': {'id': 'BR', 'value': 'Brazil'}, 'countryiso3code': 'BRA', 'date': '1997', 'value': None, 'unit': '', 'obs_status': '', 'decimal': 1}, {'indicator': {'id': 'IC.REG.COST.PC.ZS', 'value': 'Cost of business start-up procedures (% of GNI per capita)'}, 'country': {'id': 'BR', 'value': 'Brazil'}, 'countryiso3code': 'BRA', 'date': '1996', 'value': None, 'unit': '', 'obs_status': '', 'decimal': 1}, {'indicator': {'id': 'IC.REG.COST.PC.ZS', 'value': 'Cost of business start-up procedures (% of GNI per capita)'}, 'country': {'id': 'BR', 'value': 'Brazil'}, 'countryiso3code': 'BRA', 'date': '1995', 'value': None, 'unit': '', 'obs_status': '', 'decimal': 1}, {'indicator': {'id': 'IC.REG.COST.PC.ZS', 'value': 'Cost of business start-up procedures (% of GNI per capita)'}, 'country': {'id': 'BR', 'value': 'Brazil'}, 'countryiso3code': 'BRA', 'date': '1994', 'value': None, 'unit': '', 'obs_status': '', 'decimal': 1}, {'indicator': {'id': 'IC.REG.COST.PC.ZS', 'value': 'Cost of business start-up procedures (% of GNI per capita)'}, 'country': {'id': 'BR', 'value': 'Brazil'}, 'countryiso3code': 'BRA', 'date': '1993', 'value': None, 'unit': '', 'obs_status': '', 'decimal': 1}, {'indicator': {'id': 'IC.REG.COST.PC.ZS', 'value': 'Cost of business start-up procedures (% of GNI per capita)'}, 'country': {'id': 'BR', 'value': 'Brazil'}, 'countryiso3code': 'BRA', 'date': '1992', 'value': None, 'unit': '', 'obs_status': '', 'decimal': 1}, {'indicator': {'id': 'IC.REG.COST.PC.ZS', 'value': 'Cost of business start-up procedures (% of GNI per capita)'}, 'country': {'id': 'BR', 'value': 'Brazil'}, 'countryiso3code': 'BRA', 'date': '1991', 'value': None, 'unit': '', 'obs_status': '', 'decimal': 1}, {'indicator': {'id': 'IC.REG.COST.PC.ZS', 'value': 'Cost of business start-up procedures (% of GNI per capita)'}, 'country': {'id': 'BR', 'value': 'Brazil'}, 'countryiso3code': 'BRA', 'date': '1990', 'value': None, 'unit': '', 'obs_status': '', 'decimal': 1}, {'indicator': {'id': 'IC.REG.COST.PC.ZS', 'value': 'Cost of business start-up procedures (% of GNI per capita)'}, 'country': {'id': 'BR', 'value': 'Brazil'}, 'countryiso3code': 'BRA', 'date': '1989', 'value': None, 'unit': '', 'obs_status': '', 'decimal': 1}, {'indicator': {'id': 'IC.REG.COST.PC.ZS', 'value': 'Cost of business start-up procedures (% of GNI per capita)'}, 'country': {'id': 'BR', 'value': 'Brazil'}, 'countryiso3code': 'BRA', 'date': '1988', 'value': None, 'unit': '', 'obs_status': '', 'decimal': 1}, {'indicator': {'id': 'IC.REG.COST.PC.ZS', 'value': 'Cost of business start-up procedures (% of GNI per capita)'}, 'country': {'id': 'BR', 'value': 'Brazil'}, 'countryiso3code': 'BRA', 'date': '1987', 'value': None, 'unit': '', 'obs_status': '', 'decimal': 1}, {'indicator': {'id': 'IC.REG.COST.PC.ZS', 'value': 'Cost of business start-up procedures (% of GNI per capita)'}, 'country': {'id': 'BR', 'value': 'Brazil'}, 'countryiso3code': 'BRA', 'date': '1986', 'value': None, 'unit': '', 'obs_status': '', 'decimal': 1}, {'indicator': {'id': 'IC.REG.COST.PC.ZS', 'value': 'Cost of business start-up procedures (% of GNI per capita)'}, 'country': {'id': 'BR', 'value': 'Brazil'}, 'countryiso3code': 'BRA', 'date': '1985', 'value': None, 'unit': '', 'obs_status': '', 'decimal': 1}, {'indicator': {'id': 'IC.REG.COST.PC.ZS', 'value': 'Cost of business start-up procedures (% of GNI per capita)'}, 'country': {'id': 'BR', 'value': 'Brazil'}, 'countryiso3code': 'BRA', 'date': '1984', 'value': None, 'unit': '', 'obs_status': '', 'decimal': 1}, {'indicator': {'id': 'IC.REG.COST.PC.ZS', 'value': 'Cost of business start-up procedures (% of GNI per capita)'}, 'country': {'id': 'BR', 'value': 'Brazil'}, 'countryiso3code': 'BRA', 'date': '1983', 'value': None, 'unit': '', 'obs_status': '', 'decimal': 1}, {'indicator': {'id': 'IC.REG.COST.PC.ZS', 'value': 'Cost of business start-up procedures (% of GNI per capita)'}, 'country': {'id': 'BR', 'value': 'Brazil'}, 'countryiso3code': 'BRA', 'date': '1982', 'value': None, 'unit': '', 'obs_status': '', 'decimal': 1}, {'indicator': {'id': 'IC.REG.COST.PC.ZS', 'value': 'Cost of business start-up procedures (% of GNI per capita)'}, 'country': {'id': 'BR', 'value': 'Brazil'}, 'countryiso3code': 'BRA', 'date': '1981', 'value': None, 'unit': '', 'obs_status': '', 'decimal': 1}, {'indicator': {'id': 'IC.REG.COST.PC.ZS', 'value': 'Cost of business start-up procedures (% of GNI per capita)'}, 'country': {'id': 'BR', 'value': 'Brazil'}, 'countryiso3code': 'BRA', 'date': '1980', 'value': None, 'unit': '', 'obs_status': '', 'decimal': 1}, {'indicator': {'id': 'IC.REG.COST.PC.ZS', 'value': 'Cost of business start-up procedures (% of GNI per capita)'}, 'country': {'id': 'BR', 'value': 'Brazil'}, 'countryiso3code': 'BRA', 'date': '1979', 'value': None, 'unit': '', 'obs_status': '', 'decimal': 1}, {'indicator': {'id': 'IC.REG.COST.PC.ZS', 'value': 'Cost of business start-up procedures (% of GNI per capita)'}, 'country': {'id': 'BR', 'value': 'Brazil'}, 'countryiso3code': 'BRA', 'date': '1978', 'value': None, 'unit': '', 'obs_status': '', 'decimal': 1}, {'indicator': {'id': 'IC.REG.COST.PC.ZS', 'value': 'Cost of business start-up procedures (% of GNI per capita)'}, 'country': {'id': 'BR', 'value': 'Brazil'}, 'countryiso3code': 'BRA', 'date': '1977', 'value': None, 'unit': '', 'obs_status': '', 'decimal': 1}, {'indicator': {'id': 'IC.REG.COST.PC.ZS', 'value': 'Cost of business start-up procedures (% of GNI per capita)'}, 'country': {'id': 'BR', 'value': 'Brazil'}, 'countryiso3code': 'BRA', 'date': '1976', 'value': None, 'unit': '', 'obs_status': '', 'decimal': 1}, {'indicator': {'id': 'IC.REG.COST.PC.ZS', 'value': 'Cost of business start-up procedures (% of GNI per capita)'}, 'country': {'id': 'BR', 'value': 'Brazil'}, 'countryiso3code': 'BRA', 'date': '1975', 'value': None, 'unit': '', 'obs_status': '', 'decimal': 1}, {'indicator': {'id': 'IC.REG.COST.PC.ZS', 'value': 'Cost of business start-up procedures (% of GNI per capita)'}, 'country': {'id': 'BR', 'value': 'Brazil'}, 'countryiso3code': 'BRA', 'date': '1974', 'value': None, 'unit': '', 'obs_status': '', 'decimal': 1}, {'indicator': {'id': 'IC.REG.COST.PC.ZS', 'value': 'Cost of business start-up procedures (% of GNI per capita)'}, 'country': {'id': 'BR', 'value': 'Brazil'}, 'countryiso3code': 'BRA', 'date': '1973', 'value': None, 'unit': '', 'obs_status': '', 'decimal': 1}, {'indicator': {'id': 'IC.REG.COST.PC.ZS', 'value': 'Cost of business start-up procedures (% of GNI per capita)'}, 'country': {'id': 'BR', 'value': 'Brazil'}, 'countryiso3code': 'BRA', 'date': '1972', 'value': None, 'unit': '', 'obs_status': '', 'decimal': 1}, {'indicator': {'id': 'IC.REG.COST.PC.ZS', 'value': 'Cost of business start-up procedures (% of GNI per capita)'}, 'country': {'id': 'BR', 'value': 'Brazil'}, 'countryiso3code': 'BRA', 'date': '1971', 'value': None, 'unit': '', 'obs_status': '', 'decimal': 1}]]\n",
            "WB_data_cost_BRA.json\n"
          ]
        },
        {
          "output_type": "display_data",
          "data": {
            "application/javascript": [
              "\n",
              "    async function download(id, filename, size) {\n",
              "      if (!google.colab.kernel.accessAllowed) {\n",
              "        return;\n",
              "      }\n",
              "      const div = document.createElement('div');\n",
              "      const label = document.createElement('label');\n",
              "      label.textContent = `Downloading \"${filename}\": `;\n",
              "      div.appendChild(label);\n",
              "      const progress = document.createElement('progress');\n",
              "      progress.max = size;\n",
              "      div.appendChild(progress);\n",
              "      document.body.appendChild(div);\n",
              "\n",
              "      const buffers = [];\n",
              "      let downloaded = 0;\n",
              "\n",
              "      const channel = await google.colab.kernel.comms.open(id);\n",
              "      // Send a message to notify the kernel that we're ready.\n",
              "      channel.send({})\n",
              "\n",
              "      for await (const message of channel.messages) {\n",
              "        // Send a message to notify the kernel that we're ready.\n",
              "        channel.send({})\n",
              "        if (message.buffers) {\n",
              "          for (const buffer of message.buffers) {\n",
              "            buffers.push(buffer);\n",
              "            downloaded += buffer.byteLength;\n",
              "            progress.value = downloaded;\n",
              "          }\n",
              "        }\n",
              "      }\n",
              "      const blob = new Blob(buffers, {type: 'application/binary'});\n",
              "      const a = document.createElement('a');\n",
              "      a.href = window.URL.createObjectURL(blob);\n",
              "      a.download = filename;\n",
              "      div.appendChild(a);\n",
              "      a.click();\n",
              "      div.remove();\n",
              "    }\n",
              "  "
            ],
            "text/plain": [
              "<IPython.core.display.Javascript object>"
            ]
          },
          "metadata": {}
        },
        {
          "output_type": "display_data",
          "data": {
            "application/javascript": [
              "download(\"download_0162e183-2d23-40d3-bec7-85f2fd11f797\", \"WB_data_cost_BRA.json\", 23519)"
            ],
            "text/plain": [
              "<IPython.core.display.Javascript object>"
            ]
          },
          "metadata": {}
        },
        {
          "output_type": "stream",
          "name": "stdout",
          "text": [
            "ISR\n",
            "http://api.worldbank.org/v2/country/ISR/indicator/IC.REG.COST.PC.ZS?format=json\n",
            "[{'page': 1, 'pages': 2, 'per_page': 50, 'total': 61, 'sourceid': '2', 'sourcename': 'World Development Indicators', 'lastupdated': '2021-10-28'}, [{'indicator': {'id': 'IC.REG.COST.PC.ZS', 'value': 'Cost of business start-up procedures (% of GNI per capita)'}, 'country': {'id': 'IL', 'value': 'Israel'}, 'countryiso3code': 'ISR', 'date': '2020', 'value': None, 'unit': '', 'obs_status': '', 'decimal': 1}, {'indicator': {'id': 'IC.REG.COST.PC.ZS', 'value': 'Cost of business start-up procedures (% of GNI per capita)'}, 'country': {'id': 'IL', 'value': 'Israel'}, 'countryiso3code': 'ISR', 'date': '2019', 'value': 2.7, 'unit': '', 'obs_status': '', 'decimal': 1}, {'indicator': {'id': 'IC.REG.COST.PC.ZS', 'value': 'Cost of business start-up procedures (% of GNI per capita)'}, 'country': {'id': 'IL', 'value': 'Israel'}, 'countryiso3code': 'ISR', 'date': '2018', 'value': 2.8, 'unit': '', 'obs_status': '', 'decimal': 1}, {'indicator': {'id': 'IC.REG.COST.PC.ZS', 'value': 'Cost of business start-up procedures (% of GNI per capita)'}, 'country': {'id': 'IL', 'value': 'Israel'}, 'countryiso3code': 'ISR', 'date': '2017', 'value': 3.2, 'unit': '', 'obs_status': '', 'decimal': 1}, {'indicator': {'id': 'IC.REG.COST.PC.ZS', 'value': 'Cost of business start-up procedures (% of GNI per capita)'}, 'country': {'id': 'IL', 'value': 'Israel'}, 'countryiso3code': 'ISR', 'date': '2016', 'value': 3.3, 'unit': '', 'obs_status': '', 'decimal': 1}, {'indicator': {'id': 'IC.REG.COST.PC.ZS', 'value': 'Cost of business start-up procedures (% of GNI per capita)'}, 'country': {'id': 'IL', 'value': 'Israel'}, 'countryiso3code': 'ISR', 'date': '2015', 'value': 3.4, 'unit': '', 'obs_status': '', 'decimal': 1}, {'indicator': {'id': 'IC.REG.COST.PC.ZS', 'value': 'Cost of business start-up procedures (% of GNI per capita)'}, 'country': {'id': 'IL', 'value': 'Israel'}, 'countryiso3code': 'ISR', 'date': '2014', 'value': 3.5, 'unit': '', 'obs_status': '', 'decimal': 1}, {'indicator': {'id': 'IC.REG.COST.PC.ZS', 'value': 'Cost of business start-up procedures (% of GNI per capita)'}, 'country': {'id': 'IL', 'value': 'Israel'}, 'countryiso3code': 'ISR', 'date': '2013', 'value': 4.1, 'unit': '', 'obs_status': '', 'decimal': 1}, {'indicator': {'id': 'IC.REG.COST.PC.ZS', 'value': 'Cost of business start-up procedures (% of GNI per capita)'}, 'country': {'id': 'IL', 'value': 'Israel'}, 'countryiso3code': 'ISR', 'date': '2012', 'value': 4, 'unit': '', 'obs_status': '', 'decimal': 1}, {'indicator': {'id': 'IC.REG.COST.PC.ZS', 'value': 'Cost of business start-up procedures (% of GNI per capita)'}, 'country': {'id': 'IL', 'value': 'Israel'}, 'countryiso3code': 'ISR', 'date': '2011', 'value': 4.4, 'unit': '', 'obs_status': '', 'decimal': 1}, {'indicator': {'id': 'IC.REG.COST.PC.ZS', 'value': 'Cost of business start-up procedures (% of GNI per capita)'}, 'country': {'id': 'IL', 'value': 'Israel'}, 'countryiso3code': 'ISR', 'date': '2010', 'value': 4.3, 'unit': '', 'obs_status': '', 'decimal': 1}, {'indicator': {'id': 'IC.REG.COST.PC.ZS', 'value': 'Cost of business start-up procedures (% of GNI per capita)'}, 'country': {'id': 'IL', 'value': 'Israel'}, 'countryiso3code': 'ISR', 'date': '2009', 'value': 4.2, 'unit': '', 'obs_status': '', 'decimal': 1}, {'indicator': {'id': 'IC.REG.COST.PC.ZS', 'value': 'Cost of business start-up procedures (% of GNI per capita)'}, 'country': {'id': 'IL', 'value': 'Israel'}, 'countryiso3code': 'ISR', 'date': '2008', 'value': 4.4, 'unit': '', 'obs_status': '', 'decimal': 1}, {'indicator': {'id': 'IC.REG.COST.PC.ZS', 'value': 'Cost of business start-up procedures (% of GNI per capita)'}, 'country': {'id': 'IL', 'value': 'Israel'}, 'countryiso3code': 'ISR', 'date': '2007', 'value': 4.4, 'unit': '', 'obs_status': '', 'decimal': 1}, {'indicator': {'id': 'IC.REG.COST.PC.ZS', 'value': 'Cost of business start-up procedures (% of GNI per capita)'}, 'country': {'id': 'IL', 'value': 'Israel'}, 'countryiso3code': 'ISR', 'date': '2006', 'value': 5.1, 'unit': '', 'obs_status': '', 'decimal': 1}, {'indicator': {'id': 'IC.REG.COST.PC.ZS', 'value': 'Cost of business start-up procedures (% of GNI per capita)'}, 'country': {'id': 'IL', 'value': 'Israel'}, 'countryiso3code': 'ISR', 'date': '2005', 'value': 5.3, 'unit': '', 'obs_status': '', 'decimal': 1}, {'indicator': {'id': 'IC.REG.COST.PC.ZS', 'value': 'Cost of business start-up procedures (% of GNI per capita)'}, 'country': {'id': 'IL', 'value': 'Israel'}, 'countryiso3code': 'ISR', 'date': '2004', 'value': 5.5, 'unit': '', 'obs_status': '', 'decimal': 1}, {'indicator': {'id': 'IC.REG.COST.PC.ZS', 'value': 'Cost of business start-up procedures (% of GNI per capita)'}, 'country': {'id': 'IL', 'value': 'Israel'}, 'countryiso3code': 'ISR', 'date': '2003', 'value': 5.5, 'unit': '', 'obs_status': '', 'decimal': 1}, {'indicator': {'id': 'IC.REG.COST.PC.ZS', 'value': 'Cost of business start-up procedures (% of GNI per capita)'}, 'country': {'id': 'IL', 'value': 'Israel'}, 'countryiso3code': 'ISR', 'date': '2002', 'value': None, 'unit': '', 'obs_status': '', 'decimal': 1}, {'indicator': {'id': 'IC.REG.COST.PC.ZS', 'value': 'Cost of business start-up procedures (% of GNI per capita)'}, 'country': {'id': 'IL', 'value': 'Israel'}, 'countryiso3code': 'ISR', 'date': '2001', 'value': None, 'unit': '', 'obs_status': '', 'decimal': 1}, {'indicator': {'id': 'IC.REG.COST.PC.ZS', 'value': 'Cost of business start-up procedures (% of GNI per capita)'}, 'country': {'id': 'IL', 'value': 'Israel'}, 'countryiso3code': 'ISR', 'date': '2000', 'value': None, 'unit': '', 'obs_status': '', 'decimal': 1}, {'indicator': {'id': 'IC.REG.COST.PC.ZS', 'value': 'Cost of business start-up procedures (% of GNI per capita)'}, 'country': {'id': 'IL', 'value': 'Israel'}, 'countryiso3code': 'ISR', 'date': '1999', 'value': None, 'unit': '', 'obs_status': '', 'decimal': 1}, {'indicator': {'id': 'IC.REG.COST.PC.ZS', 'value': 'Cost of business start-up procedures (% of GNI per capita)'}, 'country': {'id': 'IL', 'value': 'Israel'}, 'countryiso3code': 'ISR', 'date': '1998', 'value': None, 'unit': '', 'obs_status': '', 'decimal': 1}, {'indicator': {'id': 'IC.REG.COST.PC.ZS', 'value': 'Cost of business start-up procedures (% of GNI per capita)'}, 'country': {'id': 'IL', 'value': 'Israel'}, 'countryiso3code': 'ISR', 'date': '1997', 'value': None, 'unit': '', 'obs_status': '', 'decimal': 1}, {'indicator': {'id': 'IC.REG.COST.PC.ZS', 'value': 'Cost of business start-up procedures (% of GNI per capita)'}, 'country': {'id': 'IL', 'value': 'Israel'}, 'countryiso3code': 'ISR', 'date': '1996', 'value': None, 'unit': '', 'obs_status': '', 'decimal': 1}, {'indicator': {'id': 'IC.REG.COST.PC.ZS', 'value': 'Cost of business start-up procedures (% of GNI per capita)'}, 'country': {'id': 'IL', 'value': 'Israel'}, 'countryiso3code': 'ISR', 'date': '1995', 'value': None, 'unit': '', 'obs_status': '', 'decimal': 1}, {'indicator': {'id': 'IC.REG.COST.PC.ZS', 'value': 'Cost of business start-up procedures (% of GNI per capita)'}, 'country': {'id': 'IL', 'value': 'Israel'}, 'countryiso3code': 'ISR', 'date': '1994', 'value': None, 'unit': '', 'obs_status': '', 'decimal': 1}, {'indicator': {'id': 'IC.REG.COST.PC.ZS', 'value': 'Cost of business start-up procedures (% of GNI per capita)'}, 'country': {'id': 'IL', 'value': 'Israel'}, 'countryiso3code': 'ISR', 'date': '1993', 'value': None, 'unit': '', 'obs_status': '', 'decimal': 1}, {'indicator': {'id': 'IC.REG.COST.PC.ZS', 'value': 'Cost of business start-up procedures (% of GNI per capita)'}, 'country': {'id': 'IL', 'value': 'Israel'}, 'countryiso3code': 'ISR', 'date': '1992', 'value': None, 'unit': '', 'obs_status': '', 'decimal': 1}, {'indicator': {'id': 'IC.REG.COST.PC.ZS', 'value': 'Cost of business start-up procedures (% of GNI per capita)'}, 'country': {'id': 'IL', 'value': 'Israel'}, 'countryiso3code': 'ISR', 'date': '1991', 'value': None, 'unit': '', 'obs_status': '', 'decimal': 1}, {'indicator': {'id': 'IC.REG.COST.PC.ZS', 'value': 'Cost of business start-up procedures (% of GNI per capita)'}, 'country': {'id': 'IL', 'value': 'Israel'}, 'countryiso3code': 'ISR', 'date': '1990', 'value': None, 'unit': '', 'obs_status': '', 'decimal': 1}, {'indicator': {'id': 'IC.REG.COST.PC.ZS', 'value': 'Cost of business start-up procedures (% of GNI per capita)'}, 'country': {'id': 'IL', 'value': 'Israel'}, 'countryiso3code': 'ISR', 'date': '1989', 'value': None, 'unit': '', 'obs_status': '', 'decimal': 1}, {'indicator': {'id': 'IC.REG.COST.PC.ZS', 'value': 'Cost of business start-up procedures (% of GNI per capita)'}, 'country': {'id': 'IL', 'value': 'Israel'}, 'countryiso3code': 'ISR', 'date': '1988', 'value': None, 'unit': '', 'obs_status': '', 'decimal': 1}, {'indicator': {'id': 'IC.REG.COST.PC.ZS', 'value': 'Cost of business start-up procedures (% of GNI per capita)'}, 'country': {'id': 'IL', 'value': 'Israel'}, 'countryiso3code': 'ISR', 'date': '1987', 'value': None, 'unit': '', 'obs_status': '', 'decimal': 1}, {'indicator': {'id': 'IC.REG.COST.PC.ZS', 'value': 'Cost of business start-up procedures (% of GNI per capita)'}, 'country': {'id': 'IL', 'value': 'Israel'}, 'countryiso3code': 'ISR', 'date': '1986', 'value': None, 'unit': '', 'obs_status': '', 'decimal': 1}, {'indicator': {'id': 'IC.REG.COST.PC.ZS', 'value': 'Cost of business start-up procedures (% of GNI per capita)'}, 'country': {'id': 'IL', 'value': 'Israel'}, 'countryiso3code': 'ISR', 'date': '1985', 'value': None, 'unit': '', 'obs_status': '', 'decimal': 1}, {'indicator': {'id': 'IC.REG.COST.PC.ZS', 'value': 'Cost of business start-up procedures (% of GNI per capita)'}, 'country': {'id': 'IL', 'value': 'Israel'}, 'countryiso3code': 'ISR', 'date': '1984', 'value': None, 'unit': '', 'obs_status': '', 'decimal': 1}, {'indicator': {'id': 'IC.REG.COST.PC.ZS', 'value': 'Cost of business start-up procedures (% of GNI per capita)'}, 'country': {'id': 'IL', 'value': 'Israel'}, 'countryiso3code': 'ISR', 'date': '1983', 'value': None, 'unit': '', 'obs_status': '', 'decimal': 1}, {'indicator': {'id': 'IC.REG.COST.PC.ZS', 'value': 'Cost of business start-up procedures (% of GNI per capita)'}, 'country': {'id': 'IL', 'value': 'Israel'}, 'countryiso3code': 'ISR', 'date': '1982', 'value': None, 'unit': '', 'obs_status': '', 'decimal': 1}, {'indicator': {'id': 'IC.REG.COST.PC.ZS', 'value': 'Cost of business start-up procedures (% of GNI per capita)'}, 'country': {'id': 'IL', 'value': 'Israel'}, 'countryiso3code': 'ISR', 'date': '1981', 'value': None, 'unit': '', 'obs_status': '', 'decimal': 1}, {'indicator': {'id': 'IC.REG.COST.PC.ZS', 'value': 'Cost of business start-up procedures (% of GNI per capita)'}, 'country': {'id': 'IL', 'value': 'Israel'}, 'countryiso3code': 'ISR', 'date': '1980', 'value': None, 'unit': '', 'obs_status': '', 'decimal': 1}, {'indicator': {'id': 'IC.REG.COST.PC.ZS', 'value': 'Cost of business start-up procedures (% of GNI per capita)'}, 'country': {'id': 'IL', 'value': 'Israel'}, 'countryiso3code': 'ISR', 'date': '1979', 'value': None, 'unit': '', 'obs_status': '', 'decimal': 1}, {'indicator': {'id': 'IC.REG.COST.PC.ZS', 'value': 'Cost of business start-up procedures (% of GNI per capita)'}, 'country': {'id': 'IL', 'value': 'Israel'}, 'countryiso3code': 'ISR', 'date': '1978', 'value': None, 'unit': '', 'obs_status': '', 'decimal': 1}, {'indicator': {'id': 'IC.REG.COST.PC.ZS', 'value': 'Cost of business start-up procedures (% of GNI per capita)'}, 'country': {'id': 'IL', 'value': 'Israel'}, 'countryiso3code': 'ISR', 'date': '1977', 'value': None, 'unit': '', 'obs_status': '', 'decimal': 1}, {'indicator': {'id': 'IC.REG.COST.PC.ZS', 'value': 'Cost of business start-up procedures (% of GNI per capita)'}, 'country': {'id': 'IL', 'value': 'Israel'}, 'countryiso3code': 'ISR', 'date': '1976', 'value': None, 'unit': '', 'obs_status': '', 'decimal': 1}, {'indicator': {'id': 'IC.REG.COST.PC.ZS', 'value': 'Cost of business start-up procedures (% of GNI per capita)'}, 'country': {'id': 'IL', 'value': 'Israel'}, 'countryiso3code': 'ISR', 'date': '1975', 'value': None, 'unit': '', 'obs_status': '', 'decimal': 1}, {'indicator': {'id': 'IC.REG.COST.PC.ZS', 'value': 'Cost of business start-up procedures (% of GNI per capita)'}, 'country': {'id': 'IL', 'value': 'Israel'}, 'countryiso3code': 'ISR', 'date': '1974', 'value': None, 'unit': '', 'obs_status': '', 'decimal': 1}, {'indicator': {'id': 'IC.REG.COST.PC.ZS', 'value': 'Cost of business start-up procedures (% of GNI per capita)'}, 'country': {'id': 'IL', 'value': 'Israel'}, 'countryiso3code': 'ISR', 'date': '1973', 'value': None, 'unit': '', 'obs_status': '', 'decimal': 1}, {'indicator': {'id': 'IC.REG.COST.PC.ZS', 'value': 'Cost of business start-up procedures (% of GNI per capita)'}, 'country': {'id': 'IL', 'value': 'Israel'}, 'countryiso3code': 'ISR', 'date': '1972', 'value': None, 'unit': '', 'obs_status': '', 'decimal': 1}, {'indicator': {'id': 'IC.REG.COST.PC.ZS', 'value': 'Cost of business start-up procedures (% of GNI per capita)'}, 'country': {'id': 'IL', 'value': 'Israel'}, 'countryiso3code': 'ISR', 'date': '1971', 'value': None, 'unit': '', 'obs_status': '', 'decimal': 1}]]\n",
            "WB_data_cost_ISR.json\n"
          ]
        },
        {
          "output_type": "display_data",
          "data": {
            "application/javascript": [
              "\n",
              "    async function download(id, filename, size) {\n",
              "      if (!google.colab.kernel.accessAllowed) {\n",
              "        return;\n",
              "      }\n",
              "      const div = document.createElement('div');\n",
              "      const label = document.createElement('label');\n",
              "      label.textContent = `Downloading \"${filename}\": `;\n",
              "      div.appendChild(label);\n",
              "      const progress = document.createElement('progress');\n",
              "      progress.max = size;\n",
              "      div.appendChild(progress);\n",
              "      document.body.appendChild(div);\n",
              "\n",
              "      const buffers = [];\n",
              "      let downloaded = 0;\n",
              "\n",
              "      const channel = await google.colab.kernel.comms.open(id);\n",
              "      // Send a message to notify the kernel that we're ready.\n",
              "      channel.send({})\n",
              "\n",
              "      for await (const message of channel.messages) {\n",
              "        // Send a message to notify the kernel that we're ready.\n",
              "        channel.send({})\n",
              "        if (message.buffers) {\n",
              "          for (const buffer of message.buffers) {\n",
              "            buffers.push(buffer);\n",
              "            downloaded += buffer.byteLength;\n",
              "            progress.value = downloaded;\n",
              "          }\n",
              "        }\n",
              "      }\n",
              "      const blob = new Blob(buffers, {type: 'application/binary'});\n",
              "      const a = document.createElement('a');\n",
              "      a.href = window.URL.createObjectURL(blob);\n",
              "      a.download = filename;\n",
              "      div.appendChild(a);\n",
              "      a.click();\n",
              "      div.remove();\n",
              "    }\n",
              "  "
            ],
            "text/plain": [
              "<IPython.core.display.Javascript object>"
            ]
          },
          "metadata": {}
        },
        {
          "output_type": "display_data",
          "data": {
            "application/javascript": [
              "download(\"download_bf9cda02-3f3c-4ce1-9198-a673b76ef453\", \"WB_data_cost_ISR.json\", 23507)"
            ],
            "text/plain": [
              "<IPython.core.display.Javascript object>"
            ]
          },
          "metadata": {}
        },
        {
          "output_type": "stream",
          "name": "stdout",
          "text": [
            "BOL\n",
            "http://api.worldbank.org/v2/country/BOL/indicator/IC.REG.COST.PC.ZS?format=json\n",
            "[{'page': 1, 'pages': 2, 'per_page': 50, 'total': 61, 'sourceid': '2', 'sourcename': 'World Development Indicators', 'lastupdated': '2021-10-28'}, [{'indicator': {'id': 'IC.REG.COST.PC.ZS', 'value': 'Cost of business start-up procedures (% of GNI per capita)'}, 'country': {'id': 'BO', 'value': 'Bolivia'}, 'countryiso3code': 'BOL', 'date': '2020', 'value': None, 'unit': '', 'obs_status': '', 'decimal': 1}, {'indicator': {'id': 'IC.REG.COST.PC.ZS', 'value': 'Cost of business start-up procedures (% of GNI per capita)'}, 'country': {'id': 'BO', 'value': 'Bolivia'}, 'countryiso3code': 'BOL', 'date': '2019', 'value': 37.3, 'unit': '', 'obs_status': '', 'decimal': 1}, {'indicator': {'id': 'IC.REG.COST.PC.ZS', 'value': 'Cost of business start-up procedures (% of GNI per capita)'}, 'country': {'id': 'BO', 'value': 'Bolivia'}, 'countryiso3code': 'BOL', 'date': '2018', 'value': 39.2, 'unit': '', 'obs_status': '', 'decimal': 1}, {'indicator': {'id': 'IC.REG.COST.PC.ZS', 'value': 'Cost of business start-up procedures (% of GNI per capita)'}, 'country': {'id': 'BO', 'value': 'Bolivia'}, 'countryiso3code': 'BOL', 'date': '2017', 'value': 46.6, 'unit': '', 'obs_status': '', 'decimal': 1}, {'indicator': {'id': 'IC.REG.COST.PC.ZS', 'value': 'Cost of business start-up procedures (% of GNI per capita)'}, 'country': {'id': 'BO', 'value': 'Bolivia'}, 'countryiso3code': 'BOL', 'date': '2016', 'value': 49.7, 'unit': '', 'obs_status': '', 'decimal': 1}, {'indicator': {'id': 'IC.REG.COST.PC.ZS', 'value': 'Cost of business start-up procedures (% of GNI per capita)'}, 'country': {'id': 'BO', 'value': 'Bolivia'}, 'countryiso3code': 'BOL', 'date': '2015', 'value': 51.1, 'unit': '', 'obs_status': '', 'decimal': 1}, {'indicator': {'id': 'IC.REG.COST.PC.ZS', 'value': 'Cost of business start-up procedures (% of GNI per capita)'}, 'country': {'id': 'BO', 'value': 'Bolivia'}, 'countryiso3code': 'BOL', 'date': '2014', 'value': 60.8, 'unit': '', 'obs_status': '', 'decimal': 1}, {'indicator': {'id': 'IC.REG.COST.PC.ZS', 'value': 'Cost of business start-up procedures (% of GNI per capita)'}, 'country': {'id': 'BO', 'value': 'Bolivia'}, 'countryiso3code': 'BOL', 'date': '2013', 'value': 67.6, 'unit': '', 'obs_status': '', 'decimal': 1}, {'indicator': {'id': 'IC.REG.COST.PC.ZS', 'value': 'Cost of business start-up procedures (% of GNI per capita)'}, 'country': {'id': 'BO', 'value': 'Bolivia'}, 'countryiso3code': 'BOL', 'date': '2012', 'value': 70, 'unit': '', 'obs_status': '', 'decimal': 1}, {'indicator': {'id': 'IC.REG.COST.PC.ZS', 'value': 'Cost of business start-up procedures (% of GNI per capita)'}, 'country': {'id': 'BO', 'value': 'Bolivia'}, 'countryiso3code': 'BOL', 'date': '2011', 'value': 85.4, 'unit': '', 'obs_status': '', 'decimal': 1}, {'indicator': {'id': 'IC.REG.COST.PC.ZS', 'value': 'Cost of business start-up procedures (% of GNI per capita)'}, 'country': {'id': 'BO', 'value': 'Bolivia'}, 'countryiso3code': 'BOL', 'date': '2010', 'value': 95.2, 'unit': '', 'obs_status': '', 'decimal': 1}, {'indicator': {'id': 'IC.REG.COST.PC.ZS', 'value': 'Cost of business start-up procedures (% of GNI per capita)'}, 'country': {'id': 'BO', 'value': 'Bolivia'}, 'countryiso3code': 'BOL', 'date': '2009', 'value': 93.7, 'unit': '', 'obs_status': '', 'decimal': 1}, {'indicator': {'id': 'IC.REG.COST.PC.ZS', 'value': 'Cost of business start-up procedures (% of GNI per capita)'}, 'country': {'id': 'BO', 'value': 'Bolivia'}, 'countryiso3code': 'BOL', 'date': '2008', 'value': 106.2, 'unit': '', 'obs_status': '', 'decimal': 1}, {'indicator': {'id': 'IC.REG.COST.PC.ZS', 'value': 'Cost of business start-up procedures (% of GNI per capita)'}, 'country': {'id': 'BO', 'value': 'Bolivia'}, 'countryiso3code': 'BOL', 'date': '2007', 'value': 128.6, 'unit': '', 'obs_status': '', 'decimal': 1}, {'indicator': {'id': 'IC.REG.COST.PC.ZS', 'value': 'Cost of business start-up procedures (% of GNI per capita)'}, 'country': {'id': 'BO', 'value': 'Bolivia'}, 'countryiso3code': 'BOL', 'date': '2006', 'value': 143.9, 'unit': '', 'obs_status': '', 'decimal': 1}, {'indicator': {'id': 'IC.REG.COST.PC.ZS', 'value': 'Cost of business start-up procedures (% of GNI per capita)'}, 'country': {'id': 'BO', 'value': 'Bolivia'}, 'countryiso3code': 'BOL', 'date': '2005', 'value': 153.2, 'unit': '', 'obs_status': '', 'decimal': 1}, {'indicator': {'id': 'IC.REG.COST.PC.ZS', 'value': 'Cost of business start-up procedures (% of GNI per capita)'}, 'country': {'id': 'BO', 'value': 'Bolivia'}, 'countryiso3code': 'BOL', 'date': '2004', 'value': 172.1, 'unit': '', 'obs_status': '', 'decimal': 1}, {'indicator': {'id': 'IC.REG.COST.PC.ZS', 'value': 'Cost of business start-up procedures (% of GNI per capita)'}, 'country': {'id': 'BO', 'value': 'Bolivia'}, 'countryiso3code': 'BOL', 'date': '2003', 'value': 173.5, 'unit': '', 'obs_status': '', 'decimal': 1}, {'indicator': {'id': 'IC.REG.COST.PC.ZS', 'value': 'Cost of business start-up procedures (% of GNI per capita)'}, 'country': {'id': 'BO', 'value': 'Bolivia'}, 'countryiso3code': 'BOL', 'date': '2002', 'value': None, 'unit': '', 'obs_status': '', 'decimal': 1}, {'indicator': {'id': 'IC.REG.COST.PC.ZS', 'value': 'Cost of business start-up procedures (% of GNI per capita)'}, 'country': {'id': 'BO', 'value': 'Bolivia'}, 'countryiso3code': 'BOL', 'date': '2001', 'value': None, 'unit': '', 'obs_status': '', 'decimal': 1}, {'indicator': {'id': 'IC.REG.COST.PC.ZS', 'value': 'Cost of business start-up procedures (% of GNI per capita)'}, 'country': {'id': 'BO', 'value': 'Bolivia'}, 'countryiso3code': 'BOL', 'date': '2000', 'value': None, 'unit': '', 'obs_status': '', 'decimal': 1}, {'indicator': {'id': 'IC.REG.COST.PC.ZS', 'value': 'Cost of business start-up procedures (% of GNI per capita)'}, 'country': {'id': 'BO', 'value': 'Bolivia'}, 'countryiso3code': 'BOL', 'date': '1999', 'value': None, 'unit': '', 'obs_status': '', 'decimal': 1}, {'indicator': {'id': 'IC.REG.COST.PC.ZS', 'value': 'Cost of business start-up procedures (% of GNI per capita)'}, 'country': {'id': 'BO', 'value': 'Bolivia'}, 'countryiso3code': 'BOL', 'date': '1998', 'value': None, 'unit': '', 'obs_status': '', 'decimal': 1}, {'indicator': {'id': 'IC.REG.COST.PC.ZS', 'value': 'Cost of business start-up procedures (% of GNI per capita)'}, 'country': {'id': 'BO', 'value': 'Bolivia'}, 'countryiso3code': 'BOL', 'date': '1997', 'value': None, 'unit': '', 'obs_status': '', 'decimal': 1}, {'indicator': {'id': 'IC.REG.COST.PC.ZS', 'value': 'Cost of business start-up procedures (% of GNI per capita)'}, 'country': {'id': 'BO', 'value': 'Bolivia'}, 'countryiso3code': 'BOL', 'date': '1996', 'value': None, 'unit': '', 'obs_status': '', 'decimal': 1}, {'indicator': {'id': 'IC.REG.COST.PC.ZS', 'value': 'Cost of business start-up procedures (% of GNI per capita)'}, 'country': {'id': 'BO', 'value': 'Bolivia'}, 'countryiso3code': 'BOL', 'date': '1995', 'value': None, 'unit': '', 'obs_status': '', 'decimal': 1}, {'indicator': {'id': 'IC.REG.COST.PC.ZS', 'value': 'Cost of business start-up procedures (% of GNI per capita)'}, 'country': {'id': 'BO', 'value': 'Bolivia'}, 'countryiso3code': 'BOL', 'date': '1994', 'value': None, 'unit': '', 'obs_status': '', 'decimal': 1}, {'indicator': {'id': 'IC.REG.COST.PC.ZS', 'value': 'Cost of business start-up procedures (% of GNI per capita)'}, 'country': {'id': 'BO', 'value': 'Bolivia'}, 'countryiso3code': 'BOL', 'date': '1993', 'value': None, 'unit': '', 'obs_status': '', 'decimal': 1}, {'indicator': {'id': 'IC.REG.COST.PC.ZS', 'value': 'Cost of business start-up procedures (% of GNI per capita)'}, 'country': {'id': 'BO', 'value': 'Bolivia'}, 'countryiso3code': 'BOL', 'date': '1992', 'value': None, 'unit': '', 'obs_status': '', 'decimal': 1}, {'indicator': {'id': 'IC.REG.COST.PC.ZS', 'value': 'Cost of business start-up procedures (% of GNI per capita)'}, 'country': {'id': 'BO', 'value': 'Bolivia'}, 'countryiso3code': 'BOL', 'date': '1991', 'value': None, 'unit': '', 'obs_status': '', 'decimal': 1}, {'indicator': {'id': 'IC.REG.COST.PC.ZS', 'value': 'Cost of business start-up procedures (% of GNI per capita)'}, 'country': {'id': 'BO', 'value': 'Bolivia'}, 'countryiso3code': 'BOL', 'date': '1990', 'value': None, 'unit': '', 'obs_status': '', 'decimal': 1}, {'indicator': {'id': 'IC.REG.COST.PC.ZS', 'value': 'Cost of business start-up procedures (% of GNI per capita)'}, 'country': {'id': 'BO', 'value': 'Bolivia'}, 'countryiso3code': 'BOL', 'date': '1989', 'value': None, 'unit': '', 'obs_status': '', 'decimal': 1}, {'indicator': {'id': 'IC.REG.COST.PC.ZS', 'value': 'Cost of business start-up procedures (% of GNI per capita)'}, 'country': {'id': 'BO', 'value': 'Bolivia'}, 'countryiso3code': 'BOL', 'date': '1988', 'value': None, 'unit': '', 'obs_status': '', 'decimal': 1}, {'indicator': {'id': 'IC.REG.COST.PC.ZS', 'value': 'Cost of business start-up procedures (% of GNI per capita)'}, 'country': {'id': 'BO', 'value': 'Bolivia'}, 'countryiso3code': 'BOL', 'date': '1987', 'value': None, 'unit': '', 'obs_status': '', 'decimal': 1}, {'indicator': {'id': 'IC.REG.COST.PC.ZS', 'value': 'Cost of business start-up procedures (% of GNI per capita)'}, 'country': {'id': 'BO', 'value': 'Bolivia'}, 'countryiso3code': 'BOL', 'date': '1986', 'value': None, 'unit': '', 'obs_status': '', 'decimal': 1}, {'indicator': {'id': 'IC.REG.COST.PC.ZS', 'value': 'Cost of business start-up procedures (% of GNI per capita)'}, 'country': {'id': 'BO', 'value': 'Bolivia'}, 'countryiso3code': 'BOL', 'date': '1985', 'value': None, 'unit': '', 'obs_status': '', 'decimal': 1}, {'indicator': {'id': 'IC.REG.COST.PC.ZS', 'value': 'Cost of business start-up procedures (% of GNI per capita)'}, 'country': {'id': 'BO', 'value': 'Bolivia'}, 'countryiso3code': 'BOL', 'date': '1984', 'value': None, 'unit': '', 'obs_status': '', 'decimal': 1}, {'indicator': {'id': 'IC.REG.COST.PC.ZS', 'value': 'Cost of business start-up procedures (% of GNI per capita)'}, 'country': {'id': 'BO', 'value': 'Bolivia'}, 'countryiso3code': 'BOL', 'date': '1983', 'value': None, 'unit': '', 'obs_status': '', 'decimal': 1}, {'indicator': {'id': 'IC.REG.COST.PC.ZS', 'value': 'Cost of business start-up procedures (% of GNI per capita)'}, 'country': {'id': 'BO', 'value': 'Bolivia'}, 'countryiso3code': 'BOL', 'date': '1982', 'value': None, 'unit': '', 'obs_status': '', 'decimal': 1}, {'indicator': {'id': 'IC.REG.COST.PC.ZS', 'value': 'Cost of business start-up procedures (% of GNI per capita)'}, 'country': {'id': 'BO', 'value': 'Bolivia'}, 'countryiso3code': 'BOL', 'date': '1981', 'value': None, 'unit': '', 'obs_status': '', 'decimal': 1}, {'indicator': {'id': 'IC.REG.COST.PC.ZS', 'value': 'Cost of business start-up procedures (% of GNI per capita)'}, 'country': {'id': 'BO', 'value': 'Bolivia'}, 'countryiso3code': 'BOL', 'date': '1980', 'value': None, 'unit': '', 'obs_status': '', 'decimal': 1}, {'indicator': {'id': 'IC.REG.COST.PC.ZS', 'value': 'Cost of business start-up procedures (% of GNI per capita)'}, 'country': {'id': 'BO', 'value': 'Bolivia'}, 'countryiso3code': 'BOL', 'date': '1979', 'value': None, 'unit': '', 'obs_status': '', 'decimal': 1}, {'indicator': {'id': 'IC.REG.COST.PC.ZS', 'value': 'Cost of business start-up procedures (% of GNI per capita)'}, 'country': {'id': 'BO', 'value': 'Bolivia'}, 'countryiso3code': 'BOL', 'date': '1978', 'value': None, 'unit': '', 'obs_status': '', 'decimal': 1}, {'indicator': {'id': 'IC.REG.COST.PC.ZS', 'value': 'Cost of business start-up procedures (% of GNI per capita)'}, 'country': {'id': 'BO', 'value': 'Bolivia'}, 'countryiso3code': 'BOL', 'date': '1977', 'value': None, 'unit': '', 'obs_status': '', 'decimal': 1}, {'indicator': {'id': 'IC.REG.COST.PC.ZS', 'value': 'Cost of business start-up procedures (% of GNI per capita)'}, 'country': {'id': 'BO', 'value': 'Bolivia'}, 'countryiso3code': 'BOL', 'date': '1976', 'value': None, 'unit': '', 'obs_status': '', 'decimal': 1}, {'indicator': {'id': 'IC.REG.COST.PC.ZS', 'value': 'Cost of business start-up procedures (% of GNI per capita)'}, 'country': {'id': 'BO', 'value': 'Bolivia'}, 'countryiso3code': 'BOL', 'date': '1975', 'value': None, 'unit': '', 'obs_status': '', 'decimal': 1}, {'indicator': {'id': 'IC.REG.COST.PC.ZS', 'value': 'Cost of business start-up procedures (% of GNI per capita)'}, 'country': {'id': 'BO', 'value': 'Bolivia'}, 'countryiso3code': 'BOL', 'date': '1974', 'value': None, 'unit': '', 'obs_status': '', 'decimal': 1}, {'indicator': {'id': 'IC.REG.COST.PC.ZS', 'value': 'Cost of business start-up procedures (% of GNI per capita)'}, 'country': {'id': 'BO', 'value': 'Bolivia'}, 'countryiso3code': 'BOL', 'date': '1973', 'value': None, 'unit': '', 'obs_status': '', 'decimal': 1}, {'indicator': {'id': 'IC.REG.COST.PC.ZS', 'value': 'Cost of business start-up procedures (% of GNI per capita)'}, 'country': {'id': 'BO', 'value': 'Bolivia'}, 'countryiso3code': 'BOL', 'date': '1972', 'value': None, 'unit': '', 'obs_status': '', 'decimal': 1}, {'indicator': {'id': 'IC.REG.COST.PC.ZS', 'value': 'Cost of business start-up procedures (% of GNI per capita)'}, 'country': {'id': 'BO', 'value': 'Bolivia'}, 'countryiso3code': 'BOL', 'date': '1971', 'value': None, 'unit': '', 'obs_status': '', 'decimal': 1}]]\n",
            "WB_data_cost_BOL.json\n"
          ]
        },
        {
          "output_type": "display_data",
          "data": {
            "application/javascript": [
              "\n",
              "    async function download(id, filename, size) {\n",
              "      if (!google.colab.kernel.accessAllowed) {\n",
              "        return;\n",
              "      }\n",
              "      const div = document.createElement('div');\n",
              "      const label = document.createElement('label');\n",
              "      label.textContent = `Downloading \"${filename}\": `;\n",
              "      div.appendChild(label);\n",
              "      const progress = document.createElement('progress');\n",
              "      progress.max = size;\n",
              "      div.appendChild(progress);\n",
              "      document.body.appendChild(div);\n",
              "\n",
              "      const buffers = [];\n",
              "      let downloaded = 0;\n",
              "\n",
              "      const channel = await google.colab.kernel.comms.open(id);\n",
              "      // Send a message to notify the kernel that we're ready.\n",
              "      channel.send({})\n",
              "\n",
              "      for await (const message of channel.messages) {\n",
              "        // Send a message to notify the kernel that we're ready.\n",
              "        channel.send({})\n",
              "        if (message.buffers) {\n",
              "          for (const buffer of message.buffers) {\n",
              "            buffers.push(buffer);\n",
              "            downloaded += buffer.byteLength;\n",
              "            progress.value = downloaded;\n",
              "          }\n",
              "        }\n",
              "      }\n",
              "      const blob = new Blob(buffers, {type: 'application/binary'});\n",
              "      const a = document.createElement('a');\n",
              "      a.href = window.URL.createObjectURL(blob);\n",
              "      a.download = filename;\n",
              "      div.appendChild(a);\n",
              "      a.click();\n",
              "      div.remove();\n",
              "    }\n",
              "  "
            ],
            "text/plain": [
              "<IPython.core.display.Javascript object>"
            ]
          },
          "metadata": {}
        },
        {
          "output_type": "display_data",
          "data": {
            "application/javascript": [
              "download(\"download_eab5cfed-f97d-4110-887f-1e6326b3d088\", \"WB_data_cost_BOL.json\", 23580)"
            ],
            "text/plain": [
              "<IPython.core.display.Javascript object>"
            ]
          },
          "metadata": {}
        },
        {
          "output_type": "stream",
          "name": "stdout",
          "text": [
            "VEN\n",
            "http://api.worldbank.org/v2/country/VEN/indicator/IC.REG.COST.PC.ZS?format=json\n",
            "[{'page': 1, 'pages': 2, 'per_page': 50, 'total': 61, 'sourceid': '2', 'sourcename': 'World Development Indicators', 'lastupdated': '2021-10-28'}, [{'indicator': {'id': 'IC.REG.COST.PC.ZS', 'value': 'Cost of business start-up procedures (% of GNI per capita)'}, 'country': {'id': 'VE', 'value': 'Venezuela, RB'}, 'countryiso3code': 'VEN', 'date': '2020', 'value': None, 'unit': '', 'obs_status': '', 'decimal': 1}, {'indicator': {'id': 'IC.REG.COST.PC.ZS', 'value': 'Cost of business start-up procedures (% of GNI per capita)'}, 'country': {'id': 'VE', 'value': 'Venezuela, RB'}, 'countryiso3code': 'VEN', 'date': '2019', 'value': 211.8, 'unit': '', 'obs_status': '', 'decimal': 1}, {'indicator': {'id': 'IC.REG.COST.PC.ZS', 'value': 'Cost of business start-up procedures (% of GNI per capita)'}, 'country': {'id': 'VE', 'value': 'Venezuela, RB'}, 'countryiso3code': 'VEN', 'date': '2018', 'value': 393, 'unit': '', 'obs_status': '', 'decimal': 1}, {'indicator': {'id': 'IC.REG.COST.PC.ZS', 'value': 'Cost of business start-up procedures (% of GNI per capita)'}, 'country': {'id': 'VE', 'value': 'Venezuela, RB'}, 'countryiso3code': 'VEN', 'date': '2017', 'value': 352.2, 'unit': '', 'obs_status': '', 'decimal': 1}, {'indicator': {'id': 'IC.REG.COST.PC.ZS', 'value': 'Cost of business start-up procedures (% of GNI per capita)'}, 'country': {'id': 'VE', 'value': 'Venezuela, RB'}, 'countryiso3code': 'VEN', 'date': '2016', 'value': 136.8, 'unit': '', 'obs_status': '', 'decimal': 1}, {'indicator': {'id': 'IC.REG.COST.PC.ZS', 'value': 'Cost of business start-up procedures (% of GNI per capita)'}, 'country': {'id': 'VE', 'value': 'Venezuela, RB'}, 'countryiso3code': 'VEN', 'date': '2015', 'value': 89, 'unit': '', 'obs_status': '', 'decimal': 1}, {'indicator': {'id': 'IC.REG.COST.PC.ZS', 'value': 'Cost of business start-up procedures (% of GNI per capita)'}, 'country': {'id': 'VE', 'value': 'Venezuela, RB'}, 'countryiso3code': 'VEN', 'date': '2014', 'value': 49.9, 'unit': '', 'obs_status': '', 'decimal': 1}, {'indicator': {'id': 'IC.REG.COST.PC.ZS', 'value': 'Cost of business start-up procedures (% of GNI per capita)'}, 'country': {'id': 'VE', 'value': 'Venezuela, RB'}, 'countryiso3code': 'VEN', 'date': '2013', 'value': 35.6, 'unit': '', 'obs_status': '', 'decimal': 1}, {'indicator': {'id': 'IC.REG.COST.PC.ZS', 'value': 'Cost of business start-up procedures (% of GNI per capita)'}, 'country': {'id': 'VE', 'value': 'Venezuela, RB'}, 'countryiso3code': 'VEN', 'date': '2012', 'value': 27.7, 'unit': '', 'obs_status': '', 'decimal': 1}, {'indicator': {'id': 'IC.REG.COST.PC.ZS', 'value': 'Cost of business start-up procedures (% of GNI per capita)'}, 'country': {'id': 'VE', 'value': 'Venezuela, RB'}, 'countryiso3code': 'VEN', 'date': '2011', 'value': 26.1, 'unit': '', 'obs_status': '', 'decimal': 1}, {'indicator': {'id': 'IC.REG.COST.PC.ZS', 'value': 'Cost of business start-up procedures (% of GNI per capita)'}, 'country': {'id': 'VE', 'value': 'Venezuela, RB'}, 'countryiso3code': 'VEN', 'date': '2010', 'value': 30.2, 'unit': '', 'obs_status': '', 'decimal': 1}, {'indicator': {'id': 'IC.REG.COST.PC.ZS', 'value': 'Cost of business start-up procedures (% of GNI per capita)'}, 'country': {'id': 'VE', 'value': 'Venezuela, RB'}, 'countryiso3code': 'VEN', 'date': '2009', 'value': 24, 'unit': '', 'obs_status': '', 'decimal': 1}, {'indicator': {'id': 'IC.REG.COST.PC.ZS', 'value': 'Cost of business start-up procedures (% of GNI per capita)'}, 'country': {'id': 'VE', 'value': 'Venezuela, RB'}, 'countryiso3code': 'VEN', 'date': '2008', 'value': 26.8, 'unit': '', 'obs_status': '', 'decimal': 1}, {'indicator': {'id': 'IC.REG.COST.PC.ZS', 'value': 'Cost of business start-up procedures (% of GNI per capita)'}, 'country': {'id': 'VE', 'value': 'Venezuela, RB'}, 'countryiso3code': 'VEN', 'date': '2007', 'value': 10, 'unit': '', 'obs_status': '', 'decimal': 1}, {'indicator': {'id': 'IC.REG.COST.PC.ZS', 'value': 'Cost of business start-up procedures (% of GNI per capita)'}, 'country': {'id': 'VE', 'value': 'Venezuela, RB'}, 'countryiso3code': 'VEN', 'date': '2006', 'value': 25.4, 'unit': '', 'obs_status': '', 'decimal': 1}, {'indicator': {'id': 'IC.REG.COST.PC.ZS', 'value': 'Cost of business start-up procedures (% of GNI per capita)'}, 'country': {'id': 'VE', 'value': 'Venezuela, RB'}, 'countryiso3code': 'VEN', 'date': '2005', 'value': 28.8, 'unit': '', 'obs_status': '', 'decimal': 1}, {'indicator': {'id': 'IC.REG.COST.PC.ZS', 'value': 'Cost of business start-up procedures (% of GNI per capita)'}, 'country': {'id': 'VE', 'value': 'Venezuela, RB'}, 'countryiso3code': 'VEN', 'date': '2004', 'value': 37.9, 'unit': '', 'obs_status': '', 'decimal': 1}, {'indicator': {'id': 'IC.REG.COST.PC.ZS', 'value': 'Cost of business start-up procedures (% of GNI per capita)'}, 'country': {'id': 'VE', 'value': 'Venezuela, RB'}, 'countryiso3code': 'VEN', 'date': '2003', 'value': 43.9, 'unit': '', 'obs_status': '', 'decimal': 1}, {'indicator': {'id': 'IC.REG.COST.PC.ZS', 'value': 'Cost of business start-up procedures (% of GNI per capita)'}, 'country': {'id': 'VE', 'value': 'Venezuela, RB'}, 'countryiso3code': 'VEN', 'date': '2002', 'value': None, 'unit': '', 'obs_status': '', 'decimal': 1}, {'indicator': {'id': 'IC.REG.COST.PC.ZS', 'value': 'Cost of business start-up procedures (% of GNI per capita)'}, 'country': {'id': 'VE', 'value': 'Venezuela, RB'}, 'countryiso3code': 'VEN', 'date': '2001', 'value': None, 'unit': '', 'obs_status': '', 'decimal': 1}, {'indicator': {'id': 'IC.REG.COST.PC.ZS', 'value': 'Cost of business start-up procedures (% of GNI per capita)'}, 'country': {'id': 'VE', 'value': 'Venezuela, RB'}, 'countryiso3code': 'VEN', 'date': '2000', 'value': None, 'unit': '', 'obs_status': '', 'decimal': 1}, {'indicator': {'id': 'IC.REG.COST.PC.ZS', 'value': 'Cost of business start-up procedures (% of GNI per capita)'}, 'country': {'id': 'VE', 'value': 'Venezuela, RB'}, 'countryiso3code': 'VEN', 'date': '1999', 'value': None, 'unit': '', 'obs_status': '', 'decimal': 1}, {'indicator': {'id': 'IC.REG.COST.PC.ZS', 'value': 'Cost of business start-up procedures (% of GNI per capita)'}, 'country': {'id': 'VE', 'value': 'Venezuela, RB'}, 'countryiso3code': 'VEN', 'date': '1998', 'value': None, 'unit': '', 'obs_status': '', 'decimal': 1}, {'indicator': {'id': 'IC.REG.COST.PC.ZS', 'value': 'Cost of business start-up procedures (% of GNI per capita)'}, 'country': {'id': 'VE', 'value': 'Venezuela, RB'}, 'countryiso3code': 'VEN', 'date': '1997', 'value': None, 'unit': '', 'obs_status': '', 'decimal': 1}, {'indicator': {'id': 'IC.REG.COST.PC.ZS', 'value': 'Cost of business start-up procedures (% of GNI per capita)'}, 'country': {'id': 'VE', 'value': 'Venezuela, RB'}, 'countryiso3code': 'VEN', 'date': '1996', 'value': None, 'unit': '', 'obs_status': '', 'decimal': 1}, {'indicator': {'id': 'IC.REG.COST.PC.ZS', 'value': 'Cost of business start-up procedures (% of GNI per capita)'}, 'country': {'id': 'VE', 'value': 'Venezuela, RB'}, 'countryiso3code': 'VEN', 'date': '1995', 'value': None, 'unit': '', 'obs_status': '', 'decimal': 1}, {'indicator': {'id': 'IC.REG.COST.PC.ZS', 'value': 'Cost of business start-up procedures (% of GNI per capita)'}, 'country': {'id': 'VE', 'value': 'Venezuela, RB'}, 'countryiso3code': 'VEN', 'date': '1994', 'value': None, 'unit': '', 'obs_status': '', 'decimal': 1}, {'indicator': {'id': 'IC.REG.COST.PC.ZS', 'value': 'Cost of business start-up procedures (% of GNI per capita)'}, 'country': {'id': 'VE', 'value': 'Venezuela, RB'}, 'countryiso3code': 'VEN', 'date': '1993', 'value': None, 'unit': '', 'obs_status': '', 'decimal': 1}, {'indicator': {'id': 'IC.REG.COST.PC.ZS', 'value': 'Cost of business start-up procedures (% of GNI per capita)'}, 'country': {'id': 'VE', 'value': 'Venezuela, RB'}, 'countryiso3code': 'VEN', 'date': '1992', 'value': None, 'unit': '', 'obs_status': '', 'decimal': 1}, {'indicator': {'id': 'IC.REG.COST.PC.ZS', 'value': 'Cost of business start-up procedures (% of GNI per capita)'}, 'country': {'id': 'VE', 'value': 'Venezuela, RB'}, 'countryiso3code': 'VEN', 'date': '1991', 'value': None, 'unit': '', 'obs_status': '', 'decimal': 1}, {'indicator': {'id': 'IC.REG.COST.PC.ZS', 'value': 'Cost of business start-up procedures (% of GNI per capita)'}, 'country': {'id': 'VE', 'value': 'Venezuela, RB'}, 'countryiso3code': 'VEN', 'date': '1990', 'value': None, 'unit': '', 'obs_status': '', 'decimal': 1}, {'indicator': {'id': 'IC.REG.COST.PC.ZS', 'value': 'Cost of business start-up procedures (% of GNI per capita)'}, 'country': {'id': 'VE', 'value': 'Venezuela, RB'}, 'countryiso3code': 'VEN', 'date': '1989', 'value': None, 'unit': '', 'obs_status': '', 'decimal': 1}, {'indicator': {'id': 'IC.REG.COST.PC.ZS', 'value': 'Cost of business start-up procedures (% of GNI per capita)'}, 'country': {'id': 'VE', 'value': 'Venezuela, RB'}, 'countryiso3code': 'VEN', 'date': '1988', 'value': None, 'unit': '', 'obs_status': '', 'decimal': 1}, {'indicator': {'id': 'IC.REG.COST.PC.ZS', 'value': 'Cost of business start-up procedures (% of GNI per capita)'}, 'country': {'id': 'VE', 'value': 'Venezuela, RB'}, 'countryiso3code': 'VEN', 'date': '1987', 'value': None, 'unit': '', 'obs_status': '', 'decimal': 1}, {'indicator': {'id': 'IC.REG.COST.PC.ZS', 'value': 'Cost of business start-up procedures (% of GNI per capita)'}, 'country': {'id': 'VE', 'value': 'Venezuela, RB'}, 'countryiso3code': 'VEN', 'date': '1986', 'value': None, 'unit': '', 'obs_status': '', 'decimal': 1}, {'indicator': {'id': 'IC.REG.COST.PC.ZS', 'value': 'Cost of business start-up procedures (% of GNI per capita)'}, 'country': {'id': 'VE', 'value': 'Venezuela, RB'}, 'countryiso3code': 'VEN', 'date': '1985', 'value': None, 'unit': '', 'obs_status': '', 'decimal': 1}, {'indicator': {'id': 'IC.REG.COST.PC.ZS', 'value': 'Cost of business start-up procedures (% of GNI per capita)'}, 'country': {'id': 'VE', 'value': 'Venezuela, RB'}, 'countryiso3code': 'VEN', 'date': '1984', 'value': None, 'unit': '', 'obs_status': '', 'decimal': 1}, {'indicator': {'id': 'IC.REG.COST.PC.ZS', 'value': 'Cost of business start-up procedures (% of GNI per capita)'}, 'country': {'id': 'VE', 'value': 'Venezuela, RB'}, 'countryiso3code': 'VEN', 'date': '1983', 'value': None, 'unit': '', 'obs_status': '', 'decimal': 1}, {'indicator': {'id': 'IC.REG.COST.PC.ZS', 'value': 'Cost of business start-up procedures (% of GNI per capita)'}, 'country': {'id': 'VE', 'value': 'Venezuela, RB'}, 'countryiso3code': 'VEN', 'date': '1982', 'value': None, 'unit': '', 'obs_status': '', 'decimal': 1}, {'indicator': {'id': 'IC.REG.COST.PC.ZS', 'value': 'Cost of business start-up procedures (% of GNI per capita)'}, 'country': {'id': 'VE', 'value': 'Venezuela, RB'}, 'countryiso3code': 'VEN', 'date': '1981', 'value': None, 'unit': '', 'obs_status': '', 'decimal': 1}, {'indicator': {'id': 'IC.REG.COST.PC.ZS', 'value': 'Cost of business start-up procedures (% of GNI per capita)'}, 'country': {'id': 'VE', 'value': 'Venezuela, RB'}, 'countryiso3code': 'VEN', 'date': '1980', 'value': None, 'unit': '', 'obs_status': '', 'decimal': 1}, {'indicator': {'id': 'IC.REG.COST.PC.ZS', 'value': 'Cost of business start-up procedures (% of GNI per capita)'}, 'country': {'id': 'VE', 'value': 'Venezuela, RB'}, 'countryiso3code': 'VEN', 'date': '1979', 'value': None, 'unit': '', 'obs_status': '', 'decimal': 1}, {'indicator': {'id': 'IC.REG.COST.PC.ZS', 'value': 'Cost of business start-up procedures (% of GNI per capita)'}, 'country': {'id': 'VE', 'value': 'Venezuela, RB'}, 'countryiso3code': 'VEN', 'date': '1978', 'value': None, 'unit': '', 'obs_status': '', 'decimal': 1}, {'indicator': {'id': 'IC.REG.COST.PC.ZS', 'value': 'Cost of business start-up procedures (% of GNI per capita)'}, 'country': {'id': 'VE', 'value': 'Venezuela, RB'}, 'countryiso3code': 'VEN', 'date': '1977', 'value': None, 'unit': '', 'obs_status': '', 'decimal': 1}, {'indicator': {'id': 'IC.REG.COST.PC.ZS', 'value': 'Cost of business start-up procedures (% of GNI per capita)'}, 'country': {'id': 'VE', 'value': 'Venezuela, RB'}, 'countryiso3code': 'VEN', 'date': '1976', 'value': None, 'unit': '', 'obs_status': '', 'decimal': 1}, {'indicator': {'id': 'IC.REG.COST.PC.ZS', 'value': 'Cost of business start-up procedures (% of GNI per capita)'}, 'country': {'id': 'VE', 'value': 'Venezuela, RB'}, 'countryiso3code': 'VEN', 'date': '1975', 'value': None, 'unit': '', 'obs_status': '', 'decimal': 1}, {'indicator': {'id': 'IC.REG.COST.PC.ZS', 'value': 'Cost of business start-up procedures (% of GNI per capita)'}, 'country': {'id': 'VE', 'value': 'Venezuela, RB'}, 'countryiso3code': 'VEN', 'date': '1974', 'value': None, 'unit': '', 'obs_status': '', 'decimal': 1}, {'indicator': {'id': 'IC.REG.COST.PC.ZS', 'value': 'Cost of business start-up procedures (% of GNI per capita)'}, 'country': {'id': 'VE', 'value': 'Venezuela, RB'}, 'countryiso3code': 'VEN', 'date': '1973', 'value': None, 'unit': '', 'obs_status': '', 'decimal': 1}, {'indicator': {'id': 'IC.REG.COST.PC.ZS', 'value': 'Cost of business start-up procedures (% of GNI per capita)'}, 'country': {'id': 'VE', 'value': 'Venezuela, RB'}, 'countryiso3code': 'VEN', 'date': '1972', 'value': None, 'unit': '', 'obs_status': '', 'decimal': 1}, {'indicator': {'id': 'IC.REG.COST.PC.ZS', 'value': 'Cost of business start-up procedures (% of GNI per capita)'}, 'country': {'id': 'VE', 'value': 'Venezuela, RB'}, 'countryiso3code': 'VEN', 'date': '1971', 'value': None, 'unit': '', 'obs_status': '', 'decimal': 1}]]\n",
            "WB_data_cost_VEN.json\n"
          ]
        },
        {
          "output_type": "display_data",
          "data": {
            "application/javascript": [
              "\n",
              "    async function download(id, filename, size) {\n",
              "      if (!google.colab.kernel.accessAllowed) {\n",
              "        return;\n",
              "      }\n",
              "      const div = document.createElement('div');\n",
              "      const label = document.createElement('label');\n",
              "      label.textContent = `Downloading \"${filename}\": `;\n",
              "      div.appendChild(label);\n",
              "      const progress = document.createElement('progress');\n",
              "      progress.max = size;\n",
              "      div.appendChild(progress);\n",
              "      document.body.appendChild(div);\n",
              "\n",
              "      const buffers = [];\n",
              "      let downloaded = 0;\n",
              "\n",
              "      const channel = await google.colab.kernel.comms.open(id);\n",
              "      // Send a message to notify the kernel that we're ready.\n",
              "      channel.send({})\n",
              "\n",
              "      for await (const message of channel.messages) {\n",
              "        // Send a message to notify the kernel that we're ready.\n",
              "        channel.send({})\n",
              "        if (message.buffers) {\n",
              "          for (const buffer of message.buffers) {\n",
              "            buffers.push(buffer);\n",
              "            downloaded += buffer.byteLength;\n",
              "            progress.value = downloaded;\n",
              "          }\n",
              "        }\n",
              "      }\n",
              "      const blob = new Blob(buffers, {type: 'application/binary'});\n",
              "      const a = document.createElement('a');\n",
              "      a.href = window.URL.createObjectURL(blob);\n",
              "      a.download = filename;\n",
              "      div.appendChild(a);\n",
              "      a.click();\n",
              "      div.remove();\n",
              "    }\n",
              "  "
            ],
            "text/plain": [
              "<IPython.core.display.Javascript object>"
            ]
          },
          "metadata": {}
        },
        {
          "output_type": "display_data",
          "data": {
            "application/javascript": [
              "download(\"download_3f9c7820-e888-4161-a19c-30b092c70e41\", \"WB_data_cost_VEN.json\", 23872)"
            ],
            "text/plain": [
              "<IPython.core.display.Javascript object>"
            ]
          },
          "metadata": {}
        }
      ]
    },
    {
      "cell_type": "code",
      "metadata": {
        "colab": {
          "base_uri": "https://localhost:8080/",
          "height": 241
        },
        "id": "qtxgl_X1Xb-_",
        "outputId": "868157e4-a5ec-4585-d937-33292896cfc5"
      },
      "source": [
        "url_base_two = \"http://api.worldbank.org/v2/country/{}/indicator/IC.REG.COST.PC.ZS?format=json\"\n",
        "\n",
        "country = ['EGY','NGA','TCD']\n",
        "\n",
        "file_base_two = \"WB_data_cost_{}.json\"\n",
        "\n",
        "for i in country:\n",
        "  print(i)\n",
        "\n",
        "  URLtwo = url_base_two.format(i)\n",
        "\n",
        "  print(URLtwo)\n",
        "\n",
        "  data_two = requests.get(URLtwo).json()\n",
        "\n",
        "  print(data_two)\n",
        "\n",
        "  fileName_two = file_base_two.format(i)\n",
        "  print(fileName_two)\n",
        "\n",
        "  with open(fileName_two, 'w', encoding='utf-8') as f:\n",
        "     json.dump(data_two, f, ensure_ascii=False, indent=4)\n",
        "\n",
        "  files.download(fileName_two)"
      ],
      "execution_count": 29,
      "outputs": [
        {
          "output_type": "stream",
          "name": "stdout",
          "text": [
            "EGY\n",
            "http://api.worldbank.org/v2/country/EGY/indicator/IC.REG.COST.PC.ZS?format=json\n",
            "[{'page': 1, 'pages': 2, 'per_page': 50, 'total': 61, 'sourceid': '2', 'sourcename': 'World Development Indicators', 'lastupdated': '2021-10-28'}, [{'indicator': {'id': 'IC.REG.COST.PC.ZS', 'value': 'Cost of business start-up procedures (% of GNI per capita)'}, 'country': {'id': 'EG', 'value': 'Egypt, Arab Rep.'}, 'countryiso3code': 'EGY', 'date': '2020', 'value': None, 'unit': '', 'obs_status': '', 'decimal': 1}, {'indicator': {'id': 'IC.REG.COST.PC.ZS', 'value': 'Cost of business start-up procedures (% of GNI per capita)'}, 'country': {'id': 'EG', 'value': 'Egypt, Arab Rep.'}, 'countryiso3code': 'EGY', 'date': '2019', 'value': 20.3, 'unit': '', 'obs_status': '', 'decimal': 1}, {'indicator': {'id': 'IC.REG.COST.PC.ZS', 'value': 'Cost of business start-up procedures (% of GNI per capita)'}, 'country': {'id': 'EG', 'value': 'Egypt, Arab Rep.'}, 'countryiso3code': 'EGY', 'date': '2018', 'value': 42.6, 'unit': '', 'obs_status': '', 'decimal': 1}, {'indicator': {'id': 'IC.REG.COST.PC.ZS', 'value': 'Cost of business start-up procedures (% of GNI per capita)'}, 'country': {'id': 'EG', 'value': 'Egypt, Arab Rep.'}, 'countryiso3code': 'EGY', 'date': '2017', 'value': 22.2, 'unit': '', 'obs_status': '', 'decimal': 1}, {'indicator': {'id': 'IC.REG.COST.PC.ZS', 'value': 'Cost of business start-up procedures (% of GNI per capita)'}, 'country': {'id': 'EG', 'value': 'Egypt, Arab Rep.'}, 'countryiso3code': 'EGY', 'date': '2016', 'value': 22.6, 'unit': '', 'obs_status': '', 'decimal': 1}, {'indicator': {'id': 'IC.REG.COST.PC.ZS', 'value': 'Cost of business start-up procedures (% of GNI per capita)'}, 'country': {'id': 'EG', 'value': 'Egypt, Arab Rep.'}, 'countryiso3code': 'EGY', 'date': '2015', 'value': 23.2, 'unit': '', 'obs_status': '', 'decimal': 1}, {'indicator': {'id': 'IC.REG.COST.PC.ZS', 'value': 'Cost of business start-up procedures (% of GNI per capita)'}, 'country': {'id': 'EG', 'value': 'Egypt, Arab Rep.'}, 'countryiso3code': 'EGY', 'date': '2014', 'value': 26, 'unit': '', 'obs_status': '', 'decimal': 1}, {'indicator': {'id': 'IC.REG.COST.PC.ZS', 'value': 'Cost of business start-up procedures (% of GNI per capita)'}, 'country': {'id': 'EG', 'value': 'Egypt, Arab Rep.'}, 'countryiso3code': 'EGY', 'date': '2013', 'value': 26.9, 'unit': '', 'obs_status': '', 'decimal': 1}, {'indicator': {'id': 'IC.REG.COST.PC.ZS', 'value': 'Cost of business start-up procedures (% of GNI per capita)'}, 'country': {'id': 'EG', 'value': 'Egypt, Arab Rep.'}, 'countryiso3code': 'EGY', 'date': '2012', 'value': 28.6, 'unit': '', 'obs_status': '', 'decimal': 1}, {'indicator': {'id': 'IC.REG.COST.PC.ZS', 'value': 'Cost of business start-up procedures (% of GNI per capita)'}, 'country': {'id': 'EG', 'value': 'Egypt, Arab Rep.'}, 'countryiso3code': 'EGY', 'date': '2011', 'value': 29.5, 'unit': '', 'obs_status': '', 'decimal': 1}, {'indicator': {'id': 'IC.REG.COST.PC.ZS', 'value': 'Cost of business start-up procedures (% of GNI per capita)'}, 'country': {'id': 'EG', 'value': 'Egypt, Arab Rep.'}, 'countryiso3code': 'EGY', 'date': '2010', 'value': 30.9, 'unit': '', 'obs_status': '', 'decimal': 1}, {'indicator': {'id': 'IC.REG.COST.PC.ZS', 'value': 'Cost of business start-up procedures (% of GNI per capita)'}, 'country': {'id': 'EG', 'value': 'Egypt, Arab Rep.'}, 'countryiso3code': 'EGY', 'date': '2009', 'value': 41.7, 'unit': '', 'obs_status': '', 'decimal': 1}, {'indicator': {'id': 'IC.REG.COST.PC.ZS', 'value': 'Cost of business start-up procedures (% of GNI per capita)'}, 'country': {'id': 'EG', 'value': 'Egypt, Arab Rep.'}, 'countryiso3code': 'EGY', 'date': '2008', 'value': 44.9, 'unit': '', 'obs_status': '', 'decimal': 1}, {'indicator': {'id': 'IC.REG.COST.PC.ZS', 'value': 'Cost of business start-up procedures (% of GNI per capita)'}, 'country': {'id': 'EG', 'value': 'Egypt, Arab Rep.'}, 'countryiso3code': 'EGY', 'date': '2007', 'value': 53.8, 'unit': '', 'obs_status': '', 'decimal': 1}, {'indicator': {'id': 'IC.REG.COST.PC.ZS', 'value': 'Cost of business start-up procedures (% of GNI per capita)'}, 'country': {'id': 'EG', 'value': 'Egypt, Arab Rep.'}, 'countryiso3code': 'EGY', 'date': '2006', 'value': 94.7, 'unit': '', 'obs_status': '', 'decimal': 1}, {'indicator': {'id': 'IC.REG.COST.PC.ZS', 'value': 'Cost of business start-up procedures (% of GNI per capita)'}, 'country': {'id': 'EG', 'value': 'Egypt, Arab Rep.'}, 'countryiso3code': 'EGY', 'date': '2005', 'value': 131.7, 'unit': '', 'obs_status': '', 'decimal': 1}, {'indicator': {'id': 'IC.REG.COST.PC.ZS', 'value': 'Cost of business start-up procedures (% of GNI per capita)'}, 'country': {'id': 'EG', 'value': 'Egypt, Arab Rep.'}, 'countryiso3code': 'EGY', 'date': '2004', 'value': 89.3, 'unit': '', 'obs_status': '', 'decimal': 1}, {'indicator': {'id': 'IC.REG.COST.PC.ZS', 'value': 'Cost of business start-up procedures (% of GNI per capita)'}, 'country': {'id': 'EG', 'value': 'Egypt, Arab Rep.'}, 'countryiso3code': 'EGY', 'date': '2003', 'value': 92.7, 'unit': '', 'obs_status': '', 'decimal': 1}, {'indicator': {'id': 'IC.REG.COST.PC.ZS', 'value': 'Cost of business start-up procedures (% of GNI per capita)'}, 'country': {'id': 'EG', 'value': 'Egypt, Arab Rep.'}, 'countryiso3code': 'EGY', 'date': '2002', 'value': None, 'unit': '', 'obs_status': '', 'decimal': 1}, {'indicator': {'id': 'IC.REG.COST.PC.ZS', 'value': 'Cost of business start-up procedures (% of GNI per capita)'}, 'country': {'id': 'EG', 'value': 'Egypt, Arab Rep.'}, 'countryiso3code': 'EGY', 'date': '2001', 'value': None, 'unit': '', 'obs_status': '', 'decimal': 1}, {'indicator': {'id': 'IC.REG.COST.PC.ZS', 'value': 'Cost of business start-up procedures (% of GNI per capita)'}, 'country': {'id': 'EG', 'value': 'Egypt, Arab Rep.'}, 'countryiso3code': 'EGY', 'date': '2000', 'value': None, 'unit': '', 'obs_status': '', 'decimal': 1}, {'indicator': {'id': 'IC.REG.COST.PC.ZS', 'value': 'Cost of business start-up procedures (% of GNI per capita)'}, 'country': {'id': 'EG', 'value': 'Egypt, Arab Rep.'}, 'countryiso3code': 'EGY', 'date': '1999', 'value': None, 'unit': '', 'obs_status': '', 'decimal': 1}, {'indicator': {'id': 'IC.REG.COST.PC.ZS', 'value': 'Cost of business start-up procedures (% of GNI per capita)'}, 'country': {'id': 'EG', 'value': 'Egypt, Arab Rep.'}, 'countryiso3code': 'EGY', 'date': '1998', 'value': None, 'unit': '', 'obs_status': '', 'decimal': 1}, {'indicator': {'id': 'IC.REG.COST.PC.ZS', 'value': 'Cost of business start-up procedures (% of GNI per capita)'}, 'country': {'id': 'EG', 'value': 'Egypt, Arab Rep.'}, 'countryiso3code': 'EGY', 'date': '1997', 'value': None, 'unit': '', 'obs_status': '', 'decimal': 1}, {'indicator': {'id': 'IC.REG.COST.PC.ZS', 'value': 'Cost of business start-up procedures (% of GNI per capita)'}, 'country': {'id': 'EG', 'value': 'Egypt, Arab Rep.'}, 'countryiso3code': 'EGY', 'date': '1996', 'value': None, 'unit': '', 'obs_status': '', 'decimal': 1}, {'indicator': {'id': 'IC.REG.COST.PC.ZS', 'value': 'Cost of business start-up procedures (% of GNI per capita)'}, 'country': {'id': 'EG', 'value': 'Egypt, Arab Rep.'}, 'countryiso3code': 'EGY', 'date': '1995', 'value': None, 'unit': '', 'obs_status': '', 'decimal': 1}, {'indicator': {'id': 'IC.REG.COST.PC.ZS', 'value': 'Cost of business start-up procedures (% of GNI per capita)'}, 'country': {'id': 'EG', 'value': 'Egypt, Arab Rep.'}, 'countryiso3code': 'EGY', 'date': '1994', 'value': None, 'unit': '', 'obs_status': '', 'decimal': 1}, {'indicator': {'id': 'IC.REG.COST.PC.ZS', 'value': 'Cost of business start-up procedures (% of GNI per capita)'}, 'country': {'id': 'EG', 'value': 'Egypt, Arab Rep.'}, 'countryiso3code': 'EGY', 'date': '1993', 'value': None, 'unit': '', 'obs_status': '', 'decimal': 1}, {'indicator': {'id': 'IC.REG.COST.PC.ZS', 'value': 'Cost of business start-up procedures (% of GNI per capita)'}, 'country': {'id': 'EG', 'value': 'Egypt, Arab Rep.'}, 'countryiso3code': 'EGY', 'date': '1992', 'value': None, 'unit': '', 'obs_status': '', 'decimal': 1}, {'indicator': {'id': 'IC.REG.COST.PC.ZS', 'value': 'Cost of business start-up procedures (% of GNI per capita)'}, 'country': {'id': 'EG', 'value': 'Egypt, Arab Rep.'}, 'countryiso3code': 'EGY', 'date': '1991', 'value': None, 'unit': '', 'obs_status': '', 'decimal': 1}, {'indicator': {'id': 'IC.REG.COST.PC.ZS', 'value': 'Cost of business start-up procedures (% of GNI per capita)'}, 'country': {'id': 'EG', 'value': 'Egypt, Arab Rep.'}, 'countryiso3code': 'EGY', 'date': '1990', 'value': None, 'unit': '', 'obs_status': '', 'decimal': 1}, {'indicator': {'id': 'IC.REG.COST.PC.ZS', 'value': 'Cost of business start-up procedures (% of GNI per capita)'}, 'country': {'id': 'EG', 'value': 'Egypt, Arab Rep.'}, 'countryiso3code': 'EGY', 'date': '1989', 'value': None, 'unit': '', 'obs_status': '', 'decimal': 1}, {'indicator': {'id': 'IC.REG.COST.PC.ZS', 'value': 'Cost of business start-up procedures (% of GNI per capita)'}, 'country': {'id': 'EG', 'value': 'Egypt, Arab Rep.'}, 'countryiso3code': 'EGY', 'date': '1988', 'value': None, 'unit': '', 'obs_status': '', 'decimal': 1}, {'indicator': {'id': 'IC.REG.COST.PC.ZS', 'value': 'Cost of business start-up procedures (% of GNI per capita)'}, 'country': {'id': 'EG', 'value': 'Egypt, Arab Rep.'}, 'countryiso3code': 'EGY', 'date': '1987', 'value': None, 'unit': '', 'obs_status': '', 'decimal': 1}, {'indicator': {'id': 'IC.REG.COST.PC.ZS', 'value': 'Cost of business start-up procedures (% of GNI per capita)'}, 'country': {'id': 'EG', 'value': 'Egypt, Arab Rep.'}, 'countryiso3code': 'EGY', 'date': '1986', 'value': None, 'unit': '', 'obs_status': '', 'decimal': 1}, {'indicator': {'id': 'IC.REG.COST.PC.ZS', 'value': 'Cost of business start-up procedures (% of GNI per capita)'}, 'country': {'id': 'EG', 'value': 'Egypt, Arab Rep.'}, 'countryiso3code': 'EGY', 'date': '1985', 'value': None, 'unit': '', 'obs_status': '', 'decimal': 1}, {'indicator': {'id': 'IC.REG.COST.PC.ZS', 'value': 'Cost of business start-up procedures (% of GNI per capita)'}, 'country': {'id': 'EG', 'value': 'Egypt, Arab Rep.'}, 'countryiso3code': 'EGY', 'date': '1984', 'value': None, 'unit': '', 'obs_status': '', 'decimal': 1}, {'indicator': {'id': 'IC.REG.COST.PC.ZS', 'value': 'Cost of business start-up procedures (% of GNI per capita)'}, 'country': {'id': 'EG', 'value': 'Egypt, Arab Rep.'}, 'countryiso3code': 'EGY', 'date': '1983', 'value': None, 'unit': '', 'obs_status': '', 'decimal': 1}, {'indicator': {'id': 'IC.REG.COST.PC.ZS', 'value': 'Cost of business start-up procedures (% of GNI per capita)'}, 'country': {'id': 'EG', 'value': 'Egypt, Arab Rep.'}, 'countryiso3code': 'EGY', 'date': '1982', 'value': None, 'unit': '', 'obs_status': '', 'decimal': 1}, {'indicator': {'id': 'IC.REG.COST.PC.ZS', 'value': 'Cost of business start-up procedures (% of GNI per capita)'}, 'country': {'id': 'EG', 'value': 'Egypt, Arab Rep.'}, 'countryiso3code': 'EGY', 'date': '1981', 'value': None, 'unit': '', 'obs_status': '', 'decimal': 1}, {'indicator': {'id': 'IC.REG.COST.PC.ZS', 'value': 'Cost of business start-up procedures (% of GNI per capita)'}, 'country': {'id': 'EG', 'value': 'Egypt, Arab Rep.'}, 'countryiso3code': 'EGY', 'date': '1980', 'value': None, 'unit': '', 'obs_status': '', 'decimal': 1}, {'indicator': {'id': 'IC.REG.COST.PC.ZS', 'value': 'Cost of business start-up procedures (% of GNI per capita)'}, 'country': {'id': 'EG', 'value': 'Egypt, Arab Rep.'}, 'countryiso3code': 'EGY', 'date': '1979', 'value': None, 'unit': '', 'obs_status': '', 'decimal': 1}, {'indicator': {'id': 'IC.REG.COST.PC.ZS', 'value': 'Cost of business start-up procedures (% of GNI per capita)'}, 'country': {'id': 'EG', 'value': 'Egypt, Arab Rep.'}, 'countryiso3code': 'EGY', 'date': '1978', 'value': None, 'unit': '', 'obs_status': '', 'decimal': 1}, {'indicator': {'id': 'IC.REG.COST.PC.ZS', 'value': 'Cost of business start-up procedures (% of GNI per capita)'}, 'country': {'id': 'EG', 'value': 'Egypt, Arab Rep.'}, 'countryiso3code': 'EGY', 'date': '1977', 'value': None, 'unit': '', 'obs_status': '', 'decimal': 1}, {'indicator': {'id': 'IC.REG.COST.PC.ZS', 'value': 'Cost of business start-up procedures (% of GNI per capita)'}, 'country': {'id': 'EG', 'value': 'Egypt, Arab Rep.'}, 'countryiso3code': 'EGY', 'date': '1976', 'value': None, 'unit': '', 'obs_status': '', 'decimal': 1}, {'indicator': {'id': 'IC.REG.COST.PC.ZS', 'value': 'Cost of business start-up procedures (% of GNI per capita)'}, 'country': {'id': 'EG', 'value': 'Egypt, Arab Rep.'}, 'countryiso3code': 'EGY', 'date': '1975', 'value': None, 'unit': '', 'obs_status': '', 'decimal': 1}, {'indicator': {'id': 'IC.REG.COST.PC.ZS', 'value': 'Cost of business start-up procedures (% of GNI per capita)'}, 'country': {'id': 'EG', 'value': 'Egypt, Arab Rep.'}, 'countryiso3code': 'EGY', 'date': '1974', 'value': None, 'unit': '', 'obs_status': '', 'decimal': 1}, {'indicator': {'id': 'IC.REG.COST.PC.ZS', 'value': 'Cost of business start-up procedures (% of GNI per capita)'}, 'country': {'id': 'EG', 'value': 'Egypt, Arab Rep.'}, 'countryiso3code': 'EGY', 'date': '1973', 'value': None, 'unit': '', 'obs_status': '', 'decimal': 1}, {'indicator': {'id': 'IC.REG.COST.PC.ZS', 'value': 'Cost of business start-up procedures (% of GNI per capita)'}, 'country': {'id': 'EG', 'value': 'Egypt, Arab Rep.'}, 'countryiso3code': 'EGY', 'date': '1972', 'value': None, 'unit': '', 'obs_status': '', 'decimal': 1}, {'indicator': {'id': 'IC.REG.COST.PC.ZS', 'value': 'Cost of business start-up procedures (% of GNI per capita)'}, 'country': {'id': 'EG', 'value': 'Egypt, Arab Rep.'}, 'countryiso3code': 'EGY', 'date': '1971', 'value': None, 'unit': '', 'obs_status': '', 'decimal': 1}]]\n",
            "WB_data_cost_EGY.json\n"
          ]
        },
        {
          "output_type": "display_data",
          "data": {
            "application/javascript": [
              "\n",
              "    async function download(id, filename, size) {\n",
              "      if (!google.colab.kernel.accessAllowed) {\n",
              "        return;\n",
              "      }\n",
              "      const div = document.createElement('div');\n",
              "      const label = document.createElement('label');\n",
              "      label.textContent = `Downloading \"${filename}\": `;\n",
              "      div.appendChild(label);\n",
              "      const progress = document.createElement('progress');\n",
              "      progress.max = size;\n",
              "      div.appendChild(progress);\n",
              "      document.body.appendChild(div);\n",
              "\n",
              "      const buffers = [];\n",
              "      let downloaded = 0;\n",
              "\n",
              "      const channel = await google.colab.kernel.comms.open(id);\n",
              "      // Send a message to notify the kernel that we're ready.\n",
              "      channel.send({})\n",
              "\n",
              "      for await (const message of channel.messages) {\n",
              "        // Send a message to notify the kernel that we're ready.\n",
              "        channel.send({})\n",
              "        if (message.buffers) {\n",
              "          for (const buffer of message.buffers) {\n",
              "            buffers.push(buffer);\n",
              "            downloaded += buffer.byteLength;\n",
              "            progress.value = downloaded;\n",
              "          }\n",
              "        }\n",
              "      }\n",
              "      const blob = new Blob(buffers, {type: 'application/binary'});\n",
              "      const a = document.createElement('a');\n",
              "      a.href = window.URL.createObjectURL(blob);\n",
              "      a.download = filename;\n",
              "      div.appendChild(a);\n",
              "      a.click();\n",
              "      div.remove();\n",
              "    }\n",
              "  "
            ],
            "text/plain": [
              "<IPython.core.display.Javascript object>"
            ]
          },
          "metadata": {}
        },
        {
          "output_type": "display_data",
          "data": {
            "application/javascript": [
              "download(\"download_aa225980-3be5-4679-9c48-b9956f0f7dd2\", \"WB_data_cost_EGY.json\", 24025)"
            ],
            "text/plain": [
              "<IPython.core.display.Javascript object>"
            ]
          },
          "metadata": {}
        },
        {
          "output_type": "stream",
          "name": "stdout",
          "text": [
            "NGA\n",
            "http://api.worldbank.org/v2/country/NGA/indicator/IC.REG.COST.PC.ZS?format=json\n",
            "[{'page': 1, 'pages': 2, 'per_page': 50, 'total': 61, 'sourceid': '2', 'sourcename': 'World Development Indicators', 'lastupdated': '2021-10-28'}, [{'indicator': {'id': 'IC.REG.COST.PC.ZS', 'value': 'Cost of business start-up procedures (% of GNI per capita)'}, 'country': {'id': 'NG', 'value': 'Nigeria'}, 'countryiso3code': 'NGA', 'date': '2020', 'value': None, 'unit': '', 'obs_status': '', 'decimal': 1}, {'indicator': {'id': 'IC.REG.COST.PC.ZS', 'value': 'Cost of business start-up procedures (% of GNI per capita)'}, 'country': {'id': 'NG', 'value': 'Nigeria'}, 'countryiso3code': 'NGA', 'date': '2019', 'value': 26.1, 'unit': '', 'obs_status': '', 'decimal': 1}, {'indicator': {'id': 'IC.REG.COST.PC.ZS', 'value': 'Cost of business start-up procedures (% of GNI per capita)'}, 'country': {'id': 'NG', 'value': 'Nigeria'}, 'countryiso3code': 'NGA', 'date': '2018', 'value': 27.6, 'unit': '', 'obs_status': '', 'decimal': 1}, {'indicator': {'id': 'IC.REG.COST.PC.ZS', 'value': 'Cost of business start-up procedures (% of GNI per capita)'}, 'country': {'id': 'NG', 'value': 'Nigeria'}, 'countryiso3code': 'NGA', 'date': '2017', 'value': 29.2, 'unit': '', 'obs_status': '', 'decimal': 1}, {'indicator': {'id': 'IC.REG.COST.PC.ZS', 'value': 'Cost of business start-up procedures (% of GNI per capita)'}, 'country': {'id': 'NG', 'value': 'Nigeria'}, 'countryiso3code': 'NGA', 'date': '2016', 'value': 31.3, 'unit': '', 'obs_status': '', 'decimal': 1}, {'indicator': {'id': 'IC.REG.COST.PC.ZS', 'value': 'Cost of business start-up procedures (% of GNI per capita)'}, 'country': {'id': 'NG', 'value': 'Nigeria'}, 'countryiso3code': 'NGA', 'date': '2015', 'value': 31.2, 'unit': '', 'obs_status': '', 'decimal': 1}, {'indicator': {'id': 'IC.REG.COST.PC.ZS', 'value': 'Cost of business start-up procedures (% of GNI per capita)'}, 'country': {'id': 'NG', 'value': 'Nigeria'}, 'countryiso3code': 'NGA', 'date': '2014', 'value': 33.4, 'unit': '', 'obs_status': '', 'decimal': 1}, {'indicator': {'id': 'IC.REG.COST.PC.ZS', 'value': 'Cost of business start-up procedures (% of GNI per capita)'}, 'country': {'id': 'NG', 'value': 'Nigeria'}, 'countryiso3code': 'NGA', 'date': '2013', 'value': 58.7, 'unit': '', 'obs_status': '', 'decimal': 1}, {'indicator': {'id': 'IC.REG.COST.PC.ZS', 'value': 'Cost of business start-up procedures (% of GNI per capita)'}, 'country': {'id': 'NG', 'value': 'Nigeria'}, 'countryiso3code': 'NGA', 'date': '2012', 'value': None, 'unit': '', 'obs_status': '', 'decimal': 1}, {'indicator': {'id': 'IC.REG.COST.PC.ZS', 'value': 'Cost of business start-up procedures (% of GNI per capita)'}, 'country': {'id': 'NG', 'value': 'Nigeria'}, 'countryiso3code': 'NGA', 'date': '2011', 'value': None, 'unit': '', 'obs_status': '', 'decimal': 1}, {'indicator': {'id': 'IC.REG.COST.PC.ZS', 'value': 'Cost of business start-up procedures (% of GNI per capita)'}, 'country': {'id': 'NG', 'value': 'Nigeria'}, 'countryiso3code': 'NGA', 'date': '2010', 'value': None, 'unit': '', 'obs_status': '', 'decimal': 1}, {'indicator': {'id': 'IC.REG.COST.PC.ZS', 'value': 'Cost of business start-up procedures (% of GNI per capita)'}, 'country': {'id': 'NG', 'value': 'Nigeria'}, 'countryiso3code': 'NGA', 'date': '2009', 'value': None, 'unit': '', 'obs_status': '', 'decimal': 1}, {'indicator': {'id': 'IC.REG.COST.PC.ZS', 'value': 'Cost of business start-up procedures (% of GNI per capita)'}, 'country': {'id': 'NG', 'value': 'Nigeria'}, 'countryiso3code': 'NGA', 'date': '2008', 'value': None, 'unit': '', 'obs_status': '', 'decimal': 1}, {'indicator': {'id': 'IC.REG.COST.PC.ZS', 'value': 'Cost of business start-up procedures (% of GNI per capita)'}, 'country': {'id': 'NG', 'value': 'Nigeria'}, 'countryiso3code': 'NGA', 'date': '2007', 'value': None, 'unit': '', 'obs_status': '', 'decimal': 1}, {'indicator': {'id': 'IC.REG.COST.PC.ZS', 'value': 'Cost of business start-up procedures (% of GNI per capita)'}, 'country': {'id': 'NG', 'value': 'Nigeria'}, 'countryiso3code': 'NGA', 'date': '2006', 'value': None, 'unit': '', 'obs_status': '', 'decimal': 1}, {'indicator': {'id': 'IC.REG.COST.PC.ZS', 'value': 'Cost of business start-up procedures (% of GNI per capita)'}, 'country': {'id': 'NG', 'value': 'Nigeria'}, 'countryiso3code': 'NGA', 'date': '2005', 'value': None, 'unit': '', 'obs_status': '', 'decimal': 1}, {'indicator': {'id': 'IC.REG.COST.PC.ZS', 'value': 'Cost of business start-up procedures (% of GNI per capita)'}, 'country': {'id': 'NG', 'value': 'Nigeria'}, 'countryiso3code': 'NGA', 'date': '2004', 'value': None, 'unit': '', 'obs_status': '', 'decimal': 1}, {'indicator': {'id': 'IC.REG.COST.PC.ZS', 'value': 'Cost of business start-up procedures (% of GNI per capita)'}, 'country': {'id': 'NG', 'value': 'Nigeria'}, 'countryiso3code': 'NGA', 'date': '2003', 'value': None, 'unit': '', 'obs_status': '', 'decimal': 1}, {'indicator': {'id': 'IC.REG.COST.PC.ZS', 'value': 'Cost of business start-up procedures (% of GNI per capita)'}, 'country': {'id': 'NG', 'value': 'Nigeria'}, 'countryiso3code': 'NGA', 'date': '2002', 'value': None, 'unit': '', 'obs_status': '', 'decimal': 1}, {'indicator': {'id': 'IC.REG.COST.PC.ZS', 'value': 'Cost of business start-up procedures (% of GNI per capita)'}, 'country': {'id': 'NG', 'value': 'Nigeria'}, 'countryiso3code': 'NGA', 'date': '2001', 'value': None, 'unit': '', 'obs_status': '', 'decimal': 1}, {'indicator': {'id': 'IC.REG.COST.PC.ZS', 'value': 'Cost of business start-up procedures (% of GNI per capita)'}, 'country': {'id': 'NG', 'value': 'Nigeria'}, 'countryiso3code': 'NGA', 'date': '2000', 'value': None, 'unit': '', 'obs_status': '', 'decimal': 1}, {'indicator': {'id': 'IC.REG.COST.PC.ZS', 'value': 'Cost of business start-up procedures (% of GNI per capita)'}, 'country': {'id': 'NG', 'value': 'Nigeria'}, 'countryiso3code': 'NGA', 'date': '1999', 'value': None, 'unit': '', 'obs_status': '', 'decimal': 1}, {'indicator': {'id': 'IC.REG.COST.PC.ZS', 'value': 'Cost of business start-up procedures (% of GNI per capita)'}, 'country': {'id': 'NG', 'value': 'Nigeria'}, 'countryiso3code': 'NGA', 'date': '1998', 'value': None, 'unit': '', 'obs_status': '', 'decimal': 1}, {'indicator': {'id': 'IC.REG.COST.PC.ZS', 'value': 'Cost of business start-up procedures (% of GNI per capita)'}, 'country': {'id': 'NG', 'value': 'Nigeria'}, 'countryiso3code': 'NGA', 'date': '1997', 'value': None, 'unit': '', 'obs_status': '', 'decimal': 1}, {'indicator': {'id': 'IC.REG.COST.PC.ZS', 'value': 'Cost of business start-up procedures (% of GNI per capita)'}, 'country': {'id': 'NG', 'value': 'Nigeria'}, 'countryiso3code': 'NGA', 'date': '1996', 'value': None, 'unit': '', 'obs_status': '', 'decimal': 1}, {'indicator': {'id': 'IC.REG.COST.PC.ZS', 'value': 'Cost of business start-up procedures (% of GNI per capita)'}, 'country': {'id': 'NG', 'value': 'Nigeria'}, 'countryiso3code': 'NGA', 'date': '1995', 'value': None, 'unit': '', 'obs_status': '', 'decimal': 1}, {'indicator': {'id': 'IC.REG.COST.PC.ZS', 'value': 'Cost of business start-up procedures (% of GNI per capita)'}, 'country': {'id': 'NG', 'value': 'Nigeria'}, 'countryiso3code': 'NGA', 'date': '1994', 'value': None, 'unit': '', 'obs_status': '', 'decimal': 1}, {'indicator': {'id': 'IC.REG.COST.PC.ZS', 'value': 'Cost of business start-up procedures (% of GNI per capita)'}, 'country': {'id': 'NG', 'value': 'Nigeria'}, 'countryiso3code': 'NGA', 'date': '1993', 'value': None, 'unit': '', 'obs_status': '', 'decimal': 1}, {'indicator': {'id': 'IC.REG.COST.PC.ZS', 'value': 'Cost of business start-up procedures (% of GNI per capita)'}, 'country': {'id': 'NG', 'value': 'Nigeria'}, 'countryiso3code': 'NGA', 'date': '1992', 'value': None, 'unit': '', 'obs_status': '', 'decimal': 1}, {'indicator': {'id': 'IC.REG.COST.PC.ZS', 'value': 'Cost of business start-up procedures (% of GNI per capita)'}, 'country': {'id': 'NG', 'value': 'Nigeria'}, 'countryiso3code': 'NGA', 'date': '1991', 'value': None, 'unit': '', 'obs_status': '', 'decimal': 1}, {'indicator': {'id': 'IC.REG.COST.PC.ZS', 'value': 'Cost of business start-up procedures (% of GNI per capita)'}, 'country': {'id': 'NG', 'value': 'Nigeria'}, 'countryiso3code': 'NGA', 'date': '1990', 'value': None, 'unit': '', 'obs_status': '', 'decimal': 1}, {'indicator': {'id': 'IC.REG.COST.PC.ZS', 'value': 'Cost of business start-up procedures (% of GNI per capita)'}, 'country': {'id': 'NG', 'value': 'Nigeria'}, 'countryiso3code': 'NGA', 'date': '1989', 'value': None, 'unit': '', 'obs_status': '', 'decimal': 1}, {'indicator': {'id': 'IC.REG.COST.PC.ZS', 'value': 'Cost of business start-up procedures (% of GNI per capita)'}, 'country': {'id': 'NG', 'value': 'Nigeria'}, 'countryiso3code': 'NGA', 'date': '1988', 'value': None, 'unit': '', 'obs_status': '', 'decimal': 1}, {'indicator': {'id': 'IC.REG.COST.PC.ZS', 'value': 'Cost of business start-up procedures (% of GNI per capita)'}, 'country': {'id': 'NG', 'value': 'Nigeria'}, 'countryiso3code': 'NGA', 'date': '1987', 'value': None, 'unit': '', 'obs_status': '', 'decimal': 1}, {'indicator': {'id': 'IC.REG.COST.PC.ZS', 'value': 'Cost of business start-up procedures (% of GNI per capita)'}, 'country': {'id': 'NG', 'value': 'Nigeria'}, 'countryiso3code': 'NGA', 'date': '1986', 'value': None, 'unit': '', 'obs_status': '', 'decimal': 1}, {'indicator': {'id': 'IC.REG.COST.PC.ZS', 'value': 'Cost of business start-up procedures (% of GNI per capita)'}, 'country': {'id': 'NG', 'value': 'Nigeria'}, 'countryiso3code': 'NGA', 'date': '1985', 'value': None, 'unit': '', 'obs_status': '', 'decimal': 1}, {'indicator': {'id': 'IC.REG.COST.PC.ZS', 'value': 'Cost of business start-up procedures (% of GNI per capita)'}, 'country': {'id': 'NG', 'value': 'Nigeria'}, 'countryiso3code': 'NGA', 'date': '1984', 'value': None, 'unit': '', 'obs_status': '', 'decimal': 1}, {'indicator': {'id': 'IC.REG.COST.PC.ZS', 'value': 'Cost of business start-up procedures (% of GNI per capita)'}, 'country': {'id': 'NG', 'value': 'Nigeria'}, 'countryiso3code': 'NGA', 'date': '1983', 'value': None, 'unit': '', 'obs_status': '', 'decimal': 1}, {'indicator': {'id': 'IC.REG.COST.PC.ZS', 'value': 'Cost of business start-up procedures (% of GNI per capita)'}, 'country': {'id': 'NG', 'value': 'Nigeria'}, 'countryiso3code': 'NGA', 'date': '1982', 'value': None, 'unit': '', 'obs_status': '', 'decimal': 1}, {'indicator': {'id': 'IC.REG.COST.PC.ZS', 'value': 'Cost of business start-up procedures (% of GNI per capita)'}, 'country': {'id': 'NG', 'value': 'Nigeria'}, 'countryiso3code': 'NGA', 'date': '1981', 'value': None, 'unit': '', 'obs_status': '', 'decimal': 1}, {'indicator': {'id': 'IC.REG.COST.PC.ZS', 'value': 'Cost of business start-up procedures (% of GNI per capita)'}, 'country': {'id': 'NG', 'value': 'Nigeria'}, 'countryiso3code': 'NGA', 'date': '1980', 'value': None, 'unit': '', 'obs_status': '', 'decimal': 1}, {'indicator': {'id': 'IC.REG.COST.PC.ZS', 'value': 'Cost of business start-up procedures (% of GNI per capita)'}, 'country': {'id': 'NG', 'value': 'Nigeria'}, 'countryiso3code': 'NGA', 'date': '1979', 'value': None, 'unit': '', 'obs_status': '', 'decimal': 1}, {'indicator': {'id': 'IC.REG.COST.PC.ZS', 'value': 'Cost of business start-up procedures (% of GNI per capita)'}, 'country': {'id': 'NG', 'value': 'Nigeria'}, 'countryiso3code': 'NGA', 'date': '1978', 'value': None, 'unit': '', 'obs_status': '', 'decimal': 1}, {'indicator': {'id': 'IC.REG.COST.PC.ZS', 'value': 'Cost of business start-up procedures (% of GNI per capita)'}, 'country': {'id': 'NG', 'value': 'Nigeria'}, 'countryiso3code': 'NGA', 'date': '1977', 'value': None, 'unit': '', 'obs_status': '', 'decimal': 1}, {'indicator': {'id': 'IC.REG.COST.PC.ZS', 'value': 'Cost of business start-up procedures (% of GNI per capita)'}, 'country': {'id': 'NG', 'value': 'Nigeria'}, 'countryiso3code': 'NGA', 'date': '1976', 'value': None, 'unit': '', 'obs_status': '', 'decimal': 1}, {'indicator': {'id': 'IC.REG.COST.PC.ZS', 'value': 'Cost of business start-up procedures (% of GNI per capita)'}, 'country': {'id': 'NG', 'value': 'Nigeria'}, 'countryiso3code': 'NGA', 'date': '1975', 'value': None, 'unit': '', 'obs_status': '', 'decimal': 1}, {'indicator': {'id': 'IC.REG.COST.PC.ZS', 'value': 'Cost of business start-up procedures (% of GNI per capita)'}, 'country': {'id': 'NG', 'value': 'Nigeria'}, 'countryiso3code': 'NGA', 'date': '1974', 'value': None, 'unit': '', 'obs_status': '', 'decimal': 1}, {'indicator': {'id': 'IC.REG.COST.PC.ZS', 'value': 'Cost of business start-up procedures (% of GNI per capita)'}, 'country': {'id': 'NG', 'value': 'Nigeria'}, 'countryiso3code': 'NGA', 'date': '1973', 'value': None, 'unit': '', 'obs_status': '', 'decimal': 1}, {'indicator': {'id': 'IC.REG.COST.PC.ZS', 'value': 'Cost of business start-up procedures (% of GNI per capita)'}, 'country': {'id': 'NG', 'value': 'Nigeria'}, 'countryiso3code': 'NGA', 'date': '1972', 'value': None, 'unit': '', 'obs_status': '', 'decimal': 1}, {'indicator': {'id': 'IC.REG.COST.PC.ZS', 'value': 'Cost of business start-up procedures (% of GNI per capita)'}, 'country': {'id': 'NG', 'value': 'Nigeria'}, 'countryiso3code': 'NGA', 'date': '1971', 'value': None, 'unit': '', 'obs_status': '', 'decimal': 1}]]\n",
            "WB_data_cost_NGA.json\n"
          ]
        },
        {
          "output_type": "display_data",
          "data": {
            "application/javascript": [
              "\n",
              "    async function download(id, filename, size) {\n",
              "      if (!google.colab.kernel.accessAllowed) {\n",
              "        return;\n",
              "      }\n",
              "      const div = document.createElement('div');\n",
              "      const label = document.createElement('label');\n",
              "      label.textContent = `Downloading \"${filename}\": `;\n",
              "      div.appendChild(label);\n",
              "      const progress = document.createElement('progress');\n",
              "      progress.max = size;\n",
              "      div.appendChild(progress);\n",
              "      document.body.appendChild(div);\n",
              "\n",
              "      const buffers = [];\n",
              "      let downloaded = 0;\n",
              "\n",
              "      const channel = await google.colab.kernel.comms.open(id);\n",
              "      // Send a message to notify the kernel that we're ready.\n",
              "      channel.send({})\n",
              "\n",
              "      for await (const message of channel.messages) {\n",
              "        // Send a message to notify the kernel that we're ready.\n",
              "        channel.send({})\n",
              "        if (message.buffers) {\n",
              "          for (const buffer of message.buffers) {\n",
              "            buffers.push(buffer);\n",
              "            downloaded += buffer.byteLength;\n",
              "            progress.value = downloaded;\n",
              "          }\n",
              "        }\n",
              "      }\n",
              "      const blob = new Blob(buffers, {type: 'application/binary'});\n",
              "      const a = document.createElement('a');\n",
              "      a.href = window.URL.createObjectURL(blob);\n",
              "      a.download = filename;\n",
              "      div.appendChild(a);\n",
              "      a.click();\n",
              "      div.remove();\n",
              "    }\n",
              "  "
            ],
            "text/plain": [
              "<IPython.core.display.Javascript object>"
            ]
          },
          "metadata": {}
        },
        {
          "output_type": "display_data",
          "data": {
            "application/javascript": [
              "download(\"download_9add4c60-bee4-4ec4-864f-a82a4f237aba\", \"WB_data_cost_NGA.json\", 23576)"
            ],
            "text/plain": [
              "<IPython.core.display.Javascript object>"
            ]
          },
          "metadata": {}
        },
        {
          "output_type": "stream",
          "name": "stdout",
          "text": [
            "TCD\n",
            "http://api.worldbank.org/v2/country/TCD/indicator/IC.REG.COST.PC.ZS?format=json\n",
            "[{'page': 1, 'pages': 2, 'per_page': 50, 'total': 61, 'sourceid': '2', 'sourcename': 'World Development Indicators', 'lastupdated': '2021-10-28'}, [{'indicator': {'id': 'IC.REG.COST.PC.ZS', 'value': 'Cost of business start-up procedures (% of GNI per capita)'}, 'country': {'id': 'TD', 'value': 'Chad'}, 'countryiso3code': 'TCD', 'date': '2020', 'value': None, 'unit': '', 'obs_status': '', 'decimal': 1}, {'indicator': {'id': 'IC.REG.COST.PC.ZS', 'value': 'Cost of business start-up procedures (% of GNI per capita)'}, 'country': {'id': 'TD', 'value': 'Chad'}, 'countryiso3code': 'TCD', 'date': '2019', 'value': 169.3, 'unit': '', 'obs_status': '', 'decimal': 1}, {'indicator': {'id': 'IC.REG.COST.PC.ZS', 'value': 'Cost of business start-up procedures (% of GNI per capita)'}, 'country': {'id': 'TD', 'value': 'Chad'}, 'countryiso3code': 'TCD', 'date': '2018', 'value': 172.3, 'unit': '', 'obs_status': '', 'decimal': 1}, {'indicator': {'id': 'IC.REG.COST.PC.ZS', 'value': 'Cost of business start-up procedures (% of GNI per capita)'}, 'country': {'id': 'TD', 'value': 'Chad'}, 'countryiso3code': 'TCD', 'date': '2017', 'value': 171.3, 'unit': '', 'obs_status': '', 'decimal': 1}, {'indicator': {'id': 'IC.REG.COST.PC.ZS', 'value': 'Cost of business start-up procedures (% of GNI per capita)'}, 'country': {'id': 'TD', 'value': 'Chad'}, 'countryiso3code': 'TCD', 'date': '2016', 'value': 159.8, 'unit': '', 'obs_status': '', 'decimal': 1}, {'indicator': {'id': 'IC.REG.COST.PC.ZS', 'value': 'Cost of business start-up procedures (% of GNI per capita)'}, 'country': {'id': 'TD', 'value': 'Chad'}, 'countryiso3code': 'TCD', 'date': '2015', 'value': 150.4, 'unit': '', 'obs_status': '', 'decimal': 1}, {'indicator': {'id': 'IC.REG.COST.PC.ZS', 'value': 'Cost of business start-up procedures (% of GNI per capita)'}, 'country': {'id': 'TD', 'value': 'Chad'}, 'countryiso3code': 'TCD', 'date': '2014', 'value': 150.6, 'unit': '', 'obs_status': '', 'decimal': 1}, {'indicator': {'id': 'IC.REG.COST.PC.ZS', 'value': 'Cost of business start-up procedures (% of GNI per capita)'}, 'country': {'id': 'TD', 'value': 'Chad'}, 'countryiso3code': 'TCD', 'date': '2013', 'value': 186.3, 'unit': '', 'obs_status': '', 'decimal': 1}, {'indicator': {'id': 'IC.REG.COST.PC.ZS', 'value': 'Cost of business start-up procedures (% of GNI per capita)'}, 'country': {'id': 'TD', 'value': 'Chad'}, 'countryiso3code': 'TCD', 'date': '2012', 'value': 202, 'unit': '', 'obs_status': '', 'decimal': 1}, {'indicator': {'id': 'IC.REG.COST.PC.ZS', 'value': 'Cost of business start-up procedures (% of GNI per capita)'}, 'country': {'id': 'TD', 'value': 'Chad'}, 'countryiso3code': 'TCD', 'date': '2011', 'value': 208.5, 'unit': '', 'obs_status': '', 'decimal': 1}, {'indicator': {'id': 'IC.REG.COST.PC.ZS', 'value': 'Cost of business start-up procedures (% of GNI per capita)'}, 'country': {'id': 'TD', 'value': 'Chad'}, 'countryiso3code': 'TCD', 'date': '2010', 'value': 226.9, 'unit': '', 'obs_status': '', 'decimal': 1}, {'indicator': {'id': 'IC.REG.COST.PC.ZS', 'value': 'Cost of business start-up procedures (% of GNI per capita)'}, 'country': {'id': 'TD', 'value': 'Chad'}, 'countryiso3code': 'TCD', 'date': '2009', 'value': 246.4, 'unit': '', 'obs_status': '', 'decimal': 1}, {'indicator': {'id': 'IC.REG.COST.PC.ZS', 'value': 'Cost of business start-up procedures (% of GNI per capita)'}, 'country': {'id': 'TD', 'value': 'Chad'}, 'countryiso3code': 'TCD', 'date': '2008', 'value': 253.1, 'unit': '', 'obs_status': '', 'decimal': 1}, {'indicator': {'id': 'IC.REG.COST.PC.ZS', 'value': 'Cost of business start-up procedures (% of GNI per capita)'}, 'country': {'id': 'TD', 'value': 'Chad'}, 'countryiso3code': 'TCD', 'date': '2007', 'value': 273.3, 'unit': '', 'obs_status': '', 'decimal': 1}, {'indicator': {'id': 'IC.REG.COST.PC.ZS', 'value': 'Cost of business start-up procedures (% of GNI per capita)'}, 'country': {'id': 'TD', 'value': 'Chad'}, 'countryiso3code': 'TCD', 'date': '2006', 'value': 241.6, 'unit': '', 'obs_status': '', 'decimal': 1}, {'indicator': {'id': 'IC.REG.COST.PC.ZS', 'value': 'Cost of business start-up procedures (% of GNI per capita)'}, 'country': {'id': 'TD', 'value': 'Chad'}, 'countryiso3code': 'TCD', 'date': '2005', 'value': 478.4, 'unit': '', 'obs_status': '', 'decimal': 1}, {'indicator': {'id': 'IC.REG.COST.PC.ZS', 'value': 'Cost of business start-up procedures (% of GNI per capita)'}, 'country': {'id': 'TD', 'value': 'Chad'}, 'countryiso3code': 'TCD', 'date': '2004', 'value': 483, 'unit': '', 'obs_status': '', 'decimal': 1}, {'indicator': {'id': 'IC.REG.COST.PC.ZS', 'value': 'Cost of business start-up procedures (% of GNI per capita)'}, 'country': {'id': 'TD', 'value': 'Chad'}, 'countryiso3code': 'TCD', 'date': '2003', 'value': 479.8, 'unit': '', 'obs_status': '', 'decimal': 1}, {'indicator': {'id': 'IC.REG.COST.PC.ZS', 'value': 'Cost of business start-up procedures (% of GNI per capita)'}, 'country': {'id': 'TD', 'value': 'Chad'}, 'countryiso3code': 'TCD', 'date': '2002', 'value': None, 'unit': '', 'obs_status': '', 'decimal': 1}, {'indicator': {'id': 'IC.REG.COST.PC.ZS', 'value': 'Cost of business start-up procedures (% of GNI per capita)'}, 'country': {'id': 'TD', 'value': 'Chad'}, 'countryiso3code': 'TCD', 'date': '2001', 'value': None, 'unit': '', 'obs_status': '', 'decimal': 1}, {'indicator': {'id': 'IC.REG.COST.PC.ZS', 'value': 'Cost of business start-up procedures (% of GNI per capita)'}, 'country': {'id': 'TD', 'value': 'Chad'}, 'countryiso3code': 'TCD', 'date': '2000', 'value': None, 'unit': '', 'obs_status': '', 'decimal': 1}, {'indicator': {'id': 'IC.REG.COST.PC.ZS', 'value': 'Cost of business start-up procedures (% of GNI per capita)'}, 'country': {'id': 'TD', 'value': 'Chad'}, 'countryiso3code': 'TCD', 'date': '1999', 'value': None, 'unit': '', 'obs_status': '', 'decimal': 1}, {'indicator': {'id': 'IC.REG.COST.PC.ZS', 'value': 'Cost of business start-up procedures (% of GNI per capita)'}, 'country': {'id': 'TD', 'value': 'Chad'}, 'countryiso3code': 'TCD', 'date': '1998', 'value': None, 'unit': '', 'obs_status': '', 'decimal': 1}, {'indicator': {'id': 'IC.REG.COST.PC.ZS', 'value': 'Cost of business start-up procedures (% of GNI per capita)'}, 'country': {'id': 'TD', 'value': 'Chad'}, 'countryiso3code': 'TCD', 'date': '1997', 'value': None, 'unit': '', 'obs_status': '', 'decimal': 1}, {'indicator': {'id': 'IC.REG.COST.PC.ZS', 'value': 'Cost of business start-up procedures (% of GNI per capita)'}, 'country': {'id': 'TD', 'value': 'Chad'}, 'countryiso3code': 'TCD', 'date': '1996', 'value': None, 'unit': '', 'obs_status': '', 'decimal': 1}, {'indicator': {'id': 'IC.REG.COST.PC.ZS', 'value': 'Cost of business start-up procedures (% of GNI per capita)'}, 'country': {'id': 'TD', 'value': 'Chad'}, 'countryiso3code': 'TCD', 'date': '1995', 'value': None, 'unit': '', 'obs_status': '', 'decimal': 1}, {'indicator': {'id': 'IC.REG.COST.PC.ZS', 'value': 'Cost of business start-up procedures (% of GNI per capita)'}, 'country': {'id': 'TD', 'value': 'Chad'}, 'countryiso3code': 'TCD', 'date': '1994', 'value': None, 'unit': '', 'obs_status': '', 'decimal': 1}, {'indicator': {'id': 'IC.REG.COST.PC.ZS', 'value': 'Cost of business start-up procedures (% of GNI per capita)'}, 'country': {'id': 'TD', 'value': 'Chad'}, 'countryiso3code': 'TCD', 'date': '1993', 'value': None, 'unit': '', 'obs_status': '', 'decimal': 1}, {'indicator': {'id': 'IC.REG.COST.PC.ZS', 'value': 'Cost of business start-up procedures (% of GNI per capita)'}, 'country': {'id': 'TD', 'value': 'Chad'}, 'countryiso3code': 'TCD', 'date': '1992', 'value': None, 'unit': '', 'obs_status': '', 'decimal': 1}, {'indicator': {'id': 'IC.REG.COST.PC.ZS', 'value': 'Cost of business start-up procedures (% of GNI per capita)'}, 'country': {'id': 'TD', 'value': 'Chad'}, 'countryiso3code': 'TCD', 'date': '1991', 'value': None, 'unit': '', 'obs_status': '', 'decimal': 1}, {'indicator': {'id': 'IC.REG.COST.PC.ZS', 'value': 'Cost of business start-up procedures (% of GNI per capita)'}, 'country': {'id': 'TD', 'value': 'Chad'}, 'countryiso3code': 'TCD', 'date': '1990', 'value': None, 'unit': '', 'obs_status': '', 'decimal': 1}, {'indicator': {'id': 'IC.REG.COST.PC.ZS', 'value': 'Cost of business start-up procedures (% of GNI per capita)'}, 'country': {'id': 'TD', 'value': 'Chad'}, 'countryiso3code': 'TCD', 'date': '1989', 'value': None, 'unit': '', 'obs_status': '', 'decimal': 1}, {'indicator': {'id': 'IC.REG.COST.PC.ZS', 'value': 'Cost of business start-up procedures (% of GNI per capita)'}, 'country': {'id': 'TD', 'value': 'Chad'}, 'countryiso3code': 'TCD', 'date': '1988', 'value': None, 'unit': '', 'obs_status': '', 'decimal': 1}, {'indicator': {'id': 'IC.REG.COST.PC.ZS', 'value': 'Cost of business start-up procedures (% of GNI per capita)'}, 'country': {'id': 'TD', 'value': 'Chad'}, 'countryiso3code': 'TCD', 'date': '1987', 'value': None, 'unit': '', 'obs_status': '', 'decimal': 1}, {'indicator': {'id': 'IC.REG.COST.PC.ZS', 'value': 'Cost of business start-up procedures (% of GNI per capita)'}, 'country': {'id': 'TD', 'value': 'Chad'}, 'countryiso3code': 'TCD', 'date': '1986', 'value': None, 'unit': '', 'obs_status': '', 'decimal': 1}, {'indicator': {'id': 'IC.REG.COST.PC.ZS', 'value': 'Cost of business start-up procedures (% of GNI per capita)'}, 'country': {'id': 'TD', 'value': 'Chad'}, 'countryiso3code': 'TCD', 'date': '1985', 'value': None, 'unit': '', 'obs_status': '', 'decimal': 1}, {'indicator': {'id': 'IC.REG.COST.PC.ZS', 'value': 'Cost of business start-up procedures (% of GNI per capita)'}, 'country': {'id': 'TD', 'value': 'Chad'}, 'countryiso3code': 'TCD', 'date': '1984', 'value': None, 'unit': '', 'obs_status': '', 'decimal': 1}, {'indicator': {'id': 'IC.REG.COST.PC.ZS', 'value': 'Cost of business start-up procedures (% of GNI per capita)'}, 'country': {'id': 'TD', 'value': 'Chad'}, 'countryiso3code': 'TCD', 'date': '1983', 'value': None, 'unit': '', 'obs_status': '', 'decimal': 1}, {'indicator': {'id': 'IC.REG.COST.PC.ZS', 'value': 'Cost of business start-up procedures (% of GNI per capita)'}, 'country': {'id': 'TD', 'value': 'Chad'}, 'countryiso3code': 'TCD', 'date': '1982', 'value': None, 'unit': '', 'obs_status': '', 'decimal': 1}, {'indicator': {'id': 'IC.REG.COST.PC.ZS', 'value': 'Cost of business start-up procedures (% of GNI per capita)'}, 'country': {'id': 'TD', 'value': 'Chad'}, 'countryiso3code': 'TCD', 'date': '1981', 'value': None, 'unit': '', 'obs_status': '', 'decimal': 1}, {'indicator': {'id': 'IC.REG.COST.PC.ZS', 'value': 'Cost of business start-up procedures (% of GNI per capita)'}, 'country': {'id': 'TD', 'value': 'Chad'}, 'countryiso3code': 'TCD', 'date': '1980', 'value': None, 'unit': '', 'obs_status': '', 'decimal': 1}, {'indicator': {'id': 'IC.REG.COST.PC.ZS', 'value': 'Cost of business start-up procedures (% of GNI per capita)'}, 'country': {'id': 'TD', 'value': 'Chad'}, 'countryiso3code': 'TCD', 'date': '1979', 'value': None, 'unit': '', 'obs_status': '', 'decimal': 1}, {'indicator': {'id': 'IC.REG.COST.PC.ZS', 'value': 'Cost of business start-up procedures (% of GNI per capita)'}, 'country': {'id': 'TD', 'value': 'Chad'}, 'countryiso3code': 'TCD', 'date': '1978', 'value': None, 'unit': '', 'obs_status': '', 'decimal': 1}, {'indicator': {'id': 'IC.REG.COST.PC.ZS', 'value': 'Cost of business start-up procedures (% of GNI per capita)'}, 'country': {'id': 'TD', 'value': 'Chad'}, 'countryiso3code': 'TCD', 'date': '1977', 'value': None, 'unit': '', 'obs_status': '', 'decimal': 1}, {'indicator': {'id': 'IC.REG.COST.PC.ZS', 'value': 'Cost of business start-up procedures (% of GNI per capita)'}, 'country': {'id': 'TD', 'value': 'Chad'}, 'countryiso3code': 'TCD', 'date': '1976', 'value': None, 'unit': '', 'obs_status': '', 'decimal': 1}, {'indicator': {'id': 'IC.REG.COST.PC.ZS', 'value': 'Cost of business start-up procedures (% of GNI per capita)'}, 'country': {'id': 'TD', 'value': 'Chad'}, 'countryiso3code': 'TCD', 'date': '1975', 'value': None, 'unit': '', 'obs_status': '', 'decimal': 1}, {'indicator': {'id': 'IC.REG.COST.PC.ZS', 'value': 'Cost of business start-up procedures (% of GNI per capita)'}, 'country': {'id': 'TD', 'value': 'Chad'}, 'countryiso3code': 'TCD', 'date': '1974', 'value': None, 'unit': '', 'obs_status': '', 'decimal': 1}, {'indicator': {'id': 'IC.REG.COST.PC.ZS', 'value': 'Cost of business start-up procedures (% of GNI per capita)'}, 'country': {'id': 'TD', 'value': 'Chad'}, 'countryiso3code': 'TCD', 'date': '1973', 'value': None, 'unit': '', 'obs_status': '', 'decimal': 1}, {'indicator': {'id': 'IC.REG.COST.PC.ZS', 'value': 'Cost of business start-up procedures (% of GNI per capita)'}, 'country': {'id': 'TD', 'value': 'Chad'}, 'countryiso3code': 'TCD', 'date': '1972', 'value': None, 'unit': '', 'obs_status': '', 'decimal': 1}, {'indicator': {'id': 'IC.REG.COST.PC.ZS', 'value': 'Cost of business start-up procedures (% of GNI per capita)'}, 'country': {'id': 'TD', 'value': 'Chad'}, 'countryiso3code': 'TCD', 'date': '1971', 'value': None, 'unit': '', 'obs_status': '', 'decimal': 1}]]\n",
            "WB_data_cost_TCD.json\n"
          ]
        },
        {
          "output_type": "display_data",
          "data": {
            "application/javascript": [
              "\n",
              "    async function download(id, filename, size) {\n",
              "      if (!google.colab.kernel.accessAllowed) {\n",
              "        return;\n",
              "      }\n",
              "      const div = document.createElement('div');\n",
              "      const label = document.createElement('label');\n",
              "      label.textContent = `Downloading \"${filename}\": `;\n",
              "      div.appendChild(label);\n",
              "      const progress = document.createElement('progress');\n",
              "      progress.max = size;\n",
              "      div.appendChild(progress);\n",
              "      document.body.appendChild(div);\n",
              "\n",
              "      const buffers = [];\n",
              "      let downloaded = 0;\n",
              "\n",
              "      const channel = await google.colab.kernel.comms.open(id);\n",
              "      // Send a message to notify the kernel that we're ready.\n",
              "      channel.send({})\n",
              "\n",
              "      for await (const message of channel.messages) {\n",
              "        // Send a message to notify the kernel that we're ready.\n",
              "        channel.send({})\n",
              "        if (message.buffers) {\n",
              "          for (const buffer of message.buffers) {\n",
              "            buffers.push(buffer);\n",
              "            downloaded += buffer.byteLength;\n",
              "            progress.value = downloaded;\n",
              "          }\n",
              "        }\n",
              "      }\n",
              "      const blob = new Blob(buffers, {type: 'application/binary'});\n",
              "      const a = document.createElement('a');\n",
              "      a.href = window.URL.createObjectURL(blob);\n",
              "      a.download = filename;\n",
              "      div.appendChild(a);\n",
              "      a.click();\n",
              "      div.remove();\n",
              "    }\n",
              "  "
            ],
            "text/plain": [
              "<IPython.core.display.Javascript object>"
            ]
          },
          "metadata": {}
        },
        {
          "output_type": "display_data",
          "data": {
            "application/javascript": [
              "download(\"download_95263103-e6fe-45e1-801d-c4c56c36f1d2\", \"WB_data_cost_TCD.json\", 23439)"
            ],
            "text/plain": [
              "<IPython.core.display.Javascript object>"
            ]
          },
          "metadata": {}
        }
      ]
    }
  ]
}