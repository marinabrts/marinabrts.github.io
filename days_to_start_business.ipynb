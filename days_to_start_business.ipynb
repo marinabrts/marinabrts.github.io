{
  "nbformat": 4,
  "nbformat_minor": 0,
  "metadata": {
    "colab": {
      "name": " days to start business.ipynb",
      "provenance": [],
      "collapsed_sections": [],
      "authorship_tag": "ABX9TyOgouKADstzMchLyBEpAbb1",
      "include_colab_link": true
    },
    "kernelspec": {
      "name": "python3",
      "display_name": "Python 3"
    },
    "language_info": {
      "name": "python"
    }
  },
  "cells": [
    {
      "cell_type": "markdown",
      "metadata": {
        "id": "view-in-github",
        "colab_type": "text"
      },
      "source": [
        "<a href=\"https://colab.research.google.com/github/marinabrts/marinabrts.github.io/blob/main/days_to_start_business.ipynb\" target=\"_parent\"><img src=\"https://colab.research.google.com/assets/colab-badge.svg\" alt=\"Open In Colab\"/></a>"
      ]
    },
    {
      "cell_type": "code",
      "metadata": {
        "id": "E3MjZ1ULnS2j"
      },
      "source": [
        "import requests, pandas as pd"
      ],
      "execution_count": null,
      "outputs": []
    },
    {
      "cell_type": "code",
      "metadata": {
        "id": "e_ZShPNdnVxk"
      },
      "source": [
        "url ='http://api.worldbank.org/v2/country/{}/indicator/IC.REG.DURS?date=2019&format=json'\n",
        "\n",
        "country = [\"CAN\",\"USA\",\"RUS\",\"CHN\",\"AUS\",\"BRA\",\"ISR\",\"BOL\",\"VEN\",\"EGY\",\n",
        "           \"NGA\",\"TCD\",\"ZAF\",\"GBR\",\"DNK\",\"DEU\",\"ESP\",\"EST\",\"ARE\",\"IRN\",\"IND\",\n",
        "           \"KAZ\",\"SGP\",\"THA\",\"IDN\"]\n",
        "\n",
        "html={}\n",
        "for i in country:\n",
        "  url_one = url.format(i)\n",
        "  html[i] = requests.get(url_one).json()"
      ],
      "execution_count": null,
      "outputs": []
    },
    {
      "cell_type": "code",
      "metadata": {
        "id": "_v0CUQfc7nAZ"
      },
      "source": [
        "my_values=[]\n",
        "for i in country:\n",
        "\n",
        "  value=html[i][1][0]['value']\n",
        "  my_values.append(value)"
      ],
      "execution_count": null,
      "outputs": []
    },
    {
      "cell_type": "code",
      "metadata": {
        "id": "To1hmlaI7toY"
      },
      "source": [
        "my_names=[]\n",
        "for i in country:\n",
        "  name=html[i][1][0]['country']['value']\n",
        "  my_names.append(name)"
      ],
      "execution_count": null,
      "outputs": []
    },
    {
      "cell_type": "code",
      "metadata": {
        "colab": {
          "base_uri": "https://localhost:8080/"
        },
        "id": "brp2odRW7vl7",
        "outputId": "ba06af73-d6fc-446c-dac5-c6c9b871c9c7"
      },
      "source": [
        "my_names"
      ],
      "execution_count": null,
      "outputs": [
        {
          "output_type": "execute_result",
          "data": {
            "text/plain": [
              "['Canada',\n",
              " 'United States',\n",
              " 'Russian Federation',\n",
              " 'China',\n",
              " 'Australia',\n",
              " 'Brazil',\n",
              " 'Israel',\n",
              " 'Bolivia',\n",
              " 'Venezuela, RB',\n",
              " 'Egypt, Arab Rep.',\n",
              " 'Nigeria',\n",
              " 'Chad',\n",
              " 'South Africa',\n",
              " 'United Kingdom',\n",
              " 'Denmark',\n",
              " 'Germany',\n",
              " 'Spain',\n",
              " 'Estonia',\n",
              " 'United Arab Emirates',\n",
              " 'Iran, Islamic Rep.',\n",
              " 'India',\n",
              " 'Kazakhstan',\n",
              " 'Singapore',\n",
              " 'Thailand',\n",
              " 'Indonesia']"
            ]
          },
          "metadata": {},
          "execution_count": 5
        }
      ]
    },
    {
      "cell_type": "code",
      "metadata": {
        "id": "4MLVEa48TLgD"
      },
      "source": [
        "df = pd.DataFrame(my_values, my_names)"
      ],
      "execution_count": null,
      "outputs": []
    },
    {
      "cell_type": "code",
      "metadata": {
        "id": "fVvQoke770Pv"
      },
      "source": [
        "df.columns=[\"Days\"]"
      ],
      "execution_count": null,
      "outputs": []
    },
    {
      "cell_type": "code",
      "metadata": {
        "colab": {
          "base_uri": "https://localhost:8080/",
          "height": 824
        },
        "id": "16cdMxFz75FU",
        "outputId": "b51e50a3-75c8-471d-cd9f-c25b5d99f4b4"
      },
      "source": [
        "df"
      ],
      "execution_count": null,
      "outputs": [
        {
          "output_type": "execute_result",
          "data": {
            "text/html": [
              "<div>\n",
              "<style scoped>\n",
              "    .dataframe tbody tr th:only-of-type {\n",
              "        vertical-align: middle;\n",
              "    }\n",
              "\n",
              "    .dataframe tbody tr th {\n",
              "        vertical-align: top;\n",
              "    }\n",
              "\n",
              "    .dataframe thead th {\n",
              "        text-align: right;\n",
              "    }\n",
              "</style>\n",
              "<table border=\"1\" class=\"dataframe\">\n",
              "  <thead>\n",
              "    <tr style=\"text-align: right;\">\n",
              "      <th></th>\n",
              "      <th>Days</th>\n",
              "    </tr>\n",
              "  </thead>\n",
              "  <tbody>\n",
              "    <tr>\n",
              "      <th>Canada</th>\n",
              "      <td>1.5</td>\n",
              "    </tr>\n",
              "    <tr>\n",
              "      <th>United States</th>\n",
              "      <td>4.2</td>\n",
              "    </tr>\n",
              "    <tr>\n",
              "      <th>Russian Federation</th>\n",
              "      <td>10.1</td>\n",
              "    </tr>\n",
              "    <tr>\n",
              "      <th>China</th>\n",
              "      <td>8.5</td>\n",
              "    </tr>\n",
              "    <tr>\n",
              "      <th>Australia</th>\n",
              "      <td>2.0</td>\n",
              "    </tr>\n",
              "    <tr>\n",
              "      <th>Brazil</th>\n",
              "      <td>16.6</td>\n",
              "    </tr>\n",
              "    <tr>\n",
              "      <th>Israel</th>\n",
              "      <td>11.0</td>\n",
              "    </tr>\n",
              "    <tr>\n",
              "      <th>Bolivia</th>\n",
              "      <td>39.5</td>\n",
              "    </tr>\n",
              "    <tr>\n",
              "      <th>Venezuela, RB</th>\n",
              "      <td>230.0</td>\n",
              "    </tr>\n",
              "    <tr>\n",
              "      <th>Egypt, Arab Rep.</th>\n",
              "      <td>12.5</td>\n",
              "    </tr>\n",
              "    <tr>\n",
              "      <th>Nigeria</th>\n",
              "      <td>7.2</td>\n",
              "    </tr>\n",
              "    <tr>\n",
              "      <th>Chad</th>\n",
              "      <td>58.0</td>\n",
              "    </tr>\n",
              "    <tr>\n",
              "      <th>South Africa</th>\n",
              "      <td>40.0</td>\n",
              "    </tr>\n",
              "    <tr>\n",
              "      <th>United Kingdom</th>\n",
              "      <td>4.5</td>\n",
              "    </tr>\n",
              "    <tr>\n",
              "      <th>Denmark</th>\n",
              "      <td>3.5</td>\n",
              "    </tr>\n",
              "    <tr>\n",
              "      <th>Germany</th>\n",
              "      <td>8.0</td>\n",
              "    </tr>\n",
              "    <tr>\n",
              "      <th>Spain</th>\n",
              "      <td>12.5</td>\n",
              "    </tr>\n",
              "    <tr>\n",
              "      <th>Estonia</th>\n",
              "      <td>3.5</td>\n",
              "    </tr>\n",
              "    <tr>\n",
              "      <th>United Arab Emirates</th>\n",
              "      <td>3.8</td>\n",
              "    </tr>\n",
              "    <tr>\n",
              "      <th>Iran, Islamic Rep.</th>\n",
              "      <td>72.5</td>\n",
              "    </tr>\n",
              "    <tr>\n",
              "      <th>India</th>\n",
              "      <td>17.5</td>\n",
              "    </tr>\n",
              "    <tr>\n",
              "      <th>Kazakhstan</th>\n",
              "      <td>5.0</td>\n",
              "    </tr>\n",
              "    <tr>\n",
              "      <th>Singapore</th>\n",
              "      <td>1.5</td>\n",
              "    </tr>\n",
              "    <tr>\n",
              "      <th>Thailand</th>\n",
              "      <td>6.0</td>\n",
              "    </tr>\n",
              "    <tr>\n",
              "      <th>Indonesia</th>\n",
              "      <td>12.6</td>\n",
              "    </tr>\n",
              "  </tbody>\n",
              "</table>\n",
              "</div>"
            ],
            "text/plain": [
              "                       Days\n",
              "Canada                  1.5\n",
              "United States           4.2\n",
              "Russian Federation     10.1\n",
              "China                   8.5\n",
              "Australia               2.0\n",
              "Brazil                 16.6\n",
              "Israel                 11.0\n",
              "Bolivia                39.5\n",
              "Venezuela, RB         230.0\n",
              "Egypt, Arab Rep.       12.5\n",
              "Nigeria                 7.2\n",
              "Chad                   58.0\n",
              "South Africa           40.0\n",
              "United Kingdom          4.5\n",
              "Denmark                 3.5\n",
              "Germany                 8.0\n",
              "Spain                  12.5\n",
              "Estonia                 3.5\n",
              "United Arab Emirates    3.8\n",
              "Iran, Islamic Rep.     72.5\n",
              "India                  17.5\n",
              "Kazakhstan              5.0\n",
              "Singapore               1.5\n",
              "Thailand                6.0\n",
              "Indonesia              12.6"
            ]
          },
          "metadata": {},
          "execution_count": 11
        }
      ]
    },
    {
      "cell_type": "code",
      "metadata": {
        "id": "vkPiWeBc77FN"
      },
      "source": [
        "df.to_csv('days_csv')"
      ],
      "execution_count": null,
      "outputs": []
    },
    {
      "cell_type": "code",
      "metadata": {
        "colab": {
          "base_uri": "https://localhost:8080/",
          "height": 17
        },
        "id": "_rilI6pOAe0g",
        "outputId": "77e2e688-3cd7-4950-e4b0-a80d49fde6e9"
      },
      "source": [
        "from google.colab import files\n",
        "files.download(\"days_csv\")"
      ],
      "execution_count": null,
      "outputs": [
        {
          "output_type": "display_data",
          "data": {
            "application/javascript": [
              "\n",
              "    async function download(id, filename, size) {\n",
              "      if (!google.colab.kernel.accessAllowed) {\n",
              "        return;\n",
              "      }\n",
              "      const div = document.createElement('div');\n",
              "      const label = document.createElement('label');\n",
              "      label.textContent = `Downloading \"${filename}\": `;\n",
              "      div.appendChild(label);\n",
              "      const progress = document.createElement('progress');\n",
              "      progress.max = size;\n",
              "      div.appendChild(progress);\n",
              "      document.body.appendChild(div);\n",
              "\n",
              "      const buffers = [];\n",
              "      let downloaded = 0;\n",
              "\n",
              "      const channel = await google.colab.kernel.comms.open(id);\n",
              "      // Send a message to notify the kernel that we're ready.\n",
              "      channel.send({})\n",
              "\n",
              "      for await (const message of channel.messages) {\n",
              "        // Send a message to notify the kernel that we're ready.\n",
              "        channel.send({})\n",
              "        if (message.buffers) {\n",
              "          for (const buffer of message.buffers) {\n",
              "            buffers.push(buffer);\n",
              "            downloaded += buffer.byteLength;\n",
              "            progress.value = downloaded;\n",
              "          }\n",
              "        }\n",
              "      }\n",
              "      const blob = new Blob(buffers, {type: 'application/binary'});\n",
              "      const a = document.createElement('a');\n",
              "      a.href = window.URL.createObjectURL(blob);\n",
              "      a.download = filename;\n",
              "      div.appendChild(a);\n",
              "      a.click();\n",
              "      div.remove();\n",
              "    }\n",
              "  "
            ],
            "text/plain": [
              "<IPython.core.display.Javascript object>"
            ]
          },
          "metadata": {}
        },
        {
          "output_type": "display_data",
          "data": {
            "application/javascript": [
              "download(\"download_66361ebd-0d6c-4fc6-9ee1-237ed93aa5c1\", \"days_csv\", 391)"
            ],
            "text/plain": [
              "<IPython.core.display.Javascript object>"
            ]
          },
          "metadata": {}
        }
      ]
    },
    {
      "cell_type": "code",
      "metadata": {
        "id": "iG22iBhAAfUH"
      },
      "source": [
        ""
      ],
      "execution_count": null,
      "outputs": []
    }
  ]
}